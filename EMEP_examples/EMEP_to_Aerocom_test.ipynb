{
 "cells": [
  {
   "cell_type": "code",
   "execution_count": 3,
   "metadata": {},
   "outputs": [],
   "source": [
    "import xarray as xr\n",
    "import os\n",
    "import glob\n",
    "import pyaerocom as pya\n",
    "from pyaerocom.io.readgridded import ReadGridded\n",
    "from IPython.core.interactiveshell import InteractiveShell\n",
    "InteractiveShell.ast_node_interactivity = \"all\"\n",
    "import warnings\n",
    "import numpy as np\n",
    "warnings.filterwarnings('ignore')"
   ]
  },
  {
   "cell_type": "code",
   "execution_count": 4,
   "metadata": {},
   "outputs": [],
   "source": [
    "# Setup directories and readers\n",
    "# Control: files converted with EMEP bash script\n",
    "# Convert: files converted with ReadEMEP\n",
    "\n",
    "## Lustre\n",
    "control_dir = '/lustre/storeA/project/aerocom/aerocom-users-database/AEROCOM-PHASE-III-2019/EMEPrv4.33-met2010_HIST/renamed'\n",
    "convert_dir = '' # out_dir from EMEP_to_Aerocom\n",
    "\n",
    "## Locally\n",
    "# control_dir = '/home/eirikg/Desktop/pyaerocom/data/2020_AerocomHIST/control'\n",
    "# convert_dir = '/home/eirikg/Desktop/pyaerocom/data/2020_AerocomHIST/processed'\n",
    "data_id = \"EMEPrv4.33-met2010\"\n",
    "control_reader = ReadGridded(data_dir=control_dir, data_id=data_id+'-control')\n",
    "convert_reader = ReadGridded(data_dir=convert_dir, data_id=data_id+'-converted')"
   ]
  },
  {
   "cell_type": "code",
   "execution_count": 15,
   "metadata": {},
   "outputs": [],
   "source": [
    "# Check which variables are available, print every variable missing from converted files\n",
    "var_in_both = []\n",
    "\n",
    "for variable in control_reader.vars_provided:\n",
    "    if variable not in convert_reader.vars_provided:\n",
    "        print('Variable: {} missing from converted files.'.format(variable))\n",
    "    else:\n",
    "        var_in_both.append(variable)"
   ]
  },
  {
   "cell_type": "code",
   "execution_count": 26,
   "metadata": {},
   "outputs": [],
   "source": [
    "results = {}\n",
    "\n",
    "def compare(control, convert, time=0):\n",
    "    \"\"\"\n",
    "    Checks that the values for a given time in control and convert are relatively close (tol)\n",
    "    \"\"\"\n",
    "    \n",
    "    result = []\n",
    "    diff = control.isel(time=time).values - convert.isel(time=time)\n",
    "    mintest = float(diff.min()) == 0\n",
    "    maxtest = float(diff.max()) == 0\n",
    "    result = (mintest and maxtest)\n",
    "    return result"
   ]
  },
  {
   "cell_type": "code",
   "execution_count": 27,
   "metadata": {},
   "outputs": [
    {
     "name": "stderr",
     "output_type": "stream",
     "text": [
      "WARNING: Failed to merge Cube metadata. Error: ValueError('The truth value of an array with more than one element is ambiguous. Use a.any() or a.all()')\n",
      "WARNING: Failed to merge Cube metadata. Error: ValueError('The truth value of an array with more than one element is ambiguous. Use a.any() or a.all()')\n"
     ]
    }
   ],
   "source": [
    "# Loop through all variables and compare \n",
    "for variable in var_in_both:\n",
    "    control = control_reader.read_var(variable).to_xarray().load()\n",
    "    convert = convert_reader.read_var(variable).to_xarray().load()\n",
    "    if variable[0:3] in ['dry', 'wet']: # Dry and wet deposition have been converted to kg m-2 s-1\n",
    "#         continue\n",
    "        # Will fail because of unit change\n",
    "        result = compare(control, convert)\n",
    "    else:\n",
    "        result = compare(control, convert)\n",
    "    results[variable] = result"
   ]
  },
  {
   "cell_type": "code",
   "execution_count": 30,
   "metadata": {},
   "outputs": [
    {
     "name": "stdout",
     "output_type": "stream",
     "text": [
      "drybc : control different from converted\n",
      "drydust : control different from converted\n",
      "drynh4 : control different from converted\n",
      "dryno3 : control different from converted\n",
      "dryoa : control different from converted\n",
      "dryso2 : control different from converted\n",
      "dryso4 : control different from converted\n",
      "dryss : control different from converted\n",
      "wetbc : control different from converted\n",
      "wetdust : control different from converted\n",
      "wetnh4 : control different from converted\n",
      "wetno3 : control different from converted\n",
      "wetoa : control different from converted\n",
      "wetoxn : control different from converted\n",
      "wetrdn : control different from converted\n",
      "wetso2 : control different from converted\n",
      "wetso4 : control different from converted\n",
      "wetsox : control different from converted\n",
      "wetss : control different from converted\n"
     ]
    }
   ],
   "source": [
    "# Print variables that failed the test\n",
    "for key in results.keys():\n",
    "    res = results[key]\n",
    "    if res == False:\n",
    "        print(key, ': control different from converted')"
   ]
  }
 ],
 "metadata": {
  "kernelspec": {
   "display_name": "Python 3",
   "language": "python",
   "name": "python3"
  },
  "language_info": {
   "codemirror_mode": {
    "name": "ipython",
    "version": 3
   },
   "file_extension": ".py",
   "mimetype": "text/x-python",
   "name": "python",
   "nbconvert_exporter": "python",
   "pygments_lexer": "ipython3",
   "version": "3.7.6"
  }
 },
 "nbformat": 4,
 "nbformat_minor": 4
}
