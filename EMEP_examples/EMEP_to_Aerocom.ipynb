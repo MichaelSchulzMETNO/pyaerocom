{
 "cells": [
  {
   "cell_type": "code",
   "execution_count": 2,
   "metadata": {},
   "outputs": [],
   "source": [
    "import pyaerocom as pya\n",
    "from pyaerocom.io.read_emep import ReadEMEP\n",
    "import glob\n",
    "import os\n",
    "import xarray as xr"
   ]
  },
  {
   "cell_type": "code",
   "execution_count": 5,
   "metadata": {},
   "outputs": [],
   "source": [
    "data_id = 'EMEPrv4.33-met2010'\n",
    "\n",
    "## Lustre\n",
    "# base = '/lustre/storeB/project/fou/kl/emep/ModelRuns/2020_AerocomHIST' # Directory containing files to be converted\n",
    "# # Not sure where to store temporary files at lustre # out_dir = '' # Directory for storing converted files\n",
    "\n",
    "## Locally\n",
    "base = '/home/eirikg/Desktop/pyaerocom/data/2020_AerocomHIST/' # Directory containing files to be converted\n",
    "out_dir = os.path.join(base, 'processed') # Directory for storing converted files\n",
    "\n",
    "if not os.path.exists(out_dir):\n",
    "   os.mkdir(out_dir)"
   ]
  },
  {
   "cell_type": "code",
   "execution_count": 8,
   "metadata": {},
   "outputs": [],
   "source": [
    "# Get list of all directories in base\n",
    "files = os.listdir(base)\n",
    "dirs = []\n",
    "for file in files:\n",
    "    if os.path.isdir(base + file):\n",
    "        if len(file.split('_')) == 3:\n",
    "            dirs.append(file)"
   ]
  },
  {
   "cell_type": "code",
   "execution_count": 11,
   "metadata": {},
   "outputs": [],
   "source": [
    "## Available years\n",
    "years = []\n",
    "for directory in dirs:\n",
    "    years.append(int(directory.split('_')[0]))"
   ]
  },
  {
   "cell_type": "code",
   "execution_count": 13,
   "metadata": {},
   "outputs": [],
   "source": [
    "# Select first folder and its monthly resolution file, and get year from folder name\n",
    "file = os.path.join(base + dirs[0], 'Base_month.nc')\n",
    "year = int(dirs[0].split('_')[0])"
   ]
  },
  {
   "cell_type": "code",
   "execution_count": 25,
   "metadata": {},
   "outputs": [],
   "source": [
    "# Create reader. var_file contains the mapping from EMEP -> Aerocom\n",
    "reader = ReadEMEP(file, data_id=data_id, var_file=os.path.join(base, 'vars_sorted.sh'))"
   ]
  },
  {
   "cell_type": "code",
   "execution_count": 9,
   "metadata": {},
   "outputs": [],
   "source": [
    "# List all unique EMEP variable prefixes\n",
    "aero_emep = reader.map_aero_emep()\n",
    "types = []\n",
    "for key, val in aero_emep.items():\n",
    "    type_emep = (val.split('_')[0])\n",
    "    if type_emep not in types:\n",
    "        types.append(type_emep)"
   ]
  },
  {
   "cell_type": "code",
   "execution_count": 24,
   "metadata": {},
   "outputs": [],
   "source": [
    "# Map EMEP variable prefix to vertical type\n",
    "map_prefix_aero = {'AOD': 'Column' ,'AAOD' : 'Column', 'Abs_coeff': 'ModelLevel',\n",
    "                   'AbsCoeff': 'ModelLevel',\n",
    "                   'DDEP': 'Surface', 'Emis': 'Surface',\n",
    "                   'COLUMN': 'Column', 'D3': 'ModelLevel',\n",
    "                   'SURF': 'Surface', 'WDEP': 'Surface',\n",
    "                  'z3d': 'Surface',\n",
    "                  'Z': 'Surface'}\n",
    "\n",
    "# Aerocom -> EMEP variable mapping\n",
    "map_aero_emep = reader.map_aero_emep()"
   ]
  },
  {
   "cell_type": "code",
   "execution_count": 14,
   "metadata": {},
   "outputs": [
    {
     "ename": "NameError",
     "evalue": "name 'map_aero_emep' is not defined",
     "output_type": "error",
     "traceback": [
      "\u001b[0;31m---------------------------------------------------------------------------\u001b[0m",
      "\u001b[0;31mNameError\u001b[0m                                 Traceback (most recent call last)",
      "\u001b[0;32m<ipython-input-14-2433cb193a18>\u001b[0m in \u001b[0;36m<module>\u001b[0;34m\u001b[0m\n\u001b[1;32m      1\u001b[0m \u001b[0;31m# Loop through all known variables and stores in Aerocom format\u001b[0m\u001b[0;34m\u001b[0m\u001b[0;34m\u001b[0m\u001b[0;34m\u001b[0m\u001b[0m\n\u001b[1;32m      2\u001b[0m \u001b[0;34m\u001b[0m\u001b[0m\n\u001b[0;32m----> 3\u001b[0;31m \u001b[0;32mfor\u001b[0m \u001b[0mkey\u001b[0m\u001b[0;34m,\u001b[0m \u001b[0mvar\u001b[0m \u001b[0;32min\u001b[0m \u001b[0mmap_aero_emep\u001b[0m\u001b[0;34m.\u001b[0m\u001b[0mitems\u001b[0m\u001b[0;34m(\u001b[0m\u001b[0;34m)\u001b[0m\u001b[0;34m:\u001b[0m\u001b[0;34m\u001b[0m\u001b[0;34m\u001b[0m\u001b[0m\n\u001b[0m\u001b[1;32m      4\u001b[0m     \u001b[0mprint\u001b[0m\u001b[0;34m(\u001b[0m\u001b[0;34m'Converting {} / {}\\n'\u001b[0m\u001b[0;34m.\u001b[0m\u001b[0mformat\u001b[0m\u001b[0;34m(\u001b[0m\u001b[0mkey\u001b[0m\u001b[0;34m,\u001b[0m \u001b[0mvar\u001b[0m\u001b[0;34m)\u001b[0m\u001b[0;34m)\u001b[0m\u001b[0;34m\u001b[0m\u001b[0;34m\u001b[0m\u001b[0m\n\u001b[1;32m      5\u001b[0m     \u001b[0;31m# Load data\u001b[0m\u001b[0;34m\u001b[0m\u001b[0;34m\u001b[0m\u001b[0;34m\u001b[0m\u001b[0m\n",
      "\u001b[0;31mNameError\u001b[0m: name 'map_aero_emep' is not defined"
     ]
    }
   ],
   "source": [
    "# Loop through all known variables and stores in Aerocom format\n",
    "\n",
    "for key, var in map_aero_emep.items():\n",
    "    print('Converting {} / {}\\n'.format(key, var))\n",
    "    # Load data\n",
    "    try:\n",
    "        data = reader.read_var(key, ts_type='monthly')\n",
    "    except KeyError as e:\n",
    "        print('{} not found in EMEP'.format(key))\n",
    "        print(repr(e))\n",
    "        continue\n",
    "    except ValueError as e:\n",
    "        print(repr(e))\n",
    "        continue\n",
    "    data.change_base_year(year - 110) # Change year to match emission year\n",
    "    # Infer vertical coordinate from variable naming\n",
    "    type_emep = (var.split('_')[0])\n",
    "    vert_code = map_prefix_aero[type_emep]\n",
    "    data.to_netcdf(out_dir, vert_code=vert_code);\n",
    "    print('\\n')"
   ]
  }
 ],
 "metadata": {
  "kernelspec": {
   "display_name": "Python 3",
   "language": "python",
   "name": "python3"
  },
  "language_info": {
   "codemirror_mode": {
    "name": "ipython",
    "version": 3
   },
   "file_extension": ".py",
   "mimetype": "text/x-python",
   "name": "python",
   "nbconvert_exporter": "python",
   "pygments_lexer": "ipython3",
   "version": "3.7.6"
  }
 },
 "nbformat": 4,
 "nbformat_minor": 4
}
