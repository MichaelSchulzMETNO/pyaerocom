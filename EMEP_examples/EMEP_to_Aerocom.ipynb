{
 "cells": [
  {
   "cell_type": "code",
   "execution_count": null,
   "metadata": {},
   "outputs": [],
   "source": [
    "import pyaerocom as pya\n",
    "from pyaerocom.io.read_emep import ReadEMEP\n",
    "from pyaerocom.variable import get_emep_variables\n",
    "from pyaerocom.io.readgridded import ReadGridded\n",
    "\n",
    "import glob\n",
    "import os\n",
    "import xarray as xr"
   ]
  },
  {
   "cell_type": "code",
   "execution_count": null,
   "metadata": {},
   "outputs": [],
   "source": [
    "# Mapping of ts_type to EMEP filenames\n",
    "ts_type_EMEP_filename = {'daily':'Base_day.nc', 'monthly':'Base_month.nc', 'yearly': 'Base_fullrun.nc'}\n",
    "\n",
    "# Map of EMEP variable prefix to vertical type used for storing nc files\n",
    "map_prefix_aero = {'AOD': 'Column' ,'AAOD' : 'Column', 'Abs_coeff': 'ModelLevel',\n",
    "                   'AbsCoeff': 'ModelLevel',\n",
    "                   'DDEP': 'Surface', 'Emis': 'Surface',\n",
    "                   'COLUMN': 'Column', 'D3': 'ModelLevel',\n",
    "                   'SURF': 'Surface', 'WDEP': 'Surface',\n",
    "                  'z3d': 'Surface',\n",
    "                  'Z': 'Surface'}\n",
    "\n",
    "\n",
    "\n",
    "def EMEP_to_aerocom(in_folder, out_folder, ts_type, year, data_id, filename=None):\n",
    "    \"\"\"\n",
    "    Converts all (known) variables from in_folder/filename to Aerocom format in out_folder.\n",
    "    \"\"\"\n",
    "    \n",
    "    if filename == None:\n",
    "        try:\n",
    "            filename = ts_type_EMEP_filename[ts_type]\n",
    "        except KeyError as e:\n",
    "            print('ts_type not recognized')\n",
    "            #exit\n",
    "    \n",
    "    filepath = os.path.join(in_folder, filename)\n",
    "\n",
    "    \n",
    "    if not (os.path.isdir(in_folder) and os.path.isdir(out_folder)):\n",
    "        raise FileNotFoundError('in_folder or out_folder is not a folder')\n",
    "        # exit ?\n",
    "    if not os.path.isfile(filepath):\n",
    "        raise FileNotFoundError('File to be converted not found: {}'.format(filepath))\n",
    "        # exit?\n",
    "        \n",
    "    reader = ReadEMEP(filepath, data_id=data_id)\n",
    "    for key, var in get_emep_variables().items():\n",
    "#         print('Converting {} / {}'.format(key, var))\n",
    "        # Load data\n",
    "        try:\n",
    "            data = reader.read_var(key, ts_type=ts_type)\n",
    "        except KeyError as e:\n",
    "#             print('{} not found in {} EMEP files\\n'.format(key, ts_type))\n",
    "            continue\n",
    "        except ValueError as e:\n",
    "            print(repr(e))\n",
    "            continue\n",
    "        data.change_base_year(year) # Change year to match emission year\n",
    "        data.time.long_name='Time'\n",
    "        data.time.var_name='time'\n",
    "\n",
    "        # Infer vertical coordinate from variable naming\n",
    "        type_emep = (var.split('_')[0])\n",
    "        vert_code = map_prefix_aero[type_emep]\n",
    "        data.to_netcdf(out_folder, vert_code=vert_code);\n",
    "\n",
    "        \n",
    "        \n",
    "def compare(control, convert, time=0):\n",
    "    \"\"\"\n",
    "    Checks that the values for a given time index in control and convert are the same.\n",
    "    Control and convert are xarray DataArrays\n",
    "    \n",
    "    Returns True if there are no differences.\n",
    "    \"\"\"\n",
    "    \n",
    "    result = []\n",
    "    diff = control.isel(time=time).values - convert.isel(time=time)\n",
    "    mintest = float(diff.min()) == 0\n",
    "    maxtest = float(diff.max()) == 0\n",
    "    result = (mintest and maxtest)\n",
    "    return result\n",
    "\n",
    "def run_compare(ts_type, year, alltimes=False):\n",
    "    # Loop through all variables and compare\n",
    "    # If alltimes = True -> check all timesteps\n",
    "    results = {}\n",
    "    year = 1950\n",
    "    ts_type='monthly'\n",
    "    for variable in var_in_both:\n",
    "        control = control_reader.read_var(variable, start=year, ts_type=ts_type).to_xarray().load()\n",
    "        convert = convert_reader.read_var(variable, start=year, ts_type=ts_type).to_xarray().load()\n",
    "        if variable[0:3] in ['dry', 'wet']: # Dry and wet deposition have been converted to kg m-2 s-1\n",
    "            # Will fail because units has been changed\n",
    "            continue\n",
    "    #         result = compare(control, convert)\n",
    "        else:\n",
    "            if alltimes:\n",
    "                for i in range(0, len(control.time)):\n",
    "                    result = compare(control, convert, time=i)\n",
    "                    results['{}_time_{}'.format(variable, i)] = result\n",
    "            else:\n",
    "                results[variable] = compare(control, convert)\n",
    "    return results"
   ]
  },
  {
   "cell_type": "markdown",
   "metadata": {},
   "source": [
    "## Conversion settings"
   ]
  },
  {
   "cell_type": "code",
   "execution_count": null,
   "metadata": {},
   "outputs": [],
   "source": [
    "basepath = '/home/eirikg/Desktop/pyaerocom/data/2020_AerocomHIST/'\n",
    "store = '/home/eirikg/Desktop/pyaerocom/data/2020_AerocomHIST/processed'\n",
    "data_id = 'EMEP-met2010'\n",
    "\n",
    "years = [1950]\n",
    "ts_types = ['montly']\n",
    "paths = [os.path.join(basepath, '{}_GLOB1_2010met'.format(year)) for year in years]"
   ]
  },
  {
   "cell_type": "markdown",
   "metadata": {},
   "source": [
    "## Convert files"
   ]
  },
  {
   "cell_type": "code",
   "execution_count": null,
   "metadata": {
    "scrolled": true
   },
   "outputs": [],
   "source": [
    "for ts_type in ts_types:\n",
    "    for (path, year) in  zip(paths, years):\n",
    "        EMEP_to_aerocom(path, store, ts_type, year, data_id)"
   ]
  },
  {
   "cell_type": "markdown",
   "metadata": {},
   "source": [
    "## Check converted files"
   ]
  },
  {
   "cell_type": "code",
   "execution_count": null,
   "metadata": {},
   "outputs": [],
   "source": [
    "# Setup directories and readers\n",
    "# Control: files converted with EMEP bash script\n",
    "# Convert: files converted with ReadEMEP\n",
    "\n",
    "## Lustre\n",
    "# control_dir = '/lustre/storeA/project/aerocom/aerocom-users-database/AEROCOM-PHASE-III-2019/EMEPrv4.33-met2010_HIST/renamed'\n",
    "# convert_dir = store\n",
    "\n",
    "## Locally\n",
    "control_dir = '/home/eirikg/Desktop/pyaerocom/data/2020_AerocomHIST/control'\n",
    "convert_dir = store\n",
    "data_id = \"EMEPrv4.33-met2010\"\n",
    "control_reader = ReadGridded(data_dir=control_dir, data_id=data_id+'-control')\n",
    "convert_reader = ReadGridded(data_dir=convert_dir, data_id=data_id+'-converted')"
   ]
  },
  {
   "cell_type": "code",
   "execution_count": null,
   "metadata": {},
   "outputs": [],
   "source": [
    "# Try reading the converted files\n",
    "for variable in convert_reader.vars_provided:\n",
    "    convert_reader.read_var(variable)"
   ]
  },
  {
   "cell_type": "code",
   "execution_count": null,
   "metadata": {},
   "outputs": [],
   "source": [
    "# Check which variables are available, print every variable missing from converted files\n",
    "var_in_both = []\n",
    "\n",
    "for variable in control_reader.vars_provided:\n",
    "    if variable not in convert_reader.vars_provided:\n",
    "        print('Variable: {} missing from converted files.'.format(variable))\n",
    "    else:\n",
    "        var_in_both.append(variable)"
   ]
  },
  {
   "cell_type": "code",
   "execution_count": null,
   "metadata": {},
   "outputs": [],
   "source": [
    "results = run_compare('monthly', 1950, alltimes=True)"
   ]
  },
  {
   "cell_type": "code",
   "execution_count": null,
   "metadata": {},
   "outputs": [],
   "source": [
    "results"
   ]
  }
 ],
 "metadata": {
  "kernelspec": {
   "display_name": "Python 3",
   "language": "python",
   "name": "python3"
  },
  "language_info": {
   "codemirror_mode": {
    "name": "ipython",
    "version": 3
   },
   "file_extension": ".py",
   "mimetype": "text/x-python",
   "name": "python",
   "nbconvert_exporter": "python",
   "pygments_lexer": "ipython3",
   "version": "3.7.6"
  }
 },
 "nbformat": 4,
 "nbformat_minor": 4
}
