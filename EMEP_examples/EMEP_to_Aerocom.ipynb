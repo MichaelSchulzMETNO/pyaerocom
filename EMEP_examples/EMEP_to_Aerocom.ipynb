{
 "cells": [
  {
   "cell_type": "code",
   "execution_count": 1,
   "metadata": {},
   "outputs": [],
   "source": [
    "import pyaerocom as pya\n",
    "from pyaerocom.io.read_emep import ReadEMEP\n",
    "from pyaerocom.variable import get_emep_variables\n",
    "import glob\n",
    "import os\n",
    "import xarray as xr"
   ]
  },
  {
   "cell_type": "code",
   "execution_count": 10,
   "metadata": {},
   "outputs": [],
   "source": [
    "data_id = 'EMEPrv4.33-met2010'\n",
    "\n",
    "## Lustre\n",
    "# base = '/lustre/storeB/project/fou/kl/emep/ModelRuns/2020_AerocomHIST' # Directory containing files to be converted\n",
    "# # Not sure where to store temporary files at lustre # out_dir = '' # Directory for storing converted files\n",
    "\n",
    "## Locally\n",
    "base = '/home/eirikg/Desktop/pyaerocom/data/2020_AerocomHIST/' # Directory containing files to be converted\n",
    "out_dir = os.path.join(base, 'processed') # Directory for storing converted files\n",
    "\n",
    "# Set file and ts_type\n",
    "# filename = 'Base_day.nc'\n",
    "filename = 'Base_month.nc'\n",
    "# ts_type = 'daily'\n",
    "ts_type = 'monthly'\n",
    "\n",
    "if not os.path.exists(out_dir):\n",
    "   os.mkdir(out_dir)"
   ]
  },
  {
   "cell_type": "code",
   "execution_count": 3,
   "metadata": {},
   "outputs": [],
   "source": [
    "# Get list of all directories in base\n",
    "files = os.listdir(base)\n",
    "dirs = []\n",
    "for file in files:\n",
    "    if os.path.isdir(base + file):\n",
    "        if len(file.split('_')) == 3:\n",
    "            dirs.append(file)"
   ]
  },
  {
   "cell_type": "code",
   "execution_count": 4,
   "metadata": {},
   "outputs": [],
   "source": [
    "## Available years\n",
    "years = []\n",
    "for directory in dirs:\n",
    "    years.append(int(directory.split('_')[0]))"
   ]
  },
  {
   "cell_type": "code",
   "execution_count": 5,
   "metadata": {},
   "outputs": [],
   "source": [
    "# Select first folder and its monthly resolution file, and get year from folder name\n",
    "file = os.path.join(base + dirs[0], filename)\n",
    "year = int(dirs[0].split('_')[0])"
   ]
  },
  {
   "cell_type": "code",
   "execution_count": 6,
   "metadata": {},
   "outputs": [],
   "source": [
    "# Create reader. var_file contains the mapping from EMEP -> Aerocom\n",
    "reader = ReadEMEP(file, data_id=data_id, var_file=os.path.join(base, 'vars_sorted.sh'))"
   ]
  },
  {
   "cell_type": "code",
   "execution_count": 7,
   "metadata": {},
   "outputs": [],
   "source": [
    "# List all unique EMEP variable prefixes\n",
    "aero_emep = get_emep_variables()\n",
    "types = []\n",
    "for key, val in aero_emep.items():\n",
    "    type_emep = (val.split('_')[0])\n",
    "    if type_emep not in types:\n",
    "        types.append(type_emep)"
   ]
  },
  {
   "cell_type": "code",
   "execution_count": 8,
   "metadata": {},
   "outputs": [],
   "source": [
    "# Map EMEP variable prefix to vertical type\n",
    "map_prefix_aero = {'AOD': 'Column' ,'AAOD' : 'Column', 'Abs_coeff': 'ModelLevel',\n",
    "                   'AbsCoeff': 'ModelLevel',\n",
    "                   'DDEP': 'Surface', 'Emis': 'Surface',\n",
    "                   'COLUMN': 'Column', 'D3': 'ModelLevel',\n",
    "                   'SURF': 'Surface', 'WDEP': 'Surface',\n",
    "                  'z3d': 'Surface',\n",
    "                  'Z': 'Surface'}"
   ]
  },
  {
   "cell_type": "code",
   "execution_count": 9,
   "metadata": {},
   "outputs": [
    {
     "name": "stdout",
     "output_type": "stream",
     "text": [
      "Converting abs550aer / AAOD_550nm\n",
      "\n",
      "abs550aer not found in EMEP\n",
      "KeyError('AAOD_550nm')\n",
      "Converting abs550bc / AAOD_EC_550nm\n",
      "\n",
      "abs550bc not found in EMEP\n",
      "KeyError('AAOD_EC_550nm')\n",
      "Converting absc550aer / AbsCoeff\n",
      "\n",
      "absc550aer not found in EMEP\n",
      "KeyError('AbsCoeff')\n",
      "Converting absc550dryaer / AbsCoeff\n",
      "\n",
      "absc550dryaer not found in EMEP\n",
      "KeyError('AbsCoeff')\n",
      "Converting drybc / DDEP_EC_m2Grid\n",
      "\n",
      "drybc not found in EMEP\n",
      "KeyError('DDEP_EC_m2Grid')\n",
      "Converting drydust / DDEP_DUST_m2Grid\n",
      "\n",
      "drydust not found in EMEP\n",
      "KeyError('DDEP_DUST_m2Grid')\n",
      "Converting drynh4 / DDEP_NH4_f_m2Grid\n",
      "\n",
      "drynh4 not found in EMEP\n",
      "KeyError('DDEP_NH4_f_m2Grid')\n",
      "Converting dryno3 / DDEP_TNO3_m2Grid\n",
      "\n",
      "dryno3 not found in EMEP\n",
      "KeyError('DDEP_TNO3_m2Grid')\n",
      "Converting dryoa / DDEP_OM25_m2Grid\n",
      "\n",
      "dryoa not found in EMEP\n",
      "KeyError('DDEP_OM25_m2Grid')\n",
      "Converting dryso2 / DDEP_SO2_m2Grid\n",
      "\n",
      "dryso2 not found in EMEP\n",
      "KeyError('DDEP_SO2_m2Grid')\n",
      "Converting dryso4 / DDEP_SO4_m2Grid\n",
      "\n",
      "dryso4 not found in EMEP\n",
      "KeyError('DDEP_SO4_m2Grid')\n",
      "Converting dryss / DDEP_SS_m2Grid\n",
      "\n",
      "dryss not found in EMEP\n",
      "KeyError('DDEP_SS_m2Grid')\n",
      "Converting ec550aer / EXT_550nm\n",
      "\n",
      "ec550aer not found in EMEP\n",
      "KeyError('EXT_550nm')\n",
      "Converting ec550dryaer / EXTdry_550nm\n",
      "\n",
      "ec550dryaer not found in EMEP\n",
      "KeyError('EXTdry_550nm')\n",
      "Converting emidust / DUST_flux\n",
      "\n"
     ]
    },
    {
     "name": "stderr",
     "output_type": "stream",
     "text": [
      "Nothing to split... GriddedData contains only 1840\n"
     ]
    },
    {
     "name": "stdout",
     "output_type": "stream",
     "text": [
      "emidust not found in EMEP\n",
      "KeyError('DUST_flux')\n",
      "Converting emisnox / Emis_mgm2_nox\n",
      "\n",
      "\n",
      "\n",
      "Converting emisox / Emis_mgm2_sox\n",
      "\n"
     ]
    },
    {
     "name": "stderr",
     "output_type": "stream",
     "text": [
      "Nothing to split... GriddedData contains only 1840\n"
     ]
    },
    {
     "name": "stdout",
     "output_type": "stream",
     "text": [
      "\n",
      "\n",
      "Converting loadbc / COLUMN_EC_kmax\n",
      "\n",
      "loadbc not found in EMEP\n",
      "KeyError('COLUMN_EC_kmax')\n",
      "Converting loaddust / COLUMN_DUST_kmax\n",
      "\n",
      "loaddust not found in EMEP\n",
      "KeyError('COLUMN_DUST_kmax')\n",
      "Converting loadnh4 / COLUMN_NH4_F_kmax\n",
      "\n",
      "loadnh4 not found in EMEP\n",
      "KeyError('COLUMN_NH4_F_kmax')\n",
      "Converting loadno3 / COLUMN_TNO3_kmax\n",
      "\n",
      "loadno3 not found in EMEP\n",
      "KeyError('COLUMN_TNO3_kmax')\n",
      "Converting loadoa / COLUMN_OM25_kmax\n",
      "\n",
      "loadoa not found in EMEP\n",
      "KeyError('COLUMN_OM25_kmax')\n",
      "Converting loadso2 / COLUMN_SO2_kmax\n",
      "\n",
      "loadso2 not found in EMEP\n",
      "KeyError('COLUMN_SO2_kmax')\n",
      "Converting loadso4 / COLUMN_SO4_kmax\n",
      "\n",
      "loadso4 not found in EMEP\n",
      "KeyError('COLUMN_SO4_kmax')\n",
      "Converting loadss / COLUMN_SS_kmax\n",
      "\n",
      "loadss not found in EMEP\n",
      "KeyError('COLUMN_SS_kmax')\n",
      "Converting mmrbc / D3_mmr_EC\n",
      "\n",
      "mmrbc not found in EMEP\n",
      "KeyError('D3_mmr_EC')\n",
      "Converting mmrdust / D3_mmr_DUST\n",
      "\n",
      "mmrdust not found in EMEP\n",
      "KeyError('D3_mmr_DUST')\n",
      "Converting mmrnh4 / D3_mmr_NH4_F\n",
      "\n",
      "mmrnh4 not found in EMEP\n",
      "KeyError('D3_mmr_NH4_F')\n",
      "Converting mmrno3 / D3_mmr_TNO3\n",
      "\n",
      "mmrno3 not found in EMEP\n",
      "KeyError('D3_mmr_TNO3')\n",
      "Converting mmroa / D3_mmr_OM25\n",
      "\n",
      "mmroa not found in EMEP\n",
      "KeyError('D3_mmr_OM25')\n",
      "Converting mmrso2 / D3_mmr_SO2\n",
      "\n",
      "mmrso2 not found in EMEP\n",
      "KeyError('D3_mmr_SO2')\n",
      "Converting mmrso4 / D3_mmr_SO4\n",
      "\n",
      "mmrso4 not found in EMEP\n",
      "KeyError('D3_mmr_SO4')\n",
      "Converting mmrss / D3_mmr_SS\n",
      "\n",
      "mmrss not found in EMEP\n",
      "KeyError('D3_mmr_SS')\n",
      "Converting od350aer / AOD_350nm\n",
      "\n",
      "od350aer not found in EMEP\n",
      "KeyError('AOD_350nm')\n",
      "Converting od440aer / AOD_440nm\n",
      "\n",
      "od440aer not found in EMEP\n",
      "KeyError('AOD_440nm')\n",
      "Converting od550aer / AOD_550nm\n",
      "\n"
     ]
    },
    {
     "name": "stderr",
     "output_type": "stream",
     "text": [
      "Nothing to split... GriddedData contains only 1840\n"
     ]
    },
    {
     "name": "stdout",
     "output_type": "stream",
     "text": [
      "\n",
      "\n",
      "Converting od550bc / AOD_EC_550nm\n",
      "\n",
      "od550bc not found in EMEP\n",
      "KeyError('AOD_EC_550nm')\n",
      "Converting od550dust / AOD_DUST_550nm\n",
      "\n",
      "od550dust not found in EMEP\n",
      "KeyError('AOD_DUST_550nm')\n",
      "Converting od550lt1aer / AOD_PMFINE_550nm\n",
      "\n",
      "od550lt1aer not found in EMEP\n",
      "KeyError('AOD_PMFINE_550nm')\n",
      "Converting od550nh4 / AOD_NH4_F_550nm\n",
      "\n",
      "od550nh4 not found in EMEP\n",
      "KeyError('AOD_NH4_F_550nm')\n",
      "Converting od550no3 / AOD_TNO3_550nm\n",
      "\n",
      "od550no3 not found in EMEP\n",
      "KeyError('AOD_TNO3_550nm')\n",
      "Converting od550oa / AOD_OC_550nm\n",
      "\n",
      "od550oa not found in EMEP\n",
      "KeyError('AOD_OC_550nm')\n",
      "Converting od550so4 / AOD_SO4_550nm\n",
      "\n",
      "od550so4 not found in EMEP\n",
      "KeyError('AOD_SO4_550nm')\n",
      "Converting od550ss / AOD_SS_550nm\n",
      "\n",
      "od550ss not found in EMEP\n",
      "KeyError('AOD_SS_550nm')\n",
      "Converting od870aer / AOD_870nm\n",
      "\n",
      "od870aer not found in EMEP\n",
      "KeyError('AOD_870nm')\n",
      "Converting sconcaeroh2o / SURF_PM25water\n",
      "\n"
     ]
    },
    {
     "name": "stderr",
     "output_type": "stream",
     "text": [
      "Nothing to split... GriddedData contains only 1840\n"
     ]
    },
    {
     "name": "stdout",
     "output_type": "stream",
     "text": [
      "\n",
      "\n",
      "Converting sconcbcc / SURF_ug_ECCOARSE\n",
      "\n"
     ]
    },
    {
     "name": "stderr",
     "output_type": "stream",
     "text": [
      "Nothing to split... GriddedData contains only 1840\n"
     ]
    },
    {
     "name": "stdout",
     "output_type": "stream",
     "text": [
      "\n",
      "\n",
      "Converting sconcbcf / SURF_ug_ECFINE\n",
      "\n"
     ]
    },
    {
     "name": "stderr",
     "output_type": "stream",
     "text": [
      "Nothing to split... GriddedData contains only 1840\n"
     ]
    },
    {
     "name": "stdout",
     "output_type": "stream",
     "text": [
      "\n",
      "\n",
      "Converting sconcdust / SURF_ug_DUST\n",
      "\n"
     ]
    },
    {
     "name": "stderr",
     "output_type": "stream",
     "text": [
      "Nothing to split... GriddedData contains only 1840\n"
     ]
    },
    {
     "name": "stdout",
     "output_type": "stream",
     "text": [
      "\n",
      "\n",
      "Converting sconchno3 / SURF_ug_HNO3\n",
      "\n"
     ]
    },
    {
     "name": "stderr",
     "output_type": "stream",
     "text": [
      "Nothing to split... GriddedData contains only 1840\n"
     ]
    },
    {
     "name": "stdout",
     "output_type": "stream",
     "text": [
      "\n",
      "\n",
      "Converting sconcnh3 / SURF_ug_NH3\n",
      "\n"
     ]
    },
    {
     "name": "stderr",
     "output_type": "stream",
     "text": [
      "Nothing to split... GriddedData contains only 1840\n"
     ]
    },
    {
     "name": "stdout",
     "output_type": "stream",
     "text": [
      "\n",
      "\n",
      "Converting sconcnh4 / SURF_ug_NH4_F\n",
      "\n"
     ]
    },
    {
     "name": "stderr",
     "output_type": "stream",
     "text": [
      "Nothing to split... GriddedData contains only 1840\n"
     ]
    },
    {
     "name": "stdout",
     "output_type": "stream",
     "text": [
      "\n",
      "\n",
      "Converting sconcno2 / SURF_ug_NO2\n",
      "\n"
     ]
    },
    {
     "name": "stderr",
     "output_type": "stream",
     "text": [
      "Nothing to split... GriddedData contains only 1840\n"
     ]
    },
    {
     "name": "stdout",
     "output_type": "stream",
     "text": [
      "\n",
      "\n",
      "Converting sconcno3c / SURF_ug_NO3_C\n",
      "\n"
     ]
    },
    {
     "name": "stderr",
     "output_type": "stream",
     "text": [
      "Nothing to split... GriddedData contains only 1840\n"
     ]
    },
    {
     "name": "stdout",
     "output_type": "stream",
     "text": [
      "\n",
      "\n",
      "Converting sconcno3f / SURF_ug_NO3_F\n",
      "\n"
     ]
    },
    {
     "name": "stderr",
     "output_type": "stream",
     "text": [
      "Nothing to split... GriddedData contains only 1840\n"
     ]
    },
    {
     "name": "stdout",
     "output_type": "stream",
     "text": [
      "\n",
      "\n",
      "Converting sconcno / SURF_ug_NO\n",
      "\n"
     ]
    },
    {
     "name": "stderr",
     "output_type": "stream",
     "text": [
      "Nothing to split... GriddedData contains only 1840\n"
     ]
    },
    {
     "name": "stdout",
     "output_type": "stream",
     "text": [
      "\n",
      "\n",
      "Converting sconcoac / SURF_ug_OMCOARSE\n",
      "\n",
      "sconcoac not found in EMEP\n",
      "KeyError('SURF_ug_OMCOARSE')\n",
      "Converting sconcoaf / SURF_ug_PART_OM_F\n",
      "\n",
      "sconcoaf not found in EMEP\n",
      "KeyError('SURF_ug_PART_OM_F')\n",
      "Converting sconcpm10 / SURF_ug_PM10_rh50\n",
      "\n"
     ]
    },
    {
     "name": "stderr",
     "output_type": "stream",
     "text": [
      "Nothing to split... GriddedData contains only 1840\n"
     ]
    },
    {
     "name": "stdout",
     "output_type": "stream",
     "text": [
      "\n",
      "\n",
      "Converting sconcpm25 / SURF_ug_PM25_rh50\n",
      "\n"
     ]
    },
    {
     "name": "stderr",
     "output_type": "stream",
     "text": [
      "Nothing to split... GriddedData contains only 1840\n"
     ]
    },
    {
     "name": "stdout",
     "output_type": "stream",
     "text": [
      "\n",
      "\n",
      "Converting sconcrdn / SURF_ugN_RDN\n",
      "\n",
      "sconcrdn not found in EMEP\n",
      "KeyError('SURF_ugN_RDN')\n",
      "Converting sconcso2 / SURF_ug_SO2\n",
      "\n"
     ]
    },
    {
     "name": "stderr",
     "output_type": "stream",
     "text": [
      "Nothing to split... GriddedData contains only 1840\n"
     ]
    },
    {
     "name": "stdout",
     "output_type": "stream",
     "text": [
      "\n",
      "\n",
      "Converting sconcso4 / SURF_ug_SO4\n",
      "\n"
     ]
    },
    {
     "name": "stderr",
     "output_type": "stream",
     "text": [
      "Nothing to split... GriddedData contains only 1840\n"
     ]
    },
    {
     "name": "stdout",
     "output_type": "stream",
     "text": [
      "\n",
      "\n",
      "Converting sconcss / SURF_ug_SS\n",
      "\n"
     ]
    },
    {
     "name": "stderr",
     "output_type": "stream",
     "text": [
      "Nothing to split... GriddedData contains only 1840\n"
     ]
    },
    {
     "name": "stdout",
     "output_type": "stream",
     "text": [
      "\n",
      "\n",
      "Converting vmro32m / SURF_2MO3\n",
      "\n",
      "vmro32m not found in EMEP\n",
      "KeyError('SURF_2MO3')\n",
      "Converting vmro3max / SURF_MAXO3\n",
      "\n"
     ]
    },
    {
     "name": "stderr",
     "output_type": "stream",
     "text": [
      "Nothing to split... GriddedData contains only 1840\n"
     ]
    },
    {
     "name": "stdout",
     "output_type": "stream",
     "text": [
      "\n",
      "\n",
      "Converting vmro3 / SURF_ppb_O3\n",
      "\n"
     ]
    },
    {
     "name": "stderr",
     "output_type": "stream",
     "text": [
      "Nothing to split... GriddedData contains only 1840\n"
     ]
    },
    {
     "name": "stdout",
     "output_type": "stream",
     "text": [
      "\n",
      "\n",
      "Converting wetbc / WDEP_EC\n",
      "\n",
      "wetbc not found in EMEP\n",
      "KeyError('WDEP_EC')\n",
      "Converting wetdust / WDEP_DUST\n",
      "\n",
      "wetdust not found in EMEP\n",
      "KeyError('WDEP_DUST')\n",
      "Converting wetnh4 / WDEP_NH4_f\n",
      "\n",
      "wetnh4 not found in EMEP\n",
      "KeyError('WDEP_NH4_f')\n",
      "Converting wetno3 / WDEP_TNO3\n",
      "\n",
      "wetno3 not found in EMEP\n",
      "KeyError('WDEP_TNO3')\n",
      "Converting wetoa / WDEP_OM25\n",
      "\n",
      "wetoa not found in EMEP\n",
      "KeyError('WDEP_OM25')\n",
      "Converting wetoxn / WDEP_OXN\n",
      "\n",
      "wetoxn not found in EMEP\n",
      "KeyError('WDEP_OXN')\n",
      "Converting wetrdn / WDEP_RDN\n",
      "\n",
      "wetrdn not found in EMEP\n",
      "KeyError('WDEP_RDN')\n",
      "Converting wetso2 / WDEP_SO2\n",
      "\n",
      "wetso2 not found in EMEP\n",
      "KeyError('WDEP_SO2')\n",
      "Converting wetso4 / WDEP_SO4\n",
      "\n",
      "wetso4 not found in EMEP\n",
      "KeyError('WDEP_SO4')\n",
      "Converting wetsox / WDEP_SOX\n",
      "\n",
      "wetsox not found in EMEP\n",
      "KeyError('WDEP_SOX')\n",
      "Converting wetss / WDEP_SS\n",
      "\n",
      "wetss not found in EMEP\n",
      "KeyError('WDEP_SS')\n",
      "Converting z3d / Z_MID\n",
      "\n"
     ]
    },
    {
     "name": "stderr",
     "output_type": "stream",
     "text": [
      "Nothing to split... GriddedData contains only 1840\n"
     ]
    },
    {
     "name": "stdout",
     "output_type": "stream",
     "text": [
      "\n",
      "\n"
     ]
    }
   ],
   "source": [
    "# Loop through all known variables and stores in Aerocom format\n",
    "\n",
    "for key, var in get_emep_variables().items():\n",
    "    print('Converting {} / {}\\n'.format(key, var))\n",
    "    # Load data\n",
    "    try:\n",
    "        data = reader.read_var(key, ts_type=ts_type)\n",
    "    except KeyError as e:\n",
    "        print('{} not found in EMEP'.format(key))\n",
    "        print(repr(e))\n",
    "        continue\n",
    "    except ValueError as e:\n",
    "        print(repr(e))\n",
    "        continue\n",
    "    data.change_base_year(year - 110) # Change year to match emission year\n",
    "    # Infer vertical coordinate from variable naming\n",
    "    type_emep = (var.split('_')[0])\n",
    "    vert_code = map_prefix_aero[type_emep]\n",
    "    data.to_netcdf(out_dir, vert_code=vert_code);\n",
    "    print('\\n')"
   ]
  }
 ],
 "metadata": {
  "kernelspec": {
   "display_name": "Python 3",
   "language": "python",
   "name": "python3"
  },
  "language_info": {
   "codemirror_mode": {
    "name": "ipython",
    "version": 3
   },
   "file_extension": ".py",
   "mimetype": "text/x-python",
   "name": "python",
   "nbconvert_exporter": "python",
   "pygments_lexer": "ipython3",
   "version": "3.7.6"
  }
 },
 "nbformat": 4,
 "nbformat_minor": 4
}
