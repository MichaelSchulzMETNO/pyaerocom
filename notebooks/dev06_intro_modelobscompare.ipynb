{
 "cells": [
  {
   "cell_type": "markdown",
   "metadata": {},
   "source": [
    "### Comparing models with observations\n",
    "\n",
    "Below are several example cases that illustrate how pyaerocom can be used for intercomparison studies.\n",
    "\n",
    "<div class=\"alert alert-block alert-info\">\n",
    "**NOTE**: This is a very first draft which will likely undergo major API changes in the near future"
   ]
  },
  {
   "cell_type": "markdown",
   "metadata": {},
   "source": [
    "#### Example 1: Models vs. Aeronet (Aerosol optical depth at 550 nm, 2010 - 2018)\n",
    "\n",
    "This example shows how to compare results from several models with AeroNet Sun photometer data (V2, level 2)."
   ]
  },
  {
   "cell_type": "code",
   "execution_count": 1,
   "metadata": {},
   "outputs": [],
   "source": [
    "import pyaerocom"
   ]
  },
  {
   "cell_type": "markdown",
   "metadata": {},
   "source": [
    "Define some model IDs and"
   ]
  },
  {
   "cell_type": "markdown",
   "metadata": {},
   "source": [
    "model_ids = ['ECMWF_CAMS_REAN', 'ECMWF_OSUITE', '']\n",
    "start, stop = 2010, 2018\n",
    "\n",
    "import numpy as np"
   ]
  }
 ],
 "metadata": {
  "kernelspec": {
   "display_name": "Python 3",
   "language": "python",
   "name": "python3"
  },
  "language_info": {
   "codemirror_mode": {
    "name": "ipython",
    "version": 3
   },
   "file_extension": ".py",
   "mimetype": "text/x-python",
   "name": "python",
   "nbconvert_exporter": "python",
   "pygments_lexer": "ipython3",
   "version": "3.6.4"
  }
 },
 "nbformat": 4,
 "nbformat_minor": 2
}
