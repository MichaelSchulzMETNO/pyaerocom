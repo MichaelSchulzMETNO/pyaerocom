{
 "cells": [
  {
   "cell_type": "markdown",
   "metadata": {},
   "source": [
    "### Comparing models with observations\n",
    "\n",
    "Below are several example cases that illustrate how pyaerocom can be used for intercomparison studies.\n",
    "\n",
    "<div class=\"alert alert-block alert-info\">\n",
    "**NOTE**: This is a very first draft which will likely undergo major API changes in the near future"
   ]
  },
  {
   "cell_type": "markdown",
   "metadata": {},
   "source": [
    "#### Example 1: Models vs. Aeronet (Aerosol optical depth at 550 nm, 2010 - 2018)\n",
    "\n",
    "This example shows how to compare results from several models with AeroNet Sun photometer data (V2, level 2)."
   ]
  },
  {
   "cell_type": "code",
   "execution_count": 1,
   "metadata": {},
   "outputs": [],
   "source": [
    "import pyaerocom"
   ]
  },
  {
   "cell_type": "markdown",
   "metadata": {},
   "source": [
    "Define some model IDs and start / stop years."
   ]
  },
  {
   "cell_type": "code",
   "execution_count": 2,
   "metadata": {},
   "outputs": [],
   "source": [
    "model_ids = ['ECMWF_CAMS_REAN', 'ECMWF_OSUITE', 'EMEP_rv48_RBUALL']\n",
    "start, stop = 2010, 2018"
   ]
  },
  {
   "cell_type": "code",
   "execution_count": 4,
   "metadata": {},
   "outputs": [
    {
     "name": "stdout",
     "output_type": "stream",
     "text": [
      "Found match for ID ECMWF_CAMS_REAN\n",
      "Checking if renamed directory exists\n",
      "Found directory /lustre/storeA/project/aerocom/aerocom-users-database/ECMWF/ECMWF_CAMS_REAN/renamed\n",
      "Found match for ID ECMWF_OSUITE\n",
      "Checking if renamed directory exists\n",
      "Found directory /lustre/storeA/project/aerocom/aerocom-users-database/ECMWF/ECMWF_OSUITE/renamed\n",
      "Found match for ID EMEP_rv48_RBUALL\n",
      "Checking if renamed directory exists\n",
      "Found directory /lustre/storeA/project/aerocom/aerocom-users-database/HTAP-PHASE-II/EMEP_rv48_RBUALL/renamed\n",
      "\n",
      "Pyaerocom ReadGriddedMulti\n",
      "--------------------------\n",
      "Model IDs: ['ECMWF_CAMS_REAN', 'ECMWF_OSUITE', 'EMEP_rv48_RBUALL']\n",
      "\n",
      "Loaded data:\n",
      "\n",
      "Pyaerocom ReadGridded\n",
      "---------------------\n",
      "Model ID: ECMWF_CAMS_REAN\n",
      "Available variables: ['ang4487aer', 'od440aer', 'od550aer', 'od550bc', 'od550dust', 'od550oa', 'od550so4', 'od550ss', 'od865aer']\n",
      "Available years: [2003, 2004, 2005, 2006, 2007, 2008, 2009, 2010, 2011, 2012, 2013, 2014, 2015, 2016, 9999]\n",
      "\n",
      "Pyaerocom ReadGridded\n",
      "---------------------\n",
      "Model ID: ECMWF_OSUITE\n",
      "Available variables: ['abs550aer', 'ang4487aer', 'ec550aer', 'od440aer', 'od550aer', 'od550bc', 'od550dust', 'od550gt1aer', 'od550lt1aer', 'od550oa', 'od550so4', 'od550ss', 'od865aer', 'sconcbc', 'sconcdust', 'sconcoa', 'sconcpm10', 'sconcpm25', 'sconcso4', 'sconcss', 'wetso4']\n",
      "Available years: [2010, 2011, 2012, 2013, 2014, 2015, 2016, 2017, 2018]\n",
      "\n",
      "Pyaerocom ReadGridded\n",
      "---------------------\n",
      "Model ID: EMEP_rv48_RBUALL\n",
      "Available variables: ['bc', 'loadhno3', 'loadhono', 'loadn2o5', 'loadnh3', 'loadno2', 'loadpan', 'loadpm10ss', 'loadpm2p5ss', 'loadso2', 'loadso4', 'mmrdust', 'mmrno3', 'mmroc', 'mmrpm10', 'mmrpm102m', 'mmrpm10bc', 'mmrpm10no3', 'mmrpm10oa', 'mmrpm10oc', 'mmrpm10ss', 'mmrpm2p5', 'mmrpm2p52m', 'mmrpm2p5bc', 'mmrpm2p5dust', 'mmrpm2p5fine', 'mmrpm2p5nh4', 'mmrpm2p5no3', 'mmrpm2p5oa', 'mmrpm2p5oc', 'mmrpm2p5remppm', 'mmrpm2p5so4', 'mmrpm2p5ss', 'mmrso4', 'mmrss', 'od380aer', 'od380dust', 'od440aer', 'od500aer', 'od500pm10', 'od550aer', 'od550dust', 'od550nh4', 'od550pm10', 'od550pm10no3', 'od550so4', 'od550ss', 'rem', 'vmr3dc2h4', 'vmr3dc2h6', 'vmr3dch3cho', 'vmr3dco', 'vmr3dhcho', 'vmr3dhno3', 'vmr3dnh3', 'vmr3dno', 'vmr3dno2', 'vmr3dnoy', 'vmr3do3', 'vmr3dpan', 'vmr3dso2', 'vmralkanes', 'vmrc2h4', 'vmrc2h6', 'vmrc3h6', 'vmrch3cho', 'vmrco', 'vmrco25', 'vmrco50', 'vmrglyoxal', 'vmrhno3', 'vmrhono', 'vmrisop', 'vmrmethanol', 'vmrnh3', 'vmrno', 'vmrno2', 'vmrnoy', 'vmro3', 'vmro32m', 'vmro3dmax', 'vmrpan', 'vmrso2', 'vmrvoc']\n",
      "Available years: [2010]\n"
     ]
    }
   ],
   "source": [
    "read = pyaerocom.io.ReadGriddedMulti(names=model_ids, start=start, stop=stop, verbose=False)\n",
    "print(read)"
   ]
  }
 ],
 "metadata": {
  "kernelspec": {
   "display_name": "Python 3",
   "language": "python",
   "name": "python3"
  },
  "language_info": {
   "codemirror_mode": {
    "name": "ipython",
    "version": 3
   },
   "file_extension": ".py",
   "mimetype": "text/x-python",
   "name": "python",
   "nbconvert_exporter": "python",
   "pygments_lexer": "ipython3",
   "version": "3.6.4"
  }
 },
 "nbformat": 4,
 "nbformat_minor": 2
}
