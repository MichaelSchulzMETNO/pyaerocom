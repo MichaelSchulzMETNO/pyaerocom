{
 "cells": [
  {
   "cell_type": "markdown",
   "metadata": {},
   "source": [
    "### Getting started with Pyaerocom\n",
    "\n",
    "This notebook gives an introduction on how to install Pyaerocom and run it on your local machine. \n",
    "\n",
    "#### Requirements\n",
    "\n",
    "Before installation please make sure you have all required dependencies installed ([see here for a list of dependencies](http://aerocom.met.no/pyaerocom/readme.html#requirements)).\n",
    "\n",
    "#### Installation\n",
    "\n",
    "Please download and unzip the [Pyaerocom GitHub repository](https://github.com/metno/pyaerocom) or clone it using \n",
    "\n",
    "``$ git clone https://github.com/metno/pyaerocom.git``\n",
    "\n",
    "into a local directory of your choice. Then, navigate into the Pyaerocom root directory where the setup.py file is located. Use\n",
    "\n",
    "``$ python setup.py install``\n",
    "\n",
    "to install the package normally or use \n",
    "\n",
    "``$ python setup.py develop``\n",
    "\n",
    "to install the package in development mode. The latter leaves the code editable and while ``install`` installs and freezes the current version of the code in your Python environment ([see here](https://packaging.python.org/tutorials/distributing-packages/#working-in-development-mode) or [here](https://stackoverflow.com/questions/19048732/python-setup-py-develop-vs-install) for more info).\n",
    "\n",
    "If everything worked out as expected, you should be able to import pyaerocom from within a Python3 console."
   ]
  },
  {
   "cell_type": "code",
   "execution_count": 2,
   "metadata": {},
   "outputs": [
    {
     "name": "stdout",
     "output_type": "stream",
     "text": [
      "Installation base directory: /home/jonasg/github/pyaerocom/pyaerocom\n",
      "Version: 0.0.1.dev1\n"
     ]
    }
   ],
   "source": [
    "import pyaerocom\n",
    "print(\"Installation base directory: %s\" %pyaerocom.__dir__)\n",
    "print(\"Version: %s\" %pyaerocom.__version__)"
   ]
  },
  {
   "cell_type": "markdown",
   "metadata": {},
   "source": [
    "#### Setting global environment variables\n",
    "\n",
    "The import of data from the AEROCOM database in Pyaerocom is controlled via an instance of the "
   ]
  },
  {
   "cell_type": "code",
   "execution_count": null,
   "metadata": {},
   "outputs": [],
   "source": []
  }
 ],
 "metadata": {
  "kernelspec": {
   "display_name": "Python 3",
   "language": "python",
   "name": "python3"
  },
  "language_info": {
   "codemirror_mode": {
    "name": "ipython",
    "version": 3
   },
   "file_extension": ".py",
   "mimetype": "text/x-python",
   "name": "python",
   "nbconvert_exporter": "python",
   "pygments_lexer": "ipython3",
   "version": "3.6.4"
  }
 },
 "nbformat": 4,
 "nbformat_minor": 2
}
