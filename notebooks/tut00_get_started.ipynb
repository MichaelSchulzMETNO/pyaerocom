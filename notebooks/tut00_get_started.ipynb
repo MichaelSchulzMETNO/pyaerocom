{
 "cells": [
  {
   "cell_type": "markdown",
   "metadata": {},
   "source": [
    "### Getting started\n",
    "\n",
    "This notebook gives an introduction on how to install pyaerocom and run it on your local machine. \n",
    "\n",
    "#### Requirements\n",
    "\n",
    "Before installation please make sure you have all required dependencies installed ([see here for a list of dependencies](http://aerocom.met.no/pyaerocom/readme.html#requirements)).\n",
    "\n",
    "#### Installation\n",
    "\n",
    "Please download and unzip the [pyaerocom GitHub repository](https://github.com/metno/pyaerocom) or clone it using \n",
    "\n",
    "``$ git clone https://github.com/metno/pyaerocom.git``\n",
    "\n",
    "into a local directory of your choice. Then, navigate into the pyaerocom root directory where the setup.py file is located. Use\n",
    "\n",
    "``$ python setup.py install``\n",
    "\n",
    "to install the package normally or use \n",
    "\n",
    "``$ python setup.py develop``\n",
    "\n",
    "to install the package in development mode. The latter leaves the code editable and while ``install`` installs and freezes the current version of the code in your Python environment ([see here](https://packaging.python.org/tutorials/distributing-packages/#working-in-development-mode) or [here](https://stackoverflow.com/questions/19048732/python-setup-py-develop-vs-install) for more info).\n",
    "\n",
    "If everything worked out as expected, you should be able to import pyaerocom from within a Python3 console."
   ]
  },
  {
   "cell_type": "code",
   "execution_count": 1,
   "metadata": {},
   "outputs": [
    {
     "name": "stderr",
     "output_type": "stream",
     "text": [
      "2018-08-28 13:50:46,397:INFO:\n",
      "Reading aliases ini file: /home/jonasg/github/cloned/pyaerocom/pyaerocom/data/aliases.ini\n"
     ]
    },
    {
     "name": "stderr",
     "output_type": "stream",
     "text": [
      "2018-08-28 13:50:47,147:WARNING:\n",
      "geopy library is not available. Aeolus data read not enabled\n"
     ]
    },
    {
     "name": "stdout",
     "output_type": "stream",
     "text": [
      "Installation base directory: /home/jonasg/github/cloned/pyaerocom/pyaerocom\n",
      "Version: 0.3.0\n"
     ]
    }
   ],
   "source": [
    "import pyaerocom as pya\n",
    "print(\"Installation base directory: %s\" %pya.__dir__)\n",
    "print(\"Version: %s\" %pya.__version__)"
   ]
  },
  {
   "cell_type": "markdown",
   "metadata": {},
   "source": [
    "#### Setting global environment variables\n",
    "\n",
    "The import of data from the AEROCOM database in pyaerocom is controlled via an instance of the `Config` class."
   ]
  },
  {
   "cell_type": "code",
   "execution_count": 2,
   "metadata": {},
   "outputs": [
    {
     "name": "stdout",
     "output_type": "stream",
     "text": [
      "Current config: \n",
      "Pyaerocom Config\n",
      "----------------\n",
      "\n",
      "MIN_YEAR: 0\n",
      "MAX_YEAR: 20000\n",
      "GRID_IO: \n",
      "Pyaerocom GridIO\n",
      "----------------\n",
      "\n",
      "   FILE_TYPE: .nc\n",
      "   TS_TYPES (list, 5 items)\n",
      "   ['hourly'\n",
      "    '3hourly'\n",
      "    ...\n",
      "    'monthly'\n",
      "    'yearly']\n",
      "\n",
      "   DEL_TIME_BOUNDS: True\n",
      "   SHIFT_LONS: True\n",
      "   CHECK_TIME_FILENAME: True\n",
      "   EQUALISE_METADATA: True\n",
      "   USE_RENAMED_DIR: True\n",
      "   USE_FILECONVENTION: True\n",
      "   INCLUDE_SUBDIRS: False\n",
      "OBS_WAVELENGTH_TOL_NM: 10.0\n",
      "OBS_ALLOW_ALT_WAVELENGTHS: True\n",
      "GCOSPERCENTCRIT: 0.1\n",
      "GCOSABSCRIT: 0.04\n",
      "OBSNET_NONE: NONE\n",
      "NOMODELNAME: OBSERVATIONS-ONLY\n",
      "REVISION_FILE: Revision.txt\n",
      "AERONET_SUN_V2L15_AOD_DAILY_NAME: AeronetSunV2Lev1.5.daily\n",
      "AERONET_SUN_V2L15_AOD_ALL_POINTS_NAME: AeronetSun_2.0_NRT\n",
      "AERONET_SUN_V2L2_AOD_DAILY_NAME: AeronetSunV2Lev2.daily\n",
      "AERONET_SUN_V2L2_AOD_ALL_POINTS_NAME: AeronetSunV2Lev2.AP\n",
      "AERONET_SUN_V2L2_SDA_DAILY_NAME: AeronetSDAV2Lev2.daily\n",
      "AERONET_SUN_V2L2_SDA_ALL_POINTS_NAME: AeronetSDAV2Lev2.AP\n",
      "AERONET_SUN_V3L15_AOD_DAILY_NAME: AeronetSunV3Lev1.5.daily\n",
      "AERONET_SUN_V3L15_AOD_ALL_POINTS_NAME: AeronetSunV3Lev1.5.AP\n",
      "AERONET_SUN_V3L2_AOD_DAILY_NAME: AeronetSunV3Lev2.daily\n",
      "AERONET_SUN_V3L2_AOD_ALL_POINTS_NAME: AeronetSunV3Lev2.AP\n",
      "AERONET_SUN_V3L15_SDA_DAILY_NAME: AeronetSDAV3Lev1.5.daily\n",
      "AERONET_SUN_V3L15_SDA_ALL_POINTS_NAME: AeronetSDAV3Lev1.5.AP\n",
      "AERONET_SUN_V3L2_SDA_DAILY_NAME: AeronetSDAV3Lev2.daily\n",
      "AERONET_SUN_V3L2_SDA_ALL_POINTS_NAME: AeronetSDAV3Lev2.AP\n",
      "AERONET_INV_V2L15_DAILY_NAME: AeronetInvV2Lev1.5.daily\n",
      "AERONET_INV_V2L15_ALL_POINTS_NAME: AeronetInvV2Lev1.5.AP\n",
      "AERONET_INV_V2L2_DAILY_NAME: AeronetInvV2Lev2.daily\n",
      "AERONET_INV_V2L2_ALL_POINTS_NAME: AeronetInvV2Lev2.AP\n",
      "EBAS_MULTICOLUMN_NAME: EBASMC\n",
      "EEA_NAME: EEAAQeRep\n",
      "EARLINET_NAME: EARLINET\n",
      "OBSCONFIG (dict)\n",
      "MODELDIRS (list)\n",
      "   ['/lustre/storeA/project/aerocom/aerocom1/'\n",
      "    '/lustre/storeA/project/aerocom/aerocom2/'\n",
      "    ...\n",
      "    '/lustre/storeA/project/aerocom/aerocom-users-database/AEROCOM-PHASE-II-IND3/'\n",
      "    '/lustre/storeA/project/aerocom/aerocom-users-database/AEROCOM-PHASE-II-IND2/']\n",
      "\n",
      "MODELBASEDIR: /lustre/storeA/project/aerocom/\n",
      "OBSBASEDIR: /lustre/storeA/project/aerocom/\n",
      "OBSDATACACHEDIR: /home/jonasg/pyaerocom/_cache\n",
      "OUT_BASEDIR: /home/jonasg/pyaerocom\n",
      "_config_ini: /home/jonasg/github/cloned/pyaerocom/pyaerocom/data/paths.ini\n",
      "AERONET_INV_V3L15_DAILY_NAME: AeronetInvV3Lev1.5.daily\n",
      "AERONET_INV_V3L2_DAILY_NAME: AeronetInvV3Lev2.daily\n",
      "DONOTCACHEFILE: /home/jonasg/pyaerocom/_cache/DONOTCACHE\n",
      "PLOT_DIR: /home/jonasg/pyaerocom/plots\n",
      "VAR_PARAM: \n",
      "----------------------\n",
      "Pyaerocom AllVariables\n",
      "----------------------\n",
      "DEFAULT\n",
      "od550aer\n",
      "od550lt1aer\n",
      "od550gt1aer\n",
      "abs550aer\n",
      "od440aer\n",
      "abs440aer\n",
      "ec550aer\n",
      "scatc550aer\n",
      "scatc550lt1aer\n",
      "bscatc550aer\n",
      "absc550lt1aer\n",
      "ssa440aer\n",
      "ssa675aer\n",
      "ssa870aer\n",
      "ssa1020aer\n",
      "ang4487aer\n",
      "angabs4487aer\n",
      "zdust\n",
      "\n",
      "Aliases\n",
      ".......\n",
      "absc550aer = abs550aer\n"
     ]
    }
   ],
   "source": [
    "print(\"Current config: %s\" %pya.const.short_str())"
   ]
  },
  {
   "cell_type": "markdown",
   "metadata": {},
   "source": [
    "You can check if the relevant base directories `MODELBASEDIR` and `OBSBASEDIR` are valid."
   ]
  },
  {
   "cell_type": "code",
   "execution_count": 3,
   "metadata": {},
   "outputs": [
    {
     "name": "stdout",
     "output_type": "stream",
     "text": [
      "All paths valid? True\n"
     ]
    }
   ],
   "source": [
    "print(\"All paths valid? %s\" %pya.const.READY)"
   ]
  },
  {
   "cell_type": "markdown",
   "metadata": {},
   "source": [
    "If you work on your local machine and use the external AEROCOM user server, you might need to change the path settings. Now you have several options to do this:\n",
    "\n",
    "1. Change all relevant paths directly in the [paths.ini](https://github.com/metno/pyaerocom/blob/master/pyaeroco /data/paths.ini) file of your installation.\n",
    "2. Create a new config file <myconfig.ini> and iniate your configuration in your Python console by calling ``pyaerocom.config = pyaerocom.Config(config_file=<myconfig.ini>)``\n",
    "3. Change the settings directly within the instance of the ``Config`` class, as follows:"
   ]
  },
  {
   "cell_type": "code",
   "execution_count": 4,
   "metadata": {},
   "outputs": [
    {
     "name": "stdout",
     "output_type": "stream",
     "text": [
      "All paths valid? False\n"
     ]
    },
    {
     "name": "stderr",
     "output_type": "stream",
     "text": [
      "/home/jonasg/github/cloned/pyaerocom/pyaerocom/config.py:296: UserWarning: Model base directory %s does not exist\n",
      "  warn(\"Model base directory %s does not exist\")\n",
      "/home/jonasg/github/cloned/pyaerocom/pyaerocom/config.py:299: UserWarning: Observations base directory %s does not exist\n",
      "  warn(\"Observations base directory %s does not exist\")\n"
     ]
    }
   ],
   "source": [
    "cfg = pya.const\n",
    "cfg.MODELBASEDIR=\"path/that/does/not/exist\"\n",
    "cfg.OBSBASEDIR=\"path/that/does/not/exist\"\n",
    "print(\"All paths valid? %s\" %cfg.READY)"
   ]
  },
  {
   "cell_type": "markdown",
   "metadata": {},
   "source": [
    "See what's currently in there."
   ]
  },
  {
   "cell_type": "code",
   "execution_count": 5,
   "metadata": {},
   "outputs": [
    {
     "name": "stdout",
     "output_type": "stream",
     "text": [
      "Current config: \n",
      "Pyaerocom Config\n",
      "----------------\n",
      "\n",
      "MIN_YEAR: 0\n",
      "MAX_YEAR: 20000\n",
      "GRID_IO: \n",
      "Pyaerocom GridIO\n",
      "----------------\n",
      "\n",
      "   FILE_TYPE: .nc\n",
      "   TS_TYPES (list, 5 items)\n",
      "   ['hourly'\n",
      "    '3hourly'\n",
      "    ...\n",
      "    'monthly'\n",
      "    'yearly']\n",
      "\n",
      "   DEL_TIME_BOUNDS: True\n",
      "   SHIFT_LONS: True\n",
      "   CHECK_TIME_FILENAME: True\n",
      "   EQUALISE_METADATA: True\n",
      "   USE_RENAMED_DIR: True\n",
      "   USE_FILECONVENTION: True\n",
      "   INCLUDE_SUBDIRS: False\n",
      "OBS_WAVELENGTH_TOL_NM: 10.0\n",
      "OBS_ALLOW_ALT_WAVELENGTHS: True\n",
      "GCOSPERCENTCRIT: 0.1\n",
      "GCOSABSCRIT: 0.04\n",
      "OBSNET_NONE: NONE\n",
      "NOMODELNAME: OBSERVATIONS-ONLY\n",
      "REVISION_FILE: Revision.txt\n",
      "AERONET_SUN_V2L15_AOD_DAILY_NAME: AeronetSunV2Lev1.5.daily\n",
      "AERONET_SUN_V2L15_AOD_ALL_POINTS_NAME: AeronetSun_2.0_NRT\n",
      "AERONET_SUN_V2L2_AOD_DAILY_NAME: AeronetSunV2Lev2.daily\n",
      "AERONET_SUN_V2L2_AOD_ALL_POINTS_NAME: AeronetSunV2Lev2.AP\n",
      "AERONET_SUN_V2L2_SDA_DAILY_NAME: AeronetSDAV2Lev2.daily\n",
      "AERONET_SUN_V2L2_SDA_ALL_POINTS_NAME: AeronetSDAV2Lev2.AP\n",
      "AERONET_SUN_V3L15_AOD_DAILY_NAME: AeronetSunV3Lev1.5.daily\n",
      "AERONET_SUN_V3L15_AOD_ALL_POINTS_NAME: AeronetSunV3Lev1.5.AP\n",
      "AERONET_SUN_V3L2_AOD_DAILY_NAME: AeronetSunV3Lev2.daily\n",
      "AERONET_SUN_V3L2_AOD_ALL_POINTS_NAME: AeronetSunV3Lev2.AP\n",
      "AERONET_SUN_V3L15_SDA_DAILY_NAME: AeronetSDAV3Lev1.5.daily\n",
      "AERONET_SUN_V3L15_SDA_ALL_POINTS_NAME: AeronetSDAV3Lev1.5.AP\n",
      "AERONET_SUN_V3L2_SDA_DAILY_NAME: AeronetSDAV3Lev2.daily\n",
      "AERONET_SUN_V3L2_SDA_ALL_POINTS_NAME: AeronetSDAV3Lev2.AP\n",
      "AERONET_INV_V2L15_DAILY_NAME: AeronetInvV2Lev1.5.daily\n",
      "AERONET_INV_V2L15_ALL_POINTS_NAME: AeronetInvV2Lev1.5.AP\n",
      "AERONET_INV_V2L2_DAILY_NAME: AeronetInvV2Lev2.daily\n",
      "AERONET_INV_V2L2_ALL_POINTS_NAME: AeronetInvV2Lev2.AP\n",
      "EBAS_MULTICOLUMN_NAME: EBASMC\n",
      "EEA_NAME: EEAAQeRep\n",
      "EARLINET_NAME: EARLINET\n",
      "OBSCONFIG (dict)\n",
      "MODELDIRS (list)\n",
      "   ['/lustre/storeA/project/aerocom/aerocom1/'\n",
      "    '/lustre/storeA/project/aerocom/aerocom2/'\n",
      "    ...\n",
      "    '/lustre/storeA/project/aerocom/aerocom-users-database/AEROCOM-PHASE-II-IND3/'\n",
      "    '/lustre/storeA/project/aerocom/aerocom-users-database/AEROCOM-PHASE-II-IND2/']\n",
      "\n",
      "MODELBASEDIR: path/that/does/not/exist\n",
      "OBSBASEDIR: path/that/does/not/exist\n",
      "OBSDATACACHEDIR: /home/jonasg/pyaerocom/_cache\n",
      "OUT_BASEDIR: /home/jonasg/pyaerocom\n",
      "_config_ini: /home/jonasg/github/cloned/pyaerocom/pyaerocom/data/paths.ini\n",
      "AERONET_INV_V3L15_DAILY_NAME: AeronetInvV3Lev1.5.daily\n",
      "AERONET_INV_V3L2_DAILY_NAME: AeronetInvV3Lev2.daily\n",
      "DONOTCACHEFILE: /home/jonasg/pyaerocom/_cache/DONOTCACHE\n",
      "PLOT_DIR: /home/jonasg/pyaerocom/plots\n",
      "VAR_PARAM: \n",
      "----------------------\n",
      "Pyaerocom AllVariables\n",
      "----------------------\n",
      "DEFAULT\n",
      "od550aer\n",
      "od550lt1aer\n",
      "od550gt1aer\n",
      "abs550aer\n",
      "od440aer\n",
      "abs440aer\n",
      "ec550aer\n",
      "scatc550aer\n",
      "scatc550lt1aer\n",
      "bscatc550aer\n",
      "absc550lt1aer\n",
      "ssa440aer\n",
      "ssa675aer\n",
      "ssa870aer\n",
      "ssa1020aer\n",
      "ang4487aer\n",
      "angabs4487aer\n",
      "zdust\n",
      "\n",
      "Aliases\n",
      ".......\n",
      "absc550aer = abs550aer\n"
     ]
    }
   ],
   "source": [
    "print(\"Current config: {}\".format(pya.const.short_str()))"
   ]
  },
  {
   "cell_type": "markdown",
   "metadata": {},
   "source": [
    "As you can see, `MODELBASEDIR` and `OBSBASEDIR` contain the invalid paths, but e.g. the list containing model directories (`MODELDIRS`) still has the original settings. This is because, these are written in the method ``load_config(config_file)`` or the wrapper method ``reload()`` which does the same.  Now reload the config_file and print."
   ]
  },
  {
   "cell_type": "code",
   "execution_count": 6,
   "metadata": {},
   "outputs": [
    {
     "name": "stdout",
     "output_type": "stream",
     "text": [
      "Current config: \n",
      "Pyaerocom Config\n",
      "----------------\n",
      "\n",
      "MIN_YEAR: 0\n",
      "MAX_YEAR: 20000\n",
      "GRID_IO: \n",
      "Pyaerocom GridIO\n",
      "----------------\n",
      "\n",
      "   FILE_TYPE: .nc\n",
      "   TS_TYPES (list, 5 items)\n",
      "   ['hourly'\n",
      "    '3hourly'\n",
      "    ...\n",
      "    'monthly'\n",
      "    'yearly']\n",
      "\n",
      "   DEL_TIME_BOUNDS: True\n",
      "   SHIFT_LONS: True\n",
      "   CHECK_TIME_FILENAME: True\n",
      "   EQUALISE_METADATA: True\n",
      "   USE_RENAMED_DIR: True\n",
      "   USE_FILECONVENTION: True\n",
      "   INCLUDE_SUBDIRS: False\n",
      "OBS_WAVELENGTH_TOL_NM: 10.0\n",
      "OBS_ALLOW_ALT_WAVELENGTHS: True\n",
      "GCOSPERCENTCRIT: 0.1\n",
      "GCOSABSCRIT: 0.04\n",
      "OBSNET_NONE: NONE\n",
      "NOMODELNAME: OBSERVATIONS-ONLY\n",
      "REVISION_FILE: Revision.txt\n",
      "AERONET_SUN_V2L15_AOD_DAILY_NAME: AeronetSunV2Lev1.5.daily\n",
      "AERONET_SUN_V2L15_AOD_ALL_POINTS_NAME: AeronetSun_2.0_NRT\n",
      "AERONET_SUN_V2L2_AOD_DAILY_NAME: AeronetSunV2Lev2.daily\n",
      "AERONET_SUN_V2L2_AOD_ALL_POINTS_NAME: AeronetSunV2Lev2.AP\n",
      "AERONET_SUN_V2L2_SDA_DAILY_NAME: AeronetSDAV2Lev2.daily\n",
      "AERONET_SUN_V2L2_SDA_ALL_POINTS_NAME: AeronetSDAV2Lev2.AP\n",
      "AERONET_SUN_V3L15_AOD_DAILY_NAME: AeronetSunV3Lev1.5.daily\n",
      "AERONET_SUN_V3L15_AOD_ALL_POINTS_NAME: AeronetSunV3Lev1.5.AP\n",
      "AERONET_SUN_V3L2_AOD_DAILY_NAME: AeronetSunV3Lev2.daily\n",
      "AERONET_SUN_V3L2_AOD_ALL_POINTS_NAME: AeronetSunV3Lev2.AP\n",
      "AERONET_SUN_V3L15_SDA_DAILY_NAME: AeronetSDAV3Lev1.5.daily\n",
      "AERONET_SUN_V3L15_SDA_ALL_POINTS_NAME: AeronetSDAV3Lev1.5.AP\n",
      "AERONET_SUN_V3L2_SDA_DAILY_NAME: AeronetSDAV3Lev2.daily\n",
      "AERONET_SUN_V3L2_SDA_ALL_POINTS_NAME: AeronetSDAV3Lev2.AP\n",
      "AERONET_INV_V2L15_DAILY_NAME: AeronetInvV2Lev1.5.daily\n",
      "AERONET_INV_V2L15_ALL_POINTS_NAME: AeronetInvV2Lev1.5.AP\n",
      "AERONET_INV_V2L2_DAILY_NAME: AeronetInvV2Lev2.daily\n",
      "AERONET_INV_V2L2_ALL_POINTS_NAME: AeronetInvV2Lev2.AP\n",
      "EBAS_MULTICOLUMN_NAME: EBASMC\n",
      "EEA_NAME: EEAAQeRep\n",
      "EARLINET_NAME: EARLINET\n",
      "OBSCONFIG (dict)\n",
      "MODELDIRS (list)\n",
      "   ['/lustre/storeA/project/aerocom/aerocom1/'\n",
      "    '/lustre/storeA/project/aerocom/aerocom2/'\n",
      "    ...\n",
      "    '/lustre/storeA/project/aerocom/aerocom-users-database/AEROCOM-PHASE-II-IND3/'\n",
      "    '/lustre/storeA/project/aerocom/aerocom-users-database/AEROCOM-PHASE-II-IND2/']\n",
      "\n",
      "MODELBASEDIR: /lustre/storeA/project/aerocom/\n",
      "OBSBASEDIR: /lustre/storeA/project/aerocom/\n",
      "OBSDATACACHEDIR: /home/jonasg/pyaerocom/_cache\n",
      "OUT_BASEDIR: /home/jonasg/pyaerocom\n",
      "_config_ini: /home/jonasg/github/cloned/pyaerocom/pyaerocom/data/paths.ini\n",
      "AERONET_INV_V3L15_DAILY_NAME: AeronetInvV3Lev1.5.daily\n",
      "AERONET_INV_V3L2_DAILY_NAME: AeronetInvV3Lev2.daily\n",
      "DONOTCACHEFILE: /home/jonasg/pyaerocom/_cache/DONOTCACHE\n",
      "PLOT_DIR: /home/jonasg/pyaerocom/plots\n",
      "VAR_PARAM: \n",
      "----------------------\n",
      "Pyaerocom AllVariables\n",
      "----------------------\n",
      "DEFAULT\n",
      "od550aer\n",
      "od550lt1aer\n",
      "od550gt1aer\n",
      "abs550aer\n",
      "od440aer\n",
      "abs440aer\n",
      "ec550aer\n",
      "scatc550aer\n",
      "scatc550lt1aer\n",
      "bscatc550aer\n",
      "absc550lt1aer\n",
      "ssa440aer\n",
      "ssa675aer\n",
      "ssa870aer\n",
      "ssa1020aer\n",
      "ang4487aer\n",
      "angabs4487aer\n",
      "zdust\n",
      "\n",
      "Aliases\n",
      ".......\n",
      "absc550aer = abs550aer\n"
     ]
    }
   ],
   "source": [
    "cfg.reload()\n",
    "print(\"Current config: {}\".format(pya.const.short_str()))"
   ]
  },
  {
   "cell_type": "markdown",
   "metadata": {},
   "source": [
    "The ``reload`` (and ``load_config``) method actually checks if the currently defined base directories exist, and if not, it uses the ones that are defined in the [paths.ini](http://aerocom.met.no/pyaerocom/config_files.html#paths-and-directories) file. This is the why the above configuration is the intial one. If you choose valid paths, this should work."
   ]
  },
  {
   "cell_type": "code",
   "execution_count": 7,
   "metadata": {},
   "outputs": [
    {
     "name": "stdout",
     "output_type": "stream",
     "text": [
      "All paths valid? True\n",
      "Current config: \n",
      "Pyaerocom Config\n",
      "----------------\n",
      "\n",
      "MIN_YEAR: 0\n",
      "MAX_YEAR: 20000\n",
      "GRID_IO: \n",
      "Pyaerocom GridIO\n",
      "----------------\n",
      "\n",
      "   FILE_TYPE: .nc\n",
      "   TS_TYPES (list, 5 items)\n",
      "   ['hourly'\n",
      "    '3hourly'\n",
      "    ...\n",
      "    'monthly'\n",
      "    'yearly']\n",
      "\n",
      "   DEL_TIME_BOUNDS: True\n",
      "   SHIFT_LONS: True\n",
      "   CHECK_TIME_FILENAME: True\n",
      "   EQUALISE_METADATA: True\n",
      "   USE_RENAMED_DIR: True\n",
      "   USE_FILECONVENTION: True\n",
      "   INCLUDE_SUBDIRS: False\n",
      "OBS_WAVELENGTH_TOL_NM: 10.0\n",
      "OBS_ALLOW_ALT_WAVELENGTHS: True\n",
      "GCOSPERCENTCRIT: 0.1\n",
      "GCOSABSCRIT: 0.04\n",
      "OBSNET_NONE: NONE\n",
      "NOMODELNAME: OBSERVATIONS-ONLY\n",
      "REVISION_FILE: Revision.txt\n",
      "AERONET_SUN_V2L15_AOD_DAILY_NAME: AeronetSunV2Lev1.5.daily\n",
      "AERONET_SUN_V2L15_AOD_ALL_POINTS_NAME: AeronetSun_2.0_NRT\n",
      "AERONET_SUN_V2L2_AOD_DAILY_NAME: AeronetSunV2Lev2.daily\n",
      "AERONET_SUN_V2L2_AOD_ALL_POINTS_NAME: AeronetSunV2Lev2.AP\n",
      "AERONET_SUN_V2L2_SDA_DAILY_NAME: AeronetSDAV2Lev2.daily\n",
      "AERONET_SUN_V2L2_SDA_ALL_POINTS_NAME: AeronetSDAV2Lev2.AP\n",
      "AERONET_SUN_V3L15_AOD_DAILY_NAME: AeronetSunV3Lev1.5.daily\n",
      "AERONET_SUN_V3L15_AOD_ALL_POINTS_NAME: AeronetSunV3Lev1.5.AP\n",
      "AERONET_SUN_V3L2_AOD_DAILY_NAME: AeronetSunV3Lev2.daily\n",
      "AERONET_SUN_V3L2_AOD_ALL_POINTS_NAME: AeronetSunV3Lev2.AP\n",
      "AERONET_SUN_V3L15_SDA_DAILY_NAME: AeronetSDAV3Lev1.5.daily\n",
      "AERONET_SUN_V3L15_SDA_ALL_POINTS_NAME: AeronetSDAV3Lev1.5.AP\n",
      "AERONET_SUN_V3L2_SDA_DAILY_NAME: AeronetSDAV3Lev2.daily\n",
      "AERONET_SUN_V3L2_SDA_ALL_POINTS_NAME: AeronetSDAV3Lev2.AP\n",
      "AERONET_INV_V2L15_DAILY_NAME: AeronetInvV2Lev1.5.daily\n",
      "AERONET_INV_V2L15_ALL_POINTS_NAME: AeronetInvV2Lev1.5.AP\n",
      "AERONET_INV_V2L2_DAILY_NAME: AeronetInvV2Lev2.daily\n",
      "AERONET_INV_V2L2_ALL_POINTS_NAME: AeronetInvV2Lev2.AP\n",
      "EBAS_MULTICOLUMN_NAME: EBASMC\n",
      "EEA_NAME: EEAAQeRep\n",
      "EARLINET_NAME: EARLINET\n",
      "OBSCONFIG (dict)\n",
      "MODELDIRS (list)\n",
      "   ['.aerocom1/'\n",
      "    '.aerocom2/'\n",
      "    ...\n",
      "    '.aerocom-users-database/AEROCOM-PHASE-II-IND3/'\n",
      "    '.aerocom-users-database/AEROCOM-PHASE-II-IND2/']\n",
      "\n",
      "MODELBASEDIR: .\n",
      "OBSBASEDIR: .\n",
      "OBSDATACACHEDIR: /home/jonasg/pyaerocom/_cache\n",
      "OUT_BASEDIR: /home/jonasg/pyaerocom\n",
      "_config_ini: /home/jonasg/github/cloned/pyaerocom/pyaerocom/data/paths.ini\n",
      "AERONET_INV_V3L15_DAILY_NAME: AeronetInvV3Lev1.5.daily\n",
      "AERONET_INV_V3L2_DAILY_NAME: AeronetInvV3Lev2.daily\n",
      "DONOTCACHEFILE: /home/jonasg/pyaerocom/_cache/DONOTCACHE\n",
      "PLOT_DIR: /home/jonasg/pyaerocom/plots\n",
      "VAR_PARAM: \n",
      "----------------------\n",
      "Pyaerocom AllVariables\n",
      "----------------------\n",
      "DEFAULT\n",
      "od550aer\n",
      "od550lt1aer\n",
      "od550gt1aer\n",
      "abs550aer\n",
      "od440aer\n",
      "abs440aer\n",
      "ec550aer\n",
      "scatc550aer\n",
      "scatc550lt1aer\n",
      "bscatc550aer\n",
      "absc550lt1aer\n",
      "ssa440aer\n",
      "ssa675aer\n",
      "ssa870aer\n",
      "ssa1020aer\n",
      "ang4487aer\n",
      "angabs4487aer\n",
      "zdust\n",
      "\n",
      "Aliases\n",
      ".......\n",
      "absc550aer = abs550aer\n"
     ]
    }
   ],
   "source": [
    "cfg = pya.const\n",
    "cfg.MODELBASEDIR=\".\"\n",
    "cfg.OBSBASEDIR=\".\"\n",
    "print(\"All paths valid? %s\" %cfg.READY)\n",
    "cfg.reload()\n",
    "print(\"Current config: %s\" %cfg.short_str())"
   ]
  },
  {
   "cell_type": "markdown",
   "metadata": {},
   "source": [
    "This is it! Note, however, that we just inserted the current directory which is not where the data actually is. Thus, before continuing, we have to reload the config as it was at the beginning:"
   ]
  },
  {
   "cell_type": "code",
   "execution_count": 8,
   "metadata": {},
   "outputs": [
    {
     "name": "stdout",
     "output_type": "stream",
     "text": [
      "\n",
      "Pyaerocom Config\n",
      "----------------\n",
      "\n",
      "MIN_YEAR: 0\n",
      "MAX_YEAR: 20000\n",
      "GRID_IO: \n",
      "Pyaerocom GridIO\n",
      "----------------\n",
      "\n",
      "   FILE_TYPE: .nc\n",
      "   TS_TYPES (list, 5 items)\n",
      "   ['hourly'\n",
      "    '3hourly'\n",
      "    ...\n",
      "    'monthly'\n",
      "    'yearly']\n",
      "\n",
      "   DEL_TIME_BOUNDS: True\n",
      "   SHIFT_LONS: True\n",
      "   CHECK_TIME_FILENAME: True\n",
      "   EQUALISE_METADATA: True\n",
      "   USE_RENAMED_DIR: True\n",
      "   USE_FILECONVENTION: True\n",
      "   INCLUDE_SUBDIRS: False\n",
      "OBS_WAVELENGTH_TOL_NM: 10.0\n",
      "OBS_ALLOW_ALT_WAVELENGTHS: True\n",
      "GCOSPERCENTCRIT: 0.1\n",
      "GCOSABSCRIT: 0.04\n",
      "OBSNET_NONE: NONE\n",
      "NOMODELNAME: OBSERVATIONS-ONLY\n",
      "REVISION_FILE: Revision.txt\n",
      "AERONET_SUN_V2L15_AOD_DAILY_NAME: AeronetSunV2Lev1.5.daily\n",
      "AERONET_SUN_V2L15_AOD_ALL_POINTS_NAME: AeronetSun_2.0_NRT\n",
      "AERONET_SUN_V2L2_AOD_DAILY_NAME: AeronetSunV2Lev2.daily\n",
      "AERONET_SUN_V2L2_AOD_ALL_POINTS_NAME: AeronetSunV2Lev2.AP\n",
      "AERONET_SUN_V2L2_SDA_DAILY_NAME: AeronetSDAV2Lev2.daily\n",
      "AERONET_SUN_V2L2_SDA_ALL_POINTS_NAME: AeronetSDAV2Lev2.AP\n",
      "AERONET_SUN_V3L15_AOD_DAILY_NAME: AeronetSunV3Lev1.5.daily\n",
      "AERONET_SUN_V3L15_AOD_ALL_POINTS_NAME: AeronetSunV3Lev1.5.AP\n",
      "AERONET_SUN_V3L2_AOD_DAILY_NAME: AeronetSunV3Lev2.daily\n",
      "AERONET_SUN_V3L2_AOD_ALL_POINTS_NAME: AeronetSunV3Lev2.AP\n",
      "AERONET_SUN_V3L15_SDA_DAILY_NAME: AeronetSDAV3Lev1.5.daily\n",
      "AERONET_SUN_V3L15_SDA_ALL_POINTS_NAME: AeronetSDAV3Lev1.5.AP\n",
      "AERONET_SUN_V3L2_SDA_DAILY_NAME: AeronetSDAV3Lev2.daily\n",
      "AERONET_SUN_V3L2_SDA_ALL_POINTS_NAME: AeronetSDAV3Lev2.AP\n",
      "AERONET_INV_V2L15_DAILY_NAME: AeronetInvV2Lev1.5.daily\n",
      "AERONET_INV_V2L15_ALL_POINTS_NAME: AeronetInvV2Lev1.5.AP\n",
      "AERONET_INV_V2L2_DAILY_NAME: AeronetInvV2Lev2.daily\n",
      "AERONET_INV_V2L2_ALL_POINTS_NAME: AeronetInvV2Lev2.AP\n",
      "EBAS_MULTICOLUMN_NAME: EBASMC\n",
      "EEA_NAME: EEAAQeRep\n",
      "EARLINET_NAME: EARLINET\n",
      "OBSCONFIG (dict)\n",
      "MODELDIRS (list)\n",
      "   ['/lustre/storeA/project/aerocom/aerocom1/'\n",
      "    '/lustre/storeA/project/aerocom/aerocom2/'\n",
      "    ...\n",
      "    '/lustre/storeA/project/aerocom/aerocom-users-database/AEROCOM-PHASE-II-IND3/'\n",
      "    '/lustre/storeA/project/aerocom/aerocom-users-database/AEROCOM-PHASE-II-IND2/']\n",
      "\n",
      "MODELBASEDIR: /lustre/storeA/project/aerocom/\n",
      "OBSBASEDIR: /lustre/storeA/project/aerocom/\n",
      "OBSDATACACHEDIR: /home/jonasg/pyaerocom/_cache\n",
      "OUT_BASEDIR: /home/jonasg/pyaerocom\n",
      "_config_ini: /home/jonasg/github/cloned/pyaerocom/pyaerocom/data/paths.ini\n",
      "AERONET_INV_V3L15_DAILY_NAME: AeronetInvV3Lev1.5.daily\n",
      "AERONET_INV_V3L2_DAILY_NAME: AeronetInvV3Lev2.daily\n",
      "DONOTCACHEFILE: /home/jonasg/pyaerocom/_cache/DONOTCACHE\n",
      "PLOT_DIR: /home/jonasg/pyaerocom/plots\n",
      "VAR_PARAM: \n",
      "----------------------\n",
      "Pyaerocom AllVariables\n",
      "----------------------\n",
      "DEFAULT\n",
      "od550aer\n",
      "od550lt1aer\n",
      "od550gt1aer\n",
      "abs550aer\n",
      "od440aer\n",
      "abs440aer\n",
      "ec550aer\n",
      "scatc550aer\n",
      "scatc550lt1aer\n",
      "bscatc550aer\n",
      "absc550lt1aer\n",
      "ssa440aer\n",
      "ssa675aer\n",
      "ssa870aer\n",
      "ssa1020aer\n",
      "ang4487aer\n",
      "angabs4487aer\n",
      "zdust\n",
      "\n",
      "Aliases\n",
      ".......\n",
      "absc550aer = abs550aer\n"
     ]
    }
   ],
   "source": [
    "cfg.reload(keep_basedirs=False)\n",
    "print(cfg.short_str())"
   ]
  },
  {
   "cell_type": "markdown",
   "metadata": {},
   "source": [
    "Now with everything being set up correctly, we can start analysing the data. The following tutorials focus on the reading, plotting and analysis of model data. Tutorials for observational data will follow soon, as well as tutorials that show how to merge and compare model with observational data. Before you can work with the data, you may want to find out what data is available. The following section shows how to do this."
   ]
  },
  {
   "cell_type": "markdown",
   "metadata": {},
   "source": [
    "#### Finding data directories of  model or observation data\n",
    "\n",
    "Let's presume you want to access data from a certain model or observation and you want to check if it is available. Let's assume you are interested in data from a control run (*CTRL*) of the CAM Oslo model but you do not know the exact model version or run ID. Then, you can browse existing data directories using a wildcard search, simply by (we put it in a try/except block, since with wildcard browse it will not find a unique ID and thus raise an Exception):"
   ]
  },
  {
   "cell_type": "code",
   "execution_count": 9,
   "metadata": {},
   "outputs": [
    {
     "name": "stderr",
     "output_type": "stream",
     "text": [
      "2018-08-28 13:50:47,244:INFO:\n",
      "Searching database for CAM*CTRL*\n"
     ]
    },
    {
     "name": "stderr",
     "output_type": "stream",
     "text": [
      "2018-08-28 13:50:49,183:INFO:\n",
      "Checking if renamed directory exists\n"
     ]
    },
    {
     "name": "stderr",
     "output_type": "stream",
     "text": [
      "2018-08-28 13:50:51,487:INFO:\n",
      "Checking if renamed directory exists\n"
     ]
    },
    {
     "name": "stderr",
     "output_type": "stream",
     "text": [
      "2018-08-28 13:50:51,491:INFO:\n",
      "Checking if renamed directory exists\n"
     ]
    },
    {
     "name": "stderr",
     "output_type": "stream",
     "text": [
      "2018-08-28 13:50:51,495:INFO:\n",
      "Checking if renamed directory exists\n"
     ]
    },
    {
     "name": "stderr",
     "output_type": "stream",
     "text": [
      "2018-08-28 13:50:51,500:INFO:\n",
      "Checking if renamed directory exists\n"
     ]
    },
    {
     "name": "stderr",
     "output_type": "stream",
     "text": [
      "2018-08-28 13:50:51,504:INFO:\n",
      "Checking if renamed directory exists\n"
     ]
    },
    {
     "name": "stderr",
     "output_type": "stream",
     "text": [
      "2018-08-28 13:50:51,508:INFO:\n",
      "Checking if renamed directory exists\n"
     ]
    },
    {
     "name": "stderr",
     "output_type": "stream",
     "text": [
      "2018-08-28 13:50:51,512:INFO:\n",
      "Checking if renamed directory exists\n"
     ]
    },
    {
     "name": "stderr",
     "output_type": "stream",
     "text": [
      "2018-08-28 13:50:51,516:INFO:\n",
      "Checking if renamed directory exists\n"
     ]
    },
    {
     "name": "stderr",
     "output_type": "stream",
     "text": [
      "2018-08-28 13:50:51,520:INFO:\n",
      "Checking if renamed directory exists\n"
     ]
    },
    {
     "name": "stderr",
     "output_type": "stream",
     "text": [
      "2018-08-28 13:50:51,524:INFO:\n",
      "Checking if renamed directory exists\n"
     ]
    },
    {
     "name": "stderr",
     "output_type": "stream",
     "text": [
      "2018-08-28 13:50:51,543:INFO:\n",
      "Checking if renamed directory exists\n"
     ]
    },
    {
     "name": "stderr",
     "output_type": "stream",
     "text": [
      "2018-08-28 13:50:51,547:INFO:\n",
      "Checking if renamed directory exists\n"
     ]
    },
    {
     "name": "stderr",
     "output_type": "stream",
     "text": [
      "2018-08-28 13:50:51,551:INFO:\n",
      "Checking if renamed directory exists\n"
     ]
    },
    {
     "name": "stderr",
     "output_type": "stream",
     "text": [
      "2018-08-28 13:50:51,555:INFO:\n",
      "Checking if renamed directory exists\n"
     ]
    },
    {
     "name": "stderr",
     "output_type": "stream",
     "text": [
      "2018-08-28 13:50:51,559:INFO:\n",
      "Checking if renamed directory exists\n"
     ]
    },
    {
     "name": "stderr",
     "output_type": "stream",
     "text": [
      "2018-08-28 13:50:51,563:INFO:\n",
      "Checking if renamed directory exists\n"
     ]
    },
    {
     "name": "stderr",
     "output_type": "stream",
     "text": [
      "2018-08-28 13:50:51,568:INFO:\n",
      "Checking if renamed directory exists\n"
     ]
    },
    {
     "name": "stdout",
     "output_type": "stream",
     "text": [
      "OSError(\"Found multiple matches for search pattern CAM*CTRL*. Please choose from ['CAMS_REANCTRL', 'CAM5-Oslo_FAMIPWARMCnudge-emi2000.A2.CTRL', 'CAM4-Oslo_Vprelim.A2.CTRL', 'CAM5-MAM3-PNNL.A2.CTRL', 'CAM4-Oslo-Vcmip5online.A2.CTRL', 'CAM4-Oslo-Vcmip5.A2.CTRL', 'CAM4-Oslo-Vcmip5emi2000.A2.CTRL', 'CAM5.1-MAM3-PNNL.A2.CTRL', 'CAM3.A2.CTRL', 'CAM4-Oslo.A2.CTRL', 'BCC_AGCM2.0.1_CAM.A2.CTRL', 'ECMWF-IFS-CY42R1-CAMS-RA-CTRL_AP3-CTRL2016-PD', 'ECMWF-IFS-CY43R1-CAMS-NITRATE-DEV_AP3-CTRL2016-PD', 'CAM5.4_CTRL2016', 'CAM5_CTRL2016', 'CAM5.3-Oslo_CTRL2016', 'CAM5.3-Oslo_AP3-CTRL2016-PD', 'CAM5.3-Oslo_AP3-CTRL2016-PI']\",)\n"
     ]
    }
   ],
   "source": [
    "try:\n",
    "    pya.search_data_dir_aerocom(\"CAM*CTRL*\")\n",
    "except OSError as e:\n",
    "    print(repr(e))"
   ]
  },
  {
   "cell_type": "markdown",
   "metadata": {},
   "source": [
    "#### Reading the aerosol optical detph at 550nm using a specified model ID\n",
    "\n",
    "The resulting list shows possible options that were found in the database. Let's choose the *CAM5.3-Oslo_CTRL2016* run and import the data. In the following cell, we directly instantiate a read class for data import since we know the model and run ID from the previous cell (the read class basically includes the above used search method."
   ]
  },
  {
   "cell_type": "code",
   "execution_count": 10,
   "metadata": {},
   "outputs": [
    {
     "name": "stderr",
     "output_type": "stream",
     "text": [
      "2018-08-28 13:50:51,663:INFO:\n",
      "Searching database for CAM5.3-Oslo_CTRL2016\n"
     ]
    },
    {
     "name": "stderr",
     "output_type": "stream",
     "text": [
      "2018-08-28 13:50:51,911:INFO:\n",
      "Checking if renamed directory exists\n"
     ]
    },
    {
     "name": "stderr",
     "output_type": "stream",
     "text": [
      "2018-08-28 13:50:51,914:INFO:\n",
      "Found match for ID CAM5.3-Oslo_CTRL2016\n"
     ]
    },
    {
     "name": "stderr",
     "output_type": "stream",
     "text": [
      "2018-08-28 13:50:52,194:DEBUG:\n",
      "Read file /lustre/storeA/project/aerocom/aerocom-users-database/AEROCOM-PHASE-III/CAM5.3-Oslo_CTRL2016/renamed/aerocom3_CAM5.3-Oslo_CTRL2016_od550dust_Column_2006_daily.nc\n"
     ]
    },
    {
     "name": "stderr",
     "output_type": "stream",
     "text": [
      "2018-08-28 13:50:52,196:DEBUG:\n",
      "Read file /lustre/storeA/project/aerocom/aerocom-users-database/AEROCOM-PHASE-III/CAM5.3-Oslo_CTRL2016/renamed/aerocom3_CAM5.3-Oslo_CTRL2016_od440aer_Column_2008_daily.nc\n"
     ]
    },
    {
     "name": "stderr",
     "output_type": "stream",
     "text": [
      "2018-08-28 13:50:52,198:DEBUG:\n",
      "Read file /lustre/storeA/project/aerocom/aerocom-users-database/AEROCOM-PHASE-III/CAM5.3-Oslo_CTRL2016/renamed/aerocom3_CAM5.3-Oslo_CTRL2016_od550dryaer_Column_2008_3hourly.nc\n"
     ]
    },
    {
     "name": "stderr",
     "output_type": "stream",
     "text": [
      "2018-08-28 13:50:52,200:DEBUG:\n",
      "Read file /lustre/storeA/project/aerocom/aerocom-users-database/AEROCOM-PHASE-III/CAM5.3-Oslo_CTRL2016/renamed/aerocom3_CAM5.3-Oslo_CTRL2016_od870aer_Column_2008_daily.nc\n"
     ]
    },
    {
     "name": "stderr",
     "output_type": "stream",
     "text": [
      "2018-08-28 13:50:52,202:DEBUG:\n",
      "Read file /lustre/storeA/project/aerocom/aerocom-users-database/AEROCOM-PHASE-III/CAM5.3-Oslo_CTRL2016/renamed/aerocom3_CAM5.3-Oslo_CTRL2016_od550aerh2o_Column_2008_daily.nc\n"
     ]
    },
    {
     "name": "stderr",
     "output_type": "stream",
     "text": [
      "2018-08-28 13:50:52,204:DEBUG:\n",
      "Read file /lustre/storeA/project/aerocom/aerocom-users-database/AEROCOM-PHASE-III/CAM5.3-Oslo_CTRL2016/renamed/aerocom3_CAM5.3-Oslo_CTRL2016_od550dust_Column_2010_3hourly.nc\n"
     ]
    },
    {
     "name": "stderr",
     "output_type": "stream",
     "text": [
      "2018-08-28 13:50:52,206:DEBUG:\n",
      "Read file /lustre/storeA/project/aerocom/aerocom-users-database/AEROCOM-PHASE-III/CAM5.3-Oslo_CTRL2016/renamed/aerocom3_CAM5.3-Oslo_CTRL2016_od550aerh2o_Column_2010_3hourly.nc\n"
     ]
    },
    {
     "name": "stderr",
     "output_type": "stream",
     "text": [
      "2018-08-28 13:50:52,208:DEBUG:\n",
      "Read file /lustre/storeA/project/aerocom/aerocom-users-database/AEROCOM-PHASE-III/CAM5.3-Oslo_CTRL2016/renamed/aerocom3_CAM5.3-Oslo_CTRL2016_od550aerh2o_Column_2010_daily.nc\n"
     ]
    },
    {
     "name": "stderr",
     "output_type": "stream",
     "text": [
      "2018-08-28 13:50:52,210:DEBUG:\n",
      "Read file /lustre/storeA/project/aerocom/aerocom-users-database/AEROCOM-PHASE-III/CAM5.3-Oslo_CTRL2016/renamed/aerocom3_CAM5.3-Oslo_CTRL2016_od870aer_Column_2008_3hourly.nc\n"
     ]
    },
    {
     "name": "stderr",
     "output_type": "stream",
     "text": [
      "2018-08-28 13:50:52,212:DEBUG:\n",
      "Read file /lustre/storeA/project/aerocom/aerocom-users-database/AEROCOM-PHASE-III/CAM5.3-Oslo_CTRL2016/renamed/aerocom3_CAM5.3-Oslo_CTRL2016_abs550aer_Column_2006_daily.nc\n"
     ]
    },
    {
     "name": "stderr",
     "output_type": "stream",
     "text": [
      "2018-08-28 13:50:52,213:DEBUG:\n",
      "Read file /lustre/storeA/project/aerocom/aerocom-users-database/AEROCOM-PHASE-III/CAM5.3-Oslo_CTRL2016/renamed/aerocom3_CAM5.3-Oslo_CTRL2016_od550dryaer_Column_2010_daily.nc\n"
     ]
    },
    {
     "name": "stderr",
     "output_type": "stream",
     "text": [
      "2018-08-28 13:50:52,215:DEBUG:\n",
      "Read file /lustre/storeA/project/aerocom/aerocom-users-database/AEROCOM-PHASE-III/CAM5.3-Oslo_CTRL2016/renamed/aerocom3_CAM5.3-Oslo_CTRL2016_od550lt1aer_Column_2010_3hourly.nc\n"
     ]
    },
    {
     "name": "stderr",
     "output_type": "stream",
     "text": [
      "2018-08-28 13:50:52,217:DEBUG:\n",
      "Read file /lustre/storeA/project/aerocom/aerocom-users-database/AEROCOM-PHASE-III/CAM5.3-Oslo_CTRL2016/renamed/aerocom3_CAM5.3-Oslo_CTRL2016_od440aer_Column_2006_daily.nc\n"
     ]
    },
    {
     "name": "stderr",
     "output_type": "stream",
     "text": [
      "2018-08-28 13:50:52,219:DEBUG:\n",
      "Read file /lustre/storeA/project/aerocom/aerocom-users-database/AEROCOM-PHASE-III/CAM5.3-Oslo_CTRL2016/renamed/aerocom3_CAM5.3-Oslo_CTRL2016_od550lt1aer_Column_2006_3hourly.nc\n"
     ]
    },
    {
     "name": "stderr",
     "output_type": "stream",
     "text": [
      "2018-08-28 13:50:52,220:DEBUG:\n",
      "Read file /lustre/storeA/project/aerocom/aerocom-users-database/AEROCOM-PHASE-III/CAM5.3-Oslo_CTRL2016/renamed/aerocom3_CAM5.3-Oslo_CTRL2016_od550lt1aer_Column_2008_3hourly.nc\n"
     ]
    },
    {
     "name": "stderr",
     "output_type": "stream",
     "text": [
      "2018-08-28 13:50:52,222:DEBUG:\n",
      "Read file /lustre/storeA/project/aerocom/aerocom-users-database/AEROCOM-PHASE-III/CAM5.3-Oslo_CTRL2016/renamed/aerocom3_CAM5.3-Oslo_CTRL2016_od550aer_Column_2006_daily.nc\n"
     ]
    },
    {
     "name": "stderr",
     "output_type": "stream",
     "text": [
      "2018-08-28 13:50:52,223:DEBUG:\n",
      "Read file /lustre/storeA/project/aerocom/aerocom-users-database/AEROCOM-PHASE-III/CAM5.3-Oslo_CTRL2016/renamed/aerocom3_CAM5.3-Oslo_CTRL2016_od550lt1aer_Column_2010_daily.nc\n"
     ]
    },
    {
     "name": "stderr",
     "output_type": "stream",
     "text": [
      "2018-08-28 13:50:52,224:DEBUG:\n",
      "Read file /lustre/storeA/project/aerocom/aerocom-users-database/AEROCOM-PHASE-III/CAM5.3-Oslo_CTRL2016/renamed/aerocom3_CAM5.3-Oslo_CTRL2016_od550dryaer_Column_2006_3hourly.nc\n"
     ]
    },
    {
     "name": "stderr",
     "output_type": "stream",
     "text": [
      "2018-08-28 13:50:52,225:DEBUG:\n",
      "Read file /lustre/storeA/project/aerocom/aerocom-users-database/AEROCOM-PHASE-III/CAM5.3-Oslo_CTRL2016/renamed/aerocom3_CAM5.3-Oslo_CTRL2016_od440aer_Column_2006_3hourly.nc\n"
     ]
    },
    {
     "name": "stderr",
     "output_type": "stream",
     "text": [
      "2018-08-28 13:50:52,226:DEBUG:\n",
      "Read file /lustre/storeA/project/aerocom/aerocom-users-database/AEROCOM-PHASE-III/CAM5.3-Oslo_CTRL2016/renamed/aerocom3_CAM5.3-Oslo_CTRL2016_od550dryaer_Column_2010_3hourly.nc\n"
     ]
    },
    {
     "name": "stderr",
     "output_type": "stream",
     "text": [
      "2018-08-28 13:50:52,227:DEBUG:\n",
      "Read file /lustre/storeA/project/aerocom/aerocom-users-database/AEROCOM-PHASE-III/CAM5.3-Oslo_CTRL2016/renamed/aerocom3_CAM5.3-Oslo_CTRL2016_abs550aer_Column_2008_daily.nc\n"
     ]
    },
    {
     "name": "stderr",
     "output_type": "stream",
     "text": [
      "2018-08-28 13:50:52,228:DEBUG:\n",
      "Read file /lustre/storeA/project/aerocom/aerocom-users-database/AEROCOM-PHASE-III/CAM5.3-Oslo_CTRL2016/renamed/aerocom3_CAM5.3-Oslo_CTRL2016_od870aer_Column_2010_daily.nc\n"
     ]
    },
    {
     "name": "stderr",
     "output_type": "stream",
     "text": [
      "2018-08-28 13:50:52,229:DEBUG:\n",
      "Read file /lustre/storeA/project/aerocom/aerocom-users-database/AEROCOM-PHASE-III/CAM5.3-Oslo_CTRL2016/renamed/aerocom3_CAM5.3-Oslo_CTRL2016_od870aer_Column_2006_daily.nc\n"
     ]
    },
    {
     "name": "stderr",
     "output_type": "stream",
     "text": [
      "2018-08-28 13:50:52,230:DEBUG:\n",
      "Read file /lustre/storeA/project/aerocom/aerocom-users-database/AEROCOM-PHASE-III/CAM5.3-Oslo_CTRL2016/renamed/aerocom3_CAM5.3-Oslo_CTRL2016_od440aer_Column_2010_3hourly.nc\n"
     ]
    },
    {
     "name": "stderr",
     "output_type": "stream",
     "text": [
      "2018-08-28 13:50:52,230:DEBUG:\n",
      "Read file /lustre/storeA/project/aerocom/aerocom-users-database/AEROCOM-PHASE-III/CAM5.3-Oslo_CTRL2016/renamed/aerocom3_CAM5.3-Oslo_CTRL2016_od870aer_Column_2010_3hourly.nc\n"
     ]
    },
    {
     "name": "stderr",
     "output_type": "stream",
     "text": [
      "2018-08-28 13:50:52,231:DEBUG:\n",
      "Read file /lustre/storeA/project/aerocom/aerocom-users-database/AEROCOM-PHASE-III/CAM5.3-Oslo_CTRL2016/renamed/aerocom3_CAM5.3-Oslo_CTRL2016_od550aer_Column_2010_daily.nc\n"
     ]
    },
    {
     "name": "stderr",
     "output_type": "stream",
     "text": [
      "2018-08-28 13:50:52,232:DEBUG:\n",
      "Read file /lustre/storeA/project/aerocom/aerocom-users-database/AEROCOM-PHASE-III/CAM5.3-Oslo_CTRL2016/renamed/aerocom3_CAM5.3-Oslo_CTRL2016_od550dust_Column_2006_3hourly.nc\n"
     ]
    },
    {
     "name": "stderr",
     "output_type": "stream",
     "text": [
      "2018-08-28 13:50:52,232:DEBUG:\n",
      "Read file /lustre/storeA/project/aerocom/aerocom-users-database/AEROCOM-PHASE-III/CAM5.3-Oslo_CTRL2016/renamed/aerocom3_CAM5.3-Oslo_CTRL2016_abs550aer_Column_2010_3hourly.nc\n"
     ]
    },
    {
     "name": "stderr",
     "output_type": "stream",
     "text": [
      "2018-08-28 13:50:52,233:DEBUG:\n",
      "Read file /lustre/storeA/project/aerocom/aerocom-users-database/AEROCOM-PHASE-III/CAM5.3-Oslo_CTRL2016/renamed/aerocom3_CAM5.3-Oslo_CTRL2016_abs550aer_Column_2006_3hourly.nc\n"
     ]
    },
    {
     "name": "stderr",
     "output_type": "stream",
     "text": [
      "2018-08-28 13:50:52,234:DEBUG:\n",
      "Read file /lustre/storeA/project/aerocom/aerocom-users-database/AEROCOM-PHASE-III/CAM5.3-Oslo_CTRL2016/renamed/aerocom3_CAM5.3-Oslo_CTRL2016_abs550aer_Column_2010_daily.nc\n"
     ]
    },
    {
     "name": "stderr",
     "output_type": "stream",
     "text": [
      "2018-08-28 13:50:52,234:DEBUG:\n",
      "Read file /lustre/storeA/project/aerocom/aerocom-users-database/AEROCOM-PHASE-III/CAM5.3-Oslo_CTRL2016/renamed/aerocom3_CAM5.3-Oslo_CTRL2016_od550lt1aer_Column_2008_daily.nc\n"
     ]
    },
    {
     "name": "stderr",
     "output_type": "stream",
     "text": [
      "2018-08-28 13:50:52,235:DEBUG:\n",
      "Read file /lustre/storeA/project/aerocom/aerocom-users-database/AEROCOM-PHASE-III/CAM5.3-Oslo_CTRL2016/renamed/aerocom3_CAM5.3-Oslo_CTRL2016_od550dryaer_Column_2006_daily.nc\n"
     ]
    },
    {
     "name": "stderr",
     "output_type": "stream",
     "text": [
      "2018-08-28 13:50:52,235:DEBUG:\n",
      "Read file /lustre/storeA/project/aerocom/aerocom-users-database/AEROCOM-PHASE-III/CAM5.3-Oslo_CTRL2016/renamed/aerocom3_CAM5.3-Oslo_CTRL2016_od550dust_Column_2008_daily.nc\n"
     ]
    },
    {
     "name": "stderr",
     "output_type": "stream",
     "text": [
      "2018-08-28 13:50:52,236:DEBUG:\n",
      "Read file /lustre/storeA/project/aerocom/aerocom-users-database/AEROCOM-PHASE-III/CAM5.3-Oslo_CTRL2016/renamed/aerocom3_CAM5.3-Oslo_CTRL2016_od550aerh2o_Column_2006_daily.nc\n"
     ]
    },
    {
     "name": "stderr",
     "output_type": "stream",
     "text": [
      "2018-08-28 13:50:52,236:DEBUG:\n",
      "Read file /lustre/storeA/project/aerocom/aerocom-users-database/AEROCOM-PHASE-III/CAM5.3-Oslo_CTRL2016/renamed/aerocom3_CAM5.3-Oslo_CTRL2016_od550aer_Column_2006_3hourly.nc\n"
     ]
    },
    {
     "name": "stderr",
     "output_type": "stream",
     "text": [
      "2018-08-28 13:50:52,237:DEBUG:\n",
      "Read file /lustre/storeA/project/aerocom/aerocom-users-database/AEROCOM-PHASE-III/CAM5.3-Oslo_CTRL2016/renamed/aerocom3_CAM5.3-Oslo_CTRL2016_od550aer3d_ModelLevel_2010_3hourly.nc\n"
     ]
    },
    {
     "name": "stderr",
     "output_type": "stream",
     "text": [
      "2018-08-28 13:50:52,237:DEBUG:\n",
      "Read file /lustre/storeA/project/aerocom/aerocom-users-database/AEROCOM-PHASE-III/CAM5.3-Oslo_CTRL2016/renamed/aerocom3_CAM5.3-Oslo_CTRL2016_od870aer_Column_2006_3hourly.nc\n"
     ]
    },
    {
     "name": "stderr",
     "output_type": "stream",
     "text": [
      "2018-08-28 13:50:52,238:DEBUG:\n",
      "Read file /lustre/storeA/project/aerocom/aerocom-users-database/AEROCOM-PHASE-III/CAM5.3-Oslo_CTRL2016/renamed/aerocom3_CAM5.3-Oslo_CTRL2016_od550aerh2o_Column_2006_3hourly.nc\n"
     ]
    },
    {
     "name": "stderr",
     "output_type": "stream",
     "text": [
      "2018-08-28 13:50:52,238:DEBUG:\n",
      "Read file /lustre/storeA/project/aerocom/aerocom-users-database/AEROCOM-PHASE-III/CAM5.3-Oslo_CTRL2016/renamed/aerocom3_CAM5.3-Oslo_CTRL2016_od550aer_Column_2010_3hourly.nc\n"
     ]
    },
    {
     "name": "stderr",
     "output_type": "stream",
     "text": [
      "2018-08-28 13:50:52,239:DEBUG:\n",
      "Read file /lustre/storeA/project/aerocom/aerocom-users-database/AEROCOM-PHASE-III/CAM5.3-Oslo_CTRL2016/renamed/aerocom3_CAM5.3-Oslo_CTRL2016_od550aer_Column_2008_daily.nc\n"
     ]
    },
    {
     "name": "stderr",
     "output_type": "stream",
     "text": [
      "2018-08-28 13:50:52,239:DEBUG:\n",
      "Read file /lustre/storeA/project/aerocom/aerocom-users-database/AEROCOM-PHASE-III/CAM5.3-Oslo_CTRL2016/renamed/aerocom3_CAM5.3-Oslo_CTRL2016_od550aerh2o_Column_2008_3hourly.nc\n"
     ]
    },
    {
     "name": "stderr",
     "output_type": "stream",
     "text": [
      "2018-08-28 13:50:52,240:DEBUG:\n",
      "Read file /lustre/storeA/project/aerocom/aerocom-users-database/AEROCOM-PHASE-III/CAM5.3-Oslo_CTRL2016/renamed/aerocom3_CAM5.3-Oslo_CTRL2016_od550dryaer_Column_2008_daily.nc\n"
     ]
    },
    {
     "name": "stderr",
     "output_type": "stream",
     "text": [
      "2018-08-28 13:50:52,240:DEBUG:\n",
      "Read file /lustre/storeA/project/aerocom/aerocom-users-database/AEROCOM-PHASE-III/CAM5.3-Oslo_CTRL2016/renamed/aerocom3_CAM5.3-Oslo_CTRL2016_od440aer_Column_2010_daily.nc\n"
     ]
    },
    {
     "name": "stderr",
     "output_type": "stream",
     "text": [
      "2018-08-28 13:50:52,241:DEBUG:\n",
      "Read file /lustre/storeA/project/aerocom/aerocom-users-database/AEROCOM-PHASE-III/CAM5.3-Oslo_CTRL2016/renamed/aerocom3_CAM5.3-Oslo_CTRL2016_od550lt1aer_Column_2006_daily.nc\n"
     ]
    },
    {
     "name": "stderr",
     "output_type": "stream",
     "text": [
      "2018-08-28 13:50:52,241:DEBUG:\n",
      "Read file /lustre/storeA/project/aerocom/aerocom-users-database/AEROCOM-PHASE-III/CAM5.3-Oslo_CTRL2016/renamed/aerocom3_CAM5.3-Oslo_CTRL2016_od550dust_Column_2008_3hourly.nc\n"
     ]
    },
    {
     "name": "stderr",
     "output_type": "stream",
     "text": [
      "2018-08-28 13:50:52,242:DEBUG:\n",
      "Read file /lustre/storeA/project/aerocom/aerocom-users-database/AEROCOM-PHASE-III/CAM5.3-Oslo_CTRL2016/renamed/aerocom3_CAM5.3-Oslo_CTRL2016_abs550aer_Column_2008_3hourly.nc\n"
     ]
    },
    {
     "name": "stderr",
     "output_type": "stream",
     "text": [
      "2018-08-28 13:50:52,242:DEBUG:\n",
      "Read file /lustre/storeA/project/aerocom/aerocom-users-database/AEROCOM-PHASE-III/CAM5.3-Oslo_CTRL2016/renamed/aerocom3_CAM5.3-Oslo_CTRL2016_od550aer_Column_2008_3hourly.nc\n"
     ]
    },
    {
     "name": "stderr",
     "output_type": "stream",
     "text": [
      "2018-08-28 13:50:52,242:DEBUG:\n",
      "Read file /lustre/storeA/project/aerocom/aerocom-users-database/AEROCOM-PHASE-III/CAM5.3-Oslo_CTRL2016/renamed/aerocom3_CAM5.3-Oslo_CTRL2016_deltaz3d_ModelLevel_2010_3hourly.nc\n"
     ]
    },
    {
     "name": "stderr",
     "output_type": "stream",
     "text": [
      "2018-08-28 13:50:52,243:DEBUG:\n",
      "Read file /lustre/storeA/project/aerocom/aerocom-users-database/AEROCOM-PHASE-III/CAM5.3-Oslo_CTRL2016/renamed/aerocom3_CAM5.3-Oslo_CTRL2016_od440aer_Column_2008_3hourly.nc\n"
     ]
    },
    {
     "name": "stderr",
     "output_type": "stream",
     "text": [
      "2018-08-28 13:50:52,243:DEBUG:\n",
      "Read file /lustre/storeA/project/aerocom/aerocom-users-database/AEROCOM-PHASE-III/CAM5.3-Oslo_CTRL2016/renamed/aerocom3_CAM5.3-Oslo_CTRL2016_od550dust_Column_2010_daily.nc\n"
     ]
    },
    {
     "name": "stderr",
     "output_type": "stream",
     "text": [
      "2018-08-28 13:50:52,244:DEBUG:\n",
      "Read file /lustre/storeA/project/aerocom/aerocom-users-database/AEROCOM-PHASE-III/CAM5.3-Oslo_CTRL2016/renamed/aerocom3_CAM5.3-Oslo_CTRL2016_humidity3d_ModelLevel_2010_3hourly.nc\n"
     ]
    }
   ],
   "source": [
    "read = pya.io.ReadGridded(\"CAM5.3-Oslo_CTRL2016\")"
   ]
  },
  {
   "cell_type": "markdown",
   "metadata": {},
   "source": [
    "Okay, let's see what is in there."
   ]
  },
  {
   "cell_type": "code",
   "execution_count": 11,
   "metadata": {},
   "outputs": [
    {
     "name": "stdout",
     "output_type": "stream",
     "text": [
      "\n",
      "Pyaerocom ReadGridded\n",
      "---------------------\n",
      "Model ID: CAM5.3-Oslo_CTRL2016\n",
      "Data directory: /lustre/storeA/project/aerocom/aerocom-users-database/AEROCOM-PHASE-III/CAM5.3-Oslo_CTRL2016/renamed\n",
      "Available variables: ['abs550aer', 'deltaz3d', 'humidity3d', 'od440aer', 'od550aer', 'od550aer3d', 'od550aerh2o', 'od550dryaer', 'od550dust', 'od550lt1aer', 'od870aer']\n",
      "Available years: [2006, 2008, 2010]\n",
      "Available time resolutions ['3hourly', 'daily']\n"
     ]
    }
   ],
   "source": [
    "print(read)"
   ]
  },
  {
   "cell_type": "markdown",
   "metadata": {},
   "source": [
    "Let's load results for the aerosol optical depth (*od550aer*) for march 2010. The read function take a string or a list of strings as input for specifying one or more variables that are supposed to be read. Thus, the return type of this method is ***always a tuple, even if we only provide one variable*** (as in the following example) and as a result, the loaded data object has to be accessed using the first index of the tuple."
   ]
  },
  {
   "cell_type": "code",
   "execution_count": 12,
   "metadata": {},
   "outputs": [
    {
     "name": "stderr",
     "output_type": "stream",
     "text": [
      "2018-08-28 13:50:52,288:DEBUG:\n",
      "FOUND MATCH: aerocom3_CAM5.3-Oslo_CTRL2016_od550aer_Column_2010_3hourly.nc\n"
     ]
    },
    {
     "name": "stderr",
     "output_type": "stream",
     "text": [
      "2018-08-28 13:51:16,876:WARNING:\n",
      "Invalid time dimension.\n",
      "Error message: ValueError(\"Time match error, nominal dates for test array[0 1 2 7] (unit=days since 2004-01-01 00:00:00): ['2010-01-01T00' '2010-01-01T03' '2010-01-01T06' '2010-01-01T21']\\nReceived values after conversion: ['2010-01-01T00' '2010-01-01T00' '2010-01-01T00' '2010-01-01T00']\",)\n"
     ]
    },
    {
     "name": "stderr",
     "output_type": "stream",
     "text": [
      "2018-08-28 13:51:16,877:WARNING:\n",
      "Invalid time axis in file aerocom3_CAM5.3-Oslo_CTRL2016_od550aer_Column_2010_3hourly.nc. Attempting to correct.\n"
     ]
    },
    {
     "name": "stderr",
     "output_type": "stream",
     "text": [
      "2018-08-28 13:51:17,414:INFO:\n",
      "Rolling longitudes to -180 -> 180 definition\n"
     ]
    },
    {
     "name": "stderr",
     "output_type": "stream",
     "text": [
      "2018-08-28 13:51:17,418:INFO:\n",
      "Applying temporal cropping of result cube\n"
     ]
    },
    {
     "name": "stderr",
     "output_type": "stream",
     "text": [
      "2018-08-28 13:51:17,418:INFO:\n",
      "Cropping along time axis based on Timestamps\n"
     ]
    }
   ],
   "source": [
    "data = read.read(\"od550aer\", start_time=\"1 march 2010\", stop_time=\"31 march 2010\")[0]"
   ]
  },
  {
   "cell_type": "markdown",
   "metadata": {},
   "source": [
    "#### Accessing the data and plotting a map \n",
    "\n",
    "The loaded data is of type *GriddedData* and can now be used for further analysis. It's string representation contains a useful summary of what is in there."
   ]
  },
  {
   "cell_type": "code",
   "execution_count": 13,
   "metadata": {},
   "outputs": [
    {
     "name": "stdout",
     "output_type": "stream",
     "text": [
      "pyaerocom.GriddedData: CAM5.3-Oslo_CTRL2016\n",
      "Grid data: Aerosol optical depth at 550nm / (1) (time: 248; latitude: 192; longitude: 288)\n",
      "     Dimension coordinates:\n",
      "          time                            x              -               -\n",
      "          latitude                        -              x               -\n",
      "          longitude                       -              -               x\n",
      "     Attributes:\n",
      "          Conventions: CF-1.0\n",
      "          NCO: 4.3.7\n",
      "          Version: $Name$\n",
      "          case: optINSITUnRemote\n",
      "          history: Wed Feb  8 11:55:24 2017: ncatted -O -a units,od550aer,o,c,1 TMPmnth_od550aer.2010-01.nc\n",
      "Wed...\n",
      "          host: r10i0n0\n",
      "          initial_file: /work/shared/noresm/inputdata/atm/cam/inic/fv/cami-mam3_0000-01-01_0.9...\n",
      "          logname: kirkevag\n",
      "          nco_openmp_thread_number: 1\n",
      "          revision_Id: $Id$\n",
      "          source: CAM\n",
      "          title: UNSET\n",
      "          topography_file: /work/shared/noresm/inputdata/noresm-only/inputForNudging/ERA_f09f09_3...\n"
     ]
    }
   ],
   "source": [
    "print(data)"
   ]
  },
  {
   "cell_type": "markdown",
   "metadata": {},
   "source": [
    "The data comprises 31 time stamps, as expected, since we picked one month and the dataset is daily. Now, for instance, we can crop the data using a predefined region (e.g. South America) and plot the first day of the dataset."
   ]
  },
  {
   "cell_type": "code",
   "execution_count": 14,
   "metadata": {},
   "outputs": [
    {
     "data": {
      "image/png": "[encoded data removed]",
      "text/plain": [
       "<Figure size 1152x576 with 2 Axes>"
      ]
     },
     "metadata": {},
     "output_type": "display_data"
    }
   ],
   "source": [
    "fig = data.crop(region=\"SAMERICA\").quickplot_map(time_idx=0)"
   ]
  },
  {
   "cell_type": "markdown",
   "metadata": {},
   "source": [
    "We might also be interested in the weighted area average for the month that we extracted."
   ]
  },
  {
   "cell_type": "code",
   "execution_count": 15,
   "metadata": {},
   "outputs": [
    {
     "name": "stderr",
     "output_type": "stream",
     "text": [
      "/home/jonasg/anaconda3/lib/python3.6/site-packages/iris/analysis/cartography.py:377: UserWarning: Using DEFAULT_SPHERICAL_EARTH_RADIUS.\n",
      "  warnings.warn(\"Using DEFAULT_SPHERICAL_EARTH_RADIUS.\")\n"
     ]
    },
    {
     "data": {
      "text/plain": [
       "masked_array(data=[0.13707124521646233, 0.1373723321458452,\n",
       "                   0.13640485953205256, 0.13661781887097216,\n",
       "                   0.13832752529888542, 0.13943940046228157,\n",
       "                   0.13906411166070964, 0.13903393246626614,\n",
       "                   0.1389572414826536, 0.1387749384645807,\n",
       "                   0.13859131867159108, 0.1392616918989809,\n",
       "                   0.14148057496888855, 0.14422837963496726,\n",
       "                   0.14485939091969455, 0.14382647033828228,\n",
       "                   0.1429247987684401, 0.14132091948668582,\n",
       "                   0.13963221183937138, 0.13899722350877253,\n",
       "                   0.1397316309699972, 0.140429463344697,\n",
       "                   0.13979820277861796, 0.13931129118926358,\n",
       "                   0.1382730558010573, 0.13705837683541341,\n",
       "                   0.13626943214697504, 0.13656861866930264,\n",
       "                   0.13828947462737487, 0.13862655803764867,\n",
       "                   0.13801004090860575, 0.13816556759043425,\n",
       "                   0.13891506072795737, 0.13885491398159325,\n",
       "                   0.13791297848698755, 0.13786872604208614,\n",
       "                   0.1383256634671104, 0.13802173506964452,\n",
       "                   0.13734295888393036, 0.13670887870882611,\n",
       "                   0.13583143441388867, 0.134603109796585,\n",
       "                   0.1333276946610027, 0.13244025688660607,\n",
       "                   0.13297618583370702, 0.13337864744931724,\n",
       "                   0.13325346476065494, 0.13273727817161787,\n",
       "                   0.13272747346724398, 0.1333092276404929,\n",
       "                   0.1333797519133725, 0.13433262445580588,\n",
       "                   0.13693531065433906, 0.13957995569444528,\n",
       "                   0.13962851699132414, 0.13859857966249953,\n",
       "                   0.13791145087797585, 0.13739929473269538,\n",
       "                   0.13723982261191392, 0.1380459466011261,\n",
       "                   0.13946419690290854, 0.14042819240907664,\n",
       "                   0.13931406757480316, 0.13866676878977408,\n",
       "                   0.13822170463985428, 0.13778772182438,\n",
       "                   0.13651838547716436, 0.13615014242990736,\n",
       "                   0.13744348000076528, 0.13995109480361492,\n",
       "                   0.1411970413507769, 0.14199804429653667,\n",
       "                   0.14258413847594195, 0.14220802982119984,\n",
       "                   0.14140121976767336, 0.14120394722823995,\n",
       "                   0.14162688135139243, 0.14188006322900268,\n",
       "                   0.1414684469806162, 0.14223318292711828,\n",
       "                   0.14334570700875637, 0.14337269717823287,\n",
       "                   0.1421074317050635, 0.14175130499968785,\n",
       "                   0.14035452134831083, 0.1388756394628699,\n",
       "                   0.13762539366487916, 0.13717837639346694,\n",
       "                   0.13737289737903915, 0.13747045610992034,\n",
       "                   0.13745494956066656, 0.1378100303636898,\n",
       "                   0.1382755441221473, 0.13892579338926514,\n",
       "                   0.13933988912083564, 0.14051427623407034,\n",
       "                   0.142736023510284, 0.14312065245179398,\n",
       "                   0.14234607987063616, 0.14275634737217646,\n",
       "                   0.1437991330395562, 0.14502984115661513,\n",
       "                   0.14599941360148747, 0.14601582462470347,\n",
       "                   0.14640728011839496, 0.14610034153933943,\n",
       "                   0.14537368722625044, 0.14578767727711434,\n",
       "                   0.14607726598563622, 0.14605008459289356,\n",
       "                   0.1460609898662843, 0.14703622375646566,\n",
       "                   0.1478730521106064, 0.14803795993760244,\n",
       "                   0.14711712713761174, 0.14729376248796983,\n",
       "                   0.14851956275002343, 0.14967160487601566,\n",
       "                   0.14983351441403536, 0.1495072510640238,\n",
       "                   0.14926850286432325, 0.14944789863237368,\n",
       "                   0.14876039934421642, 0.1488120453274109,\n",
       "                   0.1498588856911828, 0.15175075392107956,\n",
       "                   0.15258806488973015, 0.15286511152135315,\n",
       "                   0.15386619169423127, 0.15464113549871336,\n",
       "                   0.15379449982944376, 0.1543578549941653,\n",
       "                   0.15808873311045932, 0.16173720799971888,\n",
       "                   0.16307998367790294, 0.16233174812565518,\n",
       "                   0.1622602797752089, 0.16177535638150164,\n",
       "                   0.16164991550698743, 0.16343753440952663,\n",
       "                   0.16855594710934646, 0.1719380617102505,\n",
       "                   0.173537727285836, 0.17268164846620168,\n",
       "                   0.17202374731742412, 0.17073150361330935,\n",
       "                   0.1704552789189035, 0.17349453196470094,\n",
       "                   0.17750026098212954, 0.17998882407680658,\n",
       "                   0.18054660903180453, 0.17991221467411075,\n",
       "                   0.17879081786543402, 0.17698044738876634,\n",
       "                   0.17481216302184016, 0.1751095588835362,\n",
       "                   0.17730235300005773, 0.17828917633948513,\n",
       "                   0.17798693352549597, 0.1772903761042442,\n",
       "                   0.17719593452088098, 0.1767203402146187,\n",
       "                   0.17450815886422721, 0.17625358243592468,\n",
       "                   0.17887701620267582, 0.1808136330474918,\n",
       "                   0.1813785961957623, 0.18172509147369986,\n",
       "                   0.18184876453017618, 0.18271725245843057,\n",
       "                   0.18252036797692608, 0.183265249795722,\n",
       "                   0.1844909214607128, 0.18434110595951833,\n",
       "                   0.1836490864781075, 0.1819315626374836,\n",
       "                   0.18101720818481568, 0.17955118573504456,\n",
       "                   0.17735986473912252, 0.17627436278489908,\n",
       "                   0.17619709057120855, 0.17565989305918675,\n",
       "                   0.173237661796461, 0.17174118540853084,\n",
       "                   0.1715433743879658, 0.17103179349744851,\n",
       "                   0.17009143210388886, 0.17036903993748823,\n",
       "                   0.1701968332986933, 0.16931755448903732,\n",
       "                   0.16809969031904087, 0.16694191454539364,\n",
       "                   0.16614923082470998, 0.16574702124976093,\n",
       "                   0.16442009711927774, 0.163817742262745,\n",
       "                   0.16433976044469292, 0.16499539122759532,\n",
       "                   0.16405480998741243, 0.1628713751723746,\n",
       "                   0.16180210801804973, 0.16132300069909628,\n",
       "                   0.16076469208509833, 0.1619812080249729,\n",
       "                   0.16568802507402378, 0.16834462196868816,\n",
       "                   0.1688091207855011, 0.16874451605557048,\n",
       "                   0.16918274517630819, 0.16976238755144346,\n",
       "                   0.16853813844367546, 0.1689505218199379,\n",
       "                   0.17008794466862398, 0.1713995695153675,\n",
       "                   0.17160758485378236, 0.1719104396714293,\n",
       "                   0.17141519454588505, 0.17098573396603006,\n",
       "                   0.17014341748677245, 0.17124457916107655,\n",
       "                   0.17343997831072036, 0.17267167552123458,\n",
       "                   0.17119276567171318, 0.17110151528151052,\n",
       "                   0.17129777088602452, 0.1706512286992157,\n",
       "                   0.1697909385002585, 0.1701305419449026,\n",
       "                   0.17177346958794434, 0.17199251637814433,\n",
       "                   0.1717777280458928, 0.17140460031838234,\n",
       "                   0.1708872614290405, 0.16939067518025105,\n",
       "                   0.16730749171621387, 0.16687632033654826,\n",
       "                   0.16768823626524956, 0.16777431113498986,\n",
       "                   0.16696977975746236, 0.1663374313210154,\n",
       "                   0.16650691596502723, 0.16594519982156614,\n",
       "                   0.1651931704892058, 0.1651909843511451,\n",
       "                   0.16565543871393762, 0.1660138264006659,\n",
       "                   0.16468225292020627, 0.16419141107042712],\n",
       "             mask=[False, False, False, False, False, False, False, False,\n",
       "                   False, False, False, False, False, False, False, False,\n",
       "                   False, False, False, False, False, False, False, False,\n",
       "                   False, False, False, False, False, False, False, False,\n",
       "                   False, False, False, False, False, False, False, False,\n",
       "                   False, False, False, False, False, False, False, False,\n",
       "                   False, False, False, False, False, False, False, False,\n",
       "                   False, False, False, False, False, False, False, False,\n",
       "                   False, False, False, False, False, False, False, False,\n",
       "                   False, False, False, False, False, False, False, False,\n",
       "                   False, False, False, False, False, False, False, False,\n",
       "                   False, False, False, False, False, False, False, False,\n",
       "                   False, False, False, False, False, False, False, False,\n",
       "                   False, False, False, False, False, False, False, False,\n",
       "                   False, False, False, False, False, False, False, False,\n",
       "                   False, False, False, False, False, False, False, False,\n",
       "                   False, False, False, False, False, False, False, False,\n",
       "                   False, False, False, False, False, False, False, False,\n",
       "                   False, False, False, False, False, False, False, False,\n",
       "                   False, False, False, False, False, False, False, False,\n",
       "                   False, False, False, False, False, False, False, False,\n",
       "                   False, False, False, False, False, False, False, False,\n",
       "                   False, False, False, False, False, False, False, False,\n",
       "                   False, False, False, False, False, False, False, False,\n",
       "                   False, False, False, False, False, False, False, False,\n",
       "                   False, False, False, False, False, False, False, False,\n",
       "                   False, False, False, False, False, False, False, False,\n",
       "                   False, False, False, False, False, False, False, False,\n",
       "                   False, False, False, False, False, False, False, False,\n",
       "                   False, False, False, False, False, False, False, False,\n",
       "                   False, False, False, False, False, False, False, False],\n",
       "       fill_value=1e+20)"
      ]
     },
     "execution_count": 15,
     "metadata": {},
     "output_type": "execute_result"
    }
   ],
   "source": [
    "weighted_mean = data.area_weighted_mean()\n",
    "weighted_mean"
   ]
  },
  {
   "cell_type": "code",
   "execution_count": 16,
   "metadata": {},
   "outputs": [
    {
     "data": {
      "text/plain": [
       "<matplotlib.axes._subplots.AxesSubplot at 0x7f5c680b50b8>"
      ]
     },
     "execution_count": 16,
     "metadata": {},
     "output_type": "execute_result"
    },
    {
     "data": {
      "image/png": "[encoded data removed]",
      "text/plain": [
       "<Figure size 432x288 with 1 Axes>"
      ]
     },
     "metadata": {},
     "output_type": "display_data"
    }
   ],
   "source": [
    "import pandas as pd\n",
    "pd.Series(weighted_mean, data.time_stamps()).plot()"
   ]
  },
  {
   "cell_type": "markdown",
   "metadata": {},
   "source": [
    "The following notebook introduces in more detail how pyaerocom handles regions and where they can be defined. In the subsequent tutorial, the `ReadGridded` class is introduced, that was usesed above to import model data in a flexible way based on variable name, time range and temporal resolution. The loaded data for each model and variable is then stored in the analysis class `GriddedData` which we use in the end of this notebook and which will be introduced in a later tutorial."
   ]
  }
 ],
 "metadata": {
  "kernelspec": {
   "display_name": "Python 3",
   "language": "python",
   "name": "python3"
  },
  "language_info": {
   "codemirror_mode": {
    "name": "ipython",
    "version": 3
   },
   "file_extension": ".py",
   "mimetype": "text/x-python",
   "name": "python",
   "nbconvert_exporter": "python",
   "pygments_lexer": "ipython3",
   "version": "3.6.6"
  }
 },
 "nbformat": 4,
 "nbformat_minor": 2
}
