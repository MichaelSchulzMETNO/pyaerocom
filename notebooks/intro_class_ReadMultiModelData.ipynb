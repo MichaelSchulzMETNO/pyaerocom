{
 "cells": [
  {
   "cell_type": "markdown",
   "metadata": {},
   "source": [
    "### Introducing the ReadMultiModelData class\n",
    "\n",
    "The `pyaerocom.ReadMultiModelData` class provides an interface to import multiple variables for an arbitrary number of different models and within a specific time interval. It makes large use of the `ReadModelData` class that provides an interface for importing results from a single model."
   ]
  },
  {
   "cell_type": "code",
   "execution_count": 1,
   "metadata": {},
   "outputs": [],
   "source": [
    "import os\n",
    "import warnings\n",
    "warnings.filterwarnings('ignore')\n",
    "from pyaerocom.io.readmodeldata import ReadMultiModelData"
   ]
  },
  {
   "cell_type": "markdown",
   "metadata": {},
   "source": [
    "Define two models"
   ]
  },
  {
   "cell_type": "code",
   "execution_count": 2,
   "metadata": {},
   "outputs": [],
   "source": [
    "models = [\"AATSR_SU_v4.3\", \"CAM5.3-Oslo_CTRL2016\"]"
   ]
  },
  {
   "cell_type": "markdown",
   "metadata": {},
   "source": [
    "Create and initiate `ReadMultiModelData` class. The direcory for each model as well as all valid files in the model directories are searched on initiation of the instance. Valid here means, that the files belong to the corresponding model. Subsetting of the time interval is done in a later process."
   ]
  },
  {
   "cell_type": "code",
   "execution_count": 3,
   "metadata": {},
   "outputs": [
    {
     "name": "stdout",
     "output_type": "stream",
     "text": [
      "Searching dir for ID AATSR_SU_v4.3 in: /lustre/storeA/project/aerocom/aerocom-users-database/ECMWF/\n",
      "Searching dir for ID AATSR_SU_v4.3 in: /lustre/storeA/project/aerocom/aerocom1/\n",
      "Searching dir for ID AATSR_SU_v4.3 in: /lustre/storeA/project/aerocom/aerocom2/\n",
      "Searching dir for ID AATSR_SU_v4.3 in: /lustre/storeA/project/aerocom/aerocom-users-database/ECLIPSE\n",
      "Searching dir for ID AATSR_SU_v4.3 in: /lustre/storeA/project/aerocom/aerocom-users-database/SATELLITE-DATA/\n",
      "Searching dir for ID AATSR_SU_v4.3 in: /lustre/storeA/project/aerocom/aerocom-users-database/CCI-Aerosol/CCI_AEROSOL_Phase2/\n",
      "Searching dir for ID CAM5.3-Oslo_CTRL2016 in: /lustre/storeA/project/aerocom/aerocom-users-database/ECMWF/\n",
      "Searching dir for ID CAM5.3-Oslo_CTRL2016 in: /lustre/storeA/project/aerocom/aerocom1/\n",
      "Searching dir for ID CAM5.3-Oslo_CTRL2016 in: /lustre/storeA/project/aerocom/aerocom2/\n",
      "Searching dir for ID CAM5.3-Oslo_CTRL2016 in: /lustre/storeA/project/aerocom/aerocom-users-database/ECLIPSE\n",
      "Searching dir for ID CAM5.3-Oslo_CTRL2016 in: /lustre/storeA/project/aerocom/aerocom-users-database/SATELLITE-DATA/\n",
      "Searching dir for ID CAM5.3-Oslo_CTRL2016 in: /lustre/storeA/project/aerocom/aerocom-users-database/CCI-Aerosol/CCI_AEROSOL_Phase2/\n",
      "Searching dir for ID CAM5.3-Oslo_CTRL2016 in: /lustre/storeA/project/aerocom/aerocom-users-database/ACCMIP/\n",
      "Searching dir for ID CAM5.3-Oslo_CTRL2016 in: /lustre/storeA/project/aerocom/aerocom-users-database/ECMWF/\n",
      "Searching dir for ID CAM5.3-Oslo_CTRL2016 in: /lustre/storeA/project/aerocom/aerocom2/EMEP_COPERNICUS/\n",
      "Searching dir for ID CAM5.3-Oslo_CTRL2016 in: /lustre/storeA/project/aerocom/aerocom2/EMEP/\n",
      "Searching dir for ID CAM5.3-Oslo_CTRL2016 in: /lustre/storeA/project/aerocom/aerocom2/EMEP_GLOBAL/\n",
      "Searching dir for ID CAM5.3-Oslo_CTRL2016 in: /lustre/storeA/project/aerocom/aerocom2/EMEP_SVN_TEST/\n",
      "Searching dir for ID CAM5.3-Oslo_CTRL2016 in: /lustre/storeA/project/aerocom/aerocom2/NorESM_SVN_TEST/\n",
      "Searching dir for ID CAM5.3-Oslo_CTRL2016 in: /lustre/storeA/project/aerocom/aerocom2/INCA/\n",
      "Searching dir for ID CAM5.3-Oslo_CTRL2016 in: /lustre/storeA/project/aerocom/aerocom-users-database/HTAP-PHASE-I/\n",
      "Searching dir for ID CAM5.3-Oslo_CTRL2016 in: /lustre/storeA/project/aerocom/aerocom-users-database/HTAP-PHASE-II/\n",
      "Searching dir for ID CAM5.3-Oslo_CTRL2016 in: /lustre/storeA/project/aerocom/aerocom-users-database/AEROCOM-PHASE-I/\n",
      "Searching dir for ID CAM5.3-Oslo_CTRL2016 in: /lustre/storeA/project/aerocom/aerocom-users-database/AEROCOM-PHASE-II/\n",
      "Searching dir for ID CAM5.3-Oslo_CTRL2016 in: /lustre/storeA/project/aerocom/aerocom-users-database/AEROCOM-PHASE-III/\n"
     ]
    },
    {
     "name": "stderr",
     "output_type": "stream",
     "text": [
      "Found: /lustre/storeA/project/aerocom/aerocom-users-database/CCI-Aerosol/CCI_AEROSOL_Phase2/AATSR_SU_v4.3\n",
      "Found: /lustre/storeA/project/aerocom/aerocom-users-database/AEROCOM-PHASE-III/CAM5.3-Oslo_CTRL2016\n"
     ]
    }
   ],
   "source": [
    "read = ReadMultiModelData(models, '2010-01-01','2011-12-31', verbose=True)"
   ]
  },
  {
   "cell_type": "markdown",
   "metadata": {},
   "source": [
    "Let's have a look into one of the two import classes"
   ]
  },
  {
   "cell_type": "code",
   "execution_count": 4,
   "metadata": {},
   "outputs": [
    {
     "name": "stdout",
     "output_type": "stream",
     "text": [
      "Model ID: AATSR_SU_v4.3\n",
      "Model dir: /lustre/storeA/project/aerocom/aerocom-users-database/CCI-Aerosol/CCI_AEROSOL_Phase2/AATSR_SU_v4.3/renamed\n",
      "First detected file: aerocom.AATSR_SU_v4.3.daily.od550erraer.2003.nc\n"
     ]
    }
   ],
   "source": [
    "read_aatsr = read[\"AATSR_SU_v4.3\"]\n",
    "print(\"Model ID: %s\\n\"\n",
    "      \"Model dir: %s\\n\"\n",
    "      \"First detected file: %s\"\n",
    "      %(read_aatsr.model_id, read_aatsr.model_dir, os.path.basename(read_aatsr.files[0])))"
   ]
  },
  {
   "cell_type": "markdown",
   "metadata": {},
   "source": [
    "Define a bunch of test variables that are supposed to be loaded for each model (i.e. that must be contained in both input models)"
   ]
  },
  {
   "cell_type": "code",
   "execution_count": 5,
   "metadata": {},
   "outputs": [],
   "source": [
    "test_vars = [\"od550aer\", \"od550dust\"]"
   ]
  },
  {
   "cell_type": "markdown",
   "metadata": {},
   "source": [
    "Read all variables for all models"
   ]
  },
  {
   "cell_type": "code",
   "execution_count": 6,
   "metadata": {},
   "outputs": [
    {
     "name": "stdout",
     "output_type": "stream",
     "text": [
      "FOUND MATCH: aerocom.AATSR_SU_v4.3.daily.od550aer.2010.nc\n",
      "FOUND MATCH: aerocom.AATSR_SU_v4.3.daily.od550aer.2011.nc\n",
      "daily 2010\n",
      "daily 2011\n",
      "Applying temporal cropping of result cube\n",
      "FOUND MATCH: aerocom.AATSR_SU_v4.3.daily.od550dust.2010.nc\n",
      "FOUND MATCH: aerocom.AATSR_SU_v4.3.daily.od550dust.2011.nc\n",
      "daily 2010\n",
      "daily 2011\n",
      "Applying temporal cropping of result cube\n",
      "FOUND MATCH: aerocom3_CAM5.3-Oslo_CTRL2016_od550aer_Column_2010_daily.nc\n",
      "daily 2010\n",
      "Invalid time dimension. Error message: ValueError(\"Time match error, nominal dates for test array[ 0  1 10] (unit=day since 2004-01-01 00:00:00.00000000 UTC): ['2010-01-01T00:00:00' '2010-01-02T00:00:00' '2010-01-11T00:00:00']\\nReceived values after conversion: ['2004-01-01T00:00:00.000000' '2004-01-02T00:00:00.000000'\\n '2004-01-11T00:00:00.000000']\",)\n",
      "Invalid time axis in file aerocom3_CAM5.3-Oslo_CTRL2016_od550aer_Column_2010_daily.nc. Attempting to correct.\n",
      "Rolling longitudes to -180 -> 180 definition\n",
      "Applying temporal cropping of result cube\n",
      "FOUND MATCH: aerocom3_CAM5.3-Oslo_CTRL2016_od550dust_Column_2010_daily.nc\n",
      "daily 2010\n",
      "Invalid time dimension. Error message: ValueError(\"Time match error, nominal dates for test array[ 0  1 10] (unit=day since 2004-01-01 00:00:00.00000000 UTC): ['2010-01-01T00:00:00' '2010-01-02T00:00:00' '2010-01-11T00:00:00']\\nReceived values after conversion: ['2004-01-01T00:00:00.000000' '2004-01-02T00:00:00.000000'\\n '2004-01-11T00:00:00.000000']\",)\n",
      "Invalid time axis in file aerocom3_CAM5.3-Oslo_CTRL2016_od550dust_Column_2010_daily.nc. Attempting to correct.\n",
      "Rolling longitudes to -180 -> 180 definition\n",
      "Applying temporal cropping of result cube\n",
      "Model ID: AATSR_SU_v4.3 (type=<class 'pyaerocom.io.readmodeldata.ReadModelData'>)\n",
      "Model ID: CAM5.3-Oslo_CTRL2016 (type=<class 'pyaerocom.io.readmodeldata.ReadModelData'>)\n"
     ]
    }
   ],
   "source": [
    "result_dict = read.read(test_vars)\n",
    "for key, val in result_dict.items():\n",
    "    print(\"Model ID: %s (type=%s)\" %(key, type(val)))"
   ]
  },
  {
   "cell_type": "markdown",
   "metadata": {},
   "source": [
    "Print some information about the different data objects"
   ]
  },
  {
   "cell_type": "code",
   "execution_count": 7,
   "metadata": {},
   "outputs": [
    {
     "name": "stdout",
     "output_type": "stream",
     "text": [
      "Current model: AATSR_SU_v4.3\n",
      "\n",
      "Current variable: od550aer\n",
      "pyaerocom.ModelData\n",
      "Grid data: <iris 'Cube' of atmosphere_optical_thickness_due_to_ambient_aerosol / (1) (time: 730; latitude: 180; longitude: 360)>\n",
      "\n",
      "Current variable: od550dust\n",
      "pyaerocom.ModelData\n",
      "Grid data: <iris 'Cube' of atmosphere_optical_thickness_due_to_ambient_aerosol / (1) (time: 730; latitude: 180; longitude: 360)>\n",
      "Current model: CAM5.3-Oslo_CTRL2016\n",
      "\n",
      "Current variable: od550aer\n",
      "pyaerocom.ModelData\n",
      "Grid data: <iris 'Cube' of Aerosol optical depth at 550nm / (1) (time: 365; latitude: 192; longitude: 288)>\n",
      "\n",
      "Current variable: od550dust\n",
      "pyaerocom.ModelData\n",
      "Grid data: <iris 'Cube' of mineral aerosol optical depth 550nm / (1) (time: 365; latitude: 192; longitude: 288)>\n"
     ]
    }
   ],
   "source": [
    "for model_id, result in read.results.items():\n",
    "    print(\"Current model: %s\" %model_id)\n",
    "    for var_name, data in result.data.items():\n",
    "        print(\"\\nCurrent variable: %s\" %var_name)\n",
    "        # data is of type pyaerocom.ModelData which uses an extended representation of the Cube class\n",
    "        print(repr(data))"
   ]
  },
  {
   "cell_type": "markdown",
   "metadata": {},
   "source": [
    "Now arbitrarily crop the last data object."
   ]
  },
  {
   "cell_type": "code",
   "execution_count": 8,
   "metadata": {},
   "outputs": [
    {
     "name": "stdout",
     "output_type": "stream",
     "text": [
      "Cropping along time axis based on Timestamps\n",
      "\n",
      "Start / stop before crop: 2010-01-01 00:00:00 - 2010-12-31 00:00:00\n",
      "\n",
      "Start / stop after crop: 2010-03-15 00:00:00 - 2010-06-22 00:00:00\n"
     ]
    }
   ],
   "source": [
    "dat_crop = data.crop(lon_range=(-30, 30),\n",
    "                     lat_range=(0, 45),\n",
    "                     time_range=('2010-03-15','2010-06-22'))\n",
    "\n",
    "print(\"\\nStart / stop before crop: %s - %s\\n\"\n",
    "      %(data.grid.coord(\"time\").cell(0).point,\n",
    "        data.grid.coord(\"time\").cell(-1).point))\n",
    "\n",
    "print(\"Start / stop after crop: %s - %s\"\n",
    "      %(dat_crop.grid.coord(\"time\").cell(0).point,\n",
    "        dat_crop.grid.coord(\"time\").cell(-1).point))"
   ]
  }
 ],
 "metadata": {
  "kernelspec": {
   "display_name": "Python 3",
   "language": "python",
   "name": "python3"
  },
  "language_info": {
   "codemirror_mode": {
    "name": "ipython",
    "version": 3
   },
   "file_extension": ".py",
   "mimetype": "text/x-python",
   "name": "python",
   "nbconvert_exporter": "python",
   "pygments_lexer": "ipython3",
   "version": "3.6.4"
  }
 },
 "nbformat": 4,
 "nbformat_minor": 2
}
