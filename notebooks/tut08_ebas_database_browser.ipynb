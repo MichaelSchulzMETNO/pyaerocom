{
 "cells": [
  {
   "cell_type": "markdown",
   "metadata": {},
   "source": [
    "### EBAS file query and database browser\n",
    "\n",
    "The previous tutorial showed how to read EBAS NASA Ames files and gave insights into the structure of these files. However, this did not include the specification of an actual data request (for instance: get data from all stations in the arctic that contain measurements of the AOD between 2010 and 2016).\n",
    "\n",
    "In this tutorial, we show, how such requests can be specified easily in pyaerocom and how the database can be browsed for instance by variable name, type of instrument, location or other relevant parameters.\n",
    "\n",
    "The notebook is categorised as follows:\n",
    "\n",
    "- Defining a request\n",
    "- Retrieve all files for a request\n",
    "- Browse the database\n",
    "\n",
    "#### Specifying a request\n",
    "\n",
    "Request parameters can be specified using the ``EbasSQLRequest`` class. E.g.:"
   ]
  },
  {
   "cell_type": "code",
   "execution_count": 1,
   "metadata": {},
   "outputs": [
    {
     "name": "stderr",
     "output_type": "stream",
     "text": [
      "2018-09-05 14:08:17,560:INFO:\n",
      "Reading aliases ini file: /home/jonasg/github/pyaerocom/pyaerocom/data/aliases.ini\n"
     ]
    },
    {
     "name": "stderr",
     "output_type": "stream",
     "text": [
      "2018-09-05 14:08:18,299:WARNING:\n",
      "geopy library is not available. Aeolus data read not enabled\n"
     ]
    },
    {
     "name": "stdout",
     "output_type": "stream",
     "text": [
      "\n",
      "Pyaerocom EbasSQLRequest\n",
      "------------------------\n",
      "variables: ('aerosol_light_scattering_coefficient', 'aerosol_light_backscattering_coefficient', 'pressure')\n",
      "start_date: 2010-01-01\n",
      "stop_date: 2011-01-01\n",
      "station_names: None\n",
      "matrices: None\n",
      "altitude_range: None\n",
      "lon_range: None\n",
      "lat_range: None\n",
      "instrument_types: None\n",
      "statistics: None\n",
      "Filename request string:\n",
      "select distinct filename from variable join station on station.station_code=variable.station_code where comp_name in ('aerosol_light_scattering_coefficient', 'aerosol_light_backscattering_coefficient', 'pressure') and first_end < '2011-01-01' and last_start > '2010-01-01';\n"
     ]
    }
   ],
   "source": [
    "import pyaerocom as pya\n",
    "\n",
    "request = pya.io.ebas_file_index.EbasSQLRequest(variables=('aerosol_light_scattering_coefficient',\n",
    "                                                             'aerosol_light_backscattering_coefficient',\n",
    "                                                             'pressure'),\n",
    "                                                  start_date=\"2010-01-01\", \n",
    "                                                  stop_date=\"2011-01-01\")\n",
    "print(request)"
   ]
  },
  {
   "cell_type": "markdown",
   "metadata": {},
   "source": [
    "You can also output the actual SQL query string:"
   ]
  },
  {
   "cell_type": "code",
   "execution_count": 2,
   "metadata": {},
   "outputs": [
    {
     "name": "stdout",
     "output_type": "stream",
     "text": [
      "select distinct filename from variable join station on station.station_code=variable.station_code where comp_name in ('aerosol_light_scattering_coefficient', 'aerosol_light_backscattering_coefficient', 'pressure') and first_end < '2011-01-01' and last_start > '2010-01-01';\n"
     ]
    }
   ],
   "source": [
    "print(request.make_query_str())"
   ]
  },
  {
   "cell_type": "markdown",
   "metadata": {},
   "source": [
    "The request class is an extended dictionary and can thus be used like a dictionary:"
   ]
  },
  {
   "cell_type": "code",
   "execution_count": 3,
   "metadata": {},
   "outputs": [
    {
     "name": "stdout",
     "output_type": "stream",
     "text": [
      "\n",
      "Pyaerocom EbasSQLRequest\n",
      "------------------------\n",
      "variables: ('aerosol_light_scattering_coefficient', 'aerosol_light_backscattering_coefficient', 'pressure')\n",
      "start_date: 2010-01-01\n",
      "stop_date: 2011-01-01\n",
      "station_names: None\n",
      "matrices: None\n",
      "altitude_range: None\n",
      "lon_range: None\n",
      "lat_range: None\n",
      "instrument_types: nephelometer\n",
      "statistics: None\n",
      "Filename request string:\n",
      "select distinct filename from variable join station on station.station_code=variable.station_code where instr_type in ('nephelometer') and comp_name in ('aerosol_light_scattering_coefficient', 'aerosol_light_backscattering_coefficient', 'pressure') and first_end < '2011-01-01' and last_start > '2010-01-01';\n"
     ]
    }
   ],
   "source": [
    "request.update(instrument_types=(\"nephelometer\"))\n",
    "print(request)"
   ]
  },
  {
   "cell_type": "markdown",
   "metadata": {},
   "source": [
    "#### Execution of file request query\n",
    "\n",
    "Now that we have defined which files we would like to look into, we can execute the query and retrieve all files that match our specifications. This can be done with the ``EbasFileIndex`` class:"
   ]
  },
  {
   "cell_type": "code",
   "execution_count": 4,
   "metadata": {},
   "outputs": [],
   "source": [
    "db = pya.io.EbasFileIndex()\n",
    "files = db.execute_request(request)"
   ]
  },
  {
   "cell_type": "code",
   "execution_count": 5,
   "metadata": {},
   "outputs": [
    {
     "name": "stdout",
     "output_type": "stream",
     "text": [
      "Total number of files found:56\n",
      "Request:\n",
      "\n",
      "Pyaerocom EbasSQLRequest\n",
      "------------------------\n",
      "variables: ('aerosol_light_scattering_coefficient', 'aerosol_light_backscattering_coefficient', 'pressure')\n",
      "start_date: 2010-01-01\n",
      "stop_date: 2011-01-01\n",
      "station_names: None\n",
      "matrices: None\n",
      "altitude_range: None\n",
      "lon_range: None\n",
      "lat_range: None\n",
      "instrument_types: nephelometer\n",
      "statistics: None\n",
      "Filename request string:\n",
      "select distinct filename from variable join station on station.station_code=variable.station_code where instr_type in ('nephelometer') and comp_name in ('aerosol_light_scattering_coefficient', 'aerosol_light_backscattering_coefficient', 'pressure') and first_end < '2011-01-01' and last_start > '2010-01-01';\n"
     ]
    }
   ],
   "source": [
    "print(\"Total number of files found:{}\\nRequest:\\n{}\".format(len(files), request))"
   ]
  },
  {
   "cell_type": "markdown",
   "metadata": {},
   "source": [
    "#### Browsing the database\n",
    "\n",
    "The ``EbasFileIndex`` class provides some convenience function that allow to browse meta information for a given request. These are illustrated in the following:\n",
    "\n",
    "For instance, we can check, what variables could actually be retrieved in the request:"
   ]
  },
  {
   "cell_type": "code",
   "execution_count": 6,
   "metadata": {},
   "outputs": [
    {
     "name": "stdout",
     "output_type": "stream",
     "text": [
      "[('pressure',), ('aerosol_light_backscattering_coefficient',), ('aerosol_light_scattering_coefficient',)]\n"
     ]
    }
   ],
   "source": [
    "print(db.contains_variables(request))"
   ]
  },
  {
   "cell_type": "markdown",
   "metadata": {},
   "source": [
    "Or what matrices the data contains:"
   ]
  },
  {
   "cell_type": "code",
   "execution_count": 7,
   "metadata": {},
   "outputs": [
    {
     "name": "stdout",
     "output_type": "stream",
     "text": [
      "[('instrument',), ('aerosol',), ('pm10',), ('pm1',)]\n"
     ]
    }
   ],
   "source": [
    "print(db.contains_matrices(request))"
   ]
  },
  {
   "cell_type": "markdown",
   "metadata": {},
   "source": [
    "Or which station coordinates (lon, lat) the dataset contains:"
   ]
  },
  {
   "cell_type": "code",
   "execution_count": 8,
   "metadata": {},
   "outputs": [
    {
     "name": "stdout",
     "output_type": "stream",
     "text": [
      "[(23.583333, 42.166667), (-79.783839, 44.231006), (-122.9576034546, 50.059299469), (-104.986864, 54.353743), (-62.3415260315, 82.4991455078), (7.985, 46.5475), (11.0096197128, 47.8014984131), (12.93386, 51.53014), (10.97964, 47.4165), (-8.266, -70.666), (-16.4994, 28.309), (-3.605, 37.164), (2.35, 41.766667), (24.283333, 61.85), (24.116111111, 67.973333333), (2.95, 45.76667), (25.666667, 35.316667), (19.583333, 46.966667), (-9.89944, 53.32583), (77.151389, 28.427778), (8.633333, 45.8), (10.7, 44.183333), (126.17, 33.28), (4.926389, 51.970278), (8.252, 58.38853), (11.888333, 78.906667), (2.533333, -72.016667), (-65.618, 18.381), (13.15, 56.016667), (120.87, 23.47), (-156.6114654541, 71.3230133057), (-111.9841, 35.9731), (-112.1288, 36.0778), (-111.6832, 34.3405), (-112.8, 31.9506), (-109.3889, 32.0097), (-155.5761566162, 19.5362300873), (-86.148, 37.1317), (-68.2608, 44.3772), (-113.9958, 48.5103), (-81.7, 36.2), (-103.1772, 29.3022), (-97.5, 36.6), (-24.7999992371, -89.9969482422), (-124.1510009766, 41.0541000366), (-105.5457, 40.2783), (-111.9692, 35.1406), (-77.04, 38.9), (-109.7958, 34.9139), (18.48968, -34.35348)]\n"
     ]
    }
   ],
   "source": [
    "print(db.contains_coordinates(request))"
   ]
  },
  {
   "cell_type": "markdown",
   "metadata": {},
   "source": [
    "Now, let's narrow this down:"
   ]
  },
  {
   "cell_type": "code",
   "execution_count": 9,
   "metadata": {},
   "outputs": [
    {
     "name": "stdout",
     "output_type": "stream",
     "text": [
      "[(-62.3415260315, 82.4991455078), (24.283333, 61.85), (24.116111111, 67.973333333), (11.888333, 78.906667), (-156.6114654541, 71.3230133057)]\n"
     ]
    }
   ],
   "source": [
    "request.update(lat_range=(60, 90))\n",
    "print(db.contains_coordinates(request))"
   ]
  },
  {
   "cell_type": "markdown",
   "metadata": {},
   "source": [
    "Print all station names:"
   ]
  },
  {
   "cell_type": "code",
   "execution_count": 10,
   "metadata": {},
   "outputs": [
    {
     "name": "stdout",
     "output_type": "stream",
     "text": [
      "[('Alert',), ('Hyytiälä',), ('Pallas (Sammaltunturi)',), ('Zeppelin mountain (Ny-Ålesund)',), ('Barrow',)]\n"
     ]
    }
   ],
   "source": [
    "print(db.contains_station_names(request))"
   ]
  },
  {
   "cell_type": "markdown",
   "metadata": {},
   "source": [
    "#### Custom browsing\n",
    "\n",
    "The previous browsing methods (e.g. `contains_coordinates()`, `contains_matrices`, `contains_variables`) are all just simple wrappers for the general query method `make_query_str` of the `EbasSQLRequest` class, that is then called by the `EbasFileIndex` class using the method `execute_request`). Thus, if needed, you may define your own request simply by using the provided interface. Here an example using the request constraints specified above. Let's say we want to retrieve a list of station names and their coordinates (lon, lat, alt). \n",
    "This can be done by calling (we store the results in a list named `station_info`):"
   ]
  },
  {
   "cell_type": "code",
   "execution_count": 11,
   "metadata": {},
   "outputs": [
    {
     "name": "stdout",
     "output_type": "stream",
     "text": [
      "('Alert', -62.3415260315, 82.4991455078, 210.0)\n",
      "('Hyytiälä', 24.283333, 61.85, 181.0)\n",
      "('Pallas (Sammaltunturi)', 24.116111111, 67.973333333, 565.0)\n",
      "('Zeppelin mountain (Ny-Ålesund)', 11.888333, 78.906667, 474.0)\n",
      "('Barrow', -156.6114654541, 71.3230133057, 11.0)\n"
     ]
    }
   ],
   "source": [
    "query_str = request.make_query_str(what=(\"station_name\",\n",
    "                                         \"station_longitude\",\n",
    "                                         \"station_latitude\",\n",
    "                                         \"station_altitude\"))\n",
    "\n",
    "station_info = db.execute_request(query_str)\n",
    "\n",
    "for item in station_info:\n",
    "    print(item)"
   ]
  },
  {
   "cell_type": "markdown",
   "metadata": {},
   "source": [
    "You can see that the results for each station are stored in tuples in the order of the request."
   ]
  },
  {
   "cell_type": "markdown",
   "metadata": {},
   "source": [
    "#### Read all files \n",
    "\n",
    "Let's update the file list and read all files."
   ]
  },
  {
   "cell_type": "code",
   "execution_count": 12,
   "metadata": {},
   "outputs": [
    {
     "name": "stdout",
     "output_type": "stream",
     "text": [
      "Total number of files found: 7\n"
     ]
    }
   ],
   "source": [
    "files = db.execute_request(request)\n",
    "print(\"Total number of files found: {}\".format(len(files)))"
   ]
  },
  {
   "cell_type": "markdown",
   "metadata": {},
   "source": [
    "Let's read the files:"
   ]
  },
  {
   "cell_type": "code",
   "execution_count": 13,
   "metadata": {},
   "outputs": [
    {
     "name": "stderr",
     "output_type": "stream",
     "text": [
      "2018-09-05 14:08:23,106:INFO:\n",
      "Reading NASA Ames file:\n",
      "/lustre/storeA/project/aerocom/aerocom1/AEROCOM_OBSDATA/EBASMultiColumn/data/data/CA0420G.20100101000000.20150209103939.nephelometer...1y.1h.CA01L_TSI_3563_ALT.CA01L_scat_coef.lev2.nas\n"
     ]
    },
    {
     "name": "stderr",
     "output_type": "stream",
     "text": [
      "2018-09-05 14:08:23,135:WARNING:\n",
      "Failed to read header row 6.\n",
      "2010 01 01 2015 02 09\n",
      "\n",
      "Error msg: IndexError('list index out of range',)\n"
     ]
    },
    {
     "name": "stderr",
     "output_type": "stream",
     "text": [
      "2018-09-05 14:08:23,142:DEBUG:\n",
      "Ignoring line no. 97: 0\n",
      "\n"
     ]
    },
    {
     "name": "stderr",
     "output_type": "stream",
     "text": [
      "2018-09-05 14:08:23,144:DEBUG:\n",
      "Ignoring line no. 98: 53\n",
      "\n"
     ]
    },
    {
     "name": "stderr",
     "output_type": "stream",
     "text": [
      "2018-09-05 14:08:23,147:DEBUG:\n",
      "REACHED DATA BLOCK\n"
     ]
    },
    {
     "name": "stderr",
     "output_type": "stream",
     "text": [
      "2018-09-05 14:08:23,148:DEBUG:\n",
      "  0.000000   0.041667   973.59 0.392000   0.70 0.392000  301.32 0.392000  1.70400000 0.392000 99.99999999 0.460000  1.398528 0.392000 99.999999 0.460000  1.897151 0.392000 99.999999 0.460000  1.60500000 0.392000 99.99999999 0.460000  1.520000 0.392000 99.999999 0.460000  1.682868 0.392000 99.999999 0.460000  1.41100000 0.392000 99.99999999 0.460000  1.302849 0.392000 99.999999 0.460000  1.537151 0.392000 99.999999 0.460000  16.39900000 0.392000 999.99999999 0.460000  15.911377 0.392000 999.999999 0.460000  17.052887 0.392000 999.999999 0.460000  14.22400000 0.392000 999.99999999 0.460000  13.938566 0.392000 999.999999 0.460000  14.567189 0.392000 999.999999 0.460000  11.62600000 0.392000 999.99999999 0.460000  11.227075 0.392000 999.999999 0.460000  11.987189 0.392000 999.999999 0.460000 99999.99 0.460000 999.99 0.460000 9999.99 0.460000\n",
      "\n"
     ]
    },
    {
     "name": "stderr",
     "output_type": "stream",
     "text": [
      "2018-09-05 14:08:23,627:INFO:\n",
      "Reading NASA Ames file:\n",
      "/lustre/storeA/project/aerocom/aerocom1/AEROCOM_OBSDATA/EBASMultiColumn/data/data/CA0420G.20100101000000.20170516083933.nephelometer..pm10.1y.1h.CA01L_TSI_3563_ALT_pm10.CA01L_scat_coef.lev2.nas\n"
     ]
    },
    {
     "name": "stderr",
     "output_type": "stream",
     "text": [
      "2018-09-05 14:08:23,840:WARNING:\n",
      "Failed to read header row 6.\n",
      "2010 01 01 2017 05 16\n",
      "\n",
      "Error msg: IndexError('list index out of range',)\n"
     ]
    },
    {
     "name": "stderr",
     "output_type": "stream",
     "text": [
      "2018-09-05 14:08:23,844:DEBUG:\n",
      "Ignoring line no. 35: 0\n",
      "\n"
     ]
    },
    {
     "name": "stderr",
     "output_type": "stream",
     "text": [
      "2018-09-05 14:08:23,846:DEBUG:\n",
      "Ignoring line no. 36: 54\n",
      "\n"
     ]
    },
    {
     "name": "stderr",
     "output_type": "stream",
     "text": [
      "2018-09-05 14:08:23,851:DEBUG:\n",
      "REACHED DATA BLOCK\n"
     ]
    },
    {
     "name": "stderr",
     "output_type": "stream",
     "text": [
      "2018-09-05 14:08:23,853:DEBUG:\n",
      "  0.000000   0.041667   973.59   0.70  301.32  1.11600000  0.808528  1.317151  1.06500000  0.980000  1.142868 -0.96600000 -1.072868 -0.842849  14.61500000  14.062792  15.367189  11.70000000  11.392830  12.000057   6.56100000   6.185641   6.912868 0.392000\n",
      "\n"
     ]
    },
    {
     "name": "stderr",
     "output_type": "stream",
     "text": [
      "2018-09-05 14:08:24,187:INFO:\n",
      "Reading NASA Ames file:\n",
      "/lustre/storeA/project/aerocom/aerocom1/AEROCOM_OBSDATA/EBASMultiColumn/data/data/FI0050R.20100101000000.20121004000000.nephelometer..aerosol.1y.1h.FI03L_TSI3563.FI03L_Corrected_according_to_Anderson_and_Ogre..nas\n"
     ]
    },
    {
     "name": "stderr",
     "output_type": "stream",
     "text": [
      "2018-09-05 14:08:24,232:WARNING:\n",
      "Failed to read header row 6.\n",
      "2010 01 01 2012 10 04\n",
      "\n",
      "Error msg: IndexError('list index out of range',)\n"
     ]
    },
    {
     "name": "stderr",
     "output_type": "stream",
     "text": [
      "2018-09-05 14:08:24,236:DEBUG:\n",
      "Ignoring line no. 34: 0\n",
      "\n"
     ]
    },
    {
     "name": "stderr",
     "output_type": "stream",
     "text": [
      "2018-09-05 14:08:24,238:DEBUG:\n",
      "Ignoring line no. 35: 33\n",
      "\n"
     ]
    },
    {
     "name": "stderr",
     "output_type": "stream",
     "text": [
      "2018-09-05 14:08:24,241:DEBUG:\n",
      "REACHED DATA BLOCK\n"
     ]
    },
    {
     "name": "stderr",
     "output_type": "stream",
     "text": [
      "2018-09-05 14:08:24,244:DEBUG:\n",
      "  0.000000   0.041667   2.97   2.87   3.07   2.47   2.42   2.51   2.10   1.91   2.25   27.20   26.77   27.60   19.72   19.37   20.04   12.53   12.26   12.81   980.61  291.42 0.247000\n",
      "\n"
     ]
    },
    {
     "name": "stderr",
     "output_type": "stream",
     "text": [
      "2018-09-05 14:08:24,439:INFO:\n",
      "Reading NASA Ames file:\n",
      "/lustre/storeA/project/aerocom/aerocom1/AEROCOM_OBSDATA/EBASMultiColumn/data/data/FI0096G.20100412110000.20160705103730.nephelometer..pm10.9mo.1h.FI01L_TSI_3563_PAL_dry.FI01L_neph_control_lev1_0_0_1.lev2.nas\n"
     ]
    },
    {
     "name": "stderr",
     "output_type": "stream",
     "text": [
      "2018-09-05 14:08:24,523:WARNING:\n",
      "Failed to read header row 6.\n",
      "2010 01 01 2016 07 05\n",
      "\n",
      "Error msg: IndexError('list index out of range',)\n"
     ]
    },
    {
     "name": "stderr",
     "output_type": "stream",
     "text": [
      "2018-09-05 14:08:24,527:DEBUG:\n",
      "Ignoring line no. 34: 0\n",
      "\n"
     ]
    },
    {
     "name": "stderr",
     "output_type": "stream",
     "text": [
      "2018-09-05 14:08:24,529:DEBUG:\n",
      "Ignoring line no. 35: 60\n",
      "\n"
     ]
    },
    {
     "name": "stderr",
     "output_type": "stream",
     "text": [
      "2018-09-05 14:08:24,533:DEBUG:\n",
      "REACHED DATA BLOCK\n"
     ]
    },
    {
     "name": "stderr",
     "output_type": "stream",
     "text": [
      "2018-09-05 14:08:24,536:DEBUG:\n",
      "101.458333 101.500000  939.0000000  299.4000000   1.196056   1.150314   1.241439   1.005160   0.974795   1.036001   1.022035   0.957909   1.084102   10.408017   10.305080   10.513390    7.616671    7.525326    7.708703   5.327212   5.288039    5.365250 0.390191\n",
      "\n"
     ]
    },
    {
     "name": "stderr",
     "output_type": "stream",
     "text": [
      "2018-09-05 14:08:24,783:INFO:\n",
      "Reading NASA Ames file:\n",
      "/lustre/storeA/project/aerocom/aerocom1/AEROCOM_OBSDATA/EBASMultiColumn/data/data/NO0042G.20100101000000.20150216111241.nephelometer..pm10.1y.1h.SE02L_TSI_3563_ZEP_dry.SE02L_scat_coef.lev2.nas\n"
     ]
    },
    {
     "name": "stderr",
     "output_type": "stream",
     "text": [
      "2018-09-05 14:08:24,885:WARNING:\n",
      "Failed to read header row 6.\n",
      "2010 01 01 2015 02 16\n",
      "\n",
      "Error msg: IndexError('list index out of range',)\n"
     ]
    },
    {
     "name": "stderr",
     "output_type": "stream",
     "text": [
      "2018-09-05 14:08:24,888:DEBUG:\n",
      "Ignoring line no. 35: 0\n",
      "\n"
     ]
    },
    {
     "name": "stderr",
     "output_type": "stream",
     "text": [
      "2018-09-05 14:08:24,891:DEBUG:\n",
      "Ignoring line no. 36: 39\n",
      "\n"
     ]
    },
    {
     "name": "stderr",
     "output_type": "stream",
     "text": [
      "2018-09-05 14:08:24,893:DEBUG:\n",
      "REACHED DATA BLOCK\n"
     ]
    },
    {
     "name": "stderr",
     "output_type": "stream",
     "text": [
      "2018-09-05 14:08:24,896:DEBUG:\n",
      "  0.000000   0.041667  955.500   6.800  300.000    -9.457    -9.629    -9.123   -6.280   -6.519   -6.110  -12.471  -12.627  -12.314     7.019     6.583     7.700     5.635     5.173     5.955    3.842    3.730    4.224 0.459000\n",
      "\n"
     ]
    },
    {
     "name": "stderr",
     "output_type": "stream",
     "text": [
      "2018-09-05 14:08:25,145:INFO:\n",
      "Reading NASA Ames file:\n",
      "/lustre/storeA/project/aerocom/aerocom1/AEROCOM_OBSDATA/EBASMultiColumn/data/data/US0008R.20100101000000.20150819091559.nephelometer...1y.1h.US06L_TSI_3563_BRW.US06L_scat_coef..nas\n"
     ]
    },
    {
     "name": "stderr",
     "output_type": "stream",
     "text": [
      "2018-09-05 14:08:25,195:WARNING:\n",
      "Failed to read header row 6.\n",
      "2010 01 01 2015 08 19\n",
      "\n",
      "Error msg: IndexError('list index out of range',)\n"
     ]
    },
    {
     "name": "stderr",
     "output_type": "stream",
     "text": [
      "2018-09-05 14:08:25,202:DEBUG:\n",
      "Ignoring line no. 85: 0\n",
      "\n"
     ]
    },
    {
     "name": "stderr",
     "output_type": "stream",
     "text": [
      "2018-09-05 14:08:25,205:DEBUG:\n",
      "Ignoring line no. 86: 37\n",
      "\n"
     ]
    },
    {
     "name": "stderr",
     "output_type": "stream",
     "text": [
      "2018-09-05 14:08:25,208:DEBUG:\n",
      "REACHED DATA BLOCK\n"
     ]
    },
    {
     "name": "stderr",
     "output_type": "stream",
     "text": [
      "2018-09-05 14:08:25,210:DEBUG:\n",
      "  0.000000   0.041667  1.25384600 0.000000  1.02888900 0.000000  0.459675 0.000000  0.375144 0.000000   2.001625 0.000000  1.751166 0.000000  0.87384610 0.000000  0.53888890 0.000000  0.659675 0.000000  0.392524 0.000000  1.040975 0.000000  0.712428 0.000000  0.68038460 0.000000  0.39518520 0.000000  0.539675 0.000000  0.251262 0.000000  0.880325 0.000000  0.596214 0.000000  9.8123080E+00 0.000000   5.71963000 0.000000   8.787725 0.000000   4.503978 0.000000   10.482100 0.000000   6.792332 0.000000   8.06538500 0.000000   4.37518500 0.000000   7.818700 0.000000   4.045144 0.000000   8.412600 0.000000   4.726214 0.000000   6.30153800 0.000000   2.75666700 0.000000   5.889675 0.000000   2.540000 0.000000   6.640975 0.000000   2.987476 0.000000\n",
      "\n"
     ]
    },
    {
     "name": "stderr",
     "output_type": "stream",
     "text": [
      "2018-09-05 14:08:25,592:INFO:\n",
      "Reading NASA Ames file:\n",
      "/lustre/storeA/project/aerocom/aerocom1/AEROCOM_OBSDATA/EBASMultiColumn/data/data/US0008R.20100101000000.20150819091559.nephelometer..pm10.1y.1h.US06L_TSI_3563_BRW.US06L_scat_coef.lev2.nas\n"
     ]
    },
    {
     "name": "stderr",
     "output_type": "stream",
     "text": [
      "2018-09-05 14:08:25,633:WARNING:\n",
      "Failed to read header row 6.\n",
      "2010 01 01 2015 08 19\n",
      "\n",
      "Error msg: IndexError('list index out of range',)\n"
     ]
    },
    {
     "name": "stderr",
     "output_type": "stream",
     "text": [
      "2018-09-05 14:08:25,637:DEBUG:\n",
      "Ignoring line no. 35: 0\n",
      "\n"
     ]
    },
    {
     "name": "stderr",
     "output_type": "stream",
     "text": [
      "2018-09-05 14:08:25,639:DEBUG:\n",
      "Ignoring line no. 36: 53\n",
      "\n"
     ]
    },
    {
     "name": "stderr",
     "output_type": "stream",
     "text": [
      "2018-09-05 14:08:25,642:DEBUG:\n",
      "REACHED DATA BLOCK\n"
     ]
    },
    {
     "name": "stderr",
     "output_type": "stream",
     "text": [
      "2018-09-05 14:08:25,645:DEBUG:\n",
      "  0.000000   0.041667  1030.95   0.00  302.69  1.25384615  0.459675   2.001625  0.87384615  0.659675  1.040975  0.68038462  0.539675  0.880325    9.81230769   8.787725   10.482100   8.06538462   7.818700   8.412600   6.30153846   5.889675   6.640975 0.000000\n",
      "\n"
     ]
    }
   ],
   "source": [
    "import os\n",
    "data = []\n",
    "data_dir = os.path.join(pya.const.OBSCONFIG[\"EBASMC\"][\"PATH\"], 'data')\n",
    "for f in files:\n",
    "    data.append(pya.io.EbasNasaAmesFile(os.path.join(data_dir, f[0])))"
   ]
  },
  {
   "cell_type": "code",
   "execution_count": 14,
   "metadata": {},
   "outputs": [
    {
     "data": {
      "text/plain": [
       "7"
      ]
     },
     "execution_count": 14,
     "metadata": {},
     "output_type": "execute_result"
    }
   ],
   "source": [
    "len(data)"
   ]
  }
 ],
 "metadata": {
  "kernelspec": {
   "display_name": "Python 3",
   "language": "python",
   "name": "python3"
  },
  "language_info": {
   "codemirror_mode": {
    "name": "ipython",
    "version": 3
   },
   "file_extension": ".py",
   "mimetype": "text/x-python",
   "name": "python",
   "nbconvert_exporter": "python",
   "pygments_lexer": "ipython3",
   "version": "3.6.6"
  }
 },
 "nbformat": 4,
 "nbformat_minor": 2
}
