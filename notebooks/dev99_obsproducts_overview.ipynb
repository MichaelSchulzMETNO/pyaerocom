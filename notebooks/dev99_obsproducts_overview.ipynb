{
 "cells": [
  {
   "cell_type": "code",
   "execution_count": 1,
   "metadata": {},
   "outputs": [],
   "source": [
    "import pyaerocom as pya\n",
    "from collections import OrderedDict as od\n",
    "#dictionary that is used to store detected variables for each dataset\n",
    "all_vars = {}"
   ]
  },
  {
   "cell_type": "markdown",
   "metadata": {},
   "source": [
    "## Earlinet\n",
    "\n",
    "Information about Earlinet dataset."
   ]
  },
  {
   "cell_type": "code",
   "execution_count": 2,
   "metadata": {},
   "outputs": [],
   "source": [
    "ea_file = '/lustre/storeA/project/aerocom/aerocom1/AEROCOM_OBSDATA/Earlinet/data/ev/f2010/ev1008192050.e532'"
   ]
  },
  {
   "cell_type": "code",
   "execution_count": 3,
   "metadata": {},
   "outputs": [],
   "source": [
    "read_ea = pya.io.read_earlinet.ReadEarlinet(verbose=True)"
   ]
  },
  {
   "cell_type": "code",
   "execution_count": 4,
   "metadata": {},
   "outputs": [
    {
     "data": {
      "text/plain": [
       "{'earlinet': ('ec5503daer', 'ec5323daer', 'ec3553daer', 'zdust')}"
      ]
     },
     "execution_count": 4,
     "metadata": {},
     "output_type": "execute_result"
    }
   ],
   "source": [
    "all_vars[\"earlinet\"] = read_ea.PROVIDES_VARIABLES\n",
    "all_vars"
   ]
  },
  {
   "cell_type": "code",
   "execution_count": 5,
   "metadata": {},
   "outputs": [
    {
     "data": {
      "text/plain": [
       "<xarray.Dataset>\n",
       "Dimensions:           (Length: 253)\n",
       "Dimensions without coordinates: Length\n",
       "Data variables:\n",
       "    Extinction        (Length) float32 ...\n",
       "    ErrorExtinction   (Length) float32 ...\n",
       "    ErrorBackscatter  (Length) float32 ...\n",
       "    Backscatter       (Length) float32 ...\n",
       "    Altitude          (Length) float32 ...\n",
       "Attributes:\n",
       "    Longitude_degrees_east:  -7.91\n",
       "    StopTime_UT:             215121\n",
       "    EmissionWavelength_nm:   532.0\n",
       "    StartDate:               20100819\n",
       "    ResolutionRaw_meter:     30.0\n",
       "    ZenithAngle_degrees:     5.0\n",
       "    System:                  Raman Lidar PAOLI, CGE\n",
       "    Comments:                earlinet\n",
       "    ShotsAveraged:           72000\n",
       "    DetectionMode:           photon counting\n",
       "    Location:                Evora, Portugal\n",
       "    ResolutionEvaluated:     invalid data up to 6535.51288222038; 1530 m up t...\n",
       "    InputParameters:         Sonde: 10081921.lin; Ovl file: 100426-532-corrfu...\n",
       "    Latitude_degrees_north:  38.57\n",
       "    Altitude_meter_asl:      290.0\n",
       "    DetectionWavelength_nm:  607.0\n",
       "    StartTime_UT:            205050\n",
       "    EvaluationMethod:        Raman"
      ]
     },
     "execution_count": 5,
     "metadata": {},
     "output_type": "execute_result"
    }
   ],
   "source": [
    "ds = read_ea.read_file(ea_file)\n",
    "ds"
   ]
  },
  {
   "cell_type": "markdown",
   "metadata": {},
   "source": [
    "## CALIOP"
   ]
  },
  {
   "cell_type": "code",
   "execution_count": 6,
   "metadata": {},
   "outputs": [
    {
     "name": "stdout",
     "output_type": "stream",
     "text": [
      "OSError(\"No unique match found for ID ot pattern Caliop*. Found multiple matches. Please choose from the following list: ['CALIOP_SylvainPetiotWork', 'CALIOP.V3.00', 'CALIOP.V3.00.DN.90', 'CALIOP.V3.00.DN.10', 'CALIOP.V3.00.DN.50', 'CALIOP3.10x5', 'CALIOP3_PM', 'CALIOP3']\",)\n"
     ]
    }
   ],
   "source": [
    "try:\n",
    "    pya.io.helpers.search_data_dir_aerocom(\"Caliop*\")\n",
    "except Exception as e:\n",
    "    print(repr(e))"
   ]
  },
  {
   "cell_type": "markdown",
   "metadata": {},
   "source": [
    "### CALIOP3"
   ]
  },
  {
   "cell_type": "code",
   "execution_count": 7,
   "metadata": {},
   "outputs": [
    {
     "name": "stdout",
     "output_type": "stream",
     "text": [
      "Found match for ID CALIOP3\n",
      "Checking if renamed directory exists\n",
      "Found directory /lustre/storeA/project/aerocom/aerocom-users-database/SATELLITE-DATA/CALIOP3/renamed\n",
      "Failed to import file landsea_CALIOP3.nc\n",
      "Error: OSError('Failed to extract year information from file landsea_CALIOP3.nc using file convention aerocom2',)\n",
      "Failed to import file izana.nc\n",
      "Error: OSError('Failed to extract year information from file izana.nc using file convention aerocom2',)\n"
     ]
    },
    {
     "data": {
      "text/plain": [
       "{'caliop3': ['ang44873Daer',\n",
       "  'ang44873Ddust',\n",
       "  'ang4487aer',\n",
       "  'ang4487cs3Daer',\n",
       "  'ang4487cs3Ddust',\n",
       "  'ang4487csaer',\n",
       "  'anglt300_aer',\n",
       "  'ec10643Daer',\n",
       "  'ec10643Ddust',\n",
       "  'ec1064cs3Daer',\n",
       "  'ec1064cs3Ddust',\n",
       "  'ec5323Daer',\n",
       "  'ec5323Dcl',\n",
       "  'ec5323Ddust',\n",
       "  'ec532cs3Daer',\n",
       "  'ec532cs3Ddust',\n",
       "  'lr5323Daer',\n",
       "  'lr5323Ddust',\n",
       "  'lr532cs3Daer',\n",
       "  'lr532cs3Ddust',\n",
       "  'od1064aer',\n",
       "  'od1064csaer',\n",
       "  'od1064lt300_aer',\n",
       "  'od532lt300_aer',\n",
       "  'od550aer',\n",
       "  'od550csaer',\n",
       "  'z3d'],\n",
       " 'earlinet': ('ec5503daer', 'ec5323daer', 'ec3553daer', 'zdust')}"
      ]
     },
     "execution_count": 7,
     "metadata": {},
     "output_type": "execute_result"
    }
   ],
   "source": [
    "read = pya.io.ReadGridded('CALIOP3')\n",
    "all_vars['caliop3'] = read.vars\n",
    "all_vars"
   ]
  },
  {
   "cell_type": "markdown",
   "metadata": {},
   "source": [
    "## MODIS "
   ]
  },
  {
   "cell_type": "markdown",
   "metadata": {},
   "source": [
    "### MODIS6 (Terra)"
   ]
  },
  {
   "cell_type": "code",
   "execution_count": 8,
   "metadata": {},
   "outputs": [
    {
     "name": "stdout",
     "output_type": "stream",
     "text": [
      "OSError(\"No unique match found for ID ot pattern modis*terra*. Found multiple matches. Please choose from the following list: ['MODIS5.1terra', 'MODIS5terra', 'MODIS4terra', 'MODIS6.terra']\",)\n"
     ]
    }
   ],
   "source": [
    "try:\n",
    "    pya.search_data_dir_aerocom(\"modis*terra*\")\n",
    "except Exception as e:\n",
    "    print(repr(e))"
   ]
  },
  {
   "cell_type": "markdown",
   "metadata": {},
   "source": [
    "#### Comment: MODIS4 and MODIS5\n",
    "\n",
    "These files are currently not conform with AEROCOM file naming convention. Thus, for now, stick to MODIS6 data."
   ]
  },
  {
   "cell_type": "code",
   "execution_count": 13,
   "metadata": {},
   "outputs": [
    {
     "name": "stdout",
     "output_type": "stream",
     "text": [
      "Found match for ID MODIS6.terra\n",
      "Checking if renamed directory exists\n",
      "Found directory /lustre/storeA/project/aerocom/aerocom-users-database/SATELLITE-DATA/MODIS6.terra/renamed\n"
     ]
    },
    {
     "data": {
      "text/plain": [
       "{'caliop3': ['ang44873Daer',\n",
       "  'ang44873Ddust',\n",
       "  'ang4487aer',\n",
       "  'ang4487cs3Daer',\n",
       "  'ang4487cs3Ddust',\n",
       "  'ang4487csaer',\n",
       "  'anglt300_aer',\n",
       "  'ec10643Daer',\n",
       "  'ec10643Ddust',\n",
       "  'ec1064cs3Daer',\n",
       "  'ec1064cs3Ddust',\n",
       "  'ec5323Daer',\n",
       "  'ec5323Dcl',\n",
       "  'ec5323Ddust',\n",
       "  'ec532cs3Daer',\n",
       "  'ec532cs3Ddust',\n",
       "  'lr5323Daer',\n",
       "  'lr5323Ddust',\n",
       "  'lr532cs3Daer',\n",
       "  'lr532cs3Ddust',\n",
       "  'od1064aer',\n",
       "  'od1064csaer',\n",
       "  'od1064lt300_aer',\n",
       "  'od532lt300_aer',\n",
       "  'od550aer',\n",
       "  'od550csaer',\n",
       "  'z3d'],\n",
       " 'earlinet': ('ec5503daer', 'ec5323daer', 'ec3553daer', 'zdust'),\n",
       " 'modis6terra': ['od550aer']}"
      ]
     },
     "execution_count": 13,
     "metadata": {},
     "output_type": "execute_result"
    }
   ],
   "source": [
    "read = pya.io.ReadGridded('MODIS6.terra')\n",
    "all_vars['modis6terra'] = read.vars\n",
    "all_vars"
   ]
  },
  {
   "cell_type": "markdown",
   "metadata": {},
   "source": [
    "### MODIS6 (Aqua)"
   ]
  },
  {
   "cell_type": "code",
   "execution_count": 51,
   "metadata": {},
   "outputs": [
    {
     "name": "stdout",
     "output_type": "stream",
     "text": [
      "Found match for ID MODIS6.aqua\n",
      "Checking if renamed directory exists\n",
      "Found directory /lustre/storeA/project/aerocom/aerocom-users-database/SATELLITE-DATA/MODIS6.aqua/renamed\n"
     ]
    },
    {
     "data": {
      "text/plain": [
       "{'caliop3': ['ang44873Daer',\n",
       "  'ang44873Ddust',\n",
       "  'ang4487aer',\n",
       "  'ang4487cs3Daer',\n",
       "  'ang4487cs3Ddust',\n",
       "  'ang4487csaer',\n",
       "  'anglt300_aer',\n",
       "  'ec10643Daer',\n",
       "  'ec10643Ddust',\n",
       "  'ec1064cs3Daer',\n",
       "  'ec1064cs3Ddust',\n",
       "  'ec5323Daer',\n",
       "  'ec5323Dcl',\n",
       "  'ec5323Ddust',\n",
       "  'ec532cs3Daer',\n",
       "  'ec532cs3Ddust',\n",
       "  'lr5323Daer',\n",
       "  'lr5323Ddust',\n",
       "  'lr532cs3Daer',\n",
       "  'lr532cs3Ddust',\n",
       "  'od1064aer',\n",
       "  'od1064csaer',\n",
       "  'od1064lt300_aer',\n",
       "  'od532lt300_aer',\n",
       "  'od550aer',\n",
       "  'od550csaer',\n",
       "  'z3d'],\n",
       " 'earlinet': ('ec5503daer', 'ec5323daer', 'ec3553daer', 'zdust'),\n",
       " 'modis6aqua': ['od550aer'],\n",
       " 'modis6terra': ['od550aer']}"
      ]
     },
     "execution_count": 51,
     "metadata": {},
     "output_type": "execute_result"
    }
   ],
   "source": [
    "read = pya.io.ReadGridded('MODIS6.aqua')\n",
    "all_vars['modis6aqua'] = read.vars\n",
    "all_vars"
   ]
  },
  {
   "cell_type": "code",
   "execution_count": 52,
   "metadata": {},
   "outputs": [
    {
     "name": "stdout",
     "output_type": "stream",
     "text": [
      "FOUND MATCH: aerocom.MODIS6.aqua.daily.od550aer.2002.nc\n",
      "FOUND MATCH: aerocom.MODIS6.aqua.daily.od550aer.2003.nc\n",
      "FOUND MATCH: aerocom.MODIS6.aqua.daily.od550aer.2004.nc\n",
      "FOUND MATCH: aerocom.MODIS6.aqua.daily.od550aer.2005.nc\n",
      "FOUND MATCH: aerocom.MODIS6.aqua.daily.od550aer.2006.nc\n",
      "FOUND MATCH: aerocom.MODIS6.aqua.daily.od550aer.2007.nc\n",
      "FOUND MATCH: aerocom.MODIS6.aqua.daily.od550aer.2008.nc\n",
      "FOUND MATCH: aerocom.MODIS6.aqua.daily.od550aer.2009.nc\n",
      "FOUND MATCH: aerocom.MODIS6.aqua.daily.od550aer.2010.nc\n",
      "FOUND MATCH: aerocom.MODIS6.aqua.daily.od550aer.2011.nc\n",
      "FOUND MATCH: aerocom.MODIS6.aqua.daily.od550aer.2012.nc\n",
      "FOUND MATCH: aerocom.MODIS6.aqua.daily.od550aer.2013.nc\n",
      "FOUND MATCH: aerocom.MODIS6.aqua.daily.od550aer.2014.nc\n",
      "Cubes for variable od550aer have different meta data settings. These will be unified using the metadata dictionary of the first cube (otherwise the method concatenate of the iris package won't work)\n"
     ]
    },
    {
     "ename": "OverflowError",
     "evalue": "(34, 'Numerical result out of range')",
     "output_type": "error",
     "traceback": [
      "\u001b[0;31m---------------------------------------------------------------------------\u001b[0m",
      "\u001b[0;31mOverflowError\u001b[0m                             Traceback (most recent call last)",
      "\u001b[0;32m<ipython-input-52-df187b3fb480>\u001b[0m in \u001b[0;36m<module>\u001b[0;34m()\u001b[0m\n\u001b[1;32m      1\u001b[0m \u001b[0mdata\u001b[0m \u001b[0;34m=\u001b[0m \u001b[0mread\u001b[0m\u001b[0;34m.\u001b[0m\u001b[0mread_var\u001b[0m\u001b[0;34m(\u001b[0m\u001b[0;34m\"od550aer\"\u001b[0m\u001b[0;34m)\u001b[0m\u001b[0;34m\u001b[0m\u001b[0m\n\u001b[0;32m----> 2\u001b[0;31m \u001b[0mdata\u001b[0m\u001b[0;34m.\u001b[0m\u001b[0mquickplot_map\u001b[0m\u001b[0;34m(\u001b[0m\u001b[0;34m)\u001b[0m\u001b[0;34m\u001b[0m\u001b[0m\n\u001b[0m",
      "\u001b[0;32m~/github/pyaerocom/pyaerocom/griddeddata.py\u001b[0m in \u001b[0;36mquickplot_map\u001b[0;34m(self, time_idx, xlim, ylim, **kwargs)\u001b[0m\n\u001b[1;32m    834\u001b[0m         \"\"\"\n\u001b[1;32m    835\u001b[0m         \u001b[0;32mfrom\u001b[0m \u001b[0mpyaerocom\u001b[0m\u001b[0;34m.\u001b[0m\u001b[0mplot\u001b[0m\u001b[0;34m.\u001b[0m\u001b[0mmapping\u001b[0m \u001b[0;32mimport\u001b[0m \u001b[0mplot_map\u001b[0m\u001b[0;34m\u001b[0m\u001b[0m\n\u001b[0;32m--> 836\u001b[0;31m         \u001b[0mfig\u001b[0m \u001b[0;34m=\u001b[0m \u001b[0mplot_map\u001b[0m\u001b[0;34m(\u001b[0m\u001b[0mself\u001b[0m\u001b[0;34m.\u001b[0m\u001b[0mgrid\u001b[0m\u001b[0;34m[\u001b[0m\u001b[0mtime_idx\u001b[0m\u001b[0;34m]\u001b[0m\u001b[0;34m,\u001b[0m \u001b[0mxlim\u001b[0m\u001b[0;34m,\u001b[0m \u001b[0mylim\u001b[0m\u001b[0;34m,\u001b[0m \u001b[0;34m**\u001b[0m\u001b[0mkwargs\u001b[0m\u001b[0;34m)\u001b[0m\u001b[0;34m\u001b[0m\u001b[0m\n\u001b[0m\u001b[1;32m    837\u001b[0m         fig.axes[0].set_title(\"Model: %s, var=%s (%s)\" \n\u001b[1;32m    838\u001b[0m                      %(self.name, self.var_name,\n",
      "\u001b[0;32m~/github/pyaerocom/pyaerocom/plot/mapping.py\u001b[0m in \u001b[0;36mplot_map\u001b[0;34m(data, xlim, ylim, vmin, vmax, add_zero, c_under, c_over, log_scale, discrete_norm, figh, fix_aspect, cbar_levels, cbar_ticks, xticks, yticks, color_theme, projection, fig, verbose)\u001b[0m\n\u001b[1;32m    142\u001b[0m             \u001b[0;31m#to compute upper range of colour range, round up vmax\u001b[0m\u001b[0;34m\u001b[0m\u001b[0;34m\u001b[0m\u001b[0m\n\u001b[1;32m    143\u001b[0m             \u001b[0mexp\u001b[0m \u001b[0;34m=\u001b[0m \u001b[0mfloat\u001b[0m\u001b[0;34m(\u001b[0m\u001b[0mexponent\u001b[0m\u001b[0;34m(\u001b[0m\u001b[0mvmax\u001b[0m\u001b[0;34m)\u001b[0m \u001b[0;34m-\u001b[0m \u001b[0;36m1\u001b[0m\u001b[0;34m)\u001b[0m\u001b[0;34m\u001b[0m\u001b[0m\n\u001b[0;32m--> 144\u001b[0;31m             \u001b[0mvmax_colors\u001b[0m \u001b[0;34m=\u001b[0m \u001b[0mceil\u001b[0m\u001b[0;34m(\u001b[0m\u001b[0mvmax\u001b[0m \u001b[0;34m/\u001b[0m \u001b[0;36m10\u001b[0m\u001b[0;34m**\u001b[0m\u001b[0mexp\u001b[0m\u001b[0;34m)\u001b[0m\u001b[0;34m*\u001b[0m\u001b[0;36m10\u001b[0m\u001b[0;34m**\u001b[0m\u001b[0mexp\u001b[0m\u001b[0;34m\u001b[0m\u001b[0m\n\u001b[0m\u001b[1;32m    145\u001b[0m             bounds = calc_pseudolog_cmaplevels(vmin=vmin, vmax=vmax_colors,\n\u001b[1;32m    146\u001b[0m                                                add_zero=add_zero)\n",
      "\u001b[0;31mOverflowError\u001b[0m: (34, 'Numerical result out of range')"
     ]
    },
    {
     "data": {
      "image/png": "[encoded data removed]",
      "text/plain": [
       "<Figure size 1152x576 with 2 Axes>"
      ]
     },
     "metadata": {},
     "output_type": "display_data"
    }
   ],
   "source": [
    "data = read.read_var(\"od550aer\")\n",
    "data.quickplot_map()"
   ]
  },
  {
   "cell_type": "markdown",
   "metadata": {},
   "source": [
    "## Aeronet"
   ]
  },
  {
   "cell_type": "markdown",
   "metadata": {},
   "source": [
    "## EBAS"
   ]
  }
 ],
 "metadata": {
  "kernelspec": {
   "display_name": "Python 3",
   "language": "python",
   "name": "python3"
  },
  "language_info": {
   "codemirror_mode": {
    "name": "ipython",
    "version": 3
   },
   "file_extension": ".py",
   "mimetype": "text/x-python",
   "name": "python",
   "nbconvert_exporter": "python",
   "pygments_lexer": "ipython3",
   "version": "3.6.4"
  }
 },
 "nbformat": 4,
 "nbformat_minor": 2
}
