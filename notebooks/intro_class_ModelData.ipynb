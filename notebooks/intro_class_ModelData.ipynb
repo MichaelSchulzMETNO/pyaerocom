{
 "cells": [
  {
   "cell_type": "markdown",
   "metadata": {},
   "source": [
    "## Introducing the `ModelData` class\n",
    "\n",
    "This notebook introduces basic features of the `ModelData` class of pyaerocom."
   ]
  },
  {
   "cell_type": "code",
   "execution_count": 2,
   "metadata": {},
   "outputs": [],
   "source": [
    "import warnings\n",
    "warnings.filterwarnings('ignore')\n",
    "from pyaerocom import ModelData"
   ]
  },
  {
   "cell_type": "markdown",
   "metadata": {},
   "source": [
    "Let's get a test file to load"
   ]
  },
  {
   "cell_type": "code",
   "execution_count": 7,
   "metadata": {},
   "outputs": [
    {
     "name": "stdout",
     "output_type": "stream",
     "text": [
      "OrderedDict([('aatsr_su_v4.3', '/lustre/storeA/project/aerocom/aerocom-users-database/CCI-Aerosol/CCI_AEROSOL_Phase2/AATSR_SU_v4.3/renamed/aerocom.AATSR_SU_v4.3.daily.od550aer.2008.nc')])\n"
     ]
    }
   ],
   "source": [
    "from pyaerocom.test_files import get\n",
    "\n",
    "test_files = get()\n",
    "print(test_files[\"models\"])"
   ]
  },
  {
   "cell_type": "markdown",
   "metadata": {},
   "source": [
    "The dictionary, returned by the `get()` function is categorised into two subirectories for model based test files (`key=\"models\"`) and for observation based test files (`key=observations`). So far, there is not much in there (only one test file from the [Aerosol CCI project](http://www.esa-aerosol-cci.org/) but that should suffice here."
   ]
  },
  {
   "cell_type": "code",
   "execution_count": 12,
   "metadata": {},
   "outputs": [],
   "source": [
    "fpath = test_files[\"models\"][\"aatsr_su_v4.3\"]\n",
    "\n",
    "data = ModelData(fpath)"
   ]
  },
  {
   "cell_type": "markdown",
   "metadata": {},
   "source": [
    "The `ModelData` class is largely based on (**but not inherited from**) the [`Cube` class from the iris project](http://scitools.org.uk/iris/docs/v1.9.0/html/iris/iris/cube.html#iris.cube.Cube) and has the nice feature (opposite to the iris `Cube` class, that it can be directly instatiated using a file-path and a valid constraint (instance of `iris.Constraint`, "
   ]
  }
 ],
 "metadata": {
  "kernelspec": {
   "display_name": "Python 3",
   "language": "python",
   "name": "python3"
  },
  "language_info": {
   "codemirror_mode": {
    "name": "ipython",
    "version": 3
   },
   "file_extension": ".py",
   "mimetype": "text/x-python",
   "name": "python",
   "nbconvert_exporter": "python",
   "pygments_lexer": "ipython3",
   "version": "3.6.4"
  }
 },
 "nbformat": 4,
 "nbformat_minor": 2
}
