{
 "cells": [
  {
   "cell_type": "markdown",
   "metadata": {},
   "source": [
    "## Introducing the `ModelData` class\n",
    "\n",
    "This notebook introduces basic features of the `ModelData` class of pyaerocom. The "
   ]
  },
  {
   "cell_type": "code",
   "execution_count": 1,
   "metadata": {},
   "outputs": [],
   "source": [
    "import warnings\n",
    "warnings.filterwarnings('ignore')\n",
    "from pyaerocom import ModelData"
   ]
  },
  {
   "cell_type": "markdown",
   "metadata": {},
   "source": [
    "Let's get a test file to load"
   ]
  },
  {
   "cell_type": "code",
   "execution_count": 2,
   "metadata": {},
   "outputs": [
    {
     "name": "stdout",
     "output_type": "stream",
     "text": [
      "OrderedDict([('aatsr_su_v4.3', '/lustre/storeA/project/aerocom/aerocom-users-database/CCI-Aerosol/CCI_AEROSOL_Phase2/AATSR_SU_v4.3/renamed/aerocom.AATSR_SU_v4.3.daily.od550aer.2008.nc'), ('ecmwf_osuite', '/lustre/storeA/project/aerocom/aerocom1/ECMWF_OSUITE_NRT_test/renamed/aerocom.ECMWF_OSUITE_NRT_test.daily.od550aer.2018.nc')])\n"
     ]
    }
   ],
   "source": [
    "from pyaerocom.test_files import get\n",
    "\n",
    "test_files = get()\n",
    "print(test_files[\"models\"])"
   ]
  },
  {
   "cell_type": "markdown",
   "metadata": {},
   "source": [
    "The dictionary, returned by the `get()` function is categorised into two subirectories for model based test files (`key=\"models\"`) and for observation based test files (`key=observations`). So far, there is not much in there (only one test file from the [Aerosol CCI project](http://www.esa-aerosol-cci.org/) but that should suffice here."
   ]
  },
  {
   "cell_type": "code",
   "execution_count": 4,
   "metadata": {},
   "outputs": [
    {
     "name": "stdout",
     "output_type": "stream",
     "text": [
      "pyaerocom.ModelData\n",
      "Grid data: atmosphere_optical_thickness_due_to_ambient_aerosol / (1) (time: 366; latitude: 180; longitude: 360)\n",
      "     Dimension coordinates:\n",
      "          time                                                 x              -               -\n",
      "          latitude                                             -              x               -\n",
      "          longitude                                            -              -               x\n",
      "     Attributes:\n",
      "          Conventions: CF-1.6\n",
      "          NCO: 4.4.4\n",
      "          cdm_data_type: grid\n",
      "          creator_email: p.r.j.north@swansea.ac.uk, a.heckel@swansea.ac.uk\n",
      "          creator_name: Swansea University\n",
      "          creator_url: http://www.swan.ac.uk/staff/academic/environmentsociety/geography/nort...\n",
      "          date_created: 20160621T084031Z\n",
      "          geospatial_lat_max: 90.0\n",
      "          geospatial_lat_min: -90.0\n",
      "          geospatial_lat_resolution: 1.0\n",
      "          geospatial_lat_units: degrees_north\n",
      "          geospatial_lon_max: 180.0\n",
      "          geospatial_lon_min: -180.0\n",
      "          geospatial_lon_resolution: 1.0\n",
      "          geospatial_lon_units: degrees_east\n",
      "          history: Fri Sep 30 11:45:26 2016: ncks -4 -L 5 -F -O -v od550aer all.nc aerocom.AATSR_SU_v4.3.daily.od550aer.2008.nc\n",
      "Fri...\n",
      "          id: 20080101132230-ESACCI-L3C_AEROSOL-AER_PRODUCTS-AATSR_ENVISAT-SU_DAILY-...\n",
      "          inputfilelist: ATS_TOA_1PUUPA20080101_132230_000065272064_00410_30524_3769.N1 \n",
      "ATS_TOA_1PUUPA20080101_132230_000065272064_00410_30524_3769.N1...\n",
      "          keywords: satellite,observation,atmosphere\n",
      "          keywords_vocabulary: NASA Global Change Master Directory (GCMD) Science Keywords\n",
      "          lat: 180\n",
      "          license: ESA CCI Data Policy: free and open access\n",
      "          lon: 360\n",
      "          naming_authority: uk.ac.su.aatsraerosol\n",
      "          nco_openmp_thread_number: 1\n",
      "          platform: ENVISAT\n",
      "          product_version: 4.3\n",
      "          project: Climate Change Initiative - European Space Agency\n",
      "          projection: equirectangular\n",
      "          references: http://www.esa-aerosol-cci.org\n",
      "          resolution: 1x1 degrees\n",
      "          sensor: AATSR\n",
      "          source: ATS_TOA_1P, V6.05\n",
      "          standard_name_vocabulary: NetCDF Climate and Forecast (CF) Metadata Convention version 18\n",
      "          summary: This dataset contains the level-3 daily mean aerosol properties products...\n",
      "          time: 1\n",
      "          time_coverage_end: 20080102T004449Z\n",
      "          time_coverage_start: 20080101T021352Z\n",
      "          title: AARDVARC CCI aerosol product level 3\n",
      "          tracking_id: ef53e37c-3216-4e60-8fee-72979a2791af\n",
      "          valid_range: [0. 2.]\n"
     ]
    }
   ],
   "source": [
    "fpath = test_files[\"models\"][\"aatsr_su_v4.3\"]\n",
    "\n",
    "data = ModelData(fpath, var_name=\"od550aer\")\n",
    "print(data)"
   ]
  },
  {
   "cell_type": "markdown",
   "metadata": {},
   "source": [
    "The `ModelData` class is largely based on (**but not inherited from**) the [`Cube` class from the iris project](http://scitools.org.uk/iris/docs/v1.9.0/html/iris/iris/cube.html#iris.cube.Cube) and has the nice feature (opposite to the iris `Cube` class, that it can be directly instatiated using a file-path and a valid constraint (instance of `iris.Constraint`, "
   ]
  }
 ],
 "metadata": {
  "kernelspec": {
   "display_name": "Python 3",
   "language": "python",
   "name": "python3"
  },
  "language_info": {
   "codemirror_mode": {
    "name": "ipython",
    "version": 3
   },
   "file_extension": ".py",
   "mimetype": "text/x-python",
   "name": "python",
   "nbconvert_exporter": "python",
   "pygments_lexer": "ipython3",
   "version": "3.6.4"
  }
 },
 "nbformat": 4,
 "nbformat_minor": 2
}
