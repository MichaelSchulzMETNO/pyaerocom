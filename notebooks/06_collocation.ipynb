{
 "cells": [
  {
   "cell_type": "markdown",
   "metadata": {},
   "source": [
    "### Collocating gridded data with discrete observations\n",
    "\n",
    "This notebook gives an introduction into collocation of gridded data with observations. Here, AODs of the ECMWF CAMS reanalysis model are compared with global daily observations from the AeroNet V2 for the years of XXX-XXX."
   ]
  },
  {
   "cell_type": "code",
   "execution_count": null,
   "metadata": {},
   "outputs": [],
   "source": [
    "start=2000\n",
    "stop=2018\n",
    "\n",
    "ts_type = \"daily\"\n",
    "\n",
    "model_id = \"ECMWF_CAMS_REAN\"\n",
    "obs"
   ]
  }
 ],
 "metadata": {
  "kernelspec": {
   "display_name": "Python 3",
   "language": "python",
   "name": "python3"
  },
  "language_info": {
   "codemirror_mode": {
    "name": "ipython",
    "version": 3
   },
   "file_extension": ".py",
   "mimetype": "text/x-python",
   "name": "python",
   "nbconvert_exporter": "python",
   "pygments_lexer": "ipython3",
   "version": "3.6.4"
  }
 },
 "nbformat": 4,
 "nbformat_minor": 2
}
