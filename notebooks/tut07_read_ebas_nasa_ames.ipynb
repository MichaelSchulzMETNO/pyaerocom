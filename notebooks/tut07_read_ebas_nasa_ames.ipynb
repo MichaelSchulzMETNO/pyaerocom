{
 "cells": [
  {
   "cell_type": "markdown",
   "metadata": {},
   "source": [
    "### Tutorial showing how to read EBAS NASA Ames files\n",
    "\n",
    "**Note**: this notebook is currently under development\n",
    "\n",
    "Please see [here](https://ebas-submit.nilu.no/Submit-Data/Getting-started) for information related to the EBAS NASA Ames file format.\n",
    "\n",
    "**Further links**:\n",
    " - [Pyaerocom website](http://aerocom.met.no/pyaerocom/)\n",
    " - [Pyaerocom installation instructions](http://aerocom.met.no/pyaerocom/readme.html#installation)\n",
    " - [Getting started](http://aerocom.met.no/pyaerocom/notebooks.html#getting-started)"
   ]
  },
  {
   "cell_type": "code",
   "execution_count": 1,
   "metadata": {},
   "outputs": [
    {
     "name": "stderr",
     "output_type": "stream",
     "text": [
      "2018-09-20 15:34:27,125:WARNING:\n",
      "basemap extension library is not installed (or cannot be imported. Some features will not be available\n"
     ]
    },
    {
     "name": "stdout",
     "output_type": "stream",
     "text": [
      "Elapsed time init all variables: 0.026401758193969727 s\n"
     ]
    },
    {
     "name": "stderr",
     "output_type": "stream",
     "text": [
      "2018-09-20 15:34:27,869:WARNING:\n",
      "geopy library is not available. Aeolus data read not enabled\n"
     ]
    },
    {
     "name": "stderr",
     "output_type": "stream",
     "text": [
      "2018-09-20 15:34:27,889:WARNING:\n",
      "Failed to read header row 6.\n",
      "2008 01 01 2016 07 08\n",
      "\n",
      "Error msg: IndexError('list index out of range',)\n"
     ]
    },
    {
     "name": "stdout",
     "output_type": "stream",
     "text": [
      "Elapsed time init pyaerocom: 1.0843265056610107 s\n",
      "Pyaerocom EbasNasaAmesFile\n",
      "--------------------------\n",
      "\n",
      "   num_head_lines: 60\n",
      "   num_head_fmt: 1001\n",
      "   data_originator: Flentje, Harald\n",
      "   sponsor_organisation: DE09L, Deutscher Wetterdienst, DWD, Met. Obs., Hohenspeissenberg, , 82283, Hohenspeissenberg, Germany\n",
      "   submitter: Flentje, Harald\n",
      "   project_association: EUSAAR GAW-WDCA\n",
      "   vol_num: 1\n",
      "   vol_totnum: 1\n",
      "   ref_date: 2008 01 01 2016 07 08\n",
      "   revision_date: nan\n",
      "   freq: 0.041667\n",
      "   descr_time_unit: days from file reference point\n",
      "   num_cols_dependent: 11\n",
      "   mul_factors (list, 11 items)\n",
      "   [1.0\n",
      "    1.0\n",
      "    ...\n",
      "    1.0\n",
      "    1.0]\n",
      "\n",
      "   vals_invalid (list, 11 items)\n",
      "   [999.999999\n",
      "    999.999\n",
      "    ...\n",
      "    9999.9\n",
      "    9.999999999]\n",
      "\n",
      "   descr_first_col: end_time of measurement, days from the file reference point\n",
      "\n",
      "   Column variable definitions\n",
      "   -------------------------------\n",
      "   EbasColDef: name=starttime, unit=days, is_var=False, is_flag=False, flag_id=, \n",
      "   EbasColDef: name=endtime, unit=days, is_var=False, is_flag=False, flag_id=, \n",
      "   EbasColDef: name=aerosol_light_backscattering_coefficient, unit=1/Mm, is_var=True, is_flag=False, flag_id=numflag, wavelength=450.0 nm, \n",
      "   EbasColDef: name=aerosol_light_backscattering_coefficient, unit=1/Mm, is_var=True, is_flag=False, flag_id=numflag, wavelength=550.0 nm, \n",
      "   EbasColDef: name=aerosol_light_backscattering_coefficient, unit=1/Mm, is_var=True, is_flag=False, flag_id=numflag, wavelength=700.0 nm, \n",
      "   EbasColDef: name=aerosol_light_scattering_coefficient, unit=1/Mm, is_var=True, is_flag=False, flag_id=numflag, wavelength=450.0 nm, \n",
      "   EbasColDef: name=aerosol_light_scattering_coefficient, unit=1/Mm, is_var=True, is_flag=False, flag_id=numflag, wavelength=550.0 nm, \n",
      "   EbasColDef: name=aerosol_light_scattering_coefficient, unit=1/Mm, is_var=True, is_flag=False, flag_id=numflag, wavelength=700.0 nm, \n",
      "   EbasColDef: name=pressure, unit=hPa, is_var=True, is_flag=False, flag_id=numflag, location=instrument internal, \n",
      "   EbasColDef: name=relative_humidity, unit=%, is_var=True, is_flag=False, flag_id=numflag, location=instrument internal, \n",
      "   EbasColDef: name=temperature, unit=K, is_var=True, is_flag=False, flag_id=numflag, location=instrument internal, \n",
      "   EbasColDef: name=numflag, unit=no unit, is_var=False, is_flag=True, flag_id=, \n",
      "\n",
      "   EBAS meta data\n",
      "   ------------------\n",
      "   verbose: False\n",
      "   data_definition: EBAS_1.1\n",
      "   set_type_code: TU\n",
      "   timezone: UTC\n",
      "   file_name: DE0043G.20080101000000.20160708144500.nephelometer..aerosol.1y.1h.DE09L_tsi_neph_3563.DE09L_nephelometer.lev2.nas\n",
      "   file_creation: 20180101031050\n",
      "   startdate: 20080101000000\n",
      "   revision_date: 20160708144500\n",
      "   statistics: arithmetic mean\n",
      "   data_level: 2\n",
      "   period_code: 1y\n",
      "   resolution_code: 1h\n",
      "   station_code: DE0043G\n",
      "   platform_code: DE0043S\n",
      "   station_name: Hohenpeissenberg\n",
      "   station_wdca-id: GAWADE__HPB\n",
      "   station_gaw-id: HPB\n",
      "   station_gaw-name: Hohenpeissenberg\n",
      "   station_land_use: Grassland\n",
      "   station_setting: Mountain\n",
      "   station_gaw_type: G\n",
      "   station_wmo_region: 6\n",
      "   station_latitude: 47.8014984131\n",
      "   station_longitude: 11.0096197128\n",
      "   station_altitude: 985.0 m\n",
      "   regime: IMG\n",
      "   component: \n",
      "   unit: 1/Mm\n",
      "   matrix: aerosol\n",
      "   laboratory_code: DE09L\n",
      "   instrument_type: nephelometer\n",
      "   instrument_name: tsi_neph_3563\n",
      "   method_ref: DE09L_nephelometer\n",
      "   originator: Flentje, Harald, Harald.Flentje@dwd.de, , , , , , , ,\n",
      "   submitter: Flentje, Harald, Harald.Flentje@dwd.de, , , , , , , ,\n",
      "\n",
      "   Data\n",
      "   --------\n",
      "[[0.00000000e+00 4.16670000e-02            nan ...            nan\n",
      "             nan 3.94999000e-01]\n",
      " [4.16670000e-02 8.33330000e-02            nan ...            nan\n",
      "             nan 3.94999000e-01]\n",
      " [8.33330000e-02 1.25000000e-01            nan ...            nan\n",
      "             nan 3.94999000e-01]\n",
      " ...\n",
      " [3.65875000e+02 3.65916667e+02 4.75900000e+00 ... 8.50000000e+00\n",
      "  2.99900000e+02 2.47000000e-01]\n",
      " [3.65916667e+02 3.65958310e+02 5.16200000e+00 ... 8.70000000e+00\n",
      "  2.99900000e+02 2.47000000e-01]\n",
      " [3.65958333e+02 3.66000000e+02 5.31800000e+00 ... 9.30000000e+00\n",
      "  2.99700000e+02 0.00000000e+00]]\n",
      "Colnum: 12\n",
      "Timestamps: 8784\n"
     ]
    }
   ],
   "source": [
    "import os \n",
    "from pyaerocom.io import EbasNasaAmesFile\n",
    "\n",
    "ebasdir = \"/lustre/storeA/project/aerocom/aerocom1/AEROCOM_OBSDATA/EBASMultiColumn/data/data/\"\n",
    "filename = \"DE0043G.20080101000000.20160708144500.nephelometer..aerosol.1y.1h.DE09L_tsi_neph_3563.DE09L_nephelometer.lev2.nas\"\n",
    "\n",
    "mc = EbasNasaAmesFile(file=ebasdir+filename,\n",
    "                      only_head=False,          #set True if you only want to import header\n",
    "                      replace_invalid_nan=True, #replace invalid values with NaNs\n",
    "                      convert_timestamps=True,  #compute datetime64 timestamps from numerical values\n",
    "                      decode_flags=True,        #decode all flags (e.g. 0.111222333 -> 111 222 333)\n",
    "                      verbose=False)\n",
    "print(mc)"
   ]
  },
  {
   "cell_type": "markdown",
   "metadata": {},
   "source": [
    "#### Column information"
   ]
  },
  {
   "cell_type": "code",
   "execution_count": 2,
   "metadata": {},
   "outputs": [
    {
     "name": "stdout",
     "output_type": "stream",
     "text": [
      "Column 0\n",
      "Pyaerocom EbasColDef\n",
      "--------------------\n",
      "name: starttime\n",
      "unit: days\n",
      "is_var: False\n",
      "is_flag: False\n",
      "flag_id: \n",
      "\n",
      "Column 1\n",
      "Pyaerocom EbasColDef\n",
      "--------------------\n",
      "name: endtime\n",
      "unit: days\n",
      "is_var: False\n",
      "is_flag: False\n",
      "flag_id: \n",
      "\n",
      "Column 2\n",
      "Pyaerocom EbasColDef\n",
      "--------------------\n",
      "name: aerosol_light_backscattering_coefficient\n",
      "unit: 1/Mm\n",
      "is_var: True\n",
      "is_flag: False\n",
      "flag_id: numflag\n",
      "wavelength: 450.0 nm\n",
      "\n",
      "Column 3\n",
      "Pyaerocom EbasColDef\n",
      "--------------------\n",
      "name: aerosol_light_backscattering_coefficient\n",
      "unit: 1/Mm\n",
      "is_var: True\n",
      "is_flag: False\n",
      "flag_id: numflag\n",
      "wavelength: 550.0 nm\n",
      "\n",
      "Column 4\n",
      "Pyaerocom EbasColDef\n",
      "--------------------\n",
      "name: aerosol_light_backscattering_coefficient\n",
      "unit: 1/Mm\n",
      "is_var: True\n",
      "is_flag: False\n",
      "flag_id: numflag\n",
      "wavelength: 700.0 nm\n",
      "\n",
      "Column 5\n",
      "Pyaerocom EbasColDef\n",
      "--------------------\n",
      "name: aerosol_light_scattering_coefficient\n",
      "unit: 1/Mm\n",
      "is_var: True\n",
      "is_flag: False\n",
      "flag_id: numflag\n",
      "wavelength: 450.0 nm\n",
      "\n",
      "Column 6\n",
      "Pyaerocom EbasColDef\n",
      "--------------------\n",
      "name: aerosol_light_scattering_coefficient\n",
      "unit: 1/Mm\n",
      "is_var: True\n",
      "is_flag: False\n",
      "flag_id: numflag\n",
      "wavelength: 550.0 nm\n",
      "\n",
      "Column 7\n",
      "Pyaerocom EbasColDef\n",
      "--------------------\n",
      "name: aerosol_light_scattering_coefficient\n",
      "unit: 1/Mm\n",
      "is_var: True\n",
      "is_flag: False\n",
      "flag_id: numflag\n",
      "wavelength: 700.0 nm\n",
      "\n",
      "Column 8\n",
      "Pyaerocom EbasColDef\n",
      "--------------------\n",
      "name: pressure\n",
      "unit: hPa\n",
      "is_var: True\n",
      "is_flag: False\n",
      "flag_id: numflag\n",
      "location: instrument internal\n",
      "\n",
      "Column 9\n",
      "Pyaerocom EbasColDef\n",
      "--------------------\n",
      "name: relative_humidity\n",
      "unit: %\n",
      "is_var: True\n",
      "is_flag: False\n",
      "flag_id: numflag\n",
      "location: instrument internal\n",
      "\n",
      "Column 10\n",
      "Pyaerocom EbasColDef\n",
      "--------------------\n",
      "name: temperature\n",
      "unit: K\n",
      "is_var: True\n",
      "is_flag: False\n",
      "flag_id: numflag\n",
      "location: instrument internal\n",
      "\n",
      "Column 11\n",
      "Pyaerocom EbasColDef\n",
      "--------------------\n",
      "name: numflag\n",
      "unit: no unit\n",
      "is_var: False\n",
      "is_flag: True\n",
      "flag_id: \n",
      "\n"
     ]
    }
   ],
   "source": [
    "mc.print_col_info()"
   ]
  },
  {
   "cell_type": "markdown",
   "metadata": {},
   "source": [
    "You can see that all variable columns were assigned the same flag column, since there is only one. This would be different if there were multiple flag columns (e.g. one for each variable).\n",
    "\n",
    "#### Access flag information\n",
    "\n",
    "You can access the flags for each column using the ``flags`` attribute of the file."
   ]
  },
  {
   "cell_type": "code",
   "execution_count": 3,
   "metadata": {},
   "outputs": [
    {
     "data": {
      "text/plain": [
       "OrderedDict([('numflag',\n",
       "              <pyaerocom.io.ebas_nasa_ames.EbasFlagCol at 0x7f42503158d0>)])"
      ]
     },
     "execution_count": 3,
     "metadata": {},
     "output_type": "execute_result"
    }
   ],
   "source": [
    "mc.flags"
   ]
  },
  {
   "cell_type": "code",
   "execution_count": 4,
   "metadata": {},
   "outputs": [],
   "source": [
    "flagcol = mc.flags[\"numflag\"]"
   ]
  },
  {
   "cell_type": "markdown",
   "metadata": {},
   "source": [
    "The raw flags can be accessed via:"
   ]
  },
  {
   "cell_type": "code",
   "execution_count": 5,
   "metadata": {},
   "outputs": [
    {
     "data": {
      "text/plain": [
       "array([0.394999, 0.394999, 0.394999, ..., 0.247   , 0.247   , 0.      ])"
      ]
     },
     "execution_count": 5,
     "metadata": {},
     "output_type": "execute_result"
    }
   ],
   "source": [
    "flagcol.raw_data"
   ]
  },
  {
   "cell_type": "markdown",
   "metadata": {},
   "source": [
    "And the processed flags are in stored in a (Nx3) numpy array where N is the total number of timestamps."
   ]
  },
  {
   "cell_type": "code",
   "execution_count": 6,
   "metadata": {},
   "outputs": [
    {
     "data": {
      "text/plain": [
       "array([[394, 999,   0],\n",
       "       [394, 999,   0],\n",
       "       [394, 999,   0],\n",
       "       ...,\n",
       "       [247,   0,   0],\n",
       "       [247,   0,   0],\n",
       "       [  0,   0,   0]])"
      ]
     },
     "execution_count": 6,
     "metadata": {},
     "output_type": "execute_result"
    }
   ],
   "source": [
    "flagcol.flags"
   ]
  },
  {
   "cell_type": "markdown",
   "metadata": {},
   "source": [
    "For instance, access the flags of the 5 timestamp:"
   ]
  },
  {
   "cell_type": "code",
   "execution_count": 7,
   "metadata": {},
   "outputs": [
    {
     "data": {
      "text/plain": [
       "array([394, 999,   0])"
      ]
     },
     "execution_count": 7,
     "metadata": {},
     "output_type": "execute_result"
    }
   ],
   "source": [
    "flagcol.flags[4]"
   ]
  },
  {
   "cell_type": "markdown",
   "metadata": {},
   "source": [
    "#### Convert object to pandas Dataframe\n",
    "\n",
    "The conversion does currently exclude all flag columns"
   ]
  },
  {
   "cell_type": "code",
   "execution_count": 8,
   "metadata": {},
   "outputs": [
    {
     "data": {
      "text/html": [
       "<div>\n",
       "<style scoped>\n",
       "    .dataframe tbody tr th:only-of-type {\n",
       "        vertical-align: middle;\n",
       "    }\n",
       "\n",
       "    .dataframe tbody tr th {\n",
       "        vertical-align: top;\n",
       "    }\n",
       "\n",
       "    .dataframe thead th {\n",
       "        text-align: right;\n",
       "    }\n",
       "</style>\n",
       "<table border=\"1\" class=\"dataframe\">\n",
       "  <thead>\n",
       "    <tr style=\"text-align: right;\">\n",
       "      <th></th>\n",
       "      <th>aerosol_light_backscattering_coefficient</th>\n",
       "      <th>aerosol_light_backscattering_coefficient</th>\n",
       "      <th>aerosol_light_backscattering_coefficient</th>\n",
       "      <th>aerosol_light_scattering_coefficient</th>\n",
       "      <th>aerosol_light_scattering_coefficient</th>\n",
       "      <th>aerosol_light_scattering_coefficient</th>\n",
       "      <th>pressure</th>\n",
       "      <th>relative_humidity</th>\n",
       "      <th>temperature</th>\n",
       "    </tr>\n",
       "  </thead>\n",
       "  <tbody>\n",
       "    <tr>\n",
       "      <th>2008-01-01 00:30:00</th>\n",
       "      <td>NaN</td>\n",
       "      <td>NaN</td>\n",
       "      <td>NaN</td>\n",
       "      <td>NaN</td>\n",
       "      <td>NaN</td>\n",
       "      <td>NaN</td>\n",
       "      <td>NaN</td>\n",
       "      <td>NaN</td>\n",
       "      <td>NaN</td>\n",
       "    </tr>\n",
       "    <tr>\n",
       "      <th>2008-01-01 01:29:59</th>\n",
       "      <td>NaN</td>\n",
       "      <td>NaN</td>\n",
       "      <td>NaN</td>\n",
       "      <td>NaN</td>\n",
       "      <td>NaN</td>\n",
       "      <td>NaN</td>\n",
       "      <td>NaN</td>\n",
       "      <td>NaN</td>\n",
       "      <td>NaN</td>\n",
       "    </tr>\n",
       "    <tr>\n",
       "      <th>2008-01-01 02:29:59</th>\n",
       "      <td>NaN</td>\n",
       "      <td>NaN</td>\n",
       "      <td>NaN</td>\n",
       "      <td>NaN</td>\n",
       "      <td>NaN</td>\n",
       "      <td>NaN</td>\n",
       "      <td>NaN</td>\n",
       "      <td>NaN</td>\n",
       "      <td>NaN</td>\n",
       "    </tr>\n",
       "    <tr>\n",
       "      <th>2008-01-01 03:30:00</th>\n",
       "      <td>NaN</td>\n",
       "      <td>NaN</td>\n",
       "      <td>NaN</td>\n",
       "      <td>NaN</td>\n",
       "      <td>NaN</td>\n",
       "      <td>NaN</td>\n",
       "      <td>NaN</td>\n",
       "      <td>NaN</td>\n",
       "      <td>NaN</td>\n",
       "    </tr>\n",
       "    <tr>\n",
       "      <th>2008-01-01 04:29:59</th>\n",
       "      <td>NaN</td>\n",
       "      <td>NaN</td>\n",
       "      <td>NaN</td>\n",
       "      <td>NaN</td>\n",
       "      <td>NaN</td>\n",
       "      <td>NaN</td>\n",
       "      <td>NaN</td>\n",
       "      <td>NaN</td>\n",
       "      <td>NaN</td>\n",
       "    </tr>\n",
       "    <tr>\n",
       "      <th>2008-01-01 05:29:59</th>\n",
       "      <td>NaN</td>\n",
       "      <td>NaN</td>\n",
       "      <td>NaN</td>\n",
       "      <td>NaN</td>\n",
       "      <td>NaN</td>\n",
       "      <td>NaN</td>\n",
       "      <td>NaN</td>\n",
       "      <td>NaN</td>\n",
       "      <td>NaN</td>\n",
       "    </tr>\n",
       "    <tr>\n",
       "      <th>2008-01-01 06:30:00</th>\n",
       "      <td>NaN</td>\n",
       "      <td>NaN</td>\n",
       "      <td>NaN</td>\n",
       "      <td>NaN</td>\n",
       "      <td>NaN</td>\n",
       "      <td>NaN</td>\n",
       "      <td>NaN</td>\n",
       "      <td>NaN</td>\n",
       "      <td>NaN</td>\n",
       "    </tr>\n",
       "    <tr>\n",
       "      <th>2008-01-01 07:29:59</th>\n",
       "      <td>NaN</td>\n",
       "      <td>NaN</td>\n",
       "      <td>NaN</td>\n",
       "      <td>NaN</td>\n",
       "      <td>NaN</td>\n",
       "      <td>NaN</td>\n",
       "      <td>NaN</td>\n",
       "      <td>NaN</td>\n",
       "      <td>NaN</td>\n",
       "    </tr>\n",
       "    <tr>\n",
       "      <th>2008-01-01 08:29:59</th>\n",
       "      <td>NaN</td>\n",
       "      <td>NaN</td>\n",
       "      <td>NaN</td>\n",
       "      <td>NaN</td>\n",
       "      <td>NaN</td>\n",
       "      <td>NaN</td>\n",
       "      <td>NaN</td>\n",
       "      <td>NaN</td>\n",
       "      <td>NaN</td>\n",
       "    </tr>\n",
       "    <tr>\n",
       "      <th>2008-01-01 09:30:00</th>\n",
       "      <td>NaN</td>\n",
       "      <td>NaN</td>\n",
       "      <td>NaN</td>\n",
       "      <td>NaN</td>\n",
       "      <td>NaN</td>\n",
       "      <td>NaN</td>\n",
       "      <td>NaN</td>\n",
       "      <td>NaN</td>\n",
       "      <td>NaN</td>\n",
       "    </tr>\n",
       "    <tr>\n",
       "      <th>2008-01-01 10:29:59</th>\n",
       "      <td>NaN</td>\n",
       "      <td>NaN</td>\n",
       "      <td>NaN</td>\n",
       "      <td>NaN</td>\n",
       "      <td>NaN</td>\n",
       "      <td>NaN</td>\n",
       "      <td>NaN</td>\n",
       "      <td>NaN</td>\n",
       "      <td>NaN</td>\n",
       "    </tr>\n",
       "    <tr>\n",
       "      <th>2008-01-01 11:29:59</th>\n",
       "      <td>NaN</td>\n",
       "      <td>NaN</td>\n",
       "      <td>NaN</td>\n",
       "      <td>NaN</td>\n",
       "      <td>NaN</td>\n",
       "      <td>NaN</td>\n",
       "      <td>NaN</td>\n",
       "      <td>NaN</td>\n",
       "      <td>NaN</td>\n",
       "    </tr>\n",
       "    <tr>\n",
       "      <th>2008-01-01 12:30:00</th>\n",
       "      <td>NaN</td>\n",
       "      <td>NaN</td>\n",
       "      <td>NaN</td>\n",
       "      <td>NaN</td>\n",
       "      <td>NaN</td>\n",
       "      <td>NaN</td>\n",
       "      <td>NaN</td>\n",
       "      <td>NaN</td>\n",
       "      <td>NaN</td>\n",
       "    </tr>\n",
       "    <tr>\n",
       "      <th>2008-01-01 13:29:59</th>\n",
       "      <td>NaN</td>\n",
       "      <td>NaN</td>\n",
       "      <td>NaN</td>\n",
       "      <td>NaN</td>\n",
       "      <td>NaN</td>\n",
       "      <td>NaN</td>\n",
       "      <td>NaN</td>\n",
       "      <td>NaN</td>\n",
       "      <td>NaN</td>\n",
       "    </tr>\n",
       "    <tr>\n",
       "      <th>2008-01-01 14:29:59</th>\n",
       "      <td>NaN</td>\n",
       "      <td>NaN</td>\n",
       "      <td>NaN</td>\n",
       "      <td>NaN</td>\n",
       "      <td>NaN</td>\n",
       "      <td>NaN</td>\n",
       "      <td>NaN</td>\n",
       "      <td>NaN</td>\n",
       "      <td>NaN</td>\n",
       "    </tr>\n",
       "    <tr>\n",
       "      <th>2008-01-01 15:30:00</th>\n",
       "      <td>NaN</td>\n",
       "      <td>NaN</td>\n",
       "      <td>NaN</td>\n",
       "      <td>NaN</td>\n",
       "      <td>NaN</td>\n",
       "      <td>NaN</td>\n",
       "      <td>NaN</td>\n",
       "      <td>NaN</td>\n",
       "      <td>NaN</td>\n",
       "    </tr>\n",
       "    <tr>\n",
       "      <th>2008-01-01 16:29:59</th>\n",
       "      <td>NaN</td>\n",
       "      <td>NaN</td>\n",
       "      <td>NaN</td>\n",
       "      <td>NaN</td>\n",
       "      <td>NaN</td>\n",
       "      <td>NaN</td>\n",
       "      <td>NaN</td>\n",
       "      <td>NaN</td>\n",
       "      <td>NaN</td>\n",
       "    </tr>\n",
       "    <tr>\n",
       "      <th>2008-01-01 17:29:59</th>\n",
       "      <td>NaN</td>\n",
       "      <td>NaN</td>\n",
       "      <td>NaN</td>\n",
       "      <td>NaN</td>\n",
       "      <td>NaN</td>\n",
       "      <td>NaN</td>\n",
       "      <td>NaN</td>\n",
       "      <td>NaN</td>\n",
       "      <td>NaN</td>\n",
       "    </tr>\n",
       "    <tr>\n",
       "      <th>2008-01-01 18:30:00</th>\n",
       "      <td>NaN</td>\n",
       "      <td>NaN</td>\n",
       "      <td>NaN</td>\n",
       "      <td>NaN</td>\n",
       "      <td>NaN</td>\n",
       "      <td>NaN</td>\n",
       "      <td>NaN</td>\n",
       "      <td>NaN</td>\n",
       "      <td>NaN</td>\n",
       "    </tr>\n",
       "    <tr>\n",
       "      <th>2008-01-01 19:29:59</th>\n",
       "      <td>NaN</td>\n",
       "      <td>NaN</td>\n",
       "      <td>NaN</td>\n",
       "      <td>NaN</td>\n",
       "      <td>NaN</td>\n",
       "      <td>NaN</td>\n",
       "      <td>NaN</td>\n",
       "      <td>NaN</td>\n",
       "      <td>NaN</td>\n",
       "    </tr>\n",
       "    <tr>\n",
       "      <th>2008-01-01 20:29:59</th>\n",
       "      <td>NaN</td>\n",
       "      <td>NaN</td>\n",
       "      <td>NaN</td>\n",
       "      <td>NaN</td>\n",
       "      <td>NaN</td>\n",
       "      <td>NaN</td>\n",
       "      <td>NaN</td>\n",
       "      <td>NaN</td>\n",
       "      <td>NaN</td>\n",
       "    </tr>\n",
       "    <tr>\n",
       "      <th>2008-01-01 21:30:00</th>\n",
       "      <td>NaN</td>\n",
       "      <td>NaN</td>\n",
       "      <td>NaN</td>\n",
       "      <td>NaN</td>\n",
       "      <td>NaN</td>\n",
       "      <td>NaN</td>\n",
       "      <td>NaN</td>\n",
       "      <td>NaN</td>\n",
       "      <td>NaN</td>\n",
       "    </tr>\n",
       "    <tr>\n",
       "      <th>2008-01-01 22:29:59</th>\n",
       "      <td>NaN</td>\n",
       "      <td>NaN</td>\n",
       "      <td>NaN</td>\n",
       "      <td>NaN</td>\n",
       "      <td>NaN</td>\n",
       "      <td>NaN</td>\n",
       "      <td>NaN</td>\n",
       "      <td>NaN</td>\n",
       "      <td>NaN</td>\n",
       "    </tr>\n",
       "    <tr>\n",
       "      <th>2008-01-01 23:29:59</th>\n",
       "      <td>NaN</td>\n",
       "      <td>NaN</td>\n",
       "      <td>NaN</td>\n",
       "      <td>NaN</td>\n",
       "      <td>NaN</td>\n",
       "      <td>NaN</td>\n",
       "      <td>NaN</td>\n",
       "      <td>NaN</td>\n",
       "      <td>NaN</td>\n",
       "    </tr>\n",
       "    <tr>\n",
       "      <th>2008-01-02 00:30:00</th>\n",
       "      <td>NaN</td>\n",
       "      <td>NaN</td>\n",
       "      <td>NaN</td>\n",
       "      <td>NaN</td>\n",
       "      <td>NaN</td>\n",
       "      <td>NaN</td>\n",
       "      <td>NaN</td>\n",
       "      <td>NaN</td>\n",
       "      <td>NaN</td>\n",
       "    </tr>\n",
       "    <tr>\n",
       "      <th>2008-01-02 01:29:59</th>\n",
       "      <td>NaN</td>\n",
       "      <td>NaN</td>\n",
       "      <td>NaN</td>\n",
       "      <td>NaN</td>\n",
       "      <td>NaN</td>\n",
       "      <td>NaN</td>\n",
       "      <td>NaN</td>\n",
       "      <td>NaN</td>\n",
       "      <td>NaN</td>\n",
       "    </tr>\n",
       "    <tr>\n",
       "      <th>2008-01-02 02:29:59</th>\n",
       "      <td>NaN</td>\n",
       "      <td>NaN</td>\n",
       "      <td>NaN</td>\n",
       "      <td>NaN</td>\n",
       "      <td>NaN</td>\n",
       "      <td>NaN</td>\n",
       "      <td>NaN</td>\n",
       "      <td>NaN</td>\n",
       "      <td>NaN</td>\n",
       "    </tr>\n",
       "    <tr>\n",
       "      <th>2008-01-02 03:30:00</th>\n",
       "      <td>NaN</td>\n",
       "      <td>NaN</td>\n",
       "      <td>NaN</td>\n",
       "      <td>NaN</td>\n",
       "      <td>NaN</td>\n",
       "      <td>NaN</td>\n",
       "      <td>NaN</td>\n",
       "      <td>NaN</td>\n",
       "      <td>NaN</td>\n",
       "    </tr>\n",
       "    <tr>\n",
       "      <th>2008-01-02 04:29:59</th>\n",
       "      <td>NaN</td>\n",
       "      <td>NaN</td>\n",
       "      <td>NaN</td>\n",
       "      <td>NaN</td>\n",
       "      <td>NaN</td>\n",
       "      <td>NaN</td>\n",
       "      <td>NaN</td>\n",
       "      <td>NaN</td>\n",
       "      <td>NaN</td>\n",
       "    </tr>\n",
       "    <tr>\n",
       "      <th>2008-01-02 05:29:59</th>\n",
       "      <td>NaN</td>\n",
       "      <td>NaN</td>\n",
       "      <td>NaN</td>\n",
       "      <td>NaN</td>\n",
       "      <td>NaN</td>\n",
       "      <td>NaN</td>\n",
       "      <td>NaN</td>\n",
       "      <td>NaN</td>\n",
       "      <td>NaN</td>\n",
       "    </tr>\n",
       "    <tr>\n",
       "      <th>...</th>\n",
       "      <td>...</td>\n",
       "      <td>...</td>\n",
       "      <td>...</td>\n",
       "      <td>...</td>\n",
       "      <td>...</td>\n",
       "      <td>...</td>\n",
       "      <td>...</td>\n",
       "      <td>...</td>\n",
       "      <td>...</td>\n",
       "    </tr>\n",
       "    <tr>\n",
       "      <th>2008-12-30 18:30:00</th>\n",
       "      <td>0.547</td>\n",
       "      <td>0.409</td>\n",
       "      <td>0.303</td>\n",
       "      <td>5.250</td>\n",
       "      <td>3.716</td>\n",
       "      <td>2.264</td>\n",
       "      <td>909.0</td>\n",
       "      <td>4.5</td>\n",
       "      <td>300.4</td>\n",
       "    </tr>\n",
       "    <tr>\n",
       "      <th>2008-12-30 19:29:58</th>\n",
       "      <td>1.045</td>\n",
       "      <td>0.688</td>\n",
       "      <td>0.558</td>\n",
       "      <td>7.934</td>\n",
       "      <td>5.414</td>\n",
       "      <td>3.308</td>\n",
       "      <td>909.0</td>\n",
       "      <td>5.7</td>\n",
       "      <td>300.2</td>\n",
       "    </tr>\n",
       "    <tr>\n",
       "      <th>2008-12-30 20:29:59</th>\n",
       "      <td>7.862</td>\n",
       "      <td>5.979</td>\n",
       "      <td>4.602</td>\n",
       "      <td>70.955</td>\n",
       "      <td>50.095</td>\n",
       "      <td>30.940</td>\n",
       "      <td>909.0</td>\n",
       "      <td>8.9</td>\n",
       "      <td>300.4</td>\n",
       "    </tr>\n",
       "    <tr>\n",
       "      <th>2008-12-30 21:30:00</th>\n",
       "      <td>11.044</td>\n",
       "      <td>8.777</td>\n",
       "      <td>6.770</td>\n",
       "      <td>103.578</td>\n",
       "      <td>73.434</td>\n",
       "      <td>45.628</td>\n",
       "      <td>909.0</td>\n",
       "      <td>9.2</td>\n",
       "      <td>300.3</td>\n",
       "    </tr>\n",
       "    <tr>\n",
       "      <th>2008-12-30 22:29:58</th>\n",
       "      <td>6.420</td>\n",
       "      <td>5.011</td>\n",
       "      <td>3.801</td>\n",
       "      <td>57.828</td>\n",
       "      <td>40.803</td>\n",
       "      <td>25.309</td>\n",
       "      <td>909.0</td>\n",
       "      <td>8.7</td>\n",
       "      <td>300.1</td>\n",
       "    </tr>\n",
       "    <tr>\n",
       "      <th>2008-12-30 23:29:59</th>\n",
       "      <td>3.947</td>\n",
       "      <td>3.107</td>\n",
       "      <td>2.509</td>\n",
       "      <td>41.293</td>\n",
       "      <td>30.195</td>\n",
       "      <td>19.253</td>\n",
       "      <td>909.0</td>\n",
       "      <td>8.1</td>\n",
       "      <td>300.4</td>\n",
       "    </tr>\n",
       "    <tr>\n",
       "      <th>2008-12-31 00:30:00</th>\n",
       "      <td>2.950</td>\n",
       "      <td>2.492</td>\n",
       "      <td>1.939</td>\n",
       "      <td>32.975</td>\n",
       "      <td>24.133</td>\n",
       "      <td>15.449</td>\n",
       "      <td>908.0</td>\n",
       "      <td>7.9</td>\n",
       "      <td>299.8</td>\n",
       "    </tr>\n",
       "    <tr>\n",
       "      <th>2008-12-31 01:29:58</th>\n",
       "      <td>2.024</td>\n",
       "      <td>1.660</td>\n",
       "      <td>1.362</td>\n",
       "      <td>22.381</td>\n",
       "      <td>16.227</td>\n",
       "      <td>10.269</td>\n",
       "      <td>908.0</td>\n",
       "      <td>7.5</td>\n",
       "      <td>300.2</td>\n",
       "    </tr>\n",
       "    <tr>\n",
       "      <th>2008-12-31 02:29:59</th>\n",
       "      <td>0.731</td>\n",
       "      <td>0.569</td>\n",
       "      <td>0.508</td>\n",
       "      <td>6.382</td>\n",
       "      <td>4.487</td>\n",
       "      <td>2.890</td>\n",
       "      <td>907.0</td>\n",
       "      <td>6.6</td>\n",
       "      <td>299.9</td>\n",
       "    </tr>\n",
       "    <tr>\n",
       "      <th>2008-12-31 03:30:00</th>\n",
       "      <td>0.733</td>\n",
       "      <td>0.659</td>\n",
       "      <td>0.506</td>\n",
       "      <td>6.934</td>\n",
       "      <td>4.876</td>\n",
       "      <td>3.026</td>\n",
       "      <td>907.0</td>\n",
       "      <td>6.7</td>\n",
       "      <td>299.8</td>\n",
       "    </tr>\n",
       "    <tr>\n",
       "      <th>2008-12-31 04:29:58</th>\n",
       "      <td>0.994</td>\n",
       "      <td>0.779</td>\n",
       "      <td>0.714</td>\n",
       "      <td>9.422</td>\n",
       "      <td>6.621</td>\n",
       "      <td>4.073</td>\n",
       "      <td>907.0</td>\n",
       "      <td>7.0</td>\n",
       "      <td>300.2</td>\n",
       "    </tr>\n",
       "    <tr>\n",
       "      <th>2008-12-31 05:29:59</th>\n",
       "      <td>1.842</td>\n",
       "      <td>1.514</td>\n",
       "      <td>1.198</td>\n",
       "      <td>18.791</td>\n",
       "      <td>13.431</td>\n",
       "      <td>8.296</td>\n",
       "      <td>906.0</td>\n",
       "      <td>7.5</td>\n",
       "      <td>300.2</td>\n",
       "    </tr>\n",
       "    <tr>\n",
       "      <th>2008-12-31 06:30:00</th>\n",
       "      <td>4.045</td>\n",
       "      <td>3.247</td>\n",
       "      <td>2.608</td>\n",
       "      <td>42.560</td>\n",
       "      <td>31.077</td>\n",
       "      <td>19.972</td>\n",
       "      <td>906.0</td>\n",
       "      <td>8.2</td>\n",
       "      <td>299.9</td>\n",
       "    </tr>\n",
       "    <tr>\n",
       "      <th>2008-12-31 07:29:58</th>\n",
       "      <td>3.753</td>\n",
       "      <td>2.974</td>\n",
       "      <td>2.371</td>\n",
       "      <td>40.905</td>\n",
       "      <td>29.963</td>\n",
       "      <td>19.293</td>\n",
       "      <td>906.0</td>\n",
       "      <td>8.0</td>\n",
       "      <td>299.8</td>\n",
       "    </tr>\n",
       "    <tr>\n",
       "      <th>2008-12-31 08:29:59</th>\n",
       "      <td>2.799</td>\n",
       "      <td>2.189</td>\n",
       "      <td>1.745</td>\n",
       "      <td>29.099</td>\n",
       "      <td>21.226</td>\n",
       "      <td>13.575</td>\n",
       "      <td>906.0</td>\n",
       "      <td>7.7</td>\n",
       "      <td>299.9</td>\n",
       "    </tr>\n",
       "    <tr>\n",
       "      <th>2008-12-31 09:30:00</th>\n",
       "      <td>1.760</td>\n",
       "      <td>1.427</td>\n",
       "      <td>1.077</td>\n",
       "      <td>16.988</td>\n",
       "      <td>12.135</td>\n",
       "      <td>7.623</td>\n",
       "      <td>906.0</td>\n",
       "      <td>7.1</td>\n",
       "      <td>300.3</td>\n",
       "    </tr>\n",
       "    <tr>\n",
       "      <th>2008-12-31 10:29:58</th>\n",
       "      <td>2.548</td>\n",
       "      <td>1.917</td>\n",
       "      <td>1.455</td>\n",
       "      <td>24.601</td>\n",
       "      <td>17.758</td>\n",
       "      <td>11.318</td>\n",
       "      <td>905.0</td>\n",
       "      <td>7.1</td>\n",
       "      <td>300.7</td>\n",
       "    </tr>\n",
       "    <tr>\n",
       "      <th>2008-12-31 11:29:59</th>\n",
       "      <td>2.486</td>\n",
       "      <td>1.909</td>\n",
       "      <td>1.442</td>\n",
       "      <td>24.114</td>\n",
       "      <td>17.331</td>\n",
       "      <td>11.010</td>\n",
       "      <td>905.0</td>\n",
       "      <td>7.0</td>\n",
       "      <td>301.2</td>\n",
       "    </tr>\n",
       "    <tr>\n",
       "      <th>2008-12-31 12:30:00</th>\n",
       "      <td>2.660</td>\n",
       "      <td>2.172</td>\n",
       "      <td>1.623</td>\n",
       "      <td>27.016</td>\n",
       "      <td>19.509</td>\n",
       "      <td>12.520</td>\n",
       "      <td>905.0</td>\n",
       "      <td>7.4</td>\n",
       "      <td>300.9</td>\n",
       "    </tr>\n",
       "    <tr>\n",
       "      <th>2008-12-31 13:29:58</th>\n",
       "      <td>6.408</td>\n",
       "      <td>5.162</td>\n",
       "      <td>4.016</td>\n",
       "      <td>62.217</td>\n",
       "      <td>44.872</td>\n",
       "      <td>28.652</td>\n",
       "      <td>905.0</td>\n",
       "      <td>8.7</td>\n",
       "      <td>300.6</td>\n",
       "    </tr>\n",
       "    <tr>\n",
       "      <th>2008-12-31 14:29:59</th>\n",
       "      <td>8.818</td>\n",
       "      <td>7.038</td>\n",
       "      <td>5.385</td>\n",
       "      <td>80.137</td>\n",
       "      <td>56.764</td>\n",
       "      <td>35.320</td>\n",
       "      <td>905.0</td>\n",
       "      <td>9.3</td>\n",
       "      <td>301.0</td>\n",
       "    </tr>\n",
       "    <tr>\n",
       "      <th>2008-12-31 15:30:00</th>\n",
       "      <td>7.646</td>\n",
       "      <td>6.019</td>\n",
       "      <td>4.688</td>\n",
       "      <td>69.304</td>\n",
       "      <td>49.066</td>\n",
       "      <td>30.776</td>\n",
       "      <td>905.0</td>\n",
       "      <td>9.5</td>\n",
       "      <td>301.0</td>\n",
       "    </tr>\n",
       "    <tr>\n",
       "      <th>2008-12-31 16:29:58</th>\n",
       "      <td>6.733</td>\n",
       "      <td>5.320</td>\n",
       "      <td>4.010</td>\n",
       "      <td>61.384</td>\n",
       "      <td>43.327</td>\n",
       "      <td>26.987</td>\n",
       "      <td>904.0</td>\n",
       "      <td>9.8</td>\n",
       "      <td>300.3</td>\n",
       "    </tr>\n",
       "    <tr>\n",
       "      <th>2008-12-31 17:29:59</th>\n",
       "      <td>5.989</td>\n",
       "      <td>4.690</td>\n",
       "      <td>3.628</td>\n",
       "      <td>57.607</td>\n",
       "      <td>41.258</td>\n",
       "      <td>25.973</td>\n",
       "      <td>904.0</td>\n",
       "      <td>9.2</td>\n",
       "      <td>300.1</td>\n",
       "    </tr>\n",
       "    <tr>\n",
       "      <th>2008-12-31 18:30:00</th>\n",
       "      <td>7.768</td>\n",
       "      <td>6.130</td>\n",
       "      <td>4.776</td>\n",
       "      <td>76.904</td>\n",
       "      <td>55.401</td>\n",
       "      <td>35.085</td>\n",
       "      <td>904.0</td>\n",
       "      <td>9.3</td>\n",
       "      <td>299.9</td>\n",
       "    </tr>\n",
       "    <tr>\n",
       "      <th>2008-12-31 19:29:58</th>\n",
       "      <td>6.265</td>\n",
       "      <td>4.834</td>\n",
       "      <td>3.827</td>\n",
       "      <td>61.421</td>\n",
       "      <td>44.224</td>\n",
       "      <td>28.044</td>\n",
       "      <td>904.0</td>\n",
       "      <td>8.7</td>\n",
       "      <td>299.9</td>\n",
       "    </tr>\n",
       "    <tr>\n",
       "      <th>2008-12-31 20:29:59</th>\n",
       "      <td>4.425</td>\n",
       "      <td>3.433</td>\n",
       "      <td>2.663</td>\n",
       "      <td>43.144</td>\n",
       "      <td>30.726</td>\n",
       "      <td>19.240</td>\n",
       "      <td>903.0</td>\n",
       "      <td>8.5</td>\n",
       "      <td>299.8</td>\n",
       "    </tr>\n",
       "    <tr>\n",
       "      <th>2008-12-31 21:30:00</th>\n",
       "      <td>4.759</td>\n",
       "      <td>3.665</td>\n",
       "      <td>2.840</td>\n",
       "      <td>44.719</td>\n",
       "      <td>31.694</td>\n",
       "      <td>19.885</td>\n",
       "      <td>903.0</td>\n",
       "      <td>8.5</td>\n",
       "      <td>299.9</td>\n",
       "    </tr>\n",
       "    <tr>\n",
       "      <th>2008-12-31 22:29:58</th>\n",
       "      <td>5.162</td>\n",
       "      <td>3.929</td>\n",
       "      <td>3.217</td>\n",
       "      <td>48.623</td>\n",
       "      <td>34.503</td>\n",
       "      <td>21.719</td>\n",
       "      <td>903.0</td>\n",
       "      <td>8.7</td>\n",
       "      <td>299.9</td>\n",
       "    </tr>\n",
       "    <tr>\n",
       "      <th>2008-12-31 23:29:59</th>\n",
       "      <td>5.318</td>\n",
       "      <td>4.307</td>\n",
       "      <td>3.349</td>\n",
       "      <td>54.983</td>\n",
       "      <td>39.390</td>\n",
       "      <td>24.721</td>\n",
       "      <td>903.0</td>\n",
       "      <td>9.3</td>\n",
       "      <td>299.7</td>\n",
       "    </tr>\n",
       "  </tbody>\n",
       "</table>\n",
       "<p>8784 rows × 9 columns</p>\n",
       "</div>"
      ],
      "text/plain": [
       "                     aerosol_light_backscattering_coefficient  \\\n",
       "2008-01-01 00:30:00                                       NaN   \n",
       "2008-01-01 01:29:59                                       NaN   \n",
       "2008-01-01 02:29:59                                       NaN   \n",
       "2008-01-01 03:30:00                                       NaN   \n",
       "2008-01-01 04:29:59                                       NaN   \n",
       "2008-01-01 05:29:59                                       NaN   \n",
       "2008-01-01 06:30:00                                       NaN   \n",
       "2008-01-01 07:29:59                                       NaN   \n",
       "2008-01-01 08:29:59                                       NaN   \n",
       "2008-01-01 09:30:00                                       NaN   \n",
       "2008-01-01 10:29:59                                       NaN   \n",
       "2008-01-01 11:29:59                                       NaN   \n",
       "2008-01-01 12:30:00                                       NaN   \n",
       "2008-01-01 13:29:59                                       NaN   \n",
       "2008-01-01 14:29:59                                       NaN   \n",
       "2008-01-01 15:30:00                                       NaN   \n",
       "2008-01-01 16:29:59                                       NaN   \n",
       "2008-01-01 17:29:59                                       NaN   \n",
       "2008-01-01 18:30:00                                       NaN   \n",
       "2008-01-01 19:29:59                                       NaN   \n",
       "2008-01-01 20:29:59                                       NaN   \n",
       "2008-01-01 21:30:00                                       NaN   \n",
       "2008-01-01 22:29:59                                       NaN   \n",
       "2008-01-01 23:29:59                                       NaN   \n",
       "2008-01-02 00:30:00                                       NaN   \n",
       "2008-01-02 01:29:59                                       NaN   \n",
       "2008-01-02 02:29:59                                       NaN   \n",
       "2008-01-02 03:30:00                                       NaN   \n",
       "2008-01-02 04:29:59                                       NaN   \n",
       "2008-01-02 05:29:59                                       NaN   \n",
       "...                                                       ...   \n",
       "2008-12-30 18:30:00                                     0.547   \n",
       "2008-12-30 19:29:58                                     1.045   \n",
       "2008-12-30 20:29:59                                     7.862   \n",
       "2008-12-30 21:30:00                                    11.044   \n",
       "2008-12-30 22:29:58                                     6.420   \n",
       "2008-12-30 23:29:59                                     3.947   \n",
       "2008-12-31 00:30:00                                     2.950   \n",
       "2008-12-31 01:29:58                                     2.024   \n",
       "2008-12-31 02:29:59                                     0.731   \n",
       "2008-12-31 03:30:00                                     0.733   \n",
       "2008-12-31 04:29:58                                     0.994   \n",
       "2008-12-31 05:29:59                                     1.842   \n",
       "2008-12-31 06:30:00                                     4.045   \n",
       "2008-12-31 07:29:58                                     3.753   \n",
       "2008-12-31 08:29:59                                     2.799   \n",
       "2008-12-31 09:30:00                                     1.760   \n",
       "2008-12-31 10:29:58                                     2.548   \n",
       "2008-12-31 11:29:59                                     2.486   \n",
       "2008-12-31 12:30:00                                     2.660   \n",
       "2008-12-31 13:29:58                                     6.408   \n",
       "2008-12-31 14:29:59                                     8.818   \n",
       "2008-12-31 15:30:00                                     7.646   \n",
       "2008-12-31 16:29:58                                     6.733   \n",
       "2008-12-31 17:29:59                                     5.989   \n",
       "2008-12-31 18:30:00                                     7.768   \n",
       "2008-12-31 19:29:58                                     6.265   \n",
       "2008-12-31 20:29:59                                     4.425   \n",
       "2008-12-31 21:30:00                                     4.759   \n",
       "2008-12-31 22:29:58                                     5.162   \n",
       "2008-12-31 23:29:59                                     5.318   \n",
       "\n",
       "                     aerosol_light_backscattering_coefficient  \\\n",
       "2008-01-01 00:30:00                                       NaN   \n",
       "2008-01-01 01:29:59                                       NaN   \n",
       "2008-01-01 02:29:59                                       NaN   \n",
       "2008-01-01 03:30:00                                       NaN   \n",
       "2008-01-01 04:29:59                                       NaN   \n",
       "2008-01-01 05:29:59                                       NaN   \n",
       "2008-01-01 06:30:00                                       NaN   \n",
       "2008-01-01 07:29:59                                       NaN   \n",
       "2008-01-01 08:29:59                                       NaN   \n",
       "2008-01-01 09:30:00                                       NaN   \n",
       "2008-01-01 10:29:59                                       NaN   \n",
       "2008-01-01 11:29:59                                       NaN   \n",
       "2008-01-01 12:30:00                                       NaN   \n",
       "2008-01-01 13:29:59                                       NaN   \n",
       "2008-01-01 14:29:59                                       NaN   \n",
       "2008-01-01 15:30:00                                       NaN   \n",
       "2008-01-01 16:29:59                                       NaN   \n",
       "2008-01-01 17:29:59                                       NaN   \n",
       "2008-01-01 18:30:00                                       NaN   \n",
       "2008-01-01 19:29:59                                       NaN   \n",
       "2008-01-01 20:29:59                                       NaN   \n",
       "2008-01-01 21:30:00                                       NaN   \n",
       "2008-01-01 22:29:59                                       NaN   \n",
       "2008-01-01 23:29:59                                       NaN   \n",
       "2008-01-02 00:30:00                                       NaN   \n",
       "2008-01-02 01:29:59                                       NaN   \n",
       "2008-01-02 02:29:59                                       NaN   \n",
       "2008-01-02 03:30:00                                       NaN   \n",
       "2008-01-02 04:29:59                                       NaN   \n",
       "2008-01-02 05:29:59                                       NaN   \n",
       "...                                                       ...   \n",
       "2008-12-30 18:30:00                                     0.409   \n",
       "2008-12-30 19:29:58                                     0.688   \n",
       "2008-12-30 20:29:59                                     5.979   \n",
       "2008-12-30 21:30:00                                     8.777   \n",
       "2008-12-30 22:29:58                                     5.011   \n",
       "2008-12-30 23:29:59                                     3.107   \n",
       "2008-12-31 00:30:00                                     2.492   \n",
       "2008-12-31 01:29:58                                     1.660   \n",
       "2008-12-31 02:29:59                                     0.569   \n",
       "2008-12-31 03:30:00                                     0.659   \n",
       "2008-12-31 04:29:58                                     0.779   \n",
       "2008-12-31 05:29:59                                     1.514   \n",
       "2008-12-31 06:30:00                                     3.247   \n",
       "2008-12-31 07:29:58                                     2.974   \n",
       "2008-12-31 08:29:59                                     2.189   \n",
       "2008-12-31 09:30:00                                     1.427   \n",
       "2008-12-31 10:29:58                                     1.917   \n",
       "2008-12-31 11:29:59                                     1.909   \n",
       "2008-12-31 12:30:00                                     2.172   \n",
       "2008-12-31 13:29:58                                     5.162   \n",
       "2008-12-31 14:29:59                                     7.038   \n",
       "2008-12-31 15:30:00                                     6.019   \n",
       "2008-12-31 16:29:58                                     5.320   \n",
       "2008-12-31 17:29:59                                     4.690   \n",
       "2008-12-31 18:30:00                                     6.130   \n",
       "2008-12-31 19:29:58                                     4.834   \n",
       "2008-12-31 20:29:59                                     3.433   \n",
       "2008-12-31 21:30:00                                     3.665   \n",
       "2008-12-31 22:29:58                                     3.929   \n",
       "2008-12-31 23:29:59                                     4.307   \n",
       "\n",
       "                     aerosol_light_backscattering_coefficient  \\\n",
       "2008-01-01 00:30:00                                       NaN   \n",
       "2008-01-01 01:29:59                                       NaN   \n",
       "2008-01-01 02:29:59                                       NaN   \n",
       "2008-01-01 03:30:00                                       NaN   \n",
       "2008-01-01 04:29:59                                       NaN   \n",
       "2008-01-01 05:29:59                                       NaN   \n",
       "2008-01-01 06:30:00                                       NaN   \n",
       "2008-01-01 07:29:59                                       NaN   \n",
       "2008-01-01 08:29:59                                       NaN   \n",
       "2008-01-01 09:30:00                                       NaN   \n",
       "2008-01-01 10:29:59                                       NaN   \n",
       "2008-01-01 11:29:59                                       NaN   \n",
       "2008-01-01 12:30:00                                       NaN   \n",
       "2008-01-01 13:29:59                                       NaN   \n",
       "2008-01-01 14:29:59                                       NaN   \n",
       "2008-01-01 15:30:00                                       NaN   \n",
       "2008-01-01 16:29:59                                       NaN   \n",
       "2008-01-01 17:29:59                                       NaN   \n",
       "2008-01-01 18:30:00                                       NaN   \n",
       "2008-01-01 19:29:59                                       NaN   \n",
       "2008-01-01 20:29:59                                       NaN   \n",
       "2008-01-01 21:30:00                                       NaN   \n",
       "2008-01-01 22:29:59                                       NaN   \n",
       "2008-01-01 23:29:59                                       NaN   \n",
       "2008-01-02 00:30:00                                       NaN   \n",
       "2008-01-02 01:29:59                                       NaN   \n",
       "2008-01-02 02:29:59                                       NaN   \n",
       "2008-01-02 03:30:00                                       NaN   \n",
       "2008-01-02 04:29:59                                       NaN   \n",
       "2008-01-02 05:29:59                                       NaN   \n",
       "...                                                       ...   \n",
       "2008-12-30 18:30:00                                     0.303   \n",
       "2008-12-30 19:29:58                                     0.558   \n",
       "2008-12-30 20:29:59                                     4.602   \n",
       "2008-12-30 21:30:00                                     6.770   \n",
       "2008-12-30 22:29:58                                     3.801   \n",
       "2008-12-30 23:29:59                                     2.509   \n",
       "2008-12-31 00:30:00                                     1.939   \n",
       "2008-12-31 01:29:58                                     1.362   \n",
       "2008-12-31 02:29:59                                     0.508   \n",
       "2008-12-31 03:30:00                                     0.506   \n",
       "2008-12-31 04:29:58                                     0.714   \n",
       "2008-12-31 05:29:59                                     1.198   \n",
       "2008-12-31 06:30:00                                     2.608   \n",
       "2008-12-31 07:29:58                                     2.371   \n",
       "2008-12-31 08:29:59                                     1.745   \n",
       "2008-12-31 09:30:00                                     1.077   \n",
       "2008-12-31 10:29:58                                     1.455   \n",
       "2008-12-31 11:29:59                                     1.442   \n",
       "2008-12-31 12:30:00                                     1.623   \n",
       "2008-12-31 13:29:58                                     4.016   \n",
       "2008-12-31 14:29:59                                     5.385   \n",
       "2008-12-31 15:30:00                                     4.688   \n",
       "2008-12-31 16:29:58                                     4.010   \n",
       "2008-12-31 17:29:59                                     3.628   \n",
       "2008-12-31 18:30:00                                     4.776   \n",
       "2008-12-31 19:29:58                                     3.827   \n",
       "2008-12-31 20:29:59                                     2.663   \n",
       "2008-12-31 21:30:00                                     2.840   \n",
       "2008-12-31 22:29:58                                     3.217   \n",
       "2008-12-31 23:29:59                                     3.349   \n",
       "\n",
       "                     aerosol_light_scattering_coefficient  \\\n",
       "2008-01-01 00:30:00                                   NaN   \n",
       "2008-01-01 01:29:59                                   NaN   \n",
       "2008-01-01 02:29:59                                   NaN   \n",
       "2008-01-01 03:30:00                                   NaN   \n",
       "2008-01-01 04:29:59                                   NaN   \n",
       "2008-01-01 05:29:59                                   NaN   \n",
       "2008-01-01 06:30:00                                   NaN   \n",
       "2008-01-01 07:29:59                                   NaN   \n",
       "2008-01-01 08:29:59                                   NaN   \n",
       "2008-01-01 09:30:00                                   NaN   \n",
       "2008-01-01 10:29:59                                   NaN   \n",
       "2008-01-01 11:29:59                                   NaN   \n",
       "2008-01-01 12:30:00                                   NaN   \n",
       "2008-01-01 13:29:59                                   NaN   \n",
       "2008-01-01 14:29:59                                   NaN   \n",
       "2008-01-01 15:30:00                                   NaN   \n",
       "2008-01-01 16:29:59                                   NaN   \n",
       "2008-01-01 17:29:59                                   NaN   \n",
       "2008-01-01 18:30:00                                   NaN   \n",
       "2008-01-01 19:29:59                                   NaN   \n",
       "2008-01-01 20:29:59                                   NaN   \n",
       "2008-01-01 21:30:00                                   NaN   \n",
       "2008-01-01 22:29:59                                   NaN   \n",
       "2008-01-01 23:29:59                                   NaN   \n",
       "2008-01-02 00:30:00                                   NaN   \n",
       "2008-01-02 01:29:59                                   NaN   \n",
       "2008-01-02 02:29:59                                   NaN   \n",
       "2008-01-02 03:30:00                                   NaN   \n",
       "2008-01-02 04:29:59                                   NaN   \n",
       "2008-01-02 05:29:59                                   NaN   \n",
       "...                                                   ...   \n",
       "2008-12-30 18:30:00                                 5.250   \n",
       "2008-12-30 19:29:58                                 7.934   \n",
       "2008-12-30 20:29:59                                70.955   \n",
       "2008-12-30 21:30:00                               103.578   \n",
       "2008-12-30 22:29:58                                57.828   \n",
       "2008-12-30 23:29:59                                41.293   \n",
       "2008-12-31 00:30:00                                32.975   \n",
       "2008-12-31 01:29:58                                22.381   \n",
       "2008-12-31 02:29:59                                 6.382   \n",
       "2008-12-31 03:30:00                                 6.934   \n",
       "2008-12-31 04:29:58                                 9.422   \n",
       "2008-12-31 05:29:59                                18.791   \n",
       "2008-12-31 06:30:00                                42.560   \n",
       "2008-12-31 07:29:58                                40.905   \n",
       "2008-12-31 08:29:59                                29.099   \n",
       "2008-12-31 09:30:00                                16.988   \n",
       "2008-12-31 10:29:58                                24.601   \n",
       "2008-12-31 11:29:59                                24.114   \n",
       "2008-12-31 12:30:00                                27.016   \n",
       "2008-12-31 13:29:58                                62.217   \n",
       "2008-12-31 14:29:59                                80.137   \n",
       "2008-12-31 15:30:00                                69.304   \n",
       "2008-12-31 16:29:58                                61.384   \n",
       "2008-12-31 17:29:59                                57.607   \n",
       "2008-12-31 18:30:00                                76.904   \n",
       "2008-12-31 19:29:58                                61.421   \n",
       "2008-12-31 20:29:59                                43.144   \n",
       "2008-12-31 21:30:00                                44.719   \n",
       "2008-12-31 22:29:58                                48.623   \n",
       "2008-12-31 23:29:59                                54.983   \n",
       "\n",
       "                     aerosol_light_scattering_coefficient  \\\n",
       "2008-01-01 00:30:00                                   NaN   \n",
       "2008-01-01 01:29:59                                   NaN   \n",
       "2008-01-01 02:29:59                                   NaN   \n",
       "2008-01-01 03:30:00                                   NaN   \n",
       "2008-01-01 04:29:59                                   NaN   \n",
       "2008-01-01 05:29:59                                   NaN   \n",
       "2008-01-01 06:30:00                                   NaN   \n",
       "2008-01-01 07:29:59                                   NaN   \n",
       "2008-01-01 08:29:59                                   NaN   \n",
       "2008-01-01 09:30:00                                   NaN   \n",
       "2008-01-01 10:29:59                                   NaN   \n",
       "2008-01-01 11:29:59                                   NaN   \n",
       "2008-01-01 12:30:00                                   NaN   \n",
       "2008-01-01 13:29:59                                   NaN   \n",
       "2008-01-01 14:29:59                                   NaN   \n",
       "2008-01-01 15:30:00                                   NaN   \n",
       "2008-01-01 16:29:59                                   NaN   \n",
       "2008-01-01 17:29:59                                   NaN   \n",
       "2008-01-01 18:30:00                                   NaN   \n",
       "2008-01-01 19:29:59                                   NaN   \n",
       "2008-01-01 20:29:59                                   NaN   \n",
       "2008-01-01 21:30:00                                   NaN   \n",
       "2008-01-01 22:29:59                                   NaN   \n",
       "2008-01-01 23:29:59                                   NaN   \n",
       "2008-01-02 00:30:00                                   NaN   \n",
       "2008-01-02 01:29:59                                   NaN   \n",
       "2008-01-02 02:29:59                                   NaN   \n",
       "2008-01-02 03:30:00                                   NaN   \n",
       "2008-01-02 04:29:59                                   NaN   \n",
       "2008-01-02 05:29:59                                   NaN   \n",
       "...                                                   ...   \n",
       "2008-12-30 18:30:00                                 3.716   \n",
       "2008-12-30 19:29:58                                 5.414   \n",
       "2008-12-30 20:29:59                                50.095   \n",
       "2008-12-30 21:30:00                                73.434   \n",
       "2008-12-30 22:29:58                                40.803   \n",
       "2008-12-30 23:29:59                                30.195   \n",
       "2008-12-31 00:30:00                                24.133   \n",
       "2008-12-31 01:29:58                                16.227   \n",
       "2008-12-31 02:29:59                                 4.487   \n",
       "2008-12-31 03:30:00                                 4.876   \n",
       "2008-12-31 04:29:58                                 6.621   \n",
       "2008-12-31 05:29:59                                13.431   \n",
       "2008-12-31 06:30:00                                31.077   \n",
       "2008-12-31 07:29:58                                29.963   \n",
       "2008-12-31 08:29:59                                21.226   \n",
       "2008-12-31 09:30:00                                12.135   \n",
       "2008-12-31 10:29:58                                17.758   \n",
       "2008-12-31 11:29:59                                17.331   \n",
       "2008-12-31 12:30:00                                19.509   \n",
       "2008-12-31 13:29:58                                44.872   \n",
       "2008-12-31 14:29:59                                56.764   \n",
       "2008-12-31 15:30:00                                49.066   \n",
       "2008-12-31 16:29:58                                43.327   \n",
       "2008-12-31 17:29:59                                41.258   \n",
       "2008-12-31 18:30:00                                55.401   \n",
       "2008-12-31 19:29:58                                44.224   \n",
       "2008-12-31 20:29:59                                30.726   \n",
       "2008-12-31 21:30:00                                31.694   \n",
       "2008-12-31 22:29:58                                34.503   \n",
       "2008-12-31 23:29:59                                39.390   \n",
       "\n",
       "                     aerosol_light_scattering_coefficient  pressure  \\\n",
       "2008-01-01 00:30:00                                   NaN       NaN   \n",
       "2008-01-01 01:29:59                                   NaN       NaN   \n",
       "2008-01-01 02:29:59                                   NaN       NaN   \n",
       "2008-01-01 03:30:00                                   NaN       NaN   \n",
       "2008-01-01 04:29:59                                   NaN       NaN   \n",
       "2008-01-01 05:29:59                                   NaN       NaN   \n",
       "2008-01-01 06:30:00                                   NaN       NaN   \n",
       "2008-01-01 07:29:59                                   NaN       NaN   \n",
       "2008-01-01 08:29:59                                   NaN       NaN   \n",
       "2008-01-01 09:30:00                                   NaN       NaN   \n",
       "2008-01-01 10:29:59                                   NaN       NaN   \n",
       "2008-01-01 11:29:59                                   NaN       NaN   \n",
       "2008-01-01 12:30:00                                   NaN       NaN   \n",
       "2008-01-01 13:29:59                                   NaN       NaN   \n",
       "2008-01-01 14:29:59                                   NaN       NaN   \n",
       "2008-01-01 15:30:00                                   NaN       NaN   \n",
       "2008-01-01 16:29:59                                   NaN       NaN   \n",
       "2008-01-01 17:29:59                                   NaN       NaN   \n",
       "2008-01-01 18:30:00                                   NaN       NaN   \n",
       "2008-01-01 19:29:59                                   NaN       NaN   \n",
       "2008-01-01 20:29:59                                   NaN       NaN   \n",
       "2008-01-01 21:30:00                                   NaN       NaN   \n",
       "2008-01-01 22:29:59                                   NaN       NaN   \n",
       "2008-01-01 23:29:59                                   NaN       NaN   \n",
       "2008-01-02 00:30:00                                   NaN       NaN   \n",
       "2008-01-02 01:29:59                                   NaN       NaN   \n",
       "2008-01-02 02:29:59                                   NaN       NaN   \n",
       "2008-01-02 03:30:00                                   NaN       NaN   \n",
       "2008-01-02 04:29:59                                   NaN       NaN   \n",
       "2008-01-02 05:29:59                                   NaN       NaN   \n",
       "...                                                   ...       ...   \n",
       "2008-12-30 18:30:00                                 2.264     909.0   \n",
       "2008-12-30 19:29:58                                 3.308     909.0   \n",
       "2008-12-30 20:29:59                                30.940     909.0   \n",
       "2008-12-30 21:30:00                                45.628     909.0   \n",
       "2008-12-30 22:29:58                                25.309     909.0   \n",
       "2008-12-30 23:29:59                                19.253     909.0   \n",
       "2008-12-31 00:30:00                                15.449     908.0   \n",
       "2008-12-31 01:29:58                                10.269     908.0   \n",
       "2008-12-31 02:29:59                                 2.890     907.0   \n",
       "2008-12-31 03:30:00                                 3.026     907.0   \n",
       "2008-12-31 04:29:58                                 4.073     907.0   \n",
       "2008-12-31 05:29:59                                 8.296     906.0   \n",
       "2008-12-31 06:30:00                                19.972     906.0   \n",
       "2008-12-31 07:29:58                                19.293     906.0   \n",
       "2008-12-31 08:29:59                                13.575     906.0   \n",
       "2008-12-31 09:30:00                                 7.623     906.0   \n",
       "2008-12-31 10:29:58                                11.318     905.0   \n",
       "2008-12-31 11:29:59                                11.010     905.0   \n",
       "2008-12-31 12:30:00                                12.520     905.0   \n",
       "2008-12-31 13:29:58                                28.652     905.0   \n",
       "2008-12-31 14:29:59                                35.320     905.0   \n",
       "2008-12-31 15:30:00                                30.776     905.0   \n",
       "2008-12-31 16:29:58                                26.987     904.0   \n",
       "2008-12-31 17:29:59                                25.973     904.0   \n",
       "2008-12-31 18:30:00                                35.085     904.0   \n",
       "2008-12-31 19:29:58                                28.044     904.0   \n",
       "2008-12-31 20:29:59                                19.240     903.0   \n",
       "2008-12-31 21:30:00                                19.885     903.0   \n",
       "2008-12-31 22:29:58                                21.719     903.0   \n",
       "2008-12-31 23:29:59                                24.721     903.0   \n",
       "\n",
       "                     relative_humidity  temperature  \n",
       "2008-01-01 00:30:00                NaN          NaN  \n",
       "2008-01-01 01:29:59                NaN          NaN  \n",
       "2008-01-01 02:29:59                NaN          NaN  \n",
       "2008-01-01 03:30:00                NaN          NaN  \n",
       "2008-01-01 04:29:59                NaN          NaN  \n",
       "2008-01-01 05:29:59                NaN          NaN  \n",
       "2008-01-01 06:30:00                NaN          NaN  \n",
       "2008-01-01 07:29:59                NaN          NaN  \n",
       "2008-01-01 08:29:59                NaN          NaN  \n",
       "2008-01-01 09:30:00                NaN          NaN  \n",
       "2008-01-01 10:29:59                NaN          NaN  \n",
       "2008-01-01 11:29:59                NaN          NaN  \n",
       "2008-01-01 12:30:00                NaN          NaN  \n",
       "2008-01-01 13:29:59                NaN          NaN  \n",
       "2008-01-01 14:29:59                NaN          NaN  \n",
       "2008-01-01 15:30:00                NaN          NaN  \n",
       "2008-01-01 16:29:59                NaN          NaN  \n",
       "2008-01-01 17:29:59                NaN          NaN  \n",
       "2008-01-01 18:30:00                NaN          NaN  \n",
       "2008-01-01 19:29:59                NaN          NaN  \n",
       "2008-01-01 20:29:59                NaN          NaN  \n",
       "2008-01-01 21:30:00                NaN          NaN  \n",
       "2008-01-01 22:29:59                NaN          NaN  \n",
       "2008-01-01 23:29:59                NaN          NaN  \n",
       "2008-01-02 00:30:00                NaN          NaN  \n",
       "2008-01-02 01:29:59                NaN          NaN  \n",
       "2008-01-02 02:29:59                NaN          NaN  \n",
       "2008-01-02 03:30:00                NaN          NaN  \n",
       "2008-01-02 04:29:59                NaN          NaN  \n",
       "2008-01-02 05:29:59                NaN          NaN  \n",
       "...                                ...          ...  \n",
       "2008-12-30 18:30:00                4.5        300.4  \n",
       "2008-12-30 19:29:58                5.7        300.2  \n",
       "2008-12-30 20:29:59                8.9        300.4  \n",
       "2008-12-30 21:30:00                9.2        300.3  \n",
       "2008-12-30 22:29:58                8.7        300.1  \n",
       "2008-12-30 23:29:59                8.1        300.4  \n",
       "2008-12-31 00:30:00                7.9        299.8  \n",
       "2008-12-31 01:29:58                7.5        300.2  \n",
       "2008-12-31 02:29:59                6.6        299.9  \n",
       "2008-12-31 03:30:00                6.7        299.8  \n",
       "2008-12-31 04:29:58                7.0        300.2  \n",
       "2008-12-31 05:29:59                7.5        300.2  \n",
       "2008-12-31 06:30:00                8.2        299.9  \n",
       "2008-12-31 07:29:58                8.0        299.8  \n",
       "2008-12-31 08:29:59                7.7        299.9  \n",
       "2008-12-31 09:30:00                7.1        300.3  \n",
       "2008-12-31 10:29:58                7.1        300.7  \n",
       "2008-12-31 11:29:59                7.0        301.2  \n",
       "2008-12-31 12:30:00                7.4        300.9  \n",
       "2008-12-31 13:29:58                8.7        300.6  \n",
       "2008-12-31 14:29:59                9.3        301.0  \n",
       "2008-12-31 15:30:00                9.5        301.0  \n",
       "2008-12-31 16:29:58                9.8        300.3  \n",
       "2008-12-31 17:29:59                9.2        300.1  \n",
       "2008-12-31 18:30:00                9.3        299.9  \n",
       "2008-12-31 19:29:58                8.7        299.9  \n",
       "2008-12-31 20:29:59                8.5        299.8  \n",
       "2008-12-31 21:30:00                8.5        299.9  \n",
       "2008-12-31 22:29:58                8.7        299.9  \n",
       "2008-12-31 23:29:59                9.3        299.7  \n",
       "\n",
       "[8784 rows x 9 columns]"
      ]
     },
     "execution_count": 8,
     "metadata": {},
     "output_type": "execute_result"
    }
   ],
   "source": [
    "df = mc.to_dataframe()\n",
    "df"
   ]
  },
  {
   "cell_type": "markdown",
   "metadata": {},
   "source": [
    "#### Performance"
   ]
  },
  {
   "cell_type": "markdown",
   "metadata": {},
   "source": [
    "Read only header"
   ]
  },
  {
   "cell_type": "code",
   "execution_count": 9,
   "metadata": {},
   "outputs": [
    {
     "name": "stderr",
     "output_type": "stream",
     "text": [
      "2018-09-20 15:34:28,064:WARNING:\n",
      "Failed to read header row 6.\n",
      "2008 01 01 2016 07 08\n",
      "\n",
      "Error msg: IndexError('list index out of range',)\n"
     ]
    },
    {
     "name": "stderr",
     "output_type": "stream",
     "text": [
      "2018-09-20 15:34:28,072:WARNING:\n",
      "Failed to read header row 6.\n",
      "2008 01 01 2016 07 08\n",
      "\n",
      "Error msg: IndexError('list index out of range',)\n"
     ]
    },
    {
     "name": "stderr",
     "output_type": "stream",
     "text": [
      "2018-09-20 15:34:28,077:WARNING:\n",
      "Failed to read header row 6.\n",
      "2008 01 01 2016 07 08\n",
      "\n",
      "Error msg: IndexError('list index out of range',)\n"
     ]
    },
    {
     "name": "stderr",
     "output_type": "stream",
     "text": [
      "2018-09-20 15:34:28,082:WARNING:\n",
      "Failed to read header row 6.\n",
      "2008 01 01 2016 07 08\n",
      "\n",
      "Error msg: IndexError('list index out of range',)\n"
     ]
    },
    {
     "name": "stderr",
     "output_type": "stream",
     "text": [
      "2018-09-20 15:34:28,088:WARNING:\n",
      "Failed to read header row 6.\n",
      "2008 01 01 2016 07 08\n",
      "\n",
      "Error msg: IndexError('list index out of range',)\n"
     ]
    },
    {
     "name": "stderr",
     "output_type": "stream",
     "text": [
      "2018-09-20 15:34:28,095:WARNING:\n",
      "Failed to read header row 6.\n",
      "2008 01 01 2016 07 08\n",
      "\n",
      "Error msg: IndexError('list index out of range',)\n"
     ]
    },
    {
     "name": "stderr",
     "output_type": "stream",
     "text": [
      "2018-09-20 15:34:28,101:WARNING:\n",
      "Failed to read header row 6.\n",
      "2008 01 01 2016 07 08\n",
      "\n",
      "Error msg: IndexError('list index out of range',)\n"
     ]
    },
    {
     "name": "stderr",
     "output_type": "stream",
     "text": [
      "2018-09-20 15:34:28,108:WARNING:\n",
      "Failed to read header row 6.\n",
      "2008 01 01 2016 07 08\n",
      "\n",
      "Error msg: IndexError('list index out of range',)\n"
     ]
    },
    {
     "name": "stderr",
     "output_type": "stream",
     "text": [
      "2018-09-20 15:34:28,115:WARNING:\n",
      "Failed to read header row 6.\n",
      "2008 01 01 2016 07 08\n",
      "\n",
      "Error msg: IndexError('list index out of range',)\n"
     ]
    },
    {
     "name": "stderr",
     "output_type": "stream",
     "text": [
      "2018-09-20 15:34:28,122:WARNING:\n",
      "Failed to read header row 6.\n",
      "2008 01 01 2016 07 08\n",
      "\n",
      "Error msg: IndexError('list index out of range',)\n"
     ]
    },
    {
     "name": "stderr",
     "output_type": "stream",
     "text": [
      "2018-09-20 15:34:28,129:WARNING:\n",
      "Failed to read header row 6.\n",
      "2008 01 01 2016 07 08\n",
      "\n",
      "Error msg: IndexError('list index out of range',)\n"
     ]
    },
    {
     "name": "stderr",
     "output_type": "stream",
     "text": [
      "2018-09-20 15:34:28,135:WARNING:\n",
      "Failed to read header row 6.\n",
      "2008 01 01 2016 07 08\n",
      "\n",
      "Error msg: IndexError('list index out of range',)\n"
     ]
    },
    {
     "name": "stderr",
     "output_type": "stream",
     "text": [
      "2018-09-20 15:34:28,140:WARNING:\n",
      "Failed to read header row 6.\n",
      "2008 01 01 2016 07 08\n",
      "\n",
      "Error msg: IndexError('list index out of range',)\n"
     ]
    },
    {
     "name": "stderr",
     "output_type": "stream",
     "text": [
      "2018-09-20 15:34:28,146:WARNING:\n",
      "Failed to read header row 6.\n",
      "2008 01 01 2016 07 08\n",
      "\n",
      "Error msg: IndexError('list index out of range',)\n"
     ]
    },
    {
     "name": "stderr",
     "output_type": "stream",
     "text": [
      "2018-09-20 15:34:28,152:WARNING:\n",
      "Failed to read header row 6.\n",
      "2008 01 01 2016 07 08\n",
      "\n",
      "Error msg: IndexError('list index out of range',)\n"
     ]
    },
    {
     "name": "stderr",
     "output_type": "stream",
     "text": [
      "2018-09-20 15:34:28,157:WARNING:\n",
      "Failed to read header row 6.\n",
      "2008 01 01 2016 07 08\n",
      "\n",
      "Error msg: IndexError('list index out of range',)\n"
     ]
    },
    {
     "name": "stderr",
     "output_type": "stream",
     "text": [
      "2018-09-20 15:34:28,165:WARNING:\n",
      "Failed to read header row 6.\n",
      "2008 01 01 2016 07 08\n",
      "\n",
      "Error msg: IndexError('list index out of range',)\n"
     ]
    },
    {
     "name": "stderr",
     "output_type": "stream",
     "text": [
      "2018-09-20 15:34:28,177:WARNING:\n",
      "Failed to read header row 6.\n",
      "2008 01 01 2016 07 08\n",
      "\n",
      "Error msg: IndexError('list index out of range',)\n"
     ]
    },
    {
     "name": "stderr",
     "output_type": "stream",
     "text": [
      "2018-09-20 15:34:28,183:WARNING:\n",
      "Failed to read header row 6.\n",
      "2008 01 01 2016 07 08\n",
      "\n",
      "Error msg: IndexError('list index out of range',)\n"
     ]
    },
    {
     "name": "stderr",
     "output_type": "stream",
     "text": [
      "2018-09-20 15:34:28,188:WARNING:\n",
      "Failed to read header row 6.\n",
      "2008 01 01 2016 07 08\n",
      "\n",
      "Error msg: IndexError('list index out of range',)\n"
     ]
    },
    {
     "name": "stderr",
     "output_type": "stream",
     "text": [
      "2018-09-20 15:34:28,194:WARNING:\n",
      "Failed to read header row 6.\n",
      "2008 01 01 2016 07 08\n",
      "\n",
      "Error msg: IndexError('list index out of range',)\n"
     ]
    },
    {
     "name": "stderr",
     "output_type": "stream",
     "text": [
      "2018-09-20 15:34:28,199:WARNING:\n",
      "Failed to read header row 6.\n",
      "2008 01 01 2016 07 08\n",
      "\n",
      "Error msg: IndexError('list index out of range',)\n"
     ]
    },
    {
     "name": "stderr",
     "output_type": "stream",
     "text": [
      "2018-09-20 15:34:28,204:WARNING:\n",
      "Failed to read header row 6.\n",
      "2008 01 01 2016 07 08\n",
      "\n",
      "Error msg: IndexError('list index out of range',)\n"
     ]
    },
    {
     "name": "stderr",
     "output_type": "stream",
     "text": [
      "2018-09-20 15:34:28,209:WARNING:\n",
      "Failed to read header row 6.\n",
      "2008 01 01 2016 07 08\n",
      "\n",
      "Error msg: IndexError('list index out of range',)\n"
     ]
    },
    {
     "name": "stderr",
     "output_type": "stream",
     "text": [
      "2018-09-20 15:34:28,214:WARNING:\n",
      "Failed to read header row 6.\n",
      "2008 01 01 2016 07 08\n",
      "\n",
      "Error msg: IndexError('list index out of range',)\n"
     ]
    },
    {
     "name": "stderr",
     "output_type": "stream",
     "text": [
      "2018-09-20 15:34:28,224:WARNING:\n",
      "Failed to read header row 6.\n",
      "2008 01 01 2016 07 08\n",
      "\n",
      "Error msg: IndexError('list index out of range',)\n"
     ]
    },
    {
     "name": "stderr",
     "output_type": "stream",
     "text": [
      "2018-09-20 15:34:28,229:WARNING:\n",
      "Failed to read header row 6.\n",
      "2008 01 01 2016 07 08\n",
      "\n",
      "Error msg: IndexError('list index out of range',)\n"
     ]
    },
    {
     "name": "stderr",
     "output_type": "stream",
     "text": [
      "2018-09-20 15:34:28,234:WARNING:\n",
      "Failed to read header row 6.\n",
      "2008 01 01 2016 07 08\n",
      "\n",
      "Error msg: IndexError('list index out of range',)\n"
     ]
    },
    {
     "name": "stderr",
     "output_type": "stream",
     "text": [
      "2018-09-20 15:34:28,240:WARNING:\n",
      "Failed to read header row 6.\n",
      "2008 01 01 2016 07 08\n",
      "\n",
      "Error msg: IndexError('list index out of range',)\n"
     ]
    },
    {
     "name": "stderr",
     "output_type": "stream",
     "text": [
      "2018-09-20 15:34:28,245:WARNING:\n",
      "Failed to read header row 6.\n",
      "2008 01 01 2016 07 08\n",
      "\n",
      "Error msg: IndexError('list index out of range',)\n"
     ]
    },
    {
     "name": "stderr",
     "output_type": "stream",
     "text": [
      "2018-09-20 15:34:28,249:WARNING:\n",
      "Failed to read header row 6.\n",
      "2008 01 01 2016 07 08\n",
      "\n",
      "Error msg: IndexError('list index out of range',)\n"
     ]
    },
    {
     "name": "stderr",
     "output_type": "stream",
     "text": [
      "2018-09-20 15:34:28,254:WARNING:\n",
      "Failed to read header row 6.\n",
      "2008 01 01 2016 07 08\n",
      "\n",
      "Error msg: IndexError('list index out of range',)\n"
     ]
    },
    {
     "name": "stderr",
     "output_type": "stream",
     "text": [
      "2018-09-20 15:34:28,259:WARNING:\n",
      "Failed to read header row 6.\n",
      "2008 01 01 2016 07 08\n",
      "\n",
      "Error msg: IndexError('list index out of range',)\n"
     ]
    },
    {
     "name": "stderr",
     "output_type": "stream",
     "text": [
      "2018-09-20 15:34:28,265:WARNING:\n",
      "Failed to read header row 6.\n",
      "2008 01 01 2016 07 08\n",
      "\n",
      "Error msg: IndexError('list index out of range',)\n"
     ]
    },
    {
     "name": "stderr",
     "output_type": "stream",
     "text": [
      "2018-09-20 15:34:28,272:WARNING:\n",
      "Failed to read header row 6.\n",
      "2008 01 01 2016 07 08\n",
      "\n",
      "Error msg: IndexError('list index out of range',)\n"
     ]
    },
    {
     "name": "stderr",
     "output_type": "stream",
     "text": [
      "2018-09-20 15:34:28,279:WARNING:\n",
      "Failed to read header row 6.\n",
      "2008 01 01 2016 07 08\n",
      "\n",
      "Error msg: IndexError('list index out of range',)\n"
     ]
    },
    {
     "name": "stderr",
     "output_type": "stream",
     "text": [
      "2018-09-20 15:34:28,286:WARNING:\n",
      "Failed to read header row 6.\n",
      "2008 01 01 2016 07 08\n",
      "\n",
      "Error msg: IndexError('list index out of range',)\n"
     ]
    },
    {
     "name": "stderr",
     "output_type": "stream",
     "text": [
      "2018-09-20 15:34:28,292:WARNING:\n",
      "Failed to read header row 6.\n",
      "2008 01 01 2016 07 08\n",
      "\n",
      "Error msg: IndexError('list index out of range',)\n"
     ]
    },
    {
     "name": "stderr",
     "output_type": "stream",
     "text": [
      "2018-09-20 15:34:28,300:WARNING:\n",
      "Failed to read header row 6.\n",
      "2008 01 01 2016 07 08\n",
      "\n",
      "Error msg: IndexError('list index out of range',)\n"
     ]
    },
    {
     "name": "stderr",
     "output_type": "stream",
     "text": [
      "2018-09-20 15:34:28,307:WARNING:\n",
      "Failed to read header row 6.\n",
      "2008 01 01 2016 07 08\n",
      "\n",
      "Error msg: IndexError('list index out of range',)\n"
     ]
    },
    {
     "name": "stderr",
     "output_type": "stream",
     "text": [
      "2018-09-20 15:34:28,315:WARNING:\n",
      "Failed to read header row 6.\n",
      "2008 01 01 2016 07 08\n",
      "\n",
      "Error msg: IndexError('list index out of range',)\n"
     ]
    },
    {
     "name": "stderr",
     "output_type": "stream",
     "text": [
      "2018-09-20 15:34:28,322:WARNING:\n",
      "Failed to read header row 6.\n",
      "2008 01 01 2016 07 08\n",
      "\n",
      "Error msg: IndexError('list index out of range',)\n"
     ]
    },
    {
     "name": "stderr",
     "output_type": "stream",
     "text": [
      "2018-09-20 15:34:28,329:WARNING:\n",
      "Failed to read header row 6.\n",
      "2008 01 01 2016 07 08\n",
      "\n",
      "Error msg: IndexError('list index out of range',)\n"
     ]
    },
    {
     "name": "stderr",
     "output_type": "stream",
     "text": [
      "2018-09-20 15:34:28,336:WARNING:\n",
      "Failed to read header row 6.\n",
      "2008 01 01 2016 07 08\n",
      "\n",
      "Error msg: IndexError('list index out of range',)\n"
     ]
    },
    {
     "name": "stderr",
     "output_type": "stream",
     "text": [
      "2018-09-20 15:34:28,343:WARNING:\n",
      "Failed to read header row 6.\n",
      "2008 01 01 2016 07 08\n",
      "\n",
      "Error msg: IndexError('list index out of range',)\n"
     ]
    },
    {
     "name": "stderr",
     "output_type": "stream",
     "text": [
      "2018-09-20 15:34:28,350:WARNING:\n",
      "Failed to read header row 6.\n",
      "2008 01 01 2016 07 08\n",
      "\n",
      "Error msg: IndexError('list index out of range',)\n"
     ]
    },
    {
     "name": "stderr",
     "output_type": "stream",
     "text": [
      "2018-09-20 15:34:28,357:WARNING:\n",
      "Failed to read header row 6.\n",
      "2008 01 01 2016 07 08\n",
      "\n",
      "Error msg: IndexError('list index out of range',)\n"
     ]
    },
    {
     "name": "stderr",
     "output_type": "stream",
     "text": [
      "2018-09-20 15:34:28,365:WARNING:\n",
      "Failed to read header row 6.\n",
      "2008 01 01 2016 07 08\n",
      "\n",
      "Error msg: IndexError('list index out of range',)\n"
     ]
    },
    {
     "name": "stderr",
     "output_type": "stream",
     "text": [
      "2018-09-20 15:34:28,372:WARNING:\n",
      "Failed to read header row 6.\n",
      "2008 01 01 2016 07 08\n",
      "\n",
      "Error msg: IndexError('list index out of range',)\n"
     ]
    },
    {
     "name": "stderr",
     "output_type": "stream",
     "text": [
      "2018-09-20 15:34:28,380:WARNING:\n",
      "Failed to read header row 6.\n",
      "2008 01 01 2016 07 08\n",
      "\n",
      "Error msg: IndexError('list index out of range',)\n"
     ]
    },
    {
     "name": "stderr",
     "output_type": "stream",
     "text": [
      "2018-09-20 15:34:28,387:WARNING:\n",
      "Failed to read header row 6.\n",
      "2008 01 01 2016 07 08\n",
      "\n",
      "Error msg: IndexError('list index out of range',)\n"
     ]
    },
    {
     "name": "stderr",
     "output_type": "stream",
     "text": [
      "2018-09-20 15:34:28,392:WARNING:\n",
      "Failed to read header row 6.\n",
      "2008 01 01 2016 07 08\n",
      "\n",
      "Error msg: IndexError('list index out of range',)\n"
     ]
    },
    {
     "name": "stderr",
     "output_type": "stream",
     "text": [
      "2018-09-20 15:34:28,396:WARNING:\n",
      "Failed to read header row 6.\n",
      "2008 01 01 2016 07 08\n",
      "\n",
      "Error msg: IndexError('list index out of range',)\n"
     ]
    },
    {
     "name": "stderr",
     "output_type": "stream",
     "text": [
      "2018-09-20 15:34:28,401:WARNING:\n",
      "Failed to read header row 6.\n",
      "2008 01 01 2016 07 08\n",
      "\n",
      "Error msg: IndexError('list index out of range',)\n"
     ]
    },
    {
     "name": "stderr",
     "output_type": "stream",
     "text": [
      "2018-09-20 15:34:28,406:WARNING:\n",
      "Failed to read header row 6.\n",
      "2008 01 01 2016 07 08\n",
      "\n",
      "Error msg: IndexError('list index out of range',)\n"
     ]
    },
    {
     "name": "stderr",
     "output_type": "stream",
     "text": [
      "2018-09-20 15:34:28,411:WARNING:\n",
      "Failed to read header row 6.\n",
      "2008 01 01 2016 07 08\n",
      "\n",
      "Error msg: IndexError('list index out of range',)\n"
     ]
    },
    {
     "name": "stderr",
     "output_type": "stream",
     "text": [
      "2018-09-20 15:34:28,416:WARNING:\n",
      "Failed to read header row 6.\n",
      "2008 01 01 2016 07 08\n",
      "\n",
      "Error msg: IndexError('list index out of range',)\n"
     ]
    },
    {
     "name": "stderr",
     "output_type": "stream",
     "text": [
      "2018-09-20 15:34:28,421:WARNING:\n",
      "Failed to read header row 6.\n",
      "2008 01 01 2016 07 08\n",
      "\n",
      "Error msg: IndexError('list index out of range',)\n"
     ]
    },
    {
     "name": "stderr",
     "output_type": "stream",
     "text": [
      "2018-09-20 15:34:28,426:WARNING:\n",
      "Failed to read header row 6.\n",
      "2008 01 01 2016 07 08\n",
      "\n",
      "Error msg: IndexError('list index out of range',)\n"
     ]
    },
    {
     "name": "stderr",
     "output_type": "stream",
     "text": [
      "2018-09-20 15:34:28,431:WARNING:\n",
      "Failed to read header row 6.\n",
      "2008 01 01 2016 07 08\n",
      "\n",
      "Error msg: IndexError('list index out of range',)\n"
     ]
    },
    {
     "name": "stderr",
     "output_type": "stream",
     "text": [
      "2018-09-20 15:34:28,436:WARNING:\n",
      "Failed to read header row 6.\n",
      "2008 01 01 2016 07 08\n",
      "\n",
      "Error msg: IndexError('list index out of range',)\n"
     ]
    },
    {
     "name": "stderr",
     "output_type": "stream",
     "text": [
      "2018-09-20 15:34:28,441:WARNING:\n",
      "Failed to read header row 6.\n",
      "2008 01 01 2016 07 08\n",
      "\n",
      "Error msg: IndexError('list index out of range',)\n"
     ]
    },
    {
     "name": "stderr",
     "output_type": "stream",
     "text": [
      "2018-09-20 15:34:28,446:WARNING:\n",
      "Failed to read header row 6.\n",
      "2008 01 01 2016 07 08\n",
      "\n",
      "Error msg: IndexError('list index out of range',)\n"
     ]
    },
    {
     "name": "stderr",
     "output_type": "stream",
     "text": [
      "2018-09-20 15:34:28,453:WARNING:\n",
      "Failed to read header row 6.\n",
      "2008 01 01 2016 07 08\n",
      "\n",
      "Error msg: IndexError('list index out of range',)\n"
     ]
    },
    {
     "name": "stderr",
     "output_type": "stream",
     "text": [
      "2018-09-20 15:34:28,460:WARNING:\n",
      "Failed to read header row 6.\n",
      "2008 01 01 2016 07 08\n",
      "\n",
      "Error msg: IndexError('list index out of range',)\n"
     ]
    },
    {
     "name": "stderr",
     "output_type": "stream",
     "text": [
      "2018-09-20 15:34:28,469:WARNING:\n",
      "Failed to read header row 6.\n",
      "2008 01 01 2016 07 08\n",
      "\n",
      "Error msg: IndexError('list index out of range',)\n"
     ]
    },
    {
     "name": "stderr",
     "output_type": "stream",
     "text": [
      "2018-09-20 15:34:28,475:WARNING:\n",
      "Failed to read header row 6.\n",
      "2008 01 01 2016 07 08\n",
      "\n",
      "Error msg: IndexError('list index out of range',)\n"
     ]
    },
    {
     "name": "stderr",
     "output_type": "stream",
     "text": [
      "2018-09-20 15:34:28,483:WARNING:\n",
      "Failed to read header row 6.\n",
      "2008 01 01 2016 07 08\n",
      "\n",
      "Error msg: IndexError('list index out of range',)\n"
     ]
    },
    {
     "name": "stderr",
     "output_type": "stream",
     "text": [
      "2018-09-20 15:34:28,490:WARNING:\n",
      "Failed to read header row 6.\n",
      "2008 01 01 2016 07 08\n",
      "\n",
      "Error msg: IndexError('list index out of range',)\n"
     ]
    },
    {
     "name": "stderr",
     "output_type": "stream",
     "text": [
      "2018-09-20 15:34:28,497:WARNING:\n",
      "Failed to read header row 6.\n",
      "2008 01 01 2016 07 08\n",
      "\n",
      "Error msg: IndexError('list index out of range',)\n"
     ]
    },
    {
     "name": "stderr",
     "output_type": "stream",
     "text": [
      "2018-09-20 15:34:28,504:WARNING:\n",
      "Failed to read header row 6.\n",
      "2008 01 01 2016 07 08\n",
      "\n",
      "Error msg: IndexError('list index out of range',)\n"
     ]
    },
    {
     "name": "stderr",
     "output_type": "stream",
     "text": [
      "2018-09-20 15:34:28,510:WARNING:\n",
      "Failed to read header row 6.\n",
      "2008 01 01 2016 07 08\n",
      "\n",
      "Error msg: IndexError('list index out of range',)\n"
     ]
    },
    {
     "name": "stderr",
     "output_type": "stream",
     "text": [
      "2018-09-20 15:34:28,517:WARNING:\n",
      "Failed to read header row 6.\n",
      "2008 01 01 2016 07 08\n",
      "\n",
      "Error msg: IndexError('list index out of range',)\n"
     ]
    },
    {
     "name": "stderr",
     "output_type": "stream",
     "text": [
      "2018-09-20 15:34:28,524:WARNING:\n",
      "Failed to read header row 6.\n",
      "2008 01 01 2016 07 08\n",
      "\n",
      "Error msg: IndexError('list index out of range',)\n"
     ]
    },
    {
     "name": "stderr",
     "output_type": "stream",
     "text": [
      "2018-09-20 15:34:28,530:WARNING:\n",
      "Failed to read header row 6.\n",
      "2008 01 01 2016 07 08\n",
      "\n",
      "Error msg: IndexError('list index out of range',)\n"
     ]
    },
    {
     "name": "stderr",
     "output_type": "stream",
     "text": [
      "2018-09-20 15:34:28,538:WARNING:\n",
      "Failed to read header row 6.\n",
      "2008 01 01 2016 07 08\n",
      "\n",
      "Error msg: IndexError('list index out of range',)\n"
     ]
    },
    {
     "name": "stderr",
     "output_type": "stream",
     "text": [
      "2018-09-20 15:34:28,545:WARNING:\n",
      "Failed to read header row 6.\n",
      "2008 01 01 2016 07 08\n",
      "\n",
      "Error msg: IndexError('list index out of range',)\n"
     ]
    },
    {
     "name": "stderr",
     "output_type": "stream",
     "text": [
      "2018-09-20 15:34:28,552:WARNING:\n",
      "Failed to read header row 6.\n",
      "2008 01 01 2016 07 08\n",
      "\n",
      "Error msg: IndexError('list index out of range',)\n"
     ]
    },
    {
     "name": "stderr",
     "output_type": "stream",
     "text": [
      "2018-09-20 15:34:28,559:WARNING:\n",
      "Failed to read header row 6.\n",
      "2008 01 01 2016 07 08\n",
      "\n",
      "Error msg: IndexError('list index out of range',)\n"
     ]
    },
    {
     "name": "stderr",
     "output_type": "stream",
     "text": [
      "2018-09-20 15:34:28,566:WARNING:\n",
      "Failed to read header row 6.\n",
      "2008 01 01 2016 07 08\n",
      "\n",
      "Error msg: IndexError('list index out of range',)\n"
     ]
    },
    {
     "name": "stderr",
     "output_type": "stream",
     "text": [
      "2018-09-20 15:34:28,573:WARNING:\n",
      "Failed to read header row 6.\n",
      "2008 01 01 2016 07 08\n",
      "\n",
      "Error msg: IndexError('list index out of range',)\n"
     ]
    },
    {
     "name": "stderr",
     "output_type": "stream",
     "text": [
      "2018-09-20 15:34:28,580:WARNING:\n",
      "Failed to read header row 6.\n",
      "2008 01 01 2016 07 08\n",
      "\n",
      "Error msg: IndexError('list index out of range',)\n"
     ]
    },
    {
     "name": "stderr",
     "output_type": "stream",
     "text": [
      "2018-09-20 15:34:28,587:WARNING:\n",
      "Failed to read header row 6.\n",
      "2008 01 01 2016 07 08\n",
      "\n",
      "Error msg: IndexError('list index out of range',)\n"
     ]
    },
    {
     "name": "stderr",
     "output_type": "stream",
     "text": [
      "2018-09-20 15:34:28,595:WARNING:\n",
      "Failed to read header row 6.\n",
      "2008 01 01 2016 07 08\n",
      "\n",
      "Error msg: IndexError('list index out of range',)\n"
     ]
    },
    {
     "name": "stderr",
     "output_type": "stream",
     "text": [
      "2018-09-20 15:34:28,603:WARNING:\n",
      "Failed to read header row 6.\n",
      "2008 01 01 2016 07 08\n",
      "\n",
      "Error msg: IndexError('list index out of range',)\n"
     ]
    },
    {
     "name": "stderr",
     "output_type": "stream",
     "text": [
      "2018-09-20 15:34:28,610:WARNING:\n",
      "Failed to read header row 6.\n",
      "2008 01 01 2016 07 08\n",
      "\n",
      "Error msg: IndexError('list index out of range',)\n"
     ]
    },
    {
     "name": "stderr",
     "output_type": "stream",
     "text": [
      "2018-09-20 15:34:28,617:WARNING:\n",
      "Failed to read header row 6.\n",
      "2008 01 01 2016 07 08\n",
      "\n",
      "Error msg: IndexError('list index out of range',)\n"
     ]
    },
    {
     "name": "stderr",
     "output_type": "stream",
     "text": [
      "2018-09-20 15:34:28,624:WARNING:\n",
      "Failed to read header row 6.\n",
      "2008 01 01 2016 07 08\n",
      "\n",
      "Error msg: IndexError('list index out of range',)\n"
     ]
    },
    {
     "name": "stderr",
     "output_type": "stream",
     "text": [
      "2018-09-20 15:34:28,632:WARNING:\n",
      "Failed to read header row 6.\n",
      "2008 01 01 2016 07 08\n",
      "\n",
      "Error msg: IndexError('list index out of range',)\n"
     ]
    },
    {
     "name": "stderr",
     "output_type": "stream",
     "text": [
      "2018-09-20 15:34:28,641:WARNING:\n",
      "Failed to read header row 6.\n",
      "2008 01 01 2016 07 08\n",
      "\n",
      "Error msg: IndexError('list index out of range',)\n"
     ]
    },
    {
     "name": "stderr",
     "output_type": "stream",
     "text": [
      "2018-09-20 15:34:28,647:WARNING:\n",
      "Failed to read header row 6.\n",
      "2008 01 01 2016 07 08\n",
      "\n",
      "Error msg: IndexError('list index out of range',)\n"
     ]
    },
    {
     "name": "stderr",
     "output_type": "stream",
     "text": [
      "2018-09-20 15:34:28,653:WARNING:\n",
      "Failed to read header row 6.\n",
      "2008 01 01 2016 07 08\n",
      "\n",
      "Error msg: IndexError('list index out of range',)\n"
     ]
    },
    {
     "name": "stderr",
     "output_type": "stream",
     "text": [
      "2018-09-20 15:34:28,659:WARNING:\n",
      "Failed to read header row 6.\n",
      "2008 01 01 2016 07 08\n",
      "\n",
      "Error msg: IndexError('list index out of range',)\n"
     ]
    },
    {
     "name": "stderr",
     "output_type": "stream",
     "text": [
      "2018-09-20 15:34:28,665:WARNING:\n",
      "Failed to read header row 6.\n",
      "2008 01 01 2016 07 08\n",
      "\n",
      "Error msg: IndexError('list index out of range',)\n"
     ]
    },
    {
     "name": "stderr",
     "output_type": "stream",
     "text": [
      "2018-09-20 15:34:28,670:WARNING:\n",
      "Failed to read header row 6.\n",
      "2008 01 01 2016 07 08\n",
      "\n",
      "Error msg: IndexError('list index out of range',)\n"
     ]
    },
    {
     "name": "stderr",
     "output_type": "stream",
     "text": [
      "2018-09-20 15:34:28,676:WARNING:\n",
      "Failed to read header row 6.\n",
      "2008 01 01 2016 07 08\n",
      "\n",
      "Error msg: IndexError('list index out of range',)\n"
     ]
    },
    {
     "name": "stderr",
     "output_type": "stream",
     "text": [
      "2018-09-20 15:34:28,683:WARNING:\n",
      "Failed to read header row 6.\n",
      "2008 01 01 2016 07 08\n",
      "\n",
      "Error msg: IndexError('list index out of range',)\n"
     ]
    },
    {
     "name": "stderr",
     "output_type": "stream",
     "text": [
      "2018-09-20 15:34:28,690:WARNING:\n",
      "Failed to read header row 6.\n",
      "2008 01 01 2016 07 08\n",
      "\n",
      "Error msg: IndexError('list index out of range',)\n"
     ]
    },
    {
     "name": "stderr",
     "output_type": "stream",
     "text": [
      "2018-09-20 15:34:28,697:WARNING:\n",
      "Failed to read header row 6.\n",
      "2008 01 01 2016 07 08\n",
      "\n",
      "Error msg: IndexError('list index out of range',)\n"
     ]
    },
    {
     "name": "stderr",
     "output_type": "stream",
     "text": [
      "2018-09-20 15:34:28,705:WARNING:\n",
      "Failed to read header row 6.\n",
      "2008 01 01 2016 07 08\n",
      "\n",
      "Error msg: IndexError('list index out of range',)\n"
     ]
    },
    {
     "name": "stderr",
     "output_type": "stream",
     "text": [
      "2018-09-20 15:34:28,712:WARNING:\n",
      "Failed to read header row 6.\n",
      "2008 01 01 2016 07 08\n",
      "\n",
      "Error msg: IndexError('list index out of range',)\n"
     ]
    },
    {
     "name": "stderr",
     "output_type": "stream",
     "text": [
      "2018-09-20 15:34:28,720:WARNING:\n",
      "Failed to read header row 6.\n",
      "2008 01 01 2016 07 08\n",
      "\n",
      "Error msg: IndexError('list index out of range',)\n"
     ]
    },
    {
     "name": "stderr",
     "output_type": "stream",
     "text": [
      "2018-09-20 15:34:28,727:WARNING:\n",
      "Failed to read header row 6.\n",
      "2008 01 01 2016 07 08\n",
      "\n",
      "Error msg: IndexError('list index out of range',)\n"
     ]
    },
    {
     "name": "stderr",
     "output_type": "stream",
     "text": [
      "2018-09-20 15:34:28,734:WARNING:\n",
      "Failed to read header row 6.\n",
      "2008 01 01 2016 07 08\n",
      "\n",
      "Error msg: IndexError('list index out of range',)\n"
     ]
    },
    {
     "name": "stderr",
     "output_type": "stream",
     "text": [
      "2018-09-20 15:34:28,742:WARNING:\n",
      "Failed to read header row 6.\n",
      "2008 01 01 2016 07 08\n",
      "\n",
      "Error msg: IndexError('list index out of range',)\n"
     ]
    },
    {
     "name": "stderr",
     "output_type": "stream",
     "text": [
      "2018-09-20 15:34:28,749:WARNING:\n",
      "Failed to read header row 6.\n",
      "2008 01 01 2016 07 08\n",
      "\n",
      "Error msg: IndexError('list index out of range',)\n"
     ]
    },
    {
     "name": "stderr",
     "output_type": "stream",
     "text": [
      "2018-09-20 15:34:28,758:WARNING:\n",
      "Failed to read header row 6.\n",
      "2008 01 01 2016 07 08\n",
      "\n",
      "Error msg: IndexError('list index out of range',)\n"
     ]
    },
    {
     "name": "stderr",
     "output_type": "stream",
     "text": [
      "2018-09-20 15:34:28,765:WARNING:\n",
      "Failed to read header row 6.\n",
      "2008 01 01 2016 07 08\n",
      "\n",
      "Error msg: IndexError('list index out of range',)\n"
     ]
    },
    {
     "name": "stderr",
     "output_type": "stream",
     "text": [
      "2018-09-20 15:34:28,774:WARNING:\n",
      "Failed to read header row 6.\n",
      "2008 01 01 2016 07 08\n",
      "\n",
      "Error msg: IndexError('list index out of range',)\n"
     ]
    },
    {
     "name": "stderr",
     "output_type": "stream",
     "text": [
      "2018-09-20 15:34:28,782:WARNING:\n",
      "Failed to read header row 6.\n",
      "2008 01 01 2016 07 08\n",
      "\n",
      "Error msg: IndexError('list index out of range',)\n"
     ]
    },
    {
     "name": "stderr",
     "output_type": "stream",
     "text": [
      "2018-09-20 15:34:28,791:WARNING:\n",
      "Failed to read header row 6.\n",
      "2008 01 01 2016 07 08\n",
      "\n",
      "Error msg: IndexError('list index out of range',)\n"
     ]
    },
    {
     "name": "stderr",
     "output_type": "stream",
     "text": [
      "2018-09-20 15:34:28,799:WARNING:\n",
      "Failed to read header row 6.\n",
      "2008 01 01 2016 07 08\n",
      "\n",
      "Error msg: IndexError('list index out of range',)\n"
     ]
    },
    {
     "name": "stderr",
     "output_type": "stream",
     "text": [
      "2018-09-20 15:34:28,807:WARNING:\n",
      "Failed to read header row 6.\n",
      "2008 01 01 2016 07 08\n",
      "\n",
      "Error msg: IndexError('list index out of range',)\n"
     ]
    },
    {
     "name": "stderr",
     "output_type": "stream",
     "text": [
      "2018-09-20 15:34:28,816:WARNING:\n",
      "Failed to read header row 6.\n",
      "2008 01 01 2016 07 08\n",
      "\n",
      "Error msg: IndexError('list index out of range',)\n"
     ]
    },
    {
     "name": "stderr",
     "output_type": "stream",
     "text": [
      "2018-09-20 15:34:28,823:WARNING:\n",
      "Failed to read header row 6.\n",
      "2008 01 01 2016 07 08\n",
      "\n",
      "Error msg: IndexError('list index out of range',)\n"
     ]
    },
    {
     "name": "stderr",
     "output_type": "stream",
     "text": [
      "2018-09-20 15:34:28,833:WARNING:\n",
      "Failed to read header row 6.\n",
      "2008 01 01 2016 07 08\n",
      "\n",
      "Error msg: IndexError('list index out of range',)\n"
     ]
    },
    {
     "name": "stderr",
     "output_type": "stream",
     "text": [
      "2018-09-20 15:34:28,842:WARNING:\n",
      "Failed to read header row 6.\n",
      "2008 01 01 2016 07 08\n",
      "\n",
      "Error msg: IndexError('list index out of range',)\n"
     ]
    },
    {
     "name": "stderr",
     "output_type": "stream",
     "text": [
      "2018-09-20 15:34:28,850:WARNING:\n",
      "Failed to read header row 6.\n",
      "2008 01 01 2016 07 08\n",
      "\n",
      "Error msg: IndexError('list index out of range',)\n"
     ]
    },
    {
     "name": "stderr",
     "output_type": "stream",
     "text": [
      "2018-09-20 15:34:28,858:WARNING:\n",
      "Failed to read header row 6.\n",
      "2008 01 01 2016 07 08\n",
      "\n",
      "Error msg: IndexError('list index out of range',)\n"
     ]
    },
    {
     "name": "stderr",
     "output_type": "stream",
     "text": [
      "2018-09-20 15:34:28,867:WARNING:\n",
      "Failed to read header row 6.\n",
      "2008 01 01 2016 07 08\n",
      "\n",
      "Error msg: IndexError('list index out of range',)\n"
     ]
    },
    {
     "name": "stderr",
     "output_type": "stream",
     "text": [
      "2018-09-20 15:34:28,875:WARNING:\n",
      "Failed to read header row 6.\n",
      "2008 01 01 2016 07 08\n",
      "\n",
      "Error msg: IndexError('list index out of range',)\n"
     ]
    },
    {
     "name": "stderr",
     "output_type": "stream",
     "text": [
      "2018-09-20 15:34:28,896:WARNING:\n",
      "Failed to read header row 6.\n",
      "2008 01 01 2016 07 08\n",
      "\n",
      "Error msg: IndexError('list index out of range',)\n"
     ]
    },
    {
     "name": "stderr",
     "output_type": "stream",
     "text": [
      "2018-09-20 15:34:28,904:WARNING:\n",
      "Failed to read header row 6.\n",
      "2008 01 01 2016 07 08\n",
      "\n",
      "Error msg: IndexError('list index out of range',)\n"
     ]
    },
    {
     "name": "stderr",
     "output_type": "stream",
     "text": [
      "2018-09-20 15:34:28,911:WARNING:\n",
      "Failed to read header row 6.\n",
      "2008 01 01 2016 07 08\n",
      "\n",
      "Error msg: IndexError('list index out of range',)\n"
     ]
    },
    {
     "name": "stderr",
     "output_type": "stream",
     "text": [
      "2018-09-20 15:34:28,918:WARNING:\n",
      "Failed to read header row 6.\n",
      "2008 01 01 2016 07 08\n",
      "\n",
      "Error msg: IndexError('list index out of range',)\n"
     ]
    },
    {
     "name": "stderr",
     "output_type": "stream",
     "text": [
      "2018-09-20 15:34:28,927:WARNING:\n",
      "Failed to read header row 6.\n",
      "2008 01 01 2016 07 08\n",
      "\n",
      "Error msg: IndexError('list index out of range',)\n"
     ]
    },
    {
     "name": "stderr",
     "output_type": "stream",
     "text": [
      "2018-09-20 15:34:28,933:WARNING:\n",
      "Failed to read header row 6.\n",
      "2008 01 01 2016 07 08\n",
      "\n",
      "Error msg: IndexError('list index out of range',)\n"
     ]
    },
    {
     "name": "stderr",
     "output_type": "stream",
     "text": [
      "2018-09-20 15:34:28,938:WARNING:\n",
      "Failed to read header row 6.\n",
      "2008 01 01 2016 07 08\n",
      "\n",
      "Error msg: IndexError('list index out of range',)\n"
     ]
    },
    {
     "name": "stderr",
     "output_type": "stream",
     "text": [
      "2018-09-20 15:34:28,945:WARNING:\n",
      "Failed to read header row 6.\n",
      "2008 01 01 2016 07 08\n",
      "\n",
      "Error msg: IndexError('list index out of range',)\n"
     ]
    },
    {
     "name": "stderr",
     "output_type": "stream",
     "text": [
      "2018-09-20 15:34:28,950:WARNING:\n",
      "Failed to read header row 6.\n",
      "2008 01 01 2016 07 08\n",
      "\n",
      "Error msg: IndexError('list index out of range',)\n"
     ]
    },
    {
     "name": "stderr",
     "output_type": "stream",
     "text": [
      "2018-09-20 15:34:28,954:WARNING:\n",
      "Failed to read header row 6.\n",
      "2008 01 01 2016 07 08\n",
      "\n",
      "Error msg: IndexError('list index out of range',)\n"
     ]
    },
    {
     "name": "stderr",
     "output_type": "stream",
     "text": [
      "2018-09-20 15:34:28,959:WARNING:\n",
      "Failed to read header row 6.\n",
      "2008 01 01 2016 07 08\n",
      "\n",
      "Error msg: IndexError('list index out of range',)\n"
     ]
    },
    {
     "name": "stderr",
     "output_type": "stream",
     "text": [
      "2018-09-20 15:34:28,965:WARNING:\n",
      "Failed to read header row 6.\n",
      "2008 01 01 2016 07 08\n",
      "\n",
      "Error msg: IndexError('list index out of range',)\n"
     ]
    },
    {
     "name": "stderr",
     "output_type": "stream",
     "text": [
      "2018-09-20 15:34:28,970:WARNING:\n",
      "Failed to read header row 6.\n",
      "2008 01 01 2016 07 08\n",
      "\n",
      "Error msg: IndexError('list index out of range',)\n"
     ]
    },
    {
     "name": "stderr",
     "output_type": "stream",
     "text": [
      "2018-09-20 15:34:28,975:WARNING:\n",
      "Failed to read header row 6.\n",
      "2008 01 01 2016 07 08\n",
      "\n",
      "Error msg: IndexError('list index out of range',)"
     ]
    },
    {
     "name": "stderr",
     "output_type": "stream",
     "text": [
      "\n"
     ]
    },
    {
     "name": "stderr",
     "output_type": "stream",
     "text": [
      "2018-09-20 15:34:28,981:WARNING:\n",
      "Failed to read header row 6.\n",
      "2008 01 01 2016 07 08\n",
      "\n",
      "Error msg: IndexError('list index out of range',)\n"
     ]
    },
    {
     "name": "stderr",
     "output_type": "stream",
     "text": [
      "2018-09-20 15:34:28,987:WARNING:\n",
      "Failed to read header row 6.\n",
      "2008 01 01 2016 07 08\n",
      "\n",
      "Error msg: IndexError('list index out of range',)\n"
     ]
    },
    {
     "name": "stderr",
     "output_type": "stream",
     "text": [
      "2018-09-20 15:34:28,996:WARNING:\n",
      "Failed to read header row 6.\n",
      "2008 01 01 2016 07 08\n",
      "\n",
      "Error msg: IndexError('list index out of range',)\n"
     ]
    },
    {
     "name": "stderr",
     "output_type": "stream",
     "text": [
      "2018-09-20 15:34:29,004:WARNING:\n",
      "Failed to read header row 6.\n",
      "2008 01 01 2016 07 08\n",
      "\n",
      "Error msg: IndexError('list index out of range',)\n"
     ]
    },
    {
     "name": "stderr",
     "output_type": "stream",
     "text": [
      "2018-09-20 15:34:29,012:WARNING:\n",
      "Failed to read header row 6.\n",
      "2008 01 01 2016 07 08\n",
      "\n",
      "Error msg: IndexError('list index out of range',)\n"
     ]
    },
    {
     "name": "stderr",
     "output_type": "stream",
     "text": [
      "2018-09-20 15:34:29,018:WARNING:\n",
      "Failed to read header row 6.\n",
      "2008 01 01 2016 07 08\n",
      "\n",
      "Error msg: IndexError('list index out of range',)\n"
     ]
    },
    {
     "name": "stderr",
     "output_type": "stream",
     "text": [
      "2018-09-20 15:34:29,026:WARNING:\n",
      "Failed to read header row 6.\n",
      "2008 01 01 2016 07 08\n",
      "\n",
      "Error msg: IndexError('list index out of range',)\n"
     ]
    },
    {
     "name": "stderr",
     "output_type": "stream",
     "text": [
      "2018-09-20 15:34:29,033:WARNING:\n",
      "Failed to read header row 6.\n",
      "2008 01 01 2016 07 08\n",
      "\n",
      "Error msg: IndexError('list index out of range',)\n"
     ]
    },
    {
     "name": "stderr",
     "output_type": "stream",
     "text": [
      "2018-09-20 15:34:29,043:WARNING:\n",
      "Failed to read header row 6.\n",
      "2008 01 01 2016 07 08\n",
      "\n",
      "Error msg: IndexError('list index out of range',)\n"
     ]
    },
    {
     "name": "stderr",
     "output_type": "stream",
     "text": [
      "2018-09-20 15:34:29,051:WARNING:\n",
      "Failed to read header row 6.\n",
      "2008 01 01 2016 07 08\n",
      "\n",
      "Error msg: IndexError('list index out of range',)\n"
     ]
    },
    {
     "name": "stderr",
     "output_type": "stream",
     "text": [
      "2018-09-20 15:34:29,059:WARNING:\n",
      "Failed to read header row 6.\n",
      "2008 01 01 2016 07 08\n",
      "\n",
      "Error msg: IndexError('list index out of range',)\n"
     ]
    },
    {
     "name": "stderr",
     "output_type": "stream",
     "text": [
      "2018-09-20 15:34:29,068:WARNING:\n",
      "Failed to read header row 6.\n",
      "2008 01 01 2016 07 08\n",
      "\n",
      "Error msg: IndexError('list index out of range',)\n"
     ]
    },
    {
     "name": "stderr",
     "output_type": "stream",
     "text": [
      "2018-09-20 15:34:29,076:WARNING:\n",
      "Failed to read header row 6.\n",
      "2008 01 01 2016 07 08\n",
      "\n",
      "Error msg: IndexError('list index out of range',)\n"
     ]
    },
    {
     "name": "stderr",
     "output_type": "stream",
     "text": [
      "2018-09-20 15:34:29,084:WARNING:\n",
      "Failed to read header row 6.\n",
      "2008 01 01 2016 07 08\n",
      "\n",
      "Error msg: IndexError('list index out of range',)\n"
     ]
    },
    {
     "name": "stderr",
     "output_type": "stream",
     "text": [
      "2018-09-20 15:34:29,091:WARNING:\n",
      "Failed to read header row 6.\n",
      "2008 01 01 2016 07 08\n",
      "\n",
      "Error msg: IndexError('list index out of range',)\n"
     ]
    },
    {
     "name": "stderr",
     "output_type": "stream",
     "text": [
      "2018-09-20 15:34:29,098:WARNING:\n",
      "Failed to read header row 6.\n",
      "2008 01 01 2016 07 08\n",
      "\n",
      "Error msg: IndexError('list index out of range',)\n"
     ]
    },
    {
     "name": "stderr",
     "output_type": "stream",
     "text": [
      "2018-09-20 15:34:29,105:WARNING:\n",
      "Failed to read header row 6.\n",
      "2008 01 01 2016 07 08\n",
      "\n",
      "Error msg: IndexError('list index out of range',)\n"
     ]
    },
    {
     "name": "stderr",
     "output_type": "stream",
     "text": [
      "2018-09-20 15:34:29,113:WARNING:\n",
      "Failed to read header row 6.\n",
      "2008 01 01 2016 07 08\n",
      "\n",
      "Error msg: IndexError('list index out of range',)\n"
     ]
    },
    {
     "name": "stderr",
     "output_type": "stream",
     "text": [
      "2018-09-20 15:34:29,121:WARNING:\n",
      "Failed to read header row 6.\n",
      "2008 01 01 2016 07 08\n",
      "\n",
      "Error msg: IndexError('list index out of range',)\n"
     ]
    },
    {
     "name": "stderr",
     "output_type": "stream",
     "text": [
      "2018-09-20 15:34:29,128:WARNING:\n",
      "Failed to read header row 6.\n",
      "2008 01 01 2016 07 08\n",
      "\n",
      "Error msg: IndexError('list index out of range',)\n"
     ]
    },
    {
     "name": "stderr",
     "output_type": "stream",
     "text": [
      "2018-09-20 15:34:29,136:WARNING:\n",
      "Failed to read header row 6.\n",
      "2008 01 01 2016 07 08\n",
      "\n",
      "Error msg: IndexError('list index out of range',)\n"
     ]
    },
    {
     "name": "stderr",
     "output_type": "stream",
     "text": [
      "2018-09-20 15:34:29,144:WARNING:\n",
      "Failed to read header row 6.\n",
      "2008 01 01 2016 07 08\n",
      "\n",
      "Error msg: IndexError('list index out of range',)\n"
     ]
    },
    {
     "name": "stderr",
     "output_type": "stream",
     "text": [
      "2018-09-20 15:34:29,151:WARNING:\n",
      "Failed to read header row 6.\n",
      "2008 01 01 2016 07 08\n",
      "\n",
      "Error msg: IndexError('list index out of range',)\n"
     ]
    },
    {
     "name": "stderr",
     "output_type": "stream",
     "text": [
      "2018-09-20 15:34:29,158:WARNING:\n",
      "Failed to read header row 6.\n",
      "2008 01 01 2016 07 08\n",
      "\n",
      "Error msg: IndexError('list index out of range',)\n"
     ]
    },
    {
     "name": "stderr",
     "output_type": "stream",
     "text": [
      "2018-09-20 15:34:29,166:WARNING:\n",
      "Failed to read header row 6.\n",
      "2008 01 01 2016 07 08\n",
      "\n",
      "Error msg: IndexError('list index out of range',)\n"
     ]
    },
    {
     "name": "stderr",
     "output_type": "stream",
     "text": [
      "2018-09-20 15:34:29,174:WARNING:\n",
      "Failed to read header row 6.\n",
      "2008 01 01 2016 07 08\n",
      "\n",
      "Error msg: IndexError('list index out of range',)\n"
     ]
    },
    {
     "name": "stderr",
     "output_type": "stream",
     "text": [
      "2018-09-20 15:34:29,187:WARNING:\n",
      "Failed to read header row 6.\n",
      "2008 01 01 2016 07 08\n",
      "\n",
      "Error msg: IndexError('list index out of range',)\n"
     ]
    },
    {
     "name": "stderr",
     "output_type": "stream",
     "text": [
      "2018-09-20 15:34:29,194:WARNING:\n",
      "Failed to read header row 6.\n",
      "2008 01 01 2016 07 08\n",
      "\n",
      "Error msg: IndexError('list index out of range',)\n"
     ]
    },
    {
     "name": "stderr",
     "output_type": "stream",
     "text": [
      "2018-09-20 15:34:29,200:WARNING:\n",
      "Failed to read header row 6.\n",
      "2008 01 01 2016 07 08\n",
      "\n",
      "Error msg: IndexError('list index out of range',)\n"
     ]
    },
    {
     "name": "stderr",
     "output_type": "stream",
     "text": [
      "2018-09-20 15:34:29,206:WARNING:\n",
      "Failed to read header row 6.\n",
      "2008 01 01 2016 07 08\n",
      "\n",
      "Error msg: IndexError('list index out of range',)\n"
     ]
    },
    {
     "name": "stderr",
     "output_type": "stream",
     "text": [
      "2018-09-20 15:34:29,211:WARNING:\n",
      "Failed to read header row 6.\n",
      "2008 01 01 2016 07 08\n",
      "\n",
      "Error msg: IndexError('list index out of range',)\n"
     ]
    },
    {
     "name": "stderr",
     "output_type": "stream",
     "text": [
      "2018-09-20 15:34:29,217:WARNING:\n",
      "Failed to read header row 6.\n",
      "2008 01 01 2016 07 08\n",
      "\n",
      "Error msg: IndexError('list index out of range',)\n"
     ]
    },
    {
     "name": "stderr",
     "output_type": "stream",
     "text": [
      "2018-09-20 15:34:29,223:WARNING:\n",
      "Failed to read header row 6.\n",
      "2008 01 01 2016 07 08\n",
      "\n",
      "Error msg: IndexError('list index out of range',)\n"
     ]
    },
    {
     "name": "stderr",
     "output_type": "stream",
     "text": [
      "2018-09-20 15:34:29,228:WARNING:\n",
      "Failed to read header row 6.\n",
      "2008 01 01 2016 07 08\n",
      "\n",
      "Error msg: IndexError('list index out of range',)\n"
     ]
    },
    {
     "name": "stderr",
     "output_type": "stream",
     "text": [
      "2018-09-20 15:34:29,234:WARNING:\n",
      "Failed to read header row 6.\n",
      "2008 01 01 2016 07 08\n",
      "\n",
      "Error msg: IndexError('list index out of range',)\n"
     ]
    },
    {
     "name": "stderr",
     "output_type": "stream",
     "text": [
      "2018-09-20 15:34:29,239:WARNING:\n",
      "Failed to read header row 6.\n",
      "2008 01 01 2016 07 08\n",
      "\n",
      "Error msg: IndexError('list index out of range',)\n"
     ]
    },
    {
     "name": "stderr",
     "output_type": "stream",
     "text": [
      "2018-09-20 15:34:29,244:WARNING:\n",
      "Failed to read header row 6.\n",
      "2008 01 01 2016 07 08\n",
      "\n",
      "Error msg: IndexError('list index out of range',)\n"
     ]
    },
    {
     "name": "stderr",
     "output_type": "stream",
     "text": [
      "2018-09-20 15:34:29,249:WARNING:\n",
      "Failed to read header row 6.\n",
      "2008 01 01 2016 07 08\n",
      "\n",
      "Error msg: IndexError('list index out of range',)\n"
     ]
    },
    {
     "name": "stderr",
     "output_type": "stream",
     "text": [
      "2018-09-20 15:34:29,254:WARNING:\n",
      "Failed to read header row 6.\n",
      "2008 01 01 2016 07 08\n",
      "\n",
      "Error msg: IndexError('list index out of range',)\n"
     ]
    },
    {
     "name": "stderr",
     "output_type": "stream",
     "text": [
      "2018-09-20 15:34:29,264:WARNING:\n",
      "Failed to read header row 6.\n",
      "2008 01 01 2016 07 08\n",
      "\n",
      "Error msg: IndexError('list index out of range',)\n"
     ]
    },
    {
     "name": "stderr",
     "output_type": "stream",
     "text": [
      "2018-09-20 15:34:29,270:WARNING:\n",
      "Failed to read header row 6.\n",
      "2008 01 01 2016 07 08\n",
      "\n",
      "Error msg: IndexError('list index out of range',)\n"
     ]
    },
    {
     "name": "stderr",
     "output_type": "stream",
     "text": [
      "2018-09-20 15:34:29,276:WARNING:\n",
      "Failed to read header row 6.\n",
      "2008 01 01 2016 07 08\n",
      "\n",
      "Error msg: IndexError('list index out of range',)\n"
     ]
    },
    {
     "name": "stderr",
     "output_type": "stream",
     "text": [
      "2018-09-20 15:34:29,282:WARNING:\n",
      "Failed to read header row 6.\n",
      "2008 01 01 2016 07 08\n",
      "\n",
      "Error msg: IndexError('list index out of range',)\n"
     ]
    },
    {
     "name": "stderr",
     "output_type": "stream",
     "text": [
      "2018-09-20 15:34:29,287:WARNING:\n",
      "Failed to read header row 6.\n",
      "2008 01 01 2016 07 08\n",
      "\n",
      "Error msg: IndexError('list index out of range',)\n"
     ]
    },
    {
     "name": "stderr",
     "output_type": "stream",
     "text": [
      "2018-09-20 15:34:29,293:WARNING:\n",
      "Failed to read header row 6.\n",
      "2008 01 01 2016 07 08\n",
      "\n",
      "Error msg: IndexError('list index out of range',)\n"
     ]
    },
    {
     "name": "stderr",
     "output_type": "stream",
     "text": [
      "2018-09-20 15:34:29,298:WARNING:\n",
      "Failed to read header row 6.\n",
      "2008 01 01 2016 07 08\n",
      "\n",
      "Error msg: IndexError('list index out of range',)\n"
     ]
    },
    {
     "name": "stderr",
     "output_type": "stream",
     "text": [
      "2018-09-20 15:34:29,307:WARNING:\n",
      "Failed to read header row 6.\n",
      "2008 01 01 2016 07 08\n",
      "\n",
      "Error msg: IndexError('list index out of range',)\n"
     ]
    },
    {
     "name": "stderr",
     "output_type": "stream",
     "text": [
      "2018-09-20 15:34:29,315:WARNING:\n",
      "Failed to read header row 6.\n",
      "2008 01 01 2016 07 08\n",
      "\n",
      "Error msg: IndexError('list index out of range',)\n"
     ]
    },
    {
     "name": "stderr",
     "output_type": "stream",
     "text": [
      "2018-09-20 15:34:29,322:WARNING:\n",
      "Failed to read header row 6.\n",
      "2008 01 01 2016 07 08\n",
      "\n",
      "Error msg: IndexError('list index out of range',)\n"
     ]
    },
    {
     "name": "stderr",
     "output_type": "stream",
     "text": [
      "2018-09-20 15:34:29,329:WARNING:\n",
      "Failed to read header row 6.\n",
      "2008 01 01 2016 07 08\n",
      "\n",
      "Error msg: IndexError('list index out of range',)\n"
     ]
    },
    {
     "name": "stderr",
     "output_type": "stream",
     "text": [
      "2018-09-20 15:34:29,337:WARNING:\n",
      "Failed to read header row 6.\n",
      "2008 01 01 2016 07 08\n",
      "\n",
      "Error msg: IndexError('list index out of range',)\n"
     ]
    },
    {
     "name": "stderr",
     "output_type": "stream",
     "text": [
      "2018-09-20 15:34:29,344:WARNING:\n",
      "Failed to read header row 6.\n",
      "2008 01 01 2016 07 08\n",
      "\n",
      "Error msg: IndexError('list index out of range',)\n"
     ]
    },
    {
     "name": "stderr",
     "output_type": "stream",
     "text": [
      "2018-09-20 15:34:29,351:WARNING:\n",
      "Failed to read header row 6.\n",
      "2008 01 01 2016 07 08\n",
      "\n",
      "Error msg: IndexError('list index out of range',)\n"
     ]
    },
    {
     "name": "stderr",
     "output_type": "stream",
     "text": [
      "2018-09-20 15:34:29,358:WARNING:\n",
      "Failed to read header row 6.\n",
      "2008 01 01 2016 07 08\n",
      "\n",
      "Error msg: IndexError('list index out of range',)\n"
     ]
    },
    {
     "name": "stderr",
     "output_type": "stream",
     "text": [
      "2018-09-20 15:34:29,365:WARNING:\n",
      "Failed to read header row 6.\n",
      "2008 01 01 2016 07 08\n",
      "\n",
      "Error msg: IndexError('list index out of range',)\n"
     ]
    },
    {
     "name": "stderr",
     "output_type": "stream",
     "text": [
      "2018-09-20 15:34:29,575:WARNING:\n",
      "Failed to read header row 6.\n",
      "2008 01 01 2016 07 08\n",
      "\n",
      "Error msg: IndexError('list index out of range',)\n"
     ]
    },
    {
     "name": "stderr",
     "output_type": "stream",
     "text": [
      "2018-09-20 15:34:29,584:WARNING:\n",
      "Failed to read header row 6.\n",
      "2008 01 01 2016 07 08\n",
      "\n",
      "Error msg: IndexError('list index out of range',)\n"
     ]
    },
    {
     "name": "stderr",
     "output_type": "stream",
     "text": [
      "2018-09-20 15:34:29,596:WARNING:\n",
      "Failed to read header row 6.\n",
      "2008 01 01 2016 07 08\n",
      "\n",
      "Error msg: IndexError('list index out of range',)\n"
     ]
    },
    {
     "name": "stderr",
     "output_type": "stream",
     "text": [
      "2018-09-20 15:34:29,604:WARNING:\n",
      "Failed to read header row 6.\n",
      "2008 01 01 2016 07 08\n",
      "\n",
      "Error msg: IndexError('list index out of range',)\n"
     ]
    },
    {
     "name": "stderr",
     "output_type": "stream",
     "text": [
      "2018-09-20 15:34:29,611:WARNING:\n",
      "Failed to read header row 6.\n",
      "2008 01 01 2016 07 08\n",
      "\n",
      "Error msg: IndexError('list index out of range',)\n"
     ]
    },
    {
     "name": "stderr",
     "output_type": "stream",
     "text": [
      "2018-09-20 15:34:29,617:WARNING:\n",
      "Failed to read header row 6.\n",
      "2008 01 01 2016 07 08\n",
      "\n",
      "Error msg: IndexError('list index out of range',)\n"
     ]
    },
    {
     "name": "stderr",
     "output_type": "stream",
     "text": [
      "2018-09-20 15:34:29,622:WARNING:\n",
      "Failed to read header row 6.\n",
      "2008 01 01 2016 07 08\n",
      "\n",
      "Error msg: IndexError('list index out of range',)\n"
     ]
    },
    {
     "name": "stderr",
     "output_type": "stream",
     "text": [
      "2018-09-20 15:34:29,628:WARNING:\n",
      "Failed to read header row 6.\n",
      "2008 01 01 2016 07 08\n",
      "\n",
      "Error msg: IndexError('list index out of range',)\n"
     ]
    },
    {
     "name": "stderr",
     "output_type": "stream",
     "text": [
      "2018-09-20 15:34:29,635:WARNING:\n",
      "Failed to read header row 6.\n",
      "2008 01 01 2016 07 08\n",
      "\n",
      "Error msg: IndexError('list index out of range',)\n"
     ]
    },
    {
     "name": "stderr",
     "output_type": "stream",
     "text": [
      "2018-09-20 15:34:29,639:WARNING:\n",
      "Failed to read header row 6.\n",
      "2008 01 01 2016 07 08\n",
      "\n",
      "Error msg: IndexError('list index out of range',)\n"
     ]
    },
    {
     "name": "stderr",
     "output_type": "stream",
     "text": [
      "2018-09-20 15:34:29,644:WARNING:\n",
      "Failed to read header row 6.\n",
      "2008 01 01 2016 07 08\n",
      "\n",
      "Error msg: IndexError('list index out of range',)\n"
     ]
    },
    {
     "name": "stderr",
     "output_type": "stream",
     "text": [
      "2018-09-20 15:34:29,649:WARNING:\n",
      "Failed to read header row 6.\n",
      "2008 01 01 2016 07 08\n",
      "\n",
      "Error msg: IndexError('list index out of range',)\n"
     ]
    },
    {
     "name": "stderr",
     "output_type": "stream",
     "text": [
      "2018-09-20 15:34:29,653:WARNING:\n",
      "Failed to read header row 6.\n",
      "2008 01 01 2016 07 08\n",
      "\n",
      "Error msg: IndexError('list index out of range',)\n"
     ]
    },
    {
     "name": "stderr",
     "output_type": "stream",
     "text": [
      "2018-09-20 15:34:29,658:WARNING:\n",
      "Failed to read header row 6.\n",
      "2008 01 01 2016 07 08\n",
      "\n",
      "Error msg: IndexError('list index out of range',)\n"
     ]
    },
    {
     "name": "stderr",
     "output_type": "stream",
     "text": [
      "2018-09-20 15:34:29,663:WARNING:\n",
      "Failed to read header row 6.\n",
      "2008 01 01 2016 07 08\n",
      "\n",
      "Error msg: IndexError('list index out of range',)\n"
     ]
    },
    {
     "name": "stderr",
     "output_type": "stream",
     "text": [
      "2018-09-20 15:34:29,668:WARNING:\n",
      "Failed to read header row 6.\n",
      "2008 01 01 2016 07 08\n",
      "\n",
      "Error msg: IndexError('list index out of range',)\n"
     ]
    },
    {
     "name": "stderr",
     "output_type": "stream",
     "text": [
      "2018-09-20 15:34:29,674:WARNING:\n",
      "Failed to read header row 6.\n",
      "2008 01 01 2016 07 08\n",
      "\n",
      "Error msg: IndexError('list index out of range',)\n"
     ]
    },
    {
     "name": "stderr",
     "output_type": "stream",
     "text": [
      "2018-09-20 15:34:29,680:WARNING:\n",
      "Failed to read header row 6.\n",
      "2008 01 01 2016 07 08\n",
      "\n",
      "Error msg: IndexError('list index out of range',)\n"
     ]
    },
    {
     "name": "stderr",
     "output_type": "stream",
     "text": [
      "2018-09-20 15:34:29,684:WARNING:\n",
      "Failed to read header row 6.\n",
      "2008 01 01 2016 07 08\n",
      "\n",
      "Error msg: IndexError('list index out of range',)\n"
     ]
    },
    {
     "name": "stderr",
     "output_type": "stream",
     "text": [
      "2018-09-20 15:34:29,690:WARNING:\n",
      "Failed to read header row 6.\n",
      "2008 01 01 2016 07 08\n",
      "\n",
      "Error msg: IndexError('list index out of range',)\n"
     ]
    },
    {
     "name": "stderr",
     "output_type": "stream",
     "text": [
      "2018-09-20 15:34:29,695:WARNING:\n",
      "Failed to read header row 6.\n",
      "2008 01 01 2016 07 08\n",
      "\n",
      "Error msg: IndexError('list index out of range',)\n"
     ]
    },
    {
     "name": "stderr",
     "output_type": "stream",
     "text": [
      "2018-09-20 15:34:29,702:WARNING:\n",
      "Failed to read header row 6.\n",
      "2008 01 01 2016 07 08\n",
      "\n",
      "Error msg: IndexError('list index out of range',)\n"
     ]
    },
    {
     "name": "stderr",
     "output_type": "stream",
     "text": [
      "2018-09-20 15:34:29,709:WARNING:\n",
      "Failed to read header row 6.\n",
      "2008 01 01 2016 07 08\n",
      "\n",
      "Error msg: IndexError('list index out of range',)\n"
     ]
    },
    {
     "name": "stderr",
     "output_type": "stream",
     "text": [
      "2018-09-20 15:34:29,714:WARNING:\n",
      "Failed to read header row 6.\n",
      "2008 01 01 2016 07 08\n",
      "\n",
      "Error msg: IndexError('list index out of range',)\n"
     ]
    },
    {
     "name": "stderr",
     "output_type": "stream",
     "text": [
      "2018-09-20 15:34:29,720:WARNING:\n",
      "Failed to read header row 6.\n",
      "2008 01 01 2016 07 08\n",
      "\n",
      "Error msg: IndexError('list index out of range',)\n"
     ]
    },
    {
     "name": "stderr",
     "output_type": "stream",
     "text": [
      "2018-09-20 15:34:29,726:WARNING:\n",
      "Failed to read header row 6.\n",
      "2008 01 01 2016 07 08\n",
      "\n",
      "Error msg: IndexError('list index out of range',)\n"
     ]
    },
    {
     "name": "stderr",
     "output_type": "stream",
     "text": [
      "2018-09-20 15:34:29,732:WARNING:\n",
      "Failed to read header row 6.\n",
      "2008 01 01 2016 07 08\n",
      "\n",
      "Error msg: IndexError('list index out of range',)\n"
     ]
    },
    {
     "name": "stderr",
     "output_type": "stream",
     "text": [
      "2018-09-20 15:34:29,738:WARNING:\n",
      "Failed to read header row 6.\n",
      "2008 01 01 2016 07 08\n",
      "\n",
      "Error msg: IndexError('list index out of range',)\n"
     ]
    },
    {
     "name": "stderr",
     "output_type": "stream",
     "text": [
      "2018-09-20 15:34:29,746:WARNING:\n",
      "Failed to read header row 6.\n",
      "2008 01 01 2016 07 08\n",
      "\n",
      "Error msg: IndexError('list index out of range',)\n"
     ]
    },
    {
     "name": "stderr",
     "output_type": "stream",
     "text": [
      "2018-09-20 15:34:29,752:WARNING:\n",
      "Failed to read header row 6.\n",
      "2008 01 01 2016 07 08\n",
      "\n",
      "Error msg: IndexError('list index out of range',)\n"
     ]
    },
    {
     "name": "stderr",
     "output_type": "stream",
     "text": [
      "2018-09-20 15:34:29,760:WARNING:\n",
      "Failed to read header row 6.\n",
      "2008 01 01 2016 07 08\n",
      "\n",
      "Error msg: IndexError('list index out of range',)\n"
     ]
    },
    {
     "name": "stderr",
     "output_type": "stream",
     "text": [
      "2018-09-20 15:34:29,767:WARNING:\n",
      "Failed to read header row 6.\n",
      "2008 01 01 2016 07 08\n",
      "\n",
      "Error msg: IndexError('list index out of range',)\n"
     ]
    },
    {
     "name": "stderr",
     "output_type": "stream",
     "text": [
      "2018-09-20 15:34:29,774:WARNING:\n",
      "Failed to read header row 6.\n",
      "2008 01 01 2016 07 08\n",
      "\n",
      "Error msg: IndexError('list index out of range',)\n"
     ]
    },
    {
     "name": "stderr",
     "output_type": "stream",
     "text": [
      "2018-09-20 15:34:29,781:WARNING:\n",
      "Failed to read header row 6.\n",
      "2008 01 01 2016 07 08\n",
      "\n",
      "Error msg: IndexError('list index out of range',)\n"
     ]
    },
    {
     "name": "stderr",
     "output_type": "stream",
     "text": [
      "2018-09-20 15:34:29,788:WARNING:\n",
      "Failed to read header row 6.\n",
      "2008 01 01 2016 07 08\n",
      "\n",
      "Error msg: IndexError('list index out of range',)\n"
     ]
    },
    {
     "name": "stderr",
     "output_type": "stream",
     "text": [
      "2018-09-20 15:34:29,796:WARNING:\n",
      "Failed to read header row 6.\n",
      "2008 01 01 2016 07 08\n",
      "\n",
      "Error msg: IndexError('list index out of range',)\n"
     ]
    },
    {
     "name": "stderr",
     "output_type": "stream",
     "text": [
      "2018-09-20 15:34:29,802:WARNING:\n",
      "Failed to read header row 6.\n",
      "2008 01 01 2016 07 08\n",
      "\n",
      "Error msg: IndexError('list index out of range',)\n"
     ]
    },
    {
     "name": "stderr",
     "output_type": "stream",
     "text": [
      "2018-09-20 15:34:29,809:WARNING:\n",
      "Failed to read header row 6.\n",
      "2008 01 01 2016 07 08\n",
      "\n",
      "Error msg: IndexError('list index out of range',)\n"
     ]
    },
    {
     "name": "stderr",
     "output_type": "stream",
     "text": [
      "2018-09-20 15:34:29,817:WARNING:\n",
      "Failed to read header row 6.\n",
      "2008 01 01 2016 07 08\n",
      "\n",
      "Error msg: IndexError('list index out of range',)\n"
     ]
    },
    {
     "name": "stderr",
     "output_type": "stream",
     "text": [
      "2018-09-20 15:34:29,824:WARNING:\n",
      "Failed to read header row 6.\n",
      "2008 01 01 2016 07 08\n",
      "\n",
      "Error msg: IndexError('list index out of range',)\n"
     ]
    },
    {
     "name": "stderr",
     "output_type": "stream",
     "text": [
      "2018-09-20 15:34:29,832:WARNING:\n",
      "Failed to read header row 6.\n",
      "2008 01 01 2016 07 08\n",
      "\n",
      "Error msg: IndexError('list index out of range',)\n"
     ]
    },
    {
     "name": "stderr",
     "output_type": "stream",
     "text": [
      "2018-09-20 15:34:29,840:WARNING:\n",
      "Failed to read header row 6.\n",
      "2008 01 01 2016 07 08\n",
      "\n",
      "Error msg: IndexError('list index out of range',)\n"
     ]
    },
    {
     "name": "stderr",
     "output_type": "stream",
     "text": [
      "2018-09-20 15:34:29,847:WARNING:\n",
      "Failed to read header row 6.\n",
      "2008 01 01 2016 07 08\n",
      "\n",
      "Error msg: IndexError('list index out of range',)\n"
     ]
    },
    {
     "name": "stderr",
     "output_type": "stream",
     "text": [
      "2018-09-20 15:34:29,852:WARNING:\n",
      "Failed to read header row 6.\n",
      "2008 01 01 2016 07 08\n",
      "\n",
      "Error msg: IndexError('list index out of range',)\n"
     ]
    },
    {
     "name": "stderr",
     "output_type": "stream",
     "text": [
      "2018-09-20 15:34:29,857:WARNING:\n",
      "Failed to read header row 6.\n",
      "2008 01 01 2016 07 08\n",
      "\n",
      "Error msg: IndexError('list index out of range',)\n"
     ]
    },
    {
     "name": "stderr",
     "output_type": "stream",
     "text": [
      "2018-09-20 15:34:29,862:WARNING:\n",
      "Failed to read header row 6.\n",
      "2008 01 01 2016 07 08\n",
      "\n",
      "Error msg: IndexError('list index out of range',)\n"
     ]
    },
    {
     "name": "stderr",
     "output_type": "stream",
     "text": [
      "2018-09-20 15:34:29,867:WARNING:\n",
      "Failed to read header row 6.\n",
      "2008 01 01 2016 07 08\n",
      "\n",
      "Error msg: IndexError('list index out of range',)\n"
     ]
    },
    {
     "name": "stderr",
     "output_type": "stream",
     "text": [
      "2018-09-20 15:34:29,873:WARNING:\n",
      "Failed to read header row 6.\n",
      "2008 01 01 2016 07 08\n",
      "\n",
      "Error msg: IndexError('list index out of range',)\n"
     ]
    },
    {
     "name": "stderr",
     "output_type": "stream",
     "text": [
      "2018-09-20 15:34:29,878:WARNING:\n",
      "Failed to read header row 6.\n",
      "2008 01 01 2016 07 08\n",
      "\n",
      "Error msg: IndexError('list index out of range',)\n"
     ]
    },
    {
     "name": "stderr",
     "output_type": "stream",
     "text": [
      "2018-09-20 15:34:29,884:WARNING:\n",
      "Failed to read header row 6.\n",
      "2008 01 01 2016 07 08\n",
      "\n",
      "Error msg: IndexError('list index out of range',)\n"
     ]
    },
    {
     "name": "stderr",
     "output_type": "stream",
     "text": [
      "2018-09-20 15:34:29,902:WARNING:\n",
      "Failed to read header row 6.\n",
      "2008 01 01 2016 07 08\n",
      "\n",
      "Error msg: IndexError('list index out of range',)\n"
     ]
    },
    {
     "name": "stderr",
     "output_type": "stream",
     "text": [
      "2018-09-20 15:34:29,908:WARNING:\n",
      "Failed to read header row 6.\n",
      "2008 01 01 2016 07 08\n",
      "\n",
      "Error msg: IndexError('list index out of range',)\n"
     ]
    },
    {
     "name": "stderr",
     "output_type": "stream",
     "text": [
      "2018-09-20 15:34:29,914:WARNING:\n",
      "Failed to read header row 6.\n",
      "2008 01 01 2016 07 08\n",
      "\n",
      "Error msg: IndexError('list index out of range',)\n"
     ]
    },
    {
     "name": "stderr",
     "output_type": "stream",
     "text": [
      "2018-09-20 15:34:29,919:WARNING:\n",
      "Failed to read header row 6.\n",
      "2008 01 01 2016 07 08\n",
      "\n",
      "Error msg: IndexError('list index out of range',)\n"
     ]
    },
    {
     "name": "stderr",
     "output_type": "stream",
     "text": [
      "2018-09-20 15:34:29,924:WARNING:\n",
      "Failed to read header row 6.\n",
      "2008 01 01 2016 07 08\n",
      "\n",
      "Error msg: IndexError('list index out of range',)\n"
     ]
    },
    {
     "name": "stderr",
     "output_type": "stream",
     "text": [
      "2018-09-20 15:34:29,931:WARNING:\n",
      "Failed to read header row 6.\n",
      "2008 01 01 2016 07 08\n",
      "\n",
      "Error msg: IndexError('list index out of range',)\n"
     ]
    },
    {
     "name": "stderr",
     "output_type": "stream",
     "text": [
      "2018-09-20 15:34:29,939:WARNING:\n",
      "Failed to read header row 6.\n",
      "2008 01 01 2016 07 08\n",
      "\n",
      "Error msg: IndexError('list index out of range',)\n"
     ]
    },
    {
     "name": "stderr",
     "output_type": "stream",
     "text": [
      "2018-09-20 15:34:29,946:WARNING:\n",
      "Failed to read header row 6.\n",
      "2008 01 01 2016 07 08\n",
      "\n",
      "Error msg: IndexError('list index out of range',)\n"
     ]
    },
    {
     "name": "stderr",
     "output_type": "stream",
     "text": [
      "2018-09-20 15:34:29,955:WARNING:\n",
      "Failed to read header row 6.\n",
      "2008 01 01 2016 07 08\n",
      "\n",
      "Error msg: IndexError('list index out of range',)\n"
     ]
    },
    {
     "name": "stderr",
     "output_type": "stream",
     "text": [
      "2018-09-20 15:34:29,962:WARNING:\n",
      "Failed to read header row 6.\n",
      "2008 01 01 2016 07 08\n",
      "\n",
      "Error msg: IndexError('list index out of range',)\n"
     ]
    },
    {
     "name": "stderr",
     "output_type": "stream",
     "text": [
      "2018-09-20 15:34:29,969:WARNING:\n",
      "Failed to read header row 6.\n",
      "2008 01 01 2016 07 08\n",
      "\n",
      "Error msg: IndexError('list index out of range',)\n"
     ]
    },
    {
     "name": "stderr",
     "output_type": "stream",
     "text": [
      "2018-09-20 15:34:29,976:WARNING:\n",
      "Failed to read header row 6.\n",
      "2008 01 01 2016 07 08\n",
      "\n",
      "Error msg: IndexError('list index out of range',)\n"
     ]
    },
    {
     "name": "stderr",
     "output_type": "stream",
     "text": [
      "2018-09-20 15:34:29,982:WARNING:\n",
      "Failed to read header row 6.\n",
      "2008 01 01 2016 07 08\n",
      "\n",
      "Error msg: IndexError('list index out of range',)\n"
     ]
    },
    {
     "name": "stderr",
     "output_type": "stream",
     "text": [
      "2018-09-20 15:34:29,988:WARNING:\n",
      "Failed to read header row 6.\n",
      "2008 01 01 2016 07 08\n",
      "\n",
      "Error msg: IndexError('list index out of range',)\n"
     ]
    },
    {
     "name": "stderr",
     "output_type": "stream",
     "text": [
      "2018-09-20 15:34:29,993:WARNING:\n",
      "Failed to read header row 6.\n",
      "2008 01 01 2016 07 08\n",
      "\n",
      "Error msg: IndexError('list index out of range',)\n"
     ]
    },
    {
     "name": "stderr",
     "output_type": "stream",
     "text": [
      "2018-09-20 15:34:29,998:WARNING:\n",
      "Failed to read header row 6.\n",
      "2008 01 01 2016 07 08\n",
      "\n",
      "Error msg: IndexError('list index out of range',)\n"
     ]
    },
    {
     "name": "stderr",
     "output_type": "stream",
     "text": [
      "2018-09-20 15:34:30,003:WARNING:\n",
      "Failed to read header row 6.\n",
      "2008 01 01 2016 07 08\n",
      "\n",
      "Error msg: IndexError('list index out of range',)\n"
     ]
    },
    {
     "name": "stderr",
     "output_type": "stream",
     "text": [
      "2018-09-20 15:34:30,009:WARNING:\n",
      "Failed to read header row 6.\n",
      "2008 01 01 2016 07 08\n",
      "\n",
      "Error msg: IndexError('list index out of range',)\n"
     ]
    },
    {
     "name": "stderr",
     "output_type": "stream",
     "text": [
      "2018-09-20 15:34:30,016:WARNING:\n",
      "Failed to read header row 6.\n",
      "2008 01 01 2016 07 08\n",
      "\n",
      "Error msg: IndexError('list index out of range',)\n"
     ]
    },
    {
     "name": "stderr",
     "output_type": "stream",
     "text": [
      "2018-09-20 15:34:30,022:WARNING:\n",
      "Failed to read header row 6.\n",
      "2008 01 01 2016 07 08\n",
      "\n",
      "Error msg: IndexError('list index out of range',)\n"
     ]
    },
    {
     "name": "stderr",
     "output_type": "stream",
     "text": [
      "2018-09-20 15:34:30,030:WARNING:\n",
      "Failed to read header row 6.\n",
      "2008 01 01 2016 07 08\n",
      "\n",
      "Error msg: IndexError('list index out of range',)\n"
     ]
    },
    {
     "name": "stderr",
     "output_type": "stream",
     "text": [
      "2018-09-20 15:34:30,038:WARNING:\n",
      "Failed to read header row 6.\n",
      "2008 01 01 2016 07 08\n",
      "\n",
      "Error msg: IndexError('list index out of range',)\n"
     ]
    },
    {
     "name": "stderr",
     "output_type": "stream",
     "text": [
      "2018-09-20 15:34:30,046:WARNING:\n",
      "Failed to read header row 6.\n",
      "2008 01 01 2016 07 08\n",
      "\n",
      "Error msg: IndexError('list index out of range',)\n"
     ]
    },
    {
     "name": "stderr",
     "output_type": "stream",
     "text": [
      "2018-09-20 15:34:30,053:WARNING:\n",
      "Failed to read header row 6.\n",
      "2008 01 01 2016 07 08\n",
      "\n",
      "Error msg: IndexError('list index out of range',)\n"
     ]
    },
    {
     "name": "stderr",
     "output_type": "stream",
     "text": [
      "2018-09-20 15:34:30,061:WARNING:\n",
      "Failed to read header row 6.\n",
      "2008 01 01 2016 07 08\n",
      "\n",
      "Error msg: IndexError('list index out of range',)\n"
     ]
    },
    {
     "name": "stderr",
     "output_type": "stream",
     "text": [
      "2018-09-20 15:34:30,070:WARNING:\n",
      "Failed to read header row 6.\n",
      "2008 01 01 2016 07 08\n",
      "\n",
      "Error msg: IndexError('list index out of range',)\n"
     ]
    },
    {
     "name": "stderr",
     "output_type": "stream",
     "text": [
      "2018-09-20 15:34:30,077:WARNING:\n",
      "Failed to read header row 6.\n",
      "2008 01 01 2016 07 08\n",
      "\n",
      "Error msg: IndexError('list index out of range',)\n"
     ]
    },
    {
     "name": "stderr",
     "output_type": "stream",
     "text": [
      "2018-09-20 15:34:30,083:WARNING:\n",
      "Failed to read header row 6.\n",
      "2008 01 01 2016 07 08\n",
      "\n",
      "Error msg: IndexError('list index out of range',)\n"
     ]
    },
    {
     "name": "stderr",
     "output_type": "stream",
     "text": [
      "2018-09-20 15:34:30,094:WARNING:\n",
      "Failed to read header row 6.\n",
      "2008 01 01 2016 07 08\n",
      "\n",
      "Error msg: IndexError('list index out of range',)\n"
     ]
    },
    {
     "name": "stderr",
     "output_type": "stream",
     "text": [
      "2018-09-20 15:34:30,101:WARNING:\n",
      "Failed to read header row 6.\n",
      "2008 01 01 2016 07 08\n",
      "\n",
      "Error msg: IndexError('list index out of range',)\n"
     ]
    },
    {
     "name": "stderr",
     "output_type": "stream",
     "text": [
      "2018-09-20 15:34:30,107:WARNING:\n",
      "Failed to read header row 6.\n",
      "2008 01 01 2016 07 08\n",
      "\n",
      "Error msg: IndexError('list index out of range',)\n"
     ]
    },
    {
     "name": "stderr",
     "output_type": "stream",
     "text": [
      "2018-09-20 15:34:30,113:WARNING:\n",
      "Failed to read header row 6.\n",
      "2008 01 01 2016 07 08\n",
      "\n",
      "Error msg: IndexError('list index out of range',)\n"
     ]
    },
    {
     "name": "stderr",
     "output_type": "stream",
     "text": [
      "2018-09-20 15:34:30,121:WARNING:\n",
      "Failed to read header row 6.\n",
      "2008 01 01 2016 07 08\n",
      "\n",
      "Error msg: IndexError('list index out of range',)\n"
     ]
    },
    {
     "name": "stderr",
     "output_type": "stream",
     "text": [
      "2018-09-20 15:34:30,129:WARNING:\n",
      "Failed to read header row 6.\n",
      "2008 01 01 2016 07 08\n",
      "\n",
      "Error msg: IndexError('list index out of range',)\n"
     ]
    },
    {
     "name": "stderr",
     "output_type": "stream",
     "text": [
      "2018-09-20 15:34:30,139:WARNING:\n",
      "Failed to read header row 6.\n",
      "2008 01 01 2016 07 08\n",
      "\n",
      "Error msg: IndexError('list index out of range',)\n"
     ]
    },
    {
     "name": "stderr",
     "output_type": "stream",
     "text": [
      "2018-09-20 15:34:30,146:WARNING:\n",
      "Failed to read header row 6.\n",
      "2008 01 01 2016 07 08\n",
      "\n",
      "Error msg: IndexError('list index out of range',)\n"
     ]
    },
    {
     "name": "stderr",
     "output_type": "stream",
     "text": [
      "2018-09-20 15:34:30,151:WARNING:\n",
      "Failed to read header row 6.\n",
      "2008 01 01 2016 07 08\n",
      "\n",
      "Error msg: IndexError('list index out of range',)\n"
     ]
    },
    {
     "name": "stderr",
     "output_type": "stream",
     "text": [
      "2018-09-20 15:34:30,157:WARNING:\n",
      "Failed to read header row 6.\n",
      "2008 01 01 2016 07 08\n",
      "\n",
      "Error msg: IndexError('list index out of range',)\n"
     ]
    },
    {
     "name": "stderr",
     "output_type": "stream",
     "text": [
      "2018-09-20 15:34:30,162:WARNING:\n",
      "Failed to read header row 6.\n",
      "2008 01 01 2016 07 08\n",
      "\n",
      "Error msg: IndexError('list index out of range',)\n"
     ]
    },
    {
     "name": "stderr",
     "output_type": "stream",
     "text": [
      "2018-09-20 15:34:30,169:WARNING:\n",
      "Failed to read header row 6.\n",
      "2008 01 01 2016 07 08\n",
      "\n",
      "Error msg: IndexError('list index out of range',)\n"
     ]
    },
    {
     "name": "stderr",
     "output_type": "stream",
     "text": [
      "2018-09-20 15:34:30,175:WARNING:\n",
      "Failed to read header row 6.\n",
      "2008 01 01 2016 07 08\n",
      "\n",
      "Error msg: IndexError('list index out of range',)\n"
     ]
    },
    {
     "name": "stderr",
     "output_type": "stream",
     "text": [
      "2018-09-20 15:34:30,182:WARNING:\n",
      "Failed to read header row 6.\n",
      "2008 01 01 2016 07 08\n",
      "\n",
      "Error msg: IndexError('list index out of range',)\n"
     ]
    },
    {
     "name": "stderr",
     "output_type": "stream",
     "text": [
      "2018-09-20 15:34:30,195:WARNING:\n",
      "Failed to read header row 6.\n",
      "2008 01 01 2016 07 08\n",
      "\n",
      "Error msg: IndexError('list index out of range',)\n"
     ]
    },
    {
     "name": "stderr",
     "output_type": "stream",
     "text": [
      "2018-09-20 15:34:30,201:WARNING:\n",
      "Failed to read header row 6.\n",
      "2008 01 01 2016 07 08\n",
      "\n",
      "Error msg: IndexError('list index out of range',)\n"
     ]
    },
    {
     "name": "stderr",
     "output_type": "stream",
     "text": [
      "2018-09-20 15:34:30,206:WARNING:\n",
      "Failed to read header row 6.\n",
      "2008 01 01 2016 07 08\n",
      "\n",
      "Error msg: IndexError('list index out of range',)\n"
     ]
    },
    {
     "name": "stderr",
     "output_type": "stream",
     "text": [
      "2018-09-20 15:34:30,211:WARNING:\n",
      "Failed to read header row 6.\n",
      "2008 01 01 2016 07 08\n",
      "\n",
      "Error msg: IndexError('list index out of range',)\n"
     ]
    },
    {
     "name": "stderr",
     "output_type": "stream",
     "text": [
      "2018-09-20 15:34:30,217:WARNING:\n",
      "Failed to read header row 6.\n",
      "2008 01 01 2016 07 08\n",
      "\n",
      "Error msg: IndexError('list index out of range',)\n"
     ]
    },
    {
     "name": "stderr",
     "output_type": "stream",
     "text": [
      "2018-09-20 15:34:30,222:WARNING:\n",
      "Failed to read header row 6.\n",
      "2008 01 01 2016 07 08\n",
      "\n",
      "Error msg: IndexError('list index out of range',)\n"
     ]
    },
    {
     "name": "stderr",
     "output_type": "stream",
     "text": [
      "2018-09-20 15:34:30,228:WARNING:\n",
      "Failed to read header row 6.\n",
      "2008 01 01 2016 07 08\n",
      "\n",
      "Error msg: IndexError('list index out of range',)\n"
     ]
    },
    {
     "name": "stderr",
     "output_type": "stream",
     "text": [
      "2018-09-20 15:34:30,235:WARNING:\n",
      "Failed to read header row 6.\n",
      "2008 01 01 2016 07 08\n",
      "\n",
      "Error msg: IndexError('list index out of range',)\n"
     ]
    },
    {
     "name": "stderr",
     "output_type": "stream",
     "text": [
      "2018-09-20 15:34:30,243:WARNING:\n",
      "Failed to read header row 6.\n",
      "2008 01 01 2016 07 08\n",
      "\n",
      "Error msg: IndexError('list index out of range',)\n"
     ]
    },
    {
     "name": "stderr",
     "output_type": "stream",
     "text": [
      "2018-09-20 15:34:30,251:WARNING:\n",
      "Failed to read header row 6.\n",
      "2008 01 01 2016 07 08\n",
      "\n",
      "Error msg: IndexError('list index out of range',)\n"
     ]
    },
    {
     "name": "stderr",
     "output_type": "stream",
     "text": [
      "2018-09-20 15:34:30,259:WARNING:\n",
      "Failed to read header row 6.\n",
      "2008 01 01 2016 07 08\n",
      "\n",
      "Error msg: IndexError('list index out of range',)\n"
     ]
    },
    {
     "name": "stderr",
     "output_type": "stream",
     "text": [
      "2018-09-20 15:34:30,267:WARNING:\n",
      "Failed to read header row 6.\n",
      "2008 01 01 2016 07 08\n",
      "\n",
      "Error msg: IndexError('list index out of range',)\n"
     ]
    },
    {
     "name": "stderr",
     "output_type": "stream",
     "text": [
      "2018-09-20 15:34:30,274:WARNING:\n",
      "Failed to read header row 6.\n",
      "2008 01 01 2016 07 08\n",
      "\n",
      "Error msg: IndexError('list index out of range',)\n"
     ]
    },
    {
     "name": "stderr",
     "output_type": "stream",
     "text": [
      "2018-09-20 15:34:30,280:WARNING:\n",
      "Failed to read header row 6.\n",
      "2008 01 01 2016 07 08\n",
      "\n",
      "Error msg: IndexError('list index out of range',)\n"
     ]
    },
    {
     "name": "stderr",
     "output_type": "stream",
     "text": [
      "2018-09-20 15:34:30,285:WARNING:\n",
      "Failed to read header row 6.\n",
      "2008 01 01 2016 07 08\n",
      "\n",
      "Error msg: IndexError('list index out of range',)\n"
     ]
    },
    {
     "name": "stderr",
     "output_type": "stream",
     "text": [
      "2018-09-20 15:34:30,292:WARNING:\n",
      "Failed to read header row 6.\n",
      "2008 01 01 2016 07 08\n",
      "\n",
      "Error msg: IndexError('list index out of range',)\n"
     ]
    },
    {
     "name": "stderr",
     "output_type": "stream",
     "text": [
      "2018-09-20 15:34:30,298:WARNING:\n",
      "Failed to read header row 6.\n",
      "2008 01 01 2016 07 08\n",
      "\n",
      "Error msg: IndexError('list index out of range',)\n"
     ]
    },
    {
     "name": "stderr",
     "output_type": "stream",
     "text": [
      "2018-09-20 15:34:30,304:WARNING:\n",
      "Failed to read header row 6.\n",
      "2008 01 01 2016 07 08\n",
      "\n",
      "Error msg: IndexError('list index out of range',)\n"
     ]
    },
    {
     "name": "stderr",
     "output_type": "stream",
     "text": [
      "2018-09-20 15:34:30,309:WARNING:\n",
      "Failed to read header row 6.\n",
      "2008 01 01 2016 07 08\n",
      "\n",
      "Error msg: IndexError('list index out of range',)\n"
     ]
    },
    {
     "name": "stderr",
     "output_type": "stream",
     "text": [
      "2018-09-20 15:34:30,315:WARNING:\n",
      "Failed to read header row 6.\n",
      "2008 01 01 2016 07 08\n",
      "\n",
      "Error msg: IndexError('list index out of range',)\n"
     ]
    },
    {
     "name": "stderr",
     "output_type": "stream",
     "text": [
      "2018-09-20 15:34:30,322:WARNING:\n",
      "Failed to read header row 6.\n",
      "2008 01 01 2016 07 08\n",
      "\n",
      "Error msg: IndexError('list index out of range',)\n"
     ]
    },
    {
     "name": "stderr",
     "output_type": "stream",
     "text": [
      "2018-09-20 15:34:30,330:WARNING:\n",
      "Failed to read header row 6.\n",
      "2008 01 01 2016 07 08\n",
      "\n",
      "Error msg: IndexError('list index out of range',)\n"
     ]
    },
    {
     "name": "stderr",
     "output_type": "stream",
     "text": [
      "2018-09-20 15:34:30,338:WARNING:\n",
      "Failed to read header row 6.\n",
      "2008 01 01 2016 07 08\n",
      "\n",
      "Error msg: IndexError('list index out of range',)\n"
     ]
    },
    {
     "name": "stderr",
     "output_type": "stream",
     "text": [
      "2018-09-20 15:34:30,345:WARNING:\n",
      "Failed to read header row 6.\n",
      "2008 01 01 2016 07 08\n",
      "\n",
      "Error msg: IndexError('list index out of range',)\n"
     ]
    },
    {
     "name": "stderr",
     "output_type": "stream",
     "text": [
      "2018-09-20 15:34:30,351:WARNING:\n",
      "Failed to read header row 6.\n",
      "2008 01 01 2016 07 08\n",
      "\n",
      "Error msg: IndexError('list index out of range',)\n"
     ]
    },
    {
     "name": "stderr",
     "output_type": "stream",
     "text": [
      "2018-09-20 15:34:30,357:WARNING:\n",
      "Failed to read header row 6.\n",
      "2008 01 01 2016 07 08\n",
      "\n",
      "Error msg: IndexError('list index out of range',)\n"
     ]
    },
    {
     "name": "stderr",
     "output_type": "stream",
     "text": [
      "2018-09-20 15:34:30,361:WARNING:\n",
      "Failed to read header row 6.\n",
      "2008 01 01 2016 07 08\n",
      "\n",
      "Error msg: IndexError('list index out of range',)\n"
     ]
    },
    {
     "name": "stderr",
     "output_type": "stream",
     "text": [
      "2018-09-20 15:34:30,369:WARNING:\n",
      "Failed to read header row 6.\n",
      "2008 01 01 2016 07 08\n",
      "\n",
      "Error msg: IndexError('list index out of range',)\n"
     ]
    },
    {
     "name": "stderr",
     "output_type": "stream",
     "text": [
      "2018-09-20 15:34:30,376:WARNING:\n",
      "Failed to read header row 6.\n",
      "2008 01 01 2016 07 08\n",
      "\n",
      "Error msg: IndexError('list index out of range',)\n"
     ]
    },
    {
     "name": "stderr",
     "output_type": "stream",
     "text": [
      "2018-09-20 15:34:30,382:WARNING:\n",
      "Failed to read header row 6.\n",
      "2008 01 01 2016 07 08\n",
      "\n",
      "Error msg: IndexError('list index out of range',)\n"
     ]
    },
    {
     "name": "stderr",
     "output_type": "stream",
     "text": [
      "2018-09-20 15:34:30,388:WARNING:\n",
      "Failed to read header row 6.\n",
      "2008 01 01 2016 07 08\n",
      "\n",
      "Error msg: IndexError('list index out of range',)\n"
     ]
    },
    {
     "name": "stderr",
     "output_type": "stream",
     "text": [
      "2018-09-20 15:34:30,395:WARNING:\n",
      "Failed to read header row 6.\n",
      "2008 01 01 2016 07 08\n",
      "\n",
      "Error msg: IndexError('list index out of range',)\n"
     ]
    },
    {
     "name": "stderr",
     "output_type": "stream",
     "text": [
      "2018-09-20 15:34:30,403:WARNING:\n",
      "Failed to read header row 6.\n",
      "2008 01 01 2016 07 08\n",
      "\n",
      "Error msg: IndexError('list index out of range',)\n"
     ]
    },
    {
     "name": "stderr",
     "output_type": "stream",
     "text": [
      "2018-09-20 15:34:30,411:WARNING:\n",
      "Failed to read header row 6.\n",
      "2008 01 01 2016 07 08\n",
      "\n",
      "Error msg: IndexError('list index out of range',)\n"
     ]
    },
    {
     "name": "stderr",
     "output_type": "stream",
     "text": [
      "2018-09-20 15:34:30,418:WARNING:\n",
      "Failed to read header row 6.\n",
      "2008 01 01 2016 07 08\n",
      "\n",
      "Error msg: IndexError('list index out of range',)\n"
     ]
    },
    {
     "name": "stderr",
     "output_type": "stream",
     "text": [
      "2018-09-20 15:34:30,426:WARNING:\n",
      "Failed to read header row 6.\n",
      "2008 01 01 2016 07 08\n",
      "\n",
      "Error msg: IndexError('list index out of range',)\n"
     ]
    },
    {
     "name": "stderr",
     "output_type": "stream",
     "text": [
      "2018-09-20 15:34:30,434:WARNING:\n",
      "Failed to read header row 6.\n",
      "2008 01 01 2016 07 08\n",
      "\n",
      "Error msg: IndexError('list index out of range',)\n"
     ]
    },
    {
     "name": "stderr",
     "output_type": "stream",
     "text": [
      "2018-09-20 15:34:30,442:WARNING:\n",
      "Failed to read header row 6.\n",
      "2008 01 01 2016 07 08\n",
      "\n",
      "Error msg: IndexError('list index out of range',)\n"
     ]
    },
    {
     "name": "stderr",
     "output_type": "stream",
     "text": [
      "2018-09-20 15:34:30,449:WARNING:\n",
      "Failed to read header row 6.\n",
      "2008 01 01 2016 07 08\n",
      "\n",
      "Error msg: IndexError('list index out of range',)\n"
     ]
    },
    {
     "name": "stderr",
     "output_type": "stream",
     "text": [
      "2018-09-20 15:34:30,454:WARNING:\n",
      "Failed to read header row 6.\n",
      "2008 01 01 2016 07 08\n",
      "\n",
      "Error msg: IndexError('list index out of range',)\n"
     ]
    },
    {
     "name": "stderr",
     "output_type": "stream",
     "text": [
      "2018-09-20 15:34:30,461:WARNING:\n",
      "Failed to read header row 6.\n",
      "2008 01 01 2016 07 08\n",
      "\n",
      "Error msg: IndexError('list index out of range',)\n"
     ]
    },
    {
     "name": "stderr",
     "output_type": "stream",
     "text": [
      "2018-09-20 15:34:30,467:WARNING:\n",
      "Failed to read header row 6.\n",
      "2008 01 01 2016 07 08\n",
      "\n",
      "Error msg: IndexError('list index out of range',)\n"
     ]
    },
    {
     "name": "stderr",
     "output_type": "stream",
     "text": [
      "2018-09-20 15:34:30,472:WARNING:\n",
      "Failed to read header row 6.\n",
      "2008 01 01 2016 07 08\n",
      "\n",
      "Error msg: IndexError('list index out of range',)\n"
     ]
    },
    {
     "name": "stderr",
     "output_type": "stream",
     "text": [
      "2018-09-20 15:34:30,479:WARNING:\n",
      "Failed to read header row 6.\n",
      "2008 01 01 2016 07 08\n",
      "\n",
      "Error msg: IndexError('list index out of range',)\n"
     ]
    },
    {
     "name": "stderr",
     "output_type": "stream",
     "text": [
      "2018-09-20 15:34:30,485:WARNING:\n",
      "Failed to read header row 6.\n",
      "2008 01 01 2016 07 08\n",
      "\n",
      "Error msg: IndexError('list index out of range',)\n"
     ]
    },
    {
     "name": "stderr",
     "output_type": "stream",
     "text": [
      "2018-09-20 15:34:30,490:WARNING:\n",
      "Failed to read header row 6.\n",
      "2008 01 01 2016 07 08\n",
      "\n",
      "Error msg: IndexError('list index out of range',)\n"
     ]
    },
    {
     "name": "stderr",
     "output_type": "stream",
     "text": [
      "2018-09-20 15:34:30,495:WARNING:\n",
      "Failed to read header row 6.\n",
      "2008 01 01 2016 07 08\n",
      "\n",
      "Error msg: IndexError('list index out of range',)\n"
     ]
    },
    {
     "name": "stderr",
     "output_type": "stream",
     "text": [
      "2018-09-20 15:34:30,501:WARNING:\n",
      "Failed to read header row 6.\n",
      "2008 01 01 2016 07 08\n",
      "\n",
      "Error msg: IndexError('list index out of range',)\n"
     ]
    },
    {
     "name": "stderr",
     "output_type": "stream",
     "text": [
      "2018-09-20 15:34:30,507:WARNING:\n",
      "Failed to read header row 6.\n",
      "2008 01 01 2016 07 08\n",
      "\n",
      "Error msg: IndexError('list index out of range',)\n"
     ]
    },
    {
     "name": "stderr",
     "output_type": "stream",
     "text": [
      "2018-09-20 15:34:30,512:WARNING:\n",
      "Failed to read header row 6.\n",
      "2008 01 01 2016 07 08\n",
      "\n",
      "Error msg: IndexError('list index out of range',)\n"
     ]
    },
    {
     "name": "stderr",
     "output_type": "stream",
     "text": [
      "2018-09-20 15:34:30,517:WARNING:\n",
      "Failed to read header row 6.\n",
      "2008 01 01 2016 07 08\n",
      "\n",
      "Error msg: IndexError('list index out of range',)\n"
     ]
    },
    {
     "name": "stderr",
     "output_type": "stream",
     "text": [
      "2018-09-20 15:34:30,523:WARNING:\n",
      "Failed to read header row 6.\n",
      "2008 01 01 2016 07 08\n",
      "\n",
      "Error msg: IndexError('list index out of range',)\n"
     ]
    },
    {
     "name": "stderr",
     "output_type": "stream",
     "text": [
      "2018-09-20 15:34:30,529:WARNING:\n",
      "Failed to read header row 6.\n",
      "2008 01 01 2016 07 08\n",
      "\n",
      "Error msg: IndexError('list index out of range',)\n"
     ]
    },
    {
     "name": "stderr",
     "output_type": "stream",
     "text": [
      "2018-09-20 15:34:30,535:WARNING:\n",
      "Failed to read header row 6.\n",
      "2008 01 01 2016 07 08\n",
      "\n",
      "Error msg: IndexError('list index out of range',)\n"
     ]
    },
    {
     "name": "stderr",
     "output_type": "stream",
     "text": [
      "2018-09-20 15:34:30,541:WARNING:\n",
      "Failed to read header row 6.\n",
      "2008 01 01 2016 07 08\n",
      "\n",
      "Error msg: IndexError('list index out of range',)\n"
     ]
    },
    {
     "name": "stderr",
     "output_type": "stream",
     "text": [
      "2018-09-20 15:34:30,546:WARNING:\n",
      "Failed to read header row 6.\n",
      "2008 01 01 2016 07 08\n",
      "\n",
      "Error msg: IndexError('list index out of range',)\n"
     ]
    },
    {
     "name": "stderr",
     "output_type": "stream",
     "text": [
      "2018-09-20 15:34:30,551:WARNING:\n",
      "Failed to read header row 6.\n",
      "2008 01 01 2016 07 08\n",
      "\n",
      "Error msg: IndexError('list index out of range',)\n"
     ]
    },
    {
     "name": "stderr",
     "output_type": "stream",
     "text": [
      "2018-09-20 15:34:30,556:WARNING:\n",
      "Failed to read header row 6.\n",
      "2008 01 01 2016 07 08\n",
      "\n",
      "Error msg: IndexError('list index out of range',)\n"
     ]
    },
    {
     "name": "stderr",
     "output_type": "stream",
     "text": [
      "2018-09-20 15:34:30,562:WARNING:\n",
      "Failed to read header row 6.\n",
      "2008 01 01 2016 07 08\n",
      "\n",
      "Error msg: IndexError('list index out of range',)\n"
     ]
    },
    {
     "name": "stderr",
     "output_type": "stream",
     "text": [
      "2018-09-20 15:34:30,567:WARNING:\n",
      "Failed to read header row 6.\n",
      "2008 01 01 2016 07 08\n",
      "\n",
      "Error msg: IndexError('list index out of range',)\n"
     ]
    },
    {
     "name": "stderr",
     "output_type": "stream",
     "text": [
      "2018-09-20 15:34:30,572:WARNING:\n",
      "Failed to read header row 6.\n",
      "2008 01 01 2016 07 08\n",
      "\n",
      "Error msg: IndexError('list index out of range',)\n"
     ]
    },
    {
     "name": "stderr",
     "output_type": "stream",
     "text": [
      "2018-09-20 15:34:30,579:WARNING:\n",
      "Failed to read header row 6.\n",
      "2008 01 01 2016 07 08\n",
      "\n",
      "Error msg: IndexError('list index out of range',)\n"
     ]
    },
    {
     "name": "stderr",
     "output_type": "stream",
     "text": [
      "2018-09-20 15:34:30,589:WARNING:\n",
      "Failed to read header row 6.\n",
      "2008 01 01 2016 07 08\n",
      "\n",
      "Error msg: IndexError('list index out of range',)\n"
     ]
    },
    {
     "name": "stderr",
     "output_type": "stream",
     "text": [
      "2018-09-20 15:34:30,596:WARNING:\n",
      "Failed to read header row 6.\n",
      "2008 01 01 2016 07 08\n",
      "\n",
      "Error msg: IndexError('list index out of range',)\n"
     ]
    },
    {
     "name": "stderr",
     "output_type": "stream",
     "text": [
      "2018-09-20 15:34:30,603:WARNING:\n",
      "Failed to read header row 6.\n",
      "2008 01 01 2016 07 08\n",
      "\n",
      "Error msg: IndexError('list index out of range',)\n"
     ]
    },
    {
     "name": "stderr",
     "output_type": "stream",
     "text": [
      "2018-09-20 15:34:30,612:WARNING:\n",
      "Failed to read header row 6.\n",
      "2008 01 01 2016 07 08\n",
      "\n",
      "Error msg: IndexError('list index out of range',)\n"
     ]
    },
    {
     "name": "stderr",
     "output_type": "stream",
     "text": [
      "2018-09-20 15:34:30,620:WARNING:\n",
      "Failed to read header row 6.\n",
      "2008 01 01 2016 07 08\n",
      "\n",
      "Error msg: IndexError('list index out of range',)\n"
     ]
    },
    {
     "name": "stderr",
     "output_type": "stream",
     "text": [
      "2018-09-20 15:34:30,627:WARNING:\n",
      "Failed to read header row 6.\n",
      "2008 01 01 2016 07 08\n",
      "\n",
      "Error msg: IndexError('list index out of range',)\n"
     ]
    },
    {
     "name": "stderr",
     "output_type": "stream",
     "text": [
      "2018-09-20 15:34:30,633:WARNING:\n",
      "Failed to read header row 6.\n",
      "2008 01 01 2016 07 08\n",
      "\n",
      "Error msg: IndexError('list index out of range',)\n"
     ]
    },
    {
     "name": "stderr",
     "output_type": "stream",
     "text": [
      "2018-09-20 15:34:30,638:WARNING:\n",
      "Failed to read header row 6.\n",
      "2008 01 01 2016 07 08\n",
      "\n",
      "Error msg: IndexError('list index out of range',)\n"
     ]
    },
    {
     "name": "stderr",
     "output_type": "stream",
     "text": [
      "2018-09-20 15:34:30,643:WARNING:\n",
      "Failed to read header row 6.\n",
      "2008 01 01 2016 07 08\n",
      "\n",
      "Error msg: IndexError('list index out of range',)\n"
     ]
    },
    {
     "name": "stderr",
     "output_type": "stream",
     "text": [
      "2018-09-20 15:34:30,649:WARNING:\n",
      "Failed to read header row 6.\n",
      "2008 01 01 2016 07 08\n",
      "\n",
      "Error msg: IndexError('list index out of range',)\n"
     ]
    },
    {
     "name": "stderr",
     "output_type": "stream",
     "text": [
      "2018-09-20 15:34:30,657:WARNING:\n",
      "Failed to read header row 6.\n",
      "2008 01 01 2016 07 08\n",
      "\n",
      "Error msg: IndexError('list index out of range',)\n"
     ]
    },
    {
     "name": "stderr",
     "output_type": "stream",
     "text": [
      "2018-09-20 15:34:30,662:WARNING:\n",
      "Failed to read header row 6.\n",
      "2008 01 01 2016 07 08\n",
      "\n",
      "Error msg: IndexError('list index out of range',)\n"
     ]
    },
    {
     "name": "stderr",
     "output_type": "stream",
     "text": [
      "2018-09-20 15:34:30,668:WARNING:\n",
      "Failed to read header row 6.\n",
      "2008 01 01 2016 07 08\n",
      "\n",
      "Error msg: IndexError('list index out of range',)\n"
     ]
    },
    {
     "name": "stderr",
     "output_type": "stream",
     "text": [
      "2018-09-20 15:34:30,673:WARNING:\n",
      "Failed to read header row 6.\n",
      "2008 01 01 2016 07 08\n",
      "\n",
      "Error msg: IndexError('list index out of range',)\n"
     ]
    },
    {
     "name": "stderr",
     "output_type": "stream",
     "text": [
      "2018-09-20 15:34:30,679:WARNING:\n",
      "Failed to read header row 6.\n",
      "2008 01 01 2016 07 08\n",
      "\n",
      "Error msg: IndexError('list index out of range',)\n"
     ]
    },
    {
     "name": "stderr",
     "output_type": "stream",
     "text": [
      "2018-09-20 15:34:30,684:WARNING:\n",
      "Failed to read header row 6.\n",
      "2008 01 01 2016 07 08\n",
      "\n",
      "Error msg: IndexError('list index out of range',)\n"
     ]
    },
    {
     "name": "stderr",
     "output_type": "stream",
     "text": [
      "2018-09-20 15:34:30,689:WARNING:\n",
      "Failed to read header row 6.\n",
      "2008 01 01 2016 07 08\n",
      "\n",
      "Error msg: IndexError('list index out of range',)\n"
     ]
    },
    {
     "name": "stderr",
     "output_type": "stream",
     "text": [
      "2018-09-20 15:34:30,694:WARNING:\n",
      "Failed to read header row 6.\n",
      "2008 01 01 2016 07 08\n",
      "\n",
      "Error msg: IndexError('list index out of range',)\n"
     ]
    },
    {
     "name": "stderr",
     "output_type": "stream",
     "text": [
      "2018-09-20 15:34:30,700:WARNING:\n",
      "Failed to read header row 6.\n",
      "2008 01 01 2016 07 08\n",
      "\n",
      "Error msg: IndexError('list index out of range',)\n"
     ]
    },
    {
     "name": "stderr",
     "output_type": "stream",
     "text": [
      "2018-09-20 15:34:30,706:WARNING:\n",
      "Failed to read header row 6.\n",
      "2008 01 01 2016 07 08\n",
      "\n",
      "Error msg: IndexError('list index out of range',)\n"
     ]
    },
    {
     "name": "stderr",
     "output_type": "stream",
     "text": [
      "2018-09-20 15:34:30,712:WARNING:\n",
      "Failed to read header row 6.\n",
      "2008 01 01 2016 07 08\n",
      "\n",
      "Error msg: IndexError('list index out of range',)\n"
     ]
    },
    {
     "name": "stderr",
     "output_type": "stream",
     "text": [
      "2018-09-20 15:34:30,719:WARNING:\n",
      "Failed to read header row 6.\n",
      "2008 01 01 2016 07 08\n",
      "\n",
      "Error msg: IndexError('list index out of range',)\n"
     ]
    },
    {
     "name": "stderr",
     "output_type": "stream",
     "text": [
      "2018-09-20 15:34:30,724:WARNING:\n",
      "Failed to read header row 6.\n",
      "2008 01 01 2016 07 08\n",
      "\n",
      "Error msg: IndexError('list index out of range',)\n"
     ]
    },
    {
     "name": "stderr",
     "output_type": "stream",
     "text": [
      "2018-09-20 15:34:30,731:WARNING:\n",
      "Failed to read header row 6.\n",
      "2008 01 01 2016 07 08\n",
      "\n",
      "Error msg: IndexError('list index out of range',)\n"
     ]
    },
    {
     "name": "stderr",
     "output_type": "stream",
     "text": [
      "2018-09-20 15:34:30,737:WARNING:\n",
      "Failed to read header row 6.\n",
      "2008 01 01 2016 07 08\n",
      "\n",
      "Error msg: IndexError('list index out of range',)\n"
     ]
    },
    {
     "name": "stderr",
     "output_type": "stream",
     "text": [
      "2018-09-20 15:34:30,745:WARNING:\n",
      "Failed to read header row 6.\n",
      "2008 01 01 2016 07 08\n",
      "\n",
      "Error msg: IndexError('list index out of range',)\n"
     ]
    },
    {
     "name": "stderr",
     "output_type": "stream",
     "text": [
      "2018-09-20 15:34:30,750:WARNING:\n",
      "Failed to read header row 6.\n",
      "2008 01 01 2016 07 08\n",
      "\n",
      "Error msg: IndexError('list index out of range',)\n"
     ]
    },
    {
     "name": "stderr",
     "output_type": "stream",
     "text": [
      "2018-09-20 15:34:30,755:WARNING:\n",
      "Failed to read header row 6.\n",
      "2008 01 01 2016 07 08\n",
      "\n",
      "Error msg: IndexError('list index out of range',)\n"
     ]
    },
    {
     "name": "stderr",
     "output_type": "stream",
     "text": [
      "2018-09-20 15:34:30,762:WARNING:\n",
      "Failed to read header row 6.\n",
      "2008 01 01 2016 07 08\n",
      "\n",
      "Error msg: IndexError('list index out of range',)\n"
     ]
    },
    {
     "name": "stderr",
     "output_type": "stream",
     "text": [
      "2018-09-20 15:34:30,768:WARNING:\n",
      "Failed to read header row 6.\n",
      "2008 01 01 2016 07 08\n",
      "\n",
      "Error msg: IndexError('list index out of range',)\n"
     ]
    },
    {
     "name": "stderr",
     "output_type": "stream",
     "text": [
      "2018-09-20 15:34:30,776:WARNING:\n",
      "Failed to read header row 6.\n",
      "2008 01 01 2016 07 08\n",
      "\n",
      "Error msg: IndexError('list index out of range',)\n"
     ]
    },
    {
     "name": "stderr",
     "output_type": "stream",
     "text": [
      "2018-09-20 15:34:30,782:WARNING:\n",
      "Failed to read header row 6.\n",
      "2008 01 01 2016 07 08\n",
      "\n",
      "Error msg: IndexError('list index out of range',)\n"
     ]
    },
    {
     "name": "stderr",
     "output_type": "stream",
     "text": [
      "2018-09-20 15:34:30,788:WARNING:\n",
      "Failed to read header row 6.\n",
      "2008 01 01 2016 07 08\n",
      "\n",
      "Error msg: IndexError('list index out of range',)\n"
     ]
    },
    {
     "name": "stderr",
     "output_type": "stream",
     "text": [
      "2018-09-20 15:34:30,793:WARNING:\n",
      "Failed to read header row 6.\n",
      "2008 01 01 2016 07 08\n",
      "\n",
      "Error msg: IndexError('list index out of range',)\n"
     ]
    },
    {
     "name": "stderr",
     "output_type": "stream",
     "text": [
      "2018-09-20 15:34:30,799:WARNING:\n",
      "Failed to read header row 6.\n",
      "2008 01 01 2016 07 08\n",
      "\n",
      "Error msg: IndexError('list index out of range',)\n"
     ]
    },
    {
     "name": "stderr",
     "output_type": "stream",
     "text": [
      "2018-09-20 15:34:30,805:WARNING:\n",
      "Failed to read header row 6.\n",
      "2008 01 01 2016 07 08\n",
      "\n",
      "Error msg: IndexError('list index out of range',)\n"
     ]
    },
    {
     "name": "stderr",
     "output_type": "stream",
     "text": [
      "2018-09-20 15:34:30,811:WARNING:\n",
      "Failed to read header row 6.\n",
      "2008 01 01 2016 07 08\n",
      "\n",
      "Error msg: IndexError('list index out of range',)\n"
     ]
    },
    {
     "name": "stderr",
     "output_type": "stream",
     "text": [
      "2018-09-20 15:34:30,817:WARNING:\n",
      "Failed to read header row 6.\n",
      "2008 01 01 2016 07 08\n",
      "\n",
      "Error msg: IndexError('list index out of range',)\n"
     ]
    },
    {
     "name": "stderr",
     "output_type": "stream",
     "text": [
      "2018-09-20 15:34:30,823:WARNING:\n",
      "Failed to read header row 6.\n",
      "2008 01 01 2016 07 08\n",
      "\n",
      "Error msg: IndexError('list index out of range',)\n"
     ]
    },
    {
     "name": "stderr",
     "output_type": "stream",
     "text": [
      "2018-09-20 15:34:30,829:WARNING:\n",
      "Failed to read header row 6.\n",
      "2008 01 01 2016 07 08\n",
      "\n",
      "Error msg: IndexError('list index out of range',)\n"
     ]
    },
    {
     "name": "stderr",
     "output_type": "stream",
     "text": [
      "2018-09-20 15:34:30,835:WARNING:\n",
      "Failed to read header row 6.\n",
      "2008 01 01 2016 07 08\n",
      "\n",
      "Error msg: IndexError('list index out of range',)\n"
     ]
    },
    {
     "name": "stderr",
     "output_type": "stream",
     "text": [
      "2018-09-20 15:34:30,841:WARNING:\n",
      "Failed to read header row 6.\n",
      "2008 01 01 2016 07 08\n",
      "\n",
      "Error msg: IndexError('list index out of range',)\n"
     ]
    },
    {
     "name": "stderr",
     "output_type": "stream",
     "text": [
      "2018-09-20 15:34:30,846:WARNING:\n",
      "Failed to read header row 6.\n",
      "2008 01 01 2016 07 08\n",
      "\n",
      "Error msg: IndexError('list index out of range',)\n"
     ]
    },
    {
     "name": "stderr",
     "output_type": "stream",
     "text": [
      "2018-09-20 15:34:30,851:WARNING:\n",
      "Failed to read header row 6.\n",
      "2008 01 01 2016 07 08\n",
      "\n",
      "Error msg: IndexError('list index out of range',)\n"
     ]
    },
    {
     "name": "stderr",
     "output_type": "stream",
     "text": [
      "2018-09-20 15:34:30,857:WARNING:\n",
      "Failed to read header row 6.\n",
      "2008 01 01 2016 07 08\n",
      "\n",
      "Error msg: IndexError('list index out of range',)\n"
     ]
    },
    {
     "name": "stderr",
     "output_type": "stream",
     "text": [
      "2018-09-20 15:34:30,862:WARNING:\n",
      "Failed to read header row 6.\n",
      "2008 01 01 2016 07 08\n",
      "\n",
      "Error msg: IndexError('list index out of range',)\n"
     ]
    },
    {
     "name": "stderr",
     "output_type": "stream",
     "text": [
      "2018-09-20 15:34:30,868:WARNING:\n",
      "Failed to read header row 6.\n",
      "2008 01 01 2016 07 08\n",
      "\n",
      "Error msg: IndexError('list index out of range',)\n"
     ]
    },
    {
     "name": "stderr",
     "output_type": "stream",
     "text": [
      "2018-09-20 15:34:30,875:WARNING:\n",
      "Failed to read header row 6.\n",
      "2008 01 01 2016 07 08\n",
      "\n",
      "Error msg: IndexError('list index out of range',)\n"
     ]
    },
    {
     "name": "stderr",
     "output_type": "stream",
     "text": [
      "2018-09-20 15:34:30,882:WARNING:\n",
      "Failed to read header row 6.\n",
      "2008 01 01 2016 07 08\n",
      "\n",
      "Error msg: IndexError('list index out of range',)\n"
     ]
    },
    {
     "name": "stderr",
     "output_type": "stream",
     "text": [
      "2018-09-20 15:34:30,889:WARNING:\n",
      "Failed to read header row 6.\n",
      "2008 01 01 2016 07 08\n",
      "\n",
      "Error msg: IndexError('list index out of range',)\n"
     ]
    },
    {
     "name": "stderr",
     "output_type": "stream",
     "text": [
      "2018-09-20 15:34:30,897:WARNING:\n",
      "Failed to read header row 6.\n",
      "2008 01 01 2016 07 08\n",
      "\n",
      "Error msg: IndexError('list index out of range',)\n"
     ]
    },
    {
     "name": "stderr",
     "output_type": "stream",
     "text": [
      "2018-09-20 15:34:30,914:WARNING:\n",
      "Failed to read header row 6.\n",
      "2008 01 01 2016 07 08\n",
      "\n",
      "Error msg: IndexError('list index out of range',)\n"
     ]
    },
    {
     "name": "stderr",
     "output_type": "stream",
     "text": [
      "2018-09-20 15:34:30,920:WARNING:\n",
      "Failed to read header row 6.\n",
      "2008 01 01 2016 07 08\n",
      "\n",
      "Error msg: IndexError('list index out of range',)\n"
     ]
    },
    {
     "name": "stderr",
     "output_type": "stream",
     "text": [
      "2018-09-20 15:34:30,925:WARNING:\n",
      "Failed to read header row 6.\n",
      "2008 01 01 2016 07 08\n",
      "\n",
      "Error msg: IndexError('list index out of range',)\n"
     ]
    },
    {
     "name": "stderr",
     "output_type": "stream",
     "text": [
      "2018-09-20 15:34:30,930:WARNING:\n",
      "Failed to read header row 6.\n",
      "2008 01 01 2016 07 08\n",
      "\n",
      "Error msg: IndexError('list index out of range',)\n"
     ]
    },
    {
     "name": "stderr",
     "output_type": "stream",
     "text": [
      "2018-09-20 15:34:30,935:WARNING:\n",
      "Failed to read header row 6.\n",
      "2008 01 01 2016 07 08\n",
      "\n",
      "Error msg: IndexError('list index out of range',)\n"
     ]
    },
    {
     "name": "stderr",
     "output_type": "stream",
     "text": [
      "2018-09-20 15:34:30,940:WARNING:\n",
      "Failed to read header row 6.\n",
      "2008 01 01 2016 07 08\n",
      "\n",
      "Error msg: IndexError('list index out of range',)\n"
     ]
    },
    {
     "name": "stderr",
     "output_type": "stream",
     "text": [
      "2018-09-20 15:34:30,946:WARNING:\n",
      "Failed to read header row 6.\n",
      "2008 01 01 2016 07 08\n",
      "\n",
      "Error msg: IndexError('list index out of range',)\n"
     ]
    },
    {
     "name": "stderr",
     "output_type": "stream",
     "text": [
      "2018-09-20 15:34:30,952:WARNING:\n",
      "Failed to read header row 6.\n",
      "2008 01 01 2016 07 08\n",
      "\n",
      "Error msg: IndexError('list index out of range',)\n"
     ]
    },
    {
     "name": "stderr",
     "output_type": "stream",
     "text": [
      "2018-09-20 15:34:30,957:WARNING:\n",
      "Failed to read header row 6.\n",
      "2008 01 01 2016 07 08\n",
      "\n",
      "Error msg: IndexError('list index out of range',)\n"
     ]
    },
    {
     "name": "stderr",
     "output_type": "stream",
     "text": [
      "2018-09-20 15:34:30,963:WARNING:\n",
      "Failed to read header row 6.\n",
      "2008 01 01 2016 07 08\n",
      "\n",
      "Error msg: IndexError('list index out of range',)\n"
     ]
    },
    {
     "name": "stderr",
     "output_type": "stream",
     "text": [
      "2018-09-20 15:34:30,968:WARNING:\n",
      "Failed to read header row 6.\n",
      "2008 01 01 2016 07 08\n",
      "\n",
      "Error msg: IndexError('list index out of range',)\n"
     ]
    },
    {
     "name": "stderr",
     "output_type": "stream",
     "text": [
      "2018-09-20 15:34:30,975:WARNING:\n",
      "Failed to read header row 6.\n",
      "2008 01 01 2016 07 08\n",
      "\n",
      "Error msg: IndexError('list index out of range',)\n"
     ]
    },
    {
     "name": "stderr",
     "output_type": "stream",
     "text": [
      "2018-09-20 15:34:30,982:WARNING:\n",
      "Failed to read header row 6.\n",
      "2008 01 01 2016 07 08\n",
      "\n",
      "Error msg: IndexError('list index out of range',)\n"
     ]
    },
    {
     "name": "stderr",
     "output_type": "stream",
     "text": [
      "2018-09-20 15:34:30,989:WARNING:\n",
      "Failed to read header row 6.\n",
      "2008 01 01 2016 07 08\n",
      "\n",
      "Error msg: IndexError('list index out of range',)\n"
     ]
    },
    {
     "name": "stderr",
     "output_type": "stream",
     "text": [
      "2018-09-20 15:34:30,994:WARNING:\n",
      "Failed to read header row 6.\n",
      "2008 01 01 2016 07 08\n",
      "\n",
      "Error msg: IndexError('list index out of range',)\n"
     ]
    },
    {
     "name": "stderr",
     "output_type": "stream",
     "text": [
      "2018-09-20 15:34:31,000:WARNING:\n",
      "Failed to read header row 6.\n",
      "2008 01 01 2016 07 08\n",
      "\n",
      "Error msg: IndexError('list index out of range',)\n"
     ]
    },
    {
     "name": "stderr",
     "output_type": "stream",
     "text": [
      "2018-09-20 15:34:31,006:WARNING:\n",
      "Failed to read header row 6.\n",
      "2008 01 01 2016 07 08\n",
      "\n",
      "Error msg: IndexError('list index out of range',)\n"
     ]
    },
    {
     "name": "stderr",
     "output_type": "stream",
     "text": [
      "2018-09-20 15:34:31,013:WARNING:\n",
      "Failed to read header row 6.\n",
      "2008 01 01 2016 07 08\n",
      "\n",
      "Error msg: IndexError('list index out of range',)\n"
     ]
    },
    {
     "name": "stderr",
     "output_type": "stream",
     "text": [
      "2018-09-20 15:34:31,020:WARNING:\n",
      "Failed to read header row 6.\n",
      "2008 01 01 2016 07 08\n",
      "\n",
      "Error msg: IndexError('list index out of range',)\n"
     ]
    },
    {
     "name": "stderr",
     "output_type": "stream",
     "text": [
      "2018-09-20 15:34:31,027:WARNING:\n",
      "Failed to read header row 6.\n",
      "2008 01 01 2016 07 08\n",
      "\n",
      "Error msg: IndexError('list index out of range',)\n"
     ]
    },
    {
     "name": "stderr",
     "output_type": "stream",
     "text": [
      "2018-09-20 15:34:31,033:WARNING:\n",
      "Failed to read header row 6.\n",
      "2008 01 01 2016 07 08\n",
      "\n",
      "Error msg: IndexError('list index out of range',)\n"
     ]
    },
    {
     "name": "stderr",
     "output_type": "stream",
     "text": [
      "2018-09-20 15:34:31,040:WARNING:\n",
      "Failed to read header row 6.\n",
      "2008 01 01 2016 07 08\n",
      "\n",
      "Error msg: IndexError('list index out of range',)\n"
     ]
    },
    {
     "name": "stderr",
     "output_type": "stream",
     "text": [
      "2018-09-20 15:34:31,048:WARNING:\n",
      "Failed to read header row 6.\n",
      "2008 01 01 2016 07 08\n",
      "\n",
      "Error msg: IndexError('list index out of range',)\n"
     ]
    },
    {
     "name": "stderr",
     "output_type": "stream",
     "text": [
      "2018-09-20 15:34:31,054:WARNING:\n",
      "Failed to read header row 6.\n",
      "2008 01 01 2016 07 08\n",
      "\n",
      "Error msg: IndexError('list index out of range',)\n"
     ]
    },
    {
     "name": "stderr",
     "output_type": "stream",
     "text": [
      "2018-09-20 15:34:31,060:WARNING:\n",
      "Failed to read header row 6.\n",
      "2008 01 01 2016 07 08\n",
      "\n",
      "Error msg: IndexError('list index out of range',)\n"
     ]
    },
    {
     "name": "stderr",
     "output_type": "stream",
     "text": [
      "2018-09-20 15:34:31,065:WARNING:\n",
      "Failed to read header row 6.\n",
      "2008 01 01 2016 07 08\n",
      "\n",
      "Error msg: IndexError('list index out of range',)\n"
     ]
    },
    {
     "name": "stderr",
     "output_type": "stream",
     "text": [
      "2018-09-20 15:34:31,073:WARNING:\n",
      "Failed to read header row 6.\n",
      "2008 01 01 2016 07 08\n",
      "\n",
      "Error msg: IndexError('list index out of range',)\n"
     ]
    },
    {
     "name": "stderr",
     "output_type": "stream",
     "text": [
      "2018-09-20 15:34:31,079:WARNING:\n",
      "Failed to read header row 6.\n",
      "2008 01 01 2016 07 08\n",
      "\n",
      "Error msg: IndexError('list index out of range',)\n"
     ]
    },
    {
     "name": "stderr",
     "output_type": "stream",
     "text": [
      "2018-09-20 15:34:31,084:WARNING:\n",
      "Failed to read header row 6.\n",
      "2008 01 01 2016 07 08\n",
      "\n",
      "Error msg: IndexError('list index out of range',)\n"
     ]
    },
    {
     "name": "stderr",
     "output_type": "stream",
     "text": [
      "2018-09-20 15:34:31,089:WARNING:\n",
      "Failed to read header row 6.\n",
      "2008 01 01 2016 07 08\n",
      "\n",
      "Error msg: IndexError('list index out of range',)\n"
     ]
    },
    {
     "name": "stderr",
     "output_type": "stream",
     "text": [
      "2018-09-20 15:34:31,095:WARNING:\n",
      "Failed to read header row 6.\n",
      "2008 01 01 2016 07 08\n",
      "\n",
      "Error msg: IndexError('list index out of range',)\n"
     ]
    },
    {
     "name": "stderr",
     "output_type": "stream",
     "text": [
      "2018-09-20 15:34:31,099:WARNING:\n",
      "Failed to read header row 6.\n",
      "2008 01 01 2016 07 08\n",
      "\n",
      "Error msg: IndexError('list index out of range',)\n"
     ]
    },
    {
     "name": "stderr",
     "output_type": "stream",
     "text": [
      "2018-09-20 15:34:31,109:WARNING:\n",
      "Failed to read header row 6.\n",
      "2008 01 01 2016 07 08\n",
      "\n",
      "Error msg: IndexError('list index out of range',)\n"
     ]
    },
    {
     "name": "stderr",
     "output_type": "stream",
     "text": [
      "2018-09-20 15:34:31,117:WARNING:\n",
      "Failed to read header row 6.\n",
      "2008 01 01 2016 07 08\n",
      "\n",
      "Error msg: IndexError('list index out of range',)\n"
     ]
    },
    {
     "name": "stderr",
     "output_type": "stream",
     "text": [
      "2018-09-20 15:34:31,124:WARNING:\n",
      "Failed to read header row 6.\n",
      "2008 01 01 2016 07 08\n",
      "\n",
      "Error msg: IndexError('list index out of range',)\n"
     ]
    },
    {
     "name": "stderr",
     "output_type": "stream",
     "text": [
      "2018-09-20 15:34:31,131:WARNING:\n",
      "Failed to read header row 6.\n",
      "2008 01 01 2016 07 08\n",
      "\n",
      "Error msg: IndexError('list index out of range',)\n"
     ]
    },
    {
     "name": "stderr",
     "output_type": "stream",
     "text": [
      "2018-09-20 15:34:31,139:WARNING:\n",
      "Failed to read header row 6.\n",
      "2008 01 01 2016 07 08\n",
      "\n",
      "Error msg: IndexError('list index out of range',)\n"
     ]
    },
    {
     "name": "stderr",
     "output_type": "stream",
     "text": [
      "2018-09-20 15:34:31,146:WARNING:\n",
      "Failed to read header row 6.\n",
      "2008 01 01 2016 07 08\n",
      "\n",
      "Error msg: IndexError('list index out of range',)\n"
     ]
    },
    {
     "name": "stderr",
     "output_type": "stream",
     "text": [
      "2018-09-20 15:34:31,153:WARNING:\n",
      "Failed to read header row 6.\n",
      "2008 01 01 2016 07 08\n",
      "\n",
      "Error msg: IndexError('list index out of range',)\n"
     ]
    },
    {
     "name": "stderr",
     "output_type": "stream",
     "text": [
      "2018-09-20 15:34:31,160:WARNING:\n",
      "Failed to read header row 6.\n",
      "2008 01 01 2016 07 08\n",
      "\n",
      "Error msg: IndexError('list index out of range',)\n"
     ]
    },
    {
     "name": "stderr",
     "output_type": "stream",
     "text": [
      "2018-09-20 15:34:31,168:WARNING:\n",
      "Failed to read header row 6.\n",
      "2008 01 01 2016 07 08\n",
      "\n",
      "Error msg: IndexError('list index out of range',)\n"
     ]
    },
    {
     "name": "stderr",
     "output_type": "stream",
     "text": [
      "2018-09-20 15:34:31,176:WARNING:\n",
      "Failed to read header row 6.\n",
      "2008 01 01 2016 07 08\n",
      "\n",
      "Error msg: IndexError('list index out of range',)\n"
     ]
    },
    {
     "name": "stderr",
     "output_type": "stream",
     "text": [
      "2018-09-20 15:34:31,184:WARNING:\n",
      "Failed to read header row 6.\n",
      "2008 01 01 2016 07 08\n",
      "\n",
      "Error msg: IndexError('list index out of range',)\n"
     ]
    },
    {
     "name": "stderr",
     "output_type": "stream",
     "text": [
      "2018-09-20 15:34:31,190:WARNING:\n",
      "Failed to read header row 6.\n",
      "2008 01 01 2016 07 08\n",
      "\n",
      "Error msg: IndexError('list index out of range',)\n"
     ]
    },
    {
     "name": "stderr",
     "output_type": "stream",
     "text": [
      "2018-09-20 15:34:31,197:WARNING:\n",
      "Failed to read header row 6.\n",
      "2008 01 01 2016 07 08\n",
      "\n",
      "Error msg: IndexError('list index out of range',)\n"
     ]
    },
    {
     "name": "stderr",
     "output_type": "stream",
     "text": [
      "2018-09-20 15:34:31,203:WARNING:\n",
      "Failed to read header row 6.\n",
      "2008 01 01 2016 07 08\n",
      "\n",
      "Error msg: IndexError('list index out of range',)\n"
     ]
    },
    {
     "name": "stderr",
     "output_type": "stream",
     "text": [
      "2018-09-20 15:34:31,208:WARNING:\n",
      "Failed to read header row 6.\n",
      "2008 01 01 2016 07 08\n",
      "\n",
      "Error msg: IndexError('list index out of range',)\n"
     ]
    },
    {
     "name": "stderr",
     "output_type": "stream",
     "text": [
      "2018-09-20 15:34:31,214:WARNING:\n",
      "Failed to read header row 6.\n",
      "2008 01 01 2016 07 08\n",
      "\n",
      "Error msg: IndexError('list index out of range',)\n"
     ]
    },
    {
     "name": "stderr",
     "output_type": "stream",
     "text": [
      "2018-09-20 15:34:31,219:WARNING:\n",
      "Failed to read header row 6.\n",
      "2008 01 01 2016 07 08\n",
      "\n",
      "Error msg: IndexError('list index out of range',)\n"
     ]
    },
    {
     "name": "stderr",
     "output_type": "stream",
     "text": [
      "2018-09-20 15:34:31,228:WARNING:\n",
      "Failed to read header row 6.\n",
      "2008 01 01 2016 07 08\n",
      "\n",
      "Error msg: IndexError('list index out of range',)"
     ]
    },
    {
     "name": "stderr",
     "output_type": "stream",
     "text": [
      "\n"
     ]
    },
    {
     "name": "stderr",
     "output_type": "stream",
     "text": [
      "2018-09-20 15:34:31,237:WARNING:\n",
      "Failed to read header row 6.\n",
      "2008 01 01 2016 07 08\n",
      "\n",
      "Error msg: IndexError('list index out of range',)\n"
     ]
    },
    {
     "name": "stderr",
     "output_type": "stream",
     "text": [
      "2018-09-20 15:34:31,246:WARNING:\n",
      "Failed to read header row 6.\n",
      "2008 01 01 2016 07 08\n",
      "\n",
      "Error msg: IndexError('list index out of range',)\n"
     ]
    },
    {
     "name": "stderr",
     "output_type": "stream",
     "text": [
      "2018-09-20 15:34:31,254:WARNING:\n",
      "Failed to read header row 6.\n",
      "2008 01 01 2016 07 08\n",
      "\n",
      "Error msg: IndexError('list index out of range',)\n"
     ]
    },
    {
     "name": "stderr",
     "output_type": "stream",
     "text": [
      "2018-09-20 15:34:31,264:WARNING:\n",
      "Failed to read header row 6.\n",
      "2008 01 01 2016 07 08\n",
      "\n",
      "Error msg: IndexError('list index out of range',)\n"
     ]
    },
    {
     "name": "stderr",
     "output_type": "stream",
     "text": [
      "2018-09-20 15:34:31,272:WARNING:\n",
      "Failed to read header row 6.\n",
      "2008 01 01 2016 07 08\n",
      "\n",
      "Error msg: IndexError('list index out of range',)\n"
     ]
    },
    {
     "name": "stderr",
     "output_type": "stream",
     "text": [
      "2018-09-20 15:34:31,278:WARNING:\n",
      "Failed to read header row 6.\n",
      "2008 01 01 2016 07 08\n",
      "\n",
      "Error msg: IndexError('list index out of range',)\n"
     ]
    },
    {
     "name": "stderr",
     "output_type": "stream",
     "text": [
      "2018-09-20 15:34:31,283:WARNING:\n",
      "Failed to read header row 6.\n",
      "2008 01 01 2016 07 08\n",
      "\n",
      "Error msg: IndexError('list index out of range',)\n"
     ]
    },
    {
     "name": "stderr",
     "output_type": "stream",
     "text": [
      "2018-09-20 15:34:31,290:WARNING:\n",
      "Failed to read header row 6.\n",
      "2008 01 01 2016 07 08\n",
      "\n",
      "Error msg: IndexError('list index out of range',)\n"
     ]
    },
    {
     "name": "stderr",
     "output_type": "stream",
     "text": [
      "2018-09-20 15:34:31,296:WARNING:\n",
      "Failed to read header row 6.\n",
      "2008 01 01 2016 07 08\n",
      "\n",
      "Error msg: IndexError('list index out of range',)\n"
     ]
    },
    {
     "name": "stderr",
     "output_type": "stream",
     "text": [
      "2018-09-20 15:34:31,301:WARNING:\n",
      "Failed to read header row 6.\n",
      "2008 01 01 2016 07 08\n",
      "\n",
      "Error msg: IndexError('list index out of range',)\n"
     ]
    },
    {
     "name": "stderr",
     "output_type": "stream",
     "text": [
      "2018-09-20 15:34:31,306:WARNING:\n",
      "Failed to read header row 6.\n",
      "2008 01 01 2016 07 08\n",
      "\n",
      "Error msg: IndexError('list index out of range',)\n"
     ]
    },
    {
     "name": "stderr",
     "output_type": "stream",
     "text": [
      "2018-09-20 15:34:31,312:WARNING:\n",
      "Failed to read header row 6.\n",
      "2008 01 01 2016 07 08\n",
      "\n",
      "Error msg: IndexError('list index out of range',)\n"
     ]
    },
    {
     "name": "stderr",
     "output_type": "stream",
     "text": [
      "2018-09-20 15:34:31,318:WARNING:\n",
      "Failed to read header row 6.\n",
      "2008 01 01 2016 07 08\n",
      "\n",
      "Error msg: IndexError('list index out of range',)\n"
     ]
    },
    {
     "name": "stderr",
     "output_type": "stream",
     "text": [
      "2018-09-20 15:34:31,325:WARNING:\n",
      "Failed to read header row 6.\n",
      "2008 01 01 2016 07 08\n",
      "\n",
      "Error msg: IndexError('list index out of range',)\n"
     ]
    },
    {
     "name": "stderr",
     "output_type": "stream",
     "text": [
      "2018-09-20 15:34:31,332:WARNING:\n",
      "Failed to read header row 6.\n",
      "2008 01 01 2016 07 08\n",
      "\n",
      "Error msg: IndexError('list index out of range',)\n"
     ]
    },
    {
     "name": "stderr",
     "output_type": "stream",
     "text": [
      "2018-09-20 15:34:31,338:WARNING:\n",
      "Failed to read header row 6.\n",
      "2008 01 01 2016 07 08\n",
      "\n",
      "Error msg: IndexError('list index out of range',)\n"
     ]
    },
    {
     "name": "stderr",
     "output_type": "stream",
     "text": [
      "2018-09-20 15:34:31,344:WARNING:\n",
      "Failed to read header row 6.\n",
      "2008 01 01 2016 07 08\n",
      "\n",
      "Error msg: IndexError('list index out of range',)\n"
     ]
    },
    {
     "name": "stderr",
     "output_type": "stream",
     "text": [
      "2018-09-20 15:34:31,350:WARNING:\n",
      "Failed to read header row 6.\n",
      "2008 01 01 2016 07 08\n",
      "\n",
      "Error msg: IndexError('list index out of range',)\n"
     ]
    },
    {
     "name": "stderr",
     "output_type": "stream",
     "text": [
      "2018-09-20 15:34:31,356:WARNING:\n",
      "Failed to read header row 6.\n",
      "2008 01 01 2016 07 08\n",
      "\n",
      "Error msg: IndexError('list index out of range',)\n"
     ]
    },
    {
     "name": "stderr",
     "output_type": "stream",
     "text": [
      "2018-09-20 15:34:31,362:WARNING:\n",
      "Failed to read header row 6.\n",
      "2008 01 01 2016 07 08\n",
      "\n",
      "Error msg: IndexError('list index out of range',)\n"
     ]
    },
    {
     "name": "stderr",
     "output_type": "stream",
     "text": [
      "2018-09-20 15:34:31,369:WARNING:\n",
      "Failed to read header row 6.\n",
      "2008 01 01 2016 07 08\n",
      "\n",
      "Error msg: IndexError('list index out of range',)\n"
     ]
    },
    {
     "name": "stderr",
     "output_type": "stream",
     "text": [
      "2018-09-20 15:34:31,376:WARNING:\n",
      "Failed to read header row 6.\n",
      "2008 01 01 2016 07 08\n",
      "\n",
      "Error msg: IndexError('list index out of range',)\n"
     ]
    },
    {
     "name": "stderr",
     "output_type": "stream",
     "text": [
      "2018-09-20 15:34:31,382:WARNING:\n",
      "Failed to read header row 6.\n",
      "2008 01 01 2016 07 08\n",
      "\n",
      "Error msg: IndexError('list index out of range',)\n"
     ]
    },
    {
     "name": "stderr",
     "output_type": "stream",
     "text": [
      "2018-09-20 15:34:31,388:WARNING:\n",
      "Failed to read header row 6.\n",
      "2008 01 01 2016 07 08\n",
      "\n",
      "Error msg: IndexError('list index out of range',)\n"
     ]
    },
    {
     "name": "stderr",
     "output_type": "stream",
     "text": [
      "2018-09-20 15:34:31,395:WARNING:\n",
      "Failed to read header row 6.\n",
      "2008 01 01 2016 07 08\n",
      "\n",
      "Error msg: IndexError('list index out of range',)\n"
     ]
    },
    {
     "name": "stderr",
     "output_type": "stream",
     "text": [
      "2018-09-20 15:34:31,401:WARNING:\n",
      "Failed to read header row 6.\n",
      "2008 01 01 2016 07 08\n",
      "\n",
      "Error msg: IndexError('list index out of range',)\n"
     ]
    },
    {
     "name": "stderr",
     "output_type": "stream",
     "text": [
      "2018-09-20 15:34:31,407:WARNING:\n",
      "Failed to read header row 6.\n",
      "2008 01 01 2016 07 08\n",
      "\n",
      "Error msg: IndexError('list index out of range',)\n"
     ]
    },
    {
     "name": "stderr",
     "output_type": "stream",
     "text": [
      "2018-09-20 15:34:31,413:WARNING:\n",
      "Failed to read header row 6.\n",
      "2008 01 01 2016 07 08\n",
      "\n",
      "Error msg: IndexError('list index out of range',)\n"
     ]
    },
    {
     "name": "stderr",
     "output_type": "stream",
     "text": [
      "2018-09-20 15:34:31,421:WARNING:\n",
      "Failed to read header row 6.\n",
      "2008 01 01 2016 07 08\n",
      "\n",
      "Error msg: IndexError('list index out of range',)\n"
     ]
    },
    {
     "name": "stderr",
     "output_type": "stream",
     "text": [
      "2018-09-20 15:34:31,432:WARNING:\n",
      "Failed to read header row 6.\n",
      "2008 01 01 2016 07 08\n",
      "\n",
      "Error msg: IndexError('list index out of range',)\n"
     ]
    },
    {
     "name": "stderr",
     "output_type": "stream",
     "text": [
      "2018-09-20 15:34:31,439:WARNING:\n",
      "Failed to read header row 6.\n",
      "2008 01 01 2016 07 08\n",
      "\n",
      "Error msg: IndexError('list index out of range',)\n"
     ]
    },
    {
     "name": "stderr",
     "output_type": "stream",
     "text": [
      "2018-09-20 15:34:31,445:WARNING:\n",
      "Failed to read header row 6.\n",
      "2008 01 01 2016 07 08\n",
      "\n",
      "Error msg: IndexError('list index out of range',)\n"
     ]
    },
    {
     "name": "stderr",
     "output_type": "stream",
     "text": [
      "2018-09-20 15:34:31,451:WARNING:\n",
      "Failed to read header row 6.\n",
      "2008 01 01 2016 07 08\n",
      "\n",
      "Error msg: IndexError('list index out of range',)\n"
     ]
    },
    {
     "name": "stderr",
     "output_type": "stream",
     "text": [
      "2018-09-20 15:34:31,457:WARNING:\n",
      "Failed to read header row 6.\n",
      "2008 01 01 2016 07 08\n",
      "\n",
      "Error msg: IndexError('list index out of range',)\n"
     ]
    },
    {
     "name": "stderr",
     "output_type": "stream",
     "text": [
      "2018-09-20 15:34:31,462:WARNING:\n",
      "Failed to read header row 6.\n",
      "2008 01 01 2016 07 08\n",
      "\n",
      "Error msg: IndexError('list index out of range',)\n"
     ]
    },
    {
     "name": "stderr",
     "output_type": "stream",
     "text": [
      "2018-09-20 15:34:31,467:WARNING:\n",
      "Failed to read header row 6.\n",
      "2008 01 01 2016 07 08\n",
      "\n",
      "Error msg: IndexError('list index out of range',)\n"
     ]
    },
    {
     "name": "stderr",
     "output_type": "stream",
     "text": [
      "2018-09-20 15:34:31,472:WARNING:\n",
      "Failed to read header row 6.\n",
      "2008 01 01 2016 07 08\n",
      "\n",
      "Error msg: IndexError('list index out of range',)\n"
     ]
    },
    {
     "name": "stderr",
     "output_type": "stream",
     "text": [
      "2018-09-20 15:34:31,476:WARNING:\n",
      "Failed to read header row 6.\n",
      "2008 01 01 2016 07 08\n",
      "\n",
      "Error msg: IndexError('list index out of range',)\n"
     ]
    },
    {
     "name": "stderr",
     "output_type": "stream",
     "text": [
      "2018-09-20 15:34:31,482:WARNING:\n",
      "Failed to read header row 6.\n",
      "2008 01 01 2016 07 08\n",
      "\n",
      "Error msg: IndexError('list index out of range',)\n"
     ]
    },
    {
     "name": "stderr",
     "output_type": "stream",
     "text": [
      "2018-09-20 15:34:31,486:WARNING:\n",
      "Failed to read header row 6.\n",
      "2008 01 01 2016 07 08\n",
      "\n",
      "Error msg: IndexError('list index out of range',)\n"
     ]
    },
    {
     "name": "stderr",
     "output_type": "stream",
     "text": [
      "2018-09-20 15:34:31,490:WARNING:\n",
      "Failed to read header row 6.\n",
      "2008 01 01 2016 07 08\n",
      "\n",
      "Error msg: IndexError('list index out of range',)\n"
     ]
    },
    {
     "name": "stderr",
     "output_type": "stream",
     "text": [
      "2018-09-20 15:34:31,495:WARNING:\n",
      "Failed to read header row 6.\n",
      "2008 01 01 2016 07 08\n",
      "\n",
      "Error msg: IndexError('list index out of range',)\n"
     ]
    },
    {
     "name": "stderr",
     "output_type": "stream",
     "text": [
      "2018-09-20 15:34:31,500:WARNING:\n",
      "Failed to read header row 6.\n",
      "2008 01 01 2016 07 08\n",
      "\n",
      "Error msg: IndexError('list index out of range',)\n"
     ]
    },
    {
     "name": "stderr",
     "output_type": "stream",
     "text": [
      "2018-09-20 15:34:31,505:WARNING:\n",
      "Failed to read header row 6.\n",
      "2008 01 01 2016 07 08\n",
      "\n",
      "Error msg: IndexError('list index out of range',)\n"
     ]
    },
    {
     "name": "stderr",
     "output_type": "stream",
     "text": [
      "2018-09-20 15:34:31,510:WARNING:\n",
      "Failed to read header row 6.\n",
      "2008 01 01 2016 07 08\n",
      "\n",
      "Error msg: IndexError('list index out of range',)\n"
     ]
    },
    {
     "name": "stderr",
     "output_type": "stream",
     "text": [
      "2018-09-20 15:34:31,515:WARNING:\n",
      "Failed to read header row 6.\n",
      "2008 01 01 2016 07 08\n",
      "\n",
      "Error msg: IndexError('list index out of range',)\n"
     ]
    },
    {
     "name": "stderr",
     "output_type": "stream",
     "text": [
      "2018-09-20 15:34:31,520:WARNING:\n",
      "Failed to read header row 6.\n",
      "2008 01 01 2016 07 08\n",
      "\n",
      "Error msg: IndexError('list index out of range',)\n"
     ]
    },
    {
     "name": "stderr",
     "output_type": "stream",
     "text": [
      "2018-09-20 15:34:31,525:WARNING:\n",
      "Failed to read header row 6.\n",
      "2008 01 01 2016 07 08\n",
      "\n",
      "Error msg: IndexError('list index out of range',)\n"
     ]
    },
    {
     "name": "stderr",
     "output_type": "stream",
     "text": [
      "2018-09-20 15:34:31,531:WARNING:\n",
      "Failed to read header row 6.\n",
      "2008 01 01 2016 07 08\n",
      "\n",
      "Error msg: IndexError('list index out of range',)\n"
     ]
    },
    {
     "name": "stderr",
     "output_type": "stream",
     "text": [
      "2018-09-20 15:34:31,536:WARNING:\n",
      "Failed to read header row 6.\n",
      "2008 01 01 2016 07 08\n",
      "\n",
      "Error msg: IndexError('list index out of range',)\n"
     ]
    },
    {
     "name": "stderr",
     "output_type": "stream",
     "text": [
      "2018-09-20 15:34:31,544:WARNING:\n",
      "Failed to read header row 6.\n",
      "2008 01 01 2016 07 08\n",
      "\n",
      "Error msg: IndexError('list index out of range',)\n"
     ]
    },
    {
     "name": "stderr",
     "output_type": "stream",
     "text": [
      "2018-09-20 15:34:31,551:WARNING:\n",
      "Failed to read header row 6.\n",
      "2008 01 01 2016 07 08\n",
      "\n",
      "Error msg: IndexError('list index out of range',)\n"
     ]
    },
    {
     "name": "stderr",
     "output_type": "stream",
     "text": [
      "2018-09-20 15:34:31,561:WARNING:\n",
      "Failed to read header row 6.\n",
      "2008 01 01 2016 07 08\n",
      "\n",
      "Error msg: IndexError('list index out of range',)\n"
     ]
    },
    {
     "name": "stderr",
     "output_type": "stream",
     "text": [
      "2018-09-20 15:34:31,568:WARNING:\n",
      "Failed to read header row 6.\n",
      "2008 01 01 2016 07 08\n",
      "\n",
      "Error msg: IndexError('list index out of range',)\n"
     ]
    },
    {
     "name": "stderr",
     "output_type": "stream",
     "text": [
      "2018-09-20 15:34:31,576:WARNING:\n",
      "Failed to read header row 6.\n",
      "2008 01 01 2016 07 08\n",
      "\n",
      "Error msg: IndexError('list index out of range',)\n"
     ]
    },
    {
     "name": "stderr",
     "output_type": "stream",
     "text": [
      "2018-09-20 15:34:31,585:WARNING:\n",
      "Failed to read header row 6.\n",
      "2008 01 01 2016 07 08\n",
      "\n",
      "Error msg: IndexError('list index out of range',)\n"
     ]
    },
    {
     "name": "stderr",
     "output_type": "stream",
     "text": [
      "2018-09-20 15:34:31,597:WARNING:\n",
      "Failed to read header row 6.\n",
      "2008 01 01 2016 07 08\n",
      "\n",
      "Error msg: IndexError('list index out of range',)\n"
     ]
    },
    {
     "name": "stderr",
     "output_type": "stream",
     "text": [
      "2018-09-20 15:34:31,607:WARNING:\n",
      "Failed to read header row 6.\n",
      "2008 01 01 2016 07 08\n",
      "\n",
      "Error msg: IndexError('list index out of range',)\n"
     ]
    },
    {
     "name": "stderr",
     "output_type": "stream",
     "text": [
      "2018-09-20 15:34:31,614:WARNING:\n",
      "Failed to read header row 6.\n",
      "2008 01 01 2016 07 08\n",
      "\n",
      "Error msg: IndexError('list index out of range',)\n"
     ]
    },
    {
     "name": "stderr",
     "output_type": "stream",
     "text": [
      "2018-09-20 15:34:31,625:WARNING:\n",
      "Failed to read header row 6.\n",
      "2008 01 01 2016 07 08\n",
      "\n",
      "Error msg: IndexError('list index out of range',)\n"
     ]
    },
    {
     "name": "stderr",
     "output_type": "stream",
     "text": [
      "2018-09-20 15:34:31,631:WARNING:\n",
      "Failed to read header row 6.\n",
      "2008 01 01 2016 07 08\n",
      "\n",
      "Error msg: IndexError('list index out of range',)\n"
     ]
    },
    {
     "name": "stderr",
     "output_type": "stream",
     "text": [
      "2018-09-20 15:34:31,636:WARNING:\n",
      "Failed to read header row 6.\n",
      "2008 01 01 2016 07 08\n",
      "\n",
      "Error msg: IndexError('list index out of range',)\n"
     ]
    },
    {
     "name": "stderr",
     "output_type": "stream",
     "text": [
      "2018-09-20 15:34:31,642:WARNING:\n",
      "Failed to read header row 6.\n",
      "2008 01 01 2016 07 08\n",
      "\n",
      "Error msg: IndexError('list index out of range',)\n"
     ]
    },
    {
     "name": "stderr",
     "output_type": "stream",
     "text": [
      "2018-09-20 15:34:31,646:WARNING:\n",
      "Failed to read header row 6.\n",
      "2008 01 01 2016 07 08\n",
      "\n",
      "Error msg: IndexError('list index out of range',)\n"
     ]
    },
    {
     "name": "stderr",
     "output_type": "stream",
     "text": [
      "2018-09-20 15:34:31,651:WARNING:\n",
      "Failed to read header row 6.\n",
      "2008 01 01 2016 07 08\n",
      "\n",
      "Error msg: IndexError('list index out of range',)\n"
     ]
    },
    {
     "name": "stderr",
     "output_type": "stream",
     "text": [
      "2018-09-20 15:34:31,657:WARNING:\n",
      "Failed to read header row 6.\n",
      "2008 01 01 2016 07 08\n",
      "\n",
      "Error msg: IndexError('list index out of range',)\n"
     ]
    },
    {
     "name": "stderr",
     "output_type": "stream",
     "text": [
      "2018-09-20 15:34:31,664:WARNING:\n",
      "Failed to read header row 6.\n",
      "2008 01 01 2016 07 08\n",
      "\n",
      "Error msg: IndexError('list index out of range',)\n"
     ]
    },
    {
     "name": "stderr",
     "output_type": "stream",
     "text": [
      "2018-09-20 15:34:31,671:WARNING:\n",
      "Failed to read header row 6.\n",
      "2008 01 01 2016 07 08\n",
      "\n",
      "Error msg: IndexError('list index out of range',)\n"
     ]
    },
    {
     "name": "stderr",
     "output_type": "stream",
     "text": [
      "2018-09-20 15:34:31,677:WARNING:\n",
      "Failed to read header row 6.\n",
      "2008 01 01 2016 07 08\n",
      "\n",
      "Error msg: IndexError('list index out of range',)\n"
     ]
    },
    {
     "name": "stderr",
     "output_type": "stream",
     "text": [
      "2018-09-20 15:34:31,683:WARNING:\n",
      "Failed to read header row 6.\n",
      "2008 01 01 2016 07 08\n",
      "\n",
      "Error msg: IndexError('list index out of range',)\n"
     ]
    },
    {
     "name": "stderr",
     "output_type": "stream",
     "text": [
      "2018-09-20 15:34:31,690:WARNING:\n",
      "Failed to read header row 6.\n",
      "2008 01 01 2016 07 08\n",
      "\n",
      "Error msg: IndexError('list index out of range',)\n"
     ]
    },
    {
     "name": "stderr",
     "output_type": "stream",
     "text": [
      "2018-09-20 15:34:31,699:WARNING:\n",
      "Failed to read header row 6.\n",
      "2008 01 01 2016 07 08\n",
      "\n",
      "Error msg: IndexError('list index out of range',)\n"
     ]
    },
    {
     "name": "stderr",
     "output_type": "stream",
     "text": [
      "2018-09-20 15:34:31,707:WARNING:\n",
      "Failed to read header row 6.\n",
      "2008 01 01 2016 07 08\n",
      "\n",
      "Error msg: IndexError('list index out of range',)\n"
     ]
    },
    {
     "name": "stderr",
     "output_type": "stream",
     "text": [
      "2018-09-20 15:34:31,715:WARNING:\n",
      "Failed to read header row 6.\n",
      "2008 01 01 2016 07 08\n",
      "\n",
      "Error msg: IndexError('list index out of range',)\n"
     ]
    },
    {
     "name": "stderr",
     "output_type": "stream",
     "text": [
      "2018-09-20 15:34:31,723:WARNING:\n",
      "Failed to read header row 6.\n",
      "2008 01 01 2016 07 08\n",
      "\n",
      "Error msg: IndexError('list index out of range',)\n"
     ]
    },
    {
     "name": "stderr",
     "output_type": "stream",
     "text": [
      "2018-09-20 15:34:31,732:WARNING:\n",
      "Failed to read header row 6.\n",
      "2008 01 01 2016 07 08\n",
      "\n",
      "Error msg: IndexError('list index out of range',)\n"
     ]
    },
    {
     "name": "stderr",
     "output_type": "stream",
     "text": [
      "2018-09-20 15:34:31,741:WARNING:\n",
      "Failed to read header row 6.\n",
      "2008 01 01 2016 07 08\n",
      "\n",
      "Error msg: IndexError('list index out of range',)\n"
     ]
    },
    {
     "name": "stderr",
     "output_type": "stream",
     "text": [
      "2018-09-20 15:34:31,750:WARNING:\n",
      "Failed to read header row 6.\n",
      "2008 01 01 2016 07 08\n",
      "\n",
      "Error msg: IndexError('list index out of range',)\n"
     ]
    },
    {
     "name": "stderr",
     "output_type": "stream",
     "text": [
      "2018-09-20 15:34:31,759:WARNING:\n",
      "Failed to read header row 6.\n",
      "2008 01 01 2016 07 08\n",
      "\n",
      "Error msg: IndexError('list index out of range',)\n"
     ]
    },
    {
     "name": "stderr",
     "output_type": "stream",
     "text": [
      "2018-09-20 15:34:31,767:WARNING:\n",
      "Failed to read header row 6.\n",
      "2008 01 01 2016 07 08\n",
      "\n",
      "Error msg: IndexError('list index out of range',)\n"
     ]
    },
    {
     "name": "stderr",
     "output_type": "stream",
     "text": [
      "2018-09-20 15:34:31,777:WARNING:\n",
      "Failed to read header row 6.\n",
      "2008 01 01 2016 07 08\n",
      "\n",
      "Error msg: IndexError('list index out of range',)\n"
     ]
    },
    {
     "name": "stderr",
     "output_type": "stream",
     "text": [
      "2018-09-20 15:34:31,784:WARNING:\n",
      "Failed to read header row 6.\n",
      "2008 01 01 2016 07 08\n",
      "\n",
      "Error msg: IndexError('list index out of range',)\n"
     ]
    },
    {
     "name": "stderr",
     "output_type": "stream",
     "text": [
      "2018-09-20 15:34:31,790:WARNING:\n",
      "Failed to read header row 6.\n",
      "2008 01 01 2016 07 08\n",
      "\n",
      "Error msg: IndexError('list index out of range',)\n"
     ]
    },
    {
     "name": "stderr",
     "output_type": "stream",
     "text": [
      "2018-09-20 15:34:31,795:WARNING:\n",
      "Failed to read header row 6.\n",
      "2008 01 01 2016 07 08\n",
      "\n",
      "Error msg: IndexError('list index out of range',)\n"
     ]
    },
    {
     "name": "stderr",
     "output_type": "stream",
     "text": [
      "2018-09-20 15:34:31,800:WARNING:\n",
      "Failed to read header row 6.\n",
      "2008 01 01 2016 07 08\n",
      "\n",
      "Error msg: IndexError('list index out of range',)\n"
     ]
    },
    {
     "name": "stderr",
     "output_type": "stream",
     "text": [
      "2018-09-20 15:34:31,805:WARNING:\n",
      "Failed to read header row 6.\n",
      "2008 01 01 2016 07 08\n",
      "\n",
      "Error msg: IndexError('list index out of range',)\n"
     ]
    },
    {
     "name": "stderr",
     "output_type": "stream",
     "text": [
      "2018-09-20 15:34:31,811:WARNING:\n",
      "Failed to read header row 6.\n",
      "2008 01 01 2016 07 08\n",
      "\n",
      "Error msg: IndexError('list index out of range',)\n"
     ]
    },
    {
     "name": "stderr",
     "output_type": "stream",
     "text": [
      "2018-09-20 15:34:31,816:WARNING:\n",
      "Failed to read header row 6.\n",
      "2008 01 01 2016 07 08\n",
      "\n",
      "Error msg: IndexError('list index out of range',)\n"
     ]
    },
    {
     "name": "stderr",
     "output_type": "stream",
     "text": [
      "2018-09-20 15:34:31,822:WARNING:\n",
      "Failed to read header row 6.\n",
      "2008 01 01 2016 07 08\n",
      "\n",
      "Error msg: IndexError('list index out of range',)\n"
     ]
    },
    {
     "name": "stderr",
     "output_type": "stream",
     "text": [
      "2018-09-20 15:34:31,827:WARNING:\n",
      "Failed to read header row 6.\n",
      "2008 01 01 2016 07 08\n",
      "\n",
      "Error msg: IndexError('list index out of range',)\n"
     ]
    },
    {
     "name": "stderr",
     "output_type": "stream",
     "text": [
      "2018-09-20 15:34:31,832:WARNING:\n",
      "Failed to read header row 6.\n",
      "2008 01 01 2016 07 08\n",
      "\n",
      "Error msg: IndexError('list index out of range',)\n"
     ]
    },
    {
     "name": "stderr",
     "output_type": "stream",
     "text": [
      "2018-09-20 15:34:31,837:WARNING:\n",
      "Failed to read header row 6.\n",
      "2008 01 01 2016 07 08\n",
      "\n",
      "Error msg: IndexError('list index out of range',)\n"
     ]
    },
    {
     "name": "stderr",
     "output_type": "stream",
     "text": [
      "2018-09-20 15:34:31,842:WARNING:\n",
      "Failed to read header row 6.\n",
      "2008 01 01 2016 07 08\n",
      "\n",
      "Error msg: IndexError('list index out of range',)\n"
     ]
    },
    {
     "name": "stderr",
     "output_type": "stream",
     "text": [
      "2018-09-20 15:34:31,847:WARNING:\n",
      "Failed to read header row 6.\n",
      "2008 01 01 2016 07 08\n",
      "\n",
      "Error msg: IndexError('list index out of range',)\n"
     ]
    },
    {
     "name": "stderr",
     "output_type": "stream",
     "text": [
      "2018-09-20 15:34:31,852:WARNING:\n",
      "Failed to read header row 6.\n",
      "2008 01 01 2016 07 08\n",
      "\n",
      "Error msg: IndexError('list index out of range',)\n"
     ]
    },
    {
     "name": "stderr",
     "output_type": "stream",
     "text": [
      "2018-09-20 15:34:31,858:WARNING:\n",
      "Failed to read header row 6.\n",
      "2008 01 01 2016 07 08\n",
      "\n",
      "Error msg: IndexError('list index out of range',)\n"
     ]
    },
    {
     "name": "stderr",
     "output_type": "stream",
     "text": [
      "2018-09-20 15:34:31,866:WARNING:\n",
      "Failed to read header row 6.\n",
      "2008 01 01 2016 07 08\n",
      "\n",
      "Error msg: IndexError('list index out of range',)\n"
     ]
    },
    {
     "name": "stderr",
     "output_type": "stream",
     "text": [
      "2018-09-20 15:34:31,874:WARNING:\n",
      "Failed to read header row 6.\n",
      "2008 01 01 2016 07 08\n",
      "\n",
      "Error msg: IndexError('list index out of range',)\n"
     ]
    },
    {
     "name": "stderr",
     "output_type": "stream",
     "text": [
      "2018-09-20 15:34:31,882:WARNING:\n",
      "Failed to read header row 6.\n",
      "2008 01 01 2016 07 08\n",
      "\n",
      "Error msg: IndexError('list index out of range',)\n"
     ]
    },
    {
     "name": "stderr",
     "output_type": "stream",
     "text": [
      "2018-09-20 15:34:31,892:WARNING:\n",
      "Failed to read header row 6.\n",
      "2008 01 01 2016 07 08\n",
      "\n",
      "Error msg: IndexError('list index out of range',)\n"
     ]
    },
    {
     "name": "stderr",
     "output_type": "stream",
     "text": [
      "2018-09-20 15:34:31,904:WARNING:\n",
      "Failed to read header row 6.\n",
      "2008 01 01 2016 07 08\n",
      "\n",
      "Error msg: IndexError('list index out of range',)\n"
     ]
    },
    {
     "name": "stderr",
     "output_type": "stream",
     "text": [
      "2018-09-20 15:34:31,914:WARNING:\n",
      "Failed to read header row 6.\n",
      "2008 01 01 2016 07 08\n",
      "\n",
      "Error msg: IndexError('list index out of range',)\n"
     ]
    },
    {
     "name": "stderr",
     "output_type": "stream",
     "text": [
      "2018-09-20 15:34:31,929:WARNING:\n",
      "Failed to read header row 6.\n",
      "2008 01 01 2016 07 08\n",
      "\n",
      "Error msg: IndexError('list index out of range',)\n"
     ]
    },
    {
     "name": "stderr",
     "output_type": "stream",
     "text": [
      "2018-09-20 15:34:31,937:WARNING:\n",
      "Failed to read header row 6.\n",
      "2008 01 01 2016 07 08\n",
      "\n",
      "Error msg: IndexError('list index out of range',)\n"
     ]
    },
    {
     "name": "stderr",
     "output_type": "stream",
     "text": [
      "2018-09-20 15:34:31,944:WARNING:\n",
      "Failed to read header row 6.\n",
      "2008 01 01 2016 07 08\n",
      "\n",
      "Error msg: IndexError('list index out of range',)\n"
     ]
    },
    {
     "name": "stderr",
     "output_type": "stream",
     "text": [
      "2018-09-20 15:34:31,951:WARNING:\n",
      "Failed to read header row 6.\n",
      "2008 01 01 2016 07 08\n",
      "\n",
      "Error msg: IndexError('list index out of range',)\n"
     ]
    },
    {
     "name": "stderr",
     "output_type": "stream",
     "text": [
      "2018-09-20 15:34:31,959:WARNING:\n",
      "Failed to read header row 6.\n",
      "2008 01 01 2016 07 08\n",
      "\n",
      "Error msg: IndexError('list index out of range',)\n"
     ]
    },
    {
     "name": "stderr",
     "output_type": "stream",
     "text": [
      "2018-09-20 15:34:31,966:WARNING:\n",
      "Failed to read header row 6.\n",
      "2008 01 01 2016 07 08\n",
      "\n",
      "Error msg: IndexError('list index out of range',)\n"
     ]
    },
    {
     "name": "stderr",
     "output_type": "stream",
     "text": [
      "2018-09-20 15:34:31,974:WARNING:\n",
      "Failed to read header row 6.\n",
      "2008 01 01 2016 07 08\n",
      "\n",
      "Error msg: IndexError('list index out of range',)\n"
     ]
    },
    {
     "name": "stderr",
     "output_type": "stream",
     "text": [
      "2018-09-20 15:34:31,982:WARNING:\n",
      "Failed to read header row 6.\n",
      "2008 01 01 2016 07 08\n",
      "\n",
      "Error msg: IndexError('list index out of range',)\n"
     ]
    },
    {
     "name": "stderr",
     "output_type": "stream",
     "text": [
      "2018-09-20 15:34:31,989:WARNING:\n",
      "Failed to read header row 6.\n",
      "2008 01 01 2016 07 08\n",
      "\n",
      "Error msg: IndexError('list index out of range',)\n"
     ]
    },
    {
     "name": "stderr",
     "output_type": "stream",
     "text": [
      "2018-09-20 15:34:31,994:WARNING:\n",
      "Failed to read header row 6.\n",
      "2008 01 01 2016 07 08\n",
      "\n",
      "Error msg: IndexError('list index out of range',)\n"
     ]
    },
    {
     "name": "stderr",
     "output_type": "stream",
     "text": [
      "2018-09-20 15:34:31,999:WARNING:\n",
      "Failed to read header row 6.\n",
      "2008 01 01 2016 07 08\n",
      "\n",
      "Error msg: IndexError('list index out of range',)\n"
     ]
    },
    {
     "name": "stderr",
     "output_type": "stream",
     "text": [
      "2018-09-20 15:34:32,004:WARNING:\n",
      "Failed to read header row 6.\n",
      "2008 01 01 2016 07 08\n",
      "\n",
      "Error msg: IndexError('list index out of range',)\n"
     ]
    },
    {
     "name": "stderr",
     "output_type": "stream",
     "text": [
      "2018-09-20 15:34:32,011:WARNING:\n",
      "Failed to read header row 6.\n",
      "2008 01 01 2016 07 08\n",
      "\n",
      "Error msg: IndexError('list index out of range',)\n"
     ]
    },
    {
     "name": "stderr",
     "output_type": "stream",
     "text": [
      "2018-09-20 15:34:32,016:WARNING:\n",
      "Failed to read header row 6.\n",
      "2008 01 01 2016 07 08\n",
      "\n",
      "Error msg: IndexError('list index out of range',)\n"
     ]
    },
    {
     "name": "stderr",
     "output_type": "stream",
     "text": [
      "2018-09-20 15:34:32,021:WARNING:\n",
      "Failed to read header row 6.\n",
      "2008 01 01 2016 07 08\n",
      "\n",
      "Error msg: IndexError('list index out of range',)\n"
     ]
    },
    {
     "name": "stderr",
     "output_type": "stream",
     "text": [
      "2018-09-20 15:34:32,029:WARNING:\n",
      "Failed to read header row 6.\n",
      "2008 01 01 2016 07 08\n",
      "\n",
      "Error msg: IndexError('list index out of range',)\n"
     ]
    },
    {
     "name": "stderr",
     "output_type": "stream",
     "text": [
      "2018-09-20 15:34:32,037:WARNING:\n",
      "Failed to read header row 6.\n",
      "2008 01 01 2016 07 08\n",
      "\n",
      "Error msg: IndexError('list index out of range',)\n"
     ]
    },
    {
     "name": "stderr",
     "output_type": "stream",
     "text": [
      "2018-09-20 15:34:32,046:WARNING:\n",
      "Failed to read header row 6.\n",
      "2008 01 01 2016 07 08\n",
      "\n",
      "Error msg: IndexError('list index out of range',)\n"
     ]
    },
    {
     "name": "stderr",
     "output_type": "stream",
     "text": [
      "2018-09-20 15:34:32,053:WARNING:\n",
      "Failed to read header row 6.\n",
      "2008 01 01 2016 07 08\n",
      "\n",
      "Error msg: IndexError('list index out of range',)\n"
     ]
    },
    {
     "name": "stderr",
     "output_type": "stream",
     "text": [
      "2018-09-20 15:34:32,061:WARNING:\n",
      "Failed to read header row 6.\n",
      "2008 01 01 2016 07 08\n",
      "\n",
      "Error msg: IndexError('list index out of range',)\n"
     ]
    },
    {
     "name": "stderr",
     "output_type": "stream",
     "text": [
      "2018-09-20 15:34:32,071:WARNING:\n",
      "Failed to read header row 6.\n",
      "2008 01 01 2016 07 08\n",
      "\n",
      "Error msg: IndexError('list index out of range',)\n"
     ]
    },
    {
     "name": "stderr",
     "output_type": "stream",
     "text": [
      "2018-09-20 15:34:32,080:WARNING:\n",
      "Failed to read header row 6.\n",
      "2008 01 01 2016 07 08\n",
      "\n",
      "Error msg: IndexError('list index out of range',)\n"
     ]
    },
    {
     "name": "stderr",
     "output_type": "stream",
     "text": [
      "2018-09-20 15:34:32,087:WARNING:\n",
      "Failed to read header row 6.\n",
      "2008 01 01 2016 07 08\n",
      "\n",
      "Error msg: IndexError('list index out of range',)\n"
     ]
    },
    {
     "name": "stderr",
     "output_type": "stream",
     "text": [
      "2018-09-20 15:34:32,094:WARNING:\n",
      "Failed to read header row 6.\n",
      "2008 01 01 2016 07 08\n",
      "\n",
      "Error msg: IndexError('list index out of range',)\n"
     ]
    },
    {
     "name": "stderr",
     "output_type": "stream",
     "text": [
      "2018-09-20 15:34:32,099:WARNING:\n",
      "Failed to read header row 6.\n",
      "2008 01 01 2016 07 08\n",
      "\n",
      "Error msg: IndexError('list index out of range',)\n"
     ]
    },
    {
     "name": "stderr",
     "output_type": "stream",
     "text": [
      "2018-09-20 15:34:32,106:WARNING:\n",
      "Failed to read header row 6.\n",
      "2008 01 01 2016 07 08\n",
      "\n",
      "Error msg: IndexError('list index out of range',)\n"
     ]
    },
    {
     "name": "stderr",
     "output_type": "stream",
     "text": [
      "2018-09-20 15:34:32,111:WARNING:\n",
      "Failed to read header row 6.\n",
      "2008 01 01 2016 07 08\n",
      "\n",
      "Error msg: IndexError('list index out of range',)\n"
     ]
    },
    {
     "name": "stderr",
     "output_type": "stream",
     "text": [
      "2018-09-20 15:34:32,119:WARNING:\n",
      "Failed to read header row 6.\n",
      "2008 01 01 2016 07 08\n",
      "\n",
      "Error msg: IndexError('list index out of range',)\n"
     ]
    },
    {
     "name": "stderr",
     "output_type": "stream",
     "text": [
      "2018-09-20 15:34:32,128:WARNING:\n",
      "Failed to read header row 6.\n",
      "2008 01 01 2016 07 08\n",
      "\n",
      "Error msg: IndexError('list index out of range',)\n"
     ]
    },
    {
     "name": "stderr",
     "output_type": "stream",
     "text": [
      "2018-09-20 15:34:32,139:WARNING:\n",
      "Failed to read header row 6.\n",
      "2008 01 01 2016 07 08\n",
      "\n",
      "Error msg: IndexError('list index out of range',)\n"
     ]
    },
    {
     "name": "stderr",
     "output_type": "stream",
     "text": [
      "2018-09-20 15:34:32,153:WARNING:\n",
      "Failed to read header row 6.\n",
      "2008 01 01 2016 07 08\n",
      "\n",
      "Error msg: IndexError('list index out of range',)\n"
     ]
    },
    {
     "name": "stderr",
     "output_type": "stream",
     "text": [
      "2018-09-20 15:34:32,162:WARNING:\n",
      "Failed to read header row 6.\n",
      "2008 01 01 2016 07 08\n",
      "\n",
      "Error msg: IndexError('list index out of range',)\n"
     ]
    },
    {
     "name": "stderr",
     "output_type": "stream",
     "text": [
      "2018-09-20 15:34:32,169:WARNING:\n",
      "Failed to read header row 6.\n",
      "2008 01 01 2016 07 08\n",
      "\n",
      "Error msg: IndexError('list index out of range',)\n"
     ]
    },
    {
     "name": "stderr",
     "output_type": "stream",
     "text": [
      "2018-09-20 15:34:32,177:WARNING:\n",
      "Failed to read header row 6.\n",
      "2008 01 01 2016 07 08\n",
      "\n",
      "Error msg: IndexError('list index out of range',)\n"
     ]
    },
    {
     "name": "stderr",
     "output_type": "stream",
     "text": [
      "2018-09-20 15:34:32,185:WARNING:\n",
      "Failed to read header row 6.\n",
      "2008 01 01 2016 07 08\n",
      "\n",
      "Error msg: IndexError('list index out of range',)\n"
     ]
    },
    {
     "name": "stderr",
     "output_type": "stream",
     "text": [
      "2018-09-20 15:34:32,197:WARNING:\n",
      "Failed to read header row 6.\n",
      "2008 01 01 2016 07 08\n",
      "\n",
      "Error msg: IndexError('list index out of range',)\n"
     ]
    },
    {
     "name": "stderr",
     "output_type": "stream",
     "text": [
      "2018-09-20 15:34:32,211:WARNING:\n",
      "Failed to read header row 6.\n",
      "2008 01 01 2016 07 08\n",
      "\n",
      "Error msg: IndexError('list index out of range',)\n"
     ]
    },
    {
     "name": "stderr",
     "output_type": "stream",
     "text": [
      "2018-09-20 15:34:32,219:WARNING:\n",
      "Failed to read header row 6.\n",
      "2008 01 01 2016 07 08\n",
      "\n",
      "Error msg: IndexError('list index out of range',)\n"
     ]
    },
    {
     "name": "stderr",
     "output_type": "stream",
     "text": [
      "2018-09-20 15:34:32,227:WARNING:\n",
      "Failed to read header row 6.\n",
      "2008 01 01 2016 07 08\n",
      "\n",
      "Error msg: IndexError('list index out of range',)\n"
     ]
    },
    {
     "name": "stderr",
     "output_type": "stream",
     "text": [
      "2018-09-20 15:34:32,237:WARNING:\n",
      "Failed to read header row 6.\n",
      "2008 01 01 2016 07 08\n",
      "\n",
      "Error msg: IndexError('list index out of range',)\n"
     ]
    },
    {
     "name": "stderr",
     "output_type": "stream",
     "text": [
      "2018-09-20 15:34:32,243:WARNING:\n",
      "Failed to read header row 6.\n",
      "2008 01 01 2016 07 08\n",
      "\n",
      "Error msg: IndexError('list index out of range',)\n"
     ]
    },
    {
     "name": "stderr",
     "output_type": "stream",
     "text": [
      "2018-09-20 15:34:32,250:WARNING:\n",
      "Failed to read header row 6.\n",
      "2008 01 01 2016 07 08\n",
      "\n",
      "Error msg: IndexError('list index out of range',)\n"
     ]
    },
    {
     "name": "stderr",
     "output_type": "stream",
     "text": [
      "2018-09-20 15:34:32,256:WARNING:\n",
      "Failed to read header row 6.\n",
      "2008 01 01 2016 07 08\n",
      "\n",
      "Error msg: IndexError('list index out of range',)\n"
     ]
    },
    {
     "name": "stderr",
     "output_type": "stream",
     "text": [
      "2018-09-20 15:34:32,261:WARNING:\n",
      "Failed to read header row 6.\n",
      "2008 01 01 2016 07 08\n",
      "\n",
      "Error msg: IndexError('list index out of range',)\n"
     ]
    },
    {
     "name": "stderr",
     "output_type": "stream",
     "text": [
      "2018-09-20 15:34:32,267:WARNING:\n",
      "Failed to read header row 6.\n",
      "2008 01 01 2016 07 08\n",
      "\n",
      "Error msg: IndexError('list index out of range',)\n"
     ]
    },
    {
     "name": "stderr",
     "output_type": "stream",
     "text": [
      "2018-09-20 15:34:32,273:WARNING:\n",
      "Failed to read header row 6.\n",
      "2008 01 01 2016 07 08\n",
      "\n",
      "Error msg: IndexError('list index out of range',)\n"
     ]
    },
    {
     "name": "stderr",
     "output_type": "stream",
     "text": [
      "2018-09-20 15:34:32,279:WARNING:\n",
      "Failed to read header row 6.\n",
      "2008 01 01 2016 07 08\n",
      "\n",
      "Error msg: IndexError('list index out of range',)\n"
     ]
    },
    {
     "name": "stderr",
     "output_type": "stream",
     "text": [
      "2018-09-20 15:34:32,285:WARNING:\n",
      "Failed to read header row 6.\n",
      "2008 01 01 2016 07 08\n",
      "\n",
      "Error msg: IndexError('list index out of range',)\n"
     ]
    },
    {
     "name": "stderr",
     "output_type": "stream",
     "text": [
      "2018-09-20 15:34:32,292:WARNING:\n",
      "Failed to read header row 6.\n",
      "2008 01 01 2016 07 08\n",
      "\n",
      "Error msg: IndexError('list index out of range',)\n"
     ]
    },
    {
     "name": "stderr",
     "output_type": "stream",
     "text": [
      "2018-09-20 15:34:32,299:WARNING:\n",
      "Failed to read header row 6.\n",
      "2008 01 01 2016 07 08\n",
      "\n",
      "Error msg: IndexError('list index out of range',)\n"
     ]
    },
    {
     "name": "stderr",
     "output_type": "stream",
     "text": [
      "2018-09-20 15:34:32,307:WARNING:\n",
      "Failed to read header row 6.\n",
      "2008 01 01 2016 07 08\n",
      "\n",
      "Error msg: IndexError('list index out of range',)\n"
     ]
    },
    {
     "name": "stderr",
     "output_type": "stream",
     "text": [
      "2018-09-20 15:34:32,314:WARNING:\n",
      "Failed to read header row 6.\n",
      "2008 01 01 2016 07 08\n",
      "\n",
      "Error msg: IndexError('list index out of range',)\n"
     ]
    },
    {
     "name": "stderr",
     "output_type": "stream",
     "text": [
      "2018-09-20 15:34:32,321:WARNING:\n",
      "Failed to read header row 6.\n",
      "2008 01 01 2016 07 08\n",
      "\n",
      "Error msg: IndexError('list index out of range',)\n"
     ]
    },
    {
     "name": "stderr",
     "output_type": "stream",
     "text": [
      "2018-09-20 15:34:32,328:WARNING:\n",
      "Failed to read header row 6.\n",
      "2008 01 01 2016 07 08\n",
      "\n",
      "Error msg: IndexError('list index out of range',)\n"
     ]
    },
    {
     "name": "stderr",
     "output_type": "stream",
     "text": [
      "2018-09-20 15:34:32,335:WARNING:\n",
      "Failed to read header row 6.\n",
      "2008 01 01 2016 07 08\n",
      "\n",
      "Error msg: IndexError('list index out of range',)\n"
     ]
    },
    {
     "name": "stderr",
     "output_type": "stream",
     "text": [
      "2018-09-20 15:34:32,342:WARNING:\n",
      "Failed to read header row 6.\n",
      "2008 01 01 2016 07 08\n",
      "\n",
      "Error msg: IndexError('list index out of range',)\n"
     ]
    },
    {
     "name": "stderr",
     "output_type": "stream",
     "text": [
      "2018-09-20 15:34:32,349:WARNING:\n",
      "Failed to read header row 6.\n",
      "2008 01 01 2016 07 08\n",
      "\n",
      "Error msg: IndexError('list index out of range',)\n"
     ]
    },
    {
     "name": "stderr",
     "output_type": "stream",
     "text": [
      "2018-09-20 15:34:32,356:WARNING:\n",
      "Failed to read header row 6.\n",
      "2008 01 01 2016 07 08\n",
      "\n",
      "Error msg: IndexError('list index out of range',)\n"
     ]
    },
    {
     "name": "stderr",
     "output_type": "stream",
     "text": [
      "2018-09-20 15:34:32,363:WARNING:\n",
      "Failed to read header row 6.\n",
      "2008 01 01 2016 07 08\n",
      "\n",
      "Error msg: IndexError('list index out of range',)\n"
     ]
    },
    {
     "name": "stderr",
     "output_type": "stream",
     "text": [
      "2018-09-20 15:34:32,368:WARNING:\n",
      "Failed to read header row 6.\n",
      "2008 01 01 2016 07 08\n",
      "\n",
      "Error msg: IndexError('list index out of range',)\n"
     ]
    },
    {
     "name": "stderr",
     "output_type": "stream",
     "text": [
      "2018-09-20 15:34:32,373:WARNING:\n",
      "Failed to read header row 6.\n",
      "2008 01 01 2016 07 08\n",
      "\n",
      "Error msg: IndexError('list index out of range',)\n"
     ]
    },
    {
     "name": "stderr",
     "output_type": "stream",
     "text": [
      "2018-09-20 15:34:32,378:WARNING:\n",
      "Failed to read header row 6.\n",
      "2008 01 01 2016 07 08\n",
      "\n",
      "Error msg: IndexError('list index out of range',)\n"
     ]
    },
    {
     "name": "stderr",
     "output_type": "stream",
     "text": [
      "2018-09-20 15:34:32,383:WARNING:\n",
      "Failed to read header row 6.\n",
      "2008 01 01 2016 07 08\n",
      "\n",
      "Error msg: IndexError('list index out of range',)\n"
     ]
    },
    {
     "name": "stderr",
     "output_type": "stream",
     "text": [
      "2018-09-20 15:34:32,388:WARNING:\n",
      "Failed to read header row 6.\n",
      "2008 01 01 2016 07 08\n",
      "\n",
      "Error msg: IndexError('list index out of range',)\n"
     ]
    },
    {
     "name": "stderr",
     "output_type": "stream",
     "text": [
      "2018-09-20 15:34:32,393:WARNING:\n",
      "Failed to read header row 6.\n",
      "2008 01 01 2016 07 08\n",
      "\n",
      "Error msg: IndexError('list index out of range',)\n"
     ]
    },
    {
     "name": "stderr",
     "output_type": "stream",
     "text": [
      "2018-09-20 15:34:32,398:WARNING:\n",
      "Failed to read header row 6.\n",
      "2008 01 01 2016 07 08\n",
      "\n",
      "Error msg: IndexError('list index out of range',)\n"
     ]
    },
    {
     "name": "stderr",
     "output_type": "stream",
     "text": [
      "2018-09-20 15:34:32,404:WARNING:\n",
      "Failed to read header row 6.\n",
      "2008 01 01 2016 07 08\n",
      "\n",
      "Error msg: IndexError('list index out of range',)\n"
     ]
    },
    {
     "name": "stderr",
     "output_type": "stream",
     "text": [
      "2018-09-20 15:34:32,408:WARNING:\n",
      "Failed to read header row 6.\n",
      "2008 01 01 2016 07 08\n",
      "\n",
      "Error msg: IndexError('list index out of range',)\n"
     ]
    },
    {
     "name": "stderr",
     "output_type": "stream",
     "text": [
      "2018-09-20 15:34:32,413:WARNING:\n",
      "Failed to read header row 6.\n",
      "2008 01 01 2016 07 08\n",
      "\n",
      "Error msg: IndexError('list index out of range',)\n"
     ]
    },
    {
     "name": "stderr",
     "output_type": "stream",
     "text": [
      "2018-09-20 15:34:32,418:WARNING:\n",
      "Failed to read header row 6.\n",
      "2008 01 01 2016 07 08\n",
      "\n",
      "Error msg: IndexError('list index out of range',)\n"
     ]
    },
    {
     "name": "stderr",
     "output_type": "stream",
     "text": [
      "2018-09-20 15:34:32,423:WARNING:\n",
      "Failed to read header row 6.\n",
      "2008 01 01 2016 07 08\n",
      "\n",
      "Error msg: IndexError('list index out of range',)\n"
     ]
    },
    {
     "name": "stderr",
     "output_type": "stream",
     "text": [
      "2018-09-20 15:34:32,429:WARNING:\n",
      "Failed to read header row 6.\n",
      "2008 01 01 2016 07 08\n",
      "\n",
      "Error msg: IndexError('list index out of range',)\n"
     ]
    },
    {
     "name": "stderr",
     "output_type": "stream",
     "text": [
      "2018-09-20 15:34:32,434:WARNING:\n",
      "Failed to read header row 6.\n",
      "2008 01 01 2016 07 08\n",
      "\n",
      "Error msg: IndexError('list index out of range',)\n"
     ]
    },
    {
     "name": "stderr",
     "output_type": "stream",
     "text": [
      "2018-09-20 15:34:32,439:WARNING:\n",
      "Failed to read header row 6.\n",
      "2008 01 01 2016 07 08\n",
      "\n",
      "Error msg: IndexError('list index out of range',)\n"
     ]
    },
    {
     "name": "stderr",
     "output_type": "stream",
     "text": [
      "2018-09-20 15:34:32,445:WARNING:\n",
      "Failed to read header row 6.\n",
      "2008 01 01 2016 07 08\n",
      "\n",
      "Error msg: IndexError('list index out of range',)\n"
     ]
    },
    {
     "name": "stderr",
     "output_type": "stream",
     "text": [
      "2018-09-20 15:34:32,450:WARNING:\n",
      "Failed to read header row 6.\n",
      "2008 01 01 2016 07 08\n",
      "\n",
      "Error msg: IndexError('list index out of range',)\n"
     ]
    },
    {
     "name": "stderr",
     "output_type": "stream",
     "text": [
      "2018-09-20 15:34:32,455:WARNING:\n",
      "Failed to read header row 6.\n",
      "2008 01 01 2016 07 08\n",
      "\n",
      "Error msg: IndexError('list index out of range',)\n"
     ]
    },
    {
     "name": "stderr",
     "output_type": "stream",
     "text": [
      "2018-09-20 15:34:32,460:WARNING:\n",
      "Failed to read header row 6.\n",
      "2008 01 01 2016 07 08\n",
      "\n",
      "Error msg: IndexError('list index out of range',)\n"
     ]
    },
    {
     "name": "stderr",
     "output_type": "stream",
     "text": [
      "2018-09-20 15:34:32,469:WARNING:\n",
      "Failed to read header row 6.\n",
      "2008 01 01 2016 07 08\n",
      "\n",
      "Error msg: IndexError('list index out of range',)\n"
     ]
    },
    {
     "name": "stderr",
     "output_type": "stream",
     "text": [
      "2018-09-20 15:34:32,477:WARNING:\n",
      "Failed to read header row 6.\n",
      "2008 01 01 2016 07 08\n",
      "\n",
      "Error msg: IndexError('list index out of range',)\n"
     ]
    },
    {
     "name": "stderr",
     "output_type": "stream",
     "text": [
      "2018-09-20 15:34:32,486:WARNING:\n",
      "Failed to read header row 6.\n",
      "2008 01 01 2016 07 08\n",
      "\n",
      "Error msg: IndexError('list index out of range',)\n"
     ]
    },
    {
     "name": "stderr",
     "output_type": "stream",
     "text": [
      "2018-09-20 15:34:32,494:WARNING:\n",
      "Failed to read header row 6.\n",
      "2008 01 01 2016 07 08\n",
      "\n",
      "Error msg: IndexError('list index out of range',)\n"
     ]
    },
    {
     "name": "stderr",
     "output_type": "stream",
     "text": [
      "2018-09-20 15:34:32,502:WARNING:\n",
      "Failed to read header row 6.\n",
      "2008 01 01 2016 07 08\n",
      "\n",
      "Error msg: IndexError('list index out of range',)\n"
     ]
    },
    {
     "name": "stderr",
     "output_type": "stream",
     "text": [
      "2018-09-20 15:34:32,509:WARNING:\n",
      "Failed to read header row 6.\n",
      "2008 01 01 2016 07 08\n",
      "\n",
      "Error msg: IndexError('list index out of range',)\n"
     ]
    },
    {
     "name": "stderr",
     "output_type": "stream",
     "text": [
      "2018-09-20 15:34:32,517:WARNING:\n",
      "Failed to read header row 6.\n",
      "2008 01 01 2016 07 08\n",
      "\n",
      "Error msg: IndexError('list index out of range',)\n"
     ]
    },
    {
     "name": "stderr",
     "output_type": "stream",
     "text": [
      "2018-09-20 15:34:32,522:WARNING:\n",
      "Failed to read header row 6.\n",
      "2008 01 01 2016 07 08\n",
      "\n",
      "Error msg: IndexError('list index out of range',)\n"
     ]
    },
    {
     "name": "stderr",
     "output_type": "stream",
     "text": [
      "2018-09-20 15:34:32,529:WARNING:\n",
      "Failed to read header row 6.\n",
      "2008 01 01 2016 07 08\n",
      "\n",
      "Error msg: IndexError('list index out of range',)\n"
     ]
    },
    {
     "name": "stderr",
     "output_type": "stream",
     "text": [
      "2018-09-20 15:34:32,535:WARNING:\n",
      "Failed to read header row 6.\n",
      "2008 01 01 2016 07 08\n",
      "\n",
      "Error msg: IndexError('list index out of range',)\n"
     ]
    },
    {
     "name": "stderr",
     "output_type": "stream",
     "text": [
      "2018-09-20 15:34:32,541:WARNING:\n",
      "Failed to read header row 6.\n",
      "2008 01 01 2016 07 08\n",
      "\n",
      "Error msg: IndexError('list index out of range',)\n"
     ]
    },
    {
     "name": "stderr",
     "output_type": "stream",
     "text": [
      "2018-09-20 15:34:32,546:WARNING:\n",
      "Failed to read header row 6.\n",
      "2008 01 01 2016 07 08\n",
      "\n",
      "Error msg: IndexError('list index out of range',)\n"
     ]
    },
    {
     "name": "stderr",
     "output_type": "stream",
     "text": [
      "2018-09-20 15:34:32,551:WARNING:\n",
      "Failed to read header row 6.\n",
      "2008 01 01 2016 07 08\n",
      "\n",
      "Error msg: IndexError('list index out of range',)\n"
     ]
    },
    {
     "name": "stderr",
     "output_type": "stream",
     "text": [
      "2018-09-20 15:34:32,556:WARNING:\n",
      "Failed to read header row 6.\n",
      "2008 01 01 2016 07 08\n",
      "\n",
      "Error msg: IndexError('list index out of range',)\n"
     ]
    },
    {
     "name": "stderr",
     "output_type": "stream",
     "text": [
      "2018-09-20 15:34:32,560:WARNING:\n",
      "Failed to read header row 6.\n",
      "2008 01 01 2016 07 08\n",
      "\n",
      "Error msg: IndexError('list index out of range',)\n"
     ]
    },
    {
     "name": "stderr",
     "output_type": "stream",
     "text": [
      "2018-09-20 15:34:32,564:WARNING:\n",
      "Failed to read header row 6.\n",
      "2008 01 01 2016 07 08\n",
      "\n",
      "Error msg: IndexError('list index out of range',)\n"
     ]
    },
    {
     "name": "stderr",
     "output_type": "stream",
     "text": [
      "2018-09-20 15:34:32,569:WARNING:\n",
      "Failed to read header row 6.\n",
      "2008 01 01 2016 07 08\n",
      "\n",
      "Error msg: IndexError('list index out of range',)\n"
     ]
    },
    {
     "name": "stderr",
     "output_type": "stream",
     "text": [
      "2018-09-20 15:34:32,574:WARNING:\n",
      "Failed to read header row 6.\n",
      "2008 01 01 2016 07 08\n",
      "\n",
      "Error msg: IndexError('list index out of range',)\n"
     ]
    },
    {
     "name": "stderr",
     "output_type": "stream",
     "text": [
      "2018-09-20 15:34:32,579:WARNING:\n",
      "Failed to read header row 6.\n",
      "2008 01 01 2016 07 08\n",
      "\n",
      "Error msg: IndexError('list index out of range',)\n"
     ]
    },
    {
     "name": "stderr",
     "output_type": "stream",
     "text": [
      "2018-09-20 15:34:32,585:WARNING:\n",
      "Failed to read header row 6.\n",
      "2008 01 01 2016 07 08\n",
      "\n",
      "Error msg: IndexError('list index out of range',)\n"
     ]
    },
    {
     "name": "stderr",
     "output_type": "stream",
     "text": [
      "2018-09-20 15:34:32,589:WARNING:\n",
      "Failed to read header row 6.\n",
      "2008 01 01 2016 07 08\n",
      "\n",
      "Error msg: IndexError('list index out of range',)\n"
     ]
    },
    {
     "name": "stderr",
     "output_type": "stream",
     "text": [
      "2018-09-20 15:34:32,594:WARNING:\n",
      "Failed to read header row 6.\n",
      "2008 01 01 2016 07 08\n",
      "\n",
      "Error msg: IndexError('list index out of range',)\n"
     ]
    },
    {
     "name": "stderr",
     "output_type": "stream",
     "text": [
      "2018-09-20 15:34:32,600:WARNING:\n",
      "Failed to read header row 6.\n",
      "2008 01 01 2016 07 08\n",
      "\n",
      "Error msg: IndexError('list index out of range',)\n"
     ]
    },
    {
     "name": "stderr",
     "output_type": "stream",
     "text": [
      "2018-09-20 15:34:32,604:WARNING:\n",
      "Failed to read header row 6.\n",
      "2008 01 01 2016 07 08\n",
      "\n",
      "Error msg: IndexError('list index out of range',)\n"
     ]
    },
    {
     "name": "stderr",
     "output_type": "stream",
     "text": [
      "2018-09-20 15:34:32,609:WARNING:\n",
      "Failed to read header row 6.\n",
      "2008 01 01 2016 07 08\n",
      "\n",
      "Error msg: IndexError('list index out of range',)"
     ]
    },
    {
     "name": "stderr",
     "output_type": "stream",
     "text": [
      "\n"
     ]
    },
    {
     "name": "stderr",
     "output_type": "stream",
     "text": [
      "2018-09-20 15:34:32,615:WARNING:\n",
      "Failed to read header row 6.\n",
      "2008 01 01 2016 07 08\n",
      "\n",
      "Error msg: IndexError('list index out of range',)\n"
     ]
    },
    {
     "name": "stderr",
     "output_type": "stream",
     "text": [
      "2018-09-20 15:34:32,619:WARNING:\n",
      "Failed to read header row 6.\n",
      "2008 01 01 2016 07 08\n",
      "\n",
      "Error msg: IndexError('list index out of range',)\n"
     ]
    },
    {
     "name": "stderr",
     "output_type": "stream",
     "text": [
      "2018-09-20 15:34:32,624:WARNING:\n",
      "Failed to read header row 6.\n",
      "2008 01 01 2016 07 08\n",
      "\n",
      "Error msg: IndexError('list index out of range',)\n"
     ]
    },
    {
     "name": "stderr",
     "output_type": "stream",
     "text": [
      "2018-09-20 15:34:32,633:WARNING:\n",
      "Failed to read header row 6.\n",
      "2008 01 01 2016 07 08\n",
      "\n",
      "Error msg: IndexError('list index out of range',)\n"
     ]
    },
    {
     "name": "stderr",
     "output_type": "stream",
     "text": [
      "2018-09-20 15:34:32,640:WARNING:\n",
      "Failed to read header row 6.\n",
      "2008 01 01 2016 07 08\n",
      "\n",
      "Error msg: IndexError('list index out of range',)\n"
     ]
    },
    {
     "name": "stderr",
     "output_type": "stream",
     "text": [
      "2018-09-20 15:34:32,649:WARNING:\n",
      "Failed to read header row 6.\n",
      "2008 01 01 2016 07 08\n",
      "\n",
      "Error msg: IndexError('list index out of range',)\n"
     ]
    },
    {
     "name": "stderr",
     "output_type": "stream",
     "text": [
      "2018-09-20 15:34:32,657:WARNING:\n",
      "Failed to read header row 6.\n",
      "2008 01 01 2016 07 08\n",
      "\n",
      "Error msg: IndexError('list index out of range',)\n"
     ]
    },
    {
     "name": "stderr",
     "output_type": "stream",
     "text": [
      "2018-09-20 15:34:32,665:WARNING:\n",
      "Failed to read header row 6.\n",
      "2008 01 01 2016 07 08\n",
      "\n",
      "Error msg: IndexError('list index out of range',)\n"
     ]
    },
    {
     "name": "stderr",
     "output_type": "stream",
     "text": [
      "2018-09-20 15:34:32,671:WARNING:\n",
      "Failed to read header row 6.\n",
      "2008 01 01 2016 07 08\n",
      "\n",
      "Error msg: IndexError('list index out of range',)\n"
     ]
    },
    {
     "name": "stderr",
     "output_type": "stream",
     "text": [
      "2018-09-20 15:34:32,677:WARNING:\n",
      "Failed to read header row 6.\n",
      "2008 01 01 2016 07 08\n",
      "\n",
      "Error msg: IndexError('list index out of range',)\n"
     ]
    },
    {
     "name": "stderr",
     "output_type": "stream",
     "text": [
      "2018-09-20 15:34:32,683:WARNING:\n",
      "Failed to read header row 6.\n",
      "2008 01 01 2016 07 08\n",
      "\n",
      "Error msg: IndexError('list index out of range',)\n"
     ]
    },
    {
     "name": "stderr",
     "output_type": "stream",
     "text": [
      "2018-09-20 15:34:32,690:WARNING:\n",
      "Failed to read header row 6.\n",
      "2008 01 01 2016 07 08\n",
      "\n",
      "Error msg: IndexError('list index out of range',)\n"
     ]
    },
    {
     "name": "stderr",
     "output_type": "stream",
     "text": [
      "2018-09-20 15:34:32,696:WARNING:\n",
      "Failed to read header row 6.\n",
      "2008 01 01 2016 07 08\n",
      "\n",
      "Error msg: IndexError('list index out of range',)\n"
     ]
    },
    {
     "name": "stderr",
     "output_type": "stream",
     "text": [
      "2018-09-20 15:34:32,701:WARNING:\n",
      "Failed to read header row 6.\n",
      "2008 01 01 2016 07 08\n",
      "\n",
      "Error msg: IndexError('list index out of range',)\n"
     ]
    },
    {
     "name": "stderr",
     "output_type": "stream",
     "text": [
      "2018-09-20 15:34:32,707:WARNING:\n",
      "Failed to read header row 6.\n",
      "2008 01 01 2016 07 08\n",
      "\n",
      "Error msg: IndexError('list index out of range',)\n"
     ]
    },
    {
     "name": "stderr",
     "output_type": "stream",
     "text": [
      "2018-09-20 15:34:32,713:WARNING:\n",
      "Failed to read header row 6.\n",
      "2008 01 01 2016 07 08\n",
      "\n",
      "Error msg: IndexError('list index out of range',)\n"
     ]
    },
    {
     "name": "stderr",
     "output_type": "stream",
     "text": [
      "2018-09-20 15:34:32,718:WARNING:\n",
      "Failed to read header row 6.\n",
      "2008 01 01 2016 07 08\n",
      "\n",
      "Error msg: IndexError('list index out of range',)\n"
     ]
    },
    {
     "name": "stderr",
     "output_type": "stream",
     "text": [
      "2018-09-20 15:34:32,725:WARNING:\n",
      "Failed to read header row 6.\n",
      "2008 01 01 2016 07 08\n",
      "\n",
      "Error msg: IndexError('list index out of range',)\n"
     ]
    },
    {
     "name": "stderr",
     "output_type": "stream",
     "text": [
      "2018-09-20 15:34:32,731:WARNING:\n",
      "Failed to read header row 6.\n",
      "2008 01 01 2016 07 08\n",
      "\n",
      "Error msg: IndexError('list index out of range',)\n"
     ]
    },
    {
     "name": "stderr",
     "output_type": "stream",
     "text": [
      "2018-09-20 15:34:32,737:WARNING:\n",
      "Failed to read header row 6.\n",
      "2008 01 01 2016 07 08\n",
      "\n",
      "Error msg: IndexError('list index out of range',)\n"
     ]
    },
    {
     "name": "stderr",
     "output_type": "stream",
     "text": [
      "2018-09-20 15:34:32,743:WARNING:\n",
      "Failed to read header row 6.\n",
      "2008 01 01 2016 07 08\n",
      "\n",
      "Error msg: IndexError('list index out of range',)\n"
     ]
    },
    {
     "name": "stderr",
     "output_type": "stream",
     "text": [
      "2018-09-20 15:34:32,748:WARNING:\n",
      "Failed to read header row 6.\n",
      "2008 01 01 2016 07 08\n",
      "\n",
      "Error msg: IndexError('list index out of range',)\n"
     ]
    },
    {
     "name": "stderr",
     "output_type": "stream",
     "text": [
      "2018-09-20 15:34:32,754:WARNING:\n",
      "Failed to read header row 6.\n",
      "2008 01 01 2016 07 08\n",
      "\n",
      "Error msg: IndexError('list index out of range',)\n"
     ]
    },
    {
     "name": "stderr",
     "output_type": "stream",
     "text": [
      "2018-09-20 15:34:32,760:WARNING:\n",
      "Failed to read header row 6.\n",
      "2008 01 01 2016 07 08\n",
      "\n",
      "Error msg: IndexError('list index out of range',)\n"
     ]
    },
    {
     "name": "stderr",
     "output_type": "stream",
     "text": [
      "2018-09-20 15:34:32,766:WARNING:\n",
      "Failed to read header row 6.\n",
      "2008 01 01 2016 07 08\n",
      "\n",
      "Error msg: IndexError('list index out of range',)\n"
     ]
    },
    {
     "name": "stderr",
     "output_type": "stream",
     "text": [
      "2018-09-20 15:34:32,772:WARNING:\n",
      "Failed to read header row 6.\n",
      "2008 01 01 2016 07 08\n",
      "\n",
      "Error msg: IndexError('list index out of range',)\n"
     ]
    },
    {
     "name": "stderr",
     "output_type": "stream",
     "text": [
      "2018-09-20 15:34:32,779:WARNING:\n",
      "Failed to read header row 6.\n",
      "2008 01 01 2016 07 08\n",
      "\n",
      "Error msg: IndexError('list index out of range',)\n"
     ]
    },
    {
     "name": "stderr",
     "output_type": "stream",
     "text": [
      "2018-09-20 15:34:32,785:WARNING:\n",
      "Failed to read header row 6.\n",
      "2008 01 01 2016 07 08\n",
      "\n",
      "Error msg: IndexError('list index out of range',)\n"
     ]
    },
    {
     "name": "stderr",
     "output_type": "stream",
     "text": [
      "2018-09-20 15:34:32,791:WARNING:\n",
      "Failed to read header row 6.\n",
      "2008 01 01 2016 07 08\n",
      "\n",
      "Error msg: IndexError('list index out of range',)\n"
     ]
    },
    {
     "name": "stderr",
     "output_type": "stream",
     "text": [
      "2018-09-20 15:34:32,797:WARNING:\n",
      "Failed to read header row 6.\n",
      "2008 01 01 2016 07 08\n",
      "\n",
      "Error msg: IndexError('list index out of range',)\n"
     ]
    },
    {
     "name": "stderr",
     "output_type": "stream",
     "text": [
      "2018-09-20 15:34:32,802:WARNING:\n",
      "Failed to read header row 6.\n",
      "2008 01 01 2016 07 08\n",
      "\n",
      "Error msg: IndexError('list index out of range',)\n"
     ]
    },
    {
     "name": "stderr",
     "output_type": "stream",
     "text": [
      "2018-09-20 15:34:32,807:WARNING:\n",
      "Failed to read header row 6.\n",
      "2008 01 01 2016 07 08\n",
      "\n",
      "Error msg: IndexError('list index out of range',)\n"
     ]
    },
    {
     "name": "stderr",
     "output_type": "stream",
     "text": [
      "2018-09-20 15:34:32,812:WARNING:\n",
      "Failed to read header row 6.\n",
      "2008 01 01 2016 07 08\n",
      "\n",
      "Error msg: IndexError('list index out of range',)\n"
     ]
    },
    {
     "name": "stderr",
     "output_type": "stream",
     "text": [
      "2018-09-20 15:34:32,817:WARNING:\n",
      "Failed to read header row 6.\n",
      "2008 01 01 2016 07 08\n",
      "\n",
      "Error msg: IndexError('list index out of range',)\n"
     ]
    },
    {
     "name": "stderr",
     "output_type": "stream",
     "text": [
      "2018-09-20 15:34:32,823:WARNING:\n",
      "Failed to read header row 6.\n",
      "2008 01 01 2016 07 08\n",
      "\n",
      "Error msg: IndexError('list index out of range',)\n"
     ]
    },
    {
     "name": "stderr",
     "output_type": "stream",
     "text": [
      "2018-09-20 15:34:32,828:WARNING:\n",
      "Failed to read header row 6.\n",
      "2008 01 01 2016 07 08\n",
      "\n",
      "Error msg: IndexError('list index out of range',)\n"
     ]
    },
    {
     "name": "stderr",
     "output_type": "stream",
     "text": [
      "2018-09-20 15:34:32,834:WARNING:\n",
      "Failed to read header row 6.\n",
      "2008 01 01 2016 07 08\n",
      "\n",
      "Error msg: IndexError('list index out of range',)\n"
     ]
    },
    {
     "name": "stderr",
     "output_type": "stream",
     "text": [
      "2018-09-20 15:34:32,838:WARNING:\n",
      "Failed to read header row 6.\n",
      "2008 01 01 2016 07 08\n",
      "\n",
      "Error msg: IndexError('list index out of range',)\n"
     ]
    },
    {
     "name": "stderr",
     "output_type": "stream",
     "text": [
      "2018-09-20 15:34:32,843:WARNING:\n",
      "Failed to read header row 6.\n",
      "2008 01 01 2016 07 08\n",
      "\n",
      "Error msg: IndexError('list index out of range',)\n"
     ]
    },
    {
     "name": "stderr",
     "output_type": "stream",
     "text": [
      "2018-09-20 15:34:32,849:WARNING:\n",
      "Failed to read header row 6.\n",
      "2008 01 01 2016 07 08\n",
      "\n",
      "Error msg: IndexError('list index out of range',)\n"
     ]
    },
    {
     "name": "stderr",
     "output_type": "stream",
     "text": [
      "2018-09-20 15:34:32,853:WARNING:\n",
      "Failed to read header row 6.\n",
      "2008 01 01 2016 07 08\n",
      "\n",
      "Error msg: IndexError('list index out of range',)\n"
     ]
    },
    {
     "name": "stderr",
     "output_type": "stream",
     "text": [
      "2018-09-20 15:34:32,858:WARNING:\n",
      "Failed to read header row 6.\n",
      "2008 01 01 2016 07 08\n",
      "\n",
      "Error msg: IndexError('list index out of range',)\n"
     ]
    },
    {
     "name": "stderr",
     "output_type": "stream",
     "text": [
      "2018-09-20 15:34:32,864:WARNING:\n",
      "Failed to read header row 6.\n",
      "2008 01 01 2016 07 08\n",
      "\n",
      "Error msg: IndexError('list index out of range',)\n"
     ]
    },
    {
     "name": "stderr",
     "output_type": "stream",
     "text": [
      "2018-09-20 15:34:32,868:WARNING:\n",
      "Failed to read header row 6.\n",
      "2008 01 01 2016 07 08\n",
      "\n",
      "Error msg: IndexError('list index out of range',)\n"
     ]
    },
    {
     "name": "stderr",
     "output_type": "stream",
     "text": [
      "2018-09-20 15:34:32,873:WARNING:\n",
      "Failed to read header row 6.\n",
      "2008 01 01 2016 07 08\n",
      "\n",
      "Error msg: IndexError('list index out of range',)\n"
     ]
    },
    {
     "name": "stderr",
     "output_type": "stream",
     "text": [
      "2018-09-20 15:34:32,879:WARNING:\n",
      "Failed to read header row 6.\n",
      "2008 01 01 2016 07 08\n",
      "\n",
      "Error msg: IndexError('list index out of range',)\n"
     ]
    },
    {
     "name": "stderr",
     "output_type": "stream",
     "text": [
      "2018-09-20 15:34:32,884:WARNING:\n",
      "Failed to read header row 6.\n",
      "2008 01 01 2016 07 08\n",
      "\n",
      "Error msg: IndexError('list index out of range',)"
     ]
    },
    {
     "name": "stderr",
     "output_type": "stream",
     "text": [
      "\n"
     ]
    },
    {
     "name": "stderr",
     "output_type": "stream",
     "text": [
      "2018-09-20 15:34:32,889:WARNING:\n",
      "Failed to read header row 6.\n",
      "2008 01 01 2016 07 08\n",
      "\n",
      "Error msg: IndexError('list index out of range',)\n"
     ]
    },
    {
     "name": "stderr",
     "output_type": "stream",
     "text": [
      "2018-09-20 15:34:32,895:WARNING:\n",
      "Failed to read header row 6.\n",
      "2008 01 01 2016 07 08\n",
      "\n",
      "Error msg: IndexError('list index out of range',)\n"
     ]
    },
    {
     "name": "stderr",
     "output_type": "stream",
     "text": [
      "2018-09-20 15:34:32,900:WARNING:\n",
      "Failed to read header row 6.\n",
      "2008 01 01 2016 07 08\n",
      "\n",
      "Error msg: IndexError('list index out of range',)\n"
     ]
    },
    {
     "name": "stderr",
     "output_type": "stream",
     "text": [
      "2018-09-20 15:34:32,907:WARNING:\n",
      "Failed to read header row 6.\n",
      "2008 01 01 2016 07 08\n",
      "\n",
      "Error msg: IndexError('list index out of range',)\n"
     ]
    },
    {
     "name": "stderr",
     "output_type": "stream",
     "text": [
      "2018-09-20 15:34:32,912:WARNING:\n",
      "Failed to read header row 6.\n",
      "2008 01 01 2016 07 08\n",
      "\n",
      "Error msg: IndexError('list index out of range',)\n"
     ]
    },
    {
     "name": "stderr",
     "output_type": "stream",
     "text": [
      "2018-09-20 15:34:32,918:WARNING:\n",
      "Failed to read header row 6.\n",
      "2008 01 01 2016 07 08\n",
      "\n",
      "Error msg: IndexError('list index out of range',)\n"
     ]
    },
    {
     "name": "stderr",
     "output_type": "stream",
     "text": [
      "2018-09-20 15:34:32,924:WARNING:\n",
      "Failed to read header row 6.\n",
      "2008 01 01 2016 07 08\n",
      "\n",
      "Error msg: IndexError('list index out of range',)\n"
     ]
    },
    {
     "name": "stderr",
     "output_type": "stream",
     "text": [
      "2018-09-20 15:34:32,939:WARNING:\n",
      "Failed to read header row 6.\n",
      "2008 01 01 2016 07 08\n",
      "\n",
      "Error msg: IndexError('list index out of range',)\n"
     ]
    },
    {
     "name": "stderr",
     "output_type": "stream",
     "text": [
      "2018-09-20 15:34:32,949:WARNING:\n",
      "Failed to read header row 6.\n",
      "2008 01 01 2016 07 08\n",
      "\n",
      "Error msg: IndexError('list index out of range',)\n"
     ]
    },
    {
     "name": "stderr",
     "output_type": "stream",
     "text": [
      "2018-09-20 15:34:32,958:WARNING:\n",
      "Failed to read header row 6.\n",
      "2008 01 01 2016 07 08\n",
      "\n",
      "Error msg: IndexError('list index out of range',)\n"
     ]
    },
    {
     "name": "stderr",
     "output_type": "stream",
     "text": [
      "2018-09-20 15:34:32,966:WARNING:\n",
      "Failed to read header row 6.\n",
      "2008 01 01 2016 07 08\n",
      "\n",
      "Error msg: IndexError('list index out of range',)\n"
     ]
    },
    {
     "name": "stderr",
     "output_type": "stream",
     "text": [
      "2018-09-20 15:34:32,975:WARNING:\n",
      "Failed to read header row 6.\n",
      "2008 01 01 2016 07 08\n",
      "\n",
      "Error msg: IndexError('list index out of range',)\n"
     ]
    },
    {
     "name": "stderr",
     "output_type": "stream",
     "text": [
      "2018-09-20 15:34:32,983:WARNING:\n",
      "Failed to read header row 6.\n",
      "2008 01 01 2016 07 08\n",
      "\n",
      "Error msg: IndexError('list index out of range',)\n"
     ]
    },
    {
     "name": "stderr",
     "output_type": "stream",
     "text": [
      "2018-09-20 15:34:32,992:WARNING:\n",
      "Failed to read header row 6.\n",
      "2008 01 01 2016 07 08\n",
      "\n",
      "Error msg: IndexError('list index out of range',)\n"
     ]
    },
    {
     "name": "stderr",
     "output_type": "stream",
     "text": [
      "2018-09-20 15:34:33,000:WARNING:\n",
      "Failed to read header row 6.\n",
      "2008 01 01 2016 07 08\n",
      "\n",
      "Error msg: IndexError('list index out of range',)\n"
     ]
    },
    {
     "name": "stderr",
     "output_type": "stream",
     "text": [
      "2018-09-20 15:34:33,010:WARNING:\n",
      "Failed to read header row 6.\n",
      "2008 01 01 2016 07 08\n",
      "\n",
      "Error msg: IndexError('list index out of range',)\n"
     ]
    },
    {
     "name": "stderr",
     "output_type": "stream",
     "text": [
      "2018-09-20 15:34:33,017:WARNING:\n",
      "Failed to read header row 6.\n",
      "2008 01 01 2016 07 08\n",
      "\n",
      "Error msg: IndexError('list index out of range',)\n"
     ]
    },
    {
     "name": "stderr",
     "output_type": "stream",
     "text": [
      "2018-09-20 15:34:33,023:WARNING:\n",
      "Failed to read header row 6.\n",
      "2008 01 01 2016 07 08\n",
      "\n",
      "Error msg: IndexError('list index out of range',)\n"
     ]
    },
    {
     "name": "stderr",
     "output_type": "stream",
     "text": [
      "2018-09-20 15:34:33,028:WARNING:\n",
      "Failed to read header row 6.\n",
      "2008 01 01 2016 07 08\n",
      "\n",
      "Error msg: IndexError('list index out of range',)\n"
     ]
    },
    {
     "name": "stderr",
     "output_type": "stream",
     "text": [
      "2018-09-20 15:34:33,034:WARNING:\n",
      "Failed to read header row 6.\n",
      "2008 01 01 2016 07 08\n",
      "\n",
      "Error msg: IndexError('list index out of range',)\n"
     ]
    },
    {
     "name": "stderr",
     "output_type": "stream",
     "text": [
      "2018-09-20 15:34:33,039:WARNING:\n",
      "Failed to read header row 6.\n",
      "2008 01 01 2016 07 08\n",
      "\n",
      "Error msg: IndexError('list index out of range',)\n"
     ]
    },
    {
     "name": "stderr",
     "output_type": "stream",
     "text": [
      "2018-09-20 15:34:33,048:WARNING:\n",
      "Failed to read header row 6.\n",
      "2008 01 01 2016 07 08\n",
      "\n",
      "Error msg: IndexError('list index out of range',)\n"
     ]
    },
    {
     "name": "stderr",
     "output_type": "stream",
     "text": [
      "2018-09-20 15:34:33,056:WARNING:\n",
      "Failed to read header row 6.\n",
      "2008 01 01 2016 07 08\n",
      "\n",
      "Error msg: IndexError('list index out of range',)\n"
     ]
    },
    {
     "name": "stderr",
     "output_type": "stream",
     "text": [
      "2018-09-20 15:34:33,065:WARNING:\n",
      "Failed to read header row 6.\n",
      "2008 01 01 2016 07 08\n",
      "\n",
      "Error msg: IndexError('list index out of range',)\n"
     ]
    },
    {
     "name": "stderr",
     "output_type": "stream",
     "text": [
      "2018-09-20 15:34:33,072:WARNING:\n",
      "Failed to read header row 6.\n",
      "2008 01 01 2016 07 08\n",
      "\n",
      "Error msg: IndexError('list index out of range',)\n"
     ]
    },
    {
     "name": "stderr",
     "output_type": "stream",
     "text": [
      "2018-09-20 15:34:33,079:WARNING:\n",
      "Failed to read header row 6.\n",
      "2008 01 01 2016 07 08\n",
      "\n",
      "Error msg: IndexError('list index out of range',)\n"
     ]
    },
    {
     "name": "stderr",
     "output_type": "stream",
     "text": [
      "2018-09-20 15:34:33,089:WARNING:\n",
      "Failed to read header row 6.\n",
      "2008 01 01 2016 07 08\n",
      "\n",
      "Error msg: IndexError('list index out of range',)\n"
     ]
    },
    {
     "name": "stderr",
     "output_type": "stream",
     "text": [
      "2018-09-20 15:34:33,097:WARNING:\n",
      "Failed to read header row 6.\n",
      "2008 01 01 2016 07 08\n",
      "\n",
      "Error msg: IndexError('list index out of range',)\n"
     ]
    },
    {
     "name": "stderr",
     "output_type": "stream",
     "text": [
      "2018-09-20 15:34:33,105:WARNING:\n",
      "Failed to read header row 6.\n",
      "2008 01 01 2016 07 08\n",
      "\n",
      "Error msg: IndexError('list index out of range',)\n"
     ]
    },
    {
     "name": "stderr",
     "output_type": "stream",
     "text": [
      "2018-09-20 15:34:33,113:WARNING:\n",
      "Failed to read header row 6.\n",
      "2008 01 01 2016 07 08\n",
      "\n",
      "Error msg: IndexError('list index out of range',)\n"
     ]
    },
    {
     "name": "stderr",
     "output_type": "stream",
     "text": [
      "2018-09-20 15:34:33,120:WARNING:\n",
      "Failed to read header row 6.\n",
      "2008 01 01 2016 07 08\n",
      "\n",
      "Error msg: IndexError('list index out of range',)\n"
     ]
    },
    {
     "name": "stderr",
     "output_type": "stream",
     "text": [
      "2018-09-20 15:34:33,127:WARNING:\n",
      "Failed to read header row 6.\n",
      "2008 01 01 2016 07 08\n",
      "\n",
      "Error msg: IndexError('list index out of range',)\n"
     ]
    },
    {
     "name": "stderr",
     "output_type": "stream",
     "text": [
      "2018-09-20 15:34:33,135:WARNING:\n",
      "Failed to read header row 6.\n",
      "2008 01 01 2016 07 08\n",
      "\n",
      "Error msg: IndexError('list index out of range',)\n"
     ]
    },
    {
     "name": "stderr",
     "output_type": "stream",
     "text": [
      "2018-09-20 15:34:33,144:WARNING:\n",
      "Failed to read header row 6.\n",
      "2008 01 01 2016 07 08\n",
      "\n",
      "Error msg: IndexError('list index out of range',)\n"
     ]
    },
    {
     "name": "stderr",
     "output_type": "stream",
     "text": [
      "2018-09-20 15:34:33,152:WARNING:\n",
      "Failed to read header row 6.\n",
      "2008 01 01 2016 07 08\n",
      "\n",
      "Error msg: IndexError('list index out of range',)\n"
     ]
    },
    {
     "name": "stderr",
     "output_type": "stream",
     "text": [
      "2018-09-20 15:34:33,159:WARNING:\n",
      "Failed to read header row 6.\n",
      "2008 01 01 2016 07 08\n",
      "\n",
      "Error msg: IndexError('list index out of range',)\n"
     ]
    },
    {
     "name": "stderr",
     "output_type": "stream",
     "text": [
      "2018-09-20 15:34:33,169:WARNING:\n",
      "Failed to read header row 6.\n",
      "2008 01 01 2016 07 08\n",
      "\n",
      "Error msg: IndexError('list index out of range',)\n"
     ]
    },
    {
     "name": "stderr",
     "output_type": "stream",
     "text": [
      "2018-09-20 15:34:33,176:WARNING:\n",
      "Failed to read header row 6.\n",
      "2008 01 01 2016 07 08\n",
      "\n",
      "Error msg: IndexError('list index out of range',)\n"
     ]
    },
    {
     "name": "stderr",
     "output_type": "stream",
     "text": [
      "2018-09-20 15:34:33,181:WARNING:\n",
      "Failed to read header row 6.\n",
      "2008 01 01 2016 07 08\n",
      "\n",
      "Error msg: IndexError('list index out of range',)\n"
     ]
    },
    {
     "name": "stderr",
     "output_type": "stream",
     "text": [
      "2018-09-20 15:34:33,187:WARNING:\n",
      "Failed to read header row 6.\n",
      "2008 01 01 2016 07 08\n",
      "\n",
      "Error msg: IndexError('list index out of range',)\n"
     ]
    },
    {
     "name": "stderr",
     "output_type": "stream",
     "text": [
      "2018-09-20 15:34:33,192:WARNING:\n",
      "Failed to read header row 6.\n",
      "2008 01 01 2016 07 08\n",
      "\n",
      "Error msg: IndexError('list index out of range',)\n"
     ]
    },
    {
     "name": "stderr",
     "output_type": "stream",
     "text": [
      "2018-09-20 15:34:33,198:WARNING:\n",
      "Failed to read header row 6.\n",
      "2008 01 01 2016 07 08\n",
      "\n",
      "Error msg: IndexError('list index out of range',)\n"
     ]
    },
    {
     "name": "stderr",
     "output_type": "stream",
     "text": [
      "2018-09-20 15:34:33,203:WARNING:\n",
      "Failed to read header row 6.\n",
      "2008 01 01 2016 07 08\n",
      "\n",
      "Error msg: IndexError('list index out of range',)\n"
     ]
    },
    {
     "name": "stderr",
     "output_type": "stream",
     "text": [
      "2018-09-20 15:34:33,208:WARNING:\n",
      "Failed to read header row 6.\n",
      "2008 01 01 2016 07 08\n",
      "\n",
      "Error msg: IndexError('list index out of range',)\n"
     ]
    },
    {
     "name": "stderr",
     "output_type": "stream",
     "text": [
      "2018-09-20 15:34:33,219:WARNING:\n",
      "Failed to read header row 6.\n",
      "2008 01 01 2016 07 08\n",
      "\n",
      "Error msg: IndexError('list index out of range',)\n"
     ]
    },
    {
     "name": "stderr",
     "output_type": "stream",
     "text": [
      "2018-09-20 15:34:33,225:WARNING:\n",
      "Failed to read header row 6.\n",
      "2008 01 01 2016 07 08\n",
      "\n",
      "Error msg: IndexError('list index out of range',)\n"
     ]
    },
    {
     "name": "stderr",
     "output_type": "stream",
     "text": [
      "2018-09-20 15:34:33,230:WARNING:\n",
      "Failed to read header row 6.\n",
      "2008 01 01 2016 07 08\n",
      "\n",
      "Error msg: IndexError('list index out of range',)\n"
     ]
    },
    {
     "name": "stderr",
     "output_type": "stream",
     "text": [
      "2018-09-20 15:34:33,235:WARNING:\n",
      "Failed to read header row 6.\n",
      "2008 01 01 2016 07 08\n",
      "\n",
      "Error msg: IndexError('list index out of range',)\n"
     ]
    },
    {
     "name": "stderr",
     "output_type": "stream",
     "text": [
      "2018-09-20 15:34:33,241:WARNING:\n",
      "Failed to read header row 6.\n",
      "2008 01 01 2016 07 08\n",
      "\n",
      "Error msg: IndexError('list index out of range',)\n"
     ]
    },
    {
     "name": "stderr",
     "output_type": "stream",
     "text": [
      "2018-09-20 15:34:33,246:WARNING:\n",
      "Failed to read header row 6.\n",
      "2008 01 01 2016 07 08\n",
      "\n",
      "Error msg: IndexError('list index out of range',)\n"
     ]
    },
    {
     "name": "stderr",
     "output_type": "stream",
     "text": [
      "2018-09-20 15:34:33,252:WARNING:\n",
      "Failed to read header row 6.\n",
      "2008 01 01 2016 07 08\n",
      "\n",
      "Error msg: IndexError('list index out of range',)\n"
     ]
    },
    {
     "name": "stderr",
     "output_type": "stream",
     "text": [
      "2018-09-20 15:34:33,257:WARNING:\n",
      "Failed to read header row 6.\n",
      "2008 01 01 2016 07 08\n",
      "\n",
      "Error msg: IndexError('list index out of range',)\n"
     ]
    },
    {
     "name": "stderr",
     "output_type": "stream",
     "text": [
      "2018-09-20 15:34:33,262:WARNING:\n",
      "Failed to read header row 6.\n",
      "2008 01 01 2016 07 08\n",
      "\n",
      "Error msg: IndexError('list index out of range',)\n"
     ]
    },
    {
     "name": "stderr",
     "output_type": "stream",
     "text": [
      "2018-09-20 15:34:33,267:WARNING:\n",
      "Failed to read header row 6.\n",
      "2008 01 01 2016 07 08\n",
      "\n",
      "Error msg: IndexError('list index out of range',)\n"
     ]
    },
    {
     "name": "stderr",
     "output_type": "stream",
     "text": [
      "2018-09-20 15:34:33,273:WARNING:\n",
      "Failed to read header row 6.\n",
      "2008 01 01 2016 07 08\n",
      "\n",
      "Error msg: IndexError('list index out of range',)\n"
     ]
    },
    {
     "name": "stderr",
     "output_type": "stream",
     "text": [
      "2018-09-20 15:34:33,280:WARNING:\n",
      "Failed to read header row 6.\n",
      "2008 01 01 2016 07 08\n",
      "\n",
      "Error msg: IndexError('list index out of range',)\n"
     ]
    },
    {
     "name": "stderr",
     "output_type": "stream",
     "text": [
      "2018-09-20 15:34:33,290:WARNING:\n",
      "Failed to read header row 6.\n",
      "2008 01 01 2016 07 08\n",
      "\n",
      "Error msg: IndexError('list index out of range',)\n"
     ]
    },
    {
     "name": "stderr",
     "output_type": "stream",
     "text": [
      "2018-09-20 15:34:33,299:WARNING:\n",
      "Failed to read header row 6.\n",
      "2008 01 01 2016 07 08\n",
      "\n",
      "Error msg: IndexError('list index out of range',)\n"
     ]
    },
    {
     "name": "stderr",
     "output_type": "stream",
     "text": [
      "2018-09-20 15:34:33,305:WARNING:\n",
      "Failed to read header row 6.\n",
      "2008 01 01 2016 07 08\n",
      "\n",
      "Error msg: IndexError('list index out of range',)\n"
     ]
    },
    {
     "name": "stderr",
     "output_type": "stream",
     "text": [
      "2018-09-20 15:34:33,309:WARNING:\n",
      "Failed to read header row 6.\n",
      "2008 01 01 2016 07 08\n",
      "\n",
      "Error msg: IndexError('list index out of range',)\n"
     ]
    },
    {
     "name": "stderr",
     "output_type": "stream",
     "text": [
      "2018-09-20 15:34:33,314:WARNING:\n",
      "Failed to read header row 6.\n",
      "2008 01 01 2016 07 08\n",
      "\n",
      "Error msg: IndexError('list index out of range',)\n"
     ]
    },
    {
     "name": "stderr",
     "output_type": "stream",
     "text": [
      "2018-09-20 15:34:33,319:WARNING:\n",
      "Failed to read header row 6.\n",
      "2008 01 01 2016 07 08\n",
      "\n",
      "Error msg: IndexError('list index out of range',)\n"
     ]
    },
    {
     "name": "stderr",
     "output_type": "stream",
     "text": [
      "2018-09-20 15:34:33,324:WARNING:\n",
      "Failed to read header row 6.\n",
      "2008 01 01 2016 07 08\n",
      "\n",
      "Error msg: IndexError('list index out of range',)\n"
     ]
    },
    {
     "name": "stderr",
     "output_type": "stream",
     "text": [
      "2018-09-20 15:34:33,329:WARNING:\n",
      "Failed to read header row 6.\n",
      "2008 01 01 2016 07 08\n",
      "\n",
      "Error msg: IndexError('list index out of range',)\n"
     ]
    },
    {
     "name": "stderr",
     "output_type": "stream",
     "text": [
      "2018-09-20 15:34:33,335:WARNING:\n",
      "Failed to read header row 6.\n",
      "2008 01 01 2016 07 08\n",
      "\n",
      "Error msg: IndexError('list index out of range',)\n"
     ]
    },
    {
     "name": "stderr",
     "output_type": "stream",
     "text": [
      "2018-09-20 15:34:33,341:WARNING:\n",
      "Failed to read header row 6.\n",
      "2008 01 01 2016 07 08\n",
      "\n",
      "Error msg: IndexError('list index out of range',)\n"
     ]
    },
    {
     "name": "stderr",
     "output_type": "stream",
     "text": [
      "2018-09-20 15:34:33,347:WARNING:\n",
      "Failed to read header row 6.\n",
      "2008 01 01 2016 07 08\n",
      "\n",
      "Error msg: IndexError('list index out of range',)\n"
     ]
    },
    {
     "name": "stderr",
     "output_type": "stream",
     "text": [
      "2018-09-20 15:34:33,351:WARNING:\n",
      "Failed to read header row 6.\n",
      "2008 01 01 2016 07 08\n",
      "\n",
      "Error msg: IndexError('list index out of range',)\n"
     ]
    },
    {
     "name": "stderr",
     "output_type": "stream",
     "text": [
      "2018-09-20 15:34:33,356:WARNING:\n",
      "Failed to read header row 6.\n",
      "2008 01 01 2016 07 08\n",
      "\n",
      "Error msg: IndexError('list index out of range',)\n"
     ]
    },
    {
     "name": "stderr",
     "output_type": "stream",
     "text": [
      "2018-09-20 15:34:33,362:WARNING:\n",
      "Failed to read header row 6.\n",
      "2008 01 01 2016 07 08\n",
      "\n",
      "Error msg: IndexError('list index out of range',)\n"
     ]
    },
    {
     "name": "stderr",
     "output_type": "stream",
     "text": [
      "2018-09-20 15:34:33,366:WARNING:\n",
      "Failed to read header row 6.\n",
      "2008 01 01 2016 07 08\n",
      "\n",
      "Error msg: IndexError('list index out of range',)\n"
     ]
    },
    {
     "name": "stderr",
     "output_type": "stream",
     "text": [
      "2018-09-20 15:34:33,371:WARNING:\n",
      "Failed to read header row 6.\n",
      "2008 01 01 2016 07 08\n",
      "\n",
      "Error msg: IndexError('list index out of range',)\n"
     ]
    },
    {
     "name": "stderr",
     "output_type": "stream",
     "text": [
      "2018-09-20 15:34:33,376:WARNING:\n",
      "Failed to read header row 6.\n",
      "2008 01 01 2016 07 08\n",
      "\n",
      "Error msg: IndexError('list index out of range',)\n"
     ]
    },
    {
     "name": "stderr",
     "output_type": "stream",
     "text": [
      "2018-09-20 15:34:33,382:WARNING:\n",
      "Failed to read header row 6.\n",
      "2008 01 01 2016 07 08\n",
      "\n",
      "Error msg: IndexError('list index out of range',)\n"
     ]
    },
    {
     "name": "stderr",
     "output_type": "stream",
     "text": [
      "2018-09-20 15:34:33,387:WARNING:\n",
      "Failed to read header row 6.\n",
      "2008 01 01 2016 07 08\n",
      "\n",
      "Error msg: IndexError('list index out of range',)\n"
     ]
    },
    {
     "name": "stderr",
     "output_type": "stream",
     "text": [
      "2018-09-20 15:34:33,393:WARNING:\n",
      "Failed to read header row 6.\n",
      "2008 01 01 2016 07 08\n",
      "\n",
      "Error msg: IndexError('list index out of range',)\n"
     ]
    },
    {
     "name": "stderr",
     "output_type": "stream",
     "text": [
      "2018-09-20 15:34:33,402:WARNING:\n",
      "Failed to read header row 6.\n",
      "2008 01 01 2016 07 08\n",
      "\n",
      "Error msg: IndexError('list index out of range',)\n"
     ]
    },
    {
     "name": "stderr",
     "output_type": "stream",
     "text": [
      "2018-09-20 15:34:33,411:WARNING:\n",
      "Failed to read header row 6.\n",
      "2008 01 01 2016 07 08\n",
      "\n",
      "Error msg: IndexError('list index out of range',)\n"
     ]
    },
    {
     "name": "stderr",
     "output_type": "stream",
     "text": [
      "2018-09-20 15:34:33,420:WARNING:\n",
      "Failed to read header row 6.\n",
      "2008 01 01 2016 07 08\n",
      "\n",
      "Error msg: IndexError('list index out of range',)\n"
     ]
    },
    {
     "name": "stderr",
     "output_type": "stream",
     "text": [
      "2018-09-20 15:34:33,431:WARNING:\n",
      "Failed to read header row 6.\n",
      "2008 01 01 2016 07 08\n",
      "\n",
      "Error msg: IndexError('list index out of range',)\n"
     ]
    },
    {
     "name": "stderr",
     "output_type": "stream",
     "text": [
      "2018-09-20 15:34:33,438:WARNING:\n",
      "Failed to read header row 6.\n",
      "2008 01 01 2016 07 08\n",
      "\n",
      "Error msg: IndexError('list index out of range',)\n"
     ]
    },
    {
     "name": "stderr",
     "output_type": "stream",
     "text": [
      "2018-09-20 15:34:33,443:WARNING:\n",
      "Failed to read header row 6.\n",
      "2008 01 01 2016 07 08\n",
      "\n",
      "Error msg: IndexError('list index out of range',)\n"
     ]
    },
    {
     "name": "stderr",
     "output_type": "stream",
     "text": [
      "2018-09-20 15:34:33,449:WARNING:\n",
      "Failed to read header row 6.\n",
      "2008 01 01 2016 07 08\n",
      "\n",
      "Error msg: IndexError('list index out of range',)\n"
     ]
    },
    {
     "name": "stderr",
     "output_type": "stream",
     "text": [
      "2018-09-20 15:34:33,454:WARNING:\n",
      "Failed to read header row 6.\n",
      "2008 01 01 2016 07 08\n",
      "\n",
      "Error msg: IndexError('list index out of range',)\n"
     ]
    },
    {
     "name": "stderr",
     "output_type": "stream",
     "text": [
      "2018-09-20 15:34:33,460:WARNING:\n",
      "Failed to read header row 6.\n",
      "2008 01 01 2016 07 08\n",
      "\n",
      "Error msg: IndexError('list index out of range',)\n"
     ]
    },
    {
     "name": "stderr",
     "output_type": "stream",
     "text": [
      "2018-09-20 15:34:33,467:WARNING:\n",
      "Failed to read header row 6.\n",
      "2008 01 01 2016 07 08\n",
      "\n",
      "Error msg: IndexError('list index out of range',)\n"
     ]
    },
    {
     "name": "stderr",
     "output_type": "stream",
     "text": [
      "2018-09-20 15:34:33,473:WARNING:\n",
      "Failed to read header row 6.\n",
      "2008 01 01 2016 07 08\n",
      "\n",
      "Error msg: IndexError('list index out of range',)\n"
     ]
    },
    {
     "name": "stderr",
     "output_type": "stream",
     "text": [
      "2018-09-20 15:34:33,479:WARNING:\n",
      "Failed to read header row 6.\n",
      "2008 01 01 2016 07 08\n",
      "\n",
      "Error msg: IndexError('list index out of range',)\n"
     ]
    },
    {
     "name": "stderr",
     "output_type": "stream",
     "text": [
      "2018-09-20 15:34:33,486:WARNING:\n",
      "Failed to read header row 6.\n",
      "2008 01 01 2016 07 08\n",
      "\n",
      "Error msg: IndexError('list index out of range',)\n"
     ]
    },
    {
     "name": "stderr",
     "output_type": "stream",
     "text": [
      "2018-09-20 15:34:33,492:WARNING:\n",
      "Failed to read header row 6.\n",
      "2008 01 01 2016 07 08\n",
      "\n",
      "Error msg: IndexError('list index out of range',)\n"
     ]
    },
    {
     "name": "stderr",
     "output_type": "stream",
     "text": [
      "2018-09-20 15:34:33,498:WARNING:\n",
      "Failed to read header row 6.\n",
      "2008 01 01 2016 07 08\n",
      "\n",
      "Error msg: IndexError('list index out of range',)\n"
     ]
    },
    {
     "name": "stderr",
     "output_type": "stream",
     "text": [
      "2018-09-20 15:34:33,504:WARNING:\n",
      "Failed to read header row 6.\n",
      "2008 01 01 2016 07 08\n",
      "\n",
      "Error msg: IndexError('list index out of range',)\n"
     ]
    },
    {
     "name": "stderr",
     "output_type": "stream",
     "text": [
      "2018-09-20 15:34:33,510:WARNING:\n",
      "Failed to read header row 6.\n",
      "2008 01 01 2016 07 08\n",
      "\n",
      "Error msg: IndexError('list index out of range',)\n"
     ]
    },
    {
     "name": "stderr",
     "output_type": "stream",
     "text": [
      "2018-09-20 15:34:33,517:WARNING:\n",
      "Failed to read header row 6.\n",
      "2008 01 01 2016 07 08\n",
      "\n",
      "Error msg: IndexError('list index out of range',)\n"
     ]
    },
    {
     "name": "stderr",
     "output_type": "stream",
     "text": [
      "2018-09-20 15:34:33,524:WARNING:\n",
      "Failed to read header row 6.\n",
      "2008 01 01 2016 07 08\n",
      "\n",
      "Error msg: IndexError('list index out of range',)\n"
     ]
    },
    {
     "name": "stderr",
     "output_type": "stream",
     "text": [
      "2018-09-20 15:34:33,532:WARNING:\n",
      "Failed to read header row 6.\n",
      "2008 01 01 2016 07 08\n",
      "\n",
      "Error msg: IndexError('list index out of range',)\n"
     ]
    },
    {
     "name": "stderr",
     "output_type": "stream",
     "text": [
      "2018-09-20 15:34:33,545:WARNING:\n",
      "Failed to read header row 6.\n",
      "2008 01 01 2016 07 08\n",
      "\n",
      "Error msg: IndexError('list index out of range',)\n"
     ]
    },
    {
     "name": "stderr",
     "output_type": "stream",
     "text": [
      "2018-09-20 15:34:33,553:WARNING:\n",
      "Failed to read header row 6.\n",
      "2008 01 01 2016 07 08\n",
      "\n",
      "Error msg: IndexError('list index out of range',)\n"
     ]
    },
    {
     "name": "stderr",
     "output_type": "stream",
     "text": [
      "2018-09-20 15:34:33,561:WARNING:\n",
      "Failed to read header row 6.\n",
      "2008 01 01 2016 07 08\n",
      "\n",
      "Error msg: IndexError('list index out of range',)\n"
     ]
    },
    {
     "name": "stderr",
     "output_type": "stream",
     "text": [
      "2018-09-20 15:34:33,570:WARNING:\n",
      "Failed to read header row 6.\n",
      "2008 01 01 2016 07 08\n",
      "\n",
      "Error msg: IndexError('list index out of range',)\n"
     ]
    },
    {
     "name": "stderr",
     "output_type": "stream",
     "text": [
      "2018-09-20 15:34:33,577:WARNING:\n",
      "Failed to read header row 6.\n",
      "2008 01 01 2016 07 08\n",
      "\n",
      "Error msg: IndexError('list index out of range',)\n"
     ]
    },
    {
     "name": "stderr",
     "output_type": "stream",
     "text": [
      "2018-09-20 15:34:33,585:WARNING:\n",
      "Failed to read header row 6.\n",
      "2008 01 01 2016 07 08\n",
      "\n",
      "Error msg: IndexError('list index out of range',)\n"
     ]
    },
    {
     "name": "stderr",
     "output_type": "stream",
     "text": [
      "2018-09-20 15:34:33,591:WARNING:\n",
      "Failed to read header row 6.\n",
      "2008 01 01 2016 07 08\n",
      "\n",
      "Error msg: IndexError('list index out of range',)\n"
     ]
    },
    {
     "name": "stderr",
     "output_type": "stream",
     "text": [
      "2018-09-20 15:34:33,597:WARNING:\n",
      "Failed to read header row 6.\n",
      "2008 01 01 2016 07 08\n",
      "\n",
      "Error msg: IndexError('list index out of range',)\n"
     ]
    },
    {
     "name": "stderr",
     "output_type": "stream",
     "text": [
      "2018-09-20 15:34:33,602:WARNING:\n",
      "Failed to read header row 6.\n",
      "2008 01 01 2016 07 08\n",
      "\n",
      "Error msg: IndexError('list index out of range',)\n"
     ]
    },
    {
     "name": "stderr",
     "output_type": "stream",
     "text": [
      "2018-09-20 15:34:33,610:WARNING:\n",
      "Failed to read header row 6.\n",
      "2008 01 01 2016 07 08\n",
      "\n",
      "Error msg: IndexError('list index out of range',)\n"
     ]
    },
    {
     "name": "stderr",
     "output_type": "stream",
     "text": [
      "2018-09-20 15:34:33,617:WARNING:\n",
      "Failed to read header row 6.\n",
      "2008 01 01 2016 07 08\n",
      "\n",
      "Error msg: IndexError('list index out of range',)\n"
     ]
    },
    {
     "name": "stderr",
     "output_type": "stream",
     "text": [
      "2018-09-20 15:34:33,624:WARNING:\n",
      "Failed to read header row 6.\n",
      "2008 01 01 2016 07 08\n",
      "\n",
      "Error msg: IndexError('list index out of range',)\n"
     ]
    },
    {
     "name": "stderr",
     "output_type": "stream",
     "text": [
      "2018-09-20 15:34:33,632:WARNING:\n",
      "Failed to read header row 6.\n",
      "2008 01 01 2016 07 08\n",
      "\n",
      "Error msg: IndexError('list index out of range',)\n"
     ]
    },
    {
     "name": "stderr",
     "output_type": "stream",
     "text": [
      "2018-09-20 15:34:33,639:WARNING:\n",
      "Failed to read header row 6.\n",
      "2008 01 01 2016 07 08\n",
      "\n",
      "Error msg: IndexError('list index out of range',)\n"
     ]
    },
    {
     "name": "stderr",
     "output_type": "stream",
     "text": [
      "2018-09-20 15:34:33,648:WARNING:\n",
      "Failed to read header row 6.\n",
      "2008 01 01 2016 07 08\n",
      "\n",
      "Error msg: IndexError('list index out of range',)\n"
     ]
    },
    {
     "name": "stderr",
     "output_type": "stream",
     "text": [
      "2018-09-20 15:34:33,655:WARNING:\n",
      "Failed to read header row 6.\n",
      "2008 01 01 2016 07 08\n",
      "\n",
      "Error msg: IndexError('list index out of range',)\n"
     ]
    },
    {
     "name": "stderr",
     "output_type": "stream",
     "text": [
      "2018-09-20 15:34:33,665:WARNING:\n",
      "Failed to read header row 6.\n",
      "2008 01 01 2016 07 08\n",
      "\n",
      "Error msg: IndexError('list index out of range',)\n"
     ]
    },
    {
     "name": "stderr",
     "output_type": "stream",
     "text": [
      "2018-09-20 15:34:33,675:WARNING:\n",
      "Failed to read header row 6.\n",
      "2008 01 01 2016 07 08\n",
      "\n",
      "Error msg: IndexError('list index out of range',)\n"
     ]
    },
    {
     "name": "stdout",
     "output_type": "stream",
     "text": [
      "6.98 ms ± 926 µs per loop (mean ± std. dev. of 7 runs, 100 loops each)\n"
     ]
    }
   ],
   "source": [
    "%%timeit\n",
    "EbasNasaAmesFile(file=ebasdir+filename,\n",
    "                 only_head=True, verbose=False)"
   ]
  },
  {
   "cell_type": "markdown",
   "metadata": {},
   "source": [
    "Read raw:"
   ]
  },
  {
   "cell_type": "code",
   "execution_count": 10,
   "metadata": {},
   "outputs": [
    {
     "name": "stderr",
     "output_type": "stream",
     "text": [
      "2018-09-20 15:34:34,089:WARNING:\n",
      "Failed to read header row 6.\n",
      "2008 01 01 2016 07 08\n",
      "\n",
      "Error msg: IndexError('list index out of range',)\n"
     ]
    },
    {
     "name": "stderr",
     "output_type": "stream",
     "text": [
      "2018-09-20 15:34:34,157:WARNING:\n",
      "Failed to read header row 6.\n",
      "2008 01 01 2016 07 08\n",
      "\n",
      "Error msg: IndexError('list index out of range',)\n"
     ]
    },
    {
     "name": "stderr",
     "output_type": "stream",
     "text": [
      "2018-09-20 15:34:34,217:WARNING:\n",
      "Failed to read header row 6.\n",
      "2008 01 01 2016 07 08\n",
      "\n",
      "Error msg: IndexError('list index out of range',)\n"
     ]
    },
    {
     "name": "stderr",
     "output_type": "stream",
     "text": [
      "2018-09-20 15:34:34,287:WARNING:\n",
      "Failed to read header row 6.\n",
      "2008 01 01 2016 07 08\n",
      "\n",
      "Error msg: IndexError('list index out of range',)\n"
     ]
    },
    {
     "name": "stderr",
     "output_type": "stream",
     "text": [
      "2018-09-20 15:34:34,345:WARNING:\n",
      "Failed to read header row 6.\n",
      "2008 01 01 2016 07 08\n",
      "\n",
      "Error msg: IndexError('list index out of range',)\n"
     ]
    },
    {
     "name": "stderr",
     "output_type": "stream",
     "text": [
      "2018-09-20 15:34:34,395:WARNING:\n",
      "Failed to read header row 6.\n",
      "2008 01 01 2016 07 08\n",
      "\n",
      "Error msg: IndexError('list index out of range',)\n"
     ]
    },
    {
     "name": "stderr",
     "output_type": "stream",
     "text": [
      "2018-09-20 15:34:34,444:WARNING:\n",
      "Failed to read header row 6.\n",
      "2008 01 01 2016 07 08\n",
      "\n",
      "Error msg: IndexError('list index out of range',)\n"
     ]
    },
    {
     "name": "stderr",
     "output_type": "stream",
     "text": [
      "2018-09-20 15:34:34,498:WARNING:\n",
      "Failed to read header row 6.\n",
      "2008 01 01 2016 07 08\n",
      "\n",
      "Error msg: IndexError('list index out of range',)\n"
     ]
    },
    {
     "name": "stderr",
     "output_type": "stream",
     "text": [
      "2018-09-20 15:34:34,550:WARNING:\n",
      "Failed to read header row 6.\n",
      "2008 01 01 2016 07 08\n",
      "\n",
      "Error msg: IndexError('list index out of range',)\n"
     ]
    },
    {
     "name": "stderr",
     "output_type": "stream",
     "text": [
      "2018-09-20 15:34:34,607:WARNING:\n",
      "Failed to read header row 6.\n",
      "2008 01 01 2016 07 08\n",
      "\n",
      "Error msg: IndexError('list index out of range',)\n"
     ]
    },
    {
     "name": "stderr",
     "output_type": "stream",
     "text": [
      "2018-09-20 15:34:34,673:WARNING:\n",
      "Failed to read header row 6.\n",
      "2008 01 01 2016 07 08\n",
      "\n",
      "Error msg: IndexError('list index out of range',)\n"
     ]
    },
    {
     "name": "stderr",
     "output_type": "stream",
     "text": [
      "2018-09-20 15:34:34,726:WARNING:\n",
      "Failed to read header row 6.\n",
      "2008 01 01 2016 07 08\n",
      "\n",
      "Error msg: IndexError('list index out of range',)\n"
     ]
    },
    {
     "name": "stderr",
     "output_type": "stream",
     "text": [
      "2018-09-20 15:34:34,773:WARNING:\n",
      "Failed to read header row 6.\n",
      "2008 01 01 2016 07 08\n",
      "\n",
      "Error msg: IndexError('list index out of range',)\n"
     ]
    },
    {
     "name": "stderr",
     "output_type": "stream",
     "text": [
      "2018-09-20 15:34:34,819:WARNING:\n",
      "Failed to read header row 6.\n",
      "2008 01 01 2016 07 08\n",
      "\n",
      "Error msg: IndexError('list index out of range',)\n"
     ]
    },
    {
     "name": "stderr",
     "output_type": "stream",
     "text": [
      "2018-09-20 15:34:34,883:WARNING:\n",
      "Failed to read header row 6.\n",
      "2008 01 01 2016 07 08\n",
      "\n",
      "Error msg: IndexError('list index out of range',)\n"
     ]
    },
    {
     "name": "stderr",
     "output_type": "stream",
     "text": [
      "2018-09-20 15:34:34,939:WARNING:\n",
      "Failed to read header row 6.\n",
      "2008 01 01 2016 07 08\n",
      "\n",
      "Error msg: IndexError('list index out of range',)\n"
     ]
    },
    {
     "name": "stderr",
     "output_type": "stream",
     "text": [
      "2018-09-20 15:34:35,003:WARNING:\n",
      "Failed to read header row 6.\n",
      "2008 01 01 2016 07 08\n",
      "\n",
      "Error msg: IndexError('list index out of range',)\n"
     ]
    },
    {
     "name": "stderr",
     "output_type": "stream",
     "text": [
      "2018-09-20 15:34:35,062:WARNING:\n",
      "Failed to read header row 6.\n",
      "2008 01 01 2016 07 08\n",
      "\n",
      "Error msg: IndexError('list index out of range',)\n"
     ]
    },
    {
     "name": "stderr",
     "output_type": "stream",
     "text": [
      "2018-09-20 15:34:35,137:WARNING:\n",
      "Failed to read header row 6.\n",
      "2008 01 01 2016 07 08\n",
      "\n",
      "Error msg: IndexError('list index out of range',)\n"
     ]
    },
    {
     "name": "stderr",
     "output_type": "stream",
     "text": [
      "2018-09-20 15:34:35,217:WARNING:\n",
      "Failed to read header row 6.\n",
      "2008 01 01 2016 07 08\n",
      "\n",
      "Error msg: IndexError('list index out of range',)\n"
     ]
    },
    {
     "name": "stderr",
     "output_type": "stream",
     "text": [
      "2018-09-20 15:34:35,274:WARNING:\n",
      "Failed to read header row 6.\n",
      "2008 01 01 2016 07 08\n",
      "\n",
      "Error msg: IndexError('list index out of range',)\n"
     ]
    },
    {
     "name": "stderr",
     "output_type": "stream",
     "text": [
      "2018-09-20 15:34:35,343:WARNING:\n",
      "Failed to read header row 6.\n",
      "2008 01 01 2016 07 08\n",
      "\n",
      "Error msg: IndexError('list index out of range',)\n"
     ]
    },
    {
     "name": "stderr",
     "output_type": "stream",
     "text": [
      "2018-09-20 15:34:35,407:WARNING:\n",
      "Failed to read header row 6.\n",
      "2008 01 01 2016 07 08\n",
      "\n",
      "Error msg: IndexError('list index out of range',)\n"
     ]
    },
    {
     "name": "stderr",
     "output_type": "stream",
     "text": [
      "2018-09-20 15:34:35,472:WARNING:\n",
      "Failed to read header row 6.\n",
      "2008 01 01 2016 07 08\n",
      "\n",
      "Error msg: IndexError('list index out of range',)\n"
     ]
    },
    {
     "name": "stderr",
     "output_type": "stream",
     "text": [
      "2018-09-20 15:34:35,533:WARNING:\n",
      "Failed to read header row 6.\n",
      "2008 01 01 2016 07 08\n",
      "\n",
      "Error msg: IndexError('list index out of range',)\n"
     ]
    },
    {
     "name": "stderr",
     "output_type": "stream",
     "text": [
      "2018-09-20 15:34:35,581:WARNING:\n",
      "Failed to read header row 6.\n",
      "2008 01 01 2016 07 08\n",
      "\n",
      "Error msg: IndexError('list index out of range',)\n"
     ]
    },
    {
     "name": "stderr",
     "output_type": "stream",
     "text": [
      "2018-09-20 15:34:35,628:WARNING:\n",
      "Failed to read header row 6.\n",
      "2008 01 01 2016 07 08\n",
      "\n",
      "Error msg: IndexError('list index out of range',)\n"
     ]
    },
    {
     "name": "stderr",
     "output_type": "stream",
     "text": [
      "2018-09-20 15:34:35,686:WARNING:\n",
      "Failed to read header row 6.\n",
      "2008 01 01 2016 07 08\n",
      "\n",
      "Error msg: IndexError('list index out of range',)\n"
     ]
    },
    {
     "name": "stderr",
     "output_type": "stream",
     "text": [
      "2018-09-20 15:34:35,739:WARNING:\n",
      "Failed to read header row 6.\n",
      "2008 01 01 2016 07 08\n",
      "\n",
      "Error msg: IndexError('list index out of range',)\n"
     ]
    },
    {
     "name": "stderr",
     "output_type": "stream",
     "text": [
      "2018-09-20 15:34:35,789:WARNING:\n",
      "Failed to read header row 6.\n",
      "2008 01 01 2016 07 08\n",
      "\n",
      "Error msg: IndexError('list index out of range',)\n"
     ]
    },
    {
     "name": "stderr",
     "output_type": "stream",
     "text": [
      "2018-09-20 15:34:35,837:WARNING:\n",
      "Failed to read header row 6.\n",
      "2008 01 01 2016 07 08\n",
      "\n",
      "Error msg: IndexError('list index out of range',)\n"
     ]
    },
    {
     "name": "stderr",
     "output_type": "stream",
     "text": [
      "2018-09-20 15:34:35,898:WARNING:\n",
      "Failed to read header row 6.\n",
      "2008 01 01 2016 07 08\n",
      "\n",
      "Error msg: IndexError('list index out of range',)\n"
     ]
    },
    {
     "name": "stderr",
     "output_type": "stream",
     "text": [
      "2018-09-20 15:34:35,961:WARNING:\n",
      "Failed to read header row 6.\n",
      "2008 01 01 2016 07 08\n",
      "\n",
      "Error msg: IndexError('list index out of range',)\n"
     ]
    },
    {
     "name": "stderr",
     "output_type": "stream",
     "text": [
      "2018-09-20 15:34:36,008:WARNING:\n",
      "Failed to read header row 6.\n",
      "2008 01 01 2016 07 08\n",
      "\n",
      "Error msg: IndexError('list index out of range',)\n"
     ]
    },
    {
     "name": "stderr",
     "output_type": "stream",
     "text": [
      "2018-09-20 15:34:36,074:WARNING:\n",
      "Failed to read header row 6.\n",
      "2008 01 01 2016 07 08\n",
      "\n",
      "Error msg: IndexError('list index out of range',)\n"
     ]
    },
    {
     "name": "stderr",
     "output_type": "stream",
     "text": [
      "2018-09-20 15:34:36,146:WARNING:\n",
      "Failed to read header row 6.\n",
      "2008 01 01 2016 07 08\n",
      "\n",
      "Error msg: IndexError('list index out of range',)\n"
     ]
    },
    {
     "name": "stderr",
     "output_type": "stream",
     "text": [
      "2018-09-20 15:34:36,193:WARNING:\n",
      "Failed to read header row 6.\n",
      "2008 01 01 2016 07 08\n",
      "\n",
      "Error msg: IndexError('list index out of range',)\n"
     ]
    },
    {
     "name": "stderr",
     "output_type": "stream",
     "text": [
      "2018-09-20 15:34:36,252:WARNING:\n",
      "Failed to read header row 6.\n",
      "2008 01 01 2016 07 08\n",
      "\n",
      "Error msg: IndexError('list index out of range',)\n"
     ]
    },
    {
     "name": "stderr",
     "output_type": "stream",
     "text": [
      "2018-09-20 15:34:36,307:WARNING:\n",
      "Failed to read header row 6.\n",
      "2008 01 01 2016 07 08\n",
      "\n",
      "Error msg: IndexError('list index out of range',)\n"
     ]
    },
    {
     "name": "stderr",
     "output_type": "stream",
     "text": [
      "2018-09-20 15:34:36,367:WARNING:\n",
      "Failed to read header row 6.\n",
      "2008 01 01 2016 07 08\n",
      "\n",
      "Error msg: IndexError('list index out of range',)\n"
     ]
    },
    {
     "name": "stderr",
     "output_type": "stream",
     "text": [
      "2018-09-20 15:34:36,436:WARNING:\n",
      "Failed to read header row 6.\n",
      "2008 01 01 2016 07 08\n",
      "\n",
      "Error msg: IndexError('list index out of range',)\n"
     ]
    },
    {
     "name": "stderr",
     "output_type": "stream",
     "text": [
      "2018-09-20 15:34:36,512:WARNING:\n",
      "Failed to read header row 6.\n",
      "2008 01 01 2016 07 08\n",
      "\n",
      "Error msg: IndexError('list index out of range',)\n"
     ]
    },
    {
     "name": "stderr",
     "output_type": "stream",
     "text": [
      "2018-09-20 15:34:36,577:WARNING:\n",
      "Failed to read header row 6.\n",
      "2008 01 01 2016 07 08\n",
      "\n",
      "Error msg: IndexError('list index out of range',)\n"
     ]
    },
    {
     "name": "stderr",
     "output_type": "stream",
     "text": [
      "2018-09-20 15:34:36,631:WARNING:\n",
      "Failed to read header row 6.\n",
      "2008 01 01 2016 07 08\n",
      "\n",
      "Error msg: IndexError('list index out of range',)\n"
     ]
    },
    {
     "name": "stderr",
     "output_type": "stream",
     "text": [
      "2018-09-20 15:34:36,679:WARNING:\n",
      "Failed to read header row 6.\n",
      "2008 01 01 2016 07 08\n",
      "\n",
      "Error msg: IndexError('list index out of range',)\n"
     ]
    },
    {
     "name": "stderr",
     "output_type": "stream",
     "text": [
      "2018-09-20 15:34:36,760:WARNING:\n",
      "Failed to read header row 6.\n",
      "2008 01 01 2016 07 08\n",
      "\n",
      "Error msg: IndexError('list index out of range',)\n"
     ]
    },
    {
     "name": "stderr",
     "output_type": "stream",
     "text": [
      "2018-09-20 15:34:36,822:WARNING:\n",
      "Failed to read header row 6.\n",
      "2008 01 01 2016 07 08\n",
      "\n",
      "Error msg: IndexError('list index out of range',)\n"
     ]
    },
    {
     "name": "stderr",
     "output_type": "stream",
     "text": [
      "2018-09-20 15:34:36,873:WARNING:\n",
      "Failed to read header row 6.\n",
      "2008 01 01 2016 07 08\n",
      "\n",
      "Error msg: IndexError('list index out of range',)\n"
     ]
    },
    {
     "name": "stderr",
     "output_type": "stream",
     "text": [
      "2018-09-20 15:34:36,922:WARNING:\n",
      "Failed to read header row 6.\n",
      "2008 01 01 2016 07 08\n",
      "\n",
      "Error msg: IndexError('list index out of range',)\n"
     ]
    },
    {
     "name": "stderr",
     "output_type": "stream",
     "text": [
      "2018-09-20 15:34:36,981:WARNING:\n",
      "Failed to read header row 6.\n",
      "2008 01 01 2016 07 08\n",
      "\n",
      "Error msg: IndexError('list index out of range',)\n"
     ]
    },
    {
     "name": "stderr",
     "output_type": "stream",
     "text": [
      "2018-09-20 15:34:37,060:WARNING:\n",
      "Failed to read header row 6.\n",
      "2008 01 01 2016 07 08\n",
      "\n",
      "Error msg: IndexError('list index out of range',)\n"
     ]
    },
    {
     "name": "stderr",
     "output_type": "stream",
     "text": [
      "2018-09-20 15:34:37,120:WARNING:\n",
      "Failed to read header row 6.\n",
      "2008 01 01 2016 07 08\n",
      "\n",
      "Error msg: IndexError('list index out of range',)\n"
     ]
    },
    {
     "name": "stderr",
     "output_type": "stream",
     "text": [
      "2018-09-20 15:34:37,186:WARNING:\n",
      "Failed to read header row 6.\n",
      "2008 01 01 2016 07 08\n",
      "\n",
      "Error msg: IndexError('list index out of range',)\n"
     ]
    },
    {
     "name": "stderr",
     "output_type": "stream",
     "text": [
      "2018-09-20 15:34:37,259:WARNING:\n",
      "Failed to read header row 6.\n",
      "2008 01 01 2016 07 08\n",
      "\n",
      "Error msg: IndexError('list index out of range',)\n"
     ]
    },
    {
     "name": "stderr",
     "output_type": "stream",
     "text": [
      "2018-09-20 15:34:37,309:WARNING:\n",
      "Failed to read header row 6.\n",
      "2008 01 01 2016 07 08\n",
      "\n",
      "Error msg: IndexError('list index out of range',)\n"
     ]
    },
    {
     "name": "stderr",
     "output_type": "stream",
     "text": [
      "2018-09-20 15:34:37,380:WARNING:\n",
      "Failed to read header row 6.\n",
      "2008 01 01 2016 07 08\n",
      "\n",
      "Error msg: IndexError('list index out of range',)\n"
     ]
    },
    {
     "name": "stderr",
     "output_type": "stream",
     "text": [
      "2018-09-20 15:34:37,437:WARNING:\n",
      "Failed to read header row 6.\n",
      "2008 01 01 2016 07 08\n",
      "\n",
      "Error msg: IndexError('list index out of range',)\n"
     ]
    },
    {
     "name": "stderr",
     "output_type": "stream",
     "text": [
      "2018-09-20 15:34:37,515:WARNING:\n",
      "Failed to read header row 6.\n",
      "2008 01 01 2016 07 08\n",
      "\n",
      "Error msg: IndexError('list index out of range',)\n"
     ]
    },
    {
     "name": "stderr",
     "output_type": "stream",
     "text": [
      "2018-09-20 15:34:37,564:WARNING:\n",
      "Failed to read header row 6.\n",
      "2008 01 01 2016 07 08\n",
      "\n",
      "Error msg: IndexError('list index out of range',)\n"
     ]
    },
    {
     "name": "stderr",
     "output_type": "stream",
     "text": [
      "2018-09-20 15:34:37,630:WARNING:\n",
      "Failed to read header row 6.\n",
      "2008 01 01 2016 07 08\n",
      "\n",
      "Error msg: IndexError('list index out of range',)\n"
     ]
    },
    {
     "name": "stderr",
     "output_type": "stream",
     "text": [
      "2018-09-20 15:34:37,699:WARNING:\n",
      "Failed to read header row 6.\n",
      "2008 01 01 2016 07 08\n",
      "\n",
      "Error msg: IndexError('list index out of range',)\n"
     ]
    },
    {
     "name": "stderr",
     "output_type": "stream",
     "text": [
      "2018-09-20 15:34:37,772:WARNING:\n",
      "Failed to read header row 6.\n",
      "2008 01 01 2016 07 08\n",
      "\n",
      "Error msg: IndexError('list index out of range',)\n"
     ]
    },
    {
     "name": "stderr",
     "output_type": "stream",
     "text": [
      "2018-09-20 15:34:37,826:WARNING:\n",
      "Failed to read header row 6.\n",
      "2008 01 01 2016 07 08\n",
      "\n",
      "Error msg: IndexError('list index out of range',)\n"
     ]
    },
    {
     "name": "stderr",
     "output_type": "stream",
     "text": [
      "2018-09-20 15:34:37,891:WARNING:\n",
      "Failed to read header row 6.\n",
      "2008 01 01 2016 07 08\n",
      "\n",
      "Error msg: IndexError('list index out of range',)\n"
     ]
    },
    {
     "name": "stderr",
     "output_type": "stream",
     "text": [
      "2018-09-20 15:34:37,948:WARNING:\n",
      "Failed to read header row 6.\n",
      "2008 01 01 2016 07 08\n",
      "\n",
      "Error msg: IndexError('list index out of range',)\n"
     ]
    },
    {
     "name": "stderr",
     "output_type": "stream",
     "text": [
      "2018-09-20 15:34:37,994:WARNING:\n",
      "Failed to read header row 6.\n",
      "2008 01 01 2016 07 08\n",
      "\n",
      "Error msg: IndexError('list index out of range',)\n"
     ]
    },
    {
     "name": "stderr",
     "output_type": "stream",
     "text": [
      "2018-09-20 15:34:38,040:WARNING:\n",
      "Failed to read header row 6.\n",
      "2008 01 01 2016 07 08\n",
      "\n",
      "Error msg: IndexError('list index out of range',)\n"
     ]
    },
    {
     "name": "stderr",
     "output_type": "stream",
     "text": [
      "2018-09-20 15:34:38,085:WARNING:\n",
      "Failed to read header row 6.\n",
      "2008 01 01 2016 07 08\n",
      "\n",
      "Error msg: IndexError('list index out of range',)\n"
     ]
    },
    {
     "name": "stderr",
     "output_type": "stream",
     "text": [
      "2018-09-20 15:34:38,138:WARNING:\n",
      "Failed to read header row 6.\n",
      "2008 01 01 2016 07 08\n",
      "\n",
      "Error msg: IndexError('list index out of range',)\n"
     ]
    },
    {
     "name": "stderr",
     "output_type": "stream",
     "text": [
      "2018-09-20 15:34:38,206:WARNING:\n",
      "Failed to read header row 6.\n",
      "2008 01 01 2016 07 08\n",
      "\n",
      "Error msg: IndexError('list index out of range',)\n"
     ]
    },
    {
     "name": "stderr",
     "output_type": "stream",
     "text": [
      "2018-09-20 15:34:38,276:WARNING:\n",
      "Failed to read header row 6.\n",
      "2008 01 01 2016 07 08\n",
      "\n",
      "Error msg: IndexError('list index out of range',)\n"
     ]
    },
    {
     "name": "stderr",
     "output_type": "stream",
     "text": [
      "2018-09-20 15:34:38,331:WARNING:\n",
      "Failed to read header row 6.\n",
      "2008 01 01 2016 07 08\n",
      "\n",
      "Error msg: IndexError('list index out of range',)\n"
     ]
    },
    {
     "name": "stderr",
     "output_type": "stream",
     "text": [
      "2018-09-20 15:34:38,381:WARNING:\n",
      "Failed to read header row 6.\n",
      "2008 01 01 2016 07 08\n",
      "\n",
      "Error msg: IndexError('list index out of range',)\n"
     ]
    },
    {
     "name": "stderr",
     "output_type": "stream",
     "text": [
      "2018-09-20 15:34:38,433:WARNING:\n",
      "Failed to read header row 6.\n",
      "2008 01 01 2016 07 08\n",
      "\n",
      "Error msg: IndexError('list index out of range',)\n"
     ]
    },
    {
     "name": "stderr",
     "output_type": "stream",
     "text": [
      "2018-09-20 15:34:38,484:WARNING:\n",
      "Failed to read header row 6.\n",
      "2008 01 01 2016 07 08\n",
      "\n",
      "Error msg: IndexError('list index out of range',)\n"
     ]
    },
    {
     "name": "stderr",
     "output_type": "stream",
     "text": [
      "2018-09-20 15:34:38,539:WARNING:\n",
      "Failed to read header row 6.\n",
      "2008 01 01 2016 07 08\n",
      "\n",
      "Error msg: IndexError('list index out of range',)\n"
     ]
    },
    {
     "name": "stderr",
     "output_type": "stream",
     "text": [
      "2018-09-20 15:34:38,598:WARNING:\n",
      "Failed to read header row 6.\n",
      "2008 01 01 2016 07 08\n",
      "\n",
      "Error msg: IndexError('list index out of range',)\n"
     ]
    },
    {
     "name": "stderr",
     "output_type": "stream",
     "text": [
      "2018-09-20 15:34:38,647:WARNING:\n",
      "Failed to read header row 6.\n",
      "2008 01 01 2016 07 08\n",
      "\n",
      "Error msg: IndexError('list index out of range',)\n"
     ]
    },
    {
     "name": "stderr",
     "output_type": "stream",
     "text": [
      "2018-09-20 15:34:38,700:WARNING:\n",
      "Failed to read header row 6.\n",
      "2008 01 01 2016 07 08\n",
      "\n",
      "Error msg: IndexError('list index out of range',)\n"
     ]
    },
    {
     "name": "stderr",
     "output_type": "stream",
     "text": [
      "2018-09-20 15:34:38,749:WARNING:\n",
      "Failed to read header row 6.\n",
      "2008 01 01 2016 07 08\n",
      "\n",
      "Error msg: IndexError('list index out of range',)\n"
     ]
    },
    {
     "name": "stderr",
     "output_type": "stream",
     "text": [
      "2018-09-20 15:34:38,796:WARNING:\n",
      "Failed to read header row 6.\n",
      "2008 01 01 2016 07 08\n",
      "\n",
      "Error msg: IndexError('list index out of range',)\n"
     ]
    },
    {
     "name": "stdout",
     "output_type": "stream",
     "text": [
      "58.8 ms ± 4.35 ms per loop (mean ± std. dev. of 7 runs, 10 loops each)\n"
     ]
    }
   ],
   "source": [
    "%%timeit\n",
    "EbasNasaAmesFile(file=ebasdir+filename,\n",
    "                      only_head=False,          #set True if you only want to import header\n",
    "                      replace_invalid_nan=False, #replace invalid values with NaNs\n",
    "                      convert_timestamps=False,  #compute datetime64 timestamps from numerical values\n",
    "                      decode_flags=False,        #decode all flags (e.g. 0.111222333 -> 111 222 333)\n",
    "                      verbose=False)"
   ]
  },
  {
   "cell_type": "markdown",
   "metadata": {},
   "source": [
    "Perform all operations:"
   ]
  },
  {
   "cell_type": "code",
   "execution_count": 11,
   "metadata": {},
   "outputs": [
    {
     "name": "stderr",
     "output_type": "stream",
     "text": [
      "2018-09-20 15:34:38,885:WARNING:\n",
      "Failed to read header row 6.\n",
      "2008 01 01 2016 07 08\n",
      "\n",
      "Error msg: IndexError('list index out of range',)\n"
     ]
    },
    {
     "name": "stderr",
     "output_type": "stream",
     "text": [
      "2018-09-20 15:34:38,964:WARNING:\n",
      "Failed to read header row 6.\n",
      "2008 01 01 2016 07 08\n",
      "\n",
      "Error msg: IndexError('list index out of range',)\n"
     ]
    },
    {
     "name": "stderr",
     "output_type": "stream",
     "text": [
      "2018-09-20 15:34:39,019:WARNING:\n",
      "Failed to read header row 6.\n",
      "2008 01 01 2016 07 08\n",
      "\n",
      "Error msg: IndexError('list index out of range',)\n"
     ]
    },
    {
     "name": "stderr",
     "output_type": "stream",
     "text": [
      "2018-09-20 15:34:39,075:WARNING:\n",
      "Failed to read header row 6.\n",
      "2008 01 01 2016 07 08\n",
      "\n",
      "Error msg: IndexError('list index out of range',)\n"
     ]
    },
    {
     "name": "stderr",
     "output_type": "stream",
     "text": [
      "2018-09-20 15:34:39,139:WARNING:\n",
      "Failed to read header row 6.\n",
      "2008 01 01 2016 07 08\n",
      "\n",
      "Error msg: IndexError('list index out of range',)\n"
     ]
    },
    {
     "name": "stderr",
     "output_type": "stream",
     "text": [
      "2018-09-20 15:34:39,236:WARNING:\n",
      "Failed to read header row 6.\n",
      "2008 01 01 2016 07 08\n",
      "\n",
      "Error msg: IndexError('list index out of range',)\n"
     ]
    },
    {
     "name": "stderr",
     "output_type": "stream",
     "text": [
      "2018-09-20 15:34:39,302:WARNING:\n",
      "Failed to read header row 6.\n",
      "2008 01 01 2016 07 08\n",
      "\n",
      "Error msg: IndexError('list index out of range',)\n"
     ]
    },
    {
     "name": "stderr",
     "output_type": "stream",
     "text": [
      "2018-09-20 15:34:39,380:WARNING:\n",
      "Failed to read header row 6.\n",
      "2008 01 01 2016 07 08\n",
      "\n",
      "Error msg: IndexError('list index out of range',)\n"
     ]
    },
    {
     "name": "stderr",
     "output_type": "stream",
     "text": [
      "2018-09-20 15:34:39,440:WARNING:\n",
      "Failed to read header row 6.\n",
      "2008 01 01 2016 07 08\n",
      "\n",
      "Error msg: IndexError('list index out of range',)\n"
     ]
    },
    {
     "name": "stderr",
     "output_type": "stream",
     "text": [
      "2018-09-20 15:34:39,498:WARNING:\n",
      "Failed to read header row 6.\n",
      "2008 01 01 2016 07 08\n",
      "\n",
      "Error msg: IndexError('list index out of range',)\n"
     ]
    },
    {
     "name": "stderr",
     "output_type": "stream",
     "text": [
      "2018-09-20 15:34:39,558:WARNING:\n",
      "Failed to read header row 6.\n",
      "2008 01 01 2016 07 08\n",
      "\n",
      "Error msg: IndexError('list index out of range',)\n"
     ]
    },
    {
     "name": "stderr",
     "output_type": "stream",
     "text": [
      "2018-09-20 15:34:39,618:WARNING:\n",
      "Failed to read header row 6.\n",
      "2008 01 01 2016 07 08\n",
      "\n",
      "Error msg: IndexError('list index out of range',)\n"
     ]
    },
    {
     "name": "stderr",
     "output_type": "stream",
     "text": [
      "2018-09-20 15:34:39,676:WARNING:\n",
      "Failed to read header row 6.\n",
      "2008 01 01 2016 07 08\n",
      "\n",
      "Error msg: IndexError('list index out of range',)\n"
     ]
    },
    {
     "name": "stderr",
     "output_type": "stream",
     "text": [
      "2018-09-20 15:34:39,746:WARNING:\n",
      "Failed to read header row 6.\n",
      "2008 01 01 2016 07 08\n",
      "\n",
      "Error msg: IndexError('list index out of range',)\n"
     ]
    },
    {
     "name": "stderr",
     "output_type": "stream",
     "text": [
      "2018-09-20 15:34:39,801:WARNING:\n",
      "Failed to read header row 6.\n",
      "2008 01 01 2016 07 08\n",
      "\n",
      "Error msg: IndexError('list index out of range',)\n"
     ]
    },
    {
     "name": "stderr",
     "output_type": "stream",
     "text": [
      "2018-09-20 15:34:39,879:WARNING:\n",
      "Failed to read header row 6.\n",
      "2008 01 01 2016 07 08\n",
      "\n",
      "Error msg: IndexError('list index out of range',)\n"
     ]
    },
    {
     "name": "stderr",
     "output_type": "stream",
     "text": [
      "2018-09-20 15:34:39,951:WARNING:\n",
      "Failed to read header row 6.\n",
      "2008 01 01 2016 07 08\n",
      "\n",
      "Error msg: IndexError('list index out of range',)\n"
     ]
    },
    {
     "name": "stderr",
     "output_type": "stream",
     "text": [
      "2018-09-20 15:34:40,024:WARNING:\n",
      "Failed to read header row 6.\n",
      "2008 01 01 2016 07 08\n",
      "\n",
      "Error msg: IndexError('list index out of range',)\n"
     ]
    },
    {
     "name": "stderr",
     "output_type": "stream",
     "text": [
      "2018-09-20 15:34:40,108:WARNING:\n",
      "Failed to read header row 6.\n",
      "2008 01 01 2016 07 08\n",
      "\n",
      "Error msg: IndexError('list index out of range',)\n"
     ]
    },
    {
     "name": "stderr",
     "output_type": "stream",
     "text": [
      "2018-09-20 15:34:40,171:WARNING:\n",
      "Failed to read header row 6.\n",
      "2008 01 01 2016 07 08\n",
      "\n",
      "Error msg: IndexError('list index out of range',)\n"
     ]
    },
    {
     "name": "stderr",
     "output_type": "stream",
     "text": [
      "2018-09-20 15:34:40,237:WARNING:\n",
      "Failed to read header row 6.\n",
      "2008 01 01 2016 07 08\n",
      "\n",
      "Error msg: IndexError('list index out of range',)\n"
     ]
    },
    {
     "name": "stderr",
     "output_type": "stream",
     "text": [
      "2018-09-20 15:34:40,301:WARNING:\n",
      "Failed to read header row 6.\n",
      "2008 01 01 2016 07 08\n",
      "\n",
      "Error msg: IndexError('list index out of range',)\n"
     ]
    },
    {
     "name": "stderr",
     "output_type": "stream",
     "text": [
      "2018-09-20 15:34:40,379:WARNING:\n",
      "Failed to read header row 6.\n",
      "2008 01 01 2016 07 08\n",
      "\n",
      "Error msg: IndexError('list index out of range',)\n"
     ]
    },
    {
     "name": "stderr",
     "output_type": "stream",
     "text": [
      "2018-09-20 15:34:40,456:WARNING:\n",
      "Failed to read header row 6.\n",
      "2008 01 01 2016 07 08\n",
      "\n",
      "Error msg: IndexError('list index out of range',)\n"
     ]
    },
    {
     "name": "stderr",
     "output_type": "stream",
     "text": [
      "2018-09-20 15:34:40,544:WARNING:\n",
      "Failed to read header row 6.\n",
      "2008 01 01 2016 07 08\n",
      "\n",
      "Error msg: IndexError('list index out of range',)\n"
     ]
    },
    {
     "name": "stderr",
     "output_type": "stream",
     "text": [
      "2018-09-20 15:34:40,606:WARNING:\n",
      "Failed to read header row 6.\n",
      "2008 01 01 2016 07 08\n",
      "\n",
      "Error msg: IndexError('list index out of range',)\n"
     ]
    },
    {
     "name": "stderr",
     "output_type": "stream",
     "text": [
      "2018-09-20 15:34:40,674:WARNING:\n",
      "Failed to read header row 6.\n",
      "2008 01 01 2016 07 08\n",
      "\n",
      "Error msg: IndexError('list index out of range',)\n"
     ]
    },
    {
     "name": "stderr",
     "output_type": "stream",
     "text": [
      "2018-09-20 15:34:40,764:WARNING:\n",
      "Failed to read header row 6.\n",
      "2008 01 01 2016 07 08\n",
      "\n",
      "Error msg: IndexError('list index out of range',)\n"
     ]
    },
    {
     "name": "stderr",
     "output_type": "stream",
     "text": [
      "2018-09-20 15:34:40,823:WARNING:\n",
      "Failed to read header row 6.\n",
      "2008 01 01 2016 07 08\n",
      "\n",
      "Error msg: IndexError('list index out of range',)\n"
     ]
    },
    {
     "name": "stderr",
     "output_type": "stream",
     "text": [
      "2018-09-20 15:34:40,888:WARNING:\n",
      "Failed to read header row 6.\n",
      "2008 01 01 2016 07 08\n",
      "\n",
      "Error msg: IndexError('list index out of range',)\n"
     ]
    },
    {
     "name": "stderr",
     "output_type": "stream",
     "text": [
      "2018-09-20 15:34:40,945:WARNING:\n",
      "Failed to read header row 6.\n",
      "2008 01 01 2016 07 08\n",
      "\n",
      "Error msg: IndexError('list index out of range',)\n"
     ]
    },
    {
     "name": "stderr",
     "output_type": "stream",
     "text": [
      "2018-09-20 15:34:41,001:WARNING:\n",
      "Failed to read header row 6.\n",
      "2008 01 01 2016 07 08\n",
      "\n",
      "Error msg: IndexError('list index out of range',)\n"
     ]
    },
    {
     "name": "stderr",
     "output_type": "stream",
     "text": [
      "2018-09-20 15:34:41,069:WARNING:\n",
      "Failed to read header row 6.\n",
      "2008 01 01 2016 07 08\n",
      "\n",
      "Error msg: IndexError('list index out of range',)\n"
     ]
    },
    {
     "name": "stderr",
     "output_type": "stream",
     "text": [
      "2018-09-20 15:34:41,125:WARNING:\n",
      "Failed to read header row 6.\n",
      "2008 01 01 2016 07 08\n",
      "\n",
      "Error msg: IndexError('list index out of range',)\n"
     ]
    },
    {
     "name": "stderr",
     "output_type": "stream",
     "text": [
      "2018-09-20 15:34:41,193:WARNING:\n",
      "Failed to read header row 6.\n",
      "2008 01 01 2016 07 08\n",
      "\n",
      "Error msg: IndexError('list index out of range',)\n"
     ]
    },
    {
     "name": "stderr",
     "output_type": "stream",
     "text": [
      "2018-09-20 15:34:41,262:WARNING:\n",
      "Failed to read header row 6.\n",
      "2008 01 01 2016 07 08\n",
      "\n",
      "Error msg: IndexError('list index out of range',)\n"
     ]
    },
    {
     "name": "stderr",
     "output_type": "stream",
     "text": [
      "2018-09-20 15:34:41,326:WARNING:\n",
      "Failed to read header row 6.\n",
      "2008 01 01 2016 07 08\n",
      "\n",
      "Error msg: IndexError('list index out of range',)\n"
     ]
    },
    {
     "name": "stderr",
     "output_type": "stream",
     "text": [
      "2018-09-20 15:34:41,384:WARNING:\n",
      "Failed to read header row 6.\n",
      "2008 01 01 2016 07 08\n",
      "\n",
      "Error msg: IndexError('list index out of range',)\n"
     ]
    },
    {
     "name": "stderr",
     "output_type": "stream",
     "text": [
      "2018-09-20 15:34:41,463:WARNING:\n",
      "Failed to read header row 6.\n",
      "2008 01 01 2016 07 08\n",
      "\n",
      "Error msg: IndexError('list index out of range',)\n"
     ]
    },
    {
     "name": "stderr",
     "output_type": "stream",
     "text": [
      "2018-09-20 15:34:41,525:WARNING:\n",
      "Failed to read header row 6.\n",
      "2008 01 01 2016 07 08\n",
      "\n",
      "Error msg: IndexError('list index out of range',)\n"
     ]
    },
    {
     "name": "stderr",
     "output_type": "stream",
     "text": [
      "2018-09-20 15:34:41,582:WARNING:\n",
      "Failed to read header row 6.\n",
      "2008 01 01 2016 07 08\n",
      "\n",
      "Error msg: IndexError('list index out of range',)\n"
     ]
    },
    {
     "name": "stderr",
     "output_type": "stream",
     "text": [
      "2018-09-20 15:34:41,641:WARNING:\n",
      "Failed to read header row 6.\n",
      "2008 01 01 2016 07 08\n",
      "\n",
      "Error msg: IndexError('list index out of range',)\n"
     ]
    },
    {
     "name": "stderr",
     "output_type": "stream",
     "text": [
      "2018-09-20 15:34:41,702:WARNING:\n",
      "Failed to read header row 6.\n",
      "2008 01 01 2016 07 08\n",
      "\n",
      "Error msg: IndexError('list index out of range',)\n"
     ]
    },
    {
     "name": "stderr",
     "output_type": "stream",
     "text": [
      "2018-09-20 15:34:41,760:WARNING:\n",
      "Failed to read header row 6.\n",
      "2008 01 01 2016 07 08\n",
      "\n",
      "Error msg: IndexError('list index out of range',)\n"
     ]
    },
    {
     "name": "stderr",
     "output_type": "stream",
     "text": [
      "2018-09-20 15:34:41,819:WARNING:\n",
      "Failed to read header row 6.\n",
      "2008 01 01 2016 07 08\n",
      "\n",
      "Error msg: IndexError('list index out of range',)\n"
     ]
    },
    {
     "name": "stderr",
     "output_type": "stream",
     "text": [
      "2018-09-20 15:34:41,877:WARNING:\n",
      "Failed to read header row 6.\n",
      "2008 01 01 2016 07 08\n",
      "\n",
      "Error msg: IndexError('list index out of range',)\n"
     ]
    },
    {
     "name": "stderr",
     "output_type": "stream",
     "text": [
      "2018-09-20 15:34:41,936:WARNING:\n",
      "Failed to read header row 6.\n",
      "2008 01 01 2016 07 08\n",
      "\n",
      "Error msg: IndexError('list index out of range',)\n"
     ]
    },
    {
     "name": "stderr",
     "output_type": "stream",
     "text": [
      "2018-09-20 15:34:41,995:WARNING:\n",
      "Failed to read header row 6.\n",
      "2008 01 01 2016 07 08\n",
      "\n",
      "Error msg: IndexError('list index out of range',)\n"
     ]
    },
    {
     "name": "stderr",
     "output_type": "stream",
     "text": [
      "2018-09-20 15:34:42,059:WARNING:\n",
      "Failed to read header row 6.\n",
      "2008 01 01 2016 07 08\n",
      "\n",
      "Error msg: IndexError('list index out of range',)\n"
     ]
    },
    {
     "name": "stderr",
     "output_type": "stream",
     "text": [
      "2018-09-20 15:34:42,119:WARNING:\n",
      "Failed to read header row 6.\n",
      "2008 01 01 2016 07 08\n",
      "\n",
      "Error msg: IndexError('list index out of range',)\n"
     ]
    },
    {
     "name": "stderr",
     "output_type": "stream",
     "text": [
      "2018-09-20 15:34:42,187:WARNING:\n",
      "Failed to read header row 6.\n",
      "2008 01 01 2016 07 08\n",
      "\n",
      "Error msg: IndexError('list index out of range',)\n"
     ]
    },
    {
     "name": "stderr",
     "output_type": "stream",
     "text": [
      "2018-09-20 15:34:42,252:WARNING:\n",
      "Failed to read header row 6.\n",
      "2008 01 01 2016 07 08\n",
      "\n",
      "Error msg: IndexError('list index out of range',)\n"
     ]
    },
    {
     "name": "stderr",
     "output_type": "stream",
     "text": [
      "2018-09-20 15:34:42,330:WARNING:\n",
      "Failed to read header row 6.\n",
      "2008 01 01 2016 07 08\n",
      "\n",
      "Error msg: IndexError('list index out of range',)\n"
     ]
    },
    {
     "name": "stderr",
     "output_type": "stream",
     "text": [
      "2018-09-20 15:34:42,390:WARNING:\n",
      "Failed to read header row 6.\n",
      "2008 01 01 2016 07 08\n",
      "\n",
      "Error msg: IndexError('list index out of range',)\n"
     ]
    },
    {
     "name": "stderr",
     "output_type": "stream",
     "text": [
      "2018-09-20 15:34:42,454:WARNING:\n",
      "Failed to read header row 6.\n",
      "2008 01 01 2016 07 08\n",
      "\n",
      "Error msg: IndexError('list index out of range',)\n"
     ]
    },
    {
     "name": "stderr",
     "output_type": "stream",
     "text": [
      "2018-09-20 15:34:42,530:WARNING:\n",
      "Failed to read header row 6.\n",
      "2008 01 01 2016 07 08\n",
      "\n",
      "Error msg: IndexError('list index out of range',)\n"
     ]
    },
    {
     "name": "stderr",
     "output_type": "stream",
     "text": [
      "2018-09-20 15:34:42,609:WARNING:\n",
      "Failed to read header row 6.\n",
      "2008 01 01 2016 07 08\n",
      "\n",
      "Error msg: IndexError('list index out of range',)\n"
     ]
    },
    {
     "name": "stderr",
     "output_type": "stream",
     "text": [
      "2018-09-20 15:34:42,677:WARNING:\n",
      "Failed to read header row 6.\n",
      "2008 01 01 2016 07 08\n",
      "\n",
      "Error msg: IndexError('list index out of range',)\n"
     ]
    },
    {
     "name": "stderr",
     "output_type": "stream",
     "text": [
      "2018-09-20 15:34:42,749:WARNING:\n",
      "Failed to read header row 6.\n",
      "2008 01 01 2016 07 08\n",
      "\n",
      "Error msg: IndexError('list index out of range',)\n"
     ]
    },
    {
     "name": "stderr",
     "output_type": "stream",
     "text": [
      "2018-09-20 15:34:42,806:WARNING:\n",
      "Failed to read header row 6.\n",
      "2008 01 01 2016 07 08\n",
      "\n",
      "Error msg: IndexError('list index out of range',)\n"
     ]
    },
    {
     "name": "stderr",
     "output_type": "stream",
     "text": [
      "2018-09-20 15:34:42,874:WARNING:\n",
      "Failed to read header row 6.\n",
      "2008 01 01 2016 07 08\n",
      "\n",
      "Error msg: IndexError('list index out of range',)\n"
     ]
    },
    {
     "name": "stderr",
     "output_type": "stream",
     "text": [
      "2018-09-20 15:34:42,942:WARNING:\n",
      "Failed to read header row 6.\n",
      "2008 01 01 2016 07 08\n",
      "\n",
      "Error msg: IndexError('list index out of range',)\n"
     ]
    },
    {
     "name": "stderr",
     "output_type": "stream",
     "text": [
      "2018-09-20 15:34:43,004:WARNING:\n",
      "Failed to read header row 6.\n",
      "2008 01 01 2016 07 08\n",
      "\n",
      "Error msg: IndexError('list index out of range',)\n"
     ]
    },
    {
     "name": "stderr",
     "output_type": "stream",
     "text": [
      "2018-09-20 15:34:43,074:WARNING:\n",
      "Failed to read header row 6.\n",
      "2008 01 01 2016 07 08\n",
      "\n",
      "Error msg: IndexError('list index out of range',)\n"
     ]
    },
    {
     "name": "stderr",
     "output_type": "stream",
     "text": [
      "2018-09-20 15:34:43,135:WARNING:\n",
      "Failed to read header row 6.\n",
      "2008 01 01 2016 07 08\n",
      "\n",
      "Error msg: IndexError('list index out of range',)\n"
     ]
    },
    {
     "name": "stderr",
     "output_type": "stream",
     "text": [
      "2018-09-20 15:34:43,196:WARNING:\n",
      "Failed to read header row 6.\n",
      "2008 01 01 2016 07 08\n",
      "\n",
      "Error msg: IndexError('list index out of range',)\n"
     ]
    },
    {
     "name": "stderr",
     "output_type": "stream",
     "text": [
      "2018-09-20 15:34:43,256:WARNING:\n",
      "Failed to read header row 6.\n",
      "2008 01 01 2016 07 08\n",
      "\n",
      "Error msg: IndexError('list index out of range',)\n"
     ]
    },
    {
     "name": "stderr",
     "output_type": "stream",
     "text": [
      "2018-09-20 15:34:43,336:WARNING:\n",
      "Failed to read header row 6.\n",
      "2008 01 01 2016 07 08\n",
      "\n",
      "Error msg: IndexError('list index out of range',)\n"
     ]
    },
    {
     "name": "stderr",
     "output_type": "stream",
     "text": [
      "2018-09-20 15:34:43,418:WARNING:\n",
      "Failed to read header row 6.\n",
      "2008 01 01 2016 07 08\n",
      "\n",
      "Error msg: IndexError('list index out of range',)\n"
     ]
    },
    {
     "name": "stderr",
     "output_type": "stream",
     "text": [
      "2018-09-20 15:34:43,486:WARNING:\n",
      "Failed to read header row 6.\n",
      "2008 01 01 2016 07 08\n",
      "\n",
      "Error msg: IndexError('list index out of range',)\n"
     ]
    },
    {
     "name": "stderr",
     "output_type": "stream",
     "text": [
      "2018-09-20 15:34:43,565:WARNING:\n",
      "Failed to read header row 6.\n",
      "2008 01 01 2016 07 08\n",
      "\n",
      "Error msg: IndexError('list index out of range',)\n"
     ]
    },
    {
     "name": "stderr",
     "output_type": "stream",
     "text": [
      "2018-09-20 15:34:43,633:WARNING:\n",
      "Failed to read header row 6.\n",
      "2008 01 01 2016 07 08\n",
      "\n",
      "Error msg: IndexError('list index out of range',)\n"
     ]
    },
    {
     "name": "stderr",
     "output_type": "stream",
     "text": [
      "2018-09-20 15:34:43,691:WARNING:\n",
      "Failed to read header row 6.\n",
      "2008 01 01 2016 07 08\n",
      "\n",
      "Error msg: IndexError('list index out of range',)\n"
     ]
    },
    {
     "name": "stderr",
     "output_type": "stream",
     "text": [
      "2018-09-20 15:34:43,748:WARNING:\n",
      "Failed to read header row 6.\n",
      "2008 01 01 2016 07 08\n",
      "\n",
      "Error msg: IndexError('list index out of range',)\n"
     ]
    },
    {
     "name": "stderr",
     "output_type": "stream",
     "text": [
      "2018-09-20 15:34:43,811:WARNING:\n",
      "Failed to read header row 6.\n",
      "2008 01 01 2016 07 08\n",
      "\n",
      "Error msg: IndexError('list index out of range',)\n"
     ]
    },
    {
     "name": "stderr",
     "output_type": "stream",
     "text": [
      "2018-09-20 15:34:43,885:WARNING:\n",
      "Failed to read header row 6.\n",
      "2008 01 01 2016 07 08\n",
      "\n",
      "Error msg: IndexError('list index out of range',)\n"
     ]
    },
    {
     "name": "stderr",
     "output_type": "stream",
     "text": [
      "2018-09-20 15:34:43,949:WARNING:\n",
      "Failed to read header row 6.\n",
      "2008 01 01 2016 07 08\n",
      "\n",
      "Error msg: IndexError('list index out of range',)\n"
     ]
    },
    {
     "name": "stderr",
     "output_type": "stream",
     "text": [
      "2018-09-20 15:34:44,005:WARNING:\n",
      "Failed to read header row 6.\n",
      "2008 01 01 2016 07 08\n",
      "\n",
      "Error msg: IndexError('list index out of range',)\n"
     ]
    },
    {
     "name": "stderr",
     "output_type": "stream",
     "text": [
      "2018-09-20 15:34:44,066:WARNING:\n",
      "Failed to read header row 6.\n",
      "2008 01 01 2016 07 08\n",
      "\n",
      "Error msg: IndexError('list index out of range',)\n"
     ]
    },
    {
     "name": "stderr",
     "output_type": "stream",
     "text": [
      "2018-09-20 15:34:44,125:WARNING:\n",
      "Failed to read header row 6.\n",
      "2008 01 01 2016 07 08\n",
      "\n",
      "Error msg: IndexError('list index out of range',)\n"
     ]
    },
    {
     "name": "stderr",
     "output_type": "stream",
     "text": [
      "2018-09-20 15:34:44,189:WARNING:\n",
      "Failed to read header row 6.\n",
      "2008 01 01 2016 07 08\n",
      "\n",
      "Error msg: IndexError('list index out of range',)\n"
     ]
    },
    {
     "name": "stdout",
     "output_type": "stream",
     "text": [
      "66.4 ms ± 3.36 ms per loop (mean ± std. dev. of 7 runs, 10 loops each)\n"
     ]
    }
   ],
   "source": [
    "%%timeit\n",
    "EbasNasaAmesFile(file=ebasdir+filename,\n",
    "                      only_head=False,          #set True if you only want to import header\n",
    "                      replace_invalid_nan=True, #replace invalid values with NaNs\n",
    "                      convert_timestamps=True,  #compute datetime64 timestamps from numerical values\n",
    "                      decode_flags=True,        #decode all flags (e.g. 0.111222333 -> 111 222 333)\n",
    "                      verbose=False)"
   ]
  }
 ],
 "metadata": {
  "kernelspec": {
   "display_name": "Python 3",
   "language": "python",
   "name": "python3"
  },
  "language_info": {
   "codemirror_mode": {
    "name": "ipython",
    "version": 3
   },
   "file_extension": ".py",
   "mimetype": "text/x-python",
   "name": "python",
   "nbconvert_exporter": "python",
   "pygments_lexer": "ipython3",
   "version": "3.6.6"
  }
 },
 "nbformat": 4,
 "nbformat_minor": 2
}
