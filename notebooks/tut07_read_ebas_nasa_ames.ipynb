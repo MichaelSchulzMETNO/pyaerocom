{
 "cells": [
  {
   "cell_type": "markdown",
   "metadata": {},
   "source": [
    "### Tutorial showing how to read EBAS NASA Ames files\n",
    "\n",
    "**Note**: this notebook is currently under development\n",
    "\n",
    "Please see [here](https://ebas-submit.nilu.no/Submit-Data/Getting-started) for information related to the EBAS NASA Ames file format.\n",
    "\n",
    "**Further links**:\n",
    " - [Pyaerocom website](http://aerocom.met.no/pyaerocom/)\n",
    " - [Pyaerocom installation instructions](http://aerocom.met.no/pyaerocom/readme.html#installation)\n",
    " - [Getting started](http://aerocom.met.no/pyaerocom/notebooks.html#getting-started)"
   ]
  },
  {
   "cell_type": "code",
   "execution_count": 1,
   "metadata": {},
   "outputs": [
    {
     "name": "stderr",
     "output_type": "stream",
     "text": [
      "2018-09-24 15:37:05,737:WARNING:\n",
      "basemap extension library is not installed (or cannot be imported. Some features will not be available\n"
     ]
    },
    {
     "name": "stderr",
     "output_type": "stream",
     "text": [
      "2018-09-24 15:37:06,437:WARNING:\n",
      "geopy library is not available. Aeolus data read not enabled\n"
     ]
    },
    {
     "name": "stderr",
     "output_type": "stream",
     "text": [
      "2018-09-24 15:37:06,601:WARNING:\n",
      "Failed to read header row 6.\n",
      "2008 01 01 2016 07 08\n",
      "\n",
      "Error msg: IndexError('list index out of range',)\n"
     ]
    },
    {
     "name": "stdout",
     "output_type": "stream",
     "text": [
      "Pyaerocom EbasNasaAmesFile\n",
      "--------------------------\n",
      "\n",
      "   num_head_lines: 60\n",
      "   num_head_fmt: 1001\n",
      "   data_originator: Flentje, Harald\n",
      "   sponsor_organisation: DE09L, Deutscher Wetterdienst, DWD, Met. Obs., Hohenspeissenberg, , 82283, Hohenspeissenberg, Germany\n",
      "   submitter: Flentje, Harald\n",
      "   project_association: EUSAAR GAW-WDCA\n",
      "   vol_num: 1\n",
      "   vol_totnum: 1\n",
      "   ref_date: 2008 01 01 2016 07 08\n",
      "   revision_date: nan\n",
      "   freq: 0.041667\n",
      "   descr_time_unit: days from file reference point\n",
      "   num_cols_dependent: 11\n",
      "   mul_factors (list, 11 items)\n",
      "   [1.0\n",
      "    1.0\n",
      "    ...\n",
      "    1.0\n",
      "    1.0]\n",
      "\n",
      "   vals_invalid (list, 11 items)\n",
      "   [999.999999\n",
      "    999.999\n",
      "    ...\n",
      "    9999.9\n",
      "    9.999999999]\n",
      "\n",
      "   descr_first_col: end_time of measurement, days from the file reference point\n",
      "\n",
      "   Column variable definitions\n",
      "   -------------------------------\n",
      "   EbasColDef: name=starttime, unit=days, is_var=False, is_flag=False, flag_id=, \n",
      "   EbasColDef: name=endtime, unit=days, is_var=False, is_flag=False, flag_id=, \n",
      "   EbasColDef: name=aerosol_light_backscattering_coefficient, unit=1/Mm, is_var=True, is_flag=False, flag_id=numflag, wavelength=450.0 nm, \n",
      "   EbasColDef: name=aerosol_light_backscattering_coefficient, unit=1/Mm, is_var=True, is_flag=False, flag_id=numflag, wavelength=550.0 nm, \n",
      "   EbasColDef: name=aerosol_light_backscattering_coefficient, unit=1/Mm, is_var=True, is_flag=False, flag_id=numflag, wavelength=700.0 nm, \n",
      "   EbasColDef: name=aerosol_light_scattering_coefficient, unit=1/Mm, is_var=True, is_flag=False, flag_id=numflag, wavelength=450.0 nm, \n",
      "   EbasColDef: name=aerosol_light_scattering_coefficient, unit=1/Mm, is_var=True, is_flag=False, flag_id=numflag, wavelength=550.0 nm, \n",
      "   EbasColDef: name=aerosol_light_scattering_coefficient, unit=1/Mm, is_var=True, is_flag=False, flag_id=numflag, wavelength=700.0 nm, \n",
      "   EbasColDef: name=pressure, unit=hPa, is_var=True, is_flag=False, flag_id=numflag, location=instrument internal, \n",
      "   EbasColDef: name=relative_humidity, unit=%, is_var=True, is_flag=False, flag_id=numflag, location=instrument internal, \n",
      "   EbasColDef: name=temperature, unit=K, is_var=True, is_flag=False, flag_id=numflag, location=instrument internal, \n",
      "   EbasColDef: name=numflag, unit=no unit, is_var=False, is_flag=True, flag_id=, \n",
      "\n",
      "   EBAS meta data\n",
      "   ------------------\n",
      "   verbose: False\n",
      "   data_definition: EBAS_1.1\n",
      "   set_type_code: TU\n",
      "   timezone: UTC\n",
      "   file_name: DE0043G.20080101000000.20160708144500.nephelometer..aerosol.1y.1h.DE09L_tsi_neph_3563.DE09L_nephelometer.lev2.nas\n",
      "   file_creation: 20180101031050\n",
      "   startdate: 20080101000000\n",
      "   revision_date: 20160708144500\n",
      "   statistics: arithmetic mean\n",
      "   data_level: 2\n",
      "   period_code: 1y\n",
      "   resolution_code: 1h\n",
      "   station_code: DE0043G\n",
      "   platform_code: DE0043S\n",
      "   station_name: Hohenpeissenberg\n",
      "   station_wdca-id: GAWADE__HPB\n",
      "   station_gaw-id: HPB\n",
      "   station_gaw-name: Hohenpeissenberg\n",
      "   station_land_use: Grassland\n",
      "   station_setting: Mountain\n",
      "   station_gaw_type: G\n",
      "   station_wmo_region: 6\n",
      "   station_latitude: 47.8014984131\n",
      "   station_longitude: 11.0096197128\n",
      "   station_altitude: 985.0 m\n",
      "   regime: IMG\n",
      "   component: \n",
      "   unit: 1/Mm\n",
      "   matrix: aerosol\n",
      "   laboratory_code: DE09L\n",
      "   instrument_type: nephelometer\n",
      "   instrument_name: tsi_neph_3563\n",
      "   method_ref: DE09L_nephelometer\n",
      "   originator: Flentje, Harald, Harald.Flentje@dwd.de, , , , , , , ,\n",
      "   submitter: Flentje, Harald, Harald.Flentje@dwd.de, , , , , , , ,\n",
      "\n",
      "   Data\n",
      "   --------\n",
      "[[0.00000000e+00 4.16670000e-02            nan ...            nan\n",
      "             nan 3.94999000e-01]\n",
      " [4.16670000e-02 8.33330000e-02            nan ...            nan\n",
      "             nan 3.94999000e-01]\n",
      " [8.33330000e-02 1.25000000e-01            nan ...            nan\n",
      "             nan 3.94999000e-01]\n",
      " ...\n",
      " [3.65875000e+02 3.65916667e+02 4.75900000e+00 ... 8.50000000e+00\n",
      "  2.99900000e+02 2.47000000e-01]\n",
      " [3.65916667e+02 3.65958310e+02 5.16200000e+00 ... 8.70000000e+00\n",
      "  2.99900000e+02 2.47000000e-01]\n",
      " [3.65958333e+02 3.66000000e+02 5.31800000e+00 ... 9.30000000e+00\n",
      "  2.99700000e+02 0.00000000e+00]]\n",
      "Colnum: 12\n",
      "Timestamps: 8784\n"
     ]
    }
   ],
   "source": [
    "import os \n",
    "from pyaerocom.io import EbasNasaAmesFile\n",
    "\n",
    "ebasdir = \"/lustre/storeA/project/aerocom/aerocom1/AEROCOM_OBSDATA/EBASMultiColumn/data/data/\"\n",
    "filename = \"DE0043G.20080101000000.20160708144500.nephelometer..aerosol.1y.1h.DE09L_tsi_neph_3563.DE09L_nephelometer.lev2.nas\"\n",
    "\n",
    "mc = EbasNasaAmesFile(file=ebasdir+filename,\n",
    "                      only_head=False,          #set True if you only want to import header\n",
    "                      replace_invalid_nan=True, #replace invalid values with NaNs\n",
    "                      convert_timestamps=True,  #compute datetime64 timestamps from numerical values\n",
    "                      decode_flags=True,        #decode all flags (e.g. 0.111222333 -> 111 222 333)\n",
    "                      verbose=False)\n",
    "print(mc)"
   ]
  },
  {
   "cell_type": "markdown",
   "metadata": {},
   "source": [
    "#### Column information"
   ]
  },
  {
   "cell_type": "code",
   "execution_count": 2,
   "metadata": {},
   "outputs": [
    {
     "name": "stdout",
     "output_type": "stream",
     "text": [
      "Column 0\n",
      "Pyaerocom EbasColDef\n",
      "--------------------\n",
      "name: starttime\n",
      "unit: days\n",
      "is_var: False\n",
      "is_flag: False\n",
      "flag_id: \n",
      "\n",
      "Column 1\n",
      "Pyaerocom EbasColDef\n",
      "--------------------\n",
      "name: endtime\n",
      "unit: days\n",
      "is_var: False\n",
      "is_flag: False\n",
      "flag_id: \n",
      "\n",
      "Column 2\n",
      "Pyaerocom EbasColDef\n",
      "--------------------\n",
      "name: aerosol_light_backscattering_coefficient\n",
      "unit: 1/Mm\n",
      "is_var: True\n",
      "is_flag: False\n",
      "flag_id: numflag\n",
      "wavelength: 450.0 nm\n",
      "\n",
      "Column 3\n",
      "Pyaerocom EbasColDef\n",
      "--------------------\n",
      "name: aerosol_light_backscattering_coefficient\n",
      "unit: 1/Mm\n",
      "is_var: True\n",
      "is_flag: False\n",
      "flag_id: numflag\n",
      "wavelength: 550.0 nm\n",
      "\n",
      "Column 4\n",
      "Pyaerocom EbasColDef\n",
      "--------------------\n",
      "name: aerosol_light_backscattering_coefficient\n",
      "unit: 1/Mm\n",
      "is_var: True\n",
      "is_flag: False\n",
      "flag_id: numflag\n",
      "wavelength: 700.0 nm\n",
      "\n",
      "Column 5\n",
      "Pyaerocom EbasColDef\n",
      "--------------------\n",
      "name: aerosol_light_scattering_coefficient\n",
      "unit: 1/Mm\n",
      "is_var: True\n",
      "is_flag: False\n",
      "flag_id: numflag\n",
      "wavelength: 450.0 nm\n",
      "\n",
      "Column 6\n",
      "Pyaerocom EbasColDef\n",
      "--------------------\n",
      "name: aerosol_light_scattering_coefficient\n",
      "unit: 1/Mm\n",
      "is_var: True\n",
      "is_flag: False\n",
      "flag_id: numflag\n",
      "wavelength: 550.0 nm\n",
      "\n",
      "Column 7\n",
      "Pyaerocom EbasColDef\n",
      "--------------------\n",
      "name: aerosol_light_scattering_coefficient\n",
      "unit: 1/Mm\n",
      "is_var: True\n",
      "is_flag: False\n",
      "flag_id: numflag\n",
      "wavelength: 700.0 nm\n",
      "\n",
      "Column 8\n",
      "Pyaerocom EbasColDef\n",
      "--------------------\n",
      "name: pressure\n",
      "unit: hPa\n",
      "is_var: True\n",
      "is_flag: False\n",
      "flag_id: numflag\n",
      "location: instrument internal\n",
      "\n",
      "Column 9\n",
      "Pyaerocom EbasColDef\n",
      "--------------------\n",
      "name: relative_humidity\n",
      "unit: %\n",
      "is_var: True\n",
      "is_flag: False\n",
      "flag_id: numflag\n",
      "location: instrument internal\n",
      "\n",
      "Column 10\n",
      "Pyaerocom EbasColDef\n",
      "--------------------\n",
      "name: temperature\n",
      "unit: K\n",
      "is_var: True\n",
      "is_flag: False\n",
      "flag_id: numflag\n",
      "location: instrument internal\n",
      "\n",
      "Column 11\n",
      "Pyaerocom EbasColDef\n",
      "--------------------\n",
      "name: numflag\n",
      "unit: no unit\n",
      "is_var: False\n",
      "is_flag: True\n",
      "flag_id: \n",
      "\n"
     ]
    }
   ],
   "source": [
    "mc.print_col_info()"
   ]
  },
  {
   "cell_type": "markdown",
   "metadata": {},
   "source": [
    "You can see that all variable columns were assigned the same flag column, since there is only one. This would be different if there were multiple flag columns (e.g. one for each variable).\n",
    "\n",
    "#### Access flag information\n",
    "\n",
    "You can access the flags for each column using the ``flags`` attribute of the file."
   ]
  },
  {
   "cell_type": "code",
   "execution_count": 3,
   "metadata": {},
   "outputs": [
    {
     "data": {
      "text/plain": [
       "OrderedDict([('numflag',\n",
       "              <pyaerocom.io.ebas_nasa_ames.EbasFlagCol at 0x7fc7ac091908>)])"
      ]
     },
     "execution_count": 3,
     "metadata": {},
     "output_type": "execute_result"
    }
   ],
   "source": [
    "mc.flags"
   ]
  },
  {
   "cell_type": "code",
   "execution_count": 4,
   "metadata": {},
   "outputs": [],
   "source": [
    "flagcol = mc.flags[\"numflag\"]"
   ]
  },
  {
   "cell_type": "markdown",
   "metadata": {},
   "source": [
    "The raw flags can be accessed via:"
   ]
  },
  {
   "cell_type": "code",
   "execution_count": 5,
   "metadata": {},
   "outputs": [
    {
     "data": {
      "text/plain": [
       "array([0.394999, 0.394999, 0.394999, ..., 0.247   , 0.247   , 0.      ])"
      ]
     },
     "execution_count": 5,
     "metadata": {},
     "output_type": "execute_result"
    }
   ],
   "source": [
    "flagcol.raw_data"
   ]
  },
  {
   "cell_type": "markdown",
   "metadata": {},
   "source": [
    "And the processed flags are in stored in a (Nx3) numpy array where N is the total number of timestamps."
   ]
  },
  {
   "cell_type": "code",
   "execution_count": 6,
   "metadata": {},
   "outputs": [
    {
     "data": {
      "text/plain": [
       "array([[394, 999,   0],\n",
       "       [394, 999,   0],\n",
       "       [394, 999,   0],\n",
       "       ...,\n",
       "       [247,   0,   0],\n",
       "       [247,   0,   0],\n",
       "       [  0,   0,   0]])"
      ]
     },
     "execution_count": 6,
     "metadata": {},
     "output_type": "execute_result"
    }
   ],
   "source": [
    "flagcol.flags"
   ]
  },
  {
   "cell_type": "markdown",
   "metadata": {},
   "source": [
    "For instance, access the flags of the 5 timestamp:"
   ]
  },
  {
   "cell_type": "code",
   "execution_count": 7,
   "metadata": {},
   "outputs": [
    {
     "data": {
      "text/plain": [
       "array([394, 999,   0])"
      ]
     },
     "execution_count": 7,
     "metadata": {},
     "output_type": "execute_result"
    }
   ],
   "source": [
    "flagcol.flags[4]"
   ]
  },
  {
   "cell_type": "markdown",
   "metadata": {},
   "source": [
    "#### Convert object to pandas Dataframe\n",
    "\n",
    "The conversion does currently exclude all flag columns"
   ]
  },
  {
   "cell_type": "code",
   "execution_count": 8,
   "metadata": {},
   "outputs": [
    {
     "data": {
      "text/html": [
       "<div>\n",
       "<style scoped>\n",
       "    .dataframe tbody tr th:only-of-type {\n",
       "        vertical-align: middle;\n",
       "    }\n",
       "\n",
       "    .dataframe tbody tr th {\n",
       "        vertical-align: top;\n",
       "    }\n",
       "\n",
       "    .dataframe thead th {\n",
       "        text-align: right;\n",
       "    }\n",
       "</style>\n",
       "<table border=\"1\" class=\"dataframe\">\n",
       "  <thead>\n",
       "    <tr style=\"text-align: right;\">\n",
       "      <th></th>\n",
       "      <th>aerosol_light_backscattering_coefficient</th>\n",
       "      <th>aerosol_light_backscattering_coefficient</th>\n",
       "      <th>aerosol_light_backscattering_coefficient</th>\n",
       "      <th>aerosol_light_scattering_coefficient</th>\n",
       "      <th>aerosol_light_scattering_coefficient</th>\n",
       "      <th>aerosol_light_scattering_coefficient</th>\n",
       "      <th>pressure</th>\n",
       "      <th>relative_humidity</th>\n",
       "      <th>temperature</th>\n",
       "    </tr>\n",
       "  </thead>\n",
       "  <tbody>\n",
       "    <tr>\n",
       "      <th>2008-01-01 00:30:00</th>\n",
       "      <td>NaN</td>\n",
       "      <td>NaN</td>\n",
       "      <td>NaN</td>\n",
       "      <td>NaN</td>\n",
       "      <td>NaN</td>\n",
       "      <td>NaN</td>\n",
       "      <td>NaN</td>\n",
       "      <td>NaN</td>\n",
       "      <td>NaN</td>\n",
       "    </tr>\n",
       "    <tr>\n",
       "      <th>2008-01-01 01:29:59</th>\n",
       "      <td>NaN</td>\n",
       "      <td>NaN</td>\n",
       "      <td>NaN</td>\n",
       "      <td>NaN</td>\n",
       "      <td>NaN</td>\n",
       "      <td>NaN</td>\n",
       "      <td>NaN</td>\n",
       "      <td>NaN</td>\n",
       "      <td>NaN</td>\n",
       "    </tr>\n",
       "    <tr>\n",
       "      <th>2008-01-01 02:29:59</th>\n",
       "      <td>NaN</td>\n",
       "      <td>NaN</td>\n",
       "      <td>NaN</td>\n",
       "      <td>NaN</td>\n",
       "      <td>NaN</td>\n",
       "      <td>NaN</td>\n",
       "      <td>NaN</td>\n",
       "      <td>NaN</td>\n",
       "      <td>NaN</td>\n",
       "    </tr>\n",
       "    <tr>\n",
       "      <th>2008-01-01 03:30:00</th>\n",
       "      <td>NaN</td>\n",
       "      <td>NaN</td>\n",
       "      <td>NaN</td>\n",
       "      <td>NaN</td>\n",
       "      <td>NaN</td>\n",
       "      <td>NaN</td>\n",
       "      <td>NaN</td>\n",
       "      <td>NaN</td>\n",
       "      <td>NaN</td>\n",
       "    </tr>\n",
       "    <tr>\n",
       "      <th>2008-01-01 04:29:59</th>\n",
       "      <td>NaN</td>\n",
       "      <td>NaN</td>\n",
       "      <td>NaN</td>\n",
       "      <td>NaN</td>\n",
       "      <td>NaN</td>\n",
       "      <td>NaN</td>\n",
       "      <td>NaN</td>\n",
       "      <td>NaN</td>\n",
       "      <td>NaN</td>\n",
       "    </tr>\n",
       "    <tr>\n",
       "      <th>2008-01-01 05:29:59</th>\n",
       "      <td>NaN</td>\n",
       "      <td>NaN</td>\n",
       "      <td>NaN</td>\n",
       "      <td>NaN</td>\n",
       "      <td>NaN</td>\n",
       "      <td>NaN</td>\n",
       "      <td>NaN</td>\n",
       "      <td>NaN</td>\n",
       "      <td>NaN</td>\n",
       "    </tr>\n",
       "    <tr>\n",
       "      <th>2008-01-01 06:30:00</th>\n",
       "      <td>NaN</td>\n",
       "      <td>NaN</td>\n",
       "      <td>NaN</td>\n",
       "      <td>NaN</td>\n",
       "      <td>NaN</td>\n",
       "      <td>NaN</td>\n",
       "      <td>NaN</td>\n",
       "      <td>NaN</td>\n",
       "      <td>NaN</td>\n",
       "    </tr>\n",
       "    <tr>\n",
       "      <th>2008-01-01 07:29:59</th>\n",
       "      <td>NaN</td>\n",
       "      <td>NaN</td>\n",
       "      <td>NaN</td>\n",
       "      <td>NaN</td>\n",
       "      <td>NaN</td>\n",
       "      <td>NaN</td>\n",
       "      <td>NaN</td>\n",
       "      <td>NaN</td>\n",
       "      <td>NaN</td>\n",
       "    </tr>\n",
       "    <tr>\n",
       "      <th>2008-01-01 08:29:59</th>\n",
       "      <td>NaN</td>\n",
       "      <td>NaN</td>\n",
       "      <td>NaN</td>\n",
       "      <td>NaN</td>\n",
       "      <td>NaN</td>\n",
       "      <td>NaN</td>\n",
       "      <td>NaN</td>\n",
       "      <td>NaN</td>\n",
       "      <td>NaN</td>\n",
       "    </tr>\n",
       "    <tr>\n",
       "      <th>2008-01-01 09:30:00</th>\n",
       "      <td>NaN</td>\n",
       "      <td>NaN</td>\n",
       "      <td>NaN</td>\n",
       "      <td>NaN</td>\n",
       "      <td>NaN</td>\n",
       "      <td>NaN</td>\n",
       "      <td>NaN</td>\n",
       "      <td>NaN</td>\n",
       "      <td>NaN</td>\n",
       "    </tr>\n",
       "    <tr>\n",
       "      <th>2008-01-01 10:29:59</th>\n",
       "      <td>NaN</td>\n",
       "      <td>NaN</td>\n",
       "      <td>NaN</td>\n",
       "      <td>NaN</td>\n",
       "      <td>NaN</td>\n",
       "      <td>NaN</td>\n",
       "      <td>NaN</td>\n",
       "      <td>NaN</td>\n",
       "      <td>NaN</td>\n",
       "    </tr>\n",
       "    <tr>\n",
       "      <th>2008-01-01 11:29:59</th>\n",
       "      <td>NaN</td>\n",
       "      <td>NaN</td>\n",
       "      <td>NaN</td>\n",
       "      <td>NaN</td>\n",
       "      <td>NaN</td>\n",
       "      <td>NaN</td>\n",
       "      <td>NaN</td>\n",
       "      <td>NaN</td>\n",
       "      <td>NaN</td>\n",
       "    </tr>\n",
       "    <tr>\n",
       "      <th>2008-01-01 12:30:00</th>\n",
       "      <td>NaN</td>\n",
       "      <td>NaN</td>\n",
       "      <td>NaN</td>\n",
       "      <td>NaN</td>\n",
       "      <td>NaN</td>\n",
       "      <td>NaN</td>\n",
       "      <td>NaN</td>\n",
       "      <td>NaN</td>\n",
       "      <td>NaN</td>\n",
       "    </tr>\n",
       "    <tr>\n",
       "      <th>2008-01-01 13:29:59</th>\n",
       "      <td>NaN</td>\n",
       "      <td>NaN</td>\n",
       "      <td>NaN</td>\n",
       "      <td>NaN</td>\n",
       "      <td>NaN</td>\n",
       "      <td>NaN</td>\n",
       "      <td>NaN</td>\n",
       "      <td>NaN</td>\n",
       "      <td>NaN</td>\n",
       "    </tr>\n",
       "    <tr>\n",
       "      <th>2008-01-01 14:29:59</th>\n",
       "      <td>NaN</td>\n",
       "      <td>NaN</td>\n",
       "      <td>NaN</td>\n",
       "      <td>NaN</td>\n",
       "      <td>NaN</td>\n",
       "      <td>NaN</td>\n",
       "      <td>NaN</td>\n",
       "      <td>NaN</td>\n",
       "      <td>NaN</td>\n",
       "    </tr>\n",
       "    <tr>\n",
       "      <th>2008-01-01 15:30:00</th>\n",
       "      <td>NaN</td>\n",
       "      <td>NaN</td>\n",
       "      <td>NaN</td>\n",
       "      <td>NaN</td>\n",
       "      <td>NaN</td>\n",
       "      <td>NaN</td>\n",
       "      <td>NaN</td>\n",
       "      <td>NaN</td>\n",
       "      <td>NaN</td>\n",
       "    </tr>\n",
       "    <tr>\n",
       "      <th>2008-01-01 16:29:59</th>\n",
       "      <td>NaN</td>\n",
       "      <td>NaN</td>\n",
       "      <td>NaN</td>\n",
       "      <td>NaN</td>\n",
       "      <td>NaN</td>\n",
       "      <td>NaN</td>\n",
       "      <td>NaN</td>\n",
       "      <td>NaN</td>\n",
       "      <td>NaN</td>\n",
       "    </tr>\n",
       "    <tr>\n",
       "      <th>2008-01-01 17:29:59</th>\n",
       "      <td>NaN</td>\n",
       "      <td>NaN</td>\n",
       "      <td>NaN</td>\n",
       "      <td>NaN</td>\n",
       "      <td>NaN</td>\n",
       "      <td>NaN</td>\n",
       "      <td>NaN</td>\n",
       "      <td>NaN</td>\n",
       "      <td>NaN</td>\n",
       "    </tr>\n",
       "    <tr>\n",
       "      <th>2008-01-01 18:30:00</th>\n",
       "      <td>NaN</td>\n",
       "      <td>NaN</td>\n",
       "      <td>NaN</td>\n",
       "      <td>NaN</td>\n",
       "      <td>NaN</td>\n",
       "      <td>NaN</td>\n",
       "      <td>NaN</td>\n",
       "      <td>NaN</td>\n",
       "      <td>NaN</td>\n",
       "    </tr>\n",
       "    <tr>\n",
       "      <th>2008-01-01 19:29:59</th>\n",
       "      <td>NaN</td>\n",
       "      <td>NaN</td>\n",
       "      <td>NaN</td>\n",
       "      <td>NaN</td>\n",
       "      <td>NaN</td>\n",
       "      <td>NaN</td>\n",
       "      <td>NaN</td>\n",
       "      <td>NaN</td>\n",
       "      <td>NaN</td>\n",
       "    </tr>\n",
       "    <tr>\n",
       "      <th>2008-01-01 20:29:59</th>\n",
       "      <td>NaN</td>\n",
       "      <td>NaN</td>\n",
       "      <td>NaN</td>\n",
       "      <td>NaN</td>\n",
       "      <td>NaN</td>\n",
       "      <td>NaN</td>\n",
       "      <td>NaN</td>\n",
       "      <td>NaN</td>\n",
       "      <td>NaN</td>\n",
       "    </tr>\n",
       "    <tr>\n",
       "      <th>2008-01-01 21:30:00</th>\n",
       "      <td>NaN</td>\n",
       "      <td>NaN</td>\n",
       "      <td>NaN</td>\n",
       "      <td>NaN</td>\n",
       "      <td>NaN</td>\n",
       "      <td>NaN</td>\n",
       "      <td>NaN</td>\n",
       "      <td>NaN</td>\n",
       "      <td>NaN</td>\n",
       "    </tr>\n",
       "    <tr>\n",
       "      <th>2008-01-01 22:29:59</th>\n",
       "      <td>NaN</td>\n",
       "      <td>NaN</td>\n",
       "      <td>NaN</td>\n",
       "      <td>NaN</td>\n",
       "      <td>NaN</td>\n",
       "      <td>NaN</td>\n",
       "      <td>NaN</td>\n",
       "      <td>NaN</td>\n",
       "      <td>NaN</td>\n",
       "    </tr>\n",
       "    <tr>\n",
       "      <th>2008-01-01 23:29:59</th>\n",
       "      <td>NaN</td>\n",
       "      <td>NaN</td>\n",
       "      <td>NaN</td>\n",
       "      <td>NaN</td>\n",
       "      <td>NaN</td>\n",
       "      <td>NaN</td>\n",
       "      <td>NaN</td>\n",
       "      <td>NaN</td>\n",
       "      <td>NaN</td>\n",
       "    </tr>\n",
       "    <tr>\n",
       "      <th>2008-01-02 00:30:00</th>\n",
       "      <td>NaN</td>\n",
       "      <td>NaN</td>\n",
       "      <td>NaN</td>\n",
       "      <td>NaN</td>\n",
       "      <td>NaN</td>\n",
       "      <td>NaN</td>\n",
       "      <td>NaN</td>\n",
       "      <td>NaN</td>\n",
       "      <td>NaN</td>\n",
       "    </tr>\n",
       "    <tr>\n",
       "      <th>2008-01-02 01:29:59</th>\n",
       "      <td>NaN</td>\n",
       "      <td>NaN</td>\n",
       "      <td>NaN</td>\n",
       "      <td>NaN</td>\n",
       "      <td>NaN</td>\n",
       "      <td>NaN</td>\n",
       "      <td>NaN</td>\n",
       "      <td>NaN</td>\n",
       "      <td>NaN</td>\n",
       "    </tr>\n",
       "    <tr>\n",
       "      <th>2008-01-02 02:29:59</th>\n",
       "      <td>NaN</td>\n",
       "      <td>NaN</td>\n",
       "      <td>NaN</td>\n",
       "      <td>NaN</td>\n",
       "      <td>NaN</td>\n",
       "      <td>NaN</td>\n",
       "      <td>NaN</td>\n",
       "      <td>NaN</td>\n",
       "      <td>NaN</td>\n",
       "    </tr>\n",
       "    <tr>\n",
       "      <th>2008-01-02 03:30:00</th>\n",
       "      <td>NaN</td>\n",
       "      <td>NaN</td>\n",
       "      <td>NaN</td>\n",
       "      <td>NaN</td>\n",
       "      <td>NaN</td>\n",
       "      <td>NaN</td>\n",
       "      <td>NaN</td>\n",
       "      <td>NaN</td>\n",
       "      <td>NaN</td>\n",
       "    </tr>\n",
       "    <tr>\n",
       "      <th>2008-01-02 04:29:59</th>\n",
       "      <td>NaN</td>\n",
       "      <td>NaN</td>\n",
       "      <td>NaN</td>\n",
       "      <td>NaN</td>\n",
       "      <td>NaN</td>\n",
       "      <td>NaN</td>\n",
       "      <td>NaN</td>\n",
       "      <td>NaN</td>\n",
       "      <td>NaN</td>\n",
       "    </tr>\n",
       "    <tr>\n",
       "      <th>2008-01-02 05:29:59</th>\n",
       "      <td>NaN</td>\n",
       "      <td>NaN</td>\n",
       "      <td>NaN</td>\n",
       "      <td>NaN</td>\n",
       "      <td>NaN</td>\n",
       "      <td>NaN</td>\n",
       "      <td>NaN</td>\n",
       "      <td>NaN</td>\n",
       "      <td>NaN</td>\n",
       "    </tr>\n",
       "    <tr>\n",
       "      <th>...</th>\n",
       "      <td>...</td>\n",
       "      <td>...</td>\n",
       "      <td>...</td>\n",
       "      <td>...</td>\n",
       "      <td>...</td>\n",
       "      <td>...</td>\n",
       "      <td>...</td>\n",
       "      <td>...</td>\n",
       "      <td>...</td>\n",
       "    </tr>\n",
       "    <tr>\n",
       "      <th>2008-12-30 18:30:00</th>\n",
       "      <td>0.547</td>\n",
       "      <td>0.409</td>\n",
       "      <td>0.303</td>\n",
       "      <td>5.250</td>\n",
       "      <td>3.716</td>\n",
       "      <td>2.264</td>\n",
       "      <td>909.0</td>\n",
       "      <td>4.5</td>\n",
       "      <td>300.4</td>\n",
       "    </tr>\n",
       "    <tr>\n",
       "      <th>2008-12-30 19:29:58</th>\n",
       "      <td>1.045</td>\n",
       "      <td>0.688</td>\n",
       "      <td>0.558</td>\n",
       "      <td>7.934</td>\n",
       "      <td>5.414</td>\n",
       "      <td>3.308</td>\n",
       "      <td>909.0</td>\n",
       "      <td>5.7</td>\n",
       "      <td>300.2</td>\n",
       "    </tr>\n",
       "    <tr>\n",
       "      <th>2008-12-30 20:29:59</th>\n",
       "      <td>7.862</td>\n",
       "      <td>5.979</td>\n",
       "      <td>4.602</td>\n",
       "      <td>70.955</td>\n",
       "      <td>50.095</td>\n",
       "      <td>30.940</td>\n",
       "      <td>909.0</td>\n",
       "      <td>8.9</td>\n",
       "      <td>300.4</td>\n",
       "    </tr>\n",
       "    <tr>\n",
       "      <th>2008-12-30 21:30:00</th>\n",
       "      <td>11.044</td>\n",
       "      <td>8.777</td>\n",
       "      <td>6.770</td>\n",
       "      <td>103.578</td>\n",
       "      <td>73.434</td>\n",
       "      <td>45.628</td>\n",
       "      <td>909.0</td>\n",
       "      <td>9.2</td>\n",
       "      <td>300.3</td>\n",
       "    </tr>\n",
       "    <tr>\n",
       "      <th>2008-12-30 22:29:58</th>\n",
       "      <td>6.420</td>\n",
       "      <td>5.011</td>\n",
       "      <td>3.801</td>\n",
       "      <td>57.828</td>\n",
       "      <td>40.803</td>\n",
       "      <td>25.309</td>\n",
       "      <td>909.0</td>\n",
       "      <td>8.7</td>\n",
       "      <td>300.1</td>\n",
       "    </tr>\n",
       "    <tr>\n",
       "      <th>2008-12-30 23:29:59</th>\n",
       "      <td>3.947</td>\n",
       "      <td>3.107</td>\n",
       "      <td>2.509</td>\n",
       "      <td>41.293</td>\n",
       "      <td>30.195</td>\n",
       "      <td>19.253</td>\n",
       "      <td>909.0</td>\n",
       "      <td>8.1</td>\n",
       "      <td>300.4</td>\n",
       "    </tr>\n",
       "    <tr>\n",
       "      <th>2008-12-31 00:30:00</th>\n",
       "      <td>2.950</td>\n",
       "      <td>2.492</td>\n",
       "      <td>1.939</td>\n",
       "      <td>32.975</td>\n",
       "      <td>24.133</td>\n",
       "      <td>15.449</td>\n",
       "      <td>908.0</td>\n",
       "      <td>7.9</td>\n",
       "      <td>299.8</td>\n",
       "    </tr>\n",
       "    <tr>\n",
       "      <th>2008-12-31 01:29:58</th>\n",
       "      <td>2.024</td>\n",
       "      <td>1.660</td>\n",
       "      <td>1.362</td>\n",
       "      <td>22.381</td>\n",
       "      <td>16.227</td>\n",
       "      <td>10.269</td>\n",
       "      <td>908.0</td>\n",
       "      <td>7.5</td>\n",
       "      <td>300.2</td>\n",
       "    </tr>\n",
       "    <tr>\n",
       "      <th>2008-12-31 02:29:59</th>\n",
       "      <td>0.731</td>\n",
       "      <td>0.569</td>\n",
       "      <td>0.508</td>\n",
       "      <td>6.382</td>\n",
       "      <td>4.487</td>\n",
       "      <td>2.890</td>\n",
       "      <td>907.0</td>\n",
       "      <td>6.6</td>\n",
       "      <td>299.9</td>\n",
       "    </tr>\n",
       "    <tr>\n",
       "      <th>2008-12-31 03:30:00</th>\n",
       "      <td>0.733</td>\n",
       "      <td>0.659</td>\n",
       "      <td>0.506</td>\n",
       "      <td>6.934</td>\n",
       "      <td>4.876</td>\n",
       "      <td>3.026</td>\n",
       "      <td>907.0</td>\n",
       "      <td>6.7</td>\n",
       "      <td>299.8</td>\n",
       "    </tr>\n",
       "    <tr>\n",
       "      <th>2008-12-31 04:29:58</th>\n",
       "      <td>0.994</td>\n",
       "      <td>0.779</td>\n",
       "      <td>0.714</td>\n",
       "      <td>9.422</td>\n",
       "      <td>6.621</td>\n",
       "      <td>4.073</td>\n",
       "      <td>907.0</td>\n",
       "      <td>7.0</td>\n",
       "      <td>300.2</td>\n",
       "    </tr>\n",
       "    <tr>\n",
       "      <th>2008-12-31 05:29:59</th>\n",
       "      <td>1.842</td>\n",
       "      <td>1.514</td>\n",
       "      <td>1.198</td>\n",
       "      <td>18.791</td>\n",
       "      <td>13.431</td>\n",
       "      <td>8.296</td>\n",
       "      <td>906.0</td>\n",
       "      <td>7.5</td>\n",
       "      <td>300.2</td>\n",
       "    </tr>\n",
       "    <tr>\n",
       "      <th>2008-12-31 06:30:00</th>\n",
       "      <td>4.045</td>\n",
       "      <td>3.247</td>\n",
       "      <td>2.608</td>\n",
       "      <td>42.560</td>\n",
       "      <td>31.077</td>\n",
       "      <td>19.972</td>\n",
       "      <td>906.0</td>\n",
       "      <td>8.2</td>\n",
       "      <td>299.9</td>\n",
       "    </tr>\n",
       "    <tr>\n",
       "      <th>2008-12-31 07:29:58</th>\n",
       "      <td>3.753</td>\n",
       "      <td>2.974</td>\n",
       "      <td>2.371</td>\n",
       "      <td>40.905</td>\n",
       "      <td>29.963</td>\n",
       "      <td>19.293</td>\n",
       "      <td>906.0</td>\n",
       "      <td>8.0</td>\n",
       "      <td>299.8</td>\n",
       "    </tr>\n",
       "    <tr>\n",
       "      <th>2008-12-31 08:29:59</th>\n",
       "      <td>2.799</td>\n",
       "      <td>2.189</td>\n",
       "      <td>1.745</td>\n",
       "      <td>29.099</td>\n",
       "      <td>21.226</td>\n",
       "      <td>13.575</td>\n",
       "      <td>906.0</td>\n",
       "      <td>7.7</td>\n",
       "      <td>299.9</td>\n",
       "    </tr>\n",
       "    <tr>\n",
       "      <th>2008-12-31 09:30:00</th>\n",
       "      <td>1.760</td>\n",
       "      <td>1.427</td>\n",
       "      <td>1.077</td>\n",
       "      <td>16.988</td>\n",
       "      <td>12.135</td>\n",
       "      <td>7.623</td>\n",
       "      <td>906.0</td>\n",
       "      <td>7.1</td>\n",
       "      <td>300.3</td>\n",
       "    </tr>\n",
       "    <tr>\n",
       "      <th>2008-12-31 10:29:58</th>\n",
       "      <td>2.548</td>\n",
       "      <td>1.917</td>\n",
       "      <td>1.455</td>\n",
       "      <td>24.601</td>\n",
       "      <td>17.758</td>\n",
       "      <td>11.318</td>\n",
       "      <td>905.0</td>\n",
       "      <td>7.1</td>\n",
       "      <td>300.7</td>\n",
       "    </tr>\n",
       "    <tr>\n",
       "      <th>2008-12-31 11:29:59</th>\n",
       "      <td>2.486</td>\n",
       "      <td>1.909</td>\n",
       "      <td>1.442</td>\n",
       "      <td>24.114</td>\n",
       "      <td>17.331</td>\n",
       "      <td>11.010</td>\n",
       "      <td>905.0</td>\n",
       "      <td>7.0</td>\n",
       "      <td>301.2</td>\n",
       "    </tr>\n",
       "    <tr>\n",
       "      <th>2008-12-31 12:30:00</th>\n",
       "      <td>2.660</td>\n",
       "      <td>2.172</td>\n",
       "      <td>1.623</td>\n",
       "      <td>27.016</td>\n",
       "      <td>19.509</td>\n",
       "      <td>12.520</td>\n",
       "      <td>905.0</td>\n",
       "      <td>7.4</td>\n",
       "      <td>300.9</td>\n",
       "    </tr>\n",
       "    <tr>\n",
       "      <th>2008-12-31 13:29:58</th>\n",
       "      <td>6.408</td>\n",
       "      <td>5.162</td>\n",
       "      <td>4.016</td>\n",
       "      <td>62.217</td>\n",
       "      <td>44.872</td>\n",
       "      <td>28.652</td>\n",
       "      <td>905.0</td>\n",
       "      <td>8.7</td>\n",
       "      <td>300.6</td>\n",
       "    </tr>\n",
       "    <tr>\n",
       "      <th>2008-12-31 14:29:59</th>\n",
       "      <td>8.818</td>\n",
       "      <td>7.038</td>\n",
       "      <td>5.385</td>\n",
       "      <td>80.137</td>\n",
       "      <td>56.764</td>\n",
       "      <td>35.320</td>\n",
       "      <td>905.0</td>\n",
       "      <td>9.3</td>\n",
       "      <td>301.0</td>\n",
       "    </tr>\n",
       "    <tr>\n",
       "      <th>2008-12-31 15:30:00</th>\n",
       "      <td>7.646</td>\n",
       "      <td>6.019</td>\n",
       "      <td>4.688</td>\n",
       "      <td>69.304</td>\n",
       "      <td>49.066</td>\n",
       "      <td>30.776</td>\n",
       "      <td>905.0</td>\n",
       "      <td>9.5</td>\n",
       "      <td>301.0</td>\n",
       "    </tr>\n",
       "    <tr>\n",
       "      <th>2008-12-31 16:29:58</th>\n",
       "      <td>6.733</td>\n",
       "      <td>5.320</td>\n",
       "      <td>4.010</td>\n",
       "      <td>61.384</td>\n",
       "      <td>43.327</td>\n",
       "      <td>26.987</td>\n",
       "      <td>904.0</td>\n",
       "      <td>9.8</td>\n",
       "      <td>300.3</td>\n",
       "    </tr>\n",
       "    <tr>\n",
       "      <th>2008-12-31 17:29:59</th>\n",
       "      <td>5.989</td>\n",
       "      <td>4.690</td>\n",
       "      <td>3.628</td>\n",
       "      <td>57.607</td>\n",
       "      <td>41.258</td>\n",
       "      <td>25.973</td>\n",
       "      <td>904.0</td>\n",
       "      <td>9.2</td>\n",
       "      <td>300.1</td>\n",
       "    </tr>\n",
       "    <tr>\n",
       "      <th>2008-12-31 18:30:00</th>\n",
       "      <td>7.768</td>\n",
       "      <td>6.130</td>\n",
       "      <td>4.776</td>\n",
       "      <td>76.904</td>\n",
       "      <td>55.401</td>\n",
       "      <td>35.085</td>\n",
       "      <td>904.0</td>\n",
       "      <td>9.3</td>\n",
       "      <td>299.9</td>\n",
       "    </tr>\n",
       "    <tr>\n",
       "      <th>2008-12-31 19:29:58</th>\n",
       "      <td>6.265</td>\n",
       "      <td>4.834</td>\n",
       "      <td>3.827</td>\n",
       "      <td>61.421</td>\n",
       "      <td>44.224</td>\n",
       "      <td>28.044</td>\n",
       "      <td>904.0</td>\n",
       "      <td>8.7</td>\n",
       "      <td>299.9</td>\n",
       "    </tr>\n",
       "    <tr>\n",
       "      <th>2008-12-31 20:29:59</th>\n",
       "      <td>4.425</td>\n",
       "      <td>3.433</td>\n",
       "      <td>2.663</td>\n",
       "      <td>43.144</td>\n",
       "      <td>30.726</td>\n",
       "      <td>19.240</td>\n",
       "      <td>903.0</td>\n",
       "      <td>8.5</td>\n",
       "      <td>299.8</td>\n",
       "    </tr>\n",
       "    <tr>\n",
       "      <th>2008-12-31 21:30:00</th>\n",
       "      <td>4.759</td>\n",
       "      <td>3.665</td>\n",
       "      <td>2.840</td>\n",
       "      <td>44.719</td>\n",
       "      <td>31.694</td>\n",
       "      <td>19.885</td>\n",
       "      <td>903.0</td>\n",
       "      <td>8.5</td>\n",
       "      <td>299.9</td>\n",
       "    </tr>\n",
       "    <tr>\n",
       "      <th>2008-12-31 22:29:58</th>\n",
       "      <td>5.162</td>\n",
       "      <td>3.929</td>\n",
       "      <td>3.217</td>\n",
       "      <td>48.623</td>\n",
       "      <td>34.503</td>\n",
       "      <td>21.719</td>\n",
       "      <td>903.0</td>\n",
       "      <td>8.7</td>\n",
       "      <td>299.9</td>\n",
       "    </tr>\n",
       "    <tr>\n",
       "      <th>2008-12-31 23:29:59</th>\n",
       "      <td>5.318</td>\n",
       "      <td>4.307</td>\n",
       "      <td>3.349</td>\n",
       "      <td>54.983</td>\n",
       "      <td>39.390</td>\n",
       "      <td>24.721</td>\n",
       "      <td>903.0</td>\n",
       "      <td>9.3</td>\n",
       "      <td>299.7</td>\n",
       "    </tr>\n",
       "  </tbody>\n",
       "</table>\n",
       "<p>8784 rows × 9 columns</p>\n",
       "</div>"
      ],
      "text/plain": [
       "                     aerosol_light_backscattering_coefficient  \\\n",
       "2008-01-01 00:30:00                                       NaN   \n",
       "2008-01-01 01:29:59                                       NaN   \n",
       "2008-01-01 02:29:59                                       NaN   \n",
       "2008-01-01 03:30:00                                       NaN   \n",
       "2008-01-01 04:29:59                                       NaN   \n",
       "2008-01-01 05:29:59                                       NaN   \n",
       "2008-01-01 06:30:00                                       NaN   \n",
       "2008-01-01 07:29:59                                       NaN   \n",
       "2008-01-01 08:29:59                                       NaN   \n",
       "2008-01-01 09:30:00                                       NaN   \n",
       "2008-01-01 10:29:59                                       NaN   \n",
       "2008-01-01 11:29:59                                       NaN   \n",
       "2008-01-01 12:30:00                                       NaN   \n",
       "2008-01-01 13:29:59                                       NaN   \n",
       "2008-01-01 14:29:59                                       NaN   \n",
       "2008-01-01 15:30:00                                       NaN   \n",
       "2008-01-01 16:29:59                                       NaN   \n",
       "2008-01-01 17:29:59                                       NaN   \n",
       "2008-01-01 18:30:00                                       NaN   \n",
       "2008-01-01 19:29:59                                       NaN   \n",
       "2008-01-01 20:29:59                                       NaN   \n",
       "2008-01-01 21:30:00                                       NaN   \n",
       "2008-01-01 22:29:59                                       NaN   \n",
       "2008-01-01 23:29:59                                       NaN   \n",
       "2008-01-02 00:30:00                                       NaN   \n",
       "2008-01-02 01:29:59                                       NaN   \n",
       "2008-01-02 02:29:59                                       NaN   \n",
       "2008-01-02 03:30:00                                       NaN   \n",
       "2008-01-02 04:29:59                                       NaN   \n",
       "2008-01-02 05:29:59                                       NaN   \n",
       "...                                                       ...   \n",
       "2008-12-30 18:30:00                                     0.547   \n",
       "2008-12-30 19:29:58                                     1.045   \n",
       "2008-12-30 20:29:59                                     7.862   \n",
       "2008-12-30 21:30:00                                    11.044   \n",
       "2008-12-30 22:29:58                                     6.420   \n",
       "2008-12-30 23:29:59                                     3.947   \n",
       "2008-12-31 00:30:00                                     2.950   \n",
       "2008-12-31 01:29:58                                     2.024   \n",
       "2008-12-31 02:29:59                                     0.731   \n",
       "2008-12-31 03:30:00                                     0.733   \n",
       "2008-12-31 04:29:58                                     0.994   \n",
       "2008-12-31 05:29:59                                     1.842   \n",
       "2008-12-31 06:30:00                                     4.045   \n",
       "2008-12-31 07:29:58                                     3.753   \n",
       "2008-12-31 08:29:59                                     2.799   \n",
       "2008-12-31 09:30:00                                     1.760   \n",
       "2008-12-31 10:29:58                                     2.548   \n",
       "2008-12-31 11:29:59                                     2.486   \n",
       "2008-12-31 12:30:00                                     2.660   \n",
       "2008-12-31 13:29:58                                     6.408   \n",
       "2008-12-31 14:29:59                                     8.818   \n",
       "2008-12-31 15:30:00                                     7.646   \n",
       "2008-12-31 16:29:58                                     6.733   \n",
       "2008-12-31 17:29:59                                     5.989   \n",
       "2008-12-31 18:30:00                                     7.768   \n",
       "2008-12-31 19:29:58                                     6.265   \n",
       "2008-12-31 20:29:59                                     4.425   \n",
       "2008-12-31 21:30:00                                     4.759   \n",
       "2008-12-31 22:29:58                                     5.162   \n",
       "2008-12-31 23:29:59                                     5.318   \n",
       "\n",
       "                     aerosol_light_backscattering_coefficient  \\\n",
       "2008-01-01 00:30:00                                       NaN   \n",
       "2008-01-01 01:29:59                                       NaN   \n",
       "2008-01-01 02:29:59                                       NaN   \n",
       "2008-01-01 03:30:00                                       NaN   \n",
       "2008-01-01 04:29:59                                       NaN   \n",
       "2008-01-01 05:29:59                                       NaN   \n",
       "2008-01-01 06:30:00                                       NaN   \n",
       "2008-01-01 07:29:59                                       NaN   \n",
       "2008-01-01 08:29:59                                       NaN   \n",
       "2008-01-01 09:30:00                                       NaN   \n",
       "2008-01-01 10:29:59                                       NaN   \n",
       "2008-01-01 11:29:59                                       NaN   \n",
       "2008-01-01 12:30:00                                       NaN   \n",
       "2008-01-01 13:29:59                                       NaN   \n",
       "2008-01-01 14:29:59                                       NaN   \n",
       "2008-01-01 15:30:00                                       NaN   \n",
       "2008-01-01 16:29:59                                       NaN   \n",
       "2008-01-01 17:29:59                                       NaN   \n",
       "2008-01-01 18:30:00                                       NaN   \n",
       "2008-01-01 19:29:59                                       NaN   \n",
       "2008-01-01 20:29:59                                       NaN   \n",
       "2008-01-01 21:30:00                                       NaN   \n",
       "2008-01-01 22:29:59                                       NaN   \n",
       "2008-01-01 23:29:59                                       NaN   \n",
       "2008-01-02 00:30:00                                       NaN   \n",
       "2008-01-02 01:29:59                                       NaN   \n",
       "2008-01-02 02:29:59                                       NaN   \n",
       "2008-01-02 03:30:00                                       NaN   \n",
       "2008-01-02 04:29:59                                       NaN   \n",
       "2008-01-02 05:29:59                                       NaN   \n",
       "...                                                       ...   \n",
       "2008-12-30 18:30:00                                     0.409   \n",
       "2008-12-30 19:29:58                                     0.688   \n",
       "2008-12-30 20:29:59                                     5.979   \n",
       "2008-12-30 21:30:00                                     8.777   \n",
       "2008-12-30 22:29:58                                     5.011   \n",
       "2008-12-30 23:29:59                                     3.107   \n",
       "2008-12-31 00:30:00                                     2.492   \n",
       "2008-12-31 01:29:58                                     1.660   \n",
       "2008-12-31 02:29:59                                     0.569   \n",
       "2008-12-31 03:30:00                                     0.659   \n",
       "2008-12-31 04:29:58                                     0.779   \n",
       "2008-12-31 05:29:59                                     1.514   \n",
       "2008-12-31 06:30:00                                     3.247   \n",
       "2008-12-31 07:29:58                                     2.974   \n",
       "2008-12-31 08:29:59                                     2.189   \n",
       "2008-12-31 09:30:00                                     1.427   \n",
       "2008-12-31 10:29:58                                     1.917   \n",
       "2008-12-31 11:29:59                                     1.909   \n",
       "2008-12-31 12:30:00                                     2.172   \n",
       "2008-12-31 13:29:58                                     5.162   \n",
       "2008-12-31 14:29:59                                     7.038   \n",
       "2008-12-31 15:30:00                                     6.019   \n",
       "2008-12-31 16:29:58                                     5.320   \n",
       "2008-12-31 17:29:59                                     4.690   \n",
       "2008-12-31 18:30:00                                     6.130   \n",
       "2008-12-31 19:29:58                                     4.834   \n",
       "2008-12-31 20:29:59                                     3.433   \n",
       "2008-12-31 21:30:00                                     3.665   \n",
       "2008-12-31 22:29:58                                     3.929   \n",
       "2008-12-31 23:29:59                                     4.307   \n",
       "\n",
       "                     aerosol_light_backscattering_coefficient  \\\n",
       "2008-01-01 00:30:00                                       NaN   \n",
       "2008-01-01 01:29:59                                       NaN   \n",
       "2008-01-01 02:29:59                                       NaN   \n",
       "2008-01-01 03:30:00                                       NaN   \n",
       "2008-01-01 04:29:59                                       NaN   \n",
       "2008-01-01 05:29:59                                       NaN   \n",
       "2008-01-01 06:30:00                                       NaN   \n",
       "2008-01-01 07:29:59                                       NaN   \n",
       "2008-01-01 08:29:59                                       NaN   \n",
       "2008-01-01 09:30:00                                       NaN   \n",
       "2008-01-01 10:29:59                                       NaN   \n",
       "2008-01-01 11:29:59                                       NaN   \n",
       "2008-01-01 12:30:00                                       NaN   \n",
       "2008-01-01 13:29:59                                       NaN   \n",
       "2008-01-01 14:29:59                                       NaN   \n",
       "2008-01-01 15:30:00                                       NaN   \n",
       "2008-01-01 16:29:59                                       NaN   \n",
       "2008-01-01 17:29:59                                       NaN   \n",
       "2008-01-01 18:30:00                                       NaN   \n",
       "2008-01-01 19:29:59                                       NaN   \n",
       "2008-01-01 20:29:59                                       NaN   \n",
       "2008-01-01 21:30:00                                       NaN   \n",
       "2008-01-01 22:29:59                                       NaN   \n",
       "2008-01-01 23:29:59                                       NaN   \n",
       "2008-01-02 00:30:00                                       NaN   \n",
       "2008-01-02 01:29:59                                       NaN   \n",
       "2008-01-02 02:29:59                                       NaN   \n",
       "2008-01-02 03:30:00                                       NaN   \n",
       "2008-01-02 04:29:59                                       NaN   \n",
       "2008-01-02 05:29:59                                       NaN   \n",
       "...                                                       ...   \n",
       "2008-12-30 18:30:00                                     0.303   \n",
       "2008-12-30 19:29:58                                     0.558   \n",
       "2008-12-30 20:29:59                                     4.602   \n",
       "2008-12-30 21:30:00                                     6.770   \n",
       "2008-12-30 22:29:58                                     3.801   \n",
       "2008-12-30 23:29:59                                     2.509   \n",
       "2008-12-31 00:30:00                                     1.939   \n",
       "2008-12-31 01:29:58                                     1.362   \n",
       "2008-12-31 02:29:59                                     0.508   \n",
       "2008-12-31 03:30:00                                     0.506   \n",
       "2008-12-31 04:29:58                                     0.714   \n",
       "2008-12-31 05:29:59                                     1.198   \n",
       "2008-12-31 06:30:00                                     2.608   \n",
       "2008-12-31 07:29:58                                     2.371   \n",
       "2008-12-31 08:29:59                                     1.745   \n",
       "2008-12-31 09:30:00                                     1.077   \n",
       "2008-12-31 10:29:58                                     1.455   \n",
       "2008-12-31 11:29:59                                     1.442   \n",
       "2008-12-31 12:30:00                                     1.623   \n",
       "2008-12-31 13:29:58                                     4.016   \n",
       "2008-12-31 14:29:59                                     5.385   \n",
       "2008-12-31 15:30:00                                     4.688   \n",
       "2008-12-31 16:29:58                                     4.010   \n",
       "2008-12-31 17:29:59                                     3.628   \n",
       "2008-12-31 18:30:00                                     4.776   \n",
       "2008-12-31 19:29:58                                     3.827   \n",
       "2008-12-31 20:29:59                                     2.663   \n",
       "2008-12-31 21:30:00                                     2.840   \n",
       "2008-12-31 22:29:58                                     3.217   \n",
       "2008-12-31 23:29:59                                     3.349   \n",
       "\n",
       "                     aerosol_light_scattering_coefficient  \\\n",
       "2008-01-01 00:30:00                                   NaN   \n",
       "2008-01-01 01:29:59                                   NaN   \n",
       "2008-01-01 02:29:59                                   NaN   \n",
       "2008-01-01 03:30:00                                   NaN   \n",
       "2008-01-01 04:29:59                                   NaN   \n",
       "2008-01-01 05:29:59                                   NaN   \n",
       "2008-01-01 06:30:00                                   NaN   \n",
       "2008-01-01 07:29:59                                   NaN   \n",
       "2008-01-01 08:29:59                                   NaN   \n",
       "2008-01-01 09:30:00                                   NaN   \n",
       "2008-01-01 10:29:59                                   NaN   \n",
       "2008-01-01 11:29:59                                   NaN   \n",
       "2008-01-01 12:30:00                                   NaN   \n",
       "2008-01-01 13:29:59                                   NaN   \n",
       "2008-01-01 14:29:59                                   NaN   \n",
       "2008-01-01 15:30:00                                   NaN   \n",
       "2008-01-01 16:29:59                                   NaN   \n",
       "2008-01-01 17:29:59                                   NaN   \n",
       "2008-01-01 18:30:00                                   NaN   \n",
       "2008-01-01 19:29:59                                   NaN   \n",
       "2008-01-01 20:29:59                                   NaN   \n",
       "2008-01-01 21:30:00                                   NaN   \n",
       "2008-01-01 22:29:59                                   NaN   \n",
       "2008-01-01 23:29:59                                   NaN   \n",
       "2008-01-02 00:30:00                                   NaN   \n",
       "2008-01-02 01:29:59                                   NaN   \n",
       "2008-01-02 02:29:59                                   NaN   \n",
       "2008-01-02 03:30:00                                   NaN   \n",
       "2008-01-02 04:29:59                                   NaN   \n",
       "2008-01-02 05:29:59                                   NaN   \n",
       "...                                                   ...   \n",
       "2008-12-30 18:30:00                                 5.250   \n",
       "2008-12-30 19:29:58                                 7.934   \n",
       "2008-12-30 20:29:59                                70.955   \n",
       "2008-12-30 21:30:00                               103.578   \n",
       "2008-12-30 22:29:58                                57.828   \n",
       "2008-12-30 23:29:59                                41.293   \n",
       "2008-12-31 00:30:00                                32.975   \n",
       "2008-12-31 01:29:58                                22.381   \n",
       "2008-12-31 02:29:59                                 6.382   \n",
       "2008-12-31 03:30:00                                 6.934   \n",
       "2008-12-31 04:29:58                                 9.422   \n",
       "2008-12-31 05:29:59                                18.791   \n",
       "2008-12-31 06:30:00                                42.560   \n",
       "2008-12-31 07:29:58                                40.905   \n",
       "2008-12-31 08:29:59                                29.099   \n",
       "2008-12-31 09:30:00                                16.988   \n",
       "2008-12-31 10:29:58                                24.601   \n",
       "2008-12-31 11:29:59                                24.114   \n",
       "2008-12-31 12:30:00                                27.016   \n",
       "2008-12-31 13:29:58                                62.217   \n",
       "2008-12-31 14:29:59                                80.137   \n",
       "2008-12-31 15:30:00                                69.304   \n",
       "2008-12-31 16:29:58                                61.384   \n",
       "2008-12-31 17:29:59                                57.607   \n",
       "2008-12-31 18:30:00                                76.904   \n",
       "2008-12-31 19:29:58                                61.421   \n",
       "2008-12-31 20:29:59                                43.144   \n",
       "2008-12-31 21:30:00                                44.719   \n",
       "2008-12-31 22:29:58                                48.623   \n",
       "2008-12-31 23:29:59                                54.983   \n",
       "\n",
       "                     aerosol_light_scattering_coefficient  \\\n",
       "2008-01-01 00:30:00                                   NaN   \n",
       "2008-01-01 01:29:59                                   NaN   \n",
       "2008-01-01 02:29:59                                   NaN   \n",
       "2008-01-01 03:30:00                                   NaN   \n",
       "2008-01-01 04:29:59                                   NaN   \n",
       "2008-01-01 05:29:59                                   NaN   \n",
       "2008-01-01 06:30:00                                   NaN   \n",
       "2008-01-01 07:29:59                                   NaN   \n",
       "2008-01-01 08:29:59                                   NaN   \n",
       "2008-01-01 09:30:00                                   NaN   \n",
       "2008-01-01 10:29:59                                   NaN   \n",
       "2008-01-01 11:29:59                                   NaN   \n",
       "2008-01-01 12:30:00                                   NaN   \n",
       "2008-01-01 13:29:59                                   NaN   \n",
       "2008-01-01 14:29:59                                   NaN   \n",
       "2008-01-01 15:30:00                                   NaN   \n",
       "2008-01-01 16:29:59                                   NaN   \n",
       "2008-01-01 17:29:59                                   NaN   \n",
       "2008-01-01 18:30:00                                   NaN   \n",
       "2008-01-01 19:29:59                                   NaN   \n",
       "2008-01-01 20:29:59                                   NaN   \n",
       "2008-01-01 21:30:00                                   NaN   \n",
       "2008-01-01 22:29:59                                   NaN   \n",
       "2008-01-01 23:29:59                                   NaN   \n",
       "2008-01-02 00:30:00                                   NaN   \n",
       "2008-01-02 01:29:59                                   NaN   \n",
       "2008-01-02 02:29:59                                   NaN   \n",
       "2008-01-02 03:30:00                                   NaN   \n",
       "2008-01-02 04:29:59                                   NaN   \n",
       "2008-01-02 05:29:59                                   NaN   \n",
       "...                                                   ...   \n",
       "2008-12-30 18:30:00                                 3.716   \n",
       "2008-12-30 19:29:58                                 5.414   \n",
       "2008-12-30 20:29:59                                50.095   \n",
       "2008-12-30 21:30:00                                73.434   \n",
       "2008-12-30 22:29:58                                40.803   \n",
       "2008-12-30 23:29:59                                30.195   \n",
       "2008-12-31 00:30:00                                24.133   \n",
       "2008-12-31 01:29:58                                16.227   \n",
       "2008-12-31 02:29:59                                 4.487   \n",
       "2008-12-31 03:30:00                                 4.876   \n",
       "2008-12-31 04:29:58                                 6.621   \n",
       "2008-12-31 05:29:59                                13.431   \n",
       "2008-12-31 06:30:00                                31.077   \n",
       "2008-12-31 07:29:58                                29.963   \n",
       "2008-12-31 08:29:59                                21.226   \n",
       "2008-12-31 09:30:00                                12.135   \n",
       "2008-12-31 10:29:58                                17.758   \n",
       "2008-12-31 11:29:59                                17.331   \n",
       "2008-12-31 12:30:00                                19.509   \n",
       "2008-12-31 13:29:58                                44.872   \n",
       "2008-12-31 14:29:59                                56.764   \n",
       "2008-12-31 15:30:00                                49.066   \n",
       "2008-12-31 16:29:58                                43.327   \n",
       "2008-12-31 17:29:59                                41.258   \n",
       "2008-12-31 18:30:00                                55.401   \n",
       "2008-12-31 19:29:58                                44.224   \n",
       "2008-12-31 20:29:59                                30.726   \n",
       "2008-12-31 21:30:00                                31.694   \n",
       "2008-12-31 22:29:58                                34.503   \n",
       "2008-12-31 23:29:59                                39.390   \n",
       "\n",
       "                     aerosol_light_scattering_coefficient  pressure  \\\n",
       "2008-01-01 00:30:00                                   NaN       NaN   \n",
       "2008-01-01 01:29:59                                   NaN       NaN   \n",
       "2008-01-01 02:29:59                                   NaN       NaN   \n",
       "2008-01-01 03:30:00                                   NaN       NaN   \n",
       "2008-01-01 04:29:59                                   NaN       NaN   \n",
       "2008-01-01 05:29:59                                   NaN       NaN   \n",
       "2008-01-01 06:30:00                                   NaN       NaN   \n",
       "2008-01-01 07:29:59                                   NaN       NaN   \n",
       "2008-01-01 08:29:59                                   NaN       NaN   \n",
       "2008-01-01 09:30:00                                   NaN       NaN   \n",
       "2008-01-01 10:29:59                                   NaN       NaN   \n",
       "2008-01-01 11:29:59                                   NaN       NaN   \n",
       "2008-01-01 12:30:00                                   NaN       NaN   \n",
       "2008-01-01 13:29:59                                   NaN       NaN   \n",
       "2008-01-01 14:29:59                                   NaN       NaN   \n",
       "2008-01-01 15:30:00                                   NaN       NaN   \n",
       "2008-01-01 16:29:59                                   NaN       NaN   \n",
       "2008-01-01 17:29:59                                   NaN       NaN   \n",
       "2008-01-01 18:30:00                                   NaN       NaN   \n",
       "2008-01-01 19:29:59                                   NaN       NaN   \n",
       "2008-01-01 20:29:59                                   NaN       NaN   \n",
       "2008-01-01 21:30:00                                   NaN       NaN   \n",
       "2008-01-01 22:29:59                                   NaN       NaN   \n",
       "2008-01-01 23:29:59                                   NaN       NaN   \n",
       "2008-01-02 00:30:00                                   NaN       NaN   \n",
       "2008-01-02 01:29:59                                   NaN       NaN   \n",
       "2008-01-02 02:29:59                                   NaN       NaN   \n",
       "2008-01-02 03:30:00                                   NaN       NaN   \n",
       "2008-01-02 04:29:59                                   NaN       NaN   \n",
       "2008-01-02 05:29:59                                   NaN       NaN   \n",
       "...                                                   ...       ...   \n",
       "2008-12-30 18:30:00                                 2.264     909.0   \n",
       "2008-12-30 19:29:58                                 3.308     909.0   \n",
       "2008-12-30 20:29:59                                30.940     909.0   \n",
       "2008-12-30 21:30:00                                45.628     909.0   \n",
       "2008-12-30 22:29:58                                25.309     909.0   \n",
       "2008-12-30 23:29:59                                19.253     909.0   \n",
       "2008-12-31 00:30:00                                15.449     908.0   \n",
       "2008-12-31 01:29:58                                10.269     908.0   \n",
       "2008-12-31 02:29:59                                 2.890     907.0   \n",
       "2008-12-31 03:30:00                                 3.026     907.0   \n",
       "2008-12-31 04:29:58                                 4.073     907.0   \n",
       "2008-12-31 05:29:59                                 8.296     906.0   \n",
       "2008-12-31 06:30:00                                19.972     906.0   \n",
       "2008-12-31 07:29:58                                19.293     906.0   \n",
       "2008-12-31 08:29:59                                13.575     906.0   \n",
       "2008-12-31 09:30:00                                 7.623     906.0   \n",
       "2008-12-31 10:29:58                                11.318     905.0   \n",
       "2008-12-31 11:29:59                                11.010     905.0   \n",
       "2008-12-31 12:30:00                                12.520     905.0   \n",
       "2008-12-31 13:29:58                                28.652     905.0   \n",
       "2008-12-31 14:29:59                                35.320     905.0   \n",
       "2008-12-31 15:30:00                                30.776     905.0   \n",
       "2008-12-31 16:29:58                                26.987     904.0   \n",
       "2008-12-31 17:29:59                                25.973     904.0   \n",
       "2008-12-31 18:30:00                                35.085     904.0   \n",
       "2008-12-31 19:29:58                                28.044     904.0   \n",
       "2008-12-31 20:29:59                                19.240     903.0   \n",
       "2008-12-31 21:30:00                                19.885     903.0   \n",
       "2008-12-31 22:29:58                                21.719     903.0   \n",
       "2008-12-31 23:29:59                                24.721     903.0   \n",
       "\n",
       "                     relative_humidity  temperature  \n",
       "2008-01-01 00:30:00                NaN          NaN  \n",
       "2008-01-01 01:29:59                NaN          NaN  \n",
       "2008-01-01 02:29:59                NaN          NaN  \n",
       "2008-01-01 03:30:00                NaN          NaN  \n",
       "2008-01-01 04:29:59                NaN          NaN  \n",
       "2008-01-01 05:29:59                NaN          NaN  \n",
       "2008-01-01 06:30:00                NaN          NaN  \n",
       "2008-01-01 07:29:59                NaN          NaN  \n",
       "2008-01-01 08:29:59                NaN          NaN  \n",
       "2008-01-01 09:30:00                NaN          NaN  \n",
       "2008-01-01 10:29:59                NaN          NaN  \n",
       "2008-01-01 11:29:59                NaN          NaN  \n",
       "2008-01-01 12:30:00                NaN          NaN  \n",
       "2008-01-01 13:29:59                NaN          NaN  \n",
       "2008-01-01 14:29:59                NaN          NaN  \n",
       "2008-01-01 15:30:00                NaN          NaN  \n",
       "2008-01-01 16:29:59                NaN          NaN  \n",
       "2008-01-01 17:29:59                NaN          NaN  \n",
       "2008-01-01 18:30:00                NaN          NaN  \n",
       "2008-01-01 19:29:59                NaN          NaN  \n",
       "2008-01-01 20:29:59                NaN          NaN  \n",
       "2008-01-01 21:30:00                NaN          NaN  \n",
       "2008-01-01 22:29:59                NaN          NaN  \n",
       "2008-01-01 23:29:59                NaN          NaN  \n",
       "2008-01-02 00:30:00                NaN          NaN  \n",
       "2008-01-02 01:29:59                NaN          NaN  \n",
       "2008-01-02 02:29:59                NaN          NaN  \n",
       "2008-01-02 03:30:00                NaN          NaN  \n",
       "2008-01-02 04:29:59                NaN          NaN  \n",
       "2008-01-02 05:29:59                NaN          NaN  \n",
       "...                                ...          ...  \n",
       "2008-12-30 18:30:00                4.5        300.4  \n",
       "2008-12-30 19:29:58                5.7        300.2  \n",
       "2008-12-30 20:29:59                8.9        300.4  \n",
       "2008-12-30 21:30:00                9.2        300.3  \n",
       "2008-12-30 22:29:58                8.7        300.1  \n",
       "2008-12-30 23:29:59                8.1        300.4  \n",
       "2008-12-31 00:30:00                7.9        299.8  \n",
       "2008-12-31 01:29:58                7.5        300.2  \n",
       "2008-12-31 02:29:59                6.6        299.9  \n",
       "2008-12-31 03:30:00                6.7        299.8  \n",
       "2008-12-31 04:29:58                7.0        300.2  \n",
       "2008-12-31 05:29:59                7.5        300.2  \n",
       "2008-12-31 06:30:00                8.2        299.9  \n",
       "2008-12-31 07:29:58                8.0        299.8  \n",
       "2008-12-31 08:29:59                7.7        299.9  \n",
       "2008-12-31 09:30:00                7.1        300.3  \n",
       "2008-12-31 10:29:58                7.1        300.7  \n",
       "2008-12-31 11:29:59                7.0        301.2  \n",
       "2008-12-31 12:30:00                7.4        300.9  \n",
       "2008-12-31 13:29:58                8.7        300.6  \n",
       "2008-12-31 14:29:59                9.3        301.0  \n",
       "2008-12-31 15:30:00                9.5        301.0  \n",
       "2008-12-31 16:29:58                9.8        300.3  \n",
       "2008-12-31 17:29:59                9.2        300.1  \n",
       "2008-12-31 18:30:00                9.3        299.9  \n",
       "2008-12-31 19:29:58                8.7        299.9  \n",
       "2008-12-31 20:29:59                8.5        299.8  \n",
       "2008-12-31 21:30:00                8.5        299.9  \n",
       "2008-12-31 22:29:58                8.7        299.9  \n",
       "2008-12-31 23:29:59                9.3        299.7  \n",
       "\n",
       "[8784 rows x 9 columns]"
      ]
     },
     "execution_count": 8,
     "metadata": {},
     "output_type": "execute_result"
    }
   ],
   "source": [
    "df = mc.to_dataframe()\n",
    "df"
   ]
  },
  {
   "cell_type": "markdown",
   "metadata": {},
   "source": [
    "#### Performance"
   ]
  },
  {
   "cell_type": "markdown",
   "metadata": {},
   "source": [
    "Read only header"
   ]
  },
  {
   "cell_type": "code",
   "execution_count": 9,
   "metadata": {},
   "outputs": [
    {
     "name": "stderr",
     "output_type": "stream",
     "text": [
      "2018-09-24 15:37:06,845:WARNING:\n",
      "Failed to read header row 6.\n",
      "2008 01 01 2016 07 08\n",
      "\n",
      "Error msg: IndexError('list index out of range',)\n"
     ]
    },
    {
     "name": "stderr",
     "output_type": "stream",
     "text": [
      "2018-09-24 15:37:06,850:WARNING:\n",
      "Failed to read header row 6.\n",
      "2008 01 01 2016 07 08\n",
      "\n",
      "Error msg: IndexError('list index out of range',)\n"
     ]
    },
    {
     "name": "stderr",
     "output_type": "stream",
     "text": [
      "2018-09-24 15:37:06,855:WARNING:\n",
      "Failed to read header row 6.\n",
      "2008 01 01 2016 07 08\n",
      "\n",
      "Error msg: IndexError('list index out of range',)\n"
     ]
    },
    {
     "name": "stderr",
     "output_type": "stream",
     "text": [
      "2018-09-24 15:37:06,860:WARNING:\n",
      "Failed to read header row 6.\n",
      "2008 01 01 2016 07 08\n",
      "\n",
      "Error msg: IndexError('list index out of range',)\n"
     ]
    },
    {
     "name": "stderr",
     "output_type": "stream",
     "text": [
      "2018-09-24 15:37:06,865:WARNING:\n",
      "Failed to read header row 6.\n",
      "2008 01 01 2016 07 08\n",
      "\n",
      "Error msg: IndexError('list index out of range',)\n"
     ]
    },
    {
     "name": "stderr",
     "output_type": "stream",
     "text": [
      "2018-09-24 15:37:06,870:WARNING:\n",
      "Failed to read header row 6.\n",
      "2008 01 01 2016 07 08\n",
      "\n",
      "Error msg: IndexError('list index out of range',)\n"
     ]
    },
    {
     "name": "stderr",
     "output_type": "stream",
     "text": [
      "2018-09-24 15:37:06,875:WARNING:\n",
      "Failed to read header row 6.\n",
      "2008 01 01 2016 07 08\n",
      "\n",
      "Error msg: IndexError('list index out of range',)\n"
     ]
    },
    {
     "name": "stderr",
     "output_type": "stream",
     "text": [
      "2018-09-24 15:37:06,881:WARNING:\n",
      "Failed to read header row 6.\n",
      "2008 01 01 2016 07 08\n",
      "\n",
      "Error msg: IndexError('list index out of range',)\n"
     ]
    },
    {
     "name": "stderr",
     "output_type": "stream",
     "text": [
      "2018-09-24 15:37:06,885:WARNING:\n",
      "Failed to read header row 6.\n",
      "2008 01 01 2016 07 08\n",
      "\n",
      "Error msg: IndexError('list index out of range',)\n"
     ]
    },
    {
     "name": "stderr",
     "output_type": "stream",
     "text": [
      "2018-09-24 15:37:06,890:WARNING:\n",
      "Failed to read header row 6.\n",
      "2008 01 01 2016 07 08\n",
      "\n",
      "Error msg: IndexError('list index out of range',)\n"
     ]
    },
    {
     "name": "stderr",
     "output_type": "stream",
     "text": [
      "2018-09-24 15:37:06,895:WARNING:\n",
      "Failed to read header row 6.\n",
      "2008 01 01 2016 07 08\n",
      "\n",
      "Error msg: IndexError('list index out of range',)\n"
     ]
    },
    {
     "name": "stderr",
     "output_type": "stream",
     "text": [
      "2018-09-24 15:37:06,899:WARNING:\n",
      "Failed to read header row 6.\n",
      "2008 01 01 2016 07 08\n",
      "\n",
      "Error msg: IndexError('list index out of range',)\n"
     ]
    },
    {
     "name": "stderr",
     "output_type": "stream",
     "text": [
      "2018-09-24 15:37:06,904:WARNING:\n",
      "Failed to read header row 6.\n",
      "2008 01 01 2016 07 08\n",
      "\n",
      "Error msg: IndexError('list index out of range',)\n"
     ]
    },
    {
     "name": "stderr",
     "output_type": "stream",
     "text": [
      "2018-09-24 15:37:06,909:WARNING:\n",
      "Failed to read header row 6.\n",
      "2008 01 01 2016 07 08\n",
      "\n",
      "Error msg: IndexError('list index out of range',)\n"
     ]
    },
    {
     "name": "stderr",
     "output_type": "stream",
     "text": [
      "2018-09-24 15:37:06,913:WARNING:\n",
      "Failed to read header row 6.\n",
      "2008 01 01 2016 07 08\n",
      "\n",
      "Error msg: IndexError('list index out of range',)\n"
     ]
    },
    {
     "name": "stderr",
     "output_type": "stream",
     "text": [
      "2018-09-24 15:37:06,920:WARNING:\n",
      "Failed to read header row 6.\n",
      "2008 01 01 2016 07 08\n",
      "\n",
      "Error msg: IndexError('list index out of range',)\n"
     ]
    },
    {
     "name": "stderr",
     "output_type": "stream",
     "text": [
      "2018-09-24 15:37:06,927:WARNING:\n",
      "Failed to read header row 6.\n",
      "2008 01 01 2016 07 08\n",
      "\n",
      "Error msg: IndexError('list index out of range',)\n"
     ]
    },
    {
     "name": "stderr",
     "output_type": "stream",
     "text": [
      "2018-09-24 15:37:06,934:WARNING:\n",
      "Failed to read header row 6.\n",
      "2008 01 01 2016 07 08\n",
      "\n",
      "Error msg: IndexError('list index out of range',)\n"
     ]
    },
    {
     "name": "stderr",
     "output_type": "stream",
     "text": [
      "2018-09-24 15:37:06,942:WARNING:\n",
      "Failed to read header row 6.\n",
      "2008 01 01 2016 07 08\n",
      "\n",
      "Error msg: IndexError('list index out of range',)\n"
     ]
    },
    {
     "name": "stderr",
     "output_type": "stream",
     "text": [
      "2018-09-24 15:37:06,950:WARNING:\n",
      "Failed to read header row 6.\n",
      "2008 01 01 2016 07 08\n",
      "\n",
      "Error msg: IndexError('list index out of range',)\n"
     ]
    },
    {
     "name": "stderr",
     "output_type": "stream",
     "text": [
      "2018-09-24 15:37:06,959:WARNING:\n",
      "Failed to read header row 6.\n",
      "2008 01 01 2016 07 08\n",
      "\n",
      "Error msg: IndexError('list index out of range',)\n"
     ]
    },
    {
     "name": "stderr",
     "output_type": "stream",
     "text": [
      "2018-09-24 15:37:06,968:WARNING:\n",
      "Failed to read header row 6.\n",
      "2008 01 01 2016 07 08\n",
      "\n",
      "Error msg: IndexError('list index out of range',)\n"
     ]
    },
    {
     "name": "stderr",
     "output_type": "stream",
     "text": [
      "2018-09-24 15:37:06,975:WARNING:\n",
      "Failed to read header row 6.\n",
      "2008 01 01 2016 07 08\n",
      "\n",
      "Error msg: IndexError('list index out of range',)\n"
     ]
    },
    {
     "name": "stderr",
     "output_type": "stream",
     "text": [
      "2018-09-24 15:37:06,983:WARNING:\n",
      "Failed to read header row 6.\n",
      "2008 01 01 2016 07 08\n",
      "\n",
      "Error msg: IndexError('list index out of range',)\n"
     ]
    },
    {
     "name": "stderr",
     "output_type": "stream",
     "text": [
      "2018-09-24 15:37:06,991:WARNING:\n",
      "Failed to read header row 6.\n",
      "2008 01 01 2016 07 08\n",
      "\n",
      "Error msg: IndexError('list index out of range',)\n"
     ]
    },
    {
     "name": "stderr",
     "output_type": "stream",
     "text": [
      "2018-09-24 15:37:06,998:WARNING:\n",
      "Failed to read header row 6.\n",
      "2008 01 01 2016 07 08\n",
      "\n",
      "Error msg: IndexError('list index out of range',)\n"
     ]
    },
    {
     "name": "stderr",
     "output_type": "stream",
     "text": [
      "2018-09-24 15:37:07,005:WARNING:\n",
      "Failed to read header row 6.\n",
      "2008 01 01 2016 07 08\n",
      "\n",
      "Error msg: IndexError('list index out of range',)\n"
     ]
    },
    {
     "name": "stderr",
     "output_type": "stream",
     "text": [
      "2018-09-24 15:37:07,012:WARNING:\n",
      "Failed to read header row 6.\n",
      "2008 01 01 2016 07 08\n",
      "\n",
      "Error msg: IndexError('list index out of range',)\n"
     ]
    },
    {
     "name": "stderr",
     "output_type": "stream",
     "text": [
      "2018-09-24 15:37:07,019:WARNING:\n",
      "Failed to read header row 6.\n",
      "2008 01 01 2016 07 08\n",
      "\n",
      "Error msg: IndexError('list index out of range',)\n"
     ]
    },
    {
     "name": "stderr",
     "output_type": "stream",
     "text": [
      "2018-09-24 15:37:07,026:WARNING:\n",
      "Failed to read header row 6.\n",
      "2008 01 01 2016 07 08\n",
      "\n",
      "Error msg: IndexError('list index out of range',)\n"
     ]
    },
    {
     "name": "stderr",
     "output_type": "stream",
     "text": [
      "2018-09-24 15:37:07,032:WARNING:\n",
      "Failed to read header row 6.\n",
      "2008 01 01 2016 07 08\n",
      "\n",
      "Error msg: IndexError('list index out of range',)\n"
     ]
    },
    {
     "name": "stderr",
     "output_type": "stream",
     "text": [
      "2018-09-24 15:37:07,039:WARNING:\n",
      "Failed to read header row 6.\n",
      "2008 01 01 2016 07 08\n",
      "\n",
      "Error msg: IndexError('list index out of range',)\n"
     ]
    },
    {
     "name": "stderr",
     "output_type": "stream",
     "text": [
      "2018-09-24 15:37:07,046:WARNING:\n",
      "Failed to read header row 6.\n",
      "2008 01 01 2016 07 08\n",
      "\n",
      "Error msg: IndexError('list index out of range',)\n"
     ]
    },
    {
     "name": "stderr",
     "output_type": "stream",
     "text": [
      "2018-09-24 15:37:07,053:WARNING:\n",
      "Failed to read header row 6.\n",
      "2008 01 01 2016 07 08\n",
      "\n",
      "Error msg: IndexError('list index out of range',)\n"
     ]
    },
    {
     "name": "stderr",
     "output_type": "stream",
     "text": [
      "2018-09-24 15:37:07,060:WARNING:\n",
      "Failed to read header row 6.\n",
      "2008 01 01 2016 07 08\n",
      "\n",
      "Error msg: IndexError('list index out of range',)\n"
     ]
    },
    {
     "name": "stderr",
     "output_type": "stream",
     "text": [
      "2018-09-24 15:37:07,066:WARNING:\n",
      "Failed to read header row 6.\n",
      "2008 01 01 2016 07 08\n",
      "\n",
      "Error msg: IndexError('list index out of range',)\n"
     ]
    },
    {
     "name": "stderr",
     "output_type": "stream",
     "text": [
      "2018-09-24 15:37:07,073:WARNING:\n",
      "Failed to read header row 6.\n",
      "2008 01 01 2016 07 08\n",
      "\n",
      "Error msg: IndexError('list index out of range',)\n"
     ]
    },
    {
     "name": "stderr",
     "output_type": "stream",
     "text": [
      "2018-09-24 15:37:07,079:WARNING:\n",
      "Failed to read header row 6.\n",
      "2008 01 01 2016 07 08\n",
      "\n",
      "Error msg: IndexError('list index out of range',)\n"
     ]
    },
    {
     "name": "stderr",
     "output_type": "stream",
     "text": [
      "2018-09-24 15:37:07,086:WARNING:\n",
      "Failed to read header row 6.\n",
      "2008 01 01 2016 07 08\n",
      "\n",
      "Error msg: IndexError('list index out of range',)\n"
     ]
    },
    {
     "name": "stderr",
     "output_type": "stream",
     "text": [
      "2018-09-24 15:37:07,093:WARNING:\n",
      "Failed to read header row 6.\n",
      "2008 01 01 2016 07 08\n",
      "\n",
      "Error msg: IndexError('list index out of range',)\n"
     ]
    },
    {
     "name": "stderr",
     "output_type": "stream",
     "text": [
      "2018-09-24 15:37:07,101:WARNING:\n",
      "Failed to read header row 6.\n",
      "2008 01 01 2016 07 08\n",
      "\n",
      "Error msg: IndexError('list index out of range',)\n"
     ]
    },
    {
     "name": "stderr",
     "output_type": "stream",
     "text": [
      "2018-09-24 15:37:07,108:WARNING:\n",
      "Failed to read header row 6.\n",
      "2008 01 01 2016 07 08\n",
      "\n",
      "Error msg: IndexError('list index out of range',)\n"
     ]
    },
    {
     "name": "stderr",
     "output_type": "stream",
     "text": [
      "2018-09-24 15:37:07,115:WARNING:\n",
      "Failed to read header row 6.\n",
      "2008 01 01 2016 07 08\n",
      "\n",
      "Error msg: IndexError('list index out of range',)\n"
     ]
    },
    {
     "name": "stderr",
     "output_type": "stream",
     "text": [
      "2018-09-24 15:37:07,122:WARNING:\n",
      "Failed to read header row 6.\n",
      "2008 01 01 2016 07 08\n",
      "\n",
      "Error msg: IndexError('list index out of range',)\n"
     ]
    },
    {
     "name": "stderr",
     "output_type": "stream",
     "text": [
      "2018-09-24 15:37:07,128:WARNING:\n",
      "Failed to read header row 6.\n",
      "2008 01 01 2016 07 08\n",
      "\n",
      "Error msg: IndexError('list index out of range',)\n"
     ]
    },
    {
     "name": "stderr",
     "output_type": "stream",
     "text": [
      "2018-09-24 15:37:07,135:WARNING:\n",
      "Failed to read header row 6.\n",
      "2008 01 01 2016 07 08\n",
      "\n",
      "Error msg: IndexError('list index out of range',)\n"
     ]
    },
    {
     "name": "stderr",
     "output_type": "stream",
     "text": [
      "2018-09-24 15:37:07,142:WARNING:\n",
      "Failed to read header row 6.\n",
      "2008 01 01 2016 07 08\n",
      "\n",
      "Error msg: IndexError('list index out of range',)\n"
     ]
    },
    {
     "name": "stderr",
     "output_type": "stream",
     "text": [
      "2018-09-24 15:37:07,149:WARNING:\n",
      "Failed to read header row 6.\n",
      "2008 01 01 2016 07 08\n",
      "\n",
      "Error msg: IndexError('list index out of range',)\n"
     ]
    },
    {
     "name": "stderr",
     "output_type": "stream",
     "text": [
      "2018-09-24 15:37:07,156:WARNING:\n",
      "Failed to read header row 6.\n",
      "2008 01 01 2016 07 08\n",
      "\n",
      "Error msg: IndexError('list index out of range',)\n"
     ]
    },
    {
     "name": "stderr",
     "output_type": "stream",
     "text": [
      "2018-09-24 15:37:07,163:WARNING:\n",
      "Failed to read header row 6.\n",
      "2008 01 01 2016 07 08\n",
      "\n",
      "Error msg: IndexError('list index out of range',)\n"
     ]
    },
    {
     "name": "stderr",
     "output_type": "stream",
     "text": [
      "2018-09-24 15:37:07,170:WARNING:\n",
      "Failed to read header row 6.\n",
      "2008 01 01 2016 07 08\n",
      "\n",
      "Error msg: IndexError('list index out of range',)\n"
     ]
    },
    {
     "name": "stderr",
     "output_type": "stream",
     "text": [
      "2018-09-24 15:37:07,177:WARNING:\n",
      "Failed to read header row 6.\n",
      "2008 01 01 2016 07 08\n",
      "\n",
      "Error msg: IndexError('list index out of range',)\n"
     ]
    },
    {
     "name": "stderr",
     "output_type": "stream",
     "text": [
      "2018-09-24 15:37:07,184:WARNING:\n",
      "Failed to read header row 6.\n",
      "2008 01 01 2016 07 08\n",
      "\n",
      "Error msg: IndexError('list index out of range',)\n"
     ]
    },
    {
     "name": "stderr",
     "output_type": "stream",
     "text": [
      "2018-09-24 15:37:07,191:WARNING:\n",
      "Failed to read header row 6.\n",
      "2008 01 01 2016 07 08\n",
      "\n",
      "Error msg: IndexError('list index out of range',)\n"
     ]
    },
    {
     "name": "stderr",
     "output_type": "stream",
     "text": [
      "2018-09-24 15:37:07,197:WARNING:\n",
      "Failed to read header row 6.\n",
      "2008 01 01 2016 07 08\n",
      "\n",
      "Error msg: IndexError('list index out of range',)\n"
     ]
    },
    {
     "name": "stderr",
     "output_type": "stream",
     "text": [
      "2018-09-24 15:37:07,204:WARNING:\n",
      "Failed to read header row 6.\n",
      "2008 01 01 2016 07 08\n",
      "\n",
      "Error msg: IndexError('list index out of range',)\n"
     ]
    },
    {
     "name": "stderr",
     "output_type": "stream",
     "text": [
      "2018-09-24 15:37:07,211:WARNING:\n",
      "Failed to read header row 6.\n",
      "2008 01 01 2016 07 08\n",
      "\n",
      "Error msg: IndexError('list index out of range',)\n"
     ]
    },
    {
     "name": "stderr",
     "output_type": "stream",
     "text": [
      "2018-09-24 15:37:07,218:WARNING:\n",
      "Failed to read header row 6.\n",
      "2008 01 01 2016 07 08\n",
      "\n",
      "Error msg: IndexError('list index out of range',)\n"
     ]
    },
    {
     "name": "stderr",
     "output_type": "stream",
     "text": [
      "2018-09-24 15:37:07,225:WARNING:\n",
      "Failed to read header row 6.\n",
      "2008 01 01 2016 07 08\n",
      "\n",
      "Error msg: IndexError('list index out of range',)\n"
     ]
    },
    {
     "name": "stderr",
     "output_type": "stream",
     "text": [
      "2018-09-24 15:37:07,232:WARNING:\n",
      "Failed to read header row 6.\n",
      "2008 01 01 2016 07 08\n",
      "\n",
      "Error msg: IndexError('list index out of range',)\n"
     ]
    },
    {
     "name": "stderr",
     "output_type": "stream",
     "text": [
      "2018-09-24 15:37:07,239:WARNING:\n",
      "Failed to read header row 6.\n",
      "2008 01 01 2016 07 08\n",
      "\n",
      "Error msg: IndexError('list index out of range',)\n"
     ]
    },
    {
     "name": "stderr",
     "output_type": "stream",
     "text": [
      "2018-09-24 15:37:07,247:WARNING:\n",
      "Failed to read header row 6.\n",
      "2008 01 01 2016 07 08\n",
      "\n",
      "Error msg: IndexError('list index out of range',)\n"
     ]
    },
    {
     "name": "stderr",
     "output_type": "stream",
     "text": [
      "2018-09-24 15:37:07,255:WARNING:\n",
      "Failed to read header row 6.\n",
      "2008 01 01 2016 07 08\n",
      "\n",
      "Error msg: IndexError('list index out of range',)\n"
     ]
    },
    {
     "name": "stderr",
     "output_type": "stream",
     "text": [
      "2018-09-24 15:37:07,261:WARNING:\n",
      "Failed to read header row 6.\n",
      "2008 01 01 2016 07 08\n",
      "\n",
      "Error msg: IndexError('list index out of range',)\n"
     ]
    },
    {
     "name": "stderr",
     "output_type": "stream",
     "text": [
      "2018-09-24 15:37:07,269:WARNING:\n",
      "Failed to read header row 6.\n",
      "2008 01 01 2016 07 08\n",
      "\n",
      "Error msg: IndexError('list index out of range',)\n"
     ]
    },
    {
     "name": "stderr",
     "output_type": "stream",
     "text": [
      "2018-09-24 15:37:07,277:WARNING:\n",
      "Failed to read header row 6.\n",
      "2008 01 01 2016 07 08\n",
      "\n",
      "Error msg: IndexError('list index out of range',)\n"
     ]
    },
    {
     "name": "stderr",
     "output_type": "stream",
     "text": [
      "2018-09-24 15:37:07,284:WARNING:\n",
      "Failed to read header row 6.\n",
      "2008 01 01 2016 07 08\n",
      "\n",
      "Error msg: IndexError('list index out of range',)\n"
     ]
    },
    {
     "name": "stderr",
     "output_type": "stream",
     "text": [
      "2018-09-24 15:37:07,291:WARNING:\n",
      "Failed to read header row 6.\n",
      "2008 01 01 2016 07 08\n",
      "\n",
      "Error msg: IndexError('list index out of range',)\n"
     ]
    },
    {
     "name": "stderr",
     "output_type": "stream",
     "text": [
      "2018-09-24 15:37:07,298:WARNING:\n",
      "Failed to read header row 6.\n",
      "2008 01 01 2016 07 08\n",
      "\n",
      "Error msg: IndexError('list index out of range',)\n"
     ]
    },
    {
     "name": "stderr",
     "output_type": "stream",
     "text": [
      "2018-09-24 15:37:07,305:WARNING:\n",
      "Failed to read header row 6.\n",
      "2008 01 01 2016 07 08\n",
      "\n",
      "Error msg: IndexError('list index out of range',)\n"
     ]
    },
    {
     "name": "stderr",
     "output_type": "stream",
     "text": [
      "2018-09-24 15:37:07,312:WARNING:\n",
      "Failed to read header row 6.\n",
      "2008 01 01 2016 07 08\n",
      "\n",
      "Error msg: IndexError('list index out of range',)\n"
     ]
    },
    {
     "name": "stderr",
     "output_type": "stream",
     "text": [
      "2018-09-24 15:37:07,319:WARNING:\n",
      "Failed to read header row 6.\n",
      "2008 01 01 2016 07 08\n",
      "\n",
      "Error msg: IndexError('list index out of range',)\n"
     ]
    },
    {
     "name": "stderr",
     "output_type": "stream",
     "text": [
      "2018-09-24 15:37:07,326:WARNING:\n",
      "Failed to read header row 6.\n",
      "2008 01 01 2016 07 08\n",
      "\n",
      "Error msg: IndexError('list index out of range',)\n"
     ]
    },
    {
     "name": "stderr",
     "output_type": "stream",
     "text": [
      "2018-09-24 15:37:07,333:WARNING:\n",
      "Failed to read header row 6.\n",
      "2008 01 01 2016 07 08\n",
      "\n",
      "Error msg: IndexError('list index out of range',)\n"
     ]
    },
    {
     "name": "stderr",
     "output_type": "stream",
     "text": [
      "2018-09-24 15:37:07,340:WARNING:\n",
      "Failed to read header row 6.\n",
      "2008 01 01 2016 07 08\n",
      "\n",
      "Error msg: IndexError('list index out of range',)\n"
     ]
    },
    {
     "name": "stderr",
     "output_type": "stream",
     "text": [
      "2018-09-24 15:37:07,347:WARNING:\n",
      "Failed to read header row 6.\n",
      "2008 01 01 2016 07 08\n",
      "\n",
      "Error msg: IndexError('list index out of range',)\n"
     ]
    },
    {
     "name": "stderr",
     "output_type": "stream",
     "text": [
      "2018-09-24 15:37:07,560:WARNING:\n",
      "Failed to read header row 6.\n",
      "2008 01 01 2016 07 08\n",
      "\n",
      "Error msg: IndexError('list index out of range',)\n"
     ]
    },
    {
     "name": "stderr",
     "output_type": "stream",
     "text": [
      "2018-09-24 15:37:07,579:WARNING:\n",
      "Failed to read header row 6.\n",
      "2008 01 01 2016 07 08\n",
      "\n",
      "Error msg: IndexError('list index out of range',)\n"
     ]
    },
    {
     "name": "stderr",
     "output_type": "stream",
     "text": [
      "2018-09-24 15:37:07,587:WARNING:\n",
      "Failed to read header row 6.\n",
      "2008 01 01 2016 07 08\n",
      "\n",
      "Error msg: IndexError('list index out of range',)\n"
     ]
    },
    {
     "name": "stderr",
     "output_type": "stream",
     "text": [
      "2018-09-24 15:37:07,593:WARNING:\n",
      "Failed to read header row 6.\n",
      "2008 01 01 2016 07 08\n",
      "\n",
      "Error msg: IndexError('list index out of range',)\n"
     ]
    },
    {
     "name": "stderr",
     "output_type": "stream",
     "text": [
      "2018-09-24 15:37:07,599:WARNING:\n",
      "Failed to read header row 6.\n",
      "2008 01 01 2016 07 08\n",
      "\n",
      "Error msg: IndexError('list index out of range',)\n"
     ]
    },
    {
     "name": "stderr",
     "output_type": "stream",
     "text": [
      "2018-09-24 15:37:07,607:WARNING:\n",
      "Failed to read header row 6.\n",
      "2008 01 01 2016 07 08\n",
      "\n",
      "Error msg: IndexError('list index out of range',)\n"
     ]
    },
    {
     "name": "stderr",
     "output_type": "stream",
     "text": [
      "2018-09-24 15:37:07,614:WARNING:\n",
      "Failed to read header row 6.\n",
      "2008 01 01 2016 07 08\n",
      "\n",
      "Error msg: IndexError('list index out of range',)\n"
     ]
    },
    {
     "name": "stderr",
     "output_type": "stream",
     "text": [
      "2018-09-24 15:37:07,620:WARNING:\n",
      "Failed to read header row 6.\n",
      "2008 01 01 2016 07 08\n",
      "\n",
      "Error msg: IndexError('list index out of range',)\n"
     ]
    },
    {
     "name": "stderr",
     "output_type": "stream",
     "text": [
      "2018-09-24 15:37:07,626:WARNING:\n",
      "Failed to read header row 6.\n",
      "2008 01 01 2016 07 08\n",
      "\n",
      "Error msg: IndexError('list index out of range',)\n"
     ]
    },
    {
     "name": "stderr",
     "output_type": "stream",
     "text": [
      "2018-09-24 15:37:07,633:WARNING:\n",
      "Failed to read header row 6.\n",
      "2008 01 01 2016 07 08\n",
      "\n",
      "Error msg: IndexError('list index out of range',)\n"
     ]
    },
    {
     "name": "stderr",
     "output_type": "stream",
     "text": [
      "2018-09-24 15:37:07,640:WARNING:\n",
      "Failed to read header row 6.\n",
      "2008 01 01 2016 07 08\n",
      "\n",
      "Error msg: IndexError('list index out of range',)\n"
     ]
    },
    {
     "name": "stderr",
     "output_type": "stream",
     "text": [
      "2018-09-24 15:37:07,647:WARNING:\n",
      "Failed to read header row 6.\n",
      "2008 01 01 2016 07 08\n",
      "\n",
      "Error msg: IndexError('list index out of range',)\n"
     ]
    },
    {
     "name": "stderr",
     "output_type": "stream",
     "text": [
      "2018-09-24 15:37:07,655:WARNING:\n",
      "Failed to read header row 6.\n",
      "2008 01 01 2016 07 08\n",
      "\n",
      "Error msg: IndexError('list index out of range',)\n"
     ]
    },
    {
     "name": "stderr",
     "output_type": "stream",
     "text": [
      "2018-09-24 15:37:07,661:WARNING:\n",
      "Failed to read header row 6.\n",
      "2008 01 01 2016 07 08\n",
      "\n",
      "Error msg: IndexError('list index out of range',)\n"
     ]
    },
    {
     "name": "stderr",
     "output_type": "stream",
     "text": [
      "2018-09-24 15:37:07,668:WARNING:\n",
      "Failed to read header row 6.\n",
      "2008 01 01 2016 07 08\n",
      "\n",
      "Error msg: IndexError('list index out of range',)\n"
     ]
    },
    {
     "name": "stderr",
     "output_type": "stream",
     "text": [
      "2018-09-24 15:37:07,675:WARNING:\n",
      "Failed to read header row 6.\n",
      "2008 01 01 2016 07 08\n",
      "\n",
      "Error msg: IndexError('list index out of range',)\n"
     ]
    },
    {
     "name": "stderr",
     "output_type": "stream",
     "text": [
      "2018-09-24 15:37:07,682:WARNING:\n",
      "Failed to read header row 6.\n",
      "2008 01 01 2016 07 08\n",
      "\n",
      "Error msg: IndexError('list index out of range',)\n"
     ]
    },
    {
     "name": "stderr",
     "output_type": "stream",
     "text": [
      "2018-09-24 15:37:07,690:WARNING:\n",
      "Failed to read header row 6.\n",
      "2008 01 01 2016 07 08\n",
      "\n",
      "Error msg: IndexError('list index out of range',)\n"
     ]
    },
    {
     "name": "stderr",
     "output_type": "stream",
     "text": [
      "2018-09-24 15:37:07,698:WARNING:\n",
      "Failed to read header row 6.\n",
      "2008 01 01 2016 07 08\n",
      "\n",
      "Error msg: IndexError('list index out of range',)\n"
     ]
    },
    {
     "name": "stderr",
     "output_type": "stream",
     "text": [
      "2018-09-24 15:37:07,706:WARNING:\n",
      "Failed to read header row 6.\n",
      "2008 01 01 2016 07 08\n",
      "\n",
      "Error msg: IndexError('list index out of range',)\n"
     ]
    },
    {
     "name": "stderr",
     "output_type": "stream",
     "text": [
      "2018-09-24 15:37:07,713:WARNING:\n",
      "Failed to read header row 6.\n",
      "2008 01 01 2016 07 08\n",
      "\n",
      "Error msg: IndexError('list index out of range',)\n"
     ]
    },
    {
     "name": "stderr",
     "output_type": "stream",
     "text": [
      "2018-09-24 15:37:07,720:WARNING:\n",
      "Failed to read header row 6.\n",
      "2008 01 01 2016 07 08\n",
      "\n",
      "Error msg: IndexError('list index out of range',)\n"
     ]
    },
    {
     "name": "stderr",
     "output_type": "stream",
     "text": [
      "2018-09-24 15:37:07,727:WARNING:\n",
      "Failed to read header row 6.\n",
      "2008 01 01 2016 07 08\n",
      "\n",
      "Error msg: IndexError('list index out of range',)\n"
     ]
    },
    {
     "name": "stderr",
     "output_type": "stream",
     "text": [
      "2018-09-24 15:37:07,734:WARNING:\n",
      "Failed to read header row 6.\n",
      "2008 01 01 2016 07 08\n",
      "\n",
      "Error msg: IndexError('list index out of range',)\n"
     ]
    },
    {
     "name": "stderr",
     "output_type": "stream",
     "text": [
      "2018-09-24 15:37:07,742:WARNING:\n",
      "Failed to read header row 6.\n",
      "2008 01 01 2016 07 08\n",
      "\n",
      "Error msg: IndexError('list index out of range',)\n"
     ]
    },
    {
     "name": "stderr",
     "output_type": "stream",
     "text": [
      "2018-09-24 15:37:07,748:WARNING:\n",
      "Failed to read header row 6.\n",
      "2008 01 01 2016 07 08\n",
      "\n",
      "Error msg: IndexError('list index out of range',)\n"
     ]
    },
    {
     "name": "stderr",
     "output_type": "stream",
     "text": [
      "2018-09-24 15:37:07,755:WARNING:\n",
      "Failed to read header row 6.\n",
      "2008 01 01 2016 07 08\n",
      "\n",
      "Error msg: IndexError('list index out of range',)\n"
     ]
    },
    {
     "name": "stderr",
     "output_type": "stream",
     "text": [
      "2018-09-24 15:37:07,763:WARNING:\n",
      "Failed to read header row 6.\n",
      "2008 01 01 2016 07 08\n",
      "\n",
      "Error msg: IndexError('list index out of range',)\n"
     ]
    },
    {
     "name": "stderr",
     "output_type": "stream",
     "text": [
      "2018-09-24 15:37:07,770:WARNING:\n",
      "Failed to read header row 6.\n",
      "2008 01 01 2016 07 08\n",
      "\n",
      "Error msg: IndexError('list index out of range',)\n"
     ]
    },
    {
     "name": "stderr",
     "output_type": "stream",
     "text": [
      "2018-09-24 15:37:07,778:WARNING:\n",
      "Failed to read header row 6.\n",
      "2008 01 01 2016 07 08\n",
      "\n",
      "Error msg: IndexError('list index out of range',)\n"
     ]
    },
    {
     "name": "stderr",
     "output_type": "stream",
     "text": [
      "2018-09-24 15:37:07,786:WARNING:\n",
      "Failed to read header row 6.\n",
      "2008 01 01 2016 07 08\n",
      "\n",
      "Error msg: IndexError('list index out of range',)\n"
     ]
    },
    {
     "name": "stderr",
     "output_type": "stream",
     "text": [
      "2018-09-24 15:37:07,793:WARNING:\n",
      "Failed to read header row 6.\n",
      "2008 01 01 2016 07 08\n",
      "\n",
      "Error msg: IndexError('list index out of range',)\n"
     ]
    },
    {
     "name": "stderr",
     "output_type": "stream",
     "text": [
      "2018-09-24 15:37:07,800:WARNING:\n",
      "Failed to read header row 6.\n",
      "2008 01 01 2016 07 08\n",
      "\n",
      "Error msg: IndexError('list index out of range',)\n"
     ]
    },
    {
     "name": "stderr",
     "output_type": "stream",
     "text": [
      "2018-09-24 15:37:07,807:WARNING:\n",
      "Failed to read header row 6.\n",
      "2008 01 01 2016 07 08\n",
      "\n",
      "Error msg: IndexError('list index out of range',)\n"
     ]
    },
    {
     "name": "stderr",
     "output_type": "stream",
     "text": [
      "2018-09-24 15:37:07,814:WARNING:\n",
      "Failed to read header row 6.\n",
      "2008 01 01 2016 07 08\n",
      "\n",
      "Error msg: IndexError('list index out of range',)\n"
     ]
    },
    {
     "name": "stderr",
     "output_type": "stream",
     "text": [
      "2018-09-24 15:37:07,820:WARNING:\n",
      "Failed to read header row 6.\n",
      "2008 01 01 2016 07 08\n",
      "\n",
      "Error msg: IndexError('list index out of range',)\n"
     ]
    },
    {
     "name": "stderr",
     "output_type": "stream",
     "text": [
      "2018-09-24 15:37:07,828:WARNING:\n",
      "Failed to read header row 6.\n",
      "2008 01 01 2016 07 08\n",
      "\n",
      "Error msg: IndexError('list index out of range',)\n"
     ]
    },
    {
     "name": "stderr",
     "output_type": "stream",
     "text": [
      "2018-09-24 15:37:07,835:WARNING:\n",
      "Failed to read header row 6.\n",
      "2008 01 01 2016 07 08\n",
      "\n",
      "Error msg: IndexError('list index out of range',)\n"
     ]
    },
    {
     "name": "stderr",
     "output_type": "stream",
     "text": [
      "2018-09-24 15:37:07,843:WARNING:\n",
      "Failed to read header row 6.\n",
      "2008 01 01 2016 07 08\n",
      "\n",
      "Error msg: IndexError('list index out of range',)\n"
     ]
    },
    {
     "name": "stderr",
     "output_type": "stream",
     "text": [
      "2018-09-24 15:37:07,855:WARNING:\n",
      "Failed to read header row 6.\n",
      "2008 01 01 2016 07 08\n",
      "\n",
      "Error msg: IndexError('list index out of range',)\n"
     ]
    },
    {
     "name": "stderr",
     "output_type": "stream",
     "text": [
      "2018-09-24 15:37:07,862:WARNING:\n",
      "Failed to read header row 6.\n",
      "2008 01 01 2016 07 08\n",
      "\n",
      "Error msg: IndexError('list index out of range',)\n"
     ]
    },
    {
     "name": "stderr",
     "output_type": "stream",
     "text": [
      "2018-09-24 15:37:07,869:WARNING:\n",
      "Failed to read header row 6.\n",
      "2008 01 01 2016 07 08\n",
      "\n",
      "Error msg: IndexError('list index out of range',)\n"
     ]
    },
    {
     "name": "stderr",
     "output_type": "stream",
     "text": [
      "2018-09-24 15:37:07,875:WARNING:\n",
      "Failed to read header row 6.\n",
      "2008 01 01 2016 07 08\n",
      "\n",
      "Error msg: IndexError('list index out of range',)\n"
     ]
    },
    {
     "name": "stderr",
     "output_type": "stream",
     "text": [
      "2018-09-24 15:37:07,882:WARNING:\n",
      "Failed to read header row 6.\n",
      "2008 01 01 2016 07 08\n",
      "\n",
      "Error msg: IndexError('list index out of range',)\n"
     ]
    },
    {
     "name": "stderr",
     "output_type": "stream",
     "text": [
      "2018-09-24 15:37:07,889:WARNING:\n",
      "Failed to read header row 6.\n",
      "2008 01 01 2016 07 08\n",
      "\n",
      "Error msg: IndexError('list index out of range',)\n"
     ]
    },
    {
     "name": "stderr",
     "output_type": "stream",
     "text": [
      "2018-09-24 15:37:07,896:WARNING:\n",
      "Failed to read header row 6.\n",
      "2008 01 01 2016 07 08\n",
      "\n",
      "Error msg: IndexError('list index out of range',)\n"
     ]
    },
    {
     "name": "stderr",
     "output_type": "stream",
     "text": [
      "2018-09-24 15:37:07,903:WARNING:\n",
      "Failed to read header row 6.\n",
      "2008 01 01 2016 07 08\n",
      "\n",
      "Error msg: IndexError('list index out of range',)\n"
     ]
    },
    {
     "name": "stderr",
     "output_type": "stream",
     "text": [
      "2018-09-24 15:37:07,910:WARNING:\n",
      "Failed to read header row 6.\n",
      "2008 01 01 2016 07 08\n",
      "\n",
      "Error msg: IndexError('list index out of range',)\n"
     ]
    },
    {
     "name": "stderr",
     "output_type": "stream",
     "text": [
      "2018-09-24 15:37:07,917:WARNING:\n",
      "Failed to read header row 6.\n",
      "2008 01 01 2016 07 08\n",
      "\n",
      "Error msg: IndexError('list index out of range',)\n"
     ]
    },
    {
     "name": "stderr",
     "output_type": "stream",
     "text": [
      "2018-09-24 15:37:07,925:WARNING:\n",
      "Failed to read header row 6.\n",
      "2008 01 01 2016 07 08\n",
      "\n",
      "Error msg: IndexError('list index out of range',)\n"
     ]
    },
    {
     "name": "stderr",
     "output_type": "stream",
     "text": [
      "2018-09-24 15:37:07,932:WARNING:\n",
      "Failed to read header row 6.\n",
      "2008 01 01 2016 07 08\n",
      "\n",
      "Error msg: IndexError('list index out of range',)\n"
     ]
    },
    {
     "name": "stderr",
     "output_type": "stream",
     "text": [
      "2018-09-24 15:37:07,938:WARNING:\n",
      "Failed to read header row 6.\n",
      "2008 01 01 2016 07 08\n",
      "\n",
      "Error msg: IndexError('list index out of range',)\n"
     ]
    },
    {
     "name": "stderr",
     "output_type": "stream",
     "text": [
      "2018-09-24 15:37:08,145:WARNING:\n",
      "Failed to read header row 6.\n",
      "2008 01 01 2016 07 08\n",
      "\n",
      "Error msg: IndexError('list index out of range',)\n"
     ]
    },
    {
     "name": "stderr",
     "output_type": "stream",
     "text": [
      "2018-09-24 15:37:08,156:WARNING:\n",
      "Failed to read header row 6.\n",
      "2008 01 01 2016 07 08\n",
      "\n",
      "Error msg: IndexError('list index out of range',)\n"
     ]
    },
    {
     "name": "stderr",
     "output_type": "stream",
     "text": [
      "2018-09-24 15:37:08,164:WARNING:\n",
      "Failed to read header row 6.\n",
      "2008 01 01 2016 07 08\n",
      "\n",
      "Error msg: IndexError('list index out of range',)\n"
     ]
    },
    {
     "name": "stderr",
     "output_type": "stream",
     "text": [
      "2018-09-24 15:37:08,171:WARNING:\n",
      "Failed to read header row 6.\n",
      "2008 01 01 2016 07 08\n",
      "\n",
      "Error msg: IndexError('list index out of range',)\n"
     ]
    },
    {
     "name": "stderr",
     "output_type": "stream",
     "text": [
      "2018-09-24 15:37:08,177:WARNING:\n",
      "Failed to read header row 6.\n",
      "2008 01 01 2016 07 08\n",
      "\n",
      "Error msg: IndexError('list index out of range',)\n"
     ]
    },
    {
     "name": "stderr",
     "output_type": "stream",
     "text": [
      "2018-09-24 15:37:08,184:WARNING:\n",
      "Failed to read header row 6.\n",
      "2008 01 01 2016 07 08\n",
      "\n",
      "Error msg: IndexError('list index out of range',)\n"
     ]
    },
    {
     "name": "stderr",
     "output_type": "stream",
     "text": [
      "2018-09-24 15:37:08,190:WARNING:\n",
      "Failed to read header row 6.\n",
      "2008 01 01 2016 07 08\n",
      "\n",
      "Error msg: IndexError('list index out of range',)\n"
     ]
    },
    {
     "name": "stderr",
     "output_type": "stream",
     "text": [
      "2018-09-24 15:37:08,196:WARNING:\n",
      "Failed to read header row 6.\n",
      "2008 01 01 2016 07 08\n",
      "\n",
      "Error msg: IndexError('list index out of range',)\n"
     ]
    },
    {
     "name": "stderr",
     "output_type": "stream",
     "text": [
      "2018-09-24 15:37:08,203:WARNING:\n",
      "Failed to read header row 6.\n",
      "2008 01 01 2016 07 08\n",
      "\n",
      "Error msg: IndexError('list index out of range',)\n"
     ]
    },
    {
     "name": "stderr",
     "output_type": "stream",
     "text": [
      "2018-09-24 15:37:08,209:WARNING:\n",
      "Failed to read header row 6.\n",
      "2008 01 01 2016 07 08\n",
      "\n",
      "Error msg: IndexError('list index out of range',)\n"
     ]
    },
    {
     "name": "stderr",
     "output_type": "stream",
     "text": [
      "2018-09-24 15:37:08,215:WARNING:\n",
      "Failed to read header row 6.\n",
      "2008 01 01 2016 07 08\n",
      "\n",
      "Error msg: IndexError('list index out of range',)\n"
     ]
    },
    {
     "name": "stderr",
     "output_type": "stream",
     "text": [
      "2018-09-24 15:37:08,222:WARNING:\n",
      "Failed to read header row 6.\n",
      "2008 01 01 2016 07 08\n",
      "\n",
      "Error msg: IndexError('list index out of range',)\n"
     ]
    },
    {
     "name": "stderr",
     "output_type": "stream",
     "text": [
      "2018-09-24 15:37:08,229:WARNING:\n",
      "Failed to read header row 6.\n",
      "2008 01 01 2016 07 08\n",
      "\n",
      "Error msg: IndexError('list index out of range',)\n"
     ]
    },
    {
     "name": "stderr",
     "output_type": "stream",
     "text": [
      "2018-09-24 15:37:08,235:WARNING:\n",
      "Failed to read header row 6.\n",
      "2008 01 01 2016 07 08\n",
      "\n",
      "Error msg: IndexError('list index out of range',)\n"
     ]
    },
    {
     "name": "stderr",
     "output_type": "stream",
     "text": [
      "2018-09-24 15:37:08,243:WARNING:\n",
      "Failed to read header row 6.\n",
      "2008 01 01 2016 07 08\n",
      "\n",
      "Error msg: IndexError('list index out of range',)\n"
     ]
    },
    {
     "name": "stderr",
     "output_type": "stream",
     "text": [
      "2018-09-24 15:37:08,249:WARNING:\n",
      "Failed to read header row 6.\n",
      "2008 01 01 2016 07 08\n",
      "\n",
      "Error msg: IndexError('list index out of range',)\n"
     ]
    },
    {
     "name": "stderr",
     "output_type": "stream",
     "text": [
      "2018-09-24 15:37:08,256:WARNING:\n",
      "Failed to read header row 6.\n",
      "2008 01 01 2016 07 08\n",
      "\n",
      "Error msg: IndexError('list index out of range',)\n"
     ]
    },
    {
     "name": "stderr",
     "output_type": "stream",
     "text": [
      "2018-09-24 15:37:08,263:WARNING:\n",
      "Failed to read header row 6.\n",
      "2008 01 01 2016 07 08\n",
      "\n",
      "Error msg: IndexError('list index out of range',)\n"
     ]
    },
    {
     "name": "stderr",
     "output_type": "stream",
     "text": [
      "2018-09-24 15:37:08,270:WARNING:\n",
      "Failed to read header row 6.\n",
      "2008 01 01 2016 07 08\n",
      "\n",
      "Error msg: IndexError('list index out of range',)\n"
     ]
    },
    {
     "name": "stderr",
     "output_type": "stream",
     "text": [
      "2018-09-24 15:37:08,277:WARNING:\n",
      "Failed to read header row 6.\n",
      "2008 01 01 2016 07 08\n",
      "\n",
      "Error msg: IndexError('list index out of range',)\n"
     ]
    },
    {
     "name": "stderr",
     "output_type": "stream",
     "text": [
      "2018-09-24 15:37:08,284:WARNING:\n",
      "Failed to read header row 6.\n",
      "2008 01 01 2016 07 08\n",
      "\n",
      "Error msg: IndexError('list index out of range',)\n"
     ]
    },
    {
     "name": "stderr",
     "output_type": "stream",
     "text": [
      "2018-09-24 15:37:08,291:WARNING:\n",
      "Failed to read header row 6.\n",
      "2008 01 01 2016 07 08\n",
      "\n",
      "Error msg: IndexError('list index out of range',)\n"
     ]
    },
    {
     "name": "stderr",
     "output_type": "stream",
     "text": [
      "2018-09-24 15:37:08,298:WARNING:\n",
      "Failed to read header row 6.\n",
      "2008 01 01 2016 07 08\n",
      "\n",
      "Error msg: IndexError('list index out of range',)\n"
     ]
    },
    {
     "name": "stderr",
     "output_type": "stream",
     "text": [
      "2018-09-24 15:37:08,305:WARNING:\n",
      "Failed to read header row 6.\n",
      "2008 01 01 2016 07 08\n",
      "\n",
      "Error msg: IndexError('list index out of range',)\n"
     ]
    },
    {
     "name": "stderr",
     "output_type": "stream",
     "text": [
      "2018-09-24 15:37:08,312:WARNING:\n",
      "Failed to read header row 6.\n",
      "2008 01 01 2016 07 08\n",
      "\n",
      "Error msg: IndexError('list index out of range',)\n"
     ]
    },
    {
     "name": "stderr",
     "output_type": "stream",
     "text": [
      "2018-09-24 15:37:08,319:WARNING:\n",
      "Failed to read header row 6.\n",
      "2008 01 01 2016 07 08\n",
      "\n",
      "Error msg: IndexError('list index out of range',)\n"
     ]
    },
    {
     "name": "stderr",
     "output_type": "stream",
     "text": [
      "2018-09-24 15:37:08,326:WARNING:\n",
      "Failed to read header row 6.\n",
      "2008 01 01 2016 07 08\n",
      "\n",
      "Error msg: IndexError('list index out of range',)\n"
     ]
    },
    {
     "name": "stderr",
     "output_type": "stream",
     "text": [
      "2018-09-24 15:37:08,333:WARNING:\n",
      "Failed to read header row 6.\n",
      "2008 01 01 2016 07 08\n",
      "\n",
      "Error msg: IndexError('list index out of range',)\n"
     ]
    },
    {
     "name": "stderr",
     "output_type": "stream",
     "text": [
      "2018-09-24 15:37:08,339:WARNING:\n",
      "Failed to read header row 6.\n",
      "2008 01 01 2016 07 08\n",
      "\n",
      "Error msg: IndexError('list index out of range',)\n"
     ]
    },
    {
     "name": "stderr",
     "output_type": "stream",
     "text": [
      "2018-09-24 15:37:08,346:WARNING:\n",
      "Failed to read header row 6.\n",
      "2008 01 01 2016 07 08\n",
      "\n",
      "Error msg: IndexError('list index out of range',)\n"
     ]
    },
    {
     "name": "stderr",
     "output_type": "stream",
     "text": [
      "2018-09-24 15:37:08,353:WARNING:\n",
      "Failed to read header row 6.\n",
      "2008 01 01 2016 07 08\n",
      "\n",
      "Error msg: IndexError('list index out of range',)\n"
     ]
    },
    {
     "name": "stderr",
     "output_type": "stream",
     "text": [
      "2018-09-24 15:37:08,360:WARNING:\n",
      "Failed to read header row 6.\n",
      "2008 01 01 2016 07 08\n",
      "\n",
      "Error msg: IndexError('list index out of range',)\n"
     ]
    },
    {
     "name": "stderr",
     "output_type": "stream",
     "text": [
      "2018-09-24 15:37:08,367:WARNING:\n",
      "Failed to read header row 6.\n",
      "2008 01 01 2016 07 08\n",
      "\n",
      "Error msg: IndexError('list index out of range',)\n"
     ]
    },
    {
     "name": "stderr",
     "output_type": "stream",
     "text": [
      "2018-09-24 15:37:08,373:WARNING:\n",
      "Failed to read header row 6.\n",
      "2008 01 01 2016 07 08\n",
      "\n",
      "Error msg: IndexError('list index out of range',)\n"
     ]
    },
    {
     "name": "stderr",
     "output_type": "stream",
     "text": [
      "2018-09-24 15:37:08,380:WARNING:\n",
      "Failed to read header row 6.\n",
      "2008 01 01 2016 07 08\n",
      "\n",
      "Error msg: IndexError('list index out of range',)\n"
     ]
    },
    {
     "name": "stderr",
     "output_type": "stream",
     "text": [
      "2018-09-24 15:37:08,387:WARNING:\n",
      "Failed to read header row 6.\n",
      "2008 01 01 2016 07 08\n",
      "\n",
      "Error msg: IndexError('list index out of range',)\n"
     ]
    },
    {
     "name": "stderr",
     "output_type": "stream",
     "text": [
      "2018-09-24 15:37:08,394:WARNING:\n",
      "Failed to read header row 6.\n",
      "2008 01 01 2016 07 08\n",
      "\n",
      "Error msg: IndexError('list index out of range',)\n"
     ]
    },
    {
     "name": "stderr",
     "output_type": "stream",
     "text": [
      "2018-09-24 15:37:08,402:WARNING:\n",
      "Failed to read header row 6.\n",
      "2008 01 01 2016 07 08\n",
      "\n",
      "Error msg: IndexError('list index out of range',)\n"
     ]
    },
    {
     "name": "stderr",
     "output_type": "stream",
     "text": [
      "2018-09-24 15:37:08,408:WARNING:\n",
      "Failed to read header row 6.\n",
      "2008 01 01 2016 07 08\n",
      "\n",
      "Error msg: IndexError('list index out of range',)\n"
     ]
    },
    {
     "name": "stderr",
     "output_type": "stream",
     "text": [
      "2018-09-24 15:37:08,415:WARNING:\n",
      "Failed to read header row 6.\n",
      "2008 01 01 2016 07 08\n",
      "\n",
      "Error msg: IndexError('list index out of range',)\n"
     ]
    },
    {
     "name": "stderr",
     "output_type": "stream",
     "text": [
      "2018-09-24 15:37:08,421:WARNING:\n",
      "Failed to read header row 6.\n",
      "2008 01 01 2016 07 08\n",
      "\n",
      "Error msg: IndexError('list index out of range',)\n"
     ]
    },
    {
     "name": "stderr",
     "output_type": "stream",
     "text": [
      "2018-09-24 15:37:08,428:WARNING:\n",
      "Failed to read header row 6.\n",
      "2008 01 01 2016 07 08\n",
      "\n",
      "Error msg: IndexError('list index out of range',)\n"
     ]
    },
    {
     "name": "stderr",
     "output_type": "stream",
     "text": [
      "2018-09-24 15:37:08,434:WARNING:\n",
      "Failed to read header row 6.\n",
      "2008 01 01 2016 07 08\n",
      "\n",
      "Error msg: IndexError('list index out of range',)\n"
     ]
    },
    {
     "name": "stderr",
     "output_type": "stream",
     "text": [
      "2018-09-24 15:37:08,441:WARNING:\n",
      "Failed to read header row 6.\n",
      "2008 01 01 2016 07 08\n",
      "\n",
      "Error msg: IndexError('list index out of range',)\n"
     ]
    },
    {
     "name": "stderr",
     "output_type": "stream",
     "text": [
      "2018-09-24 15:37:08,448:WARNING:\n",
      "Failed to read header row 6.\n",
      "2008 01 01 2016 07 08\n",
      "\n",
      "Error msg: IndexError('list index out of range',)\n"
     ]
    },
    {
     "name": "stderr",
     "output_type": "stream",
     "text": [
      "2018-09-24 15:37:08,454:WARNING:\n",
      "Failed to read header row 6.\n",
      "2008 01 01 2016 07 08\n",
      "\n",
      "Error msg: IndexError('list index out of range',)\n"
     ]
    },
    {
     "name": "stderr",
     "output_type": "stream",
     "text": [
      "2018-09-24 15:37:08,461:WARNING:\n",
      "Failed to read header row 6.\n",
      "2008 01 01 2016 07 08\n",
      "\n",
      "Error msg: IndexError('list index out of range',)\n"
     ]
    },
    {
     "name": "stderr",
     "output_type": "stream",
     "text": [
      "2018-09-24 15:37:08,467:WARNING:\n",
      "Failed to read header row 6.\n",
      "2008 01 01 2016 07 08\n",
      "\n",
      "Error msg: IndexError('list index out of range',)\n"
     ]
    },
    {
     "name": "stderr",
     "output_type": "stream",
     "text": [
      "2018-09-24 15:37:08,474:WARNING:\n",
      "Failed to read header row 6.\n",
      "2008 01 01 2016 07 08\n",
      "\n",
      "Error msg: IndexError('list index out of range',)\n"
     ]
    },
    {
     "name": "stderr",
     "output_type": "stream",
     "text": [
      "2018-09-24 15:37:08,481:WARNING:\n",
      "Failed to read header row 6.\n",
      "2008 01 01 2016 07 08\n",
      "\n",
      "Error msg: IndexError('list index out of range',)\n"
     ]
    },
    {
     "name": "stderr",
     "output_type": "stream",
     "text": [
      "2018-09-24 15:37:08,488:WARNING:\n",
      "Failed to read header row 6.\n",
      "2008 01 01 2016 07 08\n",
      "\n",
      "Error msg: IndexError('list index out of range',)\n"
     ]
    },
    {
     "name": "stderr",
     "output_type": "stream",
     "text": [
      "2018-09-24 15:37:08,494:WARNING:\n",
      "Failed to read header row 6.\n",
      "2008 01 01 2016 07 08\n",
      "\n",
      "Error msg: IndexError('list index out of range',)\n"
     ]
    },
    {
     "name": "stderr",
     "output_type": "stream",
     "text": [
      "2018-09-24 15:37:08,501:WARNING:\n",
      "Failed to read header row 6.\n",
      "2008 01 01 2016 07 08\n",
      "\n",
      "Error msg: IndexError('list index out of range',)\n"
     ]
    },
    {
     "name": "stderr",
     "output_type": "stream",
     "text": [
      "2018-09-24 15:37:08,508:WARNING:\n",
      "Failed to read header row 6.\n",
      "2008 01 01 2016 07 08\n",
      "\n",
      "Error msg: IndexError('list index out of range',)\n"
     ]
    },
    {
     "name": "stderr",
     "output_type": "stream",
     "text": [
      "2018-09-24 15:37:08,514:WARNING:\n",
      "Failed to read header row 6.\n",
      "2008 01 01 2016 07 08\n",
      "\n",
      "Error msg: IndexError('list index out of range',)\n"
     ]
    },
    {
     "name": "stderr",
     "output_type": "stream",
     "text": [
      "2018-09-24 15:37:08,521:WARNING:\n",
      "Failed to read header row 6.\n",
      "2008 01 01 2016 07 08\n",
      "\n",
      "Error msg: IndexError('list index out of range',)\n"
     ]
    },
    {
     "name": "stderr",
     "output_type": "stream",
     "text": [
      "2018-09-24 15:37:08,528:WARNING:\n",
      "Failed to read header row 6.\n",
      "2008 01 01 2016 07 08\n",
      "\n",
      "Error msg: IndexError('list index out of range',)\n"
     ]
    },
    {
     "name": "stderr",
     "output_type": "stream",
     "text": [
      "2018-09-24 15:37:08,534:WARNING:\n",
      "Failed to read header row 6.\n",
      "2008 01 01 2016 07 08\n",
      "\n",
      "Error msg: IndexError('list index out of range',)\n"
     ]
    },
    {
     "name": "stderr",
     "output_type": "stream",
     "text": [
      "2018-09-24 15:37:08,541:WARNING:\n",
      "Failed to read header row 6.\n",
      "2008 01 01 2016 07 08\n",
      "\n",
      "Error msg: IndexError('list index out of range',)\n"
     ]
    },
    {
     "name": "stderr",
     "output_type": "stream",
     "text": [
      "2018-09-24 15:37:08,547:WARNING:\n",
      "Failed to read header row 6.\n",
      "2008 01 01 2016 07 08\n",
      "\n",
      "Error msg: IndexError('list index out of range',)\n"
     ]
    },
    {
     "name": "stderr",
     "output_type": "stream",
     "text": [
      "2018-09-24 15:37:08,554:WARNING:\n",
      "Failed to read header row 6.\n",
      "2008 01 01 2016 07 08\n",
      "\n",
      "Error msg: IndexError('list index out of range',)\n"
     ]
    },
    {
     "name": "stderr",
     "output_type": "stream",
     "text": [
      "2018-09-24 15:37:08,560:WARNING:\n",
      "Failed to read header row 6.\n",
      "2008 01 01 2016 07 08\n",
      "\n",
      "Error msg: IndexError('list index out of range',)\n"
     ]
    },
    {
     "name": "stderr",
     "output_type": "stream",
     "text": [
      "2018-09-24 15:37:08,567:WARNING:\n",
      "Failed to read header row 6.\n",
      "2008 01 01 2016 07 08\n",
      "\n",
      "Error msg: IndexError('list index out of range',)\n"
     ]
    },
    {
     "name": "stderr",
     "output_type": "stream",
     "text": [
      "2018-09-24 15:37:08,577:WARNING:\n",
      "Failed to read header row 6.\n",
      "2008 01 01 2016 07 08\n",
      "\n",
      "Error msg: IndexError('list index out of range',)\n"
     ]
    },
    {
     "name": "stderr",
     "output_type": "stream",
     "text": [
      "2018-09-24 15:37:08,591:WARNING:\n",
      "Failed to read header row 6.\n",
      "2008 01 01 2016 07 08\n",
      "\n",
      "Error msg: IndexError('list index out of range',)\n"
     ]
    },
    {
     "name": "stderr",
     "output_type": "stream",
     "text": [
      "2018-09-24 15:37:08,598:WARNING:\n",
      "Failed to read header row 6.\n",
      "2008 01 01 2016 07 08\n",
      "\n",
      "Error msg: IndexError('list index out of range',)\n"
     ]
    },
    {
     "name": "stderr",
     "output_type": "stream",
     "text": [
      "2018-09-24 15:37:08,605:WARNING:\n",
      "Failed to read header row 6.\n",
      "2008 01 01 2016 07 08\n",
      "\n",
      "Error msg: IndexError('list index out of range',)\n"
     ]
    },
    {
     "name": "stderr",
     "output_type": "stream",
     "text": [
      "2018-09-24 15:37:08,611:WARNING:\n",
      "Failed to read header row 6.\n",
      "2008 01 01 2016 07 08\n",
      "\n",
      "Error msg: IndexError('list index out of range',)\n"
     ]
    },
    {
     "name": "stderr",
     "output_type": "stream",
     "text": [
      "2018-09-24 15:37:08,618:WARNING:\n",
      "Failed to read header row 6.\n",
      "2008 01 01 2016 07 08\n",
      "\n",
      "Error msg: IndexError('list index out of range',)\n"
     ]
    },
    {
     "name": "stderr",
     "output_type": "stream",
     "text": [
      "2018-09-24 15:37:08,625:WARNING:\n",
      "Failed to read header row 6.\n",
      "2008 01 01 2016 07 08\n",
      "\n",
      "Error msg: IndexError('list index out of range',)\n"
     ]
    },
    {
     "name": "stderr",
     "output_type": "stream",
     "text": [
      "2018-09-24 15:37:08,631:WARNING:\n",
      "Failed to read header row 6.\n",
      "2008 01 01 2016 07 08\n",
      "\n",
      "Error msg: IndexError('list index out of range',)\n"
     ]
    },
    {
     "name": "stderr",
     "output_type": "stream",
     "text": [
      "2018-09-24 15:37:08,638:WARNING:\n",
      "Failed to read header row 6.\n",
      "2008 01 01 2016 07 08\n",
      "\n",
      "Error msg: IndexError('list index out of range',)\n"
     ]
    },
    {
     "name": "stderr",
     "output_type": "stream",
     "text": [
      "2018-09-24 15:37:08,644:WARNING:\n",
      "Failed to read header row 6.\n",
      "2008 01 01 2016 07 08\n",
      "\n",
      "Error msg: IndexError('list index out of range',)\n"
     ]
    },
    {
     "name": "stderr",
     "output_type": "stream",
     "text": [
      "2018-09-24 15:37:08,651:WARNING:\n",
      "Failed to read header row 6.\n",
      "2008 01 01 2016 07 08\n",
      "\n",
      "Error msg: IndexError('list index out of range',)\n"
     ]
    },
    {
     "name": "stderr",
     "output_type": "stream",
     "text": [
      "2018-09-24 15:37:08,658:WARNING:\n",
      "Failed to read header row 6.\n",
      "2008 01 01 2016 07 08\n",
      "\n",
      "Error msg: IndexError('list index out of range',)\n"
     ]
    },
    {
     "name": "stderr",
     "output_type": "stream",
     "text": [
      "2018-09-24 15:37:08,665:WARNING:\n",
      "Failed to read header row 6.\n",
      "2008 01 01 2016 07 08\n",
      "\n",
      "Error msg: IndexError('list index out of range',)\n"
     ]
    },
    {
     "name": "stderr",
     "output_type": "stream",
     "text": [
      "2018-09-24 15:37:08,671:WARNING:\n",
      "Failed to read header row 6.\n",
      "2008 01 01 2016 07 08\n",
      "\n",
      "Error msg: IndexError('list index out of range',)\n"
     ]
    },
    {
     "name": "stderr",
     "output_type": "stream",
     "text": [
      "2018-09-24 15:37:08,678:WARNING:\n",
      "Failed to read header row 6.\n",
      "2008 01 01 2016 07 08\n",
      "\n",
      "Error msg: IndexError('list index out of range',)\n"
     ]
    },
    {
     "name": "stderr",
     "output_type": "stream",
     "text": [
      "2018-09-24 15:37:08,684:WARNING:\n",
      "Failed to read header row 6.\n",
      "2008 01 01 2016 07 08\n",
      "\n",
      "Error msg: IndexError('list index out of range',)\n"
     ]
    },
    {
     "name": "stderr",
     "output_type": "stream",
     "text": [
      "2018-09-24 15:37:08,691:WARNING:\n",
      "Failed to read header row 6.\n",
      "2008 01 01 2016 07 08\n",
      "\n",
      "Error msg: IndexError('list index out of range',)\n"
     ]
    },
    {
     "name": "stderr",
     "output_type": "stream",
     "text": [
      "2018-09-24 15:37:08,698:WARNING:\n",
      "Failed to read header row 6.\n",
      "2008 01 01 2016 07 08\n",
      "\n",
      "Error msg: IndexError('list index out of range',)\n"
     ]
    },
    {
     "name": "stderr",
     "output_type": "stream",
     "text": [
      "2018-09-24 15:37:08,706:WARNING:\n",
      "Failed to read header row 6.\n",
      "2008 01 01 2016 07 08\n",
      "\n",
      "Error msg: IndexError('list index out of range',)\n"
     ]
    },
    {
     "name": "stderr",
     "output_type": "stream",
     "text": [
      "2018-09-24 15:37:08,713:WARNING:\n",
      "Failed to read header row 6.\n",
      "2008 01 01 2016 07 08\n",
      "\n",
      "Error msg: IndexError('list index out of range',)\n"
     ]
    },
    {
     "name": "stderr",
     "output_type": "stream",
     "text": [
      "2018-09-24 15:37:08,719:WARNING:\n",
      "Failed to read header row 6.\n",
      "2008 01 01 2016 07 08\n",
      "\n",
      "Error msg: IndexError('list index out of range',)\n"
     ]
    },
    {
     "name": "stderr",
     "output_type": "stream",
     "text": [
      "2018-09-24 15:37:08,726:WARNING:\n",
      "Failed to read header row 6.\n",
      "2008 01 01 2016 07 08\n",
      "\n",
      "Error msg: IndexError('list index out of range',)\n"
     ]
    },
    {
     "name": "stderr",
     "output_type": "stream",
     "text": [
      "2018-09-24 15:37:08,732:WARNING:\n",
      "Failed to read header row 6.\n",
      "2008 01 01 2016 07 08\n",
      "\n",
      "Error msg: IndexError('list index out of range',)\n"
     ]
    },
    {
     "name": "stderr",
     "output_type": "stream",
     "text": [
      "2018-09-24 15:37:08,739:WARNING:\n",
      "Failed to read header row 6.\n",
      "2008 01 01 2016 07 08\n",
      "\n",
      "Error msg: IndexError('list index out of range',)\n"
     ]
    },
    {
     "name": "stderr",
     "output_type": "stream",
     "text": [
      "2018-09-24 15:37:08,746:WARNING:\n",
      "Failed to read header row 6.\n",
      "2008 01 01 2016 07 08\n",
      "\n",
      "Error msg: IndexError('list index out of range',)\n"
     ]
    },
    {
     "name": "stderr",
     "output_type": "stream",
     "text": [
      "2018-09-24 15:37:08,752:WARNING:\n",
      "Failed to read header row 6.\n",
      "2008 01 01 2016 07 08\n",
      "\n",
      "Error msg: IndexError('list index out of range',)\n"
     ]
    },
    {
     "name": "stderr",
     "output_type": "stream",
     "text": [
      "2018-09-24 15:37:08,760:WARNING:\n",
      "Failed to read header row 6.\n",
      "2008 01 01 2016 07 08\n",
      "\n",
      "Error msg: IndexError('list index out of range',)\n"
     ]
    },
    {
     "name": "stderr",
     "output_type": "stream",
     "text": [
      "2018-09-24 15:37:08,766:WARNING:\n",
      "Failed to read header row 6.\n",
      "2008 01 01 2016 07 08\n",
      "\n",
      "Error msg: IndexError('list index out of range',)\n"
     ]
    },
    {
     "name": "stderr",
     "output_type": "stream",
     "text": [
      "2018-09-24 15:37:08,772:WARNING:\n",
      "Failed to read header row 6.\n",
      "2008 01 01 2016 07 08\n",
      "\n",
      "Error msg: IndexError('list index out of range',)\n"
     ]
    },
    {
     "name": "stderr",
     "output_type": "stream",
     "text": [
      "2018-09-24 15:37:08,779:WARNING:\n",
      "Failed to read header row 6.\n",
      "2008 01 01 2016 07 08\n",
      "\n",
      "Error msg: IndexError('list index out of range',)\n"
     ]
    },
    {
     "name": "stderr",
     "output_type": "stream",
     "text": [
      "2018-09-24 15:37:08,786:WARNING:\n",
      "Failed to read header row 6.\n",
      "2008 01 01 2016 07 08\n",
      "\n",
      "Error msg: IndexError('list index out of range',)\n"
     ]
    },
    {
     "name": "stderr",
     "output_type": "stream",
     "text": [
      "2018-09-24 15:37:08,793:WARNING:\n",
      "Failed to read header row 6.\n",
      "2008 01 01 2016 07 08\n",
      "\n",
      "Error msg: IndexError('list index out of range',)\n"
     ]
    },
    {
     "name": "stderr",
     "output_type": "stream",
     "text": [
      "2018-09-24 15:37:08,799:WARNING:\n",
      "Failed to read header row 6.\n",
      "2008 01 01 2016 07 08\n",
      "\n",
      "Error msg: IndexError('list index out of range',)\n"
     ]
    },
    {
     "name": "stderr",
     "output_type": "stream",
     "text": [
      "2018-09-24 15:37:08,806:WARNING:\n",
      "Failed to read header row 6.\n",
      "2008 01 01 2016 07 08\n",
      "\n",
      "Error msg: IndexError('list index out of range',)\n"
     ]
    },
    {
     "name": "stderr",
     "output_type": "stream",
     "text": [
      "2018-09-24 15:37:08,813:WARNING:\n",
      "Failed to read header row 6.\n",
      "2008 01 01 2016 07 08\n",
      "\n",
      "Error msg: IndexError('list index out of range',)\n"
     ]
    },
    {
     "name": "stderr",
     "output_type": "stream",
     "text": [
      "2018-09-24 15:37:08,820:WARNING:\n",
      "Failed to read header row 6.\n",
      "2008 01 01 2016 07 08\n",
      "\n",
      "Error msg: IndexError('list index out of range',)\n"
     ]
    },
    {
     "name": "stderr",
     "output_type": "stream",
     "text": [
      "2018-09-24 15:37:08,826:WARNING:\n",
      "Failed to read header row 6.\n",
      "2008 01 01 2016 07 08\n",
      "\n",
      "Error msg: IndexError('list index out of range',)\n"
     ]
    },
    {
     "name": "stderr",
     "output_type": "stream",
     "text": [
      "2018-09-24 15:37:08,832:WARNING:\n",
      "Failed to read header row 6.\n",
      "2008 01 01 2016 07 08\n",
      "\n",
      "Error msg: IndexError('list index out of range',)\n"
     ]
    },
    {
     "name": "stderr",
     "output_type": "stream",
     "text": [
      "2018-09-24 15:37:08,839:WARNING:\n",
      "Failed to read header row 6.\n",
      "2008 01 01 2016 07 08\n",
      "\n",
      "Error msg: IndexError('list index out of range',)\n"
     ]
    },
    {
     "name": "stderr",
     "output_type": "stream",
     "text": [
      "2018-09-24 15:37:08,845:WARNING:\n",
      "Failed to read header row 6.\n",
      "2008 01 01 2016 07 08\n",
      "\n",
      "Error msg: IndexError('list index out of range',)\n"
     ]
    },
    {
     "name": "stderr",
     "output_type": "stream",
     "text": [
      "2018-09-24 15:37:08,851:WARNING:\n",
      "Failed to read header row 6.\n",
      "2008 01 01 2016 07 08\n",
      "\n",
      "Error msg: IndexError('list index out of range',)\n"
     ]
    },
    {
     "name": "stderr",
     "output_type": "stream",
     "text": [
      "2018-09-24 15:37:08,860:WARNING:\n",
      "Failed to read header row 6.\n",
      "2008 01 01 2016 07 08\n",
      "\n",
      "Error msg: IndexError('list index out of range',)\n"
     ]
    },
    {
     "name": "stderr",
     "output_type": "stream",
     "text": [
      "2018-09-24 15:37:08,866:WARNING:\n",
      "Failed to read header row 6.\n",
      "2008 01 01 2016 07 08\n",
      "\n",
      "Error msg: IndexError('list index out of range',)\n"
     ]
    },
    {
     "name": "stderr",
     "output_type": "stream",
     "text": [
      "2018-09-24 15:37:08,872:WARNING:\n",
      "Failed to read header row 6.\n",
      "2008 01 01 2016 07 08\n",
      "\n",
      "Error msg: IndexError('list index out of range',)\n"
     ]
    },
    {
     "name": "stderr",
     "output_type": "stream",
     "text": [
      "2018-09-24 15:37:08,879:WARNING:\n",
      "Failed to read header row 6.\n",
      "2008 01 01 2016 07 08\n",
      "\n",
      "Error msg: IndexError('list index out of range',)\n"
     ]
    },
    {
     "name": "stderr",
     "output_type": "stream",
     "text": [
      "2018-09-24 15:37:08,885:WARNING:\n",
      "Failed to read header row 6.\n",
      "2008 01 01 2016 07 08\n",
      "\n",
      "Error msg: IndexError('list index out of range',)\n"
     ]
    },
    {
     "name": "stderr",
     "output_type": "stream",
     "text": [
      "2018-09-24 15:37:08,891:WARNING:\n",
      "Failed to read header row 6.\n",
      "2008 01 01 2016 07 08\n",
      "\n",
      "Error msg: IndexError('list index out of range',)\n"
     ]
    },
    {
     "name": "stderr",
     "output_type": "stream",
     "text": [
      "2018-09-24 15:37:08,898:WARNING:\n",
      "Failed to read header row 6.\n",
      "2008 01 01 2016 07 08\n",
      "\n",
      "Error msg: IndexError('list index out of range',)\n"
     ]
    },
    {
     "name": "stderr",
     "output_type": "stream",
     "text": [
      "2018-09-24 15:37:08,904:WARNING:\n",
      "Failed to read header row 6.\n",
      "2008 01 01 2016 07 08\n",
      "\n",
      "Error msg: IndexError('list index out of range',)\n"
     ]
    },
    {
     "name": "stderr",
     "output_type": "stream",
     "text": [
      "2018-09-24 15:37:08,911:WARNING:\n",
      "Failed to read header row 6.\n",
      "2008 01 01 2016 07 08\n",
      "\n",
      "Error msg: IndexError('list index out of range',)\n"
     ]
    },
    {
     "name": "stderr",
     "output_type": "stream",
     "text": [
      "2018-09-24 15:37:08,918:WARNING:\n",
      "Failed to read header row 6.\n",
      "2008 01 01 2016 07 08\n",
      "\n",
      "Error msg: IndexError('list index out of range',)\n"
     ]
    },
    {
     "name": "stderr",
     "output_type": "stream",
     "text": [
      "2018-09-24 15:37:08,924:WARNING:\n",
      "Failed to read header row 6.\n",
      "2008 01 01 2016 07 08\n",
      "\n",
      "Error msg: IndexError('list index out of range',)\n"
     ]
    },
    {
     "name": "stderr",
     "output_type": "stream",
     "text": [
      "2018-09-24 15:37:08,931:WARNING:\n",
      "Failed to read header row 6.\n",
      "2008 01 01 2016 07 08\n",
      "\n",
      "Error msg: IndexError('list index out of range',)\n"
     ]
    },
    {
     "name": "stderr",
     "output_type": "stream",
     "text": [
      "2018-09-24 15:37:08,938:WARNING:\n",
      "Failed to read header row 6.\n",
      "2008 01 01 2016 07 08\n",
      "\n",
      "Error msg: IndexError('list index out of range',)\n"
     ]
    },
    {
     "name": "stderr",
     "output_type": "stream",
     "text": [
      "2018-09-24 15:37:08,945:WARNING:\n",
      "Failed to read header row 6.\n",
      "2008 01 01 2016 07 08\n",
      "\n",
      "Error msg: IndexError('list index out of range',)\n"
     ]
    },
    {
     "name": "stderr",
     "output_type": "stream",
     "text": [
      "2018-09-24 15:37:08,952:WARNING:\n",
      "Failed to read header row 6.\n",
      "2008 01 01 2016 07 08\n",
      "\n",
      "Error msg: IndexError('list index out of range',)\n"
     ]
    },
    {
     "name": "stderr",
     "output_type": "stream",
     "text": [
      "2018-09-24 15:37:08,958:WARNING:\n",
      "Failed to read header row 6.\n",
      "2008 01 01 2016 07 08\n",
      "\n",
      "Error msg: IndexError('list index out of range',)\n"
     ]
    },
    {
     "name": "stderr",
     "output_type": "stream",
     "text": [
      "2018-09-24 15:37:08,965:WARNING:\n",
      "Failed to read header row 6.\n",
      "2008 01 01 2016 07 08\n",
      "\n",
      "Error msg: IndexError('list index out of range',)\n"
     ]
    },
    {
     "name": "stderr",
     "output_type": "stream",
     "text": [
      "2018-09-24 15:37:08,972:WARNING:\n",
      "Failed to read header row 6.\n",
      "2008 01 01 2016 07 08\n",
      "\n",
      "Error msg: IndexError('list index out of range',)\n"
     ]
    },
    {
     "name": "stderr",
     "output_type": "stream",
     "text": [
      "2018-09-24 15:37:08,979:WARNING:\n",
      "Failed to read header row 6.\n",
      "2008 01 01 2016 07 08\n",
      "\n",
      "Error msg: IndexError('list index out of range',)\n"
     ]
    },
    {
     "name": "stderr",
     "output_type": "stream",
     "text": [
      "2018-09-24 15:37:08,986:WARNING:\n",
      "Failed to read header row 6.\n",
      "2008 01 01 2016 07 08\n",
      "\n",
      "Error msg: IndexError('list index out of range',)\n"
     ]
    },
    {
     "name": "stderr",
     "output_type": "stream",
     "text": [
      "2018-09-24 15:37:08,992:WARNING:\n",
      "Failed to read header row 6.\n",
      "2008 01 01 2016 07 08\n",
      "\n",
      "Error msg: IndexError('list index out of range',)\n"
     ]
    },
    {
     "name": "stderr",
     "output_type": "stream",
     "text": [
      "2018-09-24 15:37:08,999:WARNING:\n",
      "Failed to read header row 6.\n",
      "2008 01 01 2016 07 08\n",
      "\n",
      "Error msg: IndexError('list index out of range',)\n"
     ]
    },
    {
     "name": "stderr",
     "output_type": "stream",
     "text": [
      "2018-09-24 15:37:09,006:WARNING:\n",
      "Failed to read header row 6.\n",
      "2008 01 01 2016 07 08\n",
      "\n",
      "Error msg: IndexError('list index out of range',)\n"
     ]
    },
    {
     "name": "stderr",
     "output_type": "stream",
     "text": [
      "2018-09-24 15:37:09,013:WARNING:\n",
      "Failed to read header row 6.\n",
      "2008 01 01 2016 07 08\n",
      "\n",
      "Error msg: IndexError('list index out of range',)\n"
     ]
    },
    {
     "name": "stderr",
     "output_type": "stream",
     "text": [
      "2018-09-24 15:37:09,020:WARNING:\n",
      "Failed to read header row 6.\n",
      "2008 01 01 2016 07 08\n",
      "\n",
      "Error msg: IndexError('list index out of range',)\n"
     ]
    },
    {
     "name": "stderr",
     "output_type": "stream",
     "text": [
      "2018-09-24 15:37:09,027:WARNING:\n",
      "Failed to read header row 6.\n",
      "2008 01 01 2016 07 08\n",
      "\n",
      "Error msg: IndexError('list index out of range',)\n"
     ]
    },
    {
     "name": "stderr",
     "output_type": "stream",
     "text": [
      "2018-09-24 15:37:09,033:WARNING:\n",
      "Failed to read header row 6.\n",
      "2008 01 01 2016 07 08\n",
      "\n",
      "Error msg: IndexError('list index out of range',)\n"
     ]
    },
    {
     "name": "stderr",
     "output_type": "stream",
     "text": [
      "2018-09-24 15:37:09,040:WARNING:\n",
      "Failed to read header row 6.\n",
      "2008 01 01 2016 07 08\n",
      "\n",
      "Error msg: IndexError('list index out of range',)\n"
     ]
    },
    {
     "name": "stderr",
     "output_type": "stream",
     "text": [
      "2018-09-24 15:37:09,047:WARNING:\n",
      "Failed to read header row 6.\n",
      "2008 01 01 2016 07 08\n",
      "\n",
      "Error msg: IndexError('list index out of range',)\n"
     ]
    },
    {
     "name": "stderr",
     "output_type": "stream",
     "text": [
      "2018-09-24 15:37:09,054:WARNING:\n",
      "Failed to read header row 6.\n",
      "2008 01 01 2016 07 08\n",
      "\n",
      "Error msg: IndexError('list index out of range',)\n"
     ]
    },
    {
     "name": "stderr",
     "output_type": "stream",
     "text": [
      "2018-09-24 15:37:09,061:WARNING:\n",
      "Failed to read header row 6.\n",
      "2008 01 01 2016 07 08\n",
      "\n",
      "Error msg: IndexError('list index out of range',)\n"
     ]
    },
    {
     "name": "stderr",
     "output_type": "stream",
     "text": [
      "2018-09-24 15:37:09,068:WARNING:\n",
      "Failed to read header row 6.\n",
      "2008 01 01 2016 07 08\n",
      "\n",
      "Error msg: IndexError('list index out of range',)\n"
     ]
    },
    {
     "name": "stderr",
     "output_type": "stream",
     "text": [
      "2018-09-24 15:37:09,075:WARNING:\n",
      "Failed to read header row 6.\n",
      "2008 01 01 2016 07 08\n",
      "\n",
      "Error msg: IndexError('list index out of range',)\n"
     ]
    },
    {
     "name": "stderr",
     "output_type": "stream",
     "text": [
      "2018-09-24 15:37:09,082:WARNING:\n",
      "Failed to read header row 6.\n",
      "2008 01 01 2016 07 08\n",
      "\n",
      "Error msg: IndexError('list index out of range',)\n"
     ]
    },
    {
     "name": "stderr",
     "output_type": "stream",
     "text": [
      "2018-09-24 15:37:09,089:WARNING:\n",
      "Failed to read header row 6.\n",
      "2008 01 01 2016 07 08\n",
      "\n",
      "Error msg: IndexError('list index out of range',)\n"
     ]
    },
    {
     "name": "stderr",
     "output_type": "stream",
     "text": [
      "2018-09-24 15:37:09,096:WARNING:\n",
      "Failed to read header row 6.\n",
      "2008 01 01 2016 07 08\n",
      "\n",
      "Error msg: IndexError('list index out of range',)\n"
     ]
    },
    {
     "name": "stderr",
     "output_type": "stream",
     "text": [
      "2018-09-24 15:37:09,103:WARNING:\n",
      "Failed to read header row 6.\n",
      "2008 01 01 2016 07 08\n",
      "\n",
      "Error msg: IndexError('list index out of range',)\n"
     ]
    },
    {
     "name": "stderr",
     "output_type": "stream",
     "text": [
      "2018-09-24 15:37:09,110:WARNING:\n",
      "Failed to read header row 6.\n",
      "2008 01 01 2016 07 08\n",
      "\n",
      "Error msg: IndexError('list index out of range',)\n"
     ]
    },
    {
     "name": "stderr",
     "output_type": "stream",
     "text": [
      "2018-09-24 15:37:09,117:WARNING:\n",
      "Failed to read header row 6.\n",
      "2008 01 01 2016 07 08\n",
      "\n",
      "Error msg: IndexError('list index out of range',)\n"
     ]
    },
    {
     "name": "stderr",
     "output_type": "stream",
     "text": [
      "2018-09-24 15:37:09,125:WARNING:\n",
      "Failed to read header row 6.\n",
      "2008 01 01 2016 07 08\n",
      "\n",
      "Error msg: IndexError('list index out of range',)\n"
     ]
    },
    {
     "name": "stderr",
     "output_type": "stream",
     "text": [
      "2018-09-24 15:37:09,132:WARNING:\n",
      "Failed to read header row 6.\n",
      "2008 01 01 2016 07 08\n",
      "\n",
      "Error msg: IndexError('list index out of range',)\n"
     ]
    },
    {
     "name": "stderr",
     "output_type": "stream",
     "text": [
      "2018-09-24 15:37:09,138:WARNING:\n",
      "Failed to read header row 6.\n",
      "2008 01 01 2016 07 08\n",
      "\n",
      "Error msg: IndexError('list index out of range',)\n"
     ]
    },
    {
     "name": "stderr",
     "output_type": "stream",
     "text": [
      "2018-09-24 15:37:09,146:WARNING:\n",
      "Failed to read header row 6.\n",
      "2008 01 01 2016 07 08\n",
      "\n",
      "Error msg: IndexError('list index out of range',)\n"
     ]
    },
    {
     "name": "stderr",
     "output_type": "stream",
     "text": [
      "2018-09-24 15:37:09,152:WARNING:\n",
      "Failed to read header row 6.\n",
      "2008 01 01 2016 07 08\n",
      "\n",
      "Error msg: IndexError('list index out of range',)\n"
     ]
    },
    {
     "name": "stderr",
     "output_type": "stream",
     "text": [
      "2018-09-24 15:37:09,159:WARNING:\n",
      "Failed to read header row 6.\n",
      "2008 01 01 2016 07 08\n",
      "\n",
      "Error msg: IndexError('list index out of range',)\n"
     ]
    },
    {
     "name": "stderr",
     "output_type": "stream",
     "text": [
      "2018-09-24 15:37:09,165:WARNING:\n",
      "Failed to read header row 6.\n",
      "2008 01 01 2016 07 08\n",
      "\n",
      "Error msg: IndexError('list index out of range',)\n"
     ]
    },
    {
     "name": "stderr",
     "output_type": "stream",
     "text": [
      "2018-09-24 15:37:09,173:WARNING:\n",
      "Failed to read header row 6.\n",
      "2008 01 01 2016 07 08\n",
      "\n",
      "Error msg: IndexError('list index out of range',)\n"
     ]
    },
    {
     "name": "stderr",
     "output_type": "stream",
     "text": [
      "2018-09-24 15:37:09,179:WARNING:\n",
      "Failed to read header row 6.\n",
      "2008 01 01 2016 07 08\n",
      "\n",
      "Error msg: IndexError('list index out of range',)\n"
     ]
    },
    {
     "name": "stderr",
     "output_type": "stream",
     "text": [
      "2018-09-24 15:37:09,186:WARNING:\n",
      "Failed to read header row 6.\n",
      "2008 01 01 2016 07 08\n",
      "\n",
      "Error msg: IndexError('list index out of range',)\n"
     ]
    },
    {
     "name": "stderr",
     "output_type": "stream",
     "text": [
      "2018-09-24 15:37:09,193:WARNING:\n",
      "Failed to read header row 6.\n",
      "2008 01 01 2016 07 08\n",
      "\n",
      "Error msg: IndexError('list index out of range',)\n"
     ]
    },
    {
     "name": "stderr",
     "output_type": "stream",
     "text": [
      "2018-09-24 15:37:09,199:WARNING:\n",
      "Failed to read header row 6.\n",
      "2008 01 01 2016 07 08\n",
      "\n",
      "Error msg: IndexError('list index out of range',)\n"
     ]
    },
    {
     "name": "stderr",
     "output_type": "stream",
     "text": [
      "2018-09-24 15:37:09,206:WARNING:\n",
      "Failed to read header row 6.\n",
      "2008 01 01 2016 07 08\n",
      "\n",
      "Error msg: IndexError('list index out of range',)\n"
     ]
    },
    {
     "name": "stderr",
     "output_type": "stream",
     "text": [
      "2018-09-24 15:37:09,213:WARNING:\n",
      "Failed to read header row 6.\n",
      "2008 01 01 2016 07 08\n",
      "\n",
      "Error msg: IndexError('list index out of range',)\n"
     ]
    },
    {
     "name": "stderr",
     "output_type": "stream",
     "text": [
      "2018-09-24 15:37:09,220:WARNING:\n",
      "Failed to read header row 6.\n",
      "2008 01 01 2016 07 08\n",
      "\n",
      "Error msg: IndexError('list index out of range',)\n"
     ]
    },
    {
     "name": "stderr",
     "output_type": "stream",
     "text": [
      "2018-09-24 15:37:09,227:WARNING:\n",
      "Failed to read header row 6.\n",
      "2008 01 01 2016 07 08\n",
      "\n",
      "Error msg: IndexError('list index out of range',)\n"
     ]
    },
    {
     "name": "stderr",
     "output_type": "stream",
     "text": [
      "2018-09-24 15:37:09,234:WARNING:\n",
      "Failed to read header row 6.\n",
      "2008 01 01 2016 07 08\n",
      "\n",
      "Error msg: IndexError('list index out of range',)\n"
     ]
    },
    {
     "name": "stderr",
     "output_type": "stream",
     "text": [
      "2018-09-24 15:37:09,241:WARNING:\n",
      "Failed to read header row 6.\n",
      "2008 01 01 2016 07 08\n",
      "\n",
      "Error msg: IndexError('list index out of range',)\n"
     ]
    },
    {
     "name": "stderr",
     "output_type": "stream",
     "text": [
      "2018-09-24 15:37:09,247:WARNING:\n",
      "Failed to read header row 6.\n",
      "2008 01 01 2016 07 08\n",
      "\n",
      "Error msg: IndexError('list index out of range',)\n"
     ]
    },
    {
     "name": "stderr",
     "output_type": "stream",
     "text": [
      "2018-09-24 15:37:09,254:WARNING:\n",
      "Failed to read header row 6.\n",
      "2008 01 01 2016 07 08\n",
      "\n",
      "Error msg: IndexError('list index out of range',)\n"
     ]
    },
    {
     "name": "stderr",
     "output_type": "stream",
     "text": [
      "2018-09-24 15:37:09,262:WARNING:\n",
      "Failed to read header row 6.\n",
      "2008 01 01 2016 07 08\n",
      "\n",
      "Error msg: IndexError('list index out of range',)\n"
     ]
    },
    {
     "name": "stderr",
     "output_type": "stream",
     "text": [
      "2018-09-24 15:37:09,269:WARNING:\n",
      "Failed to read header row 6.\n",
      "2008 01 01 2016 07 08\n",
      "\n",
      "Error msg: IndexError('list index out of range',)"
     ]
    },
    {
     "name": "stderr",
     "output_type": "stream",
     "text": [
      "\n"
     ]
    },
    {
     "name": "stderr",
     "output_type": "stream",
     "text": [
      "2018-09-24 15:37:09,277:WARNING:\n",
      "Failed to read header row 6.\n",
      "2008 01 01 2016 07 08\n",
      "\n",
      "Error msg: IndexError('list index out of range',)\n"
     ]
    },
    {
     "name": "stderr",
     "output_type": "stream",
     "text": [
      "2018-09-24 15:37:09,284:WARNING:\n",
      "Failed to read header row 6.\n",
      "2008 01 01 2016 07 08\n",
      "\n",
      "Error msg: IndexError('list index out of range',)\n"
     ]
    },
    {
     "name": "stderr",
     "output_type": "stream",
     "text": [
      "2018-09-24 15:37:09,291:WARNING:\n",
      "Failed to read header row 6.\n",
      "2008 01 01 2016 07 08\n",
      "\n",
      "Error msg: IndexError('list index out of range',)\n"
     ]
    },
    {
     "name": "stderr",
     "output_type": "stream",
     "text": [
      "2018-09-24 15:37:09,297:WARNING:\n",
      "Failed to read header row 6.\n",
      "2008 01 01 2016 07 08\n",
      "\n",
      "Error msg: IndexError('list index out of range',)\n"
     ]
    },
    {
     "name": "stderr",
     "output_type": "stream",
     "text": [
      "2018-09-24 15:37:09,304:WARNING:\n",
      "Failed to read header row 6.\n",
      "2008 01 01 2016 07 08\n",
      "\n",
      "Error msg: IndexError('list index out of range',)\n"
     ]
    },
    {
     "name": "stderr",
     "output_type": "stream",
     "text": [
      "2018-09-24 15:37:09,310:WARNING:\n",
      "Failed to read header row 6.\n",
      "2008 01 01 2016 07 08\n",
      "\n",
      "Error msg: IndexError('list index out of range',)\n"
     ]
    },
    {
     "name": "stderr",
     "output_type": "stream",
     "text": [
      "2018-09-24 15:37:09,317:WARNING:\n",
      "Failed to read header row 6.\n",
      "2008 01 01 2016 07 08\n",
      "\n",
      "Error msg: IndexError('list index out of range',)\n"
     ]
    },
    {
     "name": "stderr",
     "output_type": "stream",
     "text": [
      "2018-09-24 15:37:09,324:WARNING:\n",
      "Failed to read header row 6.\n",
      "2008 01 01 2016 07 08\n",
      "\n",
      "Error msg: IndexError('list index out of range',)\n"
     ]
    },
    {
     "name": "stderr",
     "output_type": "stream",
     "text": [
      "2018-09-24 15:37:09,331:WARNING:\n",
      "Failed to read header row 6.\n",
      "2008 01 01 2016 07 08\n",
      "\n",
      "Error msg: IndexError('list index out of range',)\n"
     ]
    },
    {
     "name": "stderr",
     "output_type": "stream",
     "text": [
      "2018-09-24 15:37:09,338:WARNING:\n",
      "Failed to read header row 6.\n",
      "2008 01 01 2016 07 08\n",
      "\n",
      "Error msg: IndexError('list index out of range',)\n"
     ]
    },
    {
     "name": "stderr",
     "output_type": "stream",
     "text": [
      "2018-09-24 15:37:09,345:WARNING:\n",
      "Failed to read header row 6.\n",
      "2008 01 01 2016 07 08\n",
      "\n",
      "Error msg: IndexError('list index out of range',)\n"
     ]
    },
    {
     "name": "stderr",
     "output_type": "stream",
     "text": [
      "2018-09-24 15:37:09,352:WARNING:\n",
      "Failed to read header row 6.\n",
      "2008 01 01 2016 07 08\n",
      "\n",
      "Error msg: IndexError('list index out of range',)\n"
     ]
    },
    {
     "name": "stderr",
     "output_type": "stream",
     "text": [
      "2018-09-24 15:37:09,358:WARNING:\n",
      "Failed to read header row 6.\n",
      "2008 01 01 2016 07 08\n",
      "\n",
      "Error msg: IndexError('list index out of range',)\n"
     ]
    },
    {
     "name": "stderr",
     "output_type": "stream",
     "text": [
      "2018-09-24 15:37:09,364:WARNING:\n",
      "Failed to read header row 6.\n",
      "2008 01 01 2016 07 08\n",
      "\n",
      "Error msg: IndexError('list index out of range',)\n"
     ]
    },
    {
     "name": "stderr",
     "output_type": "stream",
     "text": [
      "2018-09-24 15:37:09,370:WARNING:\n",
      "Failed to read header row 6.\n",
      "2008 01 01 2016 07 08\n",
      "\n",
      "Error msg: IndexError('list index out of range',)\n"
     ]
    },
    {
     "name": "stderr",
     "output_type": "stream",
     "text": [
      "2018-09-24 15:37:09,377:WARNING:\n",
      "Failed to read header row 6.\n",
      "2008 01 01 2016 07 08\n",
      "\n",
      "Error msg: IndexError('list index out of range',)\n"
     ]
    },
    {
     "name": "stderr",
     "output_type": "stream",
     "text": [
      "2018-09-24 15:37:09,383:WARNING:\n",
      "Failed to read header row 6.\n",
      "2008 01 01 2016 07 08\n",
      "\n",
      "Error msg: IndexError('list index out of range',)\n"
     ]
    },
    {
     "name": "stderr",
     "output_type": "stream",
     "text": [
      "2018-09-24 15:37:09,390:WARNING:\n",
      "Failed to read header row 6.\n",
      "2008 01 01 2016 07 08\n",
      "\n",
      "Error msg: IndexError('list index out of range',)\n"
     ]
    },
    {
     "name": "stderr",
     "output_type": "stream",
     "text": [
      "2018-09-24 15:37:09,396:WARNING:\n",
      "Failed to read header row 6.\n",
      "2008 01 01 2016 07 08\n",
      "\n",
      "Error msg: IndexError('list index out of range',)\n"
     ]
    },
    {
     "name": "stderr",
     "output_type": "stream",
     "text": [
      "2018-09-24 15:37:09,403:WARNING:\n",
      "Failed to read header row 6.\n",
      "2008 01 01 2016 07 08\n",
      "\n",
      "Error msg: IndexError('list index out of range',)\n"
     ]
    },
    {
     "name": "stderr",
     "output_type": "stream",
     "text": [
      "2018-09-24 15:37:09,410:WARNING:\n",
      "Failed to read header row 6.\n",
      "2008 01 01 2016 07 08\n",
      "\n",
      "Error msg: IndexError('list index out of range',)\n"
     ]
    },
    {
     "name": "stderr",
     "output_type": "stream",
     "text": [
      "2018-09-24 15:37:09,416:WARNING:\n",
      "Failed to read header row 6.\n",
      "2008 01 01 2016 07 08\n",
      "\n",
      "Error msg: IndexError('list index out of range',)\n"
     ]
    },
    {
     "name": "stderr",
     "output_type": "stream",
     "text": [
      "2018-09-24 15:37:09,424:WARNING:\n",
      "Failed to read header row 6.\n",
      "2008 01 01 2016 07 08\n",
      "\n",
      "Error msg: IndexError('list index out of range',)\n"
     ]
    },
    {
     "name": "stderr",
     "output_type": "stream",
     "text": [
      "2018-09-24 15:37:09,430:WARNING:\n",
      "Failed to read header row 6.\n",
      "2008 01 01 2016 07 08\n",
      "\n",
      "Error msg: IndexError('list index out of range',)\n"
     ]
    },
    {
     "name": "stderr",
     "output_type": "stream",
     "text": [
      "2018-09-24 15:37:09,437:WARNING:\n",
      "Failed to read header row 6.\n",
      "2008 01 01 2016 07 08\n",
      "\n",
      "Error msg: IndexError('list index out of range',)\n"
     ]
    },
    {
     "name": "stderr",
     "output_type": "stream",
     "text": [
      "2018-09-24 15:37:09,444:WARNING:\n",
      "Failed to read header row 6.\n",
      "2008 01 01 2016 07 08\n",
      "\n",
      "Error msg: IndexError('list index out of range',)\n"
     ]
    },
    {
     "name": "stderr",
     "output_type": "stream",
     "text": [
      "2018-09-24 15:37:09,451:WARNING:\n",
      "Failed to read header row 6.\n",
      "2008 01 01 2016 07 08\n",
      "\n",
      "Error msg: IndexError('list index out of range',)\n"
     ]
    },
    {
     "name": "stderr",
     "output_type": "stream",
     "text": [
      "2018-09-24 15:37:09,457:WARNING:\n",
      "Failed to read header row 6.\n",
      "2008 01 01 2016 07 08\n",
      "\n",
      "Error msg: IndexError('list index out of range',)\n"
     ]
    },
    {
     "name": "stderr",
     "output_type": "stream",
     "text": [
      "2018-09-24 15:37:09,464:WARNING:\n",
      "Failed to read header row 6.\n",
      "2008 01 01 2016 07 08\n",
      "\n",
      "Error msg: IndexError('list index out of range',)\n"
     ]
    },
    {
     "name": "stderr",
     "output_type": "stream",
     "text": [
      "2018-09-24 15:37:09,470:WARNING:\n",
      "Failed to read header row 6.\n",
      "2008 01 01 2016 07 08\n",
      "\n",
      "Error msg: IndexError('list index out of range',)\n"
     ]
    },
    {
     "name": "stderr",
     "output_type": "stream",
     "text": [
      "2018-09-24 15:37:09,477:WARNING:\n",
      "Failed to read header row 6.\n",
      "2008 01 01 2016 07 08\n",
      "\n",
      "Error msg: IndexError('list index out of range',)\n"
     ]
    },
    {
     "name": "stderr",
     "output_type": "stream",
     "text": [
      "2018-09-24 15:37:09,483:WARNING:\n",
      "Failed to read header row 6.\n",
      "2008 01 01 2016 07 08\n",
      "\n",
      "Error msg: IndexError('list index out of range',)\n"
     ]
    },
    {
     "name": "stderr",
     "output_type": "stream",
     "text": [
      "2018-09-24 15:37:09,490:WARNING:\n",
      "Failed to read header row 6.\n",
      "2008 01 01 2016 07 08\n",
      "\n",
      "Error msg: IndexError('list index out of range',)\n"
     ]
    },
    {
     "name": "stderr",
     "output_type": "stream",
     "text": [
      "2018-09-24 15:37:09,498:WARNING:\n",
      "Failed to read header row 6.\n",
      "2008 01 01 2016 07 08\n",
      "\n",
      "Error msg: IndexError('list index out of range',)\n"
     ]
    },
    {
     "name": "stderr",
     "output_type": "stream",
     "text": [
      "2018-09-24 15:37:09,507:WARNING:\n",
      "Failed to read header row 6.\n",
      "2008 01 01 2016 07 08\n",
      "\n",
      "Error msg: IndexError('list index out of range',)\n"
     ]
    },
    {
     "name": "stderr",
     "output_type": "stream",
     "text": [
      "2018-09-24 15:37:09,514:WARNING:\n",
      "Failed to read header row 6.\n",
      "2008 01 01 2016 07 08\n",
      "\n",
      "Error msg: IndexError('list index out of range',)\n"
     ]
    },
    {
     "name": "stderr",
     "output_type": "stream",
     "text": [
      "2018-09-24 15:37:09,521:WARNING:\n",
      "Failed to read header row 6.\n",
      "2008 01 01 2016 07 08\n",
      "\n",
      "Error msg: IndexError('list index out of range',)\n"
     ]
    },
    {
     "name": "stderr",
     "output_type": "stream",
     "text": [
      "2018-09-24 15:37:09,529:WARNING:\n",
      "Failed to read header row 6.\n",
      "2008 01 01 2016 07 08\n",
      "\n",
      "Error msg: IndexError('list index out of range',)\n"
     ]
    },
    {
     "name": "stderr",
     "output_type": "stream",
     "text": [
      "2018-09-24 15:37:09,536:WARNING:\n",
      "Failed to read header row 6.\n",
      "2008 01 01 2016 07 08\n",
      "\n",
      "Error msg: IndexError('list index out of range',)\n"
     ]
    },
    {
     "name": "stderr",
     "output_type": "stream",
     "text": [
      "2018-09-24 15:37:09,543:WARNING:\n",
      "Failed to read header row 6.\n",
      "2008 01 01 2016 07 08\n",
      "\n",
      "Error msg: IndexError('list index out of range',)\n"
     ]
    },
    {
     "name": "stderr",
     "output_type": "stream",
     "text": [
      "2018-09-24 15:37:09,550:WARNING:\n",
      "Failed to read header row 6.\n",
      "2008 01 01 2016 07 08\n",
      "\n",
      "Error msg: IndexError('list index out of range',)\n"
     ]
    },
    {
     "name": "stderr",
     "output_type": "stream",
     "text": [
      "2018-09-24 15:37:09,557:WARNING:\n",
      "Failed to read header row 6.\n",
      "2008 01 01 2016 07 08\n",
      "\n",
      "Error msg: IndexError('list index out of range',)\n"
     ]
    },
    {
     "name": "stderr",
     "output_type": "stream",
     "text": [
      "2018-09-24 15:37:09,564:WARNING:\n",
      "Failed to read header row 6.\n",
      "2008 01 01 2016 07 08\n",
      "\n",
      "Error msg: IndexError('list index out of range',)\n"
     ]
    },
    {
     "name": "stderr",
     "output_type": "stream",
     "text": [
      "2018-09-24 15:37:09,570:WARNING:\n",
      "Failed to read header row 6.\n",
      "2008 01 01 2016 07 08\n",
      "\n",
      "Error msg: IndexError('list index out of range',)\n"
     ]
    },
    {
     "name": "stderr",
     "output_type": "stream",
     "text": [
      "2018-09-24 15:37:09,576:WARNING:\n",
      "Failed to read header row 6.\n",
      "2008 01 01 2016 07 08\n",
      "\n",
      "Error msg: IndexError('list index out of range',)\n"
     ]
    },
    {
     "name": "stderr",
     "output_type": "stream",
     "text": [
      "2018-09-24 15:37:09,586:WARNING:\n",
      "Failed to read header row 6.\n",
      "2008 01 01 2016 07 08\n",
      "\n",
      "Error msg: IndexError('list index out of range',)\n"
     ]
    },
    {
     "name": "stderr",
     "output_type": "stream",
     "text": [
      "2018-09-24 15:37:09,600:WARNING:\n",
      "Failed to read header row 6.\n",
      "2008 01 01 2016 07 08\n",
      "\n",
      "Error msg: IndexError('list index out of range',)\n"
     ]
    },
    {
     "name": "stderr",
     "output_type": "stream",
     "text": [
      "2018-09-24 15:37:09,607:WARNING:\n",
      "Failed to read header row 6.\n",
      "2008 01 01 2016 07 08\n",
      "\n",
      "Error msg: IndexError('list index out of range',)\n"
     ]
    },
    {
     "name": "stderr",
     "output_type": "stream",
     "text": [
      "2018-09-24 15:37:09,613:WARNING:\n",
      "Failed to read header row 6.\n",
      "2008 01 01 2016 07 08\n",
      "\n",
      "Error msg: IndexError('list index out of range',)\n"
     ]
    },
    {
     "name": "stderr",
     "output_type": "stream",
     "text": [
      "2018-09-24 15:37:09,620:WARNING:\n",
      "Failed to read header row 6.\n",
      "2008 01 01 2016 07 08\n",
      "\n",
      "Error msg: IndexError('list index out of range',)\n"
     ]
    },
    {
     "name": "stderr",
     "output_type": "stream",
     "text": [
      "2018-09-24 15:37:09,627:WARNING:\n",
      "Failed to read header row 6.\n",
      "2008 01 01 2016 07 08\n",
      "\n",
      "Error msg: IndexError('list index out of range',)\n"
     ]
    },
    {
     "name": "stderr",
     "output_type": "stream",
     "text": [
      "2018-09-24 15:37:09,634:WARNING:\n",
      "Failed to read header row 6.\n",
      "2008 01 01 2016 07 08\n",
      "\n",
      "Error msg: IndexError('list index out of range',)\n"
     ]
    },
    {
     "name": "stderr",
     "output_type": "stream",
     "text": [
      "2018-09-24 15:37:09,641:WARNING:\n",
      "Failed to read header row 6.\n",
      "2008 01 01 2016 07 08\n",
      "\n",
      "Error msg: IndexError('list index out of range',)\n"
     ]
    },
    {
     "name": "stderr",
     "output_type": "stream",
     "text": [
      "2018-09-24 15:37:09,647:WARNING:\n",
      "Failed to read header row 6.\n",
      "2008 01 01 2016 07 08\n",
      "\n",
      "Error msg: IndexError('list index out of range',)\n"
     ]
    },
    {
     "name": "stderr",
     "output_type": "stream",
     "text": [
      "2018-09-24 15:37:09,654:WARNING:\n",
      "Failed to read header row 6.\n",
      "2008 01 01 2016 07 08\n",
      "\n",
      "Error msg: IndexError('list index out of range',)\n"
     ]
    },
    {
     "name": "stderr",
     "output_type": "stream",
     "text": [
      "2018-09-24 15:37:09,660:WARNING:\n",
      "Failed to read header row 6.\n",
      "2008 01 01 2016 07 08\n",
      "\n",
      "Error msg: IndexError('list index out of range',)\n"
     ]
    },
    {
     "name": "stderr",
     "output_type": "stream",
     "text": [
      "2018-09-24 15:37:09,667:WARNING:\n",
      "Failed to read header row 6.\n",
      "2008 01 01 2016 07 08\n",
      "\n",
      "Error msg: IndexError('list index out of range',)\n"
     ]
    },
    {
     "name": "stderr",
     "output_type": "stream",
     "text": [
      "2018-09-24 15:37:09,673:WARNING:\n",
      "Failed to read header row 6.\n",
      "2008 01 01 2016 07 08\n",
      "\n",
      "Error msg: IndexError('list index out of range',)\n"
     ]
    },
    {
     "name": "stderr",
     "output_type": "stream",
     "text": [
      "2018-09-24 15:37:09,679:WARNING:\n",
      "Failed to read header row 6.\n",
      "2008 01 01 2016 07 08\n",
      "\n",
      "Error msg: IndexError('list index out of range',)\n"
     ]
    },
    {
     "name": "stderr",
     "output_type": "stream",
     "text": [
      "2018-09-24 15:37:09,686:WARNING:\n",
      "Failed to read header row 6.\n",
      "2008 01 01 2016 07 08\n",
      "\n",
      "Error msg: IndexError('list index out of range',)\n"
     ]
    },
    {
     "name": "stderr",
     "output_type": "stream",
     "text": [
      "2018-09-24 15:37:09,692:WARNING:\n",
      "Failed to read header row 6.\n",
      "2008 01 01 2016 07 08\n",
      "\n",
      "Error msg: IndexError('list index out of range',)\n"
     ]
    },
    {
     "name": "stderr",
     "output_type": "stream",
     "text": [
      "2018-09-24 15:37:09,699:WARNING:\n",
      "Failed to read header row 6.\n",
      "2008 01 01 2016 07 08\n",
      "\n",
      "Error msg: IndexError('list index out of range',)\n"
     ]
    },
    {
     "name": "stderr",
     "output_type": "stream",
     "text": [
      "2018-09-24 15:37:09,706:WARNING:\n",
      "Failed to read header row 6.\n",
      "2008 01 01 2016 07 08\n",
      "\n",
      "Error msg: IndexError('list index out of range',)\n"
     ]
    },
    {
     "name": "stderr",
     "output_type": "stream",
     "text": [
      "2018-09-24 15:37:09,713:WARNING:\n",
      "Failed to read header row 6.\n",
      "2008 01 01 2016 07 08\n",
      "\n",
      "Error msg: IndexError('list index out of range',)\n"
     ]
    },
    {
     "name": "stderr",
     "output_type": "stream",
     "text": [
      "2018-09-24 15:37:09,719:WARNING:\n",
      "Failed to read header row 6.\n",
      "2008 01 01 2016 07 08\n",
      "\n",
      "Error msg: IndexError('list index out of range',)\n"
     ]
    },
    {
     "name": "stderr",
     "output_type": "stream",
     "text": [
      "2018-09-24 15:37:09,726:WARNING:\n",
      "Failed to read header row 6.\n",
      "2008 01 01 2016 07 08\n",
      "\n",
      "Error msg: IndexError('list index out of range',)\n"
     ]
    },
    {
     "name": "stderr",
     "output_type": "stream",
     "text": [
      "2018-09-24 15:37:09,733:WARNING:\n",
      "Failed to read header row 6.\n",
      "2008 01 01 2016 07 08\n",
      "\n",
      "Error msg: IndexError('list index out of range',)\n"
     ]
    },
    {
     "name": "stderr",
     "output_type": "stream",
     "text": [
      "2018-09-24 15:37:09,739:WARNING:\n",
      "Failed to read header row 6.\n",
      "2008 01 01 2016 07 08\n",
      "\n",
      "Error msg: IndexError('list index out of range',)\n"
     ]
    },
    {
     "name": "stderr",
     "output_type": "stream",
     "text": [
      "2018-09-24 15:37:09,746:WARNING:\n",
      "Failed to read header row 6.\n",
      "2008 01 01 2016 07 08\n",
      "\n",
      "Error msg: IndexError('list index out of range',)\n"
     ]
    },
    {
     "name": "stderr",
     "output_type": "stream",
     "text": [
      "2018-09-24 15:37:09,752:WARNING:\n",
      "Failed to read header row 6.\n",
      "2008 01 01 2016 07 08\n",
      "\n",
      "Error msg: IndexError('list index out of range',)\n"
     ]
    },
    {
     "name": "stderr",
     "output_type": "stream",
     "text": [
      "2018-09-24 15:37:09,759:WARNING:\n",
      "Failed to read header row 6.\n",
      "2008 01 01 2016 07 08\n",
      "\n",
      "Error msg: IndexError('list index out of range',)\n"
     ]
    },
    {
     "name": "stderr",
     "output_type": "stream",
     "text": [
      "2018-09-24 15:37:09,766:WARNING:\n",
      "Failed to read header row 6.\n",
      "2008 01 01 2016 07 08\n",
      "\n",
      "Error msg: IndexError('list index out of range',)\n"
     ]
    },
    {
     "name": "stderr",
     "output_type": "stream",
     "text": [
      "2018-09-24 15:37:09,772:WARNING:\n",
      "Failed to read header row 6.\n",
      "2008 01 01 2016 07 08\n",
      "\n",
      "Error msg: IndexError('list index out of range',)\n"
     ]
    },
    {
     "name": "stderr",
     "output_type": "stream",
     "text": [
      "2018-09-24 15:37:09,778:WARNING:\n",
      "Failed to read header row 6.\n",
      "2008 01 01 2016 07 08\n",
      "\n",
      "Error msg: IndexError('list index out of range',)\n"
     ]
    },
    {
     "name": "stderr",
     "output_type": "stream",
     "text": [
      "2018-09-24 15:37:09,784:WARNING:\n",
      "Failed to read header row 6.\n",
      "2008 01 01 2016 07 08\n",
      "\n",
      "Error msg: IndexError('list index out of range',)\n"
     ]
    },
    {
     "name": "stderr",
     "output_type": "stream",
     "text": [
      "2018-09-24 15:37:09,791:WARNING:\n",
      "Failed to read header row 6.\n",
      "2008 01 01 2016 07 08\n",
      "\n",
      "Error msg: IndexError('list index out of range',)\n"
     ]
    },
    {
     "name": "stderr",
     "output_type": "stream",
     "text": [
      "2018-09-24 15:37:09,797:WARNING:\n",
      "Failed to read header row 6.\n",
      "2008 01 01 2016 07 08\n",
      "\n",
      "Error msg: IndexError('list index out of range',)\n"
     ]
    },
    {
     "name": "stderr",
     "output_type": "stream",
     "text": [
      "2018-09-24 15:37:09,804:WARNING:\n",
      "Failed to read header row 6.\n",
      "2008 01 01 2016 07 08\n",
      "\n",
      "Error msg: IndexError('list index out of range',)\n"
     ]
    },
    {
     "name": "stderr",
     "output_type": "stream",
     "text": [
      "2018-09-24 15:37:09,810:WARNING:\n",
      "Failed to read header row 6.\n",
      "2008 01 01 2016 07 08\n",
      "\n",
      "Error msg: IndexError('list index out of range',)\n"
     ]
    },
    {
     "name": "stderr",
     "output_type": "stream",
     "text": [
      "2018-09-24 15:37:09,816:WARNING:\n",
      "Failed to read header row 6.\n",
      "2008 01 01 2016 07 08\n",
      "\n",
      "Error msg: IndexError('list index out of range',)\n"
     ]
    },
    {
     "name": "stderr",
     "output_type": "stream",
     "text": [
      "2018-09-24 15:37:09,822:WARNING:\n",
      "Failed to read header row 6.\n",
      "2008 01 01 2016 07 08\n",
      "\n",
      "Error msg: IndexError('list index out of range',)\n"
     ]
    },
    {
     "name": "stderr",
     "output_type": "stream",
     "text": [
      "2018-09-24 15:37:09,828:WARNING:\n",
      "Failed to read header row 6.\n",
      "2008 01 01 2016 07 08\n",
      "\n",
      "Error msg: IndexError('list index out of range',)\n"
     ]
    },
    {
     "name": "stderr",
     "output_type": "stream",
     "text": [
      "2018-09-24 15:37:09,835:WARNING:\n",
      "Failed to read header row 6.\n",
      "2008 01 01 2016 07 08\n",
      "\n",
      "Error msg: IndexError('list index out of range',)\n"
     ]
    },
    {
     "name": "stderr",
     "output_type": "stream",
     "text": [
      "2018-09-24 15:37:09,841:WARNING:\n",
      "Failed to read header row 6.\n",
      "2008 01 01 2016 07 08\n",
      "\n",
      "Error msg: IndexError('list index out of range',)\n"
     ]
    },
    {
     "name": "stderr",
     "output_type": "stream",
     "text": [
      "2018-09-24 15:37:09,848:WARNING:\n",
      "Failed to read header row 6.\n",
      "2008 01 01 2016 07 08\n",
      "\n",
      "Error msg: IndexError('list index out of range',)\n"
     ]
    },
    {
     "name": "stderr",
     "output_type": "stream",
     "text": [
      "2018-09-24 15:37:09,855:WARNING:\n",
      "Failed to read header row 6.\n",
      "2008 01 01 2016 07 08\n",
      "\n",
      "Error msg: IndexError('list index out of range',)\n"
     ]
    },
    {
     "name": "stderr",
     "output_type": "stream",
     "text": [
      "2018-09-24 15:37:09,862:WARNING:\n",
      "Failed to read header row 6.\n",
      "2008 01 01 2016 07 08\n",
      "\n",
      "Error msg: IndexError('list index out of range',)\n"
     ]
    },
    {
     "name": "stderr",
     "output_type": "stream",
     "text": [
      "2018-09-24 15:37:09,873:WARNING:\n",
      "Failed to read header row 6.\n",
      "2008 01 01 2016 07 08\n",
      "\n",
      "Error msg: IndexError('list index out of range',)\n"
     ]
    },
    {
     "name": "stderr",
     "output_type": "stream",
     "text": [
      "2018-09-24 15:37:09,880:WARNING:\n",
      "Failed to read header row 6.\n",
      "2008 01 01 2016 07 08\n",
      "\n",
      "Error msg: IndexError('list index out of range',)"
     ]
    },
    {
     "name": "stderr",
     "output_type": "stream",
     "text": [
      "\n"
     ]
    },
    {
     "name": "stderr",
     "output_type": "stream",
     "text": [
      "2018-09-24 15:37:09,888:WARNING:\n",
      "Failed to read header row 6.\n",
      "2008 01 01 2016 07 08\n",
      "\n",
      "Error msg: IndexError('list index out of range',)\n"
     ]
    },
    {
     "name": "stderr",
     "output_type": "stream",
     "text": [
      "2018-09-24 15:37:09,895:WARNING:\n",
      "Failed to read header row 6.\n",
      "2008 01 01 2016 07 08\n",
      "\n",
      "Error msg: IndexError('list index out of range',)\n"
     ]
    },
    {
     "name": "stderr",
     "output_type": "stream",
     "text": [
      "2018-09-24 15:37:09,903:WARNING:\n",
      "Failed to read header row 6.\n",
      "2008 01 01 2016 07 08\n",
      "\n",
      "Error msg: IndexError('list index out of range',)\n"
     ]
    },
    {
     "name": "stderr",
     "output_type": "stream",
     "text": [
      "2018-09-24 15:37:09,910:WARNING:\n",
      "Failed to read header row 6.\n",
      "2008 01 01 2016 07 08\n",
      "\n",
      "Error msg: IndexError('list index out of range',)\n"
     ]
    },
    {
     "name": "stderr",
     "output_type": "stream",
     "text": [
      "2018-09-24 15:37:09,917:WARNING:\n",
      "Failed to read header row 6.\n",
      "2008 01 01 2016 07 08\n",
      "\n",
      "Error msg: IndexError('list index out of range',)\n"
     ]
    },
    {
     "name": "stderr",
     "output_type": "stream",
     "text": [
      "2018-09-24 15:37:09,924:WARNING:\n",
      "Failed to read header row 6.\n",
      "2008 01 01 2016 07 08\n",
      "\n",
      "Error msg: IndexError('list index out of range',)\n"
     ]
    },
    {
     "name": "stderr",
     "output_type": "stream",
     "text": [
      "2018-09-24 15:37:09,930:WARNING:\n",
      "Failed to read header row 6.\n",
      "2008 01 01 2016 07 08\n",
      "\n",
      "Error msg: IndexError('list index out of range',)\n"
     ]
    },
    {
     "name": "stderr",
     "output_type": "stream",
     "text": [
      "2018-09-24 15:37:09,936:WARNING:\n",
      "Failed to read header row 6.\n",
      "2008 01 01 2016 07 08\n",
      "\n",
      "Error msg: IndexError('list index out of range',)\n"
     ]
    },
    {
     "name": "stderr",
     "output_type": "stream",
     "text": [
      "2018-09-24 15:37:09,942:WARNING:\n",
      "Failed to read header row 6.\n",
      "2008 01 01 2016 07 08\n",
      "\n",
      "Error msg: IndexError('list index out of range',)\n"
     ]
    },
    {
     "name": "stderr",
     "output_type": "stream",
     "text": [
      "2018-09-24 15:37:09,948:WARNING:\n",
      "Failed to read header row 6.\n",
      "2008 01 01 2016 07 08\n",
      "\n",
      "Error msg: IndexError('list index out of range',)\n"
     ]
    },
    {
     "name": "stderr",
     "output_type": "stream",
     "text": [
      "2018-09-24 15:37:09,955:WARNING:\n",
      "Failed to read header row 6.\n",
      "2008 01 01 2016 07 08\n",
      "\n",
      "Error msg: IndexError('list index out of range',)\n"
     ]
    },
    {
     "name": "stderr",
     "output_type": "stream",
     "text": [
      "2018-09-24 15:37:09,961:WARNING:\n",
      "Failed to read header row 6.\n",
      "2008 01 01 2016 07 08\n",
      "\n",
      "Error msg: IndexError('list index out of range',)\n"
     ]
    },
    {
     "name": "stderr",
     "output_type": "stream",
     "text": [
      "2018-09-24 15:37:09,968:WARNING:\n",
      "Failed to read header row 6.\n",
      "2008 01 01 2016 07 08\n",
      "\n",
      "Error msg: IndexError('list index out of range',)\n"
     ]
    },
    {
     "name": "stderr",
     "output_type": "stream",
     "text": [
      "2018-09-24 15:37:09,975:WARNING:\n",
      "Failed to read header row 6.\n",
      "2008 01 01 2016 07 08\n",
      "\n",
      "Error msg: IndexError('list index out of range',)\n"
     ]
    },
    {
     "name": "stderr",
     "output_type": "stream",
     "text": [
      "2018-09-24 15:37:09,981:WARNING:\n",
      "Failed to read header row 6.\n",
      "2008 01 01 2016 07 08\n",
      "\n",
      "Error msg: IndexError('list index out of range',)\n"
     ]
    },
    {
     "name": "stderr",
     "output_type": "stream",
     "text": [
      "2018-09-24 15:37:09,987:WARNING:\n",
      "Failed to read header row 6.\n",
      "2008 01 01 2016 07 08\n",
      "\n",
      "Error msg: IndexError('list index out of range',)\n"
     ]
    },
    {
     "name": "stderr",
     "output_type": "stream",
     "text": [
      "2018-09-24 15:37:09,994:WARNING:\n",
      "Failed to read header row 6.\n",
      "2008 01 01 2016 07 08\n",
      "\n",
      "Error msg: IndexError('list index out of range',)\n"
     ]
    },
    {
     "name": "stderr",
     "output_type": "stream",
     "text": [
      "2018-09-24 15:37:10,000:WARNING:\n",
      "Failed to read header row 6.\n",
      "2008 01 01 2016 07 08\n",
      "\n",
      "Error msg: IndexError('list index out of range',)\n"
     ]
    },
    {
     "name": "stderr",
     "output_type": "stream",
     "text": [
      "2018-09-24 15:37:10,007:WARNING:\n",
      "Failed to read header row 6.\n",
      "2008 01 01 2016 07 08\n",
      "\n",
      "Error msg: IndexError('list index out of range',)\n"
     ]
    },
    {
     "name": "stderr",
     "output_type": "stream",
     "text": [
      "2018-09-24 15:37:10,014:WARNING:\n",
      "Failed to read header row 6.\n",
      "2008 01 01 2016 07 08\n",
      "\n",
      "Error msg: IndexError('list index out of range',)\n"
     ]
    },
    {
     "name": "stderr",
     "output_type": "stream",
     "text": [
      "2018-09-24 15:37:10,022:WARNING:\n",
      "Failed to read header row 6.\n",
      "2008 01 01 2016 07 08\n",
      "\n",
      "Error msg: IndexError('list index out of range',)\n"
     ]
    },
    {
     "name": "stderr",
     "output_type": "stream",
     "text": [
      "2018-09-24 15:37:10,029:WARNING:\n",
      "Failed to read header row 6.\n",
      "2008 01 01 2016 07 08\n",
      "\n",
      "Error msg: IndexError('list index out of range',)\n"
     ]
    },
    {
     "name": "stderr",
     "output_type": "stream",
     "text": [
      "2018-09-24 15:37:10,036:WARNING:\n",
      "Failed to read header row 6.\n",
      "2008 01 01 2016 07 08\n",
      "\n",
      "Error msg: IndexError('list index out of range',)\n"
     ]
    },
    {
     "name": "stderr",
     "output_type": "stream",
     "text": [
      "2018-09-24 15:37:10,043:WARNING:\n",
      "Failed to read header row 6.\n",
      "2008 01 01 2016 07 08\n",
      "\n",
      "Error msg: IndexError('list index out of range',)\n"
     ]
    },
    {
     "name": "stderr",
     "output_type": "stream",
     "text": [
      "2018-09-24 15:37:10,050:WARNING:\n",
      "Failed to read header row 6.\n",
      "2008 01 01 2016 07 08\n",
      "\n",
      "Error msg: IndexError('list index out of range',)\n"
     ]
    },
    {
     "name": "stderr",
     "output_type": "stream",
     "text": [
      "2018-09-24 15:37:10,058:WARNING:\n",
      "Failed to read header row 6.\n",
      "2008 01 01 2016 07 08\n",
      "\n",
      "Error msg: IndexError('list index out of range',)\n"
     ]
    },
    {
     "name": "stderr",
     "output_type": "stream",
     "text": [
      "2018-09-24 15:37:10,066:WARNING:\n",
      "Failed to read header row 6.\n",
      "2008 01 01 2016 07 08\n",
      "\n",
      "Error msg: IndexError('list index out of range',)\n"
     ]
    },
    {
     "name": "stderr",
     "output_type": "stream",
     "text": [
      "2018-09-24 15:37:10,073:WARNING:\n",
      "Failed to read header row 6.\n",
      "2008 01 01 2016 07 08\n",
      "\n",
      "Error msg: IndexError('list index out of range',)\n"
     ]
    },
    {
     "name": "stderr",
     "output_type": "stream",
     "text": [
      "2018-09-24 15:37:10,081:WARNING:\n",
      "Failed to read header row 6.\n",
      "2008 01 01 2016 07 08\n",
      "\n",
      "Error msg: IndexError('list index out of range',)\n"
     ]
    },
    {
     "name": "stderr",
     "output_type": "stream",
     "text": [
      "2018-09-24 15:37:10,089:WARNING:\n",
      "Failed to read header row 6.\n",
      "2008 01 01 2016 07 08\n",
      "\n",
      "Error msg: IndexError('list index out of range',)\n"
     ]
    },
    {
     "name": "stderr",
     "output_type": "stream",
     "text": [
      "2018-09-24 15:37:10,096:WARNING:\n",
      "Failed to read header row 6.\n",
      "2008 01 01 2016 07 08\n",
      "\n",
      "Error msg: IndexError('list index out of range',)\n"
     ]
    },
    {
     "name": "stderr",
     "output_type": "stream",
     "text": [
      "2018-09-24 15:37:10,103:WARNING:\n",
      "Failed to read header row 6.\n",
      "2008 01 01 2016 07 08\n",
      "\n",
      "Error msg: IndexError('list index out of range',)\n"
     ]
    },
    {
     "name": "stderr",
     "output_type": "stream",
     "text": [
      "2018-09-24 15:37:10,110:WARNING:\n",
      "Failed to read header row 6.\n",
      "2008 01 01 2016 07 08\n",
      "\n",
      "Error msg: IndexError('list index out of range',)\n"
     ]
    },
    {
     "name": "stderr",
     "output_type": "stream",
     "text": [
      "2018-09-24 15:37:10,118:WARNING:\n",
      "Failed to read header row 6.\n",
      "2008 01 01 2016 07 08\n",
      "\n",
      "Error msg: IndexError('list index out of range',)\n"
     ]
    },
    {
     "name": "stderr",
     "output_type": "stream",
     "text": [
      "2018-09-24 15:37:10,125:WARNING:\n",
      "Failed to read header row 6.\n",
      "2008 01 01 2016 07 08\n",
      "\n",
      "Error msg: IndexError('list index out of range',)\n"
     ]
    },
    {
     "name": "stderr",
     "output_type": "stream",
     "text": [
      "2018-09-24 15:37:10,131:WARNING:\n",
      "Failed to read header row 6.\n",
      "2008 01 01 2016 07 08\n",
      "\n",
      "Error msg: IndexError('list index out of range',)\n"
     ]
    },
    {
     "name": "stderr",
     "output_type": "stream",
     "text": [
      "2018-09-24 15:37:10,138:WARNING:\n",
      "Failed to read header row 6.\n",
      "2008 01 01 2016 07 08\n",
      "\n",
      "Error msg: IndexError('list index out of range',)\n"
     ]
    },
    {
     "name": "stderr",
     "output_type": "stream",
     "text": [
      "2018-09-24 15:37:10,145:WARNING:\n",
      "Failed to read header row 6.\n",
      "2008 01 01 2016 07 08\n",
      "\n",
      "Error msg: IndexError('list index out of range',)\n"
     ]
    },
    {
     "name": "stderr",
     "output_type": "stream",
     "text": [
      "2018-09-24 15:37:10,151:WARNING:\n",
      "Failed to read header row 6.\n",
      "2008 01 01 2016 07 08\n",
      "\n",
      "Error msg: IndexError('list index out of range',)\n"
     ]
    },
    {
     "name": "stderr",
     "output_type": "stream",
     "text": [
      "2018-09-24 15:37:10,158:WARNING:\n",
      "Failed to read header row 6.\n",
      "2008 01 01 2016 07 08\n",
      "\n",
      "Error msg: IndexError('list index out of range',)\n"
     ]
    },
    {
     "name": "stderr",
     "output_type": "stream",
     "text": [
      "2018-09-24 15:37:10,165:WARNING:\n",
      "Failed to read header row 6.\n",
      "2008 01 01 2016 07 08\n",
      "\n",
      "Error msg: IndexError('list index out of range',)\n"
     ]
    },
    {
     "name": "stderr",
     "output_type": "stream",
     "text": [
      "2018-09-24 15:37:10,172:WARNING:\n",
      "Failed to read header row 6.\n",
      "2008 01 01 2016 07 08\n",
      "\n",
      "Error msg: IndexError('list index out of range',)\n"
     ]
    },
    {
     "name": "stderr",
     "output_type": "stream",
     "text": [
      "2018-09-24 15:37:10,179:WARNING:\n",
      "Failed to read header row 6.\n",
      "2008 01 01 2016 07 08\n",
      "\n",
      "Error msg: IndexError('list index out of range',)\n"
     ]
    },
    {
     "name": "stderr",
     "output_type": "stream",
     "text": [
      "2018-09-24 15:37:10,188:WARNING:\n",
      "Failed to read header row 6.\n",
      "2008 01 01 2016 07 08\n",
      "\n",
      "Error msg: IndexError('list index out of range',)\n"
     ]
    },
    {
     "name": "stderr",
     "output_type": "stream",
     "text": [
      "2018-09-24 15:37:10,195:WARNING:\n",
      "Failed to read header row 6.\n",
      "2008 01 01 2016 07 08\n",
      "\n",
      "Error msg: IndexError('list index out of range',)\n"
     ]
    },
    {
     "name": "stderr",
     "output_type": "stream",
     "text": [
      "2018-09-24 15:37:10,203:WARNING:\n",
      "Failed to read header row 6.\n",
      "2008 01 01 2016 07 08\n",
      "\n",
      "Error msg: IndexError('list index out of range',)\n"
     ]
    },
    {
     "name": "stderr",
     "output_type": "stream",
     "text": [
      "2018-09-24 15:37:10,210:WARNING:\n",
      "Failed to read header row 6.\n",
      "2008 01 01 2016 07 08\n",
      "\n",
      "Error msg: IndexError('list index out of range',)\n"
     ]
    },
    {
     "name": "stderr",
     "output_type": "stream",
     "text": [
      "2018-09-24 15:37:10,217:WARNING:\n",
      "Failed to read header row 6.\n",
      "2008 01 01 2016 07 08\n",
      "\n",
      "Error msg: IndexError('list index out of range',)\n"
     ]
    },
    {
     "name": "stderr",
     "output_type": "stream",
     "text": [
      "2018-09-24 15:37:10,225:WARNING:\n",
      "Failed to read header row 6.\n",
      "2008 01 01 2016 07 08\n",
      "\n",
      "Error msg: IndexError('list index out of range',)\n"
     ]
    },
    {
     "name": "stderr",
     "output_type": "stream",
     "text": [
      "2018-09-24 15:37:10,232:WARNING:\n",
      "Failed to read header row 6.\n",
      "2008 01 01 2016 07 08\n",
      "\n",
      "Error msg: IndexError('list index out of range',)\n"
     ]
    },
    {
     "name": "stderr",
     "output_type": "stream",
     "text": [
      "2018-09-24 15:37:10,240:WARNING:\n",
      "Failed to read header row 6.\n",
      "2008 01 01 2016 07 08\n",
      "\n",
      "Error msg: IndexError('list index out of range',)\n"
     ]
    },
    {
     "name": "stderr",
     "output_type": "stream",
     "text": [
      "2018-09-24 15:37:10,247:WARNING:\n",
      "Failed to read header row 6.\n",
      "2008 01 01 2016 07 08\n",
      "\n",
      "Error msg: IndexError('list index out of range',)\n"
     ]
    },
    {
     "name": "stderr",
     "output_type": "stream",
     "text": [
      "2018-09-24 15:37:10,255:WARNING:\n",
      "Failed to read header row 6.\n",
      "2008 01 01 2016 07 08\n",
      "\n",
      "Error msg: IndexError('list index out of range',)\n"
     ]
    },
    {
     "name": "stderr",
     "output_type": "stream",
     "text": [
      "2018-09-24 15:37:10,262:WARNING:\n",
      "Failed to read header row 6.\n",
      "2008 01 01 2016 07 08\n",
      "\n",
      "Error msg: IndexError('list index out of range',)\n"
     ]
    },
    {
     "name": "stderr",
     "output_type": "stream",
     "text": [
      "2018-09-24 15:37:10,271:WARNING:\n",
      "Failed to read header row 6.\n",
      "2008 01 01 2016 07 08\n",
      "\n",
      "Error msg: IndexError('list index out of range',)\n"
     ]
    },
    {
     "name": "stderr",
     "output_type": "stream",
     "text": [
      "2018-09-24 15:37:10,279:WARNING:\n",
      "Failed to read header row 6.\n",
      "2008 01 01 2016 07 08\n",
      "\n",
      "Error msg: IndexError('list index out of range',)\n"
     ]
    },
    {
     "name": "stderr",
     "output_type": "stream",
     "text": [
      "2018-09-24 15:37:10,287:WARNING:\n",
      "Failed to read header row 6.\n",
      "2008 01 01 2016 07 08\n",
      "\n",
      "Error msg: IndexError('list index out of range',)\n"
     ]
    },
    {
     "name": "stderr",
     "output_type": "stream",
     "text": [
      "2018-09-24 15:37:10,294:WARNING:\n",
      "Failed to read header row 6.\n",
      "2008 01 01 2016 07 08\n",
      "\n",
      "Error msg: IndexError('list index out of range',)\n"
     ]
    },
    {
     "name": "stderr",
     "output_type": "stream",
     "text": [
      "2018-09-24 15:37:10,302:WARNING:\n",
      "Failed to read header row 6.\n",
      "2008 01 01 2016 07 08\n",
      "\n",
      "Error msg: IndexError('list index out of range',)\n"
     ]
    },
    {
     "name": "stderr",
     "output_type": "stream",
     "text": [
      "2018-09-24 15:37:10,309:WARNING:\n",
      "Failed to read header row 6.\n",
      "2008 01 01 2016 07 08\n",
      "\n",
      "Error msg: IndexError('list index out of range',)\n"
     ]
    },
    {
     "name": "stderr",
     "output_type": "stream",
     "text": [
      "2018-09-24 15:37:10,315:WARNING:\n",
      "Failed to read header row 6.\n",
      "2008 01 01 2016 07 08\n",
      "\n",
      "Error msg: IndexError('list index out of range',)\n"
     ]
    },
    {
     "name": "stderr",
     "output_type": "stream",
     "text": [
      "2018-09-24 15:37:10,322:WARNING:\n",
      "Failed to read header row 6.\n",
      "2008 01 01 2016 07 08\n",
      "\n",
      "Error msg: IndexError('list index out of range',)\n"
     ]
    },
    {
     "name": "stderr",
     "output_type": "stream",
     "text": [
      "2018-09-24 15:37:10,329:WARNING:\n",
      "Failed to read header row 6.\n",
      "2008 01 01 2016 07 08\n",
      "\n",
      "Error msg: IndexError('list index out of range',)\n"
     ]
    },
    {
     "name": "stderr",
     "output_type": "stream",
     "text": [
      "2018-09-24 15:37:10,336:WARNING:\n",
      "Failed to read header row 6.\n",
      "2008 01 01 2016 07 08\n",
      "\n",
      "Error msg: IndexError('list index out of range',)\n"
     ]
    },
    {
     "name": "stderr",
     "output_type": "stream",
     "text": [
      "2018-09-24 15:37:10,342:WARNING:\n",
      "Failed to read header row 6.\n",
      "2008 01 01 2016 07 08\n",
      "\n",
      "Error msg: IndexError('list index out of range',)\n"
     ]
    },
    {
     "name": "stderr",
     "output_type": "stream",
     "text": [
      "2018-09-24 15:37:10,349:WARNING:\n",
      "Failed to read header row 6.\n",
      "2008 01 01 2016 07 08\n",
      "\n",
      "Error msg: IndexError('list index out of range',)\n"
     ]
    },
    {
     "name": "stderr",
     "output_type": "stream",
     "text": [
      "2018-09-24 15:37:10,357:WARNING:\n",
      "Failed to read header row 6.\n",
      "2008 01 01 2016 07 08\n",
      "\n",
      "Error msg: IndexError('list index out of range',)\n"
     ]
    },
    {
     "name": "stderr",
     "output_type": "stream",
     "text": [
      "2018-09-24 15:37:10,364:WARNING:\n",
      "Failed to read header row 6.\n",
      "2008 01 01 2016 07 08\n",
      "\n",
      "Error msg: IndexError('list index out of range',)\n"
     ]
    },
    {
     "name": "stderr",
     "output_type": "stream",
     "text": [
      "2018-09-24 15:37:10,370:WARNING:\n",
      "Failed to read header row 6.\n",
      "2008 01 01 2016 07 08\n",
      "\n",
      "Error msg: IndexError('list index out of range',)\n"
     ]
    },
    {
     "name": "stderr",
     "output_type": "stream",
     "text": [
      "2018-09-24 15:37:10,376:WARNING:\n",
      "Failed to read header row 6.\n",
      "2008 01 01 2016 07 08\n",
      "\n",
      "Error msg: IndexError('list index out of range',)\n"
     ]
    },
    {
     "name": "stderr",
     "output_type": "stream",
     "text": [
      "2018-09-24 15:37:10,383:WARNING:\n",
      "Failed to read header row 6.\n",
      "2008 01 01 2016 07 08\n",
      "\n",
      "Error msg: IndexError('list index out of range',)\n"
     ]
    },
    {
     "name": "stderr",
     "output_type": "stream",
     "text": [
      "2018-09-24 15:37:10,390:WARNING:\n",
      "Failed to read header row 6.\n",
      "2008 01 01 2016 07 08\n",
      "\n",
      "Error msg: IndexError('list index out of range',)\n"
     ]
    },
    {
     "name": "stderr",
     "output_type": "stream",
     "text": [
      "2018-09-24 15:37:10,397:WARNING:\n",
      "Failed to read header row 6.\n",
      "2008 01 01 2016 07 08\n",
      "\n",
      "Error msg: IndexError('list index out of range',)\n"
     ]
    },
    {
     "name": "stderr",
     "output_type": "stream",
     "text": [
      "2018-09-24 15:37:10,403:WARNING:\n",
      "Failed to read header row 6.\n",
      "2008 01 01 2016 07 08\n",
      "\n",
      "Error msg: IndexError('list index out of range',)\n"
     ]
    },
    {
     "name": "stderr",
     "output_type": "stream",
     "text": [
      "2018-09-24 15:37:10,410:WARNING:\n",
      "Failed to read header row 6.\n",
      "2008 01 01 2016 07 08\n",
      "\n",
      "Error msg: IndexError('list index out of range',)\n"
     ]
    },
    {
     "name": "stderr",
     "output_type": "stream",
     "text": [
      "2018-09-24 15:37:10,416:WARNING:\n",
      "Failed to read header row 6.\n",
      "2008 01 01 2016 07 08\n",
      "\n",
      "Error msg: IndexError('list index out of range',)\n"
     ]
    },
    {
     "name": "stderr",
     "output_type": "stream",
     "text": [
      "2018-09-24 15:37:10,423:WARNING:\n",
      "Failed to read header row 6.\n",
      "2008 01 01 2016 07 08\n",
      "\n",
      "Error msg: IndexError('list index out of range',)\n"
     ]
    },
    {
     "name": "stderr",
     "output_type": "stream",
     "text": [
      "2018-09-24 15:37:10,429:WARNING:\n",
      "Failed to read header row 6.\n",
      "2008 01 01 2016 07 08\n",
      "\n",
      "Error msg: IndexError('list index out of range',)\n"
     ]
    },
    {
     "name": "stderr",
     "output_type": "stream",
     "text": [
      "2018-09-24 15:37:10,436:WARNING:\n",
      "Failed to read header row 6.\n",
      "2008 01 01 2016 07 08\n",
      "\n",
      "Error msg: IndexError('list index out of range',)\n"
     ]
    },
    {
     "name": "stderr",
     "output_type": "stream",
     "text": [
      "2018-09-24 15:37:10,443:WARNING:\n",
      "Failed to read header row 6.\n",
      "2008 01 01 2016 07 08\n",
      "\n",
      "Error msg: IndexError('list index out of range',)\n"
     ]
    },
    {
     "name": "stderr",
     "output_type": "stream",
     "text": [
      "2018-09-24 15:37:10,449:WARNING:\n",
      "Failed to read header row 6.\n",
      "2008 01 01 2016 07 08\n",
      "\n",
      "Error msg: IndexError('list index out of range',)\n"
     ]
    },
    {
     "name": "stderr",
     "output_type": "stream",
     "text": [
      "2018-09-24 15:37:10,456:WARNING:\n",
      "Failed to read header row 6.\n",
      "2008 01 01 2016 07 08\n",
      "\n",
      "Error msg: IndexError('list index out of range',)\n"
     ]
    },
    {
     "name": "stderr",
     "output_type": "stream",
     "text": [
      "2018-09-24 15:37:10,462:WARNING:\n",
      "Failed to read header row 6.\n",
      "2008 01 01 2016 07 08\n",
      "\n",
      "Error msg: IndexError('list index out of range',)\n"
     ]
    },
    {
     "name": "stderr",
     "output_type": "stream",
     "text": [
      "2018-09-24 15:37:10,469:WARNING:\n",
      "Failed to read header row 6.\n",
      "2008 01 01 2016 07 08\n",
      "\n",
      "Error msg: IndexError('list index out of range',)\n"
     ]
    },
    {
     "name": "stderr",
     "output_type": "stream",
     "text": [
      "2018-09-24 15:37:10,476:WARNING:\n",
      "Failed to read header row 6.\n",
      "2008 01 01 2016 07 08\n",
      "\n",
      "Error msg: IndexError('list index out of range',)\n"
     ]
    },
    {
     "name": "stderr",
     "output_type": "stream",
     "text": [
      "2018-09-24 15:37:10,482:WARNING:\n",
      "Failed to read header row 6.\n",
      "2008 01 01 2016 07 08\n",
      "\n",
      "Error msg: IndexError('list index out of range',)\n"
     ]
    },
    {
     "name": "stderr",
     "output_type": "stream",
     "text": [
      "2018-09-24 15:37:10,488:WARNING:\n",
      "Failed to read header row 6.\n",
      "2008 01 01 2016 07 08\n",
      "\n",
      "Error msg: IndexError('list index out of range',)\n"
     ]
    },
    {
     "name": "stderr",
     "output_type": "stream",
     "text": [
      "2018-09-24 15:37:10,495:WARNING:\n",
      "Failed to read header row 6.\n",
      "2008 01 01 2016 07 08\n",
      "\n",
      "Error msg: IndexError('list index out of range',)\n"
     ]
    },
    {
     "name": "stderr",
     "output_type": "stream",
     "text": [
      "2018-09-24 15:37:10,502:WARNING:\n",
      "Failed to read header row 6.\n",
      "2008 01 01 2016 07 08\n",
      "\n",
      "Error msg: IndexError('list index out of range',)\n"
     ]
    },
    {
     "name": "stderr",
     "output_type": "stream",
     "text": [
      "2018-09-24 15:37:10,509:WARNING:\n",
      "Failed to read header row 6.\n",
      "2008 01 01 2016 07 08\n",
      "\n",
      "Error msg: IndexError('list index out of range',)\n"
     ]
    },
    {
     "name": "stderr",
     "output_type": "stream",
     "text": [
      "2018-09-24 15:37:10,516:WARNING:\n",
      "Failed to read header row 6.\n",
      "2008 01 01 2016 07 08\n",
      "\n",
      "Error msg: IndexError('list index out of range',)\n"
     ]
    },
    {
     "name": "stderr",
     "output_type": "stream",
     "text": [
      "2018-09-24 15:37:10,524:WARNING:\n",
      "Failed to read header row 6.\n",
      "2008 01 01 2016 07 08\n",
      "\n",
      "Error msg: IndexError('list index out of range',)\n"
     ]
    },
    {
     "name": "stderr",
     "output_type": "stream",
     "text": [
      "2018-09-24 15:37:10,532:WARNING:\n",
      "Failed to read header row 6.\n",
      "2008 01 01 2016 07 08\n",
      "\n",
      "Error msg: IndexError('list index out of range',)\n"
     ]
    },
    {
     "name": "stderr",
     "output_type": "stream",
     "text": [
      "2018-09-24 15:37:10,538:WARNING:\n",
      "Failed to read header row 6.\n",
      "2008 01 01 2016 07 08\n",
      "\n",
      "Error msg: IndexError('list index out of range',)\n"
     ]
    },
    {
     "name": "stderr",
     "output_type": "stream",
     "text": [
      "2018-09-24 15:37:10,545:WARNING:\n",
      "Failed to read header row 6.\n",
      "2008 01 01 2016 07 08\n",
      "\n",
      "Error msg: IndexError('list index out of range',)\n"
     ]
    },
    {
     "name": "stderr",
     "output_type": "stream",
     "text": [
      "2018-09-24 15:37:10,552:WARNING:\n",
      "Failed to read header row 6.\n",
      "2008 01 01 2016 07 08\n",
      "\n",
      "Error msg: IndexError('list index out of range',)\n"
     ]
    },
    {
     "name": "stderr",
     "output_type": "stream",
     "text": [
      "2018-09-24 15:37:10,559:WARNING:\n",
      "Failed to read header row 6.\n",
      "2008 01 01 2016 07 08\n",
      "\n",
      "Error msg: IndexError('list index out of range',)\n"
     ]
    },
    {
     "name": "stderr",
     "output_type": "stream",
     "text": [
      "2018-09-24 15:37:10,565:WARNING:\n",
      "Failed to read header row 6.\n",
      "2008 01 01 2016 07 08\n",
      "\n",
      "Error msg: IndexError('list index out of range',)\n"
     ]
    },
    {
     "name": "stderr",
     "output_type": "stream",
     "text": [
      "2018-09-24 15:37:10,571:WARNING:\n",
      "Failed to read header row 6.\n",
      "2008 01 01 2016 07 08\n",
      "\n",
      "Error msg: IndexError('list index out of range',)\n"
     ]
    },
    {
     "name": "stderr",
     "output_type": "stream",
     "text": [
      "2018-09-24 15:37:10,578:WARNING:\n",
      "Failed to read header row 6.\n",
      "2008 01 01 2016 07 08\n",
      "\n",
      "Error msg: IndexError('list index out of range',)\n"
     ]
    },
    {
     "name": "stderr",
     "output_type": "stream",
     "text": [
      "2018-09-24 15:37:10,584:WARNING:\n",
      "Failed to read header row 6.\n",
      "2008 01 01 2016 07 08\n",
      "\n",
      "Error msg: IndexError('list index out of range',)\n"
     ]
    },
    {
     "name": "stderr",
     "output_type": "stream",
     "text": [
      "2018-09-24 15:37:10,596:WARNING:\n",
      "Failed to read header row 6.\n",
      "2008 01 01 2016 07 08\n",
      "\n",
      "Error msg: IndexError('list index out of range',)\n"
     ]
    },
    {
     "name": "stderr",
     "output_type": "stream",
     "text": [
      "2018-09-24 15:37:10,610:WARNING:\n",
      "Failed to read header row 6.\n",
      "2008 01 01 2016 07 08\n",
      "\n",
      "Error msg: IndexError('list index out of range',)\n"
     ]
    },
    {
     "name": "stderr",
     "output_type": "stream",
     "text": [
      "2018-09-24 15:37:10,617:WARNING:\n",
      "Failed to read header row 6.\n",
      "2008 01 01 2016 07 08\n",
      "\n",
      "Error msg: IndexError('list index out of range',)\n"
     ]
    },
    {
     "name": "stderr",
     "output_type": "stream",
     "text": [
      "2018-09-24 15:37:10,624:WARNING:\n",
      "Failed to read header row 6.\n",
      "2008 01 01 2016 07 08\n",
      "\n",
      "Error msg: IndexError('list index out of range',)\n"
     ]
    },
    {
     "name": "stderr",
     "output_type": "stream",
     "text": [
      "2018-09-24 15:37:10,631:WARNING:\n",
      "Failed to read header row 6.\n",
      "2008 01 01 2016 07 08\n",
      "\n",
      "Error msg: IndexError('list index out of range',)\n"
     ]
    },
    {
     "name": "stderr",
     "output_type": "stream",
     "text": [
      "2018-09-24 15:37:10,638:WARNING:\n",
      "Failed to read header row 6.\n",
      "2008 01 01 2016 07 08\n",
      "\n",
      "Error msg: IndexError('list index out of range',)\n"
     ]
    },
    {
     "name": "stderr",
     "output_type": "stream",
     "text": [
      "2018-09-24 15:37:10,645:WARNING:\n",
      "Failed to read header row 6.\n",
      "2008 01 01 2016 07 08\n",
      "\n",
      "Error msg: IndexError('list index out of range',)\n"
     ]
    },
    {
     "name": "stderr",
     "output_type": "stream",
     "text": [
      "2018-09-24 15:37:10,652:WARNING:\n",
      "Failed to read header row 6.\n",
      "2008 01 01 2016 07 08\n",
      "\n",
      "Error msg: IndexError('list index out of range',)\n"
     ]
    },
    {
     "name": "stderr",
     "output_type": "stream",
     "text": [
      "2018-09-24 15:37:10,659:WARNING:\n",
      "Failed to read header row 6.\n",
      "2008 01 01 2016 07 08\n",
      "\n",
      "Error msg: IndexError('list index out of range',)\n"
     ]
    },
    {
     "name": "stderr",
     "output_type": "stream",
     "text": [
      "2018-09-24 15:37:10,665:WARNING:\n",
      "Failed to read header row 6.\n",
      "2008 01 01 2016 07 08\n",
      "\n",
      "Error msg: IndexError('list index out of range',)\n"
     ]
    },
    {
     "name": "stderr",
     "output_type": "stream",
     "text": [
      "2018-09-24 15:37:10,671:WARNING:\n",
      "Failed to read header row 6.\n",
      "2008 01 01 2016 07 08\n",
      "\n",
      "Error msg: IndexError('list index out of range',)\n"
     ]
    },
    {
     "name": "stderr",
     "output_type": "stream",
     "text": [
      "2018-09-24 15:37:10,678:WARNING:\n",
      "Failed to read header row 6.\n",
      "2008 01 01 2016 07 08\n",
      "\n",
      "Error msg: IndexError('list index out of range',)\n"
     ]
    },
    {
     "name": "stderr",
     "output_type": "stream",
     "text": [
      "2018-09-24 15:37:10,684:WARNING:\n",
      "Failed to read header row 6.\n",
      "2008 01 01 2016 07 08\n",
      "\n",
      "Error msg: IndexError('list index out of range',)\n"
     ]
    },
    {
     "name": "stderr",
     "output_type": "stream",
     "text": [
      "2018-09-24 15:37:10,690:WARNING:\n",
      "Failed to read header row 6.\n",
      "2008 01 01 2016 07 08\n",
      "\n",
      "Error msg: IndexError('list index out of range',)\n"
     ]
    },
    {
     "name": "stderr",
     "output_type": "stream",
     "text": [
      "2018-09-24 15:37:10,697:WARNING:\n",
      "Failed to read header row 6.\n",
      "2008 01 01 2016 07 08\n",
      "\n",
      "Error msg: IndexError('list index out of range',)\n"
     ]
    },
    {
     "name": "stderr",
     "output_type": "stream",
     "text": [
      "2018-09-24 15:37:10,704:WARNING:\n",
      "Failed to read header row 6.\n",
      "2008 01 01 2016 07 08\n",
      "\n",
      "Error msg: IndexError('list index out of range',)\n"
     ]
    },
    {
     "name": "stderr",
     "output_type": "stream",
     "text": [
      "2018-09-24 15:37:10,712:WARNING:\n",
      "Failed to read header row 6.\n",
      "2008 01 01 2016 07 08\n",
      "\n",
      "Error msg: IndexError('list index out of range',)\n"
     ]
    },
    {
     "name": "stderr",
     "output_type": "stream",
     "text": [
      "2018-09-24 15:37:10,719:WARNING:\n",
      "Failed to read header row 6.\n",
      "2008 01 01 2016 07 08\n",
      "\n",
      "Error msg: IndexError('list index out of range',)\n"
     ]
    },
    {
     "name": "stderr",
     "output_type": "stream",
     "text": [
      "2018-09-24 15:37:10,725:WARNING:\n",
      "Failed to read header row 6.\n",
      "2008 01 01 2016 07 08\n",
      "\n",
      "Error msg: IndexError('list index out of range',)\n"
     ]
    },
    {
     "name": "stderr",
     "output_type": "stream",
     "text": [
      "2018-09-24 15:37:10,732:WARNING:\n",
      "Failed to read header row 6.\n",
      "2008 01 01 2016 07 08\n",
      "\n",
      "Error msg: IndexError('list index out of range',)\n"
     ]
    },
    {
     "name": "stderr",
     "output_type": "stream",
     "text": [
      "2018-09-24 15:37:10,738:WARNING:\n",
      "Failed to read header row 6.\n",
      "2008 01 01 2016 07 08\n",
      "\n",
      "Error msg: IndexError('list index out of range',)\n"
     ]
    },
    {
     "name": "stderr",
     "output_type": "stream",
     "text": [
      "2018-09-24 15:37:10,745:WARNING:\n",
      "Failed to read header row 6.\n",
      "2008 01 01 2016 07 08\n",
      "\n",
      "Error msg: IndexError('list index out of range',)\n"
     ]
    },
    {
     "name": "stderr",
     "output_type": "stream",
     "text": [
      "2018-09-24 15:37:10,751:WARNING:\n",
      "Failed to read header row 6.\n",
      "2008 01 01 2016 07 08\n",
      "\n",
      "Error msg: IndexError('list index out of range',)\n"
     ]
    },
    {
     "name": "stderr",
     "output_type": "stream",
     "text": [
      "2018-09-24 15:37:10,758:WARNING:\n",
      "Failed to read header row 6.\n",
      "2008 01 01 2016 07 08\n",
      "\n",
      "Error msg: IndexError('list index out of range',)\n"
     ]
    },
    {
     "name": "stderr",
     "output_type": "stream",
     "text": [
      "2018-09-24 15:37:10,765:WARNING:\n",
      "Failed to read header row 6.\n",
      "2008 01 01 2016 07 08\n",
      "\n",
      "Error msg: IndexError('list index out of range',)\n"
     ]
    },
    {
     "name": "stderr",
     "output_type": "stream",
     "text": [
      "2018-09-24 15:37:10,771:WARNING:\n",
      "Failed to read header row 6.\n",
      "2008 01 01 2016 07 08\n",
      "\n",
      "Error msg: IndexError('list index out of range',)\n"
     ]
    },
    {
     "name": "stderr",
     "output_type": "stream",
     "text": [
      "2018-09-24 15:37:10,778:WARNING:\n",
      "Failed to read header row 6.\n",
      "2008 01 01 2016 07 08\n",
      "\n",
      "Error msg: IndexError('list index out of range',)\n"
     ]
    },
    {
     "name": "stderr",
     "output_type": "stream",
     "text": [
      "2018-09-24 15:37:10,784:WARNING:\n",
      "Failed to read header row 6.\n",
      "2008 01 01 2016 07 08\n",
      "\n",
      "Error msg: IndexError('list index out of range',)\n"
     ]
    },
    {
     "name": "stderr",
     "output_type": "stream",
     "text": [
      "2018-09-24 15:37:10,791:WARNING:\n",
      "Failed to read header row 6.\n",
      "2008 01 01 2016 07 08\n",
      "\n",
      "Error msg: IndexError('list index out of range',)\n"
     ]
    },
    {
     "name": "stderr",
     "output_type": "stream",
     "text": [
      "2018-09-24 15:37:10,798:WARNING:\n",
      "Failed to read header row 6.\n",
      "2008 01 01 2016 07 08\n",
      "\n",
      "Error msg: IndexError('list index out of range',)\n"
     ]
    },
    {
     "name": "stderr",
     "output_type": "stream",
     "text": [
      "2018-09-24 15:37:10,805:WARNING:\n",
      "Failed to read header row 6.\n",
      "2008 01 01 2016 07 08\n",
      "\n",
      "Error msg: IndexError('list index out of range',)\n"
     ]
    },
    {
     "name": "stderr",
     "output_type": "stream",
     "text": [
      "2018-09-24 15:37:10,811:WARNING:\n",
      "Failed to read header row 6.\n",
      "2008 01 01 2016 07 08\n",
      "\n",
      "Error msg: IndexError('list index out of range',)\n"
     ]
    },
    {
     "name": "stderr",
     "output_type": "stream",
     "text": [
      "2018-09-24 15:37:10,818:WARNING:\n",
      "Failed to read header row 6.\n",
      "2008 01 01 2016 07 08\n",
      "\n",
      "Error msg: IndexError('list index out of range',)\n"
     ]
    },
    {
     "name": "stderr",
     "output_type": "stream",
     "text": [
      "2018-09-24 15:37:10,825:WARNING:\n",
      "Failed to read header row 6.\n",
      "2008 01 01 2016 07 08\n",
      "\n",
      "Error msg: IndexError('list index out of range',)\n"
     ]
    },
    {
     "name": "stderr",
     "output_type": "stream",
     "text": [
      "2018-09-24 15:37:10,831:WARNING:\n",
      "Failed to read header row 6.\n",
      "2008 01 01 2016 07 08\n",
      "\n",
      "Error msg: IndexError('list index out of range',)\n"
     ]
    },
    {
     "name": "stderr",
     "output_type": "stream",
     "text": [
      "2018-09-24 15:37:10,838:WARNING:\n",
      "Failed to read header row 6.\n",
      "2008 01 01 2016 07 08\n",
      "\n",
      "Error msg: IndexError('list index out of range',)\n"
     ]
    },
    {
     "name": "stderr",
     "output_type": "stream",
     "text": [
      "2018-09-24 15:37:10,844:WARNING:\n",
      "Failed to read header row 6.\n",
      "2008 01 01 2016 07 08\n",
      "\n",
      "Error msg: IndexError('list index out of range',)\n"
     ]
    },
    {
     "name": "stderr",
     "output_type": "stream",
     "text": [
      "2018-09-24 15:37:10,850:WARNING:\n",
      "Failed to read header row 6.\n",
      "2008 01 01 2016 07 08\n",
      "\n",
      "Error msg: IndexError('list index out of range',)\n"
     ]
    },
    {
     "name": "stderr",
     "output_type": "stream",
     "text": [
      "2018-09-24 15:37:10,857:WARNING:\n",
      "Failed to read header row 6.\n",
      "2008 01 01 2016 07 08\n",
      "\n",
      "Error msg: IndexError('list index out of range',)\n"
     ]
    },
    {
     "name": "stderr",
     "output_type": "stream",
     "text": [
      "2018-09-24 15:37:10,865:WARNING:\n",
      "Failed to read header row 6.\n",
      "2008 01 01 2016 07 08\n",
      "\n",
      "Error msg: IndexError('list index out of range',)\n"
     ]
    },
    {
     "name": "stderr",
     "output_type": "stream",
     "text": [
      "2018-09-24 15:37:10,873:WARNING:\n",
      "Failed to read header row 6.\n",
      "2008 01 01 2016 07 08\n",
      "\n",
      "Error msg: IndexError('list index out of range',)\n"
     ]
    },
    {
     "name": "stderr",
     "output_type": "stream",
     "text": [
      "2018-09-24 15:37:10,883:WARNING:\n",
      "Failed to read header row 6.\n",
      "2008 01 01 2016 07 08\n",
      "\n",
      "Error msg: IndexError('list index out of range',)\n"
     ]
    },
    {
     "name": "stderr",
     "output_type": "stream",
     "text": [
      "2018-09-24 15:37:10,889:WARNING:\n",
      "Failed to read header row 6.\n",
      "2008 01 01 2016 07 08\n",
      "\n",
      "Error msg: IndexError('list index out of range',)\n"
     ]
    },
    {
     "name": "stderr",
     "output_type": "stream",
     "text": [
      "2018-09-24 15:37:10,897:WARNING:\n",
      "Failed to read header row 6.\n",
      "2008 01 01 2016 07 08\n",
      "\n",
      "Error msg: IndexError('list index out of range',)\n"
     ]
    },
    {
     "name": "stderr",
     "output_type": "stream",
     "text": [
      "2018-09-24 15:37:10,904:WARNING:\n",
      "Failed to read header row 6.\n",
      "2008 01 01 2016 07 08\n",
      "\n",
      "Error msg: IndexError('list index out of range',)\n"
     ]
    },
    {
     "name": "stderr",
     "output_type": "stream",
     "text": [
      "2018-09-24 15:37:10,910:WARNING:\n",
      "Failed to read header row 6.\n",
      "2008 01 01 2016 07 08\n",
      "\n",
      "Error msg: IndexError('list index out of range',)\n"
     ]
    },
    {
     "name": "stderr",
     "output_type": "stream",
     "text": [
      "2018-09-24 15:37:10,917:WARNING:\n",
      "Failed to read header row 6.\n",
      "2008 01 01 2016 07 08\n",
      "\n",
      "Error msg: IndexError('list index out of range',)\n"
     ]
    },
    {
     "name": "stderr",
     "output_type": "stream",
     "text": [
      "2018-09-24 15:37:10,923:WARNING:\n",
      "Failed to read header row 6.\n",
      "2008 01 01 2016 07 08\n",
      "\n",
      "Error msg: IndexError('list index out of range',)\n"
     ]
    },
    {
     "name": "stderr",
     "output_type": "stream",
     "text": [
      "2018-09-24 15:37:10,930:WARNING:\n",
      "Failed to read header row 6.\n",
      "2008 01 01 2016 07 08\n",
      "\n",
      "Error msg: IndexError('list index out of range',)\n"
     ]
    },
    {
     "name": "stderr",
     "output_type": "stream",
     "text": [
      "2018-09-24 15:37:10,937:WARNING:\n",
      "Failed to read header row 6.\n",
      "2008 01 01 2016 07 08\n",
      "\n",
      "Error msg: IndexError('list index out of range',)\n"
     ]
    },
    {
     "name": "stderr",
     "output_type": "stream",
     "text": [
      "2018-09-24 15:37:10,943:WARNING:\n",
      "Failed to read header row 6.\n",
      "2008 01 01 2016 07 08\n",
      "\n",
      "Error msg: IndexError('list index out of range',)\n"
     ]
    },
    {
     "name": "stderr",
     "output_type": "stream",
     "text": [
      "2018-09-24 15:37:10,950:WARNING:\n",
      "Failed to read header row 6.\n",
      "2008 01 01 2016 07 08\n",
      "\n",
      "Error msg: IndexError('list index out of range',)\n"
     ]
    },
    {
     "name": "stderr",
     "output_type": "stream",
     "text": [
      "2018-09-24 15:37:10,956:WARNING:\n",
      "Failed to read header row 6.\n",
      "2008 01 01 2016 07 08\n",
      "\n",
      "Error msg: IndexError('list index out of range',)\n"
     ]
    },
    {
     "name": "stderr",
     "output_type": "stream",
     "text": [
      "2018-09-24 15:37:10,962:WARNING:\n",
      "Failed to read header row 6.\n",
      "2008 01 01 2016 07 08\n",
      "\n",
      "Error msg: IndexError('list index out of range',)\n"
     ]
    },
    {
     "name": "stderr",
     "output_type": "stream",
     "text": [
      "2018-09-24 15:37:10,968:WARNING:\n",
      "Failed to read header row 6.\n",
      "2008 01 01 2016 07 08\n",
      "\n",
      "Error msg: IndexError('list index out of range',)\n"
     ]
    },
    {
     "name": "stderr",
     "output_type": "stream",
     "text": [
      "2018-09-24 15:37:10,975:WARNING:\n",
      "Failed to read header row 6.\n",
      "2008 01 01 2016 07 08\n",
      "\n",
      "Error msg: IndexError('list index out of range',)\n"
     ]
    },
    {
     "name": "stderr",
     "output_type": "stream",
     "text": [
      "2018-09-24 15:37:10,982:WARNING:\n",
      "Failed to read header row 6.\n",
      "2008 01 01 2016 07 08\n",
      "\n",
      "Error msg: IndexError('list index out of range',)\n"
     ]
    },
    {
     "name": "stderr",
     "output_type": "stream",
     "text": [
      "2018-09-24 15:37:10,988:WARNING:\n",
      "Failed to read header row 6.\n",
      "2008 01 01 2016 07 08\n",
      "\n",
      "Error msg: IndexError('list index out of range',)\n"
     ]
    },
    {
     "name": "stderr",
     "output_type": "stream",
     "text": [
      "2018-09-24 15:37:10,995:WARNING:\n",
      "Failed to read header row 6.\n",
      "2008 01 01 2016 07 08\n",
      "\n",
      "Error msg: IndexError('list index out of range',)\n"
     ]
    },
    {
     "name": "stderr",
     "output_type": "stream",
     "text": [
      "2018-09-24 15:37:11,002:WARNING:\n",
      "Failed to read header row 6.\n",
      "2008 01 01 2016 07 08\n",
      "\n",
      "Error msg: IndexError('list index out of range',)\n"
     ]
    },
    {
     "name": "stderr",
     "output_type": "stream",
     "text": [
      "2018-09-24 15:37:11,009:WARNING:\n",
      "Failed to read header row 6.\n",
      "2008 01 01 2016 07 08\n",
      "\n",
      "Error msg: IndexError('list index out of range',)\n"
     ]
    },
    {
     "name": "stderr",
     "output_type": "stream",
     "text": [
      "2018-09-24 15:37:11,015:WARNING:\n",
      "Failed to read header row 6.\n",
      "2008 01 01 2016 07 08\n",
      "\n",
      "Error msg: IndexError('list index out of range',)\n"
     ]
    },
    {
     "name": "stderr",
     "output_type": "stream",
     "text": [
      "2018-09-24 15:37:11,021:WARNING:\n",
      "Failed to read header row 6.\n",
      "2008 01 01 2016 07 08\n",
      "\n",
      "Error msg: IndexError('list index out of range',)\n"
     ]
    },
    {
     "name": "stderr",
     "output_type": "stream",
     "text": [
      "2018-09-24 15:37:11,028:WARNING:\n",
      "Failed to read header row 6.\n",
      "2008 01 01 2016 07 08\n",
      "\n",
      "Error msg: IndexError('list index out of range',)\n"
     ]
    },
    {
     "name": "stderr",
     "output_type": "stream",
     "text": [
      "2018-09-24 15:37:11,035:WARNING:\n",
      "Failed to read header row 6.\n",
      "2008 01 01 2016 07 08\n",
      "\n",
      "Error msg: IndexError('list index out of range',)\n"
     ]
    },
    {
     "name": "stderr",
     "output_type": "stream",
     "text": [
      "2018-09-24 15:37:11,042:WARNING:\n",
      "Failed to read header row 6.\n",
      "2008 01 01 2016 07 08\n",
      "\n",
      "Error msg: IndexError('list index out of range',)\n"
     ]
    },
    {
     "name": "stderr",
     "output_type": "stream",
     "text": [
      "2018-09-24 15:37:11,048:WARNING:\n",
      "Failed to read header row 6.\n",
      "2008 01 01 2016 07 08\n",
      "\n",
      "Error msg: IndexError('list index out of range',)\n"
     ]
    },
    {
     "name": "stderr",
     "output_type": "stream",
     "text": [
      "2018-09-24 15:37:11,054:WARNING:\n",
      "Failed to read header row 6.\n",
      "2008 01 01 2016 07 08\n",
      "\n",
      "Error msg: IndexError('list index out of range',)\n"
     ]
    },
    {
     "name": "stderr",
     "output_type": "stream",
     "text": [
      "2018-09-24 15:37:11,061:WARNING:\n",
      "Failed to read header row 6.\n",
      "2008 01 01 2016 07 08\n",
      "\n",
      "Error msg: IndexError('list index out of range',)\n"
     ]
    },
    {
     "name": "stderr",
     "output_type": "stream",
     "text": [
      "2018-09-24 15:37:11,067:WARNING:\n",
      "Failed to read header row 6.\n",
      "2008 01 01 2016 07 08\n",
      "\n",
      "Error msg: IndexError('list index out of range',)\n"
     ]
    },
    {
     "name": "stderr",
     "output_type": "stream",
     "text": [
      "2018-09-24 15:37:11,074:WARNING:\n",
      "Failed to read header row 6.\n",
      "2008 01 01 2016 07 08\n",
      "\n",
      "Error msg: IndexError('list index out of range',)\n"
     ]
    },
    {
     "name": "stderr",
     "output_type": "stream",
     "text": [
      "2018-09-24 15:37:11,081:WARNING:\n",
      "Failed to read header row 6.\n",
      "2008 01 01 2016 07 08\n",
      "\n",
      "Error msg: IndexError('list index out of range',)\n"
     ]
    },
    {
     "name": "stderr",
     "output_type": "stream",
     "text": [
      "2018-09-24 15:37:11,088:WARNING:\n",
      "Failed to read header row 6.\n",
      "2008 01 01 2016 07 08\n",
      "\n",
      "Error msg: IndexError('list index out of range',)\n"
     ]
    },
    {
     "name": "stderr",
     "output_type": "stream",
     "text": [
      "2018-09-24 15:37:11,095:WARNING:\n",
      "Failed to read header row 6.\n",
      "2008 01 01 2016 07 08\n",
      "\n",
      "Error msg: IndexError('list index out of range',)\n"
     ]
    },
    {
     "name": "stderr",
     "output_type": "stream",
     "text": [
      "2018-09-24 15:37:11,101:WARNING:\n",
      "Failed to read header row 6.\n",
      "2008 01 01 2016 07 08\n",
      "\n",
      "Error msg: IndexError('list index out of range',)\n"
     ]
    },
    {
     "name": "stderr",
     "output_type": "stream",
     "text": [
      "2018-09-24 15:37:11,108:WARNING:\n",
      "Failed to read header row 6.\n",
      "2008 01 01 2016 07 08\n",
      "\n",
      "Error msg: IndexError('list index out of range',)\n"
     ]
    },
    {
     "name": "stderr",
     "output_type": "stream",
     "text": [
      "2018-09-24 15:37:11,115:WARNING:\n",
      "Failed to read header row 6.\n",
      "2008 01 01 2016 07 08\n",
      "\n",
      "Error msg: IndexError('list index out of range',)\n"
     ]
    },
    {
     "name": "stderr",
     "output_type": "stream",
     "text": [
      "2018-09-24 15:37:11,121:WARNING:\n",
      "Failed to read header row 6.\n",
      "2008 01 01 2016 07 08\n",
      "\n",
      "Error msg: IndexError('list index out of range',)\n"
     ]
    },
    {
     "name": "stderr",
     "output_type": "stream",
     "text": [
      "2018-09-24 15:37:11,128:WARNING:\n",
      "Failed to read header row 6.\n",
      "2008 01 01 2016 07 08\n",
      "\n",
      "Error msg: IndexError('list index out of range',)\n"
     ]
    },
    {
     "name": "stderr",
     "output_type": "stream",
     "text": [
      "2018-09-24 15:37:11,134:WARNING:\n",
      "Failed to read header row 6.\n",
      "2008 01 01 2016 07 08\n",
      "\n",
      "Error msg: IndexError('list index out of range',)\n"
     ]
    },
    {
     "name": "stderr",
     "output_type": "stream",
     "text": [
      "2018-09-24 15:37:11,141:WARNING:\n",
      "Failed to read header row 6.\n",
      "2008 01 01 2016 07 08\n",
      "\n",
      "Error msg: IndexError('list index out of range',)\n"
     ]
    },
    {
     "name": "stderr",
     "output_type": "stream",
     "text": [
      "2018-09-24 15:37:11,148:WARNING:\n",
      "Failed to read header row 6.\n",
      "2008 01 01 2016 07 08\n",
      "\n",
      "Error msg: IndexError('list index out of range',)\n"
     ]
    },
    {
     "name": "stderr",
     "output_type": "stream",
     "text": [
      "2018-09-24 15:37:11,155:WARNING:\n",
      "Failed to read header row 6.\n",
      "2008 01 01 2016 07 08\n",
      "\n",
      "Error msg: IndexError('list index out of range',)\n"
     ]
    },
    {
     "name": "stderr",
     "output_type": "stream",
     "text": [
      "2018-09-24 15:37:11,163:WARNING:\n",
      "Failed to read header row 6.\n",
      "2008 01 01 2016 07 08\n",
      "\n",
      "Error msg: IndexError('list index out of range',)\n"
     ]
    },
    {
     "name": "stderr",
     "output_type": "stream",
     "text": [
      "2018-09-24 15:37:11,172:WARNING:\n",
      "Failed to read header row 6.\n",
      "2008 01 01 2016 07 08\n",
      "\n",
      "Error msg: IndexError('list index out of range',)\n"
     ]
    },
    {
     "name": "stderr",
     "output_type": "stream",
     "text": [
      "2018-09-24 15:37:11,180:WARNING:\n",
      "Failed to read header row 6.\n",
      "2008 01 01 2016 07 08\n",
      "\n",
      "Error msg: IndexError('list index out of range',)\n"
     ]
    },
    {
     "name": "stderr",
     "output_type": "stream",
     "text": [
      "2018-09-24 15:37:11,188:WARNING:\n",
      "Failed to read header row 6.\n",
      "2008 01 01 2016 07 08\n",
      "\n",
      "Error msg: IndexError('list index out of range',)\n"
     ]
    },
    {
     "name": "stderr",
     "output_type": "stream",
     "text": [
      "2018-09-24 15:37:11,195:WARNING:\n",
      "Failed to read header row 6.\n",
      "2008 01 01 2016 07 08\n",
      "\n",
      "Error msg: IndexError('list index out of range',)\n"
     ]
    },
    {
     "name": "stderr",
     "output_type": "stream",
     "text": [
      "2018-09-24 15:37:11,203:WARNING:\n",
      "Failed to read header row 6.\n",
      "2008 01 01 2016 07 08\n",
      "\n",
      "Error msg: IndexError('list index out of range',)\n"
     ]
    },
    {
     "name": "stderr",
     "output_type": "stream",
     "text": [
      "2018-09-24 15:37:11,211:WARNING:\n",
      "Failed to read header row 6.\n",
      "2008 01 01 2016 07 08\n",
      "\n",
      "Error msg: IndexError('list index out of range',)\n"
     ]
    },
    {
     "name": "stderr",
     "output_type": "stream",
     "text": [
      "2018-09-24 15:37:11,422:WARNING:\n",
      "Failed to read header row 6.\n",
      "2008 01 01 2016 07 08\n",
      "\n",
      "Error msg: IndexError('list index out of range',)\n"
     ]
    },
    {
     "name": "stderr",
     "output_type": "stream",
     "text": [
      "2018-09-24 15:37:11,433:WARNING:\n",
      "Failed to read header row 6.\n",
      "2008 01 01 2016 07 08\n",
      "\n",
      "Error msg: IndexError('list index out of range',)\n"
     ]
    },
    {
     "name": "stderr",
     "output_type": "stream",
     "text": [
      "2018-09-24 15:37:11,443:WARNING:\n",
      "Failed to read header row 6.\n",
      "2008 01 01 2016 07 08\n",
      "\n",
      "Error msg: IndexError('list index out of range',)\n"
     ]
    },
    {
     "name": "stderr",
     "output_type": "stream",
     "text": [
      "2018-09-24 15:37:11,453:WARNING:\n",
      "Failed to read header row 6.\n",
      "2008 01 01 2016 07 08\n",
      "\n",
      "Error msg: IndexError('list index out of range',)\n"
     ]
    },
    {
     "name": "stderr",
     "output_type": "stream",
     "text": [
      "2018-09-24 15:37:11,463:WARNING:\n",
      "Failed to read header row 6.\n",
      "2008 01 01 2016 07 08\n",
      "\n",
      "Error msg: IndexError('list index out of range',)\n"
     ]
    },
    {
     "name": "stderr",
     "output_type": "stream",
     "text": [
      "2018-09-24 15:37:11,473:WARNING:\n",
      "Failed to read header row 6.\n",
      "2008 01 01 2016 07 08\n",
      "\n",
      "Error msg: IndexError('list index out of range',)\n"
     ]
    },
    {
     "name": "stderr",
     "output_type": "stream",
     "text": [
      "2018-09-24 15:37:11,483:WARNING:\n",
      "Failed to read header row 6.\n",
      "2008 01 01 2016 07 08\n",
      "\n",
      "Error msg: IndexError('list index out of range',)\n"
     ]
    },
    {
     "name": "stderr",
     "output_type": "stream",
     "text": [
      "2018-09-24 15:37:11,491:WARNING:\n",
      "Failed to read header row 6.\n",
      "2008 01 01 2016 07 08\n",
      "\n",
      "Error msg: IndexError('list index out of range',)\n"
     ]
    },
    {
     "name": "stderr",
     "output_type": "stream",
     "text": [
      "2018-09-24 15:37:11,499:WARNING:\n",
      "Failed to read header row 6.\n",
      "2008 01 01 2016 07 08\n",
      "\n",
      "Error msg: IndexError('list index out of range',)\n"
     ]
    },
    {
     "name": "stderr",
     "output_type": "stream",
     "text": [
      "2018-09-24 15:37:11,506:WARNING:\n",
      "Failed to read header row 6.\n",
      "2008 01 01 2016 07 08\n",
      "\n",
      "Error msg: IndexError('list index out of range',)\n"
     ]
    },
    {
     "name": "stderr",
     "output_type": "stream",
     "text": [
      "2018-09-24 15:37:11,514:WARNING:\n",
      "Failed to read header row 6.\n",
      "2008 01 01 2016 07 08\n",
      "\n",
      "Error msg: IndexError('list index out of range',)\n"
     ]
    },
    {
     "name": "stderr",
     "output_type": "stream",
     "text": [
      "2018-09-24 15:37:11,522:WARNING:\n",
      "Failed to read header row 6.\n",
      "2008 01 01 2016 07 08\n",
      "\n",
      "Error msg: IndexError('list index out of range',)\n"
     ]
    },
    {
     "name": "stderr",
     "output_type": "stream",
     "text": [
      "2018-09-24 15:37:11,529:WARNING:\n",
      "Failed to read header row 6.\n",
      "2008 01 01 2016 07 08\n",
      "\n",
      "Error msg: IndexError('list index out of range',)\n"
     ]
    },
    {
     "name": "stderr",
     "output_type": "stream",
     "text": [
      "2018-09-24 15:37:11,535:WARNING:\n",
      "Failed to read header row 6.\n",
      "2008 01 01 2016 07 08\n",
      "\n",
      "Error msg: IndexError('list index out of range',)\n"
     ]
    },
    {
     "name": "stderr",
     "output_type": "stream",
     "text": [
      "2018-09-24 15:37:11,542:WARNING:\n",
      "Failed to read header row 6.\n",
      "2008 01 01 2016 07 08\n",
      "\n",
      "Error msg: IndexError('list index out of range',)\n"
     ]
    },
    {
     "name": "stderr",
     "output_type": "stream",
     "text": [
      "2018-09-24 15:37:11,549:WARNING:\n",
      "Failed to read header row 6.\n",
      "2008 01 01 2016 07 08\n",
      "\n",
      "Error msg: IndexError('list index out of range',)\n"
     ]
    },
    {
     "name": "stderr",
     "output_type": "stream",
     "text": [
      "2018-09-24 15:37:11,556:WARNING:\n",
      "Failed to read header row 6.\n",
      "2008 01 01 2016 07 08\n",
      "\n",
      "Error msg: IndexError('list index out of range',)\n"
     ]
    },
    {
     "name": "stderr",
     "output_type": "stream",
     "text": [
      "2018-09-24 15:37:11,563:WARNING:\n",
      "Failed to read header row 6.\n",
      "2008 01 01 2016 07 08\n",
      "\n",
      "Error msg: IndexError('list index out of range',)\n"
     ]
    },
    {
     "name": "stderr",
     "output_type": "stream",
     "text": [
      "2018-09-24 15:37:11,570:WARNING:\n",
      "Failed to read header row 6.\n",
      "2008 01 01 2016 07 08\n",
      "\n",
      "Error msg: IndexError('list index out of range',)\n"
     ]
    },
    {
     "name": "stderr",
     "output_type": "stream",
     "text": [
      "2018-09-24 15:37:11,576:WARNING:\n",
      "Failed to read header row 6.\n",
      "2008 01 01 2016 07 08\n",
      "\n",
      "Error msg: IndexError('list index out of range',)\n"
     ]
    },
    {
     "name": "stderr",
     "output_type": "stream",
     "text": [
      "2018-09-24 15:37:11,583:WARNING:\n",
      "Failed to read header row 6.\n",
      "2008 01 01 2016 07 08\n",
      "\n",
      "Error msg: IndexError('list index out of range',)\n"
     ]
    },
    {
     "name": "stderr",
     "output_type": "stream",
     "text": [
      "2018-09-24 15:37:11,590:WARNING:\n",
      "Failed to read header row 6.\n",
      "2008 01 01 2016 07 08\n",
      "\n",
      "Error msg: IndexError('list index out of range',)\n"
     ]
    },
    {
     "name": "stderr",
     "output_type": "stream",
     "text": [
      "2018-09-24 15:37:11,602:WARNING:\n",
      "Failed to read header row 6.\n",
      "2008 01 01 2016 07 08\n",
      "\n",
      "Error msg: IndexError('list index out of range',)\n"
     ]
    },
    {
     "name": "stderr",
     "output_type": "stream",
     "text": [
      "2018-09-24 15:37:11,611:WARNING:\n",
      "Failed to read header row 6.\n",
      "2008 01 01 2016 07 08\n",
      "\n",
      "Error msg: IndexError('list index out of range',)\n"
     ]
    },
    {
     "name": "stderr",
     "output_type": "stream",
     "text": [
      "2018-09-24 15:37:11,623:WARNING:\n",
      "Failed to read header row 6.\n",
      "2008 01 01 2016 07 08\n",
      "\n",
      "Error msg: IndexError('list index out of range',)\n"
     ]
    },
    {
     "name": "stderr",
     "output_type": "stream",
     "text": [
      "2018-09-24 15:37:11,630:WARNING:\n",
      "Failed to read header row 6.\n",
      "2008 01 01 2016 07 08\n",
      "\n",
      "Error msg: IndexError('list index out of range',)\n"
     ]
    },
    {
     "name": "stderr",
     "output_type": "stream",
     "text": [
      "2018-09-24 15:37:11,637:WARNING:\n",
      "Failed to read header row 6.\n",
      "2008 01 01 2016 07 08\n",
      "\n",
      "Error msg: IndexError('list index out of range',)\n"
     ]
    },
    {
     "name": "stderr",
     "output_type": "stream",
     "text": [
      "2018-09-24 15:37:11,644:WARNING:\n",
      "Failed to read header row 6.\n",
      "2008 01 01 2016 07 08\n",
      "\n",
      "Error msg: IndexError('list index out of range',)\n"
     ]
    },
    {
     "name": "stderr",
     "output_type": "stream",
     "text": [
      "2018-09-24 15:37:11,650:WARNING:\n",
      "Failed to read header row 6.\n",
      "2008 01 01 2016 07 08\n",
      "\n",
      "Error msg: IndexError('list index out of range',)\n"
     ]
    },
    {
     "name": "stderr",
     "output_type": "stream",
     "text": [
      "2018-09-24 15:37:11,657:WARNING:\n",
      "Failed to read header row 6.\n",
      "2008 01 01 2016 07 08\n",
      "\n",
      "Error msg: IndexError('list index out of range',)\n"
     ]
    },
    {
     "name": "stderr",
     "output_type": "stream",
     "text": [
      "2018-09-24 15:37:11,664:WARNING:\n",
      "Failed to read header row 6.\n",
      "2008 01 01 2016 07 08\n",
      "\n",
      "Error msg: IndexError('list index out of range',)\n"
     ]
    },
    {
     "name": "stderr",
     "output_type": "stream",
     "text": [
      "2018-09-24 15:37:11,671:WARNING:\n",
      "Failed to read header row 6.\n",
      "2008 01 01 2016 07 08\n",
      "\n",
      "Error msg: IndexError('list index out of range',)\n"
     ]
    },
    {
     "name": "stderr",
     "output_type": "stream",
     "text": [
      "2018-09-24 15:37:11,678:WARNING:\n",
      "Failed to read header row 6.\n",
      "2008 01 01 2016 07 08\n",
      "\n",
      "Error msg: IndexError('list index out of range',)\n"
     ]
    },
    {
     "name": "stderr",
     "output_type": "stream",
     "text": [
      "2018-09-24 15:37:11,685:WARNING:\n",
      "Failed to read header row 6.\n",
      "2008 01 01 2016 07 08\n",
      "\n",
      "Error msg: IndexError('list index out of range',)\n"
     ]
    },
    {
     "name": "stderr",
     "output_type": "stream",
     "text": [
      "2018-09-24 15:37:11,691:WARNING:\n",
      "Failed to read header row 6.\n",
      "2008 01 01 2016 07 08\n",
      "\n",
      "Error msg: IndexError('list index out of range',)\n"
     ]
    },
    {
     "name": "stderr",
     "output_type": "stream",
     "text": [
      "2018-09-24 15:37:11,698:WARNING:\n",
      "Failed to read header row 6.\n",
      "2008 01 01 2016 07 08\n",
      "\n",
      "Error msg: IndexError('list index out of range',)\n"
     ]
    },
    {
     "name": "stderr",
     "output_type": "stream",
     "text": [
      "2018-09-24 15:37:11,706:WARNING:\n",
      "Failed to read header row 6.\n",
      "2008 01 01 2016 07 08\n",
      "\n",
      "Error msg: IndexError('list index out of range',)\n"
     ]
    },
    {
     "name": "stderr",
     "output_type": "stream",
     "text": [
      "2018-09-24 15:37:11,712:WARNING:\n",
      "Failed to read header row 6.\n",
      "2008 01 01 2016 07 08\n",
      "\n",
      "Error msg: IndexError('list index out of range',)\n"
     ]
    },
    {
     "name": "stderr",
     "output_type": "stream",
     "text": [
      "2018-09-24 15:37:11,719:WARNING:\n",
      "Failed to read header row 6.\n",
      "2008 01 01 2016 07 08\n",
      "\n",
      "Error msg: IndexError('list index out of range',)\n"
     ]
    },
    {
     "name": "stderr",
     "output_type": "stream",
     "text": [
      "2018-09-24 15:37:11,726:WARNING:\n",
      "Failed to read header row 6.\n",
      "2008 01 01 2016 07 08\n",
      "\n",
      "Error msg: IndexError('list index out of range',)\n"
     ]
    },
    {
     "name": "stderr",
     "output_type": "stream",
     "text": [
      "2018-09-24 15:37:11,732:WARNING:\n",
      "Failed to read header row 6.\n",
      "2008 01 01 2016 07 08\n",
      "\n",
      "Error msg: IndexError('list index out of range',)\n"
     ]
    },
    {
     "name": "stderr",
     "output_type": "stream",
     "text": [
      "2018-09-24 15:37:11,740:WARNING:\n",
      "Failed to read header row 6.\n",
      "2008 01 01 2016 07 08\n",
      "\n",
      "Error msg: IndexError('list index out of range',)\n"
     ]
    },
    {
     "name": "stderr",
     "output_type": "stream",
     "text": [
      "2018-09-24 15:37:11,747:WARNING:\n",
      "Failed to read header row 6.\n",
      "2008 01 01 2016 07 08\n",
      "\n",
      "Error msg: IndexError('list index out of range',)\n"
     ]
    },
    {
     "name": "stderr",
     "output_type": "stream",
     "text": [
      "2018-09-24 15:37:11,753:WARNING:\n",
      "Failed to read header row 6.\n",
      "2008 01 01 2016 07 08\n",
      "\n",
      "Error msg: IndexError('list index out of range',)\n"
     ]
    },
    {
     "name": "stderr",
     "output_type": "stream",
     "text": [
      "2018-09-24 15:37:11,760:WARNING:\n",
      "Failed to read header row 6.\n",
      "2008 01 01 2016 07 08\n",
      "\n",
      "Error msg: IndexError('list index out of range',)\n"
     ]
    },
    {
     "name": "stderr",
     "output_type": "stream",
     "text": [
      "2018-09-24 15:37:11,767:WARNING:\n",
      "Failed to read header row 6.\n",
      "2008 01 01 2016 07 08\n",
      "\n",
      "Error msg: IndexError('list index out of range',)\n"
     ]
    },
    {
     "name": "stderr",
     "output_type": "stream",
     "text": [
      "2018-09-24 15:37:11,774:WARNING:\n",
      "Failed to read header row 6.\n",
      "2008 01 01 2016 07 08\n",
      "\n",
      "Error msg: IndexError('list index out of range',)\n"
     ]
    },
    {
     "name": "stderr",
     "output_type": "stream",
     "text": [
      "2018-09-24 15:37:11,784:WARNING:\n",
      "Failed to read header row 6.\n",
      "2008 01 01 2016 07 08\n",
      "\n",
      "Error msg: IndexError('list index out of range',)\n"
     ]
    },
    {
     "name": "stderr",
     "output_type": "stream",
     "text": [
      "2018-09-24 15:37:11,793:WARNING:\n",
      "Failed to read header row 6.\n",
      "2008 01 01 2016 07 08\n",
      "\n",
      "Error msg: IndexError('list index out of range',)\n"
     ]
    },
    {
     "name": "stderr",
     "output_type": "stream",
     "text": [
      "2018-09-24 15:37:11,799:WARNING:\n",
      "Failed to read header row 6.\n",
      "2008 01 01 2016 07 08\n",
      "\n",
      "Error msg: IndexError('list index out of range',)\n"
     ]
    },
    {
     "name": "stderr",
     "output_type": "stream",
     "text": [
      "2018-09-24 15:37:11,806:WARNING:\n",
      "Failed to read header row 6.\n",
      "2008 01 01 2016 07 08\n",
      "\n",
      "Error msg: IndexError('list index out of range',)\n"
     ]
    },
    {
     "name": "stderr",
     "output_type": "stream",
     "text": [
      "2018-09-24 15:37:11,813:WARNING:\n",
      "Failed to read header row 6.\n",
      "2008 01 01 2016 07 08\n",
      "\n",
      "Error msg: IndexError('list index out of range',)\n"
     ]
    },
    {
     "name": "stderr",
     "output_type": "stream",
     "text": [
      "2018-09-24 15:37:11,820:WARNING:\n",
      "Failed to read header row 6.\n",
      "2008 01 01 2016 07 08\n",
      "\n",
      "Error msg: IndexError('list index out of range',)\n"
     ]
    },
    {
     "name": "stderr",
     "output_type": "stream",
     "text": [
      "2018-09-24 15:37:11,828:WARNING:\n",
      "Failed to read header row 6.\n",
      "2008 01 01 2016 07 08\n",
      "\n",
      "Error msg: IndexError('list index out of range',)\n"
     ]
    },
    {
     "name": "stderr",
     "output_type": "stream",
     "text": [
      "2018-09-24 15:37:11,835:WARNING:\n",
      "Failed to read header row 6.\n",
      "2008 01 01 2016 07 08\n",
      "\n",
      "Error msg: IndexError('list index out of range',)\n"
     ]
    },
    {
     "name": "stderr",
     "output_type": "stream",
     "text": [
      "2018-09-24 15:37:11,842:WARNING:\n",
      "Failed to read header row 6.\n",
      "2008 01 01 2016 07 08\n",
      "\n",
      "Error msg: IndexError('list index out of range',)\n"
     ]
    },
    {
     "name": "stderr",
     "output_type": "stream",
     "text": [
      "2018-09-24 15:37:11,849:WARNING:\n",
      "Failed to read header row 6.\n",
      "2008 01 01 2016 07 08\n",
      "\n",
      "Error msg: IndexError('list index out of range',)\n"
     ]
    },
    {
     "name": "stderr",
     "output_type": "stream",
     "text": [
      "2018-09-24 15:37:11,855:WARNING:\n",
      "Failed to read header row 6.\n",
      "2008 01 01 2016 07 08\n",
      "\n",
      "Error msg: IndexError('list index out of range',)\n"
     ]
    },
    {
     "name": "stderr",
     "output_type": "stream",
     "text": [
      "2018-09-24 15:37:11,861:WARNING:\n",
      "Failed to read header row 6.\n",
      "2008 01 01 2016 07 08\n",
      "\n",
      "Error msg: IndexError('list index out of range',)\n"
     ]
    },
    {
     "name": "stderr",
     "output_type": "stream",
     "text": [
      "2018-09-24 15:37:11,868:WARNING:\n",
      "Failed to read header row 6.\n",
      "2008 01 01 2016 07 08\n",
      "\n",
      "Error msg: IndexError('list index out of range',)\n"
     ]
    },
    {
     "name": "stderr",
     "output_type": "stream",
     "text": [
      "2018-09-24 15:37:11,874:WARNING:\n",
      "Failed to read header row 6.\n",
      "2008 01 01 2016 07 08\n",
      "\n",
      "Error msg: IndexError('list index out of range',)\n"
     ]
    },
    {
     "name": "stderr",
     "output_type": "stream",
     "text": [
      "2018-09-24 15:37:11,882:WARNING:\n",
      "Failed to read header row 6.\n",
      "2008 01 01 2016 07 08\n",
      "\n",
      "Error msg: IndexError('list index out of range',)\n"
     ]
    },
    {
     "name": "stderr",
     "output_type": "stream",
     "text": [
      "2018-09-24 15:37:11,891:WARNING:\n",
      "Failed to read header row 6.\n",
      "2008 01 01 2016 07 08\n",
      "\n",
      "Error msg: IndexError('list index out of range',)\n"
     ]
    },
    {
     "name": "stderr",
     "output_type": "stream",
     "text": [
      "2018-09-24 15:37:11,897:WARNING:\n",
      "Failed to read header row 6.\n",
      "2008 01 01 2016 07 08\n",
      "\n",
      "Error msg: IndexError('list index out of range',)\n"
     ]
    },
    {
     "name": "stderr",
     "output_type": "stream",
     "text": [
      "2018-09-24 15:37:11,903:WARNING:\n",
      "Failed to read header row 6.\n",
      "2008 01 01 2016 07 08\n",
      "\n",
      "Error msg: IndexError('list index out of range',)\n"
     ]
    },
    {
     "name": "stderr",
     "output_type": "stream",
     "text": [
      "2018-09-24 15:37:11,911:WARNING:\n",
      "Failed to read header row 6.\n",
      "2008 01 01 2016 07 08\n",
      "\n",
      "Error msg: IndexError('list index out of range',)\n"
     ]
    },
    {
     "name": "stderr",
     "output_type": "stream",
     "text": [
      "2018-09-24 15:37:11,918:WARNING:\n",
      "Failed to read header row 6.\n",
      "2008 01 01 2016 07 08\n",
      "\n",
      "Error msg: IndexError('list index out of range',)\n"
     ]
    },
    {
     "name": "stderr",
     "output_type": "stream",
     "text": [
      "2018-09-24 15:37:11,924:WARNING:\n",
      "Failed to read header row 6.\n",
      "2008 01 01 2016 07 08\n",
      "\n",
      "Error msg: IndexError('list index out of range',)\n"
     ]
    },
    {
     "name": "stderr",
     "output_type": "stream",
     "text": [
      "2018-09-24 15:37:11,931:WARNING:\n",
      "Failed to read header row 6.\n",
      "2008 01 01 2016 07 08\n",
      "\n",
      "Error msg: IndexError('list index out of range',)\n"
     ]
    },
    {
     "name": "stderr",
     "output_type": "stream",
     "text": [
      "2018-09-24 15:37:11,939:WARNING:\n",
      "Failed to read header row 6.\n",
      "2008 01 01 2016 07 08\n",
      "\n",
      "Error msg: IndexError('list index out of range',)\n"
     ]
    },
    {
     "name": "stderr",
     "output_type": "stream",
     "text": [
      "2018-09-24 15:37:11,947:WARNING:\n",
      "Failed to read header row 6.\n",
      "2008 01 01 2016 07 08\n",
      "\n",
      "Error msg: IndexError('list index out of range',)\n"
     ]
    },
    {
     "name": "stderr",
     "output_type": "stream",
     "text": [
      "2018-09-24 15:37:11,954:WARNING:\n",
      "Failed to read header row 6.\n",
      "2008 01 01 2016 07 08\n",
      "\n",
      "Error msg: IndexError('list index out of range',)\n"
     ]
    },
    {
     "name": "stderr",
     "output_type": "stream",
     "text": [
      "2018-09-24 15:37:11,961:WARNING:\n",
      "Failed to read header row 6.\n",
      "2008 01 01 2016 07 08\n",
      "\n",
      "Error msg: IndexError('list index out of range',)\n"
     ]
    },
    {
     "name": "stderr",
     "output_type": "stream",
     "text": [
      "2018-09-24 15:37:11,968:WARNING:\n",
      "Failed to read header row 6.\n",
      "2008 01 01 2016 07 08\n",
      "\n",
      "Error msg: IndexError('list index out of range',)\n"
     ]
    },
    {
     "name": "stderr",
     "output_type": "stream",
     "text": [
      "2018-09-24 15:37:11,976:WARNING:\n",
      "Failed to read header row 6.\n",
      "2008 01 01 2016 07 08\n",
      "\n",
      "Error msg: IndexError('list index out of range',)\n"
     ]
    },
    {
     "name": "stderr",
     "output_type": "stream",
     "text": [
      "2018-09-24 15:37:11,983:WARNING:\n",
      "Failed to read header row 6.\n",
      "2008 01 01 2016 07 08\n",
      "\n",
      "Error msg: IndexError('list index out of range',)\n"
     ]
    },
    {
     "name": "stderr",
     "output_type": "stream",
     "text": [
      "2018-09-24 15:37:11,990:WARNING:\n",
      "Failed to read header row 6.\n",
      "2008 01 01 2016 07 08\n",
      "\n",
      "Error msg: IndexError('list index out of range',)\n"
     ]
    },
    {
     "name": "stderr",
     "output_type": "stream",
     "text": [
      "2018-09-24 15:37:11,997:WARNING:\n",
      "Failed to read header row 6.\n",
      "2008 01 01 2016 07 08\n",
      "\n",
      "Error msg: IndexError('list index out of range',)\n"
     ]
    },
    {
     "name": "stderr",
     "output_type": "stream",
     "text": [
      "2018-09-24 15:37:12,004:WARNING:\n",
      "Failed to read header row 6.\n",
      "2008 01 01 2016 07 08\n",
      "\n",
      "Error msg: IndexError('list index out of range',)\n"
     ]
    },
    {
     "name": "stderr",
     "output_type": "stream",
     "text": [
      "2018-09-24 15:37:12,011:WARNING:\n",
      "Failed to read header row 6.\n",
      "2008 01 01 2016 07 08\n",
      "\n",
      "Error msg: IndexError('list index out of range',)\n"
     ]
    },
    {
     "name": "stderr",
     "output_type": "stream",
     "text": [
      "2018-09-24 15:37:12,017:WARNING:\n",
      "Failed to read header row 6.\n",
      "2008 01 01 2016 07 08\n",
      "\n",
      "Error msg: IndexError('list index out of range',)\n"
     ]
    },
    {
     "name": "stderr",
     "output_type": "stream",
     "text": [
      "2018-09-24 15:37:12,023:WARNING:\n",
      "Failed to read header row 6.\n",
      "2008 01 01 2016 07 08\n",
      "\n",
      "Error msg: IndexError('list index out of range',)\n"
     ]
    },
    {
     "name": "stderr",
     "output_type": "stream",
     "text": [
      "2018-09-24 15:37:12,030:WARNING:\n",
      "Failed to read header row 6.\n",
      "2008 01 01 2016 07 08\n",
      "\n",
      "Error msg: IndexError('list index out of range',)\n"
     ]
    },
    {
     "name": "stderr",
     "output_type": "stream",
     "text": [
      "2018-09-24 15:37:12,036:WARNING:\n",
      "Failed to read header row 6.\n",
      "2008 01 01 2016 07 08\n",
      "\n",
      "Error msg: IndexError('list index out of range',)\n"
     ]
    },
    {
     "name": "stderr",
     "output_type": "stream",
     "text": [
      "2018-09-24 15:37:12,042:WARNING:\n",
      "Failed to read header row 6.\n",
      "2008 01 01 2016 07 08\n",
      "\n",
      "Error msg: IndexError('list index out of range',)\n"
     ]
    },
    {
     "name": "stderr",
     "output_type": "stream",
     "text": [
      "2018-09-24 15:37:12,049:WARNING:\n",
      "Failed to read header row 6.\n",
      "2008 01 01 2016 07 08\n",
      "\n",
      "Error msg: IndexError('list index out of range',)\n"
     ]
    },
    {
     "name": "stderr",
     "output_type": "stream",
     "text": [
      "2018-09-24 15:37:12,056:WARNING:\n",
      "Failed to read header row 6.\n",
      "2008 01 01 2016 07 08\n",
      "\n",
      "Error msg: IndexError('list index out of range',)\n"
     ]
    },
    {
     "name": "stderr",
     "output_type": "stream",
     "text": [
      "2018-09-24 15:37:12,062:WARNING:\n",
      "Failed to read header row 6.\n",
      "2008 01 01 2016 07 08\n",
      "\n",
      "Error msg: IndexError('list index out of range',)\n"
     ]
    },
    {
     "name": "stderr",
     "output_type": "stream",
     "text": [
      "2018-09-24 15:37:12,070:WARNING:\n",
      "Failed to read header row 6.\n",
      "2008 01 01 2016 07 08\n",
      "\n",
      "Error msg: IndexError('list index out of range',)\n"
     ]
    },
    {
     "name": "stderr",
     "output_type": "stream",
     "text": [
      "2018-09-24 15:37:12,076:WARNING:\n",
      "Failed to read header row 6.\n",
      "2008 01 01 2016 07 08\n",
      "\n",
      "Error msg: IndexError('list index out of range',)\n"
     ]
    },
    {
     "name": "stderr",
     "output_type": "stream",
     "text": [
      "2018-09-24 15:37:12,082:WARNING:\n",
      "Failed to read header row 6.\n",
      "2008 01 01 2016 07 08\n",
      "\n",
      "Error msg: IndexError('list index out of range',)\n"
     ]
    },
    {
     "name": "stderr",
     "output_type": "stream",
     "text": [
      "2018-09-24 15:37:12,088:WARNING:\n",
      "Failed to read header row 6.\n",
      "2008 01 01 2016 07 08\n",
      "\n",
      "Error msg: IndexError('list index out of range',)\n"
     ]
    },
    {
     "name": "stderr",
     "output_type": "stream",
     "text": [
      "2018-09-24 15:37:12,094:WARNING:\n",
      "Failed to read header row 6.\n",
      "2008 01 01 2016 07 08\n",
      "\n",
      "Error msg: IndexError('list index out of range',)\n"
     ]
    },
    {
     "name": "stderr",
     "output_type": "stream",
     "text": [
      "2018-09-24 15:37:12,100:WARNING:\n",
      "Failed to read header row 6.\n",
      "2008 01 01 2016 07 08\n",
      "\n",
      "Error msg: IndexError('list index out of range',)\n"
     ]
    },
    {
     "name": "stderr",
     "output_type": "stream",
     "text": [
      "2018-09-24 15:37:12,107:WARNING:\n",
      "Failed to read header row 6.\n",
      "2008 01 01 2016 07 08\n",
      "\n",
      "Error msg: IndexError('list index out of range',)\n"
     ]
    },
    {
     "name": "stderr",
     "output_type": "stream",
     "text": [
      "2018-09-24 15:37:12,113:WARNING:\n",
      "Failed to read header row 6.\n",
      "2008 01 01 2016 07 08\n",
      "\n",
      "Error msg: IndexError('list index out of range',)\n"
     ]
    },
    {
     "name": "stderr",
     "output_type": "stream",
     "text": [
      "2018-09-24 15:37:12,119:WARNING:\n",
      "Failed to read header row 6.\n",
      "2008 01 01 2016 07 08\n",
      "\n",
      "Error msg: IndexError('list index out of range',)\n"
     ]
    },
    {
     "name": "stderr",
     "output_type": "stream",
     "text": [
      "2018-09-24 15:37:12,125:WARNING:\n",
      "Failed to read header row 6.\n",
      "2008 01 01 2016 07 08\n",
      "\n",
      "Error msg: IndexError('list index out of range',)\n"
     ]
    },
    {
     "name": "stderr",
     "output_type": "stream",
     "text": [
      "2018-09-24 15:37:12,132:WARNING:\n",
      "Failed to read header row 6.\n",
      "2008 01 01 2016 07 08\n",
      "\n",
      "Error msg: IndexError('list index out of range',)\n"
     ]
    },
    {
     "name": "stderr",
     "output_type": "stream",
     "text": [
      "2018-09-24 15:37:12,138:WARNING:\n",
      "Failed to read header row 6.\n",
      "2008 01 01 2016 07 08\n",
      "\n",
      "Error msg: IndexError('list index out of range',)\n"
     ]
    },
    {
     "name": "stderr",
     "output_type": "stream",
     "text": [
      "2018-09-24 15:37:12,145:WARNING:\n",
      "Failed to read header row 6.\n",
      "2008 01 01 2016 07 08\n",
      "\n",
      "Error msg: IndexError('list index out of range',)\n"
     ]
    },
    {
     "name": "stderr",
     "output_type": "stream",
     "text": [
      "2018-09-24 15:37:12,152:WARNING:\n",
      "Failed to read header row 6.\n",
      "2008 01 01 2016 07 08\n",
      "\n",
      "Error msg: IndexError('list index out of range',)\n"
     ]
    },
    {
     "name": "stderr",
     "output_type": "stream",
     "text": [
      "2018-09-24 15:37:12,159:WARNING:\n",
      "Failed to read header row 6.\n",
      "2008 01 01 2016 07 08\n",
      "\n",
      "Error msg: IndexError('list index out of range',)\n"
     ]
    },
    {
     "name": "stderr",
     "output_type": "stream",
     "text": [
      "2018-09-24 15:37:12,165:WARNING:\n",
      "Failed to read header row 6.\n",
      "2008 01 01 2016 07 08\n",
      "\n",
      "Error msg: IndexError('list index out of range',)\n"
     ]
    },
    {
     "name": "stderr",
     "output_type": "stream",
     "text": [
      "2018-09-24 15:37:12,172:WARNING:\n",
      "Failed to read header row 6.\n",
      "2008 01 01 2016 07 08\n",
      "\n",
      "Error msg: IndexError('list index out of range',)\n"
     ]
    },
    {
     "name": "stderr",
     "output_type": "stream",
     "text": [
      "2018-09-24 15:37:12,178:WARNING:\n",
      "Failed to read header row 6.\n",
      "2008 01 01 2016 07 08\n",
      "\n",
      "Error msg: IndexError('list index out of range',)\n"
     ]
    },
    {
     "name": "stderr",
     "output_type": "stream",
     "text": [
      "2018-09-24 15:37:12,184:WARNING:\n",
      "Failed to read header row 6.\n",
      "2008 01 01 2016 07 08\n",
      "\n",
      "Error msg: IndexError('list index out of range',)"
     ]
    },
    {
     "name": "stderr",
     "output_type": "stream",
     "text": [
      "\n"
     ]
    },
    {
     "name": "stderr",
     "output_type": "stream",
     "text": [
      "2018-09-24 15:37:12,191:WARNING:\n",
      "Failed to read header row 6.\n",
      "2008 01 01 2016 07 08\n",
      "\n",
      "Error msg: IndexError('list index out of range',)\n"
     ]
    },
    {
     "name": "stderr",
     "output_type": "stream",
     "text": [
      "2018-09-24 15:37:12,196:WARNING:\n",
      "Failed to read header row 6.\n",
      "2008 01 01 2016 07 08\n",
      "\n",
      "Error msg: IndexError('list index out of range',)\n"
     ]
    },
    {
     "name": "stderr",
     "output_type": "stream",
     "text": [
      "2018-09-24 15:37:12,203:WARNING:\n",
      "Failed to read header row 6.\n",
      "2008 01 01 2016 07 08\n",
      "\n",
      "Error msg: IndexError('list index out of range',)\n"
     ]
    },
    {
     "name": "stderr",
     "output_type": "stream",
     "text": [
      "2018-09-24 15:37:12,209:WARNING:\n",
      "Failed to read header row 6.\n",
      "2008 01 01 2016 07 08\n",
      "\n",
      "Error msg: IndexError('list index out of range',)\n"
     ]
    },
    {
     "name": "stderr",
     "output_type": "stream",
     "text": [
      "2018-09-24 15:37:12,215:WARNING:\n",
      "Failed to read header row 6.\n",
      "2008 01 01 2016 07 08\n",
      "\n",
      "Error msg: IndexError('list index out of range',)\n"
     ]
    },
    {
     "name": "stderr",
     "output_type": "stream",
     "text": [
      "2018-09-24 15:37:12,222:WARNING:\n",
      "Failed to read header row 6.\n",
      "2008 01 01 2016 07 08\n",
      "\n",
      "Error msg: IndexError('list index out of range',)\n"
     ]
    },
    {
     "name": "stderr",
     "output_type": "stream",
     "text": [
      "2018-09-24 15:37:12,229:WARNING:\n",
      "Failed to read header row 6.\n",
      "2008 01 01 2016 07 08\n",
      "\n",
      "Error msg: IndexError('list index out of range',)\n"
     ]
    },
    {
     "name": "stderr",
     "output_type": "stream",
     "text": [
      "2018-09-24 15:37:12,235:WARNING:\n",
      "Failed to read header row 6.\n",
      "2008 01 01 2016 07 08\n",
      "\n",
      "Error msg: IndexError('list index out of range',)\n"
     ]
    },
    {
     "name": "stderr",
     "output_type": "stream",
     "text": [
      "2018-09-24 15:37:12,242:WARNING:\n",
      "Failed to read header row 6.\n",
      "2008 01 01 2016 07 08\n",
      "\n",
      "Error msg: IndexError('list index out of range',)\n"
     ]
    },
    {
     "name": "stderr",
     "output_type": "stream",
     "text": [
      "2018-09-24 15:37:12,249:WARNING:\n",
      "Failed to read header row 6.\n",
      "2008 01 01 2016 07 08\n",
      "\n",
      "Error msg: IndexError('list index out of range',)\n"
     ]
    },
    {
     "name": "stderr",
     "output_type": "stream",
     "text": [
      "2018-09-24 15:37:12,255:WARNING:\n",
      "Failed to read header row 6.\n",
      "2008 01 01 2016 07 08\n",
      "\n",
      "Error msg: IndexError('list index out of range',)\n"
     ]
    },
    {
     "name": "stderr",
     "output_type": "stream",
     "text": [
      "2018-09-24 15:37:12,262:WARNING:\n",
      "Failed to read header row 6.\n",
      "2008 01 01 2016 07 08\n",
      "\n",
      "Error msg: IndexError('list index out of range',)\n"
     ]
    },
    {
     "name": "stderr",
     "output_type": "stream",
     "text": [
      "2018-09-24 15:37:12,269:WARNING:\n",
      "Failed to read header row 6.\n",
      "2008 01 01 2016 07 08\n",
      "\n",
      "Error msg: IndexError('list index out of range',)\n"
     ]
    },
    {
     "name": "stderr",
     "output_type": "stream",
     "text": [
      "2018-09-24 15:37:12,276:WARNING:\n",
      "Failed to read header row 6.\n",
      "2008 01 01 2016 07 08\n",
      "\n",
      "Error msg: IndexError('list index out of range',)\n"
     ]
    },
    {
     "name": "stderr",
     "output_type": "stream",
     "text": [
      "2018-09-24 15:37:12,283:WARNING:\n",
      "Failed to read header row 6.\n",
      "2008 01 01 2016 07 08\n",
      "\n",
      "Error msg: IndexError('list index out of range',)\n"
     ]
    },
    {
     "name": "stderr",
     "output_type": "stream",
     "text": [
      "2018-09-24 15:37:12,290:WARNING:\n",
      "Failed to read header row 6.\n",
      "2008 01 01 2016 07 08\n",
      "\n",
      "Error msg: IndexError('list index out of range',)\n"
     ]
    },
    {
     "name": "stderr",
     "output_type": "stream",
     "text": [
      "2018-09-24 15:37:12,297:WARNING:\n",
      "Failed to read header row 6.\n",
      "2008 01 01 2016 07 08\n",
      "\n",
      "Error msg: IndexError('list index out of range',)\n"
     ]
    },
    {
     "name": "stderr",
     "output_type": "stream",
     "text": [
      "2018-09-24 15:37:12,304:WARNING:\n",
      "Failed to read header row 6.\n",
      "2008 01 01 2016 07 08\n",
      "\n",
      "Error msg: IndexError('list index out of range',)\n"
     ]
    },
    {
     "name": "stderr",
     "output_type": "stream",
     "text": [
      "2018-09-24 15:37:12,311:WARNING:\n",
      "Failed to read header row 6.\n",
      "2008 01 01 2016 07 08\n",
      "\n",
      "Error msg: IndexError('list index out of range',)\n"
     ]
    },
    {
     "name": "stderr",
     "output_type": "stream",
     "text": [
      "2018-09-24 15:37:12,318:WARNING:\n",
      "Failed to read header row 6.\n",
      "2008 01 01 2016 07 08\n",
      "\n",
      "Error msg: IndexError('list index out of range',)\n"
     ]
    },
    {
     "name": "stderr",
     "output_type": "stream",
     "text": [
      "2018-09-24 15:37:12,325:WARNING:\n",
      "Failed to read header row 6.\n",
      "2008 01 01 2016 07 08\n",
      "\n",
      "Error msg: IndexError('list index out of range',)\n"
     ]
    },
    {
     "name": "stderr",
     "output_type": "stream",
     "text": [
      "2018-09-24 15:37:12,332:WARNING:\n",
      "Failed to read header row 6.\n",
      "2008 01 01 2016 07 08\n",
      "\n",
      "Error msg: IndexError('list index out of range',)\n"
     ]
    },
    {
     "name": "stderr",
     "output_type": "stream",
     "text": [
      "2018-09-24 15:37:12,339:WARNING:\n",
      "Failed to read header row 6.\n",
      "2008 01 01 2016 07 08\n",
      "\n",
      "Error msg: IndexError('list index out of range',)\n"
     ]
    },
    {
     "name": "stderr",
     "output_type": "stream",
     "text": [
      "2018-09-24 15:37:12,346:WARNING:\n",
      "Failed to read header row 6.\n",
      "2008 01 01 2016 07 08\n",
      "\n",
      "Error msg: IndexError('list index out of range',)\n"
     ]
    },
    {
     "name": "stderr",
     "output_type": "stream",
     "text": [
      "2018-09-24 15:37:12,353:WARNING:\n",
      "Failed to read header row 6.\n",
      "2008 01 01 2016 07 08\n",
      "\n",
      "Error msg: IndexError('list index out of range',)\n"
     ]
    },
    {
     "name": "stderr",
     "output_type": "stream",
     "text": [
      "2018-09-24 15:37:12,361:WARNING:\n",
      "Failed to read header row 6.\n",
      "2008 01 01 2016 07 08\n",
      "\n",
      "Error msg: IndexError('list index out of range',)\n"
     ]
    },
    {
     "name": "stderr",
     "output_type": "stream",
     "text": [
      "2018-09-24 15:37:12,368:WARNING:\n",
      "Failed to read header row 6.\n",
      "2008 01 01 2016 07 08\n",
      "\n",
      "Error msg: IndexError('list index out of range',)\n"
     ]
    },
    {
     "name": "stderr",
     "output_type": "stream",
     "text": [
      "2018-09-24 15:37:12,374:WARNING:\n",
      "Failed to read header row 6.\n",
      "2008 01 01 2016 07 08\n",
      "\n",
      "Error msg: IndexError('list index out of range',)\n"
     ]
    },
    {
     "name": "stderr",
     "output_type": "stream",
     "text": [
      "2018-09-24 15:37:12,383:WARNING:\n",
      "Failed to read header row 6.\n",
      "2008 01 01 2016 07 08\n",
      "\n",
      "Error msg: IndexError('list index out of range',)\n"
     ]
    },
    {
     "name": "stderr",
     "output_type": "stream",
     "text": [
      "2018-09-24 15:37:12,390:WARNING:\n",
      "Failed to read header row 6.\n",
      "2008 01 01 2016 07 08\n",
      "\n",
      "Error msg: IndexError('list index out of range',)\n"
     ]
    },
    {
     "name": "stderr",
     "output_type": "stream",
     "text": [
      "2018-09-24 15:37:12,397:WARNING:\n",
      "Failed to read header row 6.\n",
      "2008 01 01 2016 07 08\n",
      "\n",
      "Error msg: IndexError('list index out of range',)\n"
     ]
    },
    {
     "name": "stderr",
     "output_type": "stream",
     "text": [
      "2018-09-24 15:37:12,404:WARNING:\n",
      "Failed to read header row 6.\n",
      "2008 01 01 2016 07 08\n",
      "\n",
      "Error msg: IndexError('list index out of range',)\n"
     ]
    },
    {
     "name": "stderr",
     "output_type": "stream",
     "text": [
      "2018-09-24 15:37:12,411:WARNING:\n",
      "Failed to read header row 6.\n",
      "2008 01 01 2016 07 08\n",
      "\n",
      "Error msg: IndexError('list index out of range',)\n"
     ]
    },
    {
     "name": "stderr",
     "output_type": "stream",
     "text": [
      "2018-09-24 15:37:12,418:WARNING:\n",
      "Failed to read header row 6.\n",
      "2008 01 01 2016 07 08\n",
      "\n",
      "Error msg: IndexError('list index out of range',)\n"
     ]
    },
    {
     "name": "stderr",
     "output_type": "stream",
     "text": [
      "2018-09-24 15:37:12,424:WARNING:\n",
      "Failed to read header row 6.\n",
      "2008 01 01 2016 07 08\n",
      "\n",
      "Error msg: IndexError('list index out of range',)\n"
     ]
    },
    {
     "name": "stderr",
     "output_type": "stream",
     "text": [
      "2018-09-24 15:37:12,430:WARNING:\n",
      "Failed to read header row 6.\n",
      "2008 01 01 2016 07 08\n",
      "\n",
      "Error msg: IndexError('list index out of range',)\n"
     ]
    },
    {
     "name": "stderr",
     "output_type": "stream",
     "text": [
      "2018-09-24 15:37:12,437:WARNING:\n",
      "Failed to read header row 6.\n",
      "2008 01 01 2016 07 08\n",
      "\n",
      "Error msg: IndexError('list index out of range',)\n"
     ]
    },
    {
     "name": "stderr",
     "output_type": "stream",
     "text": [
      "2018-09-24 15:37:12,443:WARNING:\n",
      "Failed to read header row 6.\n",
      "2008 01 01 2016 07 08\n",
      "\n",
      "Error msg: IndexError('list index out of range',)\n"
     ]
    },
    {
     "name": "stderr",
     "output_type": "stream",
     "text": [
      "2018-09-24 15:37:12,449:WARNING:\n",
      "Failed to read header row 6.\n",
      "2008 01 01 2016 07 08\n",
      "\n",
      "Error msg: IndexError('list index out of range',)\n"
     ]
    },
    {
     "name": "stderr",
     "output_type": "stream",
     "text": [
      "2018-09-24 15:37:12,455:WARNING:\n",
      "Failed to read header row 6.\n",
      "2008 01 01 2016 07 08\n",
      "\n",
      "Error msg: IndexError('list index out of range',)\n"
     ]
    },
    {
     "name": "stderr",
     "output_type": "stream",
     "text": [
      "2018-09-24 15:37:12,462:WARNING:\n",
      "Failed to read header row 6.\n",
      "2008 01 01 2016 07 08\n",
      "\n",
      "Error msg: IndexError('list index out of range',)\n"
     ]
    },
    {
     "name": "stderr",
     "output_type": "stream",
     "text": [
      "2018-09-24 15:37:12,469:WARNING:\n",
      "Failed to read header row 6.\n",
      "2008 01 01 2016 07 08\n",
      "\n",
      "Error msg: IndexError('list index out of range',)\n"
     ]
    },
    {
     "name": "stderr",
     "output_type": "stream",
     "text": [
      "2018-09-24 15:37:12,476:WARNING:\n",
      "Failed to read header row 6.\n",
      "2008 01 01 2016 07 08\n",
      "\n",
      "Error msg: IndexError('list index out of range',)\n"
     ]
    },
    {
     "name": "stderr",
     "output_type": "stream",
     "text": [
      "2018-09-24 15:37:12,483:WARNING:\n",
      "Failed to read header row 6.\n",
      "2008 01 01 2016 07 08\n",
      "\n",
      "Error msg: IndexError('list index out of range',)\n"
     ]
    },
    {
     "name": "stderr",
     "output_type": "stream",
     "text": [
      "2018-09-24 15:37:12,490:WARNING:\n",
      "Failed to read header row 6.\n",
      "2008 01 01 2016 07 08\n",
      "\n",
      "Error msg: IndexError('list index out of range',)\n"
     ]
    },
    {
     "name": "stderr",
     "output_type": "stream",
     "text": [
      "2018-09-24 15:37:12,497:WARNING:\n",
      "Failed to read header row 6.\n",
      "2008 01 01 2016 07 08\n",
      "\n",
      "Error msg: IndexError('list index out of range',)\n"
     ]
    },
    {
     "name": "stderr",
     "output_type": "stream",
     "text": [
      "2018-09-24 15:37:12,503:WARNING:\n",
      "Failed to read header row 6.\n",
      "2008 01 01 2016 07 08\n",
      "\n",
      "Error msg: IndexError('list index out of range',)\n"
     ]
    },
    {
     "name": "stderr",
     "output_type": "stream",
     "text": [
      "2018-09-24 15:37:12,511:WARNING:\n",
      "Failed to read header row 6.\n",
      "2008 01 01 2016 07 08\n",
      "\n",
      "Error msg: IndexError('list index out of range',)\n"
     ]
    },
    {
     "name": "stderr",
     "output_type": "stream",
     "text": [
      "2018-09-24 15:37:12,518:WARNING:\n",
      "Failed to read header row 6.\n",
      "2008 01 01 2016 07 08\n",
      "\n",
      "Error msg: IndexError('list index out of range',)\n"
     ]
    },
    {
     "name": "stderr",
     "output_type": "stream",
     "text": [
      "2018-09-24 15:37:12,525:WARNING:\n",
      "Failed to read header row 6.\n",
      "2008 01 01 2016 07 08\n",
      "\n",
      "Error msg: IndexError('list index out of range',)\n"
     ]
    },
    {
     "name": "stderr",
     "output_type": "stream",
     "text": [
      "2018-09-24 15:37:12,532:WARNING:\n",
      "Failed to read header row 6.\n",
      "2008 01 01 2016 07 08\n",
      "\n",
      "Error msg: IndexError('list index out of range',)\n"
     ]
    },
    {
     "name": "stderr",
     "output_type": "stream",
     "text": [
      "2018-09-24 15:37:12,538:WARNING:\n",
      "Failed to read header row 6.\n",
      "2008 01 01 2016 07 08\n",
      "\n",
      "Error msg: IndexError('list index out of range',)\n"
     ]
    },
    {
     "name": "stderr",
     "output_type": "stream",
     "text": [
      "2018-09-24 15:37:12,545:WARNING:\n",
      "Failed to read header row 6.\n",
      "2008 01 01 2016 07 08\n",
      "\n",
      "Error msg: IndexError('list index out of range',)\n"
     ]
    },
    {
     "name": "stderr",
     "output_type": "stream",
     "text": [
      "2018-09-24 15:37:12,551:WARNING:\n",
      "Failed to read header row 6.\n",
      "2008 01 01 2016 07 08\n",
      "\n",
      "Error msg: IndexError('list index out of range',)\n"
     ]
    },
    {
     "name": "stderr",
     "output_type": "stream",
     "text": [
      "2018-09-24 15:37:12,558:WARNING:\n",
      "Failed to read header row 6.\n",
      "2008 01 01 2016 07 08\n",
      "\n",
      "Error msg: IndexError('list index out of range',)\n"
     ]
    },
    {
     "name": "stderr",
     "output_type": "stream",
     "text": [
      "2018-09-24 15:37:12,564:WARNING:\n",
      "Failed to read header row 6.\n",
      "2008 01 01 2016 07 08\n",
      "\n",
      "Error msg: IndexError('list index out of range',)\n"
     ]
    },
    {
     "name": "stderr",
     "output_type": "stream",
     "text": [
      "2018-09-24 15:37:12,570:WARNING:\n",
      "Failed to read header row 6.\n",
      "2008 01 01 2016 07 08\n",
      "\n",
      "Error msg: IndexError('list index out of range',)\n"
     ]
    },
    {
     "name": "stderr",
     "output_type": "stream",
     "text": [
      "2018-09-24 15:37:12,577:WARNING:\n",
      "Failed to read header row 6.\n",
      "2008 01 01 2016 07 08\n",
      "\n",
      "Error msg: IndexError('list index out of range',)\n"
     ]
    },
    {
     "name": "stderr",
     "output_type": "stream",
     "text": [
      "2018-09-24 15:37:12,584:WARNING:\n",
      "Failed to read header row 6.\n",
      "2008 01 01 2016 07 08\n",
      "\n",
      "Error msg: IndexError('list index out of range',)\n"
     ]
    },
    {
     "name": "stderr",
     "output_type": "stream",
     "text": [
      "2018-09-24 15:37:12,590:WARNING:\n",
      "Failed to read header row 6.\n",
      "2008 01 01 2016 07 08\n",
      "\n",
      "Error msg: IndexError('list index out of range',)\n"
     ]
    },
    {
     "name": "stderr",
     "output_type": "stream",
     "text": [
      "2018-09-24 15:37:12,596:WARNING:\n",
      "Failed to read header row 6.\n",
      "2008 01 01 2016 07 08\n",
      "\n",
      "Error msg: IndexError('list index out of range',)\n"
     ]
    },
    {
     "name": "stderr",
     "output_type": "stream",
     "text": [
      "2018-09-24 15:37:12,607:WARNING:\n",
      "Failed to read header row 6.\n",
      "2008 01 01 2016 07 08\n",
      "\n",
      "Error msg: IndexError('list index out of range',)\n"
     ]
    },
    {
     "name": "stderr",
     "output_type": "stream",
     "text": [
      "2018-09-24 15:37:12,615:WARNING:\n",
      "Failed to read header row 6.\n",
      "2008 01 01 2016 07 08\n",
      "\n",
      "Error msg: IndexError('list index out of range',)\n"
     ]
    },
    {
     "name": "stderr",
     "output_type": "stream",
     "text": [
      "2018-09-24 15:37:12,622:WARNING:\n",
      "Failed to read header row 6.\n",
      "2008 01 01 2016 07 08\n",
      "\n",
      "Error msg: IndexError('list index out of range',)\n"
     ]
    },
    {
     "name": "stderr",
     "output_type": "stream",
     "text": [
      "2018-09-24 15:37:12,633:WARNING:\n",
      "Failed to read header row 6.\n",
      "2008 01 01 2016 07 08\n",
      "\n",
      "Error msg: IndexError('list index out of range',)\n"
     ]
    },
    {
     "name": "stderr",
     "output_type": "stream",
     "text": [
      "2018-09-24 15:37:12,640:WARNING:\n",
      "Failed to read header row 6.\n",
      "2008 01 01 2016 07 08\n",
      "\n",
      "Error msg: IndexError('list index out of range',)\n"
     ]
    },
    {
     "name": "stderr",
     "output_type": "stream",
     "text": [
      "2018-09-24 15:37:12,646:WARNING:\n",
      "Failed to read header row 6.\n",
      "2008 01 01 2016 07 08\n",
      "\n",
      "Error msg: IndexError('list index out of range',)\n"
     ]
    },
    {
     "name": "stderr",
     "output_type": "stream",
     "text": [
      "2018-09-24 15:37:12,653:WARNING:\n",
      "Failed to read header row 6.\n",
      "2008 01 01 2016 07 08\n",
      "\n",
      "Error msg: IndexError('list index out of range',)\n"
     ]
    },
    {
     "name": "stderr",
     "output_type": "stream",
     "text": [
      "2018-09-24 15:37:12,660:WARNING:\n",
      "Failed to read header row 6.\n",
      "2008 01 01 2016 07 08\n",
      "\n",
      "Error msg: IndexError('list index out of range',)\n"
     ]
    },
    {
     "name": "stderr",
     "output_type": "stream",
     "text": [
      "2018-09-24 15:37:12,666:WARNING:\n",
      "Failed to read header row 6.\n",
      "2008 01 01 2016 07 08\n",
      "\n",
      "Error msg: IndexError('list index out of range',)\n"
     ]
    },
    {
     "name": "stderr",
     "output_type": "stream",
     "text": [
      "2018-09-24 15:37:12,673:WARNING:\n",
      "Failed to read header row 6.\n",
      "2008 01 01 2016 07 08\n",
      "\n",
      "Error msg: IndexError('list index out of range',)\n"
     ]
    },
    {
     "name": "stderr",
     "output_type": "stream",
     "text": [
      "2018-09-24 15:37:12,680:WARNING:\n",
      "Failed to read header row 6.\n",
      "2008 01 01 2016 07 08\n",
      "\n",
      "Error msg: IndexError('list index out of range',)\n"
     ]
    },
    {
     "name": "stderr",
     "output_type": "stream",
     "text": [
      "2018-09-24 15:37:12,687:WARNING:\n",
      "Failed to read header row 6.\n",
      "2008 01 01 2016 07 08\n",
      "\n",
      "Error msg: IndexError('list index out of range',)\n"
     ]
    },
    {
     "name": "stderr",
     "output_type": "stream",
     "text": [
      "2018-09-24 15:37:12,693:WARNING:\n",
      "Failed to read header row 6.\n",
      "2008 01 01 2016 07 08\n",
      "\n",
      "Error msg: IndexError('list index out of range',)\n"
     ]
    },
    {
     "name": "stderr",
     "output_type": "stream",
     "text": [
      "2018-09-24 15:37:12,700:WARNING:\n",
      "Failed to read header row 6.\n",
      "2008 01 01 2016 07 08\n",
      "\n",
      "Error msg: IndexError('list index out of range',)\n"
     ]
    },
    {
     "name": "stderr",
     "output_type": "stream",
     "text": [
      "2018-09-24 15:37:12,707:WARNING:\n",
      "Failed to read header row 6.\n",
      "2008 01 01 2016 07 08\n",
      "\n",
      "Error msg: IndexError('list index out of range',)\n"
     ]
    },
    {
     "name": "stderr",
     "output_type": "stream",
     "text": [
      "2018-09-24 15:37:12,713:WARNING:\n",
      "Failed to read header row 6.\n",
      "2008 01 01 2016 07 08\n",
      "\n",
      "Error msg: IndexError('list index out of range',)\n"
     ]
    },
    {
     "name": "stderr",
     "output_type": "stream",
     "text": [
      "2018-09-24 15:37:12,720:WARNING:\n",
      "Failed to read header row 6.\n",
      "2008 01 01 2016 07 08\n",
      "\n",
      "Error msg: IndexError('list index out of range',)\n"
     ]
    },
    {
     "name": "stderr",
     "output_type": "stream",
     "text": [
      "2018-09-24 15:37:12,727:WARNING:\n",
      "Failed to read header row 6.\n",
      "2008 01 01 2016 07 08\n",
      "\n",
      "Error msg: IndexError('list index out of range',)\n"
     ]
    },
    {
     "name": "stderr",
     "output_type": "stream",
     "text": [
      "2018-09-24 15:37:12,734:WARNING:\n",
      "Failed to read header row 6.\n",
      "2008 01 01 2016 07 08\n",
      "\n",
      "Error msg: IndexError('list index out of range',)\n"
     ]
    },
    {
     "name": "stderr",
     "output_type": "stream",
     "text": [
      "2018-09-24 15:37:12,740:WARNING:\n",
      "Failed to read header row 6.\n",
      "2008 01 01 2016 07 08\n",
      "\n",
      "Error msg: IndexError('list index out of range',)\n"
     ]
    },
    {
     "name": "stderr",
     "output_type": "stream",
     "text": [
      "2018-09-24 15:37:12,747:WARNING:\n",
      "Failed to read header row 6.\n",
      "2008 01 01 2016 07 08\n",
      "\n",
      "Error msg: IndexError('list index out of range',)\n"
     ]
    },
    {
     "name": "stderr",
     "output_type": "stream",
     "text": [
      "2018-09-24 15:37:12,753:WARNING:\n",
      "Failed to read header row 6.\n",
      "2008 01 01 2016 07 08\n",
      "\n",
      "Error msg: IndexError('list index out of range',)\n"
     ]
    },
    {
     "name": "stderr",
     "output_type": "stream",
     "text": [
      "2018-09-24 15:37:12,759:WARNING:\n",
      "Failed to read header row 6.\n",
      "2008 01 01 2016 07 08\n",
      "\n",
      "Error msg: IndexError('list index out of range',)\n"
     ]
    },
    {
     "name": "stderr",
     "output_type": "stream",
     "text": [
      "2018-09-24 15:37:12,766:WARNING:\n",
      "Failed to read header row 6.\n",
      "2008 01 01 2016 07 08\n",
      "\n",
      "Error msg: IndexError('list index out of range',)\n"
     ]
    },
    {
     "name": "stderr",
     "output_type": "stream",
     "text": [
      "2018-09-24 15:37:12,773:WARNING:\n",
      "Failed to read header row 6.\n",
      "2008 01 01 2016 07 08\n",
      "\n",
      "Error msg: IndexError('list index out of range',)\n"
     ]
    },
    {
     "name": "stderr",
     "output_type": "stream",
     "text": [
      "2018-09-24 15:37:12,779:WARNING:\n",
      "Failed to read header row 6.\n",
      "2008 01 01 2016 07 08\n",
      "\n",
      "Error msg: IndexError('list index out of range',)\n"
     ]
    },
    {
     "name": "stderr",
     "output_type": "stream",
     "text": [
      "2018-09-24 15:37:12,786:WARNING:\n",
      "Failed to read header row 6.\n",
      "2008 01 01 2016 07 08\n",
      "\n",
      "Error msg: IndexError('list index out of range',)\n"
     ]
    },
    {
     "name": "stderr",
     "output_type": "stream",
     "text": [
      "2018-09-24 15:37:12,793:WARNING:\n",
      "Failed to read header row 6.\n",
      "2008 01 01 2016 07 08\n",
      "\n",
      "Error msg: IndexError('list index out of range',)\n"
     ]
    },
    {
     "name": "stderr",
     "output_type": "stream",
     "text": [
      "2018-09-24 15:37:12,799:WARNING:\n",
      "Failed to read header row 6.\n",
      "2008 01 01 2016 07 08\n",
      "\n",
      "Error msg: IndexError('list index out of range',)\n"
     ]
    },
    {
     "name": "stderr",
     "output_type": "stream",
     "text": [
      "2018-09-24 15:37:12,806:WARNING:\n",
      "Failed to read header row 6.\n",
      "2008 01 01 2016 07 08\n",
      "\n",
      "Error msg: IndexError('list index out of range',)\n"
     ]
    },
    {
     "name": "stderr",
     "output_type": "stream",
     "text": [
      "2018-09-24 15:37:12,813:WARNING:\n",
      "Failed to read header row 6.\n",
      "2008 01 01 2016 07 08\n",
      "\n",
      "Error msg: IndexError('list index out of range',)\n"
     ]
    },
    {
     "name": "stderr",
     "output_type": "stream",
     "text": [
      "2018-09-24 15:37:12,819:WARNING:\n",
      "Failed to read header row 6.\n",
      "2008 01 01 2016 07 08\n",
      "\n",
      "Error msg: IndexError('list index out of range',)\n"
     ]
    },
    {
     "name": "stderr",
     "output_type": "stream",
     "text": [
      "2018-09-24 15:37:12,826:WARNING:\n",
      "Failed to read header row 6.\n",
      "2008 01 01 2016 07 08\n",
      "\n",
      "Error msg: IndexError('list index out of range',)\n"
     ]
    },
    {
     "name": "stderr",
     "output_type": "stream",
     "text": [
      "2018-09-24 15:37:12,832:WARNING:\n",
      "Failed to read header row 6.\n",
      "2008 01 01 2016 07 08\n",
      "\n",
      "Error msg: IndexError('list index out of range',)\n"
     ]
    },
    {
     "name": "stderr",
     "output_type": "stream",
     "text": [
      "2018-09-24 15:37:12,839:WARNING:\n",
      "Failed to read header row 6.\n",
      "2008 01 01 2016 07 08\n",
      "\n",
      "Error msg: IndexError('list index out of range',)\n"
     ]
    },
    {
     "name": "stderr",
     "output_type": "stream",
     "text": [
      "2018-09-24 15:37:12,845:WARNING:\n",
      "Failed to read header row 6.\n",
      "2008 01 01 2016 07 08\n",
      "\n",
      "Error msg: IndexError('list index out of range',)\n"
     ]
    },
    {
     "name": "stderr",
     "output_type": "stream",
     "text": [
      "2018-09-24 15:37:12,852:WARNING:\n",
      "Failed to read header row 6.\n",
      "2008 01 01 2016 07 08\n",
      "\n",
      "Error msg: IndexError('list index out of range',)\n"
     ]
    },
    {
     "name": "stderr",
     "output_type": "stream",
     "text": [
      "2018-09-24 15:37:12,858:WARNING:\n",
      "Failed to read header row 6.\n",
      "2008 01 01 2016 07 08\n",
      "\n",
      "Error msg: IndexError('list index out of range',)\n"
     ]
    },
    {
     "name": "stderr",
     "output_type": "stream",
     "text": [
      "2018-09-24 15:37:12,865:WARNING:\n",
      "Failed to read header row 6.\n",
      "2008 01 01 2016 07 08\n",
      "\n",
      "Error msg: IndexError('list index out of range',)\n"
     ]
    },
    {
     "name": "stderr",
     "output_type": "stream",
     "text": [
      "2018-09-24 15:37:12,871:WARNING:\n",
      "Failed to read header row 6.\n",
      "2008 01 01 2016 07 08\n",
      "\n",
      "Error msg: IndexError('list index out of range',)\n"
     ]
    },
    {
     "name": "stderr",
     "output_type": "stream",
     "text": [
      "2018-09-24 15:37:12,878:WARNING:\n",
      "Failed to read header row 6.\n",
      "2008 01 01 2016 07 08\n",
      "\n",
      "Error msg: IndexError('list index out of range',)\n"
     ]
    },
    {
     "name": "stderr",
     "output_type": "stream",
     "text": [
      "2018-09-24 15:37:12,887:WARNING:\n",
      "Failed to read header row 6.\n",
      "2008 01 01 2016 07 08\n",
      "\n",
      "Error msg: IndexError('list index out of range',)\n"
     ]
    },
    {
     "name": "stderr",
     "output_type": "stream",
     "text": [
      "2018-09-24 15:37:12,898:WARNING:\n",
      "Failed to read header row 6.\n",
      "2008 01 01 2016 07 08\n",
      "\n",
      "Error msg: IndexError('list index out of range',)\n"
     ]
    },
    {
     "name": "stderr",
     "output_type": "stream",
     "text": [
      "2018-09-24 15:37:12,905:WARNING:\n",
      "Failed to read header row 6.\n",
      "2008 01 01 2016 07 08\n",
      "\n",
      "Error msg: IndexError('list index out of range',)\n"
     ]
    },
    {
     "name": "stderr",
     "output_type": "stream",
     "text": [
      "2018-09-24 15:37:12,913:WARNING:\n",
      "Failed to read header row 6.\n",
      "2008 01 01 2016 07 08\n",
      "\n",
      "Error msg: IndexError('list index out of range',)\n"
     ]
    },
    {
     "name": "stderr",
     "output_type": "stream",
     "text": [
      "2018-09-24 15:37:12,920:WARNING:\n",
      "Failed to read header row 6.\n",
      "2008 01 01 2016 07 08\n",
      "\n",
      "Error msg: IndexError('list index out of range',)\n"
     ]
    },
    {
     "name": "stderr",
     "output_type": "stream",
     "text": [
      "2018-09-24 15:37:12,928:WARNING:\n",
      "Failed to read header row 6.\n",
      "2008 01 01 2016 07 08\n",
      "\n",
      "Error msg: IndexError('list index out of range',)\n"
     ]
    },
    {
     "name": "stderr",
     "output_type": "stream",
     "text": [
      "2018-09-24 15:37:12,935:WARNING:\n",
      "Failed to read header row 6.\n",
      "2008 01 01 2016 07 08\n",
      "\n",
      "Error msg: IndexError('list index out of range',)\n"
     ]
    },
    {
     "name": "stderr",
     "output_type": "stream",
     "text": [
      "2018-09-24 15:37:12,941:WARNING:\n",
      "Failed to read header row 6.\n",
      "2008 01 01 2016 07 08\n",
      "\n",
      "Error msg: IndexError('list index out of range',)\n"
     ]
    },
    {
     "name": "stderr",
     "output_type": "stream",
     "text": [
      "2018-09-24 15:37:12,949:WARNING:\n",
      "Failed to read header row 6.\n",
      "2008 01 01 2016 07 08\n",
      "\n",
      "Error msg: IndexError('list index out of range',)\n"
     ]
    },
    {
     "name": "stderr",
     "output_type": "stream",
     "text": [
      "2018-09-24 15:37:12,956:WARNING:\n",
      "Failed to read header row 6.\n",
      "2008 01 01 2016 07 08\n",
      "\n",
      "Error msg: IndexError('list index out of range',)\n"
     ]
    },
    {
     "name": "stderr",
     "output_type": "stream",
     "text": [
      "2018-09-24 15:37:12,963:WARNING:\n",
      "Failed to read header row 6.\n",
      "2008 01 01 2016 07 08\n",
      "\n",
      "Error msg: IndexError('list index out of range',)\n"
     ]
    },
    {
     "name": "stderr",
     "output_type": "stream",
     "text": [
      "2018-09-24 15:37:12,969:WARNING:\n",
      "Failed to read header row 6.\n",
      "2008 01 01 2016 07 08\n",
      "\n",
      "Error msg: IndexError('list index out of range',)\n"
     ]
    },
    {
     "name": "stderr",
     "output_type": "stream",
     "text": [
      "2018-09-24 15:37:12,976:WARNING:\n",
      "Failed to read header row 6.\n",
      "2008 01 01 2016 07 08\n",
      "\n",
      "Error msg: IndexError('list index out of range',)\n"
     ]
    },
    {
     "name": "stderr",
     "output_type": "stream",
     "text": [
      "2018-09-24 15:37:12,982:WARNING:\n",
      "Failed to read header row 6.\n",
      "2008 01 01 2016 07 08\n",
      "\n",
      "Error msg: IndexError('list index out of range',)\n"
     ]
    },
    {
     "name": "stderr",
     "output_type": "stream",
     "text": [
      "2018-09-24 15:37:12,988:WARNING:\n",
      "Failed to read header row 6.\n",
      "2008 01 01 2016 07 08\n",
      "\n",
      "Error msg: IndexError('list index out of range',)\n"
     ]
    },
    {
     "name": "stderr",
     "output_type": "stream",
     "text": [
      "2018-09-24 15:37:12,995:WARNING:\n",
      "Failed to read header row 6.\n",
      "2008 01 01 2016 07 08\n",
      "\n",
      "Error msg: IndexError('list index out of range',)\n"
     ]
    },
    {
     "name": "stderr",
     "output_type": "stream",
     "text": [
      "2018-09-24 15:37:13,001:WARNING:\n",
      "Failed to read header row 6.\n",
      "2008 01 01 2016 07 08\n",
      "\n",
      "Error msg: IndexError('list index out of range',)\n"
     ]
    },
    {
     "name": "stderr",
     "output_type": "stream",
     "text": [
      "2018-09-24 15:37:13,009:WARNING:\n",
      "Failed to read header row 6.\n",
      "2008 01 01 2016 07 08\n",
      "\n",
      "Error msg: IndexError('list index out of range',)\n"
     ]
    },
    {
     "name": "stderr",
     "output_type": "stream",
     "text": [
      "2018-09-24 15:37:13,016:WARNING:\n",
      "Failed to read header row 6.\n",
      "2008 01 01 2016 07 08\n",
      "\n",
      "Error msg: IndexError('list index out of range',)\n"
     ]
    },
    {
     "name": "stderr",
     "output_type": "stream",
     "text": [
      "2018-09-24 15:37:13,022:WARNING:\n",
      "Failed to read header row 6.\n",
      "2008 01 01 2016 07 08\n",
      "\n",
      "Error msg: IndexError('list index out of range',)\n"
     ]
    },
    {
     "name": "stderr",
     "output_type": "stream",
     "text": [
      "2018-09-24 15:37:13,030:WARNING:\n",
      "Failed to read header row 6.\n",
      "2008 01 01 2016 07 08\n",
      "\n",
      "Error msg: IndexError('list index out of range',)\n"
     ]
    },
    {
     "name": "stderr",
     "output_type": "stream",
     "text": [
      "2018-09-24 15:37:13,037:WARNING:\n",
      "Failed to read header row 6.\n",
      "2008 01 01 2016 07 08\n",
      "\n",
      "Error msg: IndexError('list index out of range',)\n"
     ]
    },
    {
     "name": "stderr",
     "output_type": "stream",
     "text": [
      "2018-09-24 15:37:13,044:WARNING:\n",
      "Failed to read header row 6.\n",
      "2008 01 01 2016 07 08\n",
      "\n",
      "Error msg: IndexError('list index out of range',)\n"
     ]
    },
    {
     "name": "stderr",
     "output_type": "stream",
     "text": [
      "2018-09-24 15:37:13,050:WARNING:\n",
      "Failed to read header row 6.\n",
      "2008 01 01 2016 07 08\n",
      "\n",
      "Error msg: IndexError('list index out of range',)\n"
     ]
    },
    {
     "name": "stderr",
     "output_type": "stream",
     "text": [
      "2018-09-24 15:37:13,058:WARNING:\n",
      "Failed to read header row 6.\n",
      "2008 01 01 2016 07 08\n",
      "\n",
      "Error msg: IndexError('list index out of range',)\n"
     ]
    },
    {
     "name": "stderr",
     "output_type": "stream",
     "text": [
      "2018-09-24 15:37:13,066:WARNING:\n",
      "Failed to read header row 6.\n",
      "2008 01 01 2016 07 08\n",
      "\n",
      "Error msg: IndexError('list index out of range',)\n"
     ]
    },
    {
     "name": "stderr",
     "output_type": "stream",
     "text": [
      "2018-09-24 15:37:13,074:WARNING:\n",
      "Failed to read header row 6.\n",
      "2008 01 01 2016 07 08\n",
      "\n",
      "Error msg: IndexError('list index out of range',)\n"
     ]
    },
    {
     "name": "stderr",
     "output_type": "stream",
     "text": [
      "2018-09-24 15:37:13,081:WARNING:\n",
      "Failed to read header row 6.\n",
      "2008 01 01 2016 07 08\n",
      "\n",
      "Error msg: IndexError('list index out of range',)\n"
     ]
    },
    {
     "name": "stderr",
     "output_type": "stream",
     "text": [
      "2018-09-24 15:37:13,089:WARNING:\n",
      "Failed to read header row 6.\n",
      "2008 01 01 2016 07 08\n",
      "\n",
      "Error msg: IndexError('list index out of range',)\n"
     ]
    },
    {
     "name": "stdout",
     "output_type": "stream",
     "text": [
      "7.54 ms ± 1.02 ms per loop (mean ± std. dev. of 7 runs, 100 loops each)\n"
     ]
    }
   ],
   "source": [
    "%%timeit\n",
    "EbasNasaAmesFile(file=ebasdir+filename,\n",
    "                 only_head=True, verbose=False)"
   ]
  },
  {
   "cell_type": "markdown",
   "metadata": {},
   "source": [
    "Read raw:"
   ]
  },
  {
   "cell_type": "code",
   "execution_count": 10,
   "metadata": {},
   "outputs": [
    {
     "name": "stderr",
     "output_type": "stream",
     "text": [
      "2018-09-24 15:37:13,443:WARNING:\n",
      "Failed to read header row 6.\n",
      "2008 01 01 2016 07 08\n",
      "\n",
      "Error msg: IndexError('list index out of range',)\n"
     ]
    },
    {
     "name": "stderr",
     "output_type": "stream",
     "text": [
      "2018-09-24 15:37:13,493:WARNING:\n",
      "Failed to read header row 6.\n",
      "2008 01 01 2016 07 08\n",
      "\n",
      "Error msg: IndexError('list index out of range',)\n"
     ]
    },
    {
     "name": "stderr",
     "output_type": "stream",
     "text": [
      "2018-09-24 15:37:13,541:WARNING:\n",
      "Failed to read header row 6.\n",
      "2008 01 01 2016 07 08\n",
      "\n",
      "Error msg: IndexError('list index out of range',)\n"
     ]
    },
    {
     "name": "stderr",
     "output_type": "stream",
     "text": [
      "2018-09-24 15:37:13,598:WARNING:\n",
      "Failed to read header row 6.\n",
      "2008 01 01 2016 07 08\n",
      "\n",
      "Error msg: IndexError('list index out of range',)\n"
     ]
    },
    {
     "name": "stderr",
     "output_type": "stream",
     "text": [
      "2018-09-24 15:37:13,660:WARNING:\n",
      "Failed to read header row 6.\n",
      "2008 01 01 2016 07 08\n",
      "\n",
      "Error msg: IndexError('list index out of range',)\n"
     ]
    },
    {
     "name": "stderr",
     "output_type": "stream",
     "text": [
      "2018-09-24 15:37:13,707:WARNING:\n",
      "Failed to read header row 6.\n",
      "2008 01 01 2016 07 08\n",
      "\n",
      "Error msg: IndexError('list index out of range',)\n"
     ]
    },
    {
     "name": "stderr",
     "output_type": "stream",
     "text": [
      "2018-09-24 15:37:13,773:WARNING:\n",
      "Failed to read header row 6.\n",
      "2008 01 01 2016 07 08\n",
      "\n",
      "Error msg: IndexError('list index out of range',)\n"
     ]
    },
    {
     "name": "stderr",
     "output_type": "stream",
     "text": [
      "2018-09-24 15:37:13,820:WARNING:\n",
      "Failed to read header row 6.\n",
      "2008 01 01 2016 07 08\n",
      "\n",
      "Error msg: IndexError('list index out of range',)\n"
     ]
    },
    {
     "name": "stderr",
     "output_type": "stream",
     "text": [
      "2018-09-24 15:37:13,865:WARNING:\n",
      "Failed to read header row 6.\n",
      "2008 01 01 2016 07 08\n",
      "\n",
      "Error msg: IndexError('list index out of range',)\n"
     ]
    },
    {
     "name": "stderr",
     "output_type": "stream",
     "text": [
      "2018-09-24 15:37:13,921:WARNING:\n",
      "Failed to read header row 6.\n",
      "2008 01 01 2016 07 08\n",
      "\n",
      "Error msg: IndexError('list index out of range',)\n"
     ]
    },
    {
     "name": "stderr",
     "output_type": "stream",
     "text": [
      "2018-09-24 15:37:13,967:WARNING:\n",
      "Failed to read header row 6.\n",
      "2008 01 01 2016 07 08\n",
      "\n",
      "Error msg: IndexError('list index out of range',)\n"
     ]
    },
    {
     "name": "stderr",
     "output_type": "stream",
     "text": [
      "2018-09-24 15:37:14,025:WARNING:\n",
      "Failed to read header row 6.\n",
      "2008 01 01 2016 07 08\n",
      "\n",
      "Error msg: IndexError('list index out of range',)\n"
     ]
    },
    {
     "name": "stderr",
     "output_type": "stream",
     "text": [
      "2018-09-24 15:37:14,071:WARNING:\n",
      "Failed to read header row 6.\n",
      "2008 01 01 2016 07 08\n",
      "\n",
      "Error msg: IndexError('list index out of range',)\n"
     ]
    },
    {
     "name": "stderr",
     "output_type": "stream",
     "text": [
      "2018-09-24 15:37:14,116:WARNING:\n",
      "Failed to read header row 6.\n",
      "2008 01 01 2016 07 08\n",
      "\n",
      "Error msg: IndexError('list index out of range',)\n"
     ]
    },
    {
     "name": "stderr",
     "output_type": "stream",
     "text": [
      "2018-09-24 15:37:14,161:WARNING:\n",
      "Failed to read header row 6.\n",
      "2008 01 01 2016 07 08\n",
      "\n",
      "Error msg: IndexError('list index out of range',)\n"
     ]
    },
    {
     "name": "stderr",
     "output_type": "stream",
     "text": [
      "2018-09-24 15:37:14,207:WARNING:\n",
      "Failed to read header row 6.\n",
      "2008 01 01 2016 07 08\n",
      "\n",
      "Error msg: IndexError('list index out of range',)\n"
     ]
    },
    {
     "name": "stderr",
     "output_type": "stream",
     "text": [
      "2018-09-24 15:37:14,264:WARNING:\n",
      "Failed to read header row 6.\n",
      "2008 01 01 2016 07 08\n",
      "\n",
      "Error msg: IndexError('list index out of range',)\n"
     ]
    },
    {
     "name": "stderr",
     "output_type": "stream",
     "text": [
      "2018-09-24 15:37:14,311:WARNING:\n",
      "Failed to read header row 6.\n",
      "2008 01 01 2016 07 08\n",
      "\n",
      "Error msg: IndexError('list index out of range',)\n"
     ]
    },
    {
     "name": "stderr",
     "output_type": "stream",
     "text": [
      "2018-09-24 15:37:14,357:WARNING:\n",
      "Failed to read header row 6.\n",
      "2008 01 01 2016 07 08\n",
      "\n",
      "Error msg: IndexError('list index out of range',)\n"
     ]
    },
    {
     "name": "stderr",
     "output_type": "stream",
     "text": [
      "2018-09-24 15:37:14,403:WARNING:\n",
      "Failed to read header row 6.\n",
      "2008 01 01 2016 07 08\n",
      "\n",
      "Error msg: IndexError('list index out of range',)\n"
     ]
    },
    {
     "name": "stderr",
     "output_type": "stream",
     "text": [
      "2018-09-24 15:37:14,449:WARNING:\n",
      "Failed to read header row 6.\n",
      "2008 01 01 2016 07 08\n",
      "\n",
      "Error msg: IndexError('list index out of range',)\n"
     ]
    },
    {
     "name": "stderr",
     "output_type": "stream",
     "text": [
      "2018-09-24 15:37:14,495:WARNING:\n",
      "Failed to read header row 6.\n",
      "2008 01 01 2016 07 08\n",
      "\n",
      "Error msg: IndexError('list index out of range',)\n"
     ]
    },
    {
     "name": "stderr",
     "output_type": "stream",
     "text": [
      "2018-09-24 15:37:14,540:WARNING:\n",
      "Failed to read header row 6.\n",
      "2008 01 01 2016 07 08\n",
      "\n",
      "Error msg: IndexError('list index out of range',)\n"
     ]
    },
    {
     "name": "stderr",
     "output_type": "stream",
     "text": [
      "2018-09-24 15:37:14,586:WARNING:\n",
      "Failed to read header row 6.\n",
      "2008 01 01 2016 07 08\n",
      "\n",
      "Error msg: IndexError('list index out of range',)\n"
     ]
    },
    {
     "name": "stderr",
     "output_type": "stream",
     "text": [
      "2018-09-24 15:37:14,632:WARNING:\n",
      "Failed to read header row 6.\n",
      "2008 01 01 2016 07 08\n",
      "\n",
      "Error msg: IndexError('list index out of range',)\n"
     ]
    },
    {
     "name": "stderr",
     "output_type": "stream",
     "text": [
      "2018-09-24 15:37:14,695:WARNING:\n",
      "Failed to read header row 6.\n",
      "2008 01 01 2016 07 08\n",
      "\n",
      "Error msg: IndexError('list index out of range',)\n"
     ]
    },
    {
     "name": "stderr",
     "output_type": "stream",
     "text": [
      "2018-09-24 15:37:14,770:WARNING:\n",
      "Failed to read header row 6.\n",
      "2008 01 01 2016 07 08\n",
      "\n",
      "Error msg: IndexError('list index out of range',)\n"
     ]
    },
    {
     "name": "stderr",
     "output_type": "stream",
     "text": [
      "2018-09-24 15:37:14,816:WARNING:\n",
      "Failed to read header row 6.\n",
      "2008 01 01 2016 07 08\n",
      "\n",
      "Error msg: IndexError('list index out of range',)\n"
     ]
    },
    {
     "name": "stderr",
     "output_type": "stream",
     "text": [
      "2018-09-24 15:37:14,864:WARNING:\n",
      "Failed to read header row 6.\n",
      "2008 01 01 2016 07 08\n",
      "\n",
      "Error msg: IndexError('list index out of range',)\n"
     ]
    },
    {
     "name": "stderr",
     "output_type": "stream",
     "text": [
      "2018-09-24 15:37:14,919:WARNING:\n",
      "Failed to read header row 6.\n",
      "2008 01 01 2016 07 08\n",
      "\n",
      "Error msg: IndexError('list index out of range',)\n"
     ]
    },
    {
     "name": "stderr",
     "output_type": "stream",
     "text": [
      "2018-09-24 15:37:14,969:WARNING:\n",
      "Failed to read header row 6.\n",
      "2008 01 01 2016 07 08\n",
      "\n",
      "Error msg: IndexError('list index out of range',)\n"
     ]
    },
    {
     "name": "stderr",
     "output_type": "stream",
     "text": [
      "2018-09-24 15:37:15,014:WARNING:\n",
      "Failed to read header row 6.\n",
      "2008 01 01 2016 07 08\n",
      "\n",
      "Error msg: IndexError('list index out of range',)\n"
     ]
    },
    {
     "name": "stderr",
     "output_type": "stream",
     "text": [
      "2018-09-24 15:37:15,060:WARNING:\n",
      "Failed to read header row 6.\n",
      "2008 01 01 2016 07 08\n",
      "\n",
      "Error msg: IndexError('list index out of range',)\n"
     ]
    },
    {
     "name": "stderr",
     "output_type": "stream",
     "text": [
      "2018-09-24 15:37:15,105:WARNING:\n",
      "Failed to read header row 6.\n",
      "2008 01 01 2016 07 08\n",
      "\n",
      "Error msg: IndexError('list index out of range',)\n"
     ]
    },
    {
     "name": "stderr",
     "output_type": "stream",
     "text": [
      "2018-09-24 15:37:15,150:WARNING:\n",
      "Failed to read header row 6.\n",
      "2008 01 01 2016 07 08\n",
      "\n",
      "Error msg: IndexError('list index out of range',)\n"
     ]
    },
    {
     "name": "stderr",
     "output_type": "stream",
     "text": [
      "2018-09-24 15:37:15,195:WARNING:\n",
      "Failed to read header row 6.\n",
      "2008 01 01 2016 07 08\n",
      "\n",
      "Error msg: IndexError('list index out of range',)\n"
     ]
    },
    {
     "name": "stderr",
     "output_type": "stream",
     "text": [
      "2018-09-24 15:37:15,241:WARNING:\n",
      "Failed to read header row 6.\n",
      "2008 01 01 2016 07 08\n",
      "\n",
      "Error msg: IndexError('list index out of range',)\n"
     ]
    },
    {
     "name": "stderr",
     "output_type": "stream",
     "text": [
      "2018-09-24 15:37:15,286:WARNING:\n",
      "Failed to read header row 6.\n",
      "2008 01 01 2016 07 08\n",
      "\n",
      "Error msg: IndexError('list index out of range',)\n"
     ]
    },
    {
     "name": "stderr",
     "output_type": "stream",
     "text": [
      "2018-09-24 15:37:15,333:WARNING:\n",
      "Failed to read header row 6.\n",
      "2008 01 01 2016 07 08\n",
      "\n",
      "Error msg: IndexError('list index out of range',)\n"
     ]
    },
    {
     "name": "stderr",
     "output_type": "stream",
     "text": [
      "2018-09-24 15:37:15,379:WARNING:\n",
      "Failed to read header row 6.\n",
      "2008 01 01 2016 07 08\n",
      "\n",
      "Error msg: IndexError('list index out of range',)\n"
     ]
    },
    {
     "name": "stderr",
     "output_type": "stream",
     "text": [
      "2018-09-24 15:37:15,428:WARNING:\n",
      "Failed to read header row 6.\n",
      "2008 01 01 2016 07 08\n",
      "\n",
      "Error msg: IndexError('list index out of range',)\n"
     ]
    },
    {
     "name": "stderr",
     "output_type": "stream",
     "text": [
      "2018-09-24 15:37:15,476:WARNING:\n",
      "Failed to read header row 6.\n",
      "2008 01 01 2016 07 08\n",
      "\n",
      "Error msg: IndexError('list index out of range',)\n"
     ]
    },
    {
     "name": "stderr",
     "output_type": "stream",
     "text": [
      "2018-09-24 15:37:15,522:WARNING:\n",
      "Failed to read header row 6.\n",
      "2008 01 01 2016 07 08\n",
      "\n",
      "Error msg: IndexError('list index out of range',)\n"
     ]
    },
    {
     "name": "stderr",
     "output_type": "stream",
     "text": [
      "2018-09-24 15:37:15,569:WARNING:\n",
      "Failed to read header row 6.\n",
      "2008 01 01 2016 07 08\n",
      "\n",
      "Error msg: IndexError('list index out of range',)\n"
     ]
    },
    {
     "name": "stderr",
     "output_type": "stream",
     "text": [
      "2018-09-24 15:37:15,625:WARNING:\n",
      "Failed to read header row 6.\n",
      "2008 01 01 2016 07 08\n",
      "\n",
      "Error msg: IndexError('list index out of range',)\n"
     ]
    },
    {
     "name": "stderr",
     "output_type": "stream",
     "text": [
      "2018-09-24 15:37:15,671:WARNING:\n",
      "Failed to read header row 6.\n",
      "2008 01 01 2016 07 08\n",
      "\n",
      "Error msg: IndexError('list index out of range',)\n"
     ]
    },
    {
     "name": "stderr",
     "output_type": "stream",
     "text": [
      "2018-09-24 15:37:15,727:WARNING:\n",
      "Failed to read header row 6.\n",
      "2008 01 01 2016 07 08\n",
      "\n",
      "Error msg: IndexError('list index out of range',)\n"
     ]
    },
    {
     "name": "stderr",
     "output_type": "stream",
     "text": [
      "2018-09-24 15:37:15,792:WARNING:\n",
      "Failed to read header row 6.\n",
      "2008 01 01 2016 07 08\n",
      "\n",
      "Error msg: IndexError('list index out of range',)\n"
     ]
    },
    {
     "name": "stderr",
     "output_type": "stream",
     "text": [
      "2018-09-24 15:37:16,080:WARNING:\n",
      "Failed to read header row 6.\n",
      "2008 01 01 2016 07 08\n",
      "\n",
      "Error msg: IndexError('list index out of range',)\n"
     ]
    },
    {
     "name": "stderr",
     "output_type": "stream",
     "text": [
      "2018-09-24 15:37:16,139:WARNING:\n",
      "Failed to read header row 6.\n",
      "2008 01 01 2016 07 08\n",
      "\n",
      "Error msg: IndexError('list index out of range',)\n"
     ]
    },
    {
     "name": "stderr",
     "output_type": "stream",
     "text": [
      "2018-09-24 15:37:16,185:WARNING:\n",
      "Failed to read header row 6.\n",
      "2008 01 01 2016 07 08\n",
      "\n",
      "Error msg: IndexError('list index out of range',)\n"
     ]
    },
    {
     "name": "stderr",
     "output_type": "stream",
     "text": [
      "2018-09-24 15:37:16,230:WARNING:\n",
      "Failed to read header row 6.\n",
      "2008 01 01 2016 07 08\n",
      "\n",
      "Error msg: IndexError('list index out of range',)\n"
     ]
    },
    {
     "name": "stderr",
     "output_type": "stream",
     "text": [
      "2018-09-24 15:37:16,274:WARNING:\n",
      "Failed to read header row 6.\n",
      "2008 01 01 2016 07 08\n",
      "\n",
      "Error msg: IndexError('list index out of range',)\n"
     ]
    },
    {
     "name": "stderr",
     "output_type": "stream",
     "text": [
      "2018-09-24 15:37:16,321:WARNING:\n",
      "Failed to read header row 6.\n",
      "2008 01 01 2016 07 08\n",
      "\n",
      "Error msg: IndexError('list index out of range',)\n"
     ]
    },
    {
     "name": "stderr",
     "output_type": "stream",
     "text": [
      "2018-09-24 15:37:16,370:WARNING:\n",
      "Failed to read header row 6.\n",
      "2008 01 01 2016 07 08\n",
      "\n",
      "Error msg: IndexError('list index out of range',)\n"
     ]
    },
    {
     "name": "stderr",
     "output_type": "stream",
     "text": [
      "2018-09-24 15:37:16,418:WARNING:\n",
      "Failed to read header row 6.\n",
      "2008 01 01 2016 07 08\n",
      "\n",
      "Error msg: IndexError('list index out of range',)\n"
     ]
    },
    {
     "name": "stderr",
     "output_type": "stream",
     "text": [
      "2018-09-24 15:37:16,465:WARNING:\n",
      "Failed to read header row 6.\n",
      "2008 01 01 2016 07 08\n",
      "\n",
      "Error msg: IndexError('list index out of range',)\n"
     ]
    },
    {
     "name": "stderr",
     "output_type": "stream",
     "text": [
      "2018-09-24 15:37:16,514:WARNING:\n",
      "Failed to read header row 6.\n",
      "2008 01 01 2016 07 08\n",
      "\n",
      "Error msg: IndexError('list index out of range',)\n"
     ]
    },
    {
     "name": "stderr",
     "output_type": "stream",
     "text": [
      "2018-09-24 15:37:16,560:WARNING:\n",
      "Failed to read header row 6.\n",
      "2008 01 01 2016 07 08\n",
      "\n",
      "Error msg: IndexError('list index out of range',)\n"
     ]
    },
    {
     "name": "stderr",
     "output_type": "stream",
     "text": [
      "2018-09-24 15:37:16,606:WARNING:\n",
      "Failed to read header row 6.\n",
      "2008 01 01 2016 07 08\n",
      "\n",
      "Error msg: IndexError('list index out of range',)\n"
     ]
    },
    {
     "name": "stderr",
     "output_type": "stream",
     "text": [
      "2018-09-24 15:37:16,652:WARNING:\n",
      "Failed to read header row 6.\n",
      "2008 01 01 2016 07 08\n",
      "\n",
      "Error msg: IndexError('list index out of range',)\n"
     ]
    },
    {
     "name": "stderr",
     "output_type": "stream",
     "text": [
      "2018-09-24 15:37:16,710:WARNING:\n",
      "Failed to read header row 6.\n",
      "2008 01 01 2016 07 08\n",
      "\n",
      "Error msg: IndexError('list index out of range',)\n"
     ]
    },
    {
     "name": "stderr",
     "output_type": "stream",
     "text": [
      "2018-09-24 15:37:16,769:WARNING:\n",
      "Failed to read header row 6.\n",
      "2008 01 01 2016 07 08\n",
      "\n",
      "Error msg: IndexError('list index out of range',)\n"
     ]
    },
    {
     "name": "stderr",
     "output_type": "stream",
     "text": [
      "2018-09-24 15:37:16,812:WARNING:\n",
      "Failed to read header row 6.\n",
      "2008 01 01 2016 07 08\n",
      "\n",
      "Error msg: IndexError('list index out of range',)\n"
     ]
    },
    {
     "name": "stderr",
     "output_type": "stream",
     "text": [
      "2018-09-24 15:37:16,857:WARNING:\n",
      "Failed to read header row 6.\n",
      "2008 01 01 2016 07 08\n",
      "\n",
      "Error msg: IndexError('list index out of range',)\n"
     ]
    },
    {
     "name": "stderr",
     "output_type": "stream",
     "text": [
      "2018-09-24 15:37:16,921:WARNING:\n",
      "Failed to read header row 6.\n",
      "2008 01 01 2016 07 08\n",
      "\n",
      "Error msg: IndexError('list index out of range',)\n"
     ]
    },
    {
     "name": "stderr",
     "output_type": "stream",
     "text": [
      "2018-09-24 15:37:16,966:WARNING:\n",
      "Failed to read header row 6.\n",
      "2008 01 01 2016 07 08\n",
      "\n",
      "Error msg: IndexError('list index out of range',)\n"
     ]
    },
    {
     "name": "stderr",
     "output_type": "stream",
     "text": [
      "2018-09-24 15:37:17,011:WARNING:\n",
      "Failed to read header row 6.\n",
      "2008 01 01 2016 07 08\n",
      "\n",
      "Error msg: IndexError('list index out of range',)\n"
     ]
    },
    {
     "name": "stderr",
     "output_type": "stream",
     "text": [
      "2018-09-24 15:37:17,056:WARNING:\n",
      "Failed to read header row 6.\n",
      "2008 01 01 2016 07 08\n",
      "\n",
      "Error msg: IndexError('list index out of range',)\n"
     ]
    },
    {
     "name": "stderr",
     "output_type": "stream",
     "text": [
      "2018-09-24 15:37:17,111:WARNING:\n",
      "Failed to read header row 6.\n",
      "2008 01 01 2016 07 08\n",
      "\n",
      "Error msg: IndexError('list index out of range',)\n"
     ]
    },
    {
     "name": "stderr",
     "output_type": "stream",
     "text": [
      "2018-09-24 15:37:17,161:WARNING:\n",
      "Failed to read header row 6.\n",
      "2008 01 01 2016 07 08\n",
      "\n",
      "Error msg: IndexError('list index out of range',)\n"
     ]
    },
    {
     "name": "stderr",
     "output_type": "stream",
     "text": [
      "2018-09-24 15:37:17,212:WARNING:\n",
      "Failed to read header row 6.\n",
      "2008 01 01 2016 07 08\n",
      "\n",
      "Error msg: IndexError('list index out of range',)\n"
     ]
    },
    {
     "name": "stderr",
     "output_type": "stream",
     "text": [
      "2018-09-24 15:37:17,271:WARNING:\n",
      "Failed to read header row 6.\n",
      "2008 01 01 2016 07 08\n",
      "\n",
      "Error msg: IndexError('list index out of range',)\n"
     ]
    },
    {
     "name": "stderr",
     "output_type": "stream",
     "text": [
      "2018-09-24 15:37:17,316:WARNING:\n",
      "Failed to read header row 6.\n",
      "2008 01 01 2016 07 08\n",
      "\n",
      "Error msg: IndexError('list index out of range',)\n"
     ]
    },
    {
     "name": "stderr",
     "output_type": "stream",
     "text": [
      "2018-09-24 15:37:17,361:WARNING:\n",
      "Failed to read header row 6.\n",
      "2008 01 01 2016 07 08\n",
      "\n",
      "Error msg: IndexError('list index out of range',)\n"
     ]
    },
    {
     "name": "stderr",
     "output_type": "stream",
     "text": [
      "2018-09-24 15:37:17,405:WARNING:\n",
      "Failed to read header row 6.\n",
      "2008 01 01 2016 07 08\n",
      "\n",
      "Error msg: IndexError('list index out of range',)\n"
     ]
    },
    {
     "name": "stderr",
     "output_type": "stream",
     "text": [
      "2018-09-24 15:37:17,450:WARNING:\n",
      "Failed to read header row 6.\n",
      "2008 01 01 2016 07 08\n",
      "\n",
      "Error msg: IndexError('list index out of range',)\n"
     ]
    },
    {
     "name": "stderr",
     "output_type": "stream",
     "text": [
      "2018-09-24 15:37:17,495:WARNING:\n",
      "Failed to read header row 6.\n",
      "2008 01 01 2016 07 08\n",
      "\n",
      "Error msg: IndexError('list index out of range',)\n"
     ]
    },
    {
     "name": "stderr",
     "output_type": "stream",
     "text": [
      "2018-09-24 15:37:17,541:WARNING:\n",
      "Failed to read header row 6.\n",
      "2008 01 01 2016 07 08\n",
      "\n",
      "Error msg: IndexError('list index out of range',)\n"
     ]
    },
    {
     "name": "stderr",
     "output_type": "stream",
     "text": [
      "2018-09-24 15:37:17,586:WARNING:\n",
      "Failed to read header row 6.\n",
      "2008 01 01 2016 07 08\n",
      "\n",
      "Error msg: IndexError('list index out of range',)\n"
     ]
    },
    {
     "name": "stderr",
     "output_type": "stream",
     "text": [
      "2018-09-24 15:37:17,633:WARNING:\n",
      "Failed to read header row 6.\n",
      "2008 01 01 2016 07 08\n",
      "\n",
      "Error msg: IndexError('list index out of range',)\n"
     ]
    },
    {
     "name": "stdout",
     "output_type": "stream",
     "text": [
      "52.2 ms ± 9.64 ms per loop (mean ± std. dev. of 7 runs, 10 loops each)\n"
     ]
    }
   ],
   "source": [
    "%%timeit\n",
    "EbasNasaAmesFile(file=ebasdir+filename,\n",
    "                      only_head=False,          #set True if you only want to import header\n",
    "                      replace_invalid_nan=False, #replace invalid values with NaNs\n",
    "                      convert_timestamps=False,  #compute datetime64 timestamps from numerical values\n",
    "                      decode_flags=False,        #decode all flags (e.g. 0.111222333 -> 111 222 333)\n",
    "                      verbose=False)"
   ]
  },
  {
   "cell_type": "markdown",
   "metadata": {},
   "source": [
    "Perform all operations:"
   ]
  },
  {
   "cell_type": "code",
   "execution_count": 11,
   "metadata": {},
   "outputs": [
    {
     "name": "stderr",
     "output_type": "stream",
     "text": [
      "2018-09-24 15:37:17,720:WARNING:\n",
      "Failed to read header row 6.\n",
      "2008 01 01 2016 07 08\n",
      "\n",
      "Error msg: IndexError('list index out of range',)\n"
     ]
    },
    {
     "name": "stderr",
     "output_type": "stream",
     "text": [
      "2018-09-24 15:37:17,788:WARNING:\n",
      "Failed to read header row 6.\n",
      "2008 01 01 2016 07 08\n",
      "\n",
      "Error msg: IndexError('list index out of range',)\n"
     ]
    },
    {
     "name": "stderr",
     "output_type": "stream",
     "text": [
      "2018-09-24 15:37:17,845:WARNING:\n",
      "Failed to read header row 6.\n",
      "2008 01 01 2016 07 08\n",
      "\n",
      "Error msg: IndexError('list index out of range',)\n"
     ]
    },
    {
     "name": "stderr",
     "output_type": "stream",
     "text": [
      "2018-09-24 15:37:17,900:WARNING:\n",
      "Failed to read header row 6.\n",
      "2008 01 01 2016 07 08\n",
      "\n",
      "Error msg: IndexError('list index out of range',)\n"
     ]
    },
    {
     "name": "stderr",
     "output_type": "stream",
     "text": [
      "2018-09-24 15:37:17,955:WARNING:\n",
      "Failed to read header row 6.\n",
      "2008 01 01 2016 07 08\n",
      "\n",
      "Error msg: IndexError('list index out of range',)\n"
     ]
    },
    {
     "name": "stderr",
     "output_type": "stream",
     "text": [
      "2018-09-24 15:37:18,021:WARNING:\n",
      "Failed to read header row 6.\n",
      "2008 01 01 2016 07 08\n",
      "\n",
      "Error msg: IndexError('list index out of range',)\n"
     ]
    },
    {
     "name": "stderr",
     "output_type": "stream",
     "text": [
      "2018-09-24 15:37:18,076:WARNING:\n",
      "Failed to read header row 6.\n",
      "2008 01 01 2016 07 08\n",
      "\n",
      "Error msg: IndexError('list index out of range',)\n"
     ]
    },
    {
     "name": "stderr",
     "output_type": "stream",
     "text": [
      "2018-09-24 15:37:18,136:WARNING:\n",
      "Failed to read header row 6.\n",
      "2008 01 01 2016 07 08\n",
      "\n",
      "Error msg: IndexError('list index out of range',)\n"
     ]
    },
    {
     "name": "stderr",
     "output_type": "stream",
     "text": [
      "2018-09-24 15:37:18,191:WARNING:\n",
      "Failed to read header row 6.\n",
      "2008 01 01 2016 07 08\n",
      "\n",
      "Error msg: IndexError('list index out of range',)\n"
     ]
    },
    {
     "name": "stderr",
     "output_type": "stream",
     "text": [
      "2018-09-24 15:37:18,246:WARNING:\n",
      "Failed to read header row 6.\n",
      "2008 01 01 2016 07 08\n",
      "\n",
      "Error msg: IndexError('list index out of range',)\n"
     ]
    },
    {
     "name": "stderr",
     "output_type": "stream",
     "text": [
      "2018-09-24 15:37:18,301:WARNING:\n",
      "Failed to read header row 6.\n",
      "2008 01 01 2016 07 08\n",
      "\n",
      "Error msg: IndexError('list index out of range',)\n"
     ]
    },
    {
     "name": "stderr",
     "output_type": "stream",
     "text": [
      "2018-09-24 15:37:18,367:WARNING:\n",
      "Failed to read header row 6.\n",
      "2008 01 01 2016 07 08\n",
      "\n",
      "Error msg: IndexError('list index out of range',)\n"
     ]
    },
    {
     "name": "stderr",
     "output_type": "stream",
     "text": [
      "2018-09-24 15:37:18,432:WARNING:\n",
      "Failed to read header row 6.\n",
      "2008 01 01 2016 07 08\n",
      "\n",
      "Error msg: IndexError('list index out of range',)\n"
     ]
    },
    {
     "name": "stderr",
     "output_type": "stream",
     "text": [
      "2018-09-24 15:37:18,499:WARNING:\n",
      "Failed to read header row 6.\n",
      "2008 01 01 2016 07 08\n",
      "\n",
      "Error msg: IndexError('list index out of range',)\n"
     ]
    },
    {
     "name": "stderr",
     "output_type": "stream",
     "text": [
      "2018-09-24 15:37:18,552:WARNING:\n",
      "Failed to read header row 6.\n",
      "2008 01 01 2016 07 08\n",
      "\n",
      "Error msg: IndexError('list index out of range',)\n"
     ]
    },
    {
     "name": "stderr",
     "output_type": "stream",
     "text": [
      "2018-09-24 15:37:18,621:WARNING:\n",
      "Failed to read header row 6.\n",
      "2008 01 01 2016 07 08\n",
      "\n",
      "Error msg: IndexError('list index out of range',)\n"
     ]
    },
    {
     "name": "stderr",
     "output_type": "stream",
     "text": [
      "2018-09-24 15:37:18,677:WARNING:\n",
      "Failed to read header row 6.\n",
      "2008 01 01 2016 07 08\n",
      "\n",
      "Error msg: IndexError('list index out of range',)\n"
     ]
    },
    {
     "name": "stderr",
     "output_type": "stream",
     "text": [
      "2018-09-24 15:37:18,732:WARNING:\n",
      "Failed to read header row 6.\n",
      "2008 01 01 2016 07 08\n",
      "\n",
      "Error msg: IndexError('list index out of range',)\n"
     ]
    },
    {
     "name": "stderr",
     "output_type": "stream",
     "text": [
      "2018-09-24 15:37:18,804:WARNING:\n",
      "Failed to read header row 6.\n",
      "2008 01 01 2016 07 08\n",
      "\n",
      "Error msg: IndexError('list index out of range',)\n"
     ]
    },
    {
     "name": "stderr",
     "output_type": "stream",
     "text": [
      "2018-09-24 15:37:18,861:WARNING:\n",
      "Failed to read header row 6.\n",
      "2008 01 01 2016 07 08\n",
      "\n",
      "Error msg: IndexError('list index out of range',)\n"
     ]
    },
    {
     "name": "stderr",
     "output_type": "stream",
     "text": [
      "2018-09-24 15:37:18,916:WARNING:\n",
      "Failed to read header row 6.\n",
      "2008 01 01 2016 07 08\n",
      "\n",
      "Error msg: IndexError('list index out of range',)\n"
     ]
    },
    {
     "name": "stderr",
     "output_type": "stream",
     "text": [
      "2018-09-24 15:37:18,973:WARNING:\n",
      "Failed to read header row 6.\n",
      "2008 01 01 2016 07 08\n",
      "\n",
      "Error msg: IndexError('list index out of range',)\n"
     ]
    },
    {
     "name": "stderr",
     "output_type": "stream",
     "text": [
      "2018-09-24 15:37:19,027:WARNING:\n",
      "Failed to read header row 6.\n",
      "2008 01 01 2016 07 08\n",
      "\n",
      "Error msg: IndexError('list index out of range',)\n"
     ]
    },
    {
     "name": "stderr",
     "output_type": "stream",
     "text": [
      "2018-09-24 15:37:19,094:WARNING:\n",
      "Failed to read header row 6.\n",
      "2008 01 01 2016 07 08\n",
      "\n",
      "Error msg: IndexError('list index out of range',)\n"
     ]
    },
    {
     "name": "stderr",
     "output_type": "stream",
     "text": [
      "2018-09-24 15:37:19,154:WARNING:\n",
      "Failed to read header row 6.\n",
      "2008 01 01 2016 07 08\n",
      "\n",
      "Error msg: IndexError('list index out of range',)\n"
     ]
    },
    {
     "name": "stderr",
     "output_type": "stream",
     "text": [
      "2018-09-24 15:37:19,207:WARNING:\n",
      "Failed to read header row 6.\n",
      "2008 01 01 2016 07 08\n",
      "\n",
      "Error msg: IndexError('list index out of range',)\n"
     ]
    },
    {
     "name": "stderr",
     "output_type": "stream",
     "text": [
      "2018-09-24 15:37:19,262:WARNING:\n",
      "Failed to read header row 6.\n",
      "2008 01 01 2016 07 08\n",
      "\n",
      "Error msg: IndexError('list index out of range',)\n"
     ]
    },
    {
     "name": "stderr",
     "output_type": "stream",
     "text": [
      "2018-09-24 15:37:19,317:WARNING:\n",
      "Failed to read header row 6.\n",
      "2008 01 01 2016 07 08\n",
      "\n",
      "Error msg: IndexError('list index out of range',)\n"
     ]
    },
    {
     "name": "stderr",
     "output_type": "stream",
     "text": [
      "2018-09-24 15:37:19,370:WARNING:\n",
      "Failed to read header row 6.\n",
      "2008 01 01 2016 07 08\n",
      "\n",
      "Error msg: IndexError('list index out of range',)\n"
     ]
    },
    {
     "name": "stderr",
     "output_type": "stream",
     "text": [
      "2018-09-24 15:37:19,424:WARNING:\n",
      "Failed to read header row 6.\n",
      "2008 01 01 2016 07 08\n",
      "\n",
      "Error msg: IndexError('list index out of range',)\n"
     ]
    },
    {
     "name": "stderr",
     "output_type": "stream",
     "text": [
      "2018-09-24 15:37:19,477:WARNING:\n",
      "Failed to read header row 6.\n",
      "2008 01 01 2016 07 08\n",
      "\n",
      "Error msg: IndexError('list index out of range',)\n"
     ]
    },
    {
     "name": "stderr",
     "output_type": "stream",
     "text": [
      "2018-09-24 15:37:19,530:WARNING:\n",
      "Failed to read header row 6.\n",
      "2008 01 01 2016 07 08\n",
      "\n",
      "Error msg: IndexError('list index out of range',)\n"
     ]
    },
    {
     "name": "stderr",
     "output_type": "stream",
     "text": [
      "2018-09-24 15:37:19,584:WARNING:\n",
      "Failed to read header row 6.\n",
      "2008 01 01 2016 07 08\n",
      "\n",
      "Error msg: IndexError('list index out of range',)\n"
     ]
    },
    {
     "name": "stderr",
     "output_type": "stream",
     "text": [
      "2018-09-24 15:37:19,648:WARNING:\n",
      "Failed to read header row 6.\n",
      "2008 01 01 2016 07 08\n",
      "\n",
      "Error msg: IndexError('list index out of range',)\n"
     ]
    },
    {
     "name": "stderr",
     "output_type": "stream",
     "text": [
      "2018-09-24 15:37:19,700:WARNING:\n",
      "Failed to read header row 6.\n",
      "2008 01 01 2016 07 08\n",
      "\n",
      "Error msg: IndexError('list index out of range',)\n"
     ]
    },
    {
     "name": "stderr",
     "output_type": "stream",
     "text": [
      "2018-09-24 15:37:19,766:WARNING:\n",
      "Failed to read header row 6.\n",
      "2008 01 01 2016 07 08\n",
      "\n",
      "Error msg: IndexError('list index out of range',)\n"
     ]
    },
    {
     "name": "stderr",
     "output_type": "stream",
     "text": [
      "2018-09-24 15:37:19,833:WARNING:\n",
      "Failed to read header row 6.\n",
      "2008 01 01 2016 07 08\n",
      "\n",
      "Error msg: IndexError('list index out of range',)\n"
     ]
    },
    {
     "name": "stderr",
     "output_type": "stream",
     "text": [
      "2018-09-24 15:37:19,889:WARNING:\n",
      "Failed to read header row 6.\n",
      "2008 01 01 2016 07 08\n",
      "\n",
      "Error msg: IndexError('list index out of range',)\n"
     ]
    },
    {
     "name": "stderr",
     "output_type": "stream",
     "text": [
      "2018-09-24 15:37:19,945:WARNING:\n",
      "Failed to read header row 6.\n",
      "2008 01 01 2016 07 08\n",
      "\n",
      "Error msg: IndexError('list index out of range',)\n"
     ]
    },
    {
     "name": "stderr",
     "output_type": "stream",
     "text": [
      "2018-09-24 15:37:19,999:WARNING:\n",
      "Failed to read header row 6.\n",
      "2008 01 01 2016 07 08\n",
      "\n",
      "Error msg: IndexError('list index out of range',)\n"
     ]
    },
    {
     "name": "stderr",
     "output_type": "stream",
     "text": [
      "2018-09-24 15:37:20,054:WARNING:\n",
      "Failed to read header row 6.\n",
      "2008 01 01 2016 07 08\n",
      "\n",
      "Error msg: IndexError('list index out of range',)\n"
     ]
    },
    {
     "name": "stderr",
     "output_type": "stream",
     "text": [
      "2018-09-24 15:37:20,112:WARNING:\n",
      "Failed to read header row 6.\n",
      "2008 01 01 2016 07 08\n",
      "\n",
      "Error msg: IndexError('list index out of range',)\n"
     ]
    },
    {
     "name": "stderr",
     "output_type": "stream",
     "text": [
      "2018-09-24 15:37:20,171:WARNING:\n",
      "Failed to read header row 6.\n",
      "2008 01 01 2016 07 08\n",
      "\n",
      "Error msg: IndexError('list index out of range',)\n"
     ]
    },
    {
     "name": "stderr",
     "output_type": "stream",
     "text": [
      "2018-09-24 15:37:20,228:WARNING:\n",
      "Failed to read header row 6.\n",
      "2008 01 01 2016 07 08\n",
      "\n",
      "Error msg: IndexError('list index out of range',)\n"
     ]
    },
    {
     "name": "stderr",
     "output_type": "stream",
     "text": [
      "2018-09-24 15:37:20,289:WARNING:\n",
      "Failed to read header row 6.\n",
      "2008 01 01 2016 07 08\n",
      "\n",
      "Error msg: IndexError('list index out of range',)\n"
     ]
    },
    {
     "name": "stderr",
     "output_type": "stream",
     "text": [
      "2018-09-24 15:37:20,346:WARNING:\n",
      "Failed to read header row 6.\n",
      "2008 01 01 2016 07 08\n",
      "\n",
      "Error msg: IndexError('list index out of range',)\n"
     ]
    },
    {
     "name": "stderr",
     "output_type": "stream",
     "text": [
      "2018-09-24 15:37:20,402:WARNING:\n",
      "Failed to read header row 6.\n",
      "2008 01 01 2016 07 08\n",
      "\n",
      "Error msg: IndexError('list index out of range',)\n"
     ]
    },
    {
     "name": "stderr",
     "output_type": "stream",
     "text": [
      "2018-09-24 15:37:20,459:WARNING:\n",
      "Failed to read header row 6.\n",
      "2008 01 01 2016 07 08\n",
      "\n",
      "Error msg: IndexError('list index out of range',)\n"
     ]
    },
    {
     "name": "stderr",
     "output_type": "stream",
     "text": [
      "2018-09-24 15:37:20,514:WARNING:\n",
      "Failed to read header row 6.\n",
      "2008 01 01 2016 07 08\n",
      "\n",
      "Error msg: IndexError('list index out of range',)\n"
     ]
    },
    {
     "name": "stderr",
     "output_type": "stream",
     "text": [
      "2018-09-24 15:37:20,569:WARNING:\n",
      "Failed to read header row 6.\n",
      "2008 01 01 2016 07 08\n",
      "\n",
      "Error msg: IndexError('list index out of range',)\n"
     ]
    },
    {
     "name": "stderr",
     "output_type": "stream",
     "text": [
      "2018-09-24 15:37:20,626:WARNING:\n",
      "Failed to read header row 6.\n",
      "2008 01 01 2016 07 08\n",
      "\n",
      "Error msg: IndexError('list index out of range',)\n"
     ]
    },
    {
     "name": "stderr",
     "output_type": "stream",
     "text": [
      "2018-09-24 15:37:20,682:WARNING:\n",
      "Failed to read header row 6.\n",
      "2008 01 01 2016 07 08\n",
      "\n",
      "Error msg: IndexError('list index out of range',)\n"
     ]
    },
    {
     "name": "stderr",
     "output_type": "stream",
     "text": [
      "2018-09-24 15:37:20,746:WARNING:\n",
      "Failed to read header row 6.\n",
      "2008 01 01 2016 07 08\n",
      "\n",
      "Error msg: IndexError('list index out of range',)\n"
     ]
    },
    {
     "name": "stderr",
     "output_type": "stream",
     "text": [
      "2018-09-24 15:37:20,802:WARNING:\n",
      "Failed to read header row 6.\n",
      "2008 01 01 2016 07 08\n",
      "\n",
      "Error msg: IndexError('list index out of range',)\n"
     ]
    },
    {
     "name": "stderr",
     "output_type": "stream",
     "text": [
      "2018-09-24 15:37:20,871:WARNING:\n",
      "Failed to read header row 6.\n",
      "2008 01 01 2016 07 08\n",
      "\n",
      "Error msg: IndexError('list index out of range',)\n"
     ]
    },
    {
     "name": "stderr",
     "output_type": "stream",
     "text": [
      "2018-09-24 15:37:20,927:WARNING:\n",
      "Failed to read header row 6.\n",
      "2008 01 01 2016 07 08\n",
      "\n",
      "Error msg: IndexError('list index out of range',)\n"
     ]
    },
    {
     "name": "stderr",
     "output_type": "stream",
     "text": [
      "2018-09-24 15:37:20,994:WARNING:\n",
      "Failed to read header row 6.\n",
      "2008 01 01 2016 07 08\n",
      "\n",
      "Error msg: IndexError('list index out of range',)\n"
     ]
    },
    {
     "name": "stderr",
     "output_type": "stream",
     "text": [
      "2018-09-24 15:37:21,048:WARNING:\n",
      "Failed to read header row 6.\n",
      "2008 01 01 2016 07 08\n",
      "\n",
      "Error msg: IndexError('list index out of range',)\n"
     ]
    },
    {
     "name": "stderr",
     "output_type": "stream",
     "text": [
      "2018-09-24 15:37:21,106:WARNING:\n",
      "Failed to read header row 6.\n",
      "2008 01 01 2016 07 08\n",
      "\n",
      "Error msg: IndexError('list index out of range',)\n"
     ]
    },
    {
     "name": "stderr",
     "output_type": "stream",
     "text": [
      "2018-09-24 15:37:21,162:WARNING:\n",
      "Failed to read header row 6.\n",
      "2008 01 01 2016 07 08\n",
      "\n",
      "Error msg: IndexError('list index out of range',)\n"
     ]
    },
    {
     "name": "stderr",
     "output_type": "stream",
     "text": [
      "2018-09-24 15:37:21,223:WARNING:\n",
      "Failed to read header row 6.\n",
      "2008 01 01 2016 07 08\n",
      "\n",
      "Error msg: IndexError('list index out of range',)\n"
     ]
    },
    {
     "name": "stderr",
     "output_type": "stream",
     "text": [
      "2018-09-24 15:37:21,278:WARNING:\n",
      "Failed to read header row 6.\n",
      "2008 01 01 2016 07 08\n",
      "\n",
      "Error msg: IndexError('list index out of range',)\n"
     ]
    },
    {
     "name": "stderr",
     "output_type": "stream",
     "text": [
      "2018-09-24 15:37:21,333:WARNING:\n",
      "Failed to read header row 6.\n",
      "2008 01 01 2016 07 08\n",
      "\n",
      "Error msg: IndexError('list index out of range',)\n"
     ]
    },
    {
     "name": "stderr",
     "output_type": "stream",
     "text": [
      "2018-09-24 15:37:21,388:WARNING:\n",
      "Failed to read header row 6.\n",
      "2008 01 01 2016 07 08\n",
      "\n",
      "Error msg: IndexError('list index out of range',)\n"
     ]
    },
    {
     "name": "stderr",
     "output_type": "stream",
     "text": [
      "2018-09-24 15:37:21,443:WARNING:\n",
      "Failed to read header row 6.\n",
      "2008 01 01 2016 07 08\n",
      "\n",
      "Error msg: IndexError('list index out of range',)\n"
     ]
    },
    {
     "name": "stderr",
     "output_type": "stream",
     "text": [
      "2018-09-24 15:37:21,497:WARNING:\n",
      "Failed to read header row 6.\n",
      "2008 01 01 2016 07 08\n",
      "\n",
      "Error msg: IndexError('list index out of range',)\n"
     ]
    },
    {
     "name": "stderr",
     "output_type": "stream",
     "text": [
      "2018-09-24 15:37:21,550:WARNING:\n",
      "Failed to read header row 6.\n",
      "2008 01 01 2016 07 08\n",
      "\n",
      "Error msg: IndexError('list index out of range',)\n"
     ]
    },
    {
     "name": "stderr",
     "output_type": "stream",
     "text": [
      "2018-09-24 15:37:21,605:WARNING:\n",
      "Failed to read header row 6.\n",
      "2008 01 01 2016 07 08\n",
      "\n",
      "Error msg: IndexError('list index out of range',)\n"
     ]
    },
    {
     "name": "stderr",
     "output_type": "stream",
     "text": [
      "2018-09-24 15:37:21,659:WARNING:\n",
      "Failed to read header row 6.\n",
      "2008 01 01 2016 07 08\n",
      "\n",
      "Error msg: IndexError('list index out of range',)\n"
     ]
    },
    {
     "name": "stderr",
     "output_type": "stream",
     "text": [
      "2018-09-24 15:37:21,712:WARNING:\n",
      "Failed to read header row 6.\n",
      "2008 01 01 2016 07 08\n",
      "\n",
      "Error msg: IndexError('list index out of range',)\n"
     ]
    },
    {
     "name": "stderr",
     "output_type": "stream",
     "text": [
      "2018-09-24 15:37:21,768:WARNING:\n",
      "Failed to read header row 6.\n",
      "2008 01 01 2016 07 08\n",
      "\n",
      "Error msg: IndexError('list index out of range',)\n"
     ]
    },
    {
     "name": "stderr",
     "output_type": "stream",
     "text": [
      "2018-09-24 15:37:21,821:WARNING:\n",
      "Failed to read header row 6.\n",
      "2008 01 01 2016 07 08\n",
      "\n",
      "Error msg: IndexError('list index out of range',)\n"
     ]
    },
    {
     "name": "stderr",
     "output_type": "stream",
     "text": [
      "2018-09-24 15:37:21,891:WARNING:\n",
      "Failed to read header row 6.\n",
      "2008 01 01 2016 07 08\n",
      "\n",
      "Error msg: IndexError('list index out of range',)\n"
     ]
    },
    {
     "name": "stderr",
     "output_type": "stream",
     "text": [
      "2018-09-24 15:37:21,948:WARNING:\n",
      "Failed to read header row 6.\n",
      "2008 01 01 2016 07 08\n",
      "\n",
      "Error msg: IndexError('list index out of range',)\n"
     ]
    },
    {
     "name": "stderr",
     "output_type": "stream",
     "text": [
      "2018-09-24 15:37:22,005:WARNING:\n",
      "Failed to read header row 6.\n",
      "2008 01 01 2016 07 08\n",
      "\n",
      "Error msg: IndexError('list index out of range',)\n"
     ]
    },
    {
     "name": "stderr",
     "output_type": "stream",
     "text": [
      "2018-09-24 15:37:22,059:WARNING:\n",
      "Failed to read header row 6.\n",
      "2008 01 01 2016 07 08\n",
      "\n",
      "Error msg: IndexError('list index out of range',)\n"
     ]
    },
    {
     "name": "stderr",
     "output_type": "stream",
     "text": [
      "2018-09-24 15:37:22,113:WARNING:\n",
      "Failed to read header row 6.\n",
      "2008 01 01 2016 07 08\n",
      "\n",
      "Error msg: IndexError('list index out of range',)\n"
     ]
    },
    {
     "name": "stderr",
     "output_type": "stream",
     "text": [
      "2018-09-24 15:37:22,166:WARNING:\n",
      "Failed to read header row 6.\n",
      "2008 01 01 2016 07 08\n",
      "\n",
      "Error msg: IndexError('list index out of range',)\n"
     ]
    },
    {
     "name": "stderr",
     "output_type": "stream",
     "text": [
      "2018-09-24 15:37:22,221:WARNING:\n",
      "Failed to read header row 6.\n",
      "2008 01 01 2016 07 08\n",
      "\n",
      "Error msg: IndexError('list index out of range',)\n"
     ]
    },
    {
     "name": "stderr",
     "output_type": "stream",
     "text": [
      "2018-09-24 15:37:22,280:WARNING:\n",
      "Failed to read header row 6.\n",
      "2008 01 01 2016 07 08\n",
      "\n",
      "Error msg: IndexError('list index out of range',)\n"
     ]
    },
    {
     "name": "stderr",
     "output_type": "stream",
     "text": [
      "2018-09-24 15:37:22,334:WARNING:\n",
      "Failed to read header row 6.\n",
      "2008 01 01 2016 07 08\n",
      "\n",
      "Error msg: IndexError('list index out of range',)\n"
     ]
    },
    {
     "name": "stdout",
     "output_type": "stream",
     "text": [
      "57.4 ms ± 2.02 ms per loop (mean ± std. dev. of 7 runs, 10 loops each)\n"
     ]
    }
   ],
   "source": [
    "%%timeit\n",
    "EbasNasaAmesFile(file=ebasdir+filename,\n",
    "                      only_head=False,          #set True if you only want to import header\n",
    "                      replace_invalid_nan=True, #replace invalid values with NaNs\n",
    "                      convert_timestamps=True,  #compute datetime64 timestamps from numerical values\n",
    "                      decode_flags=True,        #decode all flags (e.g. 0.111222333 -> 111 222 333)\n",
    "                      verbose=False)"
   ]
  }
 ],
 "metadata": {
  "kernelspec": {
   "display_name": "Python 3",
   "language": "python",
   "name": "python3"
  },
  "language_info": {
   "codemirror_mode": {
    "name": "ipython",
    "version": 3
   },
   "file_extension": ".py",
   "mimetype": "text/x-python",
   "name": "python",
   "nbconvert_exporter": "python",
   "pygments_lexer": "ipython3",
   "version": "3.6.6"
  }
 },
 "nbformat": 4,
 "nbformat_minor": 2
}
