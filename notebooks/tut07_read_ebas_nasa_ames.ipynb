{
 "cells": [
  {
   "cell_type": "markdown",
   "metadata": {},
   "source": [
    "### Tutorial showing how to read EBAS NASA Ames files\n",
    "\n",
    "**Note**: this notebook is currently under development\n",
    "\n",
    "Please see [here](https://ebas-submit.nilu.no/Submit-Data/Getting-started) for information related to the EBAS NASA Ames file format.\n",
    "\n",
    "**Further links**:\n",
    " - [Pyaerocom website](http://aerocom.met.no/pyaerocom/)\n",
    " - [Pyaerocom installation instructions](http://aerocom.met.no/pyaerocom/readme.html#installation)\n",
    " - [Getting started](http://aerocom.met.no/pyaerocom/notebooks.html#getting-started)"
   ]
  },
  {
   "cell_type": "code",
   "execution_count": 1,
   "metadata": {},
   "outputs": [
    {
     "name": "stderr",
     "output_type": "stream",
     "text": [
      "2018-09-21 11:36:46,200:WARNING:\n",
      "basemap extension library is not installed (or cannot be imported. Some features will not be available\n"
     ]
    },
    {
     "name": "stdout",
     "output_type": "stream",
     "text": [
      "Elapsed time init all variables: 0.026292085647583008 s\n"
     ]
    },
    {
     "name": "stderr",
     "output_type": "stream",
     "text": [
      "2018-09-21 11:36:46,944:WARNING:\n",
      "geopy library is not available. Aeolus data read not enabled\n"
     ]
    },
    {
     "name": "stderr",
     "output_type": "stream",
     "text": [
      "2018-09-21 11:36:47,100:WARNING:\n",
      "Failed to read header row 6.\n",
      "2008 01 01 2016 07 08\n",
      "\n",
      "Error msg: IndexError('list index out of range',)\n"
     ]
    },
    {
     "name": "stdout",
     "output_type": "stream",
     "text": [
      "Elapsed time init pyaerocom: 1.0720207691192627 s\n"
     ]
    },
    {
     "name": "stdout",
     "output_type": "stream",
     "text": [
      "Pyaerocom EbasNasaAmesFile\n",
      "--------------------------\n",
      "\n",
      "   num_head_lines: 60\n",
      "   num_head_fmt: 1001\n",
      "   data_originator: Flentje, Harald\n",
      "   sponsor_organisation: DE09L, Deutscher Wetterdienst, DWD, Met. Obs., Hohenspeissenberg, , 82283, Hohenspeissenberg, Germany\n",
      "   submitter: Flentje, Harald\n",
      "   project_association: EUSAAR GAW-WDCA\n",
      "   vol_num: 1\n",
      "   vol_totnum: 1\n",
      "   ref_date: 2008 01 01 2016 07 08\n",
      "   revision_date: nan\n",
      "   freq: 0.041667\n",
      "   descr_time_unit: days from file reference point\n",
      "   num_cols_dependent: 11\n",
      "   mul_factors (list, 11 items)\n",
      "   [1.0\n",
      "    1.0\n",
      "    ...\n",
      "    1.0\n",
      "    1.0]\n",
      "\n",
      "   vals_invalid (list, 11 items)\n",
      "   [999.999999\n",
      "    999.999\n",
      "    ...\n",
      "    9999.9\n",
      "    9.999999999]\n",
      "\n",
      "   descr_first_col: end_time of measurement, days from the file reference point\n",
      "\n",
      "   Column variable definitions\n",
      "   -------------------------------\n",
      "   EbasColDef: name=starttime, unit=days, is_var=False, is_flag=False, flag_id=, \n",
      "   EbasColDef: name=endtime, unit=days, is_var=False, is_flag=False, flag_id=, \n",
      "   EbasColDef: name=aerosol_light_backscattering_coefficient, unit=1/Mm, is_var=True, is_flag=False, flag_id=numflag, wavelength=450.0 nm, \n",
      "   EbasColDef: name=aerosol_light_backscattering_coefficient, unit=1/Mm, is_var=True, is_flag=False, flag_id=numflag, wavelength=550.0 nm, \n",
      "   EbasColDef: name=aerosol_light_backscattering_coefficient, unit=1/Mm, is_var=True, is_flag=False, flag_id=numflag, wavelength=700.0 nm, \n",
      "   EbasColDef: name=aerosol_light_scattering_coefficient, unit=1/Mm, is_var=True, is_flag=False, flag_id=numflag, wavelength=450.0 nm, \n",
      "   EbasColDef: name=aerosol_light_scattering_coefficient, unit=1/Mm, is_var=True, is_flag=False, flag_id=numflag, wavelength=550.0 nm, \n",
      "   EbasColDef: name=aerosol_light_scattering_coefficient, unit=1/Mm, is_var=True, is_flag=False, flag_id=numflag, wavelength=700.0 nm, \n",
      "   EbasColDef: name=pressure, unit=hPa, is_var=True, is_flag=False, flag_id=numflag, location=instrument internal, \n",
      "   EbasColDef: name=relative_humidity, unit=%, is_var=True, is_flag=False, flag_id=numflag, location=instrument internal, \n",
      "   EbasColDef: name=temperature, unit=K, is_var=True, is_flag=False, flag_id=numflag, location=instrument internal, \n",
      "   EbasColDef: name=numflag, unit=no unit, is_var=False, is_flag=True, flag_id=, \n",
      "\n",
      "   EBAS meta data\n",
      "   ------------------\n",
      "   verbose: False\n",
      "   data_definition: EBAS_1.1\n",
      "   set_type_code: TU\n",
      "   timezone: UTC\n",
      "   file_name: DE0043G.20080101000000.20160708144500.nephelometer..aerosol.1y.1h.DE09L_tsi_neph_3563.DE09L_nephelometer.lev2.nas\n",
      "   file_creation: 20180101031050\n",
      "   startdate: 20080101000000\n",
      "   revision_date: 20160708144500\n",
      "   statistics: arithmetic mean\n",
      "   data_level: 2\n",
      "   period_code: 1y\n",
      "   resolution_code: 1h\n",
      "   station_code: DE0043G\n",
      "   platform_code: DE0043S\n",
      "   station_name: Hohenpeissenberg\n",
      "   station_wdca-id: GAWADE__HPB\n",
      "   station_gaw-id: HPB\n",
      "   station_gaw-name: Hohenpeissenberg\n",
      "   station_land_use: Grassland\n",
      "   station_setting: Mountain\n",
      "   station_gaw_type: G\n",
      "   station_wmo_region: 6\n",
      "   station_latitude: 47.8014984131\n",
      "   station_longitude: 11.0096197128\n",
      "   station_altitude: 985.0 m\n",
      "   regime: IMG\n",
      "   component: \n",
      "   unit: 1/Mm\n",
      "   matrix: aerosol\n",
      "   laboratory_code: DE09L\n",
      "   instrument_type: nephelometer\n",
      "   instrument_name: tsi_neph_3563\n",
      "   method_ref: DE09L_nephelometer\n",
      "   originator: Flentje, Harald, Harald.Flentje@dwd.de, , , , , , , ,\n",
      "   submitter: Flentje, Harald, Harald.Flentje@dwd.de, , , , , , , ,\n",
      "\n",
      "   Data\n",
      "   --------\n",
      "[[0.00000000e+00 4.16670000e-02            nan ...            nan\n",
      "             nan 3.94999000e-01]\n",
      " [4.16670000e-02 8.33330000e-02            nan ...            nan\n",
      "             nan 3.94999000e-01]\n",
      " [8.33330000e-02 1.25000000e-01            nan ...            nan\n",
      "             nan 3.94999000e-01]\n",
      " ...\n",
      " [3.65875000e+02 3.65916667e+02 4.75900000e+00 ... 8.50000000e+00\n",
      "  2.99900000e+02 2.47000000e-01]\n",
      " [3.65916667e+02 3.65958310e+02 5.16200000e+00 ... 8.70000000e+00\n",
      "  2.99900000e+02 2.47000000e-01]\n",
      " [3.65958333e+02 3.66000000e+02 5.31800000e+00 ... 9.30000000e+00\n",
      "  2.99700000e+02 0.00000000e+00]]\n",
      "Colnum: 12\n",
      "Timestamps: 8784\n"
     ]
    }
   ],
   "source": [
    "import os \n",
    "from pyaerocom.io import EbasNasaAmesFile\n",
    "\n",
    "ebasdir = \"/lustre/storeA/project/aerocom/aerocom1/AEROCOM_OBSDATA/EBASMultiColumn/data/data/\"\n",
    "filename = \"DE0043G.20080101000000.20160708144500.nephelometer..aerosol.1y.1h.DE09L_tsi_neph_3563.DE09L_nephelometer.lev2.nas\"\n",
    "\n",
    "mc = EbasNasaAmesFile(file=ebasdir+filename,\n",
    "                      only_head=False,          #set True if you only want to import header\n",
    "                      replace_invalid_nan=True, #replace invalid values with NaNs\n",
    "                      convert_timestamps=True,  #compute datetime64 timestamps from numerical values\n",
    "                      decode_flags=True,        #decode all flags (e.g. 0.111222333 -> 111 222 333)\n",
    "                      verbose=False)\n",
    "print(mc)"
   ]
  },
  {
   "cell_type": "markdown",
   "metadata": {},
   "source": [
    "#### Column information"
   ]
  },
  {
   "cell_type": "code",
   "execution_count": 2,
   "metadata": {},
   "outputs": [
    {
     "name": "stdout",
     "output_type": "stream",
     "text": [
      "Column 0\n",
      "Pyaerocom EbasColDef\n",
      "--------------------\n",
      "name: starttime\n",
      "unit: days\n",
      "is_var: False\n",
      "is_flag: False\n",
      "flag_id: \n",
      "\n",
      "Column 1\n",
      "Pyaerocom EbasColDef\n",
      "--------------------\n",
      "name: endtime\n",
      "unit: days\n",
      "is_var: False\n",
      "is_flag: False\n",
      "flag_id: \n",
      "\n",
      "Column 2\n",
      "Pyaerocom EbasColDef\n",
      "--------------------\n",
      "name: aerosol_light_backscattering_coefficient\n",
      "unit: 1/Mm\n",
      "is_var: True\n",
      "is_flag: False\n",
      "flag_id: numflag\n",
      "wavelength: 450.0 nm\n",
      "\n",
      "Column 3\n",
      "Pyaerocom EbasColDef\n",
      "--------------------\n",
      "name: aerosol_light_backscattering_coefficient\n",
      "unit: 1/Mm\n",
      "is_var: True\n",
      "is_flag: False\n",
      "flag_id: numflag\n",
      "wavelength: 550.0 nm\n",
      "\n",
      "Column 4\n",
      "Pyaerocom EbasColDef\n",
      "--------------------\n",
      "name: aerosol_light_backscattering_coefficient\n",
      "unit: 1/Mm\n",
      "is_var: True\n",
      "is_flag: False\n",
      "flag_id: numflag\n",
      "wavelength: 700.0 nm\n",
      "\n",
      "Column 5\n",
      "Pyaerocom EbasColDef\n",
      "--------------------\n",
      "name: aerosol_light_scattering_coefficient\n",
      "unit: 1/Mm\n",
      "is_var: True\n",
      "is_flag: False\n",
      "flag_id: numflag\n",
      "wavelength: 450.0 nm\n",
      "\n",
      "Column 6\n",
      "Pyaerocom EbasColDef\n",
      "--------------------\n",
      "name: aerosol_light_scattering_coefficient\n",
      "unit: 1/Mm\n",
      "is_var: True\n",
      "is_flag: False\n",
      "flag_id: numflag\n",
      "wavelength: 550.0 nm\n",
      "\n",
      "Column 7\n",
      "Pyaerocom EbasColDef\n",
      "--------------------\n",
      "name: aerosol_light_scattering_coefficient\n",
      "unit: 1/Mm\n",
      "is_var: True\n",
      "is_flag: False\n",
      "flag_id: numflag\n",
      "wavelength: 700.0 nm\n",
      "\n",
      "Column 8\n",
      "Pyaerocom EbasColDef\n",
      "--------------------\n",
      "name: pressure\n",
      "unit: hPa\n",
      "is_var: True\n",
      "is_flag: False\n",
      "flag_id: numflag\n",
      "location: instrument internal\n",
      "\n",
      "Column 9\n",
      "Pyaerocom EbasColDef\n",
      "--------------------\n",
      "name: relative_humidity\n",
      "unit: %\n",
      "is_var: True\n",
      "is_flag: False\n",
      "flag_id: numflag\n",
      "location: instrument internal\n",
      "\n",
      "Column 10\n",
      "Pyaerocom EbasColDef\n",
      "--------------------\n",
      "name: temperature\n",
      "unit: K\n",
      "is_var: True\n",
      "is_flag: False\n",
      "flag_id: numflag\n",
      "location: instrument internal\n",
      "\n",
      "Column 11\n",
      "Pyaerocom EbasColDef\n",
      "--------------------\n",
      "name: numflag\n",
      "unit: no unit\n",
      "is_var: False\n",
      "is_flag: True\n",
      "flag_id: \n",
      "\n"
     ]
    }
   ],
   "source": [
    "mc.print_col_info()"
   ]
  },
  {
   "cell_type": "markdown",
   "metadata": {},
   "source": [
    "You can see that all variable columns were assigned the same flag column, since there is only one. This would be different if there were multiple flag columns (e.g. one for each variable).\n",
    "\n",
    "#### Access flag information\n",
    "\n",
    "You can access the flags for each column using the ``flags`` attribute of the file."
   ]
  },
  {
   "cell_type": "code",
   "execution_count": 3,
   "metadata": {},
   "outputs": [
    {
     "data": {
      "text/plain": [
       "OrderedDict([('numflag',\n",
       "              <pyaerocom.io.ebas_nasa_ames.EbasFlagCol at 0x7f36700d9908>)])"
      ]
     },
     "execution_count": 3,
     "metadata": {},
     "output_type": "execute_result"
    }
   ],
   "source": [
    "mc.flags"
   ]
  },
  {
   "cell_type": "code",
   "execution_count": 4,
   "metadata": {},
   "outputs": [],
   "source": [
    "flagcol = mc.flags[\"numflag\"]"
   ]
  },
  {
   "cell_type": "markdown",
   "metadata": {},
   "source": [
    "The raw flags can be accessed via:"
   ]
  },
  {
   "cell_type": "code",
   "execution_count": 5,
   "metadata": {},
   "outputs": [
    {
     "data": {
      "text/plain": [
       "array([0.394999, 0.394999, 0.394999, ..., 0.247   , 0.247   , 0.      ])"
      ]
     },
     "execution_count": 5,
     "metadata": {},
     "output_type": "execute_result"
    }
   ],
   "source": [
    "flagcol.raw_data"
   ]
  },
  {
   "cell_type": "markdown",
   "metadata": {},
   "source": [
    "And the processed flags are in stored in a (Nx3) numpy array where N is the total number of timestamps."
   ]
  },
  {
   "cell_type": "code",
   "execution_count": 6,
   "metadata": {},
   "outputs": [
    {
     "data": {
      "text/plain": [
       "array([[394, 999,   0],\n",
       "       [394, 999,   0],\n",
       "       [394, 999,   0],\n",
       "       ...,\n",
       "       [247,   0,   0],\n",
       "       [247,   0,   0],\n",
       "       [  0,   0,   0]])"
      ]
     },
     "execution_count": 6,
     "metadata": {},
     "output_type": "execute_result"
    }
   ],
   "source": [
    "flagcol.flags"
   ]
  },
  {
   "cell_type": "markdown",
   "metadata": {},
   "source": [
    "For instance, access the flags of the 5 timestamp:"
   ]
  },
  {
   "cell_type": "code",
   "execution_count": 7,
   "metadata": {},
   "outputs": [
    {
     "data": {
      "text/plain": [
       "array([394, 999,   0])"
      ]
     },
     "execution_count": 7,
     "metadata": {},
     "output_type": "execute_result"
    }
   ],
   "source": [
    "flagcol.flags[4]"
   ]
  },
  {
   "cell_type": "markdown",
   "metadata": {},
   "source": [
    "#### Convert object to pandas Dataframe\n",
    "\n",
    "The conversion does currently exclude all flag columns"
   ]
  },
  {
   "cell_type": "code",
   "execution_count": 8,
   "metadata": {},
   "outputs": [
    {
     "data": {
      "text/html": [
       "<div>\n",
       "<style scoped>\n",
       "    .dataframe tbody tr th:only-of-type {\n",
       "        vertical-align: middle;\n",
       "    }\n",
       "\n",
       "    .dataframe tbody tr th {\n",
       "        vertical-align: top;\n",
       "    }\n",
       "\n",
       "    .dataframe thead th {\n",
       "        text-align: right;\n",
       "    }\n",
       "</style>\n",
       "<table border=\"1\" class=\"dataframe\">\n",
       "  <thead>\n",
       "    <tr style=\"text-align: right;\">\n",
       "      <th></th>\n",
       "      <th>aerosol_light_backscattering_coefficient</th>\n",
       "      <th>aerosol_light_backscattering_coefficient</th>\n",
       "      <th>aerosol_light_backscattering_coefficient</th>\n",
       "      <th>aerosol_light_scattering_coefficient</th>\n",
       "      <th>aerosol_light_scattering_coefficient</th>\n",
       "      <th>aerosol_light_scattering_coefficient</th>\n",
       "      <th>pressure</th>\n",
       "      <th>relative_humidity</th>\n",
       "      <th>temperature</th>\n",
       "    </tr>\n",
       "  </thead>\n",
       "  <tbody>\n",
       "    <tr>\n",
       "      <th>2008-01-01 00:30:00</th>\n",
       "      <td>NaN</td>\n",
       "      <td>NaN</td>\n",
       "      <td>NaN</td>\n",
       "      <td>NaN</td>\n",
       "      <td>NaN</td>\n",
       "      <td>NaN</td>\n",
       "      <td>NaN</td>\n",
       "      <td>NaN</td>\n",
       "      <td>NaN</td>\n",
       "    </tr>\n",
       "    <tr>\n",
       "      <th>2008-01-01 01:29:59</th>\n",
       "      <td>NaN</td>\n",
       "      <td>NaN</td>\n",
       "      <td>NaN</td>\n",
       "      <td>NaN</td>\n",
       "      <td>NaN</td>\n",
       "      <td>NaN</td>\n",
       "      <td>NaN</td>\n",
       "      <td>NaN</td>\n",
       "      <td>NaN</td>\n",
       "    </tr>\n",
       "    <tr>\n",
       "      <th>2008-01-01 02:29:59</th>\n",
       "      <td>NaN</td>\n",
       "      <td>NaN</td>\n",
       "      <td>NaN</td>\n",
       "      <td>NaN</td>\n",
       "      <td>NaN</td>\n",
       "      <td>NaN</td>\n",
       "      <td>NaN</td>\n",
       "      <td>NaN</td>\n",
       "      <td>NaN</td>\n",
       "    </tr>\n",
       "    <tr>\n",
       "      <th>2008-01-01 03:30:00</th>\n",
       "      <td>NaN</td>\n",
       "      <td>NaN</td>\n",
       "      <td>NaN</td>\n",
       "      <td>NaN</td>\n",
       "      <td>NaN</td>\n",
       "      <td>NaN</td>\n",
       "      <td>NaN</td>\n",
       "      <td>NaN</td>\n",
       "      <td>NaN</td>\n",
       "    </tr>\n",
       "    <tr>\n",
       "      <th>2008-01-01 04:29:59</th>\n",
       "      <td>NaN</td>\n",
       "      <td>NaN</td>\n",
       "      <td>NaN</td>\n",
       "      <td>NaN</td>\n",
       "      <td>NaN</td>\n",
       "      <td>NaN</td>\n",
       "      <td>NaN</td>\n",
       "      <td>NaN</td>\n",
       "      <td>NaN</td>\n",
       "    </tr>\n",
       "    <tr>\n",
       "      <th>2008-01-01 05:29:59</th>\n",
       "      <td>NaN</td>\n",
       "      <td>NaN</td>\n",
       "      <td>NaN</td>\n",
       "      <td>NaN</td>\n",
       "      <td>NaN</td>\n",
       "      <td>NaN</td>\n",
       "      <td>NaN</td>\n",
       "      <td>NaN</td>\n",
       "      <td>NaN</td>\n",
       "    </tr>\n",
       "    <tr>\n",
       "      <th>2008-01-01 06:30:00</th>\n",
       "      <td>NaN</td>\n",
       "      <td>NaN</td>\n",
       "      <td>NaN</td>\n",
       "      <td>NaN</td>\n",
       "      <td>NaN</td>\n",
       "      <td>NaN</td>\n",
       "      <td>NaN</td>\n",
       "      <td>NaN</td>\n",
       "      <td>NaN</td>\n",
       "    </tr>\n",
       "    <tr>\n",
       "      <th>2008-01-01 07:29:59</th>\n",
       "      <td>NaN</td>\n",
       "      <td>NaN</td>\n",
       "      <td>NaN</td>\n",
       "      <td>NaN</td>\n",
       "      <td>NaN</td>\n",
       "      <td>NaN</td>\n",
       "      <td>NaN</td>\n",
       "      <td>NaN</td>\n",
       "      <td>NaN</td>\n",
       "    </tr>\n",
       "    <tr>\n",
       "      <th>2008-01-01 08:29:59</th>\n",
       "      <td>NaN</td>\n",
       "      <td>NaN</td>\n",
       "      <td>NaN</td>\n",
       "      <td>NaN</td>\n",
       "      <td>NaN</td>\n",
       "      <td>NaN</td>\n",
       "      <td>NaN</td>\n",
       "      <td>NaN</td>\n",
       "      <td>NaN</td>\n",
       "    </tr>\n",
       "    <tr>\n",
       "      <th>2008-01-01 09:30:00</th>\n",
       "      <td>NaN</td>\n",
       "      <td>NaN</td>\n",
       "      <td>NaN</td>\n",
       "      <td>NaN</td>\n",
       "      <td>NaN</td>\n",
       "      <td>NaN</td>\n",
       "      <td>NaN</td>\n",
       "      <td>NaN</td>\n",
       "      <td>NaN</td>\n",
       "    </tr>\n",
       "    <tr>\n",
       "      <th>2008-01-01 10:29:59</th>\n",
       "      <td>NaN</td>\n",
       "      <td>NaN</td>\n",
       "      <td>NaN</td>\n",
       "      <td>NaN</td>\n",
       "      <td>NaN</td>\n",
       "      <td>NaN</td>\n",
       "      <td>NaN</td>\n",
       "      <td>NaN</td>\n",
       "      <td>NaN</td>\n",
       "    </tr>\n",
       "    <tr>\n",
       "      <th>2008-01-01 11:29:59</th>\n",
       "      <td>NaN</td>\n",
       "      <td>NaN</td>\n",
       "      <td>NaN</td>\n",
       "      <td>NaN</td>\n",
       "      <td>NaN</td>\n",
       "      <td>NaN</td>\n",
       "      <td>NaN</td>\n",
       "      <td>NaN</td>\n",
       "      <td>NaN</td>\n",
       "    </tr>\n",
       "    <tr>\n",
       "      <th>2008-01-01 12:30:00</th>\n",
       "      <td>NaN</td>\n",
       "      <td>NaN</td>\n",
       "      <td>NaN</td>\n",
       "      <td>NaN</td>\n",
       "      <td>NaN</td>\n",
       "      <td>NaN</td>\n",
       "      <td>NaN</td>\n",
       "      <td>NaN</td>\n",
       "      <td>NaN</td>\n",
       "    </tr>\n",
       "    <tr>\n",
       "      <th>2008-01-01 13:29:59</th>\n",
       "      <td>NaN</td>\n",
       "      <td>NaN</td>\n",
       "      <td>NaN</td>\n",
       "      <td>NaN</td>\n",
       "      <td>NaN</td>\n",
       "      <td>NaN</td>\n",
       "      <td>NaN</td>\n",
       "      <td>NaN</td>\n",
       "      <td>NaN</td>\n",
       "    </tr>\n",
       "    <tr>\n",
       "      <th>2008-01-01 14:29:59</th>\n",
       "      <td>NaN</td>\n",
       "      <td>NaN</td>\n",
       "      <td>NaN</td>\n",
       "      <td>NaN</td>\n",
       "      <td>NaN</td>\n",
       "      <td>NaN</td>\n",
       "      <td>NaN</td>\n",
       "      <td>NaN</td>\n",
       "      <td>NaN</td>\n",
       "    </tr>\n",
       "    <tr>\n",
       "      <th>2008-01-01 15:30:00</th>\n",
       "      <td>NaN</td>\n",
       "      <td>NaN</td>\n",
       "      <td>NaN</td>\n",
       "      <td>NaN</td>\n",
       "      <td>NaN</td>\n",
       "      <td>NaN</td>\n",
       "      <td>NaN</td>\n",
       "      <td>NaN</td>\n",
       "      <td>NaN</td>\n",
       "    </tr>\n",
       "    <tr>\n",
       "      <th>2008-01-01 16:29:59</th>\n",
       "      <td>NaN</td>\n",
       "      <td>NaN</td>\n",
       "      <td>NaN</td>\n",
       "      <td>NaN</td>\n",
       "      <td>NaN</td>\n",
       "      <td>NaN</td>\n",
       "      <td>NaN</td>\n",
       "      <td>NaN</td>\n",
       "      <td>NaN</td>\n",
       "    </tr>\n",
       "    <tr>\n",
       "      <th>2008-01-01 17:29:59</th>\n",
       "      <td>NaN</td>\n",
       "      <td>NaN</td>\n",
       "      <td>NaN</td>\n",
       "      <td>NaN</td>\n",
       "      <td>NaN</td>\n",
       "      <td>NaN</td>\n",
       "      <td>NaN</td>\n",
       "      <td>NaN</td>\n",
       "      <td>NaN</td>\n",
       "    </tr>\n",
       "    <tr>\n",
       "      <th>2008-01-01 18:30:00</th>\n",
       "      <td>NaN</td>\n",
       "      <td>NaN</td>\n",
       "      <td>NaN</td>\n",
       "      <td>NaN</td>\n",
       "      <td>NaN</td>\n",
       "      <td>NaN</td>\n",
       "      <td>NaN</td>\n",
       "      <td>NaN</td>\n",
       "      <td>NaN</td>\n",
       "    </tr>\n",
       "    <tr>\n",
       "      <th>2008-01-01 19:29:59</th>\n",
       "      <td>NaN</td>\n",
       "      <td>NaN</td>\n",
       "      <td>NaN</td>\n",
       "      <td>NaN</td>\n",
       "      <td>NaN</td>\n",
       "      <td>NaN</td>\n",
       "      <td>NaN</td>\n",
       "      <td>NaN</td>\n",
       "      <td>NaN</td>\n",
       "    </tr>\n",
       "    <tr>\n",
       "      <th>2008-01-01 20:29:59</th>\n",
       "      <td>NaN</td>\n",
       "      <td>NaN</td>\n",
       "      <td>NaN</td>\n",
       "      <td>NaN</td>\n",
       "      <td>NaN</td>\n",
       "      <td>NaN</td>\n",
       "      <td>NaN</td>\n",
       "      <td>NaN</td>\n",
       "      <td>NaN</td>\n",
       "    </tr>\n",
       "    <tr>\n",
       "      <th>2008-01-01 21:30:00</th>\n",
       "      <td>NaN</td>\n",
       "      <td>NaN</td>\n",
       "      <td>NaN</td>\n",
       "      <td>NaN</td>\n",
       "      <td>NaN</td>\n",
       "      <td>NaN</td>\n",
       "      <td>NaN</td>\n",
       "      <td>NaN</td>\n",
       "      <td>NaN</td>\n",
       "    </tr>\n",
       "    <tr>\n",
       "      <th>2008-01-01 22:29:59</th>\n",
       "      <td>NaN</td>\n",
       "      <td>NaN</td>\n",
       "      <td>NaN</td>\n",
       "      <td>NaN</td>\n",
       "      <td>NaN</td>\n",
       "      <td>NaN</td>\n",
       "      <td>NaN</td>\n",
       "      <td>NaN</td>\n",
       "      <td>NaN</td>\n",
       "    </tr>\n",
       "    <tr>\n",
       "      <th>2008-01-01 23:29:59</th>\n",
       "      <td>NaN</td>\n",
       "      <td>NaN</td>\n",
       "      <td>NaN</td>\n",
       "      <td>NaN</td>\n",
       "      <td>NaN</td>\n",
       "      <td>NaN</td>\n",
       "      <td>NaN</td>\n",
       "      <td>NaN</td>\n",
       "      <td>NaN</td>\n",
       "    </tr>\n",
       "    <tr>\n",
       "      <th>2008-01-02 00:30:00</th>\n",
       "      <td>NaN</td>\n",
       "      <td>NaN</td>\n",
       "      <td>NaN</td>\n",
       "      <td>NaN</td>\n",
       "      <td>NaN</td>\n",
       "      <td>NaN</td>\n",
       "      <td>NaN</td>\n",
       "      <td>NaN</td>\n",
       "      <td>NaN</td>\n",
       "    </tr>\n",
       "    <tr>\n",
       "      <th>2008-01-02 01:29:59</th>\n",
       "      <td>NaN</td>\n",
       "      <td>NaN</td>\n",
       "      <td>NaN</td>\n",
       "      <td>NaN</td>\n",
       "      <td>NaN</td>\n",
       "      <td>NaN</td>\n",
       "      <td>NaN</td>\n",
       "      <td>NaN</td>\n",
       "      <td>NaN</td>\n",
       "    </tr>\n",
       "    <tr>\n",
       "      <th>2008-01-02 02:29:59</th>\n",
       "      <td>NaN</td>\n",
       "      <td>NaN</td>\n",
       "      <td>NaN</td>\n",
       "      <td>NaN</td>\n",
       "      <td>NaN</td>\n",
       "      <td>NaN</td>\n",
       "      <td>NaN</td>\n",
       "      <td>NaN</td>\n",
       "      <td>NaN</td>\n",
       "    </tr>\n",
       "    <tr>\n",
       "      <th>2008-01-02 03:30:00</th>\n",
       "      <td>NaN</td>\n",
       "      <td>NaN</td>\n",
       "      <td>NaN</td>\n",
       "      <td>NaN</td>\n",
       "      <td>NaN</td>\n",
       "      <td>NaN</td>\n",
       "      <td>NaN</td>\n",
       "      <td>NaN</td>\n",
       "      <td>NaN</td>\n",
       "    </tr>\n",
       "    <tr>\n",
       "      <th>2008-01-02 04:29:59</th>\n",
       "      <td>NaN</td>\n",
       "      <td>NaN</td>\n",
       "      <td>NaN</td>\n",
       "      <td>NaN</td>\n",
       "      <td>NaN</td>\n",
       "      <td>NaN</td>\n",
       "      <td>NaN</td>\n",
       "      <td>NaN</td>\n",
       "      <td>NaN</td>\n",
       "    </tr>\n",
       "    <tr>\n",
       "      <th>2008-01-02 05:29:59</th>\n",
       "      <td>NaN</td>\n",
       "      <td>NaN</td>\n",
       "      <td>NaN</td>\n",
       "      <td>NaN</td>\n",
       "      <td>NaN</td>\n",
       "      <td>NaN</td>\n",
       "      <td>NaN</td>\n",
       "      <td>NaN</td>\n",
       "      <td>NaN</td>\n",
       "    </tr>\n",
       "    <tr>\n",
       "      <th>...</th>\n",
       "      <td>...</td>\n",
       "      <td>...</td>\n",
       "      <td>...</td>\n",
       "      <td>...</td>\n",
       "      <td>...</td>\n",
       "      <td>...</td>\n",
       "      <td>...</td>\n",
       "      <td>...</td>\n",
       "      <td>...</td>\n",
       "    </tr>\n",
       "    <tr>\n",
       "      <th>2008-12-30 18:30:00</th>\n",
       "      <td>0.547</td>\n",
       "      <td>0.409</td>\n",
       "      <td>0.303</td>\n",
       "      <td>5.250</td>\n",
       "      <td>3.716</td>\n",
       "      <td>2.264</td>\n",
       "      <td>909.0</td>\n",
       "      <td>4.5</td>\n",
       "      <td>300.4</td>\n",
       "    </tr>\n",
       "    <tr>\n",
       "      <th>2008-12-30 19:29:58</th>\n",
       "      <td>1.045</td>\n",
       "      <td>0.688</td>\n",
       "      <td>0.558</td>\n",
       "      <td>7.934</td>\n",
       "      <td>5.414</td>\n",
       "      <td>3.308</td>\n",
       "      <td>909.0</td>\n",
       "      <td>5.7</td>\n",
       "      <td>300.2</td>\n",
       "    </tr>\n",
       "    <tr>\n",
       "      <th>2008-12-30 20:29:59</th>\n",
       "      <td>7.862</td>\n",
       "      <td>5.979</td>\n",
       "      <td>4.602</td>\n",
       "      <td>70.955</td>\n",
       "      <td>50.095</td>\n",
       "      <td>30.940</td>\n",
       "      <td>909.0</td>\n",
       "      <td>8.9</td>\n",
       "      <td>300.4</td>\n",
       "    </tr>\n",
       "    <tr>\n",
       "      <th>2008-12-30 21:30:00</th>\n",
       "      <td>11.044</td>\n",
       "      <td>8.777</td>\n",
       "      <td>6.770</td>\n",
       "      <td>103.578</td>\n",
       "      <td>73.434</td>\n",
       "      <td>45.628</td>\n",
       "      <td>909.0</td>\n",
       "      <td>9.2</td>\n",
       "      <td>300.3</td>\n",
       "    </tr>\n",
       "    <tr>\n",
       "      <th>2008-12-30 22:29:58</th>\n",
       "      <td>6.420</td>\n",
       "      <td>5.011</td>\n",
       "      <td>3.801</td>\n",
       "      <td>57.828</td>\n",
       "      <td>40.803</td>\n",
       "      <td>25.309</td>\n",
       "      <td>909.0</td>\n",
       "      <td>8.7</td>\n",
       "      <td>300.1</td>\n",
       "    </tr>\n",
       "    <tr>\n",
       "      <th>2008-12-30 23:29:59</th>\n",
       "      <td>3.947</td>\n",
       "      <td>3.107</td>\n",
       "      <td>2.509</td>\n",
       "      <td>41.293</td>\n",
       "      <td>30.195</td>\n",
       "      <td>19.253</td>\n",
       "      <td>909.0</td>\n",
       "      <td>8.1</td>\n",
       "      <td>300.4</td>\n",
       "    </tr>\n",
       "    <tr>\n",
       "      <th>2008-12-31 00:30:00</th>\n",
       "      <td>2.950</td>\n",
       "      <td>2.492</td>\n",
       "      <td>1.939</td>\n",
       "      <td>32.975</td>\n",
       "      <td>24.133</td>\n",
       "      <td>15.449</td>\n",
       "      <td>908.0</td>\n",
       "      <td>7.9</td>\n",
       "      <td>299.8</td>\n",
       "    </tr>\n",
       "    <tr>\n",
       "      <th>2008-12-31 01:29:58</th>\n",
       "      <td>2.024</td>\n",
       "      <td>1.660</td>\n",
       "      <td>1.362</td>\n",
       "      <td>22.381</td>\n",
       "      <td>16.227</td>\n",
       "      <td>10.269</td>\n",
       "      <td>908.0</td>\n",
       "      <td>7.5</td>\n",
       "      <td>300.2</td>\n",
       "    </tr>\n",
       "    <tr>\n",
       "      <th>2008-12-31 02:29:59</th>\n",
       "      <td>0.731</td>\n",
       "      <td>0.569</td>\n",
       "      <td>0.508</td>\n",
       "      <td>6.382</td>\n",
       "      <td>4.487</td>\n",
       "      <td>2.890</td>\n",
       "      <td>907.0</td>\n",
       "      <td>6.6</td>\n",
       "      <td>299.9</td>\n",
       "    </tr>\n",
       "    <tr>\n",
       "      <th>2008-12-31 03:30:00</th>\n",
       "      <td>0.733</td>\n",
       "      <td>0.659</td>\n",
       "      <td>0.506</td>\n",
       "      <td>6.934</td>\n",
       "      <td>4.876</td>\n",
       "      <td>3.026</td>\n",
       "      <td>907.0</td>\n",
       "      <td>6.7</td>\n",
       "      <td>299.8</td>\n",
       "    </tr>\n",
       "    <tr>\n",
       "      <th>2008-12-31 04:29:58</th>\n",
       "      <td>0.994</td>\n",
       "      <td>0.779</td>\n",
       "      <td>0.714</td>\n",
       "      <td>9.422</td>\n",
       "      <td>6.621</td>\n",
       "      <td>4.073</td>\n",
       "      <td>907.0</td>\n",
       "      <td>7.0</td>\n",
       "      <td>300.2</td>\n",
       "    </tr>\n",
       "    <tr>\n",
       "      <th>2008-12-31 05:29:59</th>\n",
       "      <td>1.842</td>\n",
       "      <td>1.514</td>\n",
       "      <td>1.198</td>\n",
       "      <td>18.791</td>\n",
       "      <td>13.431</td>\n",
       "      <td>8.296</td>\n",
       "      <td>906.0</td>\n",
       "      <td>7.5</td>\n",
       "      <td>300.2</td>\n",
       "    </tr>\n",
       "    <tr>\n",
       "      <th>2008-12-31 06:30:00</th>\n",
       "      <td>4.045</td>\n",
       "      <td>3.247</td>\n",
       "      <td>2.608</td>\n",
       "      <td>42.560</td>\n",
       "      <td>31.077</td>\n",
       "      <td>19.972</td>\n",
       "      <td>906.0</td>\n",
       "      <td>8.2</td>\n",
       "      <td>299.9</td>\n",
       "    </tr>\n",
       "    <tr>\n",
       "      <th>2008-12-31 07:29:58</th>\n",
       "      <td>3.753</td>\n",
       "      <td>2.974</td>\n",
       "      <td>2.371</td>\n",
       "      <td>40.905</td>\n",
       "      <td>29.963</td>\n",
       "      <td>19.293</td>\n",
       "      <td>906.0</td>\n",
       "      <td>8.0</td>\n",
       "      <td>299.8</td>\n",
       "    </tr>\n",
       "    <tr>\n",
       "      <th>2008-12-31 08:29:59</th>\n",
       "      <td>2.799</td>\n",
       "      <td>2.189</td>\n",
       "      <td>1.745</td>\n",
       "      <td>29.099</td>\n",
       "      <td>21.226</td>\n",
       "      <td>13.575</td>\n",
       "      <td>906.0</td>\n",
       "      <td>7.7</td>\n",
       "      <td>299.9</td>\n",
       "    </tr>\n",
       "    <tr>\n",
       "      <th>2008-12-31 09:30:00</th>\n",
       "      <td>1.760</td>\n",
       "      <td>1.427</td>\n",
       "      <td>1.077</td>\n",
       "      <td>16.988</td>\n",
       "      <td>12.135</td>\n",
       "      <td>7.623</td>\n",
       "      <td>906.0</td>\n",
       "      <td>7.1</td>\n",
       "      <td>300.3</td>\n",
       "    </tr>\n",
       "    <tr>\n",
       "      <th>2008-12-31 10:29:58</th>\n",
       "      <td>2.548</td>\n",
       "      <td>1.917</td>\n",
       "      <td>1.455</td>\n",
       "      <td>24.601</td>\n",
       "      <td>17.758</td>\n",
       "      <td>11.318</td>\n",
       "      <td>905.0</td>\n",
       "      <td>7.1</td>\n",
       "      <td>300.7</td>\n",
       "    </tr>\n",
       "    <tr>\n",
       "      <th>2008-12-31 11:29:59</th>\n",
       "      <td>2.486</td>\n",
       "      <td>1.909</td>\n",
       "      <td>1.442</td>\n",
       "      <td>24.114</td>\n",
       "      <td>17.331</td>\n",
       "      <td>11.010</td>\n",
       "      <td>905.0</td>\n",
       "      <td>7.0</td>\n",
       "      <td>301.2</td>\n",
       "    </tr>\n",
       "    <tr>\n",
       "      <th>2008-12-31 12:30:00</th>\n",
       "      <td>2.660</td>\n",
       "      <td>2.172</td>\n",
       "      <td>1.623</td>\n",
       "      <td>27.016</td>\n",
       "      <td>19.509</td>\n",
       "      <td>12.520</td>\n",
       "      <td>905.0</td>\n",
       "      <td>7.4</td>\n",
       "      <td>300.9</td>\n",
       "    </tr>\n",
       "    <tr>\n",
       "      <th>2008-12-31 13:29:58</th>\n",
       "      <td>6.408</td>\n",
       "      <td>5.162</td>\n",
       "      <td>4.016</td>\n",
       "      <td>62.217</td>\n",
       "      <td>44.872</td>\n",
       "      <td>28.652</td>\n",
       "      <td>905.0</td>\n",
       "      <td>8.7</td>\n",
       "      <td>300.6</td>\n",
       "    </tr>\n",
       "    <tr>\n",
       "      <th>2008-12-31 14:29:59</th>\n",
       "      <td>8.818</td>\n",
       "      <td>7.038</td>\n",
       "      <td>5.385</td>\n",
       "      <td>80.137</td>\n",
       "      <td>56.764</td>\n",
       "      <td>35.320</td>\n",
       "      <td>905.0</td>\n",
       "      <td>9.3</td>\n",
       "      <td>301.0</td>\n",
       "    </tr>\n",
       "    <tr>\n",
       "      <th>2008-12-31 15:30:00</th>\n",
       "      <td>7.646</td>\n",
       "      <td>6.019</td>\n",
       "      <td>4.688</td>\n",
       "      <td>69.304</td>\n",
       "      <td>49.066</td>\n",
       "      <td>30.776</td>\n",
       "      <td>905.0</td>\n",
       "      <td>9.5</td>\n",
       "      <td>301.0</td>\n",
       "    </tr>\n",
       "    <tr>\n",
       "      <th>2008-12-31 16:29:58</th>\n",
       "      <td>6.733</td>\n",
       "      <td>5.320</td>\n",
       "      <td>4.010</td>\n",
       "      <td>61.384</td>\n",
       "      <td>43.327</td>\n",
       "      <td>26.987</td>\n",
       "      <td>904.0</td>\n",
       "      <td>9.8</td>\n",
       "      <td>300.3</td>\n",
       "    </tr>\n",
       "    <tr>\n",
       "      <th>2008-12-31 17:29:59</th>\n",
       "      <td>5.989</td>\n",
       "      <td>4.690</td>\n",
       "      <td>3.628</td>\n",
       "      <td>57.607</td>\n",
       "      <td>41.258</td>\n",
       "      <td>25.973</td>\n",
       "      <td>904.0</td>\n",
       "      <td>9.2</td>\n",
       "      <td>300.1</td>\n",
       "    </tr>\n",
       "    <tr>\n",
       "      <th>2008-12-31 18:30:00</th>\n",
       "      <td>7.768</td>\n",
       "      <td>6.130</td>\n",
       "      <td>4.776</td>\n",
       "      <td>76.904</td>\n",
       "      <td>55.401</td>\n",
       "      <td>35.085</td>\n",
       "      <td>904.0</td>\n",
       "      <td>9.3</td>\n",
       "      <td>299.9</td>\n",
       "    </tr>\n",
       "    <tr>\n",
       "      <th>2008-12-31 19:29:58</th>\n",
       "      <td>6.265</td>\n",
       "      <td>4.834</td>\n",
       "      <td>3.827</td>\n",
       "      <td>61.421</td>\n",
       "      <td>44.224</td>\n",
       "      <td>28.044</td>\n",
       "      <td>904.0</td>\n",
       "      <td>8.7</td>\n",
       "      <td>299.9</td>\n",
       "    </tr>\n",
       "    <tr>\n",
       "      <th>2008-12-31 20:29:59</th>\n",
       "      <td>4.425</td>\n",
       "      <td>3.433</td>\n",
       "      <td>2.663</td>\n",
       "      <td>43.144</td>\n",
       "      <td>30.726</td>\n",
       "      <td>19.240</td>\n",
       "      <td>903.0</td>\n",
       "      <td>8.5</td>\n",
       "      <td>299.8</td>\n",
       "    </tr>\n",
       "    <tr>\n",
       "      <th>2008-12-31 21:30:00</th>\n",
       "      <td>4.759</td>\n",
       "      <td>3.665</td>\n",
       "      <td>2.840</td>\n",
       "      <td>44.719</td>\n",
       "      <td>31.694</td>\n",
       "      <td>19.885</td>\n",
       "      <td>903.0</td>\n",
       "      <td>8.5</td>\n",
       "      <td>299.9</td>\n",
       "    </tr>\n",
       "    <tr>\n",
       "      <th>2008-12-31 22:29:58</th>\n",
       "      <td>5.162</td>\n",
       "      <td>3.929</td>\n",
       "      <td>3.217</td>\n",
       "      <td>48.623</td>\n",
       "      <td>34.503</td>\n",
       "      <td>21.719</td>\n",
       "      <td>903.0</td>\n",
       "      <td>8.7</td>\n",
       "      <td>299.9</td>\n",
       "    </tr>\n",
       "    <tr>\n",
       "      <th>2008-12-31 23:29:59</th>\n",
       "      <td>5.318</td>\n",
       "      <td>4.307</td>\n",
       "      <td>3.349</td>\n",
       "      <td>54.983</td>\n",
       "      <td>39.390</td>\n",
       "      <td>24.721</td>\n",
       "      <td>903.0</td>\n",
       "      <td>9.3</td>\n",
       "      <td>299.7</td>\n",
       "    </tr>\n",
       "  </tbody>\n",
       "</table>\n",
       "<p>8784 rows × 9 columns</p>\n",
       "</div>"
      ],
      "text/plain": [
       "                     aerosol_light_backscattering_coefficient  \\\n",
       "2008-01-01 00:30:00                                       NaN   \n",
       "2008-01-01 01:29:59                                       NaN   \n",
       "2008-01-01 02:29:59                                       NaN   \n",
       "2008-01-01 03:30:00                                       NaN   \n",
       "2008-01-01 04:29:59                                       NaN   \n",
       "2008-01-01 05:29:59                                       NaN   \n",
       "2008-01-01 06:30:00                                       NaN   \n",
       "2008-01-01 07:29:59                                       NaN   \n",
       "2008-01-01 08:29:59                                       NaN   \n",
       "2008-01-01 09:30:00                                       NaN   \n",
       "2008-01-01 10:29:59                                       NaN   \n",
       "2008-01-01 11:29:59                                       NaN   \n",
       "2008-01-01 12:30:00                                       NaN   \n",
       "2008-01-01 13:29:59                                       NaN   \n",
       "2008-01-01 14:29:59                                       NaN   \n",
       "2008-01-01 15:30:00                                       NaN   \n",
       "2008-01-01 16:29:59                                       NaN   \n",
       "2008-01-01 17:29:59                                       NaN   \n",
       "2008-01-01 18:30:00                                       NaN   \n",
       "2008-01-01 19:29:59                                       NaN   \n",
       "2008-01-01 20:29:59                                       NaN   \n",
       "2008-01-01 21:30:00                                       NaN   \n",
       "2008-01-01 22:29:59                                       NaN   \n",
       "2008-01-01 23:29:59                                       NaN   \n",
       "2008-01-02 00:30:00                                       NaN   \n",
       "2008-01-02 01:29:59                                       NaN   \n",
       "2008-01-02 02:29:59                                       NaN   \n",
       "2008-01-02 03:30:00                                       NaN   \n",
       "2008-01-02 04:29:59                                       NaN   \n",
       "2008-01-02 05:29:59                                       NaN   \n",
       "...                                                       ...   \n",
       "2008-12-30 18:30:00                                     0.547   \n",
       "2008-12-30 19:29:58                                     1.045   \n",
       "2008-12-30 20:29:59                                     7.862   \n",
       "2008-12-30 21:30:00                                    11.044   \n",
       "2008-12-30 22:29:58                                     6.420   \n",
       "2008-12-30 23:29:59                                     3.947   \n",
       "2008-12-31 00:30:00                                     2.950   \n",
       "2008-12-31 01:29:58                                     2.024   \n",
       "2008-12-31 02:29:59                                     0.731   \n",
       "2008-12-31 03:30:00                                     0.733   \n",
       "2008-12-31 04:29:58                                     0.994   \n",
       "2008-12-31 05:29:59                                     1.842   \n",
       "2008-12-31 06:30:00                                     4.045   \n",
       "2008-12-31 07:29:58                                     3.753   \n",
       "2008-12-31 08:29:59                                     2.799   \n",
       "2008-12-31 09:30:00                                     1.760   \n",
       "2008-12-31 10:29:58                                     2.548   \n",
       "2008-12-31 11:29:59                                     2.486   \n",
       "2008-12-31 12:30:00                                     2.660   \n",
       "2008-12-31 13:29:58                                     6.408   \n",
       "2008-12-31 14:29:59                                     8.818   \n",
       "2008-12-31 15:30:00                                     7.646   \n",
       "2008-12-31 16:29:58                                     6.733   \n",
       "2008-12-31 17:29:59                                     5.989   \n",
       "2008-12-31 18:30:00                                     7.768   \n",
       "2008-12-31 19:29:58                                     6.265   \n",
       "2008-12-31 20:29:59                                     4.425   \n",
       "2008-12-31 21:30:00                                     4.759   \n",
       "2008-12-31 22:29:58                                     5.162   \n",
       "2008-12-31 23:29:59                                     5.318   \n",
       "\n",
       "                     aerosol_light_backscattering_coefficient  \\\n",
       "2008-01-01 00:30:00                                       NaN   \n",
       "2008-01-01 01:29:59                                       NaN   \n",
       "2008-01-01 02:29:59                                       NaN   \n",
       "2008-01-01 03:30:00                                       NaN   \n",
       "2008-01-01 04:29:59                                       NaN   \n",
       "2008-01-01 05:29:59                                       NaN   \n",
       "2008-01-01 06:30:00                                       NaN   \n",
       "2008-01-01 07:29:59                                       NaN   \n",
       "2008-01-01 08:29:59                                       NaN   \n",
       "2008-01-01 09:30:00                                       NaN   \n",
       "2008-01-01 10:29:59                                       NaN   \n",
       "2008-01-01 11:29:59                                       NaN   \n",
       "2008-01-01 12:30:00                                       NaN   \n",
       "2008-01-01 13:29:59                                       NaN   \n",
       "2008-01-01 14:29:59                                       NaN   \n",
       "2008-01-01 15:30:00                                       NaN   \n",
       "2008-01-01 16:29:59                                       NaN   \n",
       "2008-01-01 17:29:59                                       NaN   \n",
       "2008-01-01 18:30:00                                       NaN   \n",
       "2008-01-01 19:29:59                                       NaN   \n",
       "2008-01-01 20:29:59                                       NaN   \n",
       "2008-01-01 21:30:00                                       NaN   \n",
       "2008-01-01 22:29:59                                       NaN   \n",
       "2008-01-01 23:29:59                                       NaN   \n",
       "2008-01-02 00:30:00                                       NaN   \n",
       "2008-01-02 01:29:59                                       NaN   \n",
       "2008-01-02 02:29:59                                       NaN   \n",
       "2008-01-02 03:30:00                                       NaN   \n",
       "2008-01-02 04:29:59                                       NaN   \n",
       "2008-01-02 05:29:59                                       NaN   \n",
       "...                                                       ...   \n",
       "2008-12-30 18:30:00                                     0.409   \n",
       "2008-12-30 19:29:58                                     0.688   \n",
       "2008-12-30 20:29:59                                     5.979   \n",
       "2008-12-30 21:30:00                                     8.777   \n",
       "2008-12-30 22:29:58                                     5.011   \n",
       "2008-12-30 23:29:59                                     3.107   \n",
       "2008-12-31 00:30:00                                     2.492   \n",
       "2008-12-31 01:29:58                                     1.660   \n",
       "2008-12-31 02:29:59                                     0.569   \n",
       "2008-12-31 03:30:00                                     0.659   \n",
       "2008-12-31 04:29:58                                     0.779   \n",
       "2008-12-31 05:29:59                                     1.514   \n",
       "2008-12-31 06:30:00                                     3.247   \n",
       "2008-12-31 07:29:58                                     2.974   \n",
       "2008-12-31 08:29:59                                     2.189   \n",
       "2008-12-31 09:30:00                                     1.427   \n",
       "2008-12-31 10:29:58                                     1.917   \n",
       "2008-12-31 11:29:59                                     1.909   \n",
       "2008-12-31 12:30:00                                     2.172   \n",
       "2008-12-31 13:29:58                                     5.162   \n",
       "2008-12-31 14:29:59                                     7.038   \n",
       "2008-12-31 15:30:00                                     6.019   \n",
       "2008-12-31 16:29:58                                     5.320   \n",
       "2008-12-31 17:29:59                                     4.690   \n",
       "2008-12-31 18:30:00                                     6.130   \n",
       "2008-12-31 19:29:58                                     4.834   \n",
       "2008-12-31 20:29:59                                     3.433   \n",
       "2008-12-31 21:30:00                                     3.665   \n",
       "2008-12-31 22:29:58                                     3.929   \n",
       "2008-12-31 23:29:59                                     4.307   \n",
       "\n",
       "                     aerosol_light_backscattering_coefficient  \\\n",
       "2008-01-01 00:30:00                                       NaN   \n",
       "2008-01-01 01:29:59                                       NaN   \n",
       "2008-01-01 02:29:59                                       NaN   \n",
       "2008-01-01 03:30:00                                       NaN   \n",
       "2008-01-01 04:29:59                                       NaN   \n",
       "2008-01-01 05:29:59                                       NaN   \n",
       "2008-01-01 06:30:00                                       NaN   \n",
       "2008-01-01 07:29:59                                       NaN   \n",
       "2008-01-01 08:29:59                                       NaN   \n",
       "2008-01-01 09:30:00                                       NaN   \n",
       "2008-01-01 10:29:59                                       NaN   \n",
       "2008-01-01 11:29:59                                       NaN   \n",
       "2008-01-01 12:30:00                                       NaN   \n",
       "2008-01-01 13:29:59                                       NaN   \n",
       "2008-01-01 14:29:59                                       NaN   \n",
       "2008-01-01 15:30:00                                       NaN   \n",
       "2008-01-01 16:29:59                                       NaN   \n",
       "2008-01-01 17:29:59                                       NaN   \n",
       "2008-01-01 18:30:00                                       NaN   \n",
       "2008-01-01 19:29:59                                       NaN   \n",
       "2008-01-01 20:29:59                                       NaN   \n",
       "2008-01-01 21:30:00                                       NaN   \n",
       "2008-01-01 22:29:59                                       NaN   \n",
       "2008-01-01 23:29:59                                       NaN   \n",
       "2008-01-02 00:30:00                                       NaN   \n",
       "2008-01-02 01:29:59                                       NaN   \n",
       "2008-01-02 02:29:59                                       NaN   \n",
       "2008-01-02 03:30:00                                       NaN   \n",
       "2008-01-02 04:29:59                                       NaN   \n",
       "2008-01-02 05:29:59                                       NaN   \n",
       "...                                                       ...   \n",
       "2008-12-30 18:30:00                                     0.303   \n",
       "2008-12-30 19:29:58                                     0.558   \n",
       "2008-12-30 20:29:59                                     4.602   \n",
       "2008-12-30 21:30:00                                     6.770   \n",
       "2008-12-30 22:29:58                                     3.801   \n",
       "2008-12-30 23:29:59                                     2.509   \n",
       "2008-12-31 00:30:00                                     1.939   \n",
       "2008-12-31 01:29:58                                     1.362   \n",
       "2008-12-31 02:29:59                                     0.508   \n",
       "2008-12-31 03:30:00                                     0.506   \n",
       "2008-12-31 04:29:58                                     0.714   \n",
       "2008-12-31 05:29:59                                     1.198   \n",
       "2008-12-31 06:30:00                                     2.608   \n",
       "2008-12-31 07:29:58                                     2.371   \n",
       "2008-12-31 08:29:59                                     1.745   \n",
       "2008-12-31 09:30:00                                     1.077   \n",
       "2008-12-31 10:29:58                                     1.455   \n",
       "2008-12-31 11:29:59                                     1.442   \n",
       "2008-12-31 12:30:00                                     1.623   \n",
       "2008-12-31 13:29:58                                     4.016   \n",
       "2008-12-31 14:29:59                                     5.385   \n",
       "2008-12-31 15:30:00                                     4.688   \n",
       "2008-12-31 16:29:58                                     4.010   \n",
       "2008-12-31 17:29:59                                     3.628   \n",
       "2008-12-31 18:30:00                                     4.776   \n",
       "2008-12-31 19:29:58                                     3.827   \n",
       "2008-12-31 20:29:59                                     2.663   \n",
       "2008-12-31 21:30:00                                     2.840   \n",
       "2008-12-31 22:29:58                                     3.217   \n",
       "2008-12-31 23:29:59                                     3.349   \n",
       "\n",
       "                     aerosol_light_scattering_coefficient  \\\n",
       "2008-01-01 00:30:00                                   NaN   \n",
       "2008-01-01 01:29:59                                   NaN   \n",
       "2008-01-01 02:29:59                                   NaN   \n",
       "2008-01-01 03:30:00                                   NaN   \n",
       "2008-01-01 04:29:59                                   NaN   \n",
       "2008-01-01 05:29:59                                   NaN   \n",
       "2008-01-01 06:30:00                                   NaN   \n",
       "2008-01-01 07:29:59                                   NaN   \n",
       "2008-01-01 08:29:59                                   NaN   \n",
       "2008-01-01 09:30:00                                   NaN   \n",
       "2008-01-01 10:29:59                                   NaN   \n",
       "2008-01-01 11:29:59                                   NaN   \n",
       "2008-01-01 12:30:00                                   NaN   \n",
       "2008-01-01 13:29:59                                   NaN   \n",
       "2008-01-01 14:29:59                                   NaN   \n",
       "2008-01-01 15:30:00                                   NaN   \n",
       "2008-01-01 16:29:59                                   NaN   \n",
       "2008-01-01 17:29:59                                   NaN   \n",
       "2008-01-01 18:30:00                                   NaN   \n",
       "2008-01-01 19:29:59                                   NaN   \n",
       "2008-01-01 20:29:59                                   NaN   \n",
       "2008-01-01 21:30:00                                   NaN   \n",
       "2008-01-01 22:29:59                                   NaN   \n",
       "2008-01-01 23:29:59                                   NaN   \n",
       "2008-01-02 00:30:00                                   NaN   \n",
       "2008-01-02 01:29:59                                   NaN   \n",
       "2008-01-02 02:29:59                                   NaN   \n",
       "2008-01-02 03:30:00                                   NaN   \n",
       "2008-01-02 04:29:59                                   NaN   \n",
       "2008-01-02 05:29:59                                   NaN   \n",
       "...                                                   ...   \n",
       "2008-12-30 18:30:00                                 5.250   \n",
       "2008-12-30 19:29:58                                 7.934   \n",
       "2008-12-30 20:29:59                                70.955   \n",
       "2008-12-30 21:30:00                               103.578   \n",
       "2008-12-30 22:29:58                                57.828   \n",
       "2008-12-30 23:29:59                                41.293   \n",
       "2008-12-31 00:30:00                                32.975   \n",
       "2008-12-31 01:29:58                                22.381   \n",
       "2008-12-31 02:29:59                                 6.382   \n",
       "2008-12-31 03:30:00                                 6.934   \n",
       "2008-12-31 04:29:58                                 9.422   \n",
       "2008-12-31 05:29:59                                18.791   \n",
       "2008-12-31 06:30:00                                42.560   \n",
       "2008-12-31 07:29:58                                40.905   \n",
       "2008-12-31 08:29:59                                29.099   \n",
       "2008-12-31 09:30:00                                16.988   \n",
       "2008-12-31 10:29:58                                24.601   \n",
       "2008-12-31 11:29:59                                24.114   \n",
       "2008-12-31 12:30:00                                27.016   \n",
       "2008-12-31 13:29:58                                62.217   \n",
       "2008-12-31 14:29:59                                80.137   \n",
       "2008-12-31 15:30:00                                69.304   \n",
       "2008-12-31 16:29:58                                61.384   \n",
       "2008-12-31 17:29:59                                57.607   \n",
       "2008-12-31 18:30:00                                76.904   \n",
       "2008-12-31 19:29:58                                61.421   \n",
       "2008-12-31 20:29:59                                43.144   \n",
       "2008-12-31 21:30:00                                44.719   \n",
       "2008-12-31 22:29:58                                48.623   \n",
       "2008-12-31 23:29:59                                54.983   \n",
       "\n",
       "                     aerosol_light_scattering_coefficient  \\\n",
       "2008-01-01 00:30:00                                   NaN   \n",
       "2008-01-01 01:29:59                                   NaN   \n",
       "2008-01-01 02:29:59                                   NaN   \n",
       "2008-01-01 03:30:00                                   NaN   \n",
       "2008-01-01 04:29:59                                   NaN   \n",
       "2008-01-01 05:29:59                                   NaN   \n",
       "2008-01-01 06:30:00                                   NaN   \n",
       "2008-01-01 07:29:59                                   NaN   \n",
       "2008-01-01 08:29:59                                   NaN   \n",
       "2008-01-01 09:30:00                                   NaN   \n",
       "2008-01-01 10:29:59                                   NaN   \n",
       "2008-01-01 11:29:59                                   NaN   \n",
       "2008-01-01 12:30:00                                   NaN   \n",
       "2008-01-01 13:29:59                                   NaN   \n",
       "2008-01-01 14:29:59                                   NaN   \n",
       "2008-01-01 15:30:00                                   NaN   \n",
       "2008-01-01 16:29:59                                   NaN   \n",
       "2008-01-01 17:29:59                                   NaN   \n",
       "2008-01-01 18:30:00                                   NaN   \n",
       "2008-01-01 19:29:59                                   NaN   \n",
       "2008-01-01 20:29:59                                   NaN   \n",
       "2008-01-01 21:30:00                                   NaN   \n",
       "2008-01-01 22:29:59                                   NaN   \n",
       "2008-01-01 23:29:59                                   NaN   \n",
       "2008-01-02 00:30:00                                   NaN   \n",
       "2008-01-02 01:29:59                                   NaN   \n",
       "2008-01-02 02:29:59                                   NaN   \n",
       "2008-01-02 03:30:00                                   NaN   \n",
       "2008-01-02 04:29:59                                   NaN   \n",
       "2008-01-02 05:29:59                                   NaN   \n",
       "...                                                   ...   \n",
       "2008-12-30 18:30:00                                 3.716   \n",
       "2008-12-30 19:29:58                                 5.414   \n",
       "2008-12-30 20:29:59                                50.095   \n",
       "2008-12-30 21:30:00                                73.434   \n",
       "2008-12-30 22:29:58                                40.803   \n",
       "2008-12-30 23:29:59                                30.195   \n",
       "2008-12-31 00:30:00                                24.133   \n",
       "2008-12-31 01:29:58                                16.227   \n",
       "2008-12-31 02:29:59                                 4.487   \n",
       "2008-12-31 03:30:00                                 4.876   \n",
       "2008-12-31 04:29:58                                 6.621   \n",
       "2008-12-31 05:29:59                                13.431   \n",
       "2008-12-31 06:30:00                                31.077   \n",
       "2008-12-31 07:29:58                                29.963   \n",
       "2008-12-31 08:29:59                                21.226   \n",
       "2008-12-31 09:30:00                                12.135   \n",
       "2008-12-31 10:29:58                                17.758   \n",
       "2008-12-31 11:29:59                                17.331   \n",
       "2008-12-31 12:30:00                                19.509   \n",
       "2008-12-31 13:29:58                                44.872   \n",
       "2008-12-31 14:29:59                                56.764   \n",
       "2008-12-31 15:30:00                                49.066   \n",
       "2008-12-31 16:29:58                                43.327   \n",
       "2008-12-31 17:29:59                                41.258   \n",
       "2008-12-31 18:30:00                                55.401   \n",
       "2008-12-31 19:29:58                                44.224   \n",
       "2008-12-31 20:29:59                                30.726   \n",
       "2008-12-31 21:30:00                                31.694   \n",
       "2008-12-31 22:29:58                                34.503   \n",
       "2008-12-31 23:29:59                                39.390   \n",
       "\n",
       "                     aerosol_light_scattering_coefficient  pressure  \\\n",
       "2008-01-01 00:30:00                                   NaN       NaN   \n",
       "2008-01-01 01:29:59                                   NaN       NaN   \n",
       "2008-01-01 02:29:59                                   NaN       NaN   \n",
       "2008-01-01 03:30:00                                   NaN       NaN   \n",
       "2008-01-01 04:29:59                                   NaN       NaN   \n",
       "2008-01-01 05:29:59                                   NaN       NaN   \n",
       "2008-01-01 06:30:00                                   NaN       NaN   \n",
       "2008-01-01 07:29:59                                   NaN       NaN   \n",
       "2008-01-01 08:29:59                                   NaN       NaN   \n",
       "2008-01-01 09:30:00                                   NaN       NaN   \n",
       "2008-01-01 10:29:59                                   NaN       NaN   \n",
       "2008-01-01 11:29:59                                   NaN       NaN   \n",
       "2008-01-01 12:30:00                                   NaN       NaN   \n",
       "2008-01-01 13:29:59                                   NaN       NaN   \n",
       "2008-01-01 14:29:59                                   NaN       NaN   \n",
       "2008-01-01 15:30:00                                   NaN       NaN   \n",
       "2008-01-01 16:29:59                                   NaN       NaN   \n",
       "2008-01-01 17:29:59                                   NaN       NaN   \n",
       "2008-01-01 18:30:00                                   NaN       NaN   \n",
       "2008-01-01 19:29:59                                   NaN       NaN   \n",
       "2008-01-01 20:29:59                                   NaN       NaN   \n",
       "2008-01-01 21:30:00                                   NaN       NaN   \n",
       "2008-01-01 22:29:59                                   NaN       NaN   \n",
       "2008-01-01 23:29:59                                   NaN       NaN   \n",
       "2008-01-02 00:30:00                                   NaN       NaN   \n",
       "2008-01-02 01:29:59                                   NaN       NaN   \n",
       "2008-01-02 02:29:59                                   NaN       NaN   \n",
       "2008-01-02 03:30:00                                   NaN       NaN   \n",
       "2008-01-02 04:29:59                                   NaN       NaN   \n",
       "2008-01-02 05:29:59                                   NaN       NaN   \n",
       "...                                                   ...       ...   \n",
       "2008-12-30 18:30:00                                 2.264     909.0   \n",
       "2008-12-30 19:29:58                                 3.308     909.0   \n",
       "2008-12-30 20:29:59                                30.940     909.0   \n",
       "2008-12-30 21:30:00                                45.628     909.0   \n",
       "2008-12-30 22:29:58                                25.309     909.0   \n",
       "2008-12-30 23:29:59                                19.253     909.0   \n",
       "2008-12-31 00:30:00                                15.449     908.0   \n",
       "2008-12-31 01:29:58                                10.269     908.0   \n",
       "2008-12-31 02:29:59                                 2.890     907.0   \n",
       "2008-12-31 03:30:00                                 3.026     907.0   \n",
       "2008-12-31 04:29:58                                 4.073     907.0   \n",
       "2008-12-31 05:29:59                                 8.296     906.0   \n",
       "2008-12-31 06:30:00                                19.972     906.0   \n",
       "2008-12-31 07:29:58                                19.293     906.0   \n",
       "2008-12-31 08:29:59                                13.575     906.0   \n",
       "2008-12-31 09:30:00                                 7.623     906.0   \n",
       "2008-12-31 10:29:58                                11.318     905.0   \n",
       "2008-12-31 11:29:59                                11.010     905.0   \n",
       "2008-12-31 12:30:00                                12.520     905.0   \n",
       "2008-12-31 13:29:58                                28.652     905.0   \n",
       "2008-12-31 14:29:59                                35.320     905.0   \n",
       "2008-12-31 15:30:00                                30.776     905.0   \n",
       "2008-12-31 16:29:58                                26.987     904.0   \n",
       "2008-12-31 17:29:59                                25.973     904.0   \n",
       "2008-12-31 18:30:00                                35.085     904.0   \n",
       "2008-12-31 19:29:58                                28.044     904.0   \n",
       "2008-12-31 20:29:59                                19.240     903.0   \n",
       "2008-12-31 21:30:00                                19.885     903.0   \n",
       "2008-12-31 22:29:58                                21.719     903.0   \n",
       "2008-12-31 23:29:59                                24.721     903.0   \n",
       "\n",
       "                     relative_humidity  temperature  \n",
       "2008-01-01 00:30:00                NaN          NaN  \n",
       "2008-01-01 01:29:59                NaN          NaN  \n",
       "2008-01-01 02:29:59                NaN          NaN  \n",
       "2008-01-01 03:30:00                NaN          NaN  \n",
       "2008-01-01 04:29:59                NaN          NaN  \n",
       "2008-01-01 05:29:59                NaN          NaN  \n",
       "2008-01-01 06:30:00                NaN          NaN  \n",
       "2008-01-01 07:29:59                NaN          NaN  \n",
       "2008-01-01 08:29:59                NaN          NaN  \n",
       "2008-01-01 09:30:00                NaN          NaN  \n",
       "2008-01-01 10:29:59                NaN          NaN  \n",
       "2008-01-01 11:29:59                NaN          NaN  \n",
       "2008-01-01 12:30:00                NaN          NaN  \n",
       "2008-01-01 13:29:59                NaN          NaN  \n",
       "2008-01-01 14:29:59                NaN          NaN  \n",
       "2008-01-01 15:30:00                NaN          NaN  \n",
       "2008-01-01 16:29:59                NaN          NaN  \n",
       "2008-01-01 17:29:59                NaN          NaN  \n",
       "2008-01-01 18:30:00                NaN          NaN  \n",
       "2008-01-01 19:29:59                NaN          NaN  \n",
       "2008-01-01 20:29:59                NaN          NaN  \n",
       "2008-01-01 21:30:00                NaN          NaN  \n",
       "2008-01-01 22:29:59                NaN          NaN  \n",
       "2008-01-01 23:29:59                NaN          NaN  \n",
       "2008-01-02 00:30:00                NaN          NaN  \n",
       "2008-01-02 01:29:59                NaN          NaN  \n",
       "2008-01-02 02:29:59                NaN          NaN  \n",
       "2008-01-02 03:30:00                NaN          NaN  \n",
       "2008-01-02 04:29:59                NaN          NaN  \n",
       "2008-01-02 05:29:59                NaN          NaN  \n",
       "...                                ...          ...  \n",
       "2008-12-30 18:30:00                4.5        300.4  \n",
       "2008-12-30 19:29:58                5.7        300.2  \n",
       "2008-12-30 20:29:59                8.9        300.4  \n",
       "2008-12-30 21:30:00                9.2        300.3  \n",
       "2008-12-30 22:29:58                8.7        300.1  \n",
       "2008-12-30 23:29:59                8.1        300.4  \n",
       "2008-12-31 00:30:00                7.9        299.8  \n",
       "2008-12-31 01:29:58                7.5        300.2  \n",
       "2008-12-31 02:29:59                6.6        299.9  \n",
       "2008-12-31 03:30:00                6.7        299.8  \n",
       "2008-12-31 04:29:58                7.0        300.2  \n",
       "2008-12-31 05:29:59                7.5        300.2  \n",
       "2008-12-31 06:30:00                8.2        299.9  \n",
       "2008-12-31 07:29:58                8.0        299.8  \n",
       "2008-12-31 08:29:59                7.7        299.9  \n",
       "2008-12-31 09:30:00                7.1        300.3  \n",
       "2008-12-31 10:29:58                7.1        300.7  \n",
       "2008-12-31 11:29:59                7.0        301.2  \n",
       "2008-12-31 12:30:00                7.4        300.9  \n",
       "2008-12-31 13:29:58                8.7        300.6  \n",
       "2008-12-31 14:29:59                9.3        301.0  \n",
       "2008-12-31 15:30:00                9.5        301.0  \n",
       "2008-12-31 16:29:58                9.8        300.3  \n",
       "2008-12-31 17:29:59                9.2        300.1  \n",
       "2008-12-31 18:30:00                9.3        299.9  \n",
       "2008-12-31 19:29:58                8.7        299.9  \n",
       "2008-12-31 20:29:59                8.5        299.8  \n",
       "2008-12-31 21:30:00                8.5        299.9  \n",
       "2008-12-31 22:29:58                8.7        299.9  \n",
       "2008-12-31 23:29:59                9.3        299.7  \n",
       "\n",
       "[8784 rows x 9 columns]"
      ]
     },
     "execution_count": 8,
     "metadata": {},
     "output_type": "execute_result"
    }
   ],
   "source": [
    "df = mc.to_dataframe()\n",
    "df"
   ]
  },
  {
   "cell_type": "markdown",
   "metadata": {},
   "source": [
    "#### Performance"
   ]
  },
  {
   "cell_type": "markdown",
   "metadata": {},
   "source": [
    "Read only header"
   ]
  },
  {
   "cell_type": "code",
   "execution_count": 9,
   "metadata": {},
   "outputs": [
    {
     "name": "stderr",
     "output_type": "stream",
     "text": [
      "2018-09-21 11:36:47,324:WARNING:\n",
      "Failed to read header row 6.\n",
      "2008 01 01 2016 07 08\n",
      "\n",
      "Error msg: IndexError('list index out of range',)\n"
     ]
    },
    {
     "name": "stderr",
     "output_type": "stream",
     "text": [
      "2018-09-21 11:36:47,330:WARNING:\n",
      "Failed to read header row 6.\n",
      "2008 01 01 2016 07 08\n",
      "\n",
      "Error msg: IndexError('list index out of range',)\n"
     ]
    },
    {
     "name": "stderr",
     "output_type": "stream",
     "text": [
      "2018-09-21 11:36:47,335:WARNING:\n",
      "Failed to read header row 6.\n",
      "2008 01 01 2016 07 08\n",
      "\n",
      "Error msg: IndexError('list index out of range',)\n"
     ]
    },
    {
     "name": "stderr",
     "output_type": "stream",
     "text": [
      "2018-09-21 11:36:47,340:WARNING:\n",
      "Failed to read header row 6.\n",
      "2008 01 01 2016 07 08\n",
      "\n",
      "Error msg: IndexError('list index out of range',)\n"
     ]
    },
    {
     "name": "stderr",
     "output_type": "stream",
     "text": [
      "2018-09-21 11:36:47,345:WARNING:\n",
      "Failed to read header row 6.\n",
      "2008 01 01 2016 07 08\n",
      "\n",
      "Error msg: IndexError('list index out of range',)\n"
     ]
    },
    {
     "name": "stderr",
     "output_type": "stream",
     "text": [
      "2018-09-21 11:36:47,350:WARNING:\n",
      "Failed to read header row 6.\n",
      "2008 01 01 2016 07 08\n",
      "\n",
      "Error msg: IndexError('list index out of range',)\n"
     ]
    },
    {
     "name": "stderr",
     "output_type": "stream",
     "text": [
      "2018-09-21 11:36:47,355:WARNING:\n",
      "Failed to read header row 6.\n",
      "2008 01 01 2016 07 08\n",
      "\n",
      "Error msg: IndexError('list index out of range',)\n"
     ]
    },
    {
     "name": "stderr",
     "output_type": "stream",
     "text": [
      "2018-09-21 11:36:47,359:WARNING:\n",
      "Failed to read header row 6.\n",
      "2008 01 01 2016 07 08\n",
      "\n",
      "Error msg: IndexError('list index out of range',)\n"
     ]
    },
    {
     "name": "stderr",
     "output_type": "stream",
     "text": [
      "2018-09-21 11:36:47,364:WARNING:\n",
      "Failed to read header row 6.\n",
      "2008 01 01 2016 07 08\n",
      "\n",
      "Error msg: IndexError('list index out of range',)\n"
     ]
    },
    {
     "name": "stderr",
     "output_type": "stream",
     "text": [
      "2018-09-21 11:36:47,369:WARNING:\n",
      "Failed to read header row 6.\n",
      "2008 01 01 2016 07 08\n",
      "\n",
      "Error msg: IndexError('list index out of range',)\n"
     ]
    },
    {
     "name": "stderr",
     "output_type": "stream",
     "text": [
      "2018-09-21 11:36:47,373:WARNING:\n",
      "Failed to read header row 6.\n",
      "2008 01 01 2016 07 08\n",
      "\n",
      "Error msg: IndexError('list index out of range',)\n"
     ]
    },
    {
     "name": "stderr",
     "output_type": "stream",
     "text": [
      "2018-09-21 11:36:47,378:WARNING:\n",
      "Failed to read header row 6.\n",
      "2008 01 01 2016 07 08\n",
      "\n",
      "Error msg: IndexError('list index out of range',)\n"
     ]
    },
    {
     "name": "stderr",
     "output_type": "stream",
     "text": [
      "2018-09-21 11:36:47,382:WARNING:\n",
      "Failed to read header row 6.\n",
      "2008 01 01 2016 07 08\n",
      "\n",
      "Error msg: IndexError('list index out of range',)\n"
     ]
    },
    {
     "name": "stderr",
     "output_type": "stream",
     "text": [
      "2018-09-21 11:36:47,388:WARNING:\n",
      "Failed to read header row 6.\n",
      "2008 01 01 2016 07 08\n",
      "\n",
      "Error msg: IndexError('list index out of range',)\n"
     ]
    },
    {
     "name": "stderr",
     "output_type": "stream",
     "text": [
      "2018-09-21 11:36:47,393:WARNING:\n",
      "Failed to read header row 6.\n",
      "2008 01 01 2016 07 08\n",
      "\n",
      "Error msg: IndexError('list index out of range',)\n"
     ]
    },
    {
     "name": "stderr",
     "output_type": "stream",
     "text": [
      "2018-09-21 11:36:47,397:WARNING:\n",
      "Failed to read header row 6.\n",
      "2008 01 01 2016 07 08\n",
      "\n",
      "Error msg: IndexError('list index out of range',)\n"
     ]
    },
    {
     "name": "stderr",
     "output_type": "stream",
     "text": [
      "2018-09-21 11:36:47,402:WARNING:\n",
      "Failed to read header row 6.\n",
      "2008 01 01 2016 07 08\n",
      "\n",
      "Error msg: IndexError('list index out of range',)\n"
     ]
    },
    {
     "name": "stderr",
     "output_type": "stream",
     "text": [
      "2018-09-21 11:36:47,407:WARNING:\n",
      "Failed to read header row 6.\n",
      "2008 01 01 2016 07 08\n",
      "\n",
      "Error msg: IndexError('list index out of range',)\n"
     ]
    },
    {
     "name": "stderr",
     "output_type": "stream",
     "text": [
      "2018-09-21 11:36:47,412:WARNING:\n",
      "Failed to read header row 6.\n",
      "2008 01 01 2016 07 08\n",
      "\n",
      "Error msg: IndexError('list index out of range',)\n"
     ]
    },
    {
     "name": "stderr",
     "output_type": "stream",
     "text": [
      "2018-09-21 11:36:47,417:WARNING:\n",
      "Failed to read header row 6.\n",
      "2008 01 01 2016 07 08\n",
      "\n",
      "Error msg: IndexError('list index out of range',)\n"
     ]
    },
    {
     "name": "stderr",
     "output_type": "stream",
     "text": [
      "2018-09-21 11:36:47,422:WARNING:\n",
      "Failed to read header row 6.\n",
      "2008 01 01 2016 07 08\n",
      "\n",
      "Error msg: IndexError('list index out of range',)\n"
     ]
    },
    {
     "name": "stderr",
     "output_type": "stream",
     "text": [
      "2018-09-21 11:36:47,427:WARNING:\n",
      "Failed to read header row 6.\n",
      "2008 01 01 2016 07 08\n",
      "\n",
      "Error msg: IndexError('list index out of range',)\n"
     ]
    },
    {
     "name": "stderr",
     "output_type": "stream",
     "text": [
      "2018-09-21 11:36:47,433:WARNING:\n",
      "Failed to read header row 6.\n",
      "2008 01 01 2016 07 08\n",
      "\n",
      "Error msg: IndexError('list index out of range',)\n"
     ]
    },
    {
     "name": "stderr",
     "output_type": "stream",
     "text": [
      "2018-09-21 11:36:47,438:WARNING:\n",
      "Failed to read header row 6.\n",
      "2008 01 01 2016 07 08\n",
      "\n",
      "Error msg: IndexError('list index out of range',)\n"
     ]
    },
    {
     "name": "stderr",
     "output_type": "stream",
     "text": [
      "2018-09-21 11:36:47,446:WARNING:\n",
      "Failed to read header row 6.\n",
      "2008 01 01 2016 07 08\n",
      "\n",
      "Error msg: IndexError('list index out of range',)\n"
     ]
    },
    {
     "name": "stderr",
     "output_type": "stream",
     "text": [
      "2018-09-21 11:36:47,454:WARNING:\n",
      "Failed to read header row 6.\n",
      "2008 01 01 2016 07 08\n",
      "\n",
      "Error msg: IndexError('list index out of range',)\n"
     ]
    },
    {
     "name": "stderr",
     "output_type": "stream",
     "text": [
      "2018-09-21 11:36:47,462:WARNING:\n",
      "Failed to read header row 6.\n",
      "2008 01 01 2016 07 08\n",
      "\n",
      "Error msg: IndexError('list index out of range',)\n"
     ]
    },
    {
     "name": "stderr",
     "output_type": "stream",
     "text": [
      "2018-09-21 11:36:47,471:WARNING:\n",
      "Failed to read header row 6.\n",
      "2008 01 01 2016 07 08\n",
      "\n",
      "Error msg: IndexError('list index out of range',)\n"
     ]
    },
    {
     "name": "stderr",
     "output_type": "stream",
     "text": [
      "2018-09-21 11:36:47,479:WARNING:\n",
      "Failed to read header row 6.\n",
      "2008 01 01 2016 07 08\n",
      "\n",
      "Error msg: IndexError('list index out of range',)\n"
     ]
    },
    {
     "name": "stderr",
     "output_type": "stream",
     "text": [
      "2018-09-21 11:36:47,488:WARNING:\n",
      "Failed to read header row 6.\n",
      "2008 01 01 2016 07 08\n",
      "\n",
      "Error msg: IndexError('list index out of range',)\n"
     ]
    },
    {
     "name": "stderr",
     "output_type": "stream",
     "text": [
      "2018-09-21 11:36:47,497:WARNING:\n",
      "Failed to read header row 6.\n",
      "2008 01 01 2016 07 08\n",
      "\n",
      "Error msg: IndexError('list index out of range',)\n"
     ]
    },
    {
     "name": "stderr",
     "output_type": "stream",
     "text": [
      "2018-09-21 11:36:47,506:WARNING:\n",
      "Failed to read header row 6.\n",
      "2008 01 01 2016 07 08\n",
      "\n",
      "Error msg: IndexError('list index out of range',)\n"
     ]
    },
    {
     "name": "stderr",
     "output_type": "stream",
     "text": [
      "2018-09-21 11:36:47,514:WARNING:\n",
      "Failed to read header row 6.\n",
      "2008 01 01 2016 07 08\n",
      "\n",
      "Error msg: IndexError('list index out of range',)\n"
     ]
    },
    {
     "name": "stderr",
     "output_type": "stream",
     "text": [
      "2018-09-21 11:36:47,522:WARNING:\n",
      "Failed to read header row 6.\n",
      "2008 01 01 2016 07 08\n",
      "\n",
      "Error msg: IndexError('list index out of range',)\n"
     ]
    },
    {
     "name": "stderr",
     "output_type": "stream",
     "text": [
      "2018-09-21 11:36:47,529:WARNING:\n",
      "Failed to read header row 6.\n",
      "2008 01 01 2016 07 08\n",
      "\n",
      "Error msg: IndexError('list index out of range',)\n"
     ]
    },
    {
     "name": "stderr",
     "output_type": "stream",
     "text": [
      "2018-09-21 11:36:47,537:WARNING:\n",
      "Failed to read header row 6.\n",
      "2008 01 01 2016 07 08\n",
      "\n",
      "Error msg: IndexError('list index out of range',)\n"
     ]
    },
    {
     "name": "stderr",
     "output_type": "stream",
     "text": [
      "2018-09-21 11:36:47,544:WARNING:\n",
      "Failed to read header row 6.\n",
      "2008 01 01 2016 07 08\n",
      "\n",
      "Error msg: IndexError('list index out of range',)\n"
     ]
    },
    {
     "name": "stderr",
     "output_type": "stream",
     "text": [
      "2018-09-21 11:36:47,551:WARNING:\n",
      "Failed to read header row 6.\n",
      "2008 01 01 2016 07 08\n",
      "\n",
      "Error msg: IndexError('list index out of range',)\n"
     ]
    },
    {
     "name": "stderr",
     "output_type": "stream",
     "text": [
      "2018-09-21 11:36:47,559:WARNING:\n",
      "Failed to read header row 6.\n",
      "2008 01 01 2016 07 08\n",
      "\n",
      "Error msg: IndexError('list index out of range',)\n"
     ]
    },
    {
     "name": "stderr",
     "output_type": "stream",
     "text": [
      "2018-09-21 11:36:47,566:WARNING:\n",
      "Failed to read header row 6.\n",
      "2008 01 01 2016 07 08\n",
      "\n",
      "Error msg: IndexError('list index out of range',)\n"
     ]
    },
    {
     "name": "stderr",
     "output_type": "stream",
     "text": [
      "2018-09-21 11:36:47,574:WARNING:\n",
      "Failed to read header row 6.\n",
      "2008 01 01 2016 07 08\n",
      "\n",
      "Error msg: IndexError('list index out of range',)\n"
     ]
    },
    {
     "name": "stderr",
     "output_type": "stream",
     "text": [
      "2018-09-21 11:36:47,580:WARNING:\n",
      "Failed to read header row 6.\n",
      "2008 01 01 2016 07 08\n",
      "\n",
      "Error msg: IndexError('list index out of range',)\n"
     ]
    },
    {
     "name": "stderr",
     "output_type": "stream",
     "text": [
      "2018-09-21 11:36:47,587:WARNING:\n",
      "Failed to read header row 6.\n",
      "2008 01 01 2016 07 08\n",
      "\n",
      "Error msg: IndexError('list index out of range',)\n"
     ]
    },
    {
     "name": "stderr",
     "output_type": "stream",
     "text": [
      "2018-09-21 11:36:47,594:WARNING:\n",
      "Failed to read header row 6.\n",
      "2008 01 01 2016 07 08\n",
      "\n",
      "Error msg: IndexError('list index out of range',)\n"
     ]
    },
    {
     "name": "stderr",
     "output_type": "stream",
     "text": [
      "2018-09-21 11:36:47,601:WARNING:\n",
      "Failed to read header row 6.\n",
      "2008 01 01 2016 07 08\n",
      "\n",
      "Error msg: IndexError('list index out of range',)\n"
     ]
    },
    {
     "name": "stderr",
     "output_type": "stream",
     "text": [
      "2018-09-21 11:36:47,608:WARNING:\n",
      "Failed to read header row 6.\n",
      "2008 01 01 2016 07 08\n",
      "\n",
      "Error msg: IndexError('list index out of range',)\n"
     ]
    },
    {
     "name": "stderr",
     "output_type": "stream",
     "text": [
      "2018-09-21 11:36:47,614:WARNING:\n",
      "Failed to read header row 6.\n",
      "2008 01 01 2016 07 08\n",
      "\n",
      "Error msg: IndexError('list index out of range',)\n"
     ]
    },
    {
     "name": "stderr",
     "output_type": "stream",
     "text": [
      "2018-09-21 11:36:47,621:WARNING:\n",
      "Failed to read header row 6.\n",
      "2008 01 01 2016 07 08\n",
      "\n",
      "Error msg: IndexError('list index out of range',)\n"
     ]
    },
    {
     "name": "stderr",
     "output_type": "stream",
     "text": [
      "2018-09-21 11:36:47,628:WARNING:\n",
      "Failed to read header row 6.\n",
      "2008 01 01 2016 07 08\n",
      "\n",
      "Error msg: IndexError('list index out of range',)\n"
     ]
    },
    {
     "name": "stderr",
     "output_type": "stream",
     "text": [
      "2018-09-21 11:36:47,638:WARNING:\n",
      "Failed to read header row 6.\n",
      "2008 01 01 2016 07 08\n",
      "\n",
      "Error msg: IndexError('list index out of range',)\n"
     ]
    },
    {
     "name": "stderr",
     "output_type": "stream",
     "text": [
      "2018-09-21 11:36:47,646:WARNING:\n",
      "Failed to read header row 6.\n",
      "2008 01 01 2016 07 08\n",
      "\n",
      "Error msg: IndexError('list index out of range',)\n"
     ]
    },
    {
     "name": "stderr",
     "output_type": "stream",
     "text": [
      "2018-09-21 11:36:47,652:WARNING:\n",
      "Failed to read header row 6.\n",
      "2008 01 01 2016 07 08\n",
      "\n",
      "Error msg: IndexError('list index out of range',)\n"
     ]
    },
    {
     "name": "stderr",
     "output_type": "stream",
     "text": [
      "2018-09-21 11:36:47,659:WARNING:\n",
      "Failed to read header row 6.\n",
      "2008 01 01 2016 07 08\n",
      "\n",
      "Error msg: IndexError('list index out of range',)\n"
     ]
    },
    {
     "name": "stderr",
     "output_type": "stream",
     "text": [
      "2018-09-21 11:36:47,666:WARNING:\n",
      "Failed to read header row 6.\n",
      "2008 01 01 2016 07 08\n",
      "\n",
      "Error msg: IndexError('list index out of range',)\n"
     ]
    },
    {
     "name": "stderr",
     "output_type": "stream",
     "text": [
      "2018-09-21 11:36:47,673:WARNING:\n",
      "Failed to read header row 6.\n",
      "2008 01 01 2016 07 08\n",
      "\n",
      "Error msg: IndexError('list index out of range',)\n"
     ]
    },
    {
     "name": "stderr",
     "output_type": "stream",
     "text": [
      "2018-09-21 11:36:47,680:WARNING:\n",
      "Failed to read header row 6.\n",
      "2008 01 01 2016 07 08\n",
      "\n",
      "Error msg: IndexError('list index out of range',)\n"
     ]
    },
    {
     "name": "stderr",
     "output_type": "stream",
     "text": [
      "2018-09-21 11:36:47,687:WARNING:\n",
      "Failed to read header row 6.\n",
      "2008 01 01 2016 07 08\n",
      "\n",
      "Error msg: IndexError('list index out of range',)\n"
     ]
    },
    {
     "name": "stderr",
     "output_type": "stream",
     "text": [
      "2018-09-21 11:36:47,694:WARNING:\n",
      "Failed to read header row 6.\n",
      "2008 01 01 2016 07 08\n",
      "\n",
      "Error msg: IndexError('list index out of range',)\n"
     ]
    },
    {
     "name": "stderr",
     "output_type": "stream",
     "text": [
      "2018-09-21 11:36:47,701:WARNING:\n",
      "Failed to read header row 6.\n",
      "2008 01 01 2016 07 08\n",
      "\n",
      "Error msg: IndexError('list index out of range',)\n"
     ]
    },
    {
     "name": "stderr",
     "output_type": "stream",
     "text": [
      "2018-09-21 11:36:47,708:WARNING:\n",
      "Failed to read header row 6.\n",
      "2008 01 01 2016 07 08\n",
      "\n",
      "Error msg: IndexError('list index out of range',)\n"
     ]
    },
    {
     "name": "stderr",
     "output_type": "stream",
     "text": [
      "2018-09-21 11:36:47,715:WARNING:\n",
      "Failed to read header row 6.\n",
      "2008 01 01 2016 07 08\n",
      "\n",
      "Error msg: IndexError('list index out of range',)\n"
     ]
    },
    {
     "name": "stderr",
     "output_type": "stream",
     "text": [
      "2018-09-21 11:36:47,722:WARNING:\n",
      "Failed to read header row 6.\n",
      "2008 01 01 2016 07 08\n",
      "\n",
      "Error msg: IndexError('list index out of range',)\n"
     ]
    },
    {
     "name": "stderr",
     "output_type": "stream",
     "text": [
      "2018-09-21 11:36:47,729:WARNING:\n",
      "Failed to read header row 6.\n",
      "2008 01 01 2016 07 08\n",
      "\n",
      "Error msg: IndexError('list index out of range',)\n"
     ]
    },
    {
     "name": "stderr",
     "output_type": "stream",
     "text": [
      "2018-09-21 11:36:47,738:WARNING:\n",
      "Failed to read header row 6.\n",
      "2008 01 01 2016 07 08\n",
      "\n",
      "Error msg: IndexError('list index out of range',)\n"
     ]
    },
    {
     "name": "stderr",
     "output_type": "stream",
     "text": [
      "2018-09-21 11:36:47,746:WARNING:\n",
      "Failed to read header row 6.\n",
      "2008 01 01 2016 07 08\n",
      "\n",
      "Error msg: IndexError('list index out of range',)\n"
     ]
    },
    {
     "name": "stderr",
     "output_type": "stream",
     "text": [
      "2018-09-21 11:36:47,753:WARNING:\n",
      "Failed to read header row 6.\n",
      "2008 01 01 2016 07 08\n",
      "\n",
      "Error msg: IndexError('list index out of range',)\n"
     ]
    },
    {
     "name": "stderr",
     "output_type": "stream",
     "text": [
      "2018-09-21 11:36:47,761:WARNING:\n",
      "Failed to read header row 6.\n",
      "2008 01 01 2016 07 08\n",
      "\n",
      "Error msg: IndexError('list index out of range',)\n"
     ]
    },
    {
     "name": "stderr",
     "output_type": "stream",
     "text": [
      "2018-09-21 11:36:47,770:WARNING:\n",
      "Failed to read header row 6.\n",
      "2008 01 01 2016 07 08\n",
      "\n",
      "Error msg: IndexError('list index out of range',)\n"
     ]
    },
    {
     "name": "stderr",
     "output_type": "stream",
     "text": [
      "2018-09-21 11:36:47,777:WARNING:\n",
      "Failed to read header row 6.\n",
      "2008 01 01 2016 07 08\n",
      "\n",
      "Error msg: IndexError('list index out of range',)\n"
     ]
    },
    {
     "name": "stderr",
     "output_type": "stream",
     "text": [
      "2018-09-21 11:36:47,786:WARNING:\n",
      "Failed to read header row 6.\n",
      "2008 01 01 2016 07 08\n",
      "\n",
      "Error msg: IndexError('list index out of range',)\n"
     ]
    },
    {
     "name": "stderr",
     "output_type": "stream",
     "text": [
      "2018-09-21 11:36:47,795:WARNING:\n",
      "Failed to read header row 6.\n",
      "2008 01 01 2016 07 08\n",
      "\n",
      "Error msg: IndexError('list index out of range',)\n"
     ]
    },
    {
     "name": "stderr",
     "output_type": "stream",
     "text": [
      "2018-09-21 11:36:47,802:WARNING:\n",
      "Failed to read header row 6.\n",
      "2008 01 01 2016 07 08\n",
      "\n",
      "Error msg: IndexError('list index out of range',)\n"
     ]
    },
    {
     "name": "stderr",
     "output_type": "stream",
     "text": [
      "2018-09-21 11:36:47,810:WARNING:\n",
      "Failed to read header row 6.\n",
      "2008 01 01 2016 07 08\n",
      "\n",
      "Error msg: IndexError('list index out of range',)\n"
     ]
    },
    {
     "name": "stderr",
     "output_type": "stream",
     "text": [
      "2018-09-21 11:36:47,818:WARNING:\n",
      "Failed to read header row 6.\n",
      "2008 01 01 2016 07 08\n",
      "\n",
      "Error msg: IndexError('list index out of range',)\n"
     ]
    },
    {
     "name": "stderr",
     "output_type": "stream",
     "text": [
      "2018-09-21 11:36:47,826:WARNING:\n",
      "Failed to read header row 6.\n",
      "2008 01 01 2016 07 08\n",
      "\n",
      "Error msg: IndexError('list index out of range',)\n"
     ]
    },
    {
     "name": "stderr",
     "output_type": "stream",
     "text": [
      "2018-09-21 11:36:47,833:WARNING:\n",
      "Failed to read header row 6.\n",
      "2008 01 01 2016 07 08\n",
      "\n",
      "Error msg: IndexError('list index out of range',)\n"
     ]
    },
    {
     "name": "stderr",
     "output_type": "stream",
     "text": [
      "2018-09-21 11:36:47,843:WARNING:\n",
      "Failed to read header row 6.\n",
      "2008 01 01 2016 07 08\n",
      "\n",
      "Error msg: IndexError('list index out of range',)\n"
     ]
    },
    {
     "name": "stderr",
     "output_type": "stream",
     "text": [
      "2018-09-21 11:36:47,851:WARNING:\n",
      "Failed to read header row 6.\n",
      "2008 01 01 2016 07 08\n",
      "\n",
      "Error msg: IndexError('list index out of range',)\n"
     ]
    },
    {
     "name": "stderr",
     "output_type": "stream",
     "text": [
      "2018-09-21 11:36:47,859:WARNING:\n",
      "Failed to read header row 6.\n",
      "2008 01 01 2016 07 08\n",
      "\n",
      "Error msg: IndexError('list index out of range',)\n"
     ]
    },
    {
     "name": "stderr",
     "output_type": "stream",
     "text": [
      "2018-09-21 11:36:47,868:WARNING:\n",
      "Failed to read header row 6.\n",
      "2008 01 01 2016 07 08\n",
      "\n",
      "Error msg: IndexError('list index out of range',)\n"
     ]
    },
    {
     "name": "stderr",
     "output_type": "stream",
     "text": [
      "2018-09-21 11:36:47,876:WARNING:\n",
      "Failed to read header row 6.\n",
      "2008 01 01 2016 07 08\n",
      "\n",
      "Error msg: IndexError('list index out of range',)\n"
     ]
    },
    {
     "name": "stderr",
     "output_type": "stream",
     "text": [
      "2018-09-21 11:36:47,883:WARNING:\n",
      "Failed to read header row 6.\n",
      "2008 01 01 2016 07 08\n",
      "\n",
      "Error msg: IndexError('list index out of range',)\n"
     ]
    },
    {
     "name": "stderr",
     "output_type": "stream",
     "text": [
      "2018-09-21 11:36:47,891:WARNING:\n",
      "Failed to read header row 6.\n",
      "2008 01 01 2016 07 08\n",
      "\n",
      "Error msg: IndexError('list index out of range',)\n"
     ]
    },
    {
     "name": "stderr",
     "output_type": "stream",
     "text": [
      "2018-09-21 11:36:47,898:WARNING:\n",
      "Failed to read header row 6.\n",
      "2008 01 01 2016 07 08\n",
      "\n",
      "Error msg: IndexError('list index out of range',)\n"
     ]
    },
    {
     "name": "stderr",
     "output_type": "stream",
     "text": [
      "2018-09-21 11:36:47,906:WARNING:\n",
      "Failed to read header row 6.\n",
      "2008 01 01 2016 07 08\n",
      "\n",
      "Error msg: IndexError('list index out of range',)\n"
     ]
    },
    {
     "name": "stderr",
     "output_type": "stream",
     "text": [
      "2018-09-21 11:36:47,914:WARNING:\n",
      "Failed to read header row 6.\n",
      "2008 01 01 2016 07 08\n",
      "\n",
      "Error msg: IndexError('list index out of range',)\n"
     ]
    },
    {
     "name": "stderr",
     "output_type": "stream",
     "text": [
      "2018-09-21 11:36:47,921:WARNING:\n",
      "Failed to read header row 6.\n",
      "2008 01 01 2016 07 08\n",
      "\n",
      "Error msg: IndexError('list index out of range',)\n"
     ]
    },
    {
     "name": "stderr",
     "output_type": "stream",
     "text": [
      "2018-09-21 11:36:47,927:WARNING:\n",
      "Failed to read header row 6.\n",
      "2008 01 01 2016 07 08\n",
      "\n",
      "Error msg: IndexError('list index out of range',)\n"
     ]
    },
    {
     "name": "stderr",
     "output_type": "stream",
     "text": [
      "2018-09-21 11:36:47,935:WARNING:\n",
      "Failed to read header row 6.\n",
      "2008 01 01 2016 07 08\n",
      "\n",
      "Error msg: IndexError('list index out of range',)\n"
     ]
    },
    {
     "name": "stderr",
     "output_type": "stream",
     "text": [
      "2018-09-21 11:36:47,942:WARNING:\n",
      "Failed to read header row 6.\n",
      "2008 01 01 2016 07 08\n",
      "\n",
      "Error msg: IndexError('list index out of range',)\n"
     ]
    },
    {
     "name": "stderr",
     "output_type": "stream",
     "text": [
      "2018-09-21 11:36:47,950:WARNING:\n",
      "Failed to read header row 6.\n",
      "2008 01 01 2016 07 08\n",
      "\n",
      "Error msg: IndexError('list index out of range',)\n"
     ]
    },
    {
     "name": "stderr",
     "output_type": "stream",
     "text": [
      "2018-09-21 11:36:47,974:WARNING:\n",
      "Failed to read header row 6.\n",
      "2008 01 01 2016 07 08\n",
      "\n",
      "Error msg: IndexError('list index out of range',)\n"
     ]
    },
    {
     "name": "stderr",
     "output_type": "stream",
     "text": [
      "2018-09-21 11:36:47,982:WARNING:\n",
      "Failed to read header row 6.\n",
      "2008 01 01 2016 07 08\n",
      "\n",
      "Error msg: IndexError('list index out of range',)\n"
     ]
    },
    {
     "name": "stderr",
     "output_type": "stream",
     "text": [
      "2018-09-21 11:36:47,989:WARNING:\n",
      "Failed to read header row 6.\n",
      "2008 01 01 2016 07 08\n",
      "\n",
      "Error msg: IndexError('list index out of range',)\n"
     ]
    },
    {
     "name": "stderr",
     "output_type": "stream",
     "text": [
      "2018-09-21 11:36:47,996:WARNING:\n",
      "Failed to read header row 6.\n",
      "2008 01 01 2016 07 08\n",
      "\n",
      "Error msg: IndexError('list index out of range',)\n"
     ]
    },
    {
     "name": "stderr",
     "output_type": "stream",
     "text": [
      "2018-09-21 11:36:48,002:WARNING:\n",
      "Failed to read header row 6.\n",
      "2008 01 01 2016 07 08\n",
      "\n",
      "Error msg: IndexError('list index out of range',)\n"
     ]
    },
    {
     "name": "stderr",
     "output_type": "stream",
     "text": [
      "2018-09-21 11:36:48,010:WARNING:\n",
      "Failed to read header row 6.\n",
      "2008 01 01 2016 07 08\n",
      "\n",
      "Error msg: IndexError('list index out of range',)\n"
     ]
    },
    {
     "name": "stderr",
     "output_type": "stream",
     "text": [
      "2018-09-21 11:36:48,017:WARNING:\n",
      "Failed to read header row 6.\n",
      "2008 01 01 2016 07 08\n",
      "\n",
      "Error msg: IndexError('list index out of range',)\n"
     ]
    },
    {
     "name": "stderr",
     "output_type": "stream",
     "text": [
      "2018-09-21 11:36:48,024:WARNING:\n",
      "Failed to read header row 6.\n",
      "2008 01 01 2016 07 08\n",
      "\n",
      "Error msg: IndexError('list index out of range',)\n"
     ]
    },
    {
     "name": "stderr",
     "output_type": "stream",
     "text": [
      "2018-09-21 11:36:48,030:WARNING:\n",
      "Failed to read header row 6.\n",
      "2008 01 01 2016 07 08\n",
      "\n",
      "Error msg: IndexError('list index out of range',)\n"
     ]
    },
    {
     "name": "stderr",
     "output_type": "stream",
     "text": [
      "2018-09-21 11:36:48,037:WARNING:\n",
      "Failed to read header row 6.\n",
      "2008 01 01 2016 07 08\n",
      "\n",
      "Error msg: IndexError('list index out of range',)\n"
     ]
    },
    {
     "name": "stderr",
     "output_type": "stream",
     "text": [
      "2018-09-21 11:36:48,045:WARNING:\n",
      "Failed to read header row 6.\n",
      "2008 01 01 2016 07 08\n",
      "\n",
      "Error msg: IndexError('list index out of range',)\n"
     ]
    },
    {
     "name": "stderr",
     "output_type": "stream",
     "text": [
      "2018-09-21 11:36:48,052:WARNING:\n",
      "Failed to read header row 6.\n",
      "2008 01 01 2016 07 08\n",
      "\n",
      "Error msg: IndexError('list index out of range',)\n"
     ]
    },
    {
     "name": "stderr",
     "output_type": "stream",
     "text": [
      "2018-09-21 11:36:48,059:WARNING:\n",
      "Failed to read header row 6.\n",
      "2008 01 01 2016 07 08\n",
      "\n",
      "Error msg: IndexError('list index out of range',)\n"
     ]
    },
    {
     "name": "stderr",
     "output_type": "stream",
     "text": [
      "2018-09-21 11:36:48,065:WARNING:\n",
      "Failed to read header row 6.\n",
      "2008 01 01 2016 07 08\n",
      "\n",
      "Error msg: IndexError('list index out of range',)\n"
     ]
    },
    {
     "name": "stderr",
     "output_type": "stream",
     "text": [
      "2018-09-21 11:36:48,072:WARNING:\n",
      "Failed to read header row 6.\n",
      "2008 01 01 2016 07 08\n",
      "\n",
      "Error msg: IndexError('list index out of range',)\n"
     ]
    },
    {
     "name": "stderr",
     "output_type": "stream",
     "text": [
      "2018-09-21 11:36:48,079:WARNING:\n",
      "Failed to read header row 6.\n",
      "2008 01 01 2016 07 08\n",
      "\n",
      "Error msg: IndexError('list index out of range',)\n"
     ]
    },
    {
     "name": "stderr",
     "output_type": "stream",
     "text": [
      "2018-09-21 11:36:48,086:WARNING:\n",
      "Failed to read header row 6.\n",
      "2008 01 01 2016 07 08\n",
      "\n",
      "Error msg: IndexError('list index out of range',)\n"
     ]
    },
    {
     "name": "stderr",
     "output_type": "stream",
     "text": [
      "2018-09-21 11:36:48,093:WARNING:\n",
      "Failed to read header row 6.\n",
      "2008 01 01 2016 07 08\n",
      "\n",
      "Error msg: IndexError('list index out of range',)\n"
     ]
    },
    {
     "name": "stderr",
     "output_type": "stream",
     "text": [
      "2018-09-21 11:36:48,099:WARNING:\n",
      "Failed to read header row 6.\n",
      "2008 01 01 2016 07 08\n",
      "\n",
      "Error msg: IndexError('list index out of range',)\n"
     ]
    },
    {
     "name": "stderr",
     "output_type": "stream",
     "text": [
      "2018-09-21 11:36:48,107:WARNING:\n",
      "Failed to read header row 6.\n",
      "2008 01 01 2016 07 08\n",
      "\n",
      "Error msg: IndexError('list index out of range',)\n"
     ]
    },
    {
     "name": "stderr",
     "output_type": "stream",
     "text": [
      "2018-09-21 11:36:48,116:WARNING:\n",
      "Failed to read header row 6.\n",
      "2008 01 01 2016 07 08\n",
      "\n",
      "Error msg: IndexError('list index out of range',)\n"
     ]
    },
    {
     "name": "stderr",
     "output_type": "stream",
     "text": [
      "2018-09-21 11:36:48,123:WARNING:\n",
      "Failed to read header row 6.\n",
      "2008 01 01 2016 07 08\n",
      "\n",
      "Error msg: IndexError('list index out of range',)\n"
     ]
    },
    {
     "name": "stderr",
     "output_type": "stream",
     "text": [
      "2018-09-21 11:36:48,132:WARNING:\n",
      "Failed to read header row 6.\n",
      "2008 01 01 2016 07 08\n",
      "\n",
      "Error msg: IndexError('list index out of range',)\n"
     ]
    },
    {
     "name": "stderr",
     "output_type": "stream",
     "text": [
      "2018-09-21 11:36:48,139:WARNING:\n",
      "Failed to read header row 6.\n",
      "2008 01 01 2016 07 08\n",
      "\n",
      "Error msg: IndexError('list index out of range',)\n"
     ]
    },
    {
     "name": "stderr",
     "output_type": "stream",
     "text": [
      "2018-09-21 11:36:48,146:WARNING:\n",
      "Failed to read header row 6.\n",
      "2008 01 01 2016 07 08\n",
      "\n",
      "Error msg: IndexError('list index out of range',)\n"
     ]
    },
    {
     "name": "stderr",
     "output_type": "stream",
     "text": [
      "2018-09-21 11:36:48,153:WARNING:\n",
      "Failed to read header row 6.\n",
      "2008 01 01 2016 07 08\n",
      "\n",
      "Error msg: IndexError('list index out of range',)\n"
     ]
    },
    {
     "name": "stderr",
     "output_type": "stream",
     "text": [
      "2018-09-21 11:36:48,159:WARNING:\n",
      "Failed to read header row 6.\n",
      "2008 01 01 2016 07 08\n",
      "\n",
      "Error msg: IndexError('list index out of range',)\n"
     ]
    },
    {
     "name": "stderr",
     "output_type": "stream",
     "text": [
      "2018-09-21 11:36:48,166:WARNING:\n",
      "Failed to read header row 6.\n",
      "2008 01 01 2016 07 08\n",
      "\n",
      "Error msg: IndexError('list index out of range',)\n"
     ]
    },
    {
     "name": "stderr",
     "output_type": "stream",
     "text": [
      "2018-09-21 11:36:48,173:WARNING:\n",
      "Failed to read header row 6.\n",
      "2008 01 01 2016 07 08\n",
      "\n",
      "Error msg: IndexError('list index out of range',)\n"
     ]
    },
    {
     "name": "stderr",
     "output_type": "stream",
     "text": [
      "2018-09-21 11:36:48,180:WARNING:\n",
      "Failed to read header row 6.\n",
      "2008 01 01 2016 07 08\n",
      "\n",
      "Error msg: IndexError('list index out of range',)\n"
     ]
    },
    {
     "name": "stderr",
     "output_type": "stream",
     "text": [
      "2018-09-21 11:36:48,186:WARNING:\n",
      "Failed to read header row 6.\n",
      "2008 01 01 2016 07 08\n",
      "\n",
      "Error msg: IndexError('list index out of range',)\n"
     ]
    },
    {
     "name": "stderr",
     "output_type": "stream",
     "text": [
      "2018-09-21 11:36:48,193:WARNING:\n",
      "Failed to read header row 6.\n",
      "2008 01 01 2016 07 08\n",
      "\n",
      "Error msg: IndexError('list index out of range',)\n"
     ]
    },
    {
     "name": "stderr",
     "output_type": "stream",
     "text": [
      "2018-09-21 11:36:48,199:WARNING:\n",
      "Failed to read header row 6.\n",
      "2008 01 01 2016 07 08\n",
      "\n",
      "Error msg: IndexError('list index out of range',)\n"
     ]
    },
    {
     "name": "stderr",
     "output_type": "stream",
     "text": [
      "2018-09-21 11:36:48,205:WARNING:\n",
      "Failed to read header row 6.\n",
      "2008 01 01 2016 07 08\n",
      "\n",
      "Error msg: IndexError('list index out of range',)\n"
     ]
    },
    {
     "name": "stderr",
     "output_type": "stream",
     "text": [
      "2018-09-21 11:36:48,215:WARNING:\n",
      "Failed to read header row 6.\n",
      "2008 01 01 2016 07 08\n",
      "\n",
      "Error msg: IndexError('list index out of range',)\n"
     ]
    },
    {
     "name": "stderr",
     "output_type": "stream",
     "text": [
      "2018-09-21 11:36:48,223:WARNING:\n",
      "Failed to read header row 6.\n",
      "2008 01 01 2016 07 08\n",
      "\n",
      "Error msg: IndexError('list index out of range',)\n"
     ]
    },
    {
     "name": "stderr",
     "output_type": "stream",
     "text": [
      "2018-09-21 11:36:48,230:WARNING:\n",
      "Failed to read header row 6.\n",
      "2008 01 01 2016 07 08\n",
      "\n",
      "Error msg: IndexError('list index out of range',)\n"
     ]
    },
    {
     "name": "stderr",
     "output_type": "stream",
     "text": [
      "2018-09-21 11:36:48,239:WARNING:\n",
      "Failed to read header row 6.\n",
      "2008 01 01 2016 07 08\n",
      "\n",
      "Error msg: IndexError('list index out of range',)\n"
     ]
    },
    {
     "name": "stderr",
     "output_type": "stream",
     "text": [
      "2018-09-21 11:36:48,247:WARNING:\n",
      "Failed to read header row 6.\n",
      "2008 01 01 2016 07 08\n",
      "\n",
      "Error msg: IndexError('list index out of range',)\n"
     ]
    },
    {
     "name": "stderr",
     "output_type": "stream",
     "text": [
      "2018-09-21 11:36:48,255:WARNING:\n",
      "Failed to read header row 6.\n",
      "2008 01 01 2016 07 08\n",
      "\n",
      "Error msg: IndexError('list index out of range',)\n"
     ]
    },
    {
     "name": "stderr",
     "output_type": "stream",
     "text": [
      "2018-09-21 11:36:48,262:WARNING:\n",
      "Failed to read header row 6.\n",
      "2008 01 01 2016 07 08\n",
      "\n",
      "Error msg: IndexError('list index out of range',)\n"
     ]
    },
    {
     "name": "stderr",
     "output_type": "stream",
     "text": [
      "2018-09-21 11:36:48,269:WARNING:\n",
      "Failed to read header row 6.\n",
      "2008 01 01 2016 07 08\n",
      "\n",
      "Error msg: IndexError('list index out of range',)\n"
     ]
    },
    {
     "name": "stderr",
     "output_type": "stream",
     "text": [
      "2018-09-21 11:36:48,276:WARNING:\n",
      "Failed to read header row 6.\n",
      "2008 01 01 2016 07 08\n",
      "\n",
      "Error msg: IndexError('list index out of range',)\n"
     ]
    },
    {
     "name": "stderr",
     "output_type": "stream",
     "text": [
      "2018-09-21 11:36:48,283:WARNING:\n",
      "Failed to read header row 6.\n",
      "2008 01 01 2016 07 08\n",
      "\n",
      "Error msg: IndexError('list index out of range',)\n"
     ]
    },
    {
     "name": "stderr",
     "output_type": "stream",
     "text": [
      "2018-09-21 11:36:48,290:WARNING:\n",
      "Failed to read header row 6.\n",
      "2008 01 01 2016 07 08\n",
      "\n",
      "Error msg: IndexError('list index out of range',)\n"
     ]
    },
    {
     "name": "stderr",
     "output_type": "stream",
     "text": [
      "2018-09-21 11:36:48,297:WARNING:\n",
      "Failed to read header row 6.\n",
      "2008 01 01 2016 07 08\n",
      "\n",
      "Error msg: IndexError('list index out of range',)\n"
     ]
    },
    {
     "name": "stderr",
     "output_type": "stream",
     "text": [
      "2018-09-21 11:36:48,304:WARNING:\n",
      "Failed to read header row 6.\n",
      "2008 01 01 2016 07 08\n",
      "\n",
      "Error msg: IndexError('list index out of range',)\n"
     ]
    },
    {
     "name": "stderr",
     "output_type": "stream",
     "text": [
      "2018-09-21 11:36:48,312:WARNING:\n",
      "Failed to read header row 6.\n",
      "2008 01 01 2016 07 08\n",
      "\n",
      "Error msg: IndexError('list index out of range',)\n"
     ]
    },
    {
     "name": "stderr",
     "output_type": "stream",
     "text": [
      "2018-09-21 11:36:48,319:WARNING:\n",
      "Failed to read header row 6.\n",
      "2008 01 01 2016 07 08\n",
      "\n",
      "Error msg: IndexError('list index out of range',)\n"
     ]
    },
    {
     "name": "stderr",
     "output_type": "stream",
     "text": [
      "2018-09-21 11:36:48,325:WARNING:\n",
      "Failed to read header row 6.\n",
      "2008 01 01 2016 07 08\n",
      "\n",
      "Error msg: IndexError('list index out of range',)\n"
     ]
    },
    {
     "name": "stderr",
     "output_type": "stream",
     "text": [
      "2018-09-21 11:36:48,337:WARNING:\n",
      "Failed to read header row 6.\n",
      "2008 01 01 2016 07 08\n",
      "\n",
      "Error msg: IndexError('list index out of range',)\n"
     ]
    },
    {
     "name": "stderr",
     "output_type": "stream",
     "text": [
      "2018-09-21 11:36:48,343:WARNING:\n",
      "Failed to read header row 6.\n",
      "2008 01 01 2016 07 08\n",
      "\n",
      "Error msg: IndexError('list index out of range',)\n"
     ]
    },
    {
     "name": "stderr",
     "output_type": "stream",
     "text": [
      "2018-09-21 11:36:48,351:WARNING:\n",
      "Failed to read header row 6.\n",
      "2008 01 01 2016 07 08\n",
      "\n",
      "Error msg: IndexError('list index out of range',)\n"
     ]
    },
    {
     "name": "stderr",
     "output_type": "stream",
     "text": [
      "2018-09-21 11:36:48,358:WARNING:\n",
      "Failed to read header row 6.\n",
      "2008 01 01 2016 07 08\n",
      "\n",
      "Error msg: IndexError('list index out of range',)\n"
     ]
    },
    {
     "name": "stderr",
     "output_type": "stream",
     "text": [
      "2018-09-21 11:36:48,365:WARNING:\n",
      "Failed to read header row 6.\n",
      "2008 01 01 2016 07 08\n",
      "\n",
      "Error msg: IndexError('list index out of range',)\n"
     ]
    },
    {
     "name": "stderr",
     "output_type": "stream",
     "text": [
      "2018-09-21 11:36:48,372:WARNING:\n",
      "Failed to read header row 6.\n",
      "2008 01 01 2016 07 08\n",
      "\n",
      "Error msg: IndexError('list index out of range',)\n"
     ]
    },
    {
     "name": "stderr",
     "output_type": "stream",
     "text": [
      "2018-09-21 11:36:48,380:WARNING:\n",
      "Failed to read header row 6.\n",
      "2008 01 01 2016 07 08\n",
      "\n",
      "Error msg: IndexError('list index out of range',)\n"
     ]
    },
    {
     "name": "stderr",
     "output_type": "stream",
     "text": [
      "2018-09-21 11:36:48,387:WARNING:\n",
      "Failed to read header row 6.\n",
      "2008 01 01 2016 07 08\n",
      "\n",
      "Error msg: IndexError('list index out of range',)\n"
     ]
    },
    {
     "name": "stderr",
     "output_type": "stream",
     "text": [
      "2018-09-21 11:36:48,395:WARNING:\n",
      "Failed to read header row 6.\n",
      "2008 01 01 2016 07 08\n",
      "\n",
      "Error msg: IndexError('list index out of range',)\n"
     ]
    },
    {
     "name": "stderr",
     "output_type": "stream",
     "text": [
      "2018-09-21 11:36:48,402:WARNING:\n",
      "Failed to read header row 6.\n",
      "2008 01 01 2016 07 08\n",
      "\n",
      "Error msg: IndexError('list index out of range',)\n"
     ]
    },
    {
     "name": "stderr",
     "output_type": "stream",
     "text": [
      "2018-09-21 11:36:48,410:WARNING:\n",
      "Failed to read header row 6.\n",
      "2008 01 01 2016 07 08\n",
      "\n",
      "Error msg: IndexError('list index out of range',)\n"
     ]
    },
    {
     "name": "stderr",
     "output_type": "stream",
     "text": [
      "2018-09-21 11:36:48,418:WARNING:\n",
      "Failed to read header row 6.\n",
      "2008 01 01 2016 07 08\n",
      "\n",
      "Error msg: IndexError('list index out of range',)\n"
     ]
    },
    {
     "name": "stderr",
     "output_type": "stream",
     "text": [
      "2018-09-21 11:36:48,425:WARNING:\n",
      "Failed to read header row 6.\n",
      "2008 01 01 2016 07 08\n",
      "\n",
      "Error msg: IndexError('list index out of range',)\n"
     ]
    },
    {
     "name": "stderr",
     "output_type": "stream",
     "text": [
      "2018-09-21 11:36:48,432:WARNING:\n",
      "Failed to read header row 6.\n",
      "2008 01 01 2016 07 08\n",
      "\n",
      "Error msg: IndexError('list index out of range',)\n"
     ]
    },
    {
     "name": "stderr",
     "output_type": "stream",
     "text": [
      "2018-09-21 11:36:48,440:WARNING:\n",
      "Failed to read header row 6.\n",
      "2008 01 01 2016 07 08\n",
      "\n",
      "Error msg: IndexError('list index out of range',)\n"
     ]
    },
    {
     "name": "stderr",
     "output_type": "stream",
     "text": [
      "2018-09-21 11:36:48,447:WARNING:\n",
      "Failed to read header row 6.\n",
      "2008 01 01 2016 07 08\n",
      "\n",
      "Error msg: IndexError('list index out of range',)\n"
     ]
    },
    {
     "name": "stderr",
     "output_type": "stream",
     "text": [
      "2018-09-21 11:36:48,455:WARNING:\n",
      "Failed to read header row 6.\n",
      "2008 01 01 2016 07 08\n",
      "\n",
      "Error msg: IndexError('list index out of range',)\n"
     ]
    },
    {
     "name": "stderr",
     "output_type": "stream",
     "text": [
      "2018-09-21 11:36:48,463:WARNING:\n",
      "Failed to read header row 6.\n",
      "2008 01 01 2016 07 08\n",
      "\n",
      "Error msg: IndexError('list index out of range',)\n"
     ]
    },
    {
     "name": "stderr",
     "output_type": "stream",
     "text": [
      "2018-09-21 11:36:48,470:WARNING:\n",
      "Failed to read header row 6.\n",
      "2008 01 01 2016 07 08\n",
      "\n",
      "Error msg: IndexError('list index out of range',)\n"
     ]
    },
    {
     "name": "stderr",
     "output_type": "stream",
     "text": [
      "2018-09-21 11:36:48,478:WARNING:\n",
      "Failed to read header row 6.\n",
      "2008 01 01 2016 07 08\n",
      "\n",
      "Error msg: IndexError('list index out of range',)\n"
     ]
    },
    {
     "name": "stderr",
     "output_type": "stream",
     "text": [
      "2018-09-21 11:36:48,484:WARNING:\n",
      "Failed to read header row 6.\n",
      "2008 01 01 2016 07 08\n",
      "\n",
      "Error msg: IndexError('list index out of range',)\n"
     ]
    },
    {
     "name": "stderr",
     "output_type": "stream",
     "text": [
      "2018-09-21 11:36:48,494:WARNING:\n",
      "Failed to read header row 6.\n",
      "2008 01 01 2016 07 08\n",
      "\n",
      "Error msg: IndexError('list index out of range',)\n"
     ]
    },
    {
     "name": "stderr",
     "output_type": "stream",
     "text": [
      "2018-09-21 11:36:48,501:WARNING:\n",
      "Failed to read header row 6.\n",
      "2008 01 01 2016 07 08\n",
      "\n",
      "Error msg: IndexError('list index out of range',)\n"
     ]
    },
    {
     "name": "stderr",
     "output_type": "stream",
     "text": [
      "2018-09-21 11:36:48,509:WARNING:\n",
      "Failed to read header row 6.\n",
      "2008 01 01 2016 07 08\n",
      "\n",
      "Error msg: IndexError('list index out of range',)\n"
     ]
    },
    {
     "name": "stderr",
     "output_type": "stream",
     "text": [
      "2018-09-21 11:36:48,517:WARNING:\n",
      "Failed to read header row 6.\n",
      "2008 01 01 2016 07 08\n",
      "\n",
      "Error msg: IndexError('list index out of range',)\n"
     ]
    },
    {
     "name": "stderr",
     "output_type": "stream",
     "text": [
      "2018-09-21 11:36:48,525:WARNING:\n",
      "Failed to read header row 6.\n",
      "2008 01 01 2016 07 08\n",
      "\n",
      "Error msg: IndexError('list index out of range',)\n"
     ]
    },
    {
     "name": "stderr",
     "output_type": "stream",
     "text": [
      "2018-09-21 11:36:48,533:WARNING:\n",
      "Failed to read header row 6.\n",
      "2008 01 01 2016 07 08\n",
      "\n",
      "Error msg: IndexError('list index out of range',)\n"
     ]
    },
    {
     "name": "stderr",
     "output_type": "stream",
     "text": [
      "2018-09-21 11:36:48,540:WARNING:\n",
      "Failed to read header row 6.\n",
      "2008 01 01 2016 07 08\n",
      "\n",
      "Error msg: IndexError('list index out of range',)\n"
     ]
    },
    {
     "name": "stderr",
     "output_type": "stream",
     "text": [
      "2018-09-21 11:36:48,547:WARNING:\n",
      "Failed to read header row 6.\n",
      "2008 01 01 2016 07 08\n",
      "\n",
      "Error msg: IndexError('list index out of range',)\n"
     ]
    },
    {
     "name": "stderr",
     "output_type": "stream",
     "text": [
      "2018-09-21 11:36:48,554:WARNING:\n",
      "Failed to read header row 6.\n",
      "2008 01 01 2016 07 08\n",
      "\n",
      "Error msg: IndexError('list index out of range',)\n"
     ]
    },
    {
     "name": "stderr",
     "output_type": "stream",
     "text": [
      "2018-09-21 11:36:48,562:WARNING:\n",
      "Failed to read header row 6.\n",
      "2008 01 01 2016 07 08\n",
      "\n",
      "Error msg: IndexError('list index out of range',)\n"
     ]
    },
    {
     "name": "stderr",
     "output_type": "stream",
     "text": [
      "2018-09-21 11:36:48,570:WARNING:\n",
      "Failed to read header row 6.\n",
      "2008 01 01 2016 07 08\n",
      "\n",
      "Error msg: IndexError('list index out of range',)\n"
     ]
    },
    {
     "name": "stderr",
     "output_type": "stream",
     "text": [
      "2018-09-21 11:36:48,578:WARNING:\n",
      "Failed to read header row 6.\n",
      "2008 01 01 2016 07 08\n",
      "\n",
      "Error msg: IndexError('list index out of range',)\n"
     ]
    },
    {
     "name": "stderr",
     "output_type": "stream",
     "text": [
      "2018-09-21 11:36:48,586:WARNING:\n",
      "Failed to read header row 6.\n",
      "2008 01 01 2016 07 08\n",
      "\n",
      "Error msg: IndexError('list index out of range',)\n"
     ]
    },
    {
     "name": "stderr",
     "output_type": "stream",
     "text": [
      "2018-09-21 11:36:48,594:WARNING:\n",
      "Failed to read header row 6.\n",
      "2008 01 01 2016 07 08\n",
      "\n",
      "Error msg: IndexError('list index out of range',)\n"
     ]
    },
    {
     "name": "stderr",
     "output_type": "stream",
     "text": [
      "2018-09-21 11:36:48,601:WARNING:\n",
      "Failed to read header row 6.\n",
      "2008 01 01 2016 07 08\n",
      "\n",
      "Error msg: IndexError('list index out of range',)\n"
     ]
    },
    {
     "name": "stderr",
     "output_type": "stream",
     "text": [
      "2018-09-21 11:36:48,608:WARNING:\n",
      "Failed to read header row 6.\n",
      "2008 01 01 2016 07 08\n",
      "\n",
      "Error msg: IndexError('list index out of range',)\n"
     ]
    },
    {
     "name": "stderr",
     "output_type": "stream",
     "text": [
      "2018-09-21 11:36:48,615:WARNING:\n",
      "Failed to read header row 6.\n",
      "2008 01 01 2016 07 08\n",
      "\n",
      "Error msg: IndexError('list index out of range',)\n"
     ]
    },
    {
     "name": "stderr",
     "output_type": "stream",
     "text": [
      "2018-09-21 11:36:48,622:WARNING:\n",
      "Failed to read header row 6.\n",
      "2008 01 01 2016 07 08\n",
      "\n",
      "Error msg: IndexError('list index out of range',)\n"
     ]
    },
    {
     "name": "stderr",
     "output_type": "stream",
     "text": [
      "2018-09-21 11:36:48,631:WARNING:\n",
      "Failed to read header row 6.\n",
      "2008 01 01 2016 07 08\n",
      "\n",
      "Error msg: IndexError('list index out of range',)\n"
     ]
    },
    {
     "name": "stderr",
     "output_type": "stream",
     "text": [
      "2018-09-21 11:36:48,640:WARNING:\n",
      "Failed to read header row 6.\n",
      "2008 01 01 2016 07 08\n",
      "\n",
      "Error msg: IndexError('list index out of range',)\n"
     ]
    },
    {
     "name": "stderr",
     "output_type": "stream",
     "text": [
      "2018-09-21 11:36:48,647:WARNING:\n",
      "Failed to read header row 6.\n",
      "2008 01 01 2016 07 08\n",
      "\n",
      "Error msg: IndexError('list index out of range',)\n"
     ]
    },
    {
     "name": "stderr",
     "output_type": "stream",
     "text": [
      "2018-09-21 11:36:48,654:WARNING:\n",
      "Failed to read header row 6.\n",
      "2008 01 01 2016 07 08\n",
      "\n",
      "Error msg: IndexError('list index out of range',)\n"
     ]
    },
    {
     "name": "stderr",
     "output_type": "stream",
     "text": [
      "2018-09-21 11:36:48,661:WARNING:\n",
      "Failed to read header row 6.\n",
      "2008 01 01 2016 07 08\n",
      "\n",
      "Error msg: IndexError('list index out of range',)\n"
     ]
    },
    {
     "name": "stderr",
     "output_type": "stream",
     "text": [
      "2018-09-21 11:36:48,668:WARNING:\n",
      "Failed to read header row 6.\n",
      "2008 01 01 2016 07 08\n",
      "\n",
      "Error msg: IndexError('list index out of range',)\n"
     ]
    },
    {
     "name": "stderr",
     "output_type": "stream",
     "text": [
      "2018-09-21 11:36:48,674:WARNING:\n",
      "Failed to read header row 6.\n",
      "2008 01 01 2016 07 08\n",
      "\n",
      "Error msg: IndexError('list index out of range',)\n"
     ]
    },
    {
     "name": "stderr",
     "output_type": "stream",
     "text": [
      "2018-09-21 11:36:48,682:WARNING:\n",
      "Failed to read header row 6.\n",
      "2008 01 01 2016 07 08\n",
      "\n",
      "Error msg: IndexError('list index out of range',)\n"
     ]
    },
    {
     "name": "stderr",
     "output_type": "stream",
     "text": [
      "2018-09-21 11:36:48,688:WARNING:\n",
      "Failed to read header row 6.\n",
      "2008 01 01 2016 07 08\n",
      "\n",
      "Error msg: IndexError('list index out of range',)\n"
     ]
    },
    {
     "name": "stderr",
     "output_type": "stream",
     "text": [
      "2018-09-21 11:36:48,695:WARNING:\n",
      "Failed to read header row 6.\n",
      "2008 01 01 2016 07 08\n",
      "\n",
      "Error msg: IndexError('list index out of range',)\n"
     ]
    },
    {
     "name": "stderr",
     "output_type": "stream",
     "text": [
      "2018-09-21 11:36:48,702:WARNING:\n",
      "Failed to read header row 6.\n",
      "2008 01 01 2016 07 08\n",
      "\n",
      "Error msg: IndexError('list index out of range',)\n"
     ]
    },
    {
     "name": "stderr",
     "output_type": "stream",
     "text": [
      "2018-09-21 11:36:48,709:WARNING:\n",
      "Failed to read header row 6.\n",
      "2008 01 01 2016 07 08\n",
      "\n",
      "Error msg: IndexError('list index out of range',)\n"
     ]
    },
    {
     "name": "stderr",
     "output_type": "stream",
     "text": [
      "2018-09-21 11:36:48,715:WARNING:\n",
      "Failed to read header row 6.\n",
      "2008 01 01 2016 07 08\n",
      "\n",
      "Error msg: IndexError('list index out of range',)\n"
     ]
    },
    {
     "name": "stderr",
     "output_type": "stream",
     "text": [
      "2018-09-21 11:36:48,722:WARNING:\n",
      "Failed to read header row 6.\n",
      "2008 01 01 2016 07 08\n",
      "\n",
      "Error msg: IndexError('list index out of range',)\n"
     ]
    },
    {
     "name": "stderr",
     "output_type": "stream",
     "text": [
      "2018-09-21 11:36:48,729:WARNING:\n",
      "Failed to read header row 6.\n",
      "2008 01 01 2016 07 08\n",
      "\n",
      "Error msg: IndexError('list index out of range',)\n"
     ]
    },
    {
     "name": "stderr",
     "output_type": "stream",
     "text": [
      "2018-09-21 11:36:48,736:WARNING:\n",
      "Failed to read header row 6.\n",
      "2008 01 01 2016 07 08\n",
      "\n",
      "Error msg: IndexError('list index out of range',)\n"
     ]
    },
    {
     "name": "stderr",
     "output_type": "stream",
     "text": [
      "2018-09-21 11:36:48,742:WARNING:\n",
      "Failed to read header row 6.\n",
      "2008 01 01 2016 07 08\n",
      "\n",
      "Error msg: IndexError('list index out of range',)\n"
     ]
    },
    {
     "name": "stderr",
     "output_type": "stream",
     "text": [
      "2018-09-21 11:36:48,749:WARNING:\n",
      "Failed to read header row 6.\n",
      "2008 01 01 2016 07 08\n",
      "\n",
      "Error msg: IndexError('list index out of range',)\n"
     ]
    },
    {
     "name": "stderr",
     "output_type": "stream",
     "text": [
      "2018-09-21 11:36:48,755:WARNING:\n",
      "Failed to read header row 6.\n",
      "2008 01 01 2016 07 08\n",
      "\n",
      "Error msg: IndexError('list index out of range',)\n"
     ]
    },
    {
     "name": "stderr",
     "output_type": "stream",
     "text": [
      "2018-09-21 11:36:48,762:WARNING:\n",
      "Failed to read header row 6.\n",
      "2008 01 01 2016 07 08\n",
      "\n",
      "Error msg: IndexError('list index out of range',)\n"
     ]
    },
    {
     "name": "stderr",
     "output_type": "stream",
     "text": [
      "2018-09-21 11:36:48,768:WARNING:\n",
      "Failed to read header row 6.\n",
      "2008 01 01 2016 07 08\n",
      "\n",
      "Error msg: IndexError('list index out of range',)\n"
     ]
    },
    {
     "name": "stderr",
     "output_type": "stream",
     "text": [
      "2018-09-21 11:36:48,776:WARNING:\n",
      "Failed to read header row 6.\n",
      "2008 01 01 2016 07 08\n",
      "\n",
      "Error msg: IndexError('list index out of range',)\n"
     ]
    },
    {
     "name": "stderr",
     "output_type": "stream",
     "text": [
      "2018-09-21 11:36:48,783:WARNING:\n",
      "Failed to read header row 6.\n",
      "2008 01 01 2016 07 08\n",
      "\n",
      "Error msg: IndexError('list index out of range',)\n"
     ]
    },
    {
     "name": "stderr",
     "output_type": "stream",
     "text": [
      "2018-09-21 11:36:48,790:WARNING:\n",
      "Failed to read header row 6.\n",
      "2008 01 01 2016 07 08\n",
      "\n",
      "Error msg: IndexError('list index out of range',)\n"
     ]
    },
    {
     "name": "stderr",
     "output_type": "stream",
     "text": [
      "2018-09-21 11:36:48,798:WARNING:\n",
      "Failed to read header row 6.\n",
      "2008 01 01 2016 07 08\n",
      "\n",
      "Error msg: IndexError('list index out of range',)\n"
     ]
    },
    {
     "name": "stderr",
     "output_type": "stream",
     "text": [
      "2018-09-21 11:36:48,805:WARNING:\n",
      "Failed to read header row 6.\n",
      "2008 01 01 2016 07 08\n",
      "\n",
      "Error msg: IndexError('list index out of range',)\n"
     ]
    },
    {
     "name": "stderr",
     "output_type": "stream",
     "text": [
      "2018-09-21 11:36:48,811:WARNING:\n",
      "Failed to read header row 6.\n",
      "2008 01 01 2016 07 08\n",
      "\n",
      "Error msg: IndexError('list index out of range',)\n"
     ]
    },
    {
     "name": "stderr",
     "output_type": "stream",
     "text": [
      "2018-09-21 11:36:48,818:WARNING:\n",
      "Failed to read header row 6.\n",
      "2008 01 01 2016 07 08\n",
      "\n",
      "Error msg: IndexError('list index out of range',)\n"
     ]
    },
    {
     "name": "stderr",
     "output_type": "stream",
     "text": [
      "2018-09-21 11:36:48,825:WARNING:\n",
      "Failed to read header row 6.\n",
      "2008 01 01 2016 07 08\n",
      "\n",
      "Error msg: IndexError('list index out of range',)\n"
     ]
    },
    {
     "name": "stderr",
     "output_type": "stream",
     "text": [
      "2018-09-21 11:36:48,832:WARNING:\n",
      "Failed to read header row 6.\n",
      "2008 01 01 2016 07 08\n",
      "\n",
      "Error msg: IndexError('list index out of range',)\n"
     ]
    },
    {
     "name": "stderr",
     "output_type": "stream",
     "text": [
      "2018-09-21 11:36:48,840:WARNING:\n",
      "Failed to read header row 6.\n",
      "2008 01 01 2016 07 08\n",
      "\n",
      "Error msg: IndexError('list index out of range',)\n"
     ]
    },
    {
     "name": "stderr",
     "output_type": "stream",
     "text": [
      "2018-09-21 11:36:48,847:WARNING:\n",
      "Failed to read header row 6.\n",
      "2008 01 01 2016 07 08\n",
      "\n",
      "Error msg: IndexError('list index out of range',)\n"
     ]
    },
    {
     "name": "stderr",
     "output_type": "stream",
     "text": [
      "2018-09-21 11:36:48,854:WARNING:\n",
      "Failed to read header row 6.\n",
      "2008 01 01 2016 07 08\n",
      "\n",
      "Error msg: IndexError('list index out of range',)\n"
     ]
    },
    {
     "name": "stderr",
     "output_type": "stream",
     "text": [
      "2018-09-21 11:36:48,861:WARNING:\n",
      "Failed to read header row 6.\n",
      "2008 01 01 2016 07 08\n",
      "\n",
      "Error msg: IndexError('list index out of range',)\n"
     ]
    },
    {
     "name": "stderr",
     "output_type": "stream",
     "text": [
      "2018-09-21 11:36:48,868:WARNING:\n",
      "Failed to read header row 6.\n",
      "2008 01 01 2016 07 08\n",
      "\n",
      "Error msg: IndexError('list index out of range',)\n"
     ]
    },
    {
     "name": "stderr",
     "output_type": "stream",
     "text": [
      "2018-09-21 11:36:48,874:WARNING:\n",
      "Failed to read header row 6.\n",
      "2008 01 01 2016 07 08\n",
      "\n",
      "Error msg: IndexError('list index out of range',)\n"
     ]
    },
    {
     "name": "stderr",
     "output_type": "stream",
     "text": [
      "2018-09-21 11:36:48,881:WARNING:\n",
      "Failed to read header row 6.\n",
      "2008 01 01 2016 07 08\n",
      "\n",
      "Error msg: IndexError('list index out of range',)\n"
     ]
    },
    {
     "name": "stderr",
     "output_type": "stream",
     "text": [
      "2018-09-21 11:36:48,888:WARNING:\n",
      "Failed to read header row 6.\n",
      "2008 01 01 2016 07 08\n",
      "\n",
      "Error msg: IndexError('list index out of range',)\n"
     ]
    },
    {
     "name": "stderr",
     "output_type": "stream",
     "text": [
      "2018-09-21 11:36:48,895:WARNING:\n",
      "Failed to read header row 6.\n",
      "2008 01 01 2016 07 08\n",
      "\n",
      "Error msg: IndexError('list index out of range',)\n"
     ]
    },
    {
     "name": "stderr",
     "output_type": "stream",
     "text": [
      "2018-09-21 11:36:48,902:WARNING:\n",
      "Failed to read header row 6.\n",
      "2008 01 01 2016 07 08\n",
      "\n",
      "Error msg: IndexError('list index out of range',)\n"
     ]
    },
    {
     "name": "stderr",
     "output_type": "stream",
     "text": [
      "2018-09-21 11:36:48,909:WARNING:\n",
      "Failed to read header row 6.\n",
      "2008 01 01 2016 07 08\n",
      "\n",
      "Error msg: IndexError('list index out of range',)\n"
     ]
    },
    {
     "name": "stderr",
     "output_type": "stream",
     "text": [
      "2018-09-21 11:36:48,916:WARNING:\n",
      "Failed to read header row 6.\n",
      "2008 01 01 2016 07 08\n",
      "\n",
      "Error msg: IndexError('list index out of range',)\n"
     ]
    },
    {
     "name": "stderr",
     "output_type": "stream",
     "text": [
      "2018-09-21 11:36:48,923:WARNING:\n",
      "Failed to read header row 6.\n",
      "2008 01 01 2016 07 08\n",
      "\n",
      "Error msg: IndexError('list index out of range',)\n"
     ]
    },
    {
     "name": "stderr",
     "output_type": "stream",
     "text": [
      "2018-09-21 11:36:48,929:WARNING:\n",
      "Failed to read header row 6.\n",
      "2008 01 01 2016 07 08\n",
      "\n",
      "Error msg: IndexError('list index out of range',)\n"
     ]
    },
    {
     "name": "stderr",
     "output_type": "stream",
     "text": [
      "2018-09-21 11:36:48,936:WARNING:\n",
      "Failed to read header row 6.\n",
      "2008 01 01 2016 07 08\n",
      "\n",
      "Error msg: IndexError('list index out of range',)"
     ]
    },
    {
     "name": "stderr",
     "output_type": "stream",
     "text": [
      "\n"
     ]
    },
    {
     "name": "stderr",
     "output_type": "stream",
     "text": [
      "2018-09-21 11:36:48,945:WARNING:\n",
      "Failed to read header row 6.\n",
      "2008 01 01 2016 07 08\n",
      "\n",
      "Error msg: IndexError('list index out of range',)\n"
     ]
    },
    {
     "name": "stderr",
     "output_type": "stream",
     "text": [
      "2018-09-21 11:36:48,952:WARNING:\n",
      "Failed to read header row 6.\n",
      "2008 01 01 2016 07 08\n",
      "\n",
      "Error msg: IndexError('list index out of range',)\n"
     ]
    },
    {
     "name": "stderr",
     "output_type": "stream",
     "text": [
      "2018-09-21 11:36:48,958:WARNING:\n",
      "Failed to read header row 6.\n",
      "2008 01 01 2016 07 08\n",
      "\n",
      "Error msg: IndexError('list index out of range',)\n"
     ]
    },
    {
     "name": "stderr",
     "output_type": "stream",
     "text": [
      "2018-09-21 11:36:48,969:WARNING:\n",
      "Failed to read header row 6.\n",
      "2008 01 01 2016 07 08\n",
      "\n",
      "Error msg: IndexError('list index out of range',)\n"
     ]
    },
    {
     "name": "stderr",
     "output_type": "stream",
     "text": [
      "2018-09-21 11:36:48,982:WARNING:\n",
      "Failed to read header row 6.\n",
      "2008 01 01 2016 07 08\n",
      "\n",
      "Error msg: IndexError('list index out of range',)\n"
     ]
    },
    {
     "name": "stderr",
     "output_type": "stream",
     "text": [
      "2018-09-21 11:36:48,989:WARNING:\n",
      "Failed to read header row 6.\n",
      "2008 01 01 2016 07 08\n",
      "\n",
      "Error msg: IndexError('list index out of range',)\n"
     ]
    },
    {
     "name": "stderr",
     "output_type": "stream",
     "text": [
      "2018-09-21 11:36:48,995:WARNING:\n",
      "Failed to read header row 6.\n",
      "2008 01 01 2016 07 08\n",
      "\n",
      "Error msg: IndexError('list index out of range',)\n"
     ]
    },
    {
     "name": "stderr",
     "output_type": "stream",
     "text": [
      "2018-09-21 11:36:49,003:WARNING:\n",
      "Failed to read header row 6.\n",
      "2008 01 01 2016 07 08\n",
      "\n",
      "Error msg: IndexError('list index out of range',)\n"
     ]
    },
    {
     "name": "stderr",
     "output_type": "stream",
     "text": [
      "2018-09-21 11:36:49,009:WARNING:\n",
      "Failed to read header row 6.\n",
      "2008 01 01 2016 07 08\n",
      "\n",
      "Error msg: IndexError('list index out of range',)\n"
     ]
    },
    {
     "name": "stderr",
     "output_type": "stream",
     "text": [
      "2018-09-21 11:36:49,017:WARNING:\n",
      "Failed to read header row 6.\n",
      "2008 01 01 2016 07 08\n",
      "\n",
      "Error msg: IndexError('list index out of range',)\n"
     ]
    },
    {
     "name": "stderr",
     "output_type": "stream",
     "text": [
      "2018-09-21 11:36:49,024:WARNING:\n",
      "Failed to read header row 6.\n",
      "2008 01 01 2016 07 08\n",
      "\n",
      "Error msg: IndexError('list index out of range',)\n"
     ]
    },
    {
     "name": "stderr",
     "output_type": "stream",
     "text": [
      "2018-09-21 11:36:49,031:WARNING:\n",
      "Failed to read header row 6.\n",
      "2008 01 01 2016 07 08\n",
      "\n",
      "Error msg: IndexError('list index out of range',)\n"
     ]
    },
    {
     "name": "stderr",
     "output_type": "stream",
     "text": [
      "2018-09-21 11:36:49,037:WARNING:\n",
      "Failed to read header row 6.\n",
      "2008 01 01 2016 07 08\n",
      "\n",
      "Error msg: IndexError('list index out of range',)\n"
     ]
    },
    {
     "name": "stderr",
     "output_type": "stream",
     "text": [
      "2018-09-21 11:36:49,044:WARNING:\n",
      "Failed to read header row 6.\n",
      "2008 01 01 2016 07 08\n",
      "\n",
      "Error msg: IndexError('list index out of range',)\n"
     ]
    },
    {
     "name": "stderr",
     "output_type": "stream",
     "text": [
      "2018-09-21 11:36:49,052:WARNING:\n",
      "Failed to read header row 6.\n",
      "2008 01 01 2016 07 08\n",
      "\n",
      "Error msg: IndexError('list index out of range',)\n"
     ]
    },
    {
     "name": "stderr",
     "output_type": "stream",
     "text": [
      "2018-09-21 11:36:49,061:WARNING:\n",
      "Failed to read header row 6.\n",
      "2008 01 01 2016 07 08\n",
      "\n",
      "Error msg: IndexError('list index out of range',)\n"
     ]
    },
    {
     "name": "stderr",
     "output_type": "stream",
     "text": [
      "2018-09-21 11:36:49,069:WARNING:\n",
      "Failed to read header row 6.\n",
      "2008 01 01 2016 07 08\n",
      "\n",
      "Error msg: IndexError('list index out of range',)\n"
     ]
    },
    {
     "name": "stderr",
     "output_type": "stream",
     "text": [
      "2018-09-21 11:36:49,078:WARNING:\n",
      "Failed to read header row 6.\n",
      "2008 01 01 2016 07 08\n",
      "\n",
      "Error msg: IndexError('list index out of range',)\n"
     ]
    },
    {
     "name": "stderr",
     "output_type": "stream",
     "text": [
      "2018-09-21 11:36:49,086:WARNING:\n",
      "Failed to read header row 6.\n",
      "2008 01 01 2016 07 08\n",
      "\n",
      "Error msg: IndexError('list index out of range',)\n"
     ]
    },
    {
     "name": "stderr",
     "output_type": "stream",
     "text": [
      "2018-09-21 11:36:49,094:WARNING:\n",
      "Failed to read header row 6.\n",
      "2008 01 01 2016 07 08\n",
      "\n",
      "Error msg: IndexError('list index out of range',)\n"
     ]
    },
    {
     "name": "stderr",
     "output_type": "stream",
     "text": [
      "2018-09-21 11:36:49,102:WARNING:\n",
      "Failed to read header row 6.\n",
      "2008 01 01 2016 07 08\n",
      "\n",
      "Error msg: IndexError('list index out of range',)\n"
     ]
    },
    {
     "name": "stderr",
     "output_type": "stream",
     "text": [
      "2018-09-21 11:36:49,111:WARNING:\n",
      "Failed to read header row 6.\n",
      "2008 01 01 2016 07 08\n",
      "\n",
      "Error msg: IndexError('list index out of range',)\n"
     ]
    },
    {
     "name": "stderr",
     "output_type": "stream",
     "text": [
      "2018-09-21 11:36:49,120:WARNING:\n",
      "Failed to read header row 6.\n",
      "2008 01 01 2016 07 08\n",
      "\n",
      "Error msg: IndexError('list index out of range',)\n"
     ]
    },
    {
     "name": "stderr",
     "output_type": "stream",
     "text": [
      "2018-09-21 11:36:49,129:WARNING:\n",
      "Failed to read header row 6.\n",
      "2008 01 01 2016 07 08\n",
      "\n",
      "Error msg: IndexError('list index out of range',)\n"
     ]
    },
    {
     "name": "stderr",
     "output_type": "stream",
     "text": [
      "2018-09-21 11:36:49,135:WARNING:\n",
      "Failed to read header row 6.\n",
      "2008 01 01 2016 07 08\n",
      "\n",
      "Error msg: IndexError('list index out of range',)\n"
     ]
    },
    {
     "name": "stderr",
     "output_type": "stream",
     "text": [
      "2018-09-21 11:36:49,141:WARNING:\n",
      "Failed to read header row 6.\n",
      "2008 01 01 2016 07 08\n",
      "\n",
      "Error msg: IndexError('list index out of range',)\n"
     ]
    },
    {
     "name": "stderr",
     "output_type": "stream",
     "text": [
      "2018-09-21 11:36:49,147:WARNING:\n",
      "Failed to read header row 6.\n",
      "2008 01 01 2016 07 08\n",
      "\n",
      "Error msg: IndexError('list index out of range',)\n"
     ]
    },
    {
     "name": "stderr",
     "output_type": "stream",
     "text": [
      "2018-09-21 11:36:49,157:WARNING:\n",
      "Failed to read header row 6.\n",
      "2008 01 01 2016 07 08\n",
      "\n",
      "Error msg: IndexError('list index out of range',)\n"
     ]
    },
    {
     "name": "stderr",
     "output_type": "stream",
     "text": [
      "2018-09-21 11:36:49,166:WARNING:\n",
      "Failed to read header row 6.\n",
      "2008 01 01 2016 07 08\n",
      "\n",
      "Error msg: IndexError('list index out of range',)\n"
     ]
    },
    {
     "name": "stderr",
     "output_type": "stream",
     "text": [
      "2018-09-21 11:36:49,175:WARNING:\n",
      "Failed to read header row 6.\n",
      "2008 01 01 2016 07 08\n",
      "\n",
      "Error msg: IndexError('list index out of range',)\n"
     ]
    },
    {
     "name": "stderr",
     "output_type": "stream",
     "text": [
      "2018-09-21 11:36:49,182:WARNING:\n",
      "Failed to read header row 6.\n",
      "2008 01 01 2016 07 08\n",
      "\n",
      "Error msg: IndexError('list index out of range',)\n"
     ]
    },
    {
     "name": "stderr",
     "output_type": "stream",
     "text": [
      "2018-09-21 11:36:49,187:WARNING:\n",
      "Failed to read header row 6.\n",
      "2008 01 01 2016 07 08\n",
      "\n",
      "Error msg: IndexError('list index out of range',)\n"
     ]
    },
    {
     "name": "stderr",
     "output_type": "stream",
     "text": [
      "2018-09-21 11:36:49,192:WARNING:\n",
      "Failed to read header row 6.\n",
      "2008 01 01 2016 07 08\n",
      "\n",
      "Error msg: IndexError('list index out of range',)\n"
     ]
    },
    {
     "name": "stderr",
     "output_type": "stream",
     "text": [
      "2018-09-21 11:36:49,198:WARNING:\n",
      "Failed to read header row 6.\n",
      "2008 01 01 2016 07 08\n",
      "\n",
      "Error msg: IndexError('list index out of range',)\n"
     ]
    },
    {
     "name": "stderr",
     "output_type": "stream",
     "text": [
      "2018-09-21 11:36:49,203:WARNING:\n",
      "Failed to read header row 6.\n",
      "2008 01 01 2016 07 08\n",
      "\n",
      "Error msg: IndexError('list index out of range',)\n"
     ]
    },
    {
     "name": "stderr",
     "output_type": "stream",
     "text": [
      "2018-09-21 11:36:49,208:WARNING:\n",
      "Failed to read header row 6.\n",
      "2008 01 01 2016 07 08\n",
      "\n",
      "Error msg: IndexError('list index out of range',)\n"
     ]
    },
    {
     "name": "stderr",
     "output_type": "stream",
     "text": [
      "2018-09-21 11:36:49,217:WARNING:\n",
      "Failed to read header row 6.\n",
      "2008 01 01 2016 07 08\n",
      "\n",
      "Error msg: IndexError('list index out of range',)\n"
     ]
    },
    {
     "name": "stderr",
     "output_type": "stream",
     "text": [
      "2018-09-21 11:36:49,225:WARNING:\n",
      "Failed to read header row 6.\n",
      "2008 01 01 2016 07 08\n",
      "\n",
      "Error msg: IndexError('list index out of range',)"
     ]
    },
    {
     "name": "stderr",
     "output_type": "stream",
     "text": [
      "\n"
     ]
    },
    {
     "name": "stderr",
     "output_type": "stream",
     "text": [
      "2018-09-21 11:36:49,233:WARNING:\n",
      "Failed to read header row 6.\n",
      "2008 01 01 2016 07 08\n",
      "\n",
      "Error msg: IndexError('list index out of range',)\n"
     ]
    },
    {
     "name": "stderr",
     "output_type": "stream",
     "text": [
      "2018-09-21 11:36:49,241:WARNING:\n",
      "Failed to read header row 6.\n",
      "2008 01 01 2016 07 08\n",
      "\n",
      "Error msg: IndexError('list index out of range',)\n"
     ]
    },
    {
     "name": "stderr",
     "output_type": "stream",
     "text": [
      "2018-09-21 11:36:49,249:WARNING:\n",
      "Failed to read header row 6.\n",
      "2008 01 01 2016 07 08\n",
      "\n",
      "Error msg: IndexError('list index out of range',)\n"
     ]
    },
    {
     "name": "stderr",
     "output_type": "stream",
     "text": [
      "2018-09-21 11:36:49,255:WARNING:\n",
      "Failed to read header row 6.\n",
      "2008 01 01 2016 07 08\n",
      "\n",
      "Error msg: IndexError('list index out of range',)\n"
     ]
    },
    {
     "name": "stderr",
     "output_type": "stream",
     "text": [
      "2018-09-21 11:36:49,263:WARNING:\n",
      "Failed to read header row 6.\n",
      "2008 01 01 2016 07 08\n",
      "\n",
      "Error msg: IndexError('list index out of range',)\n"
     ]
    },
    {
     "name": "stderr",
     "output_type": "stream",
     "text": [
      "2018-09-21 11:36:49,270:WARNING:\n",
      "Failed to read header row 6.\n",
      "2008 01 01 2016 07 08\n",
      "\n",
      "Error msg: IndexError('list index out of range',)\n"
     ]
    },
    {
     "name": "stderr",
     "output_type": "stream",
     "text": [
      "2018-09-21 11:36:49,277:WARNING:\n",
      "Failed to read header row 6.\n",
      "2008 01 01 2016 07 08\n",
      "\n",
      "Error msg: IndexError('list index out of range',)\n"
     ]
    },
    {
     "name": "stderr",
     "output_type": "stream",
     "text": [
      "2018-09-21 11:36:49,285:WARNING:\n",
      "Failed to read header row 6.\n",
      "2008 01 01 2016 07 08\n",
      "\n",
      "Error msg: IndexError('list index out of range',)\n"
     ]
    },
    {
     "name": "stderr",
     "output_type": "stream",
     "text": [
      "2018-09-21 11:36:49,293:WARNING:\n",
      "Failed to read header row 6.\n",
      "2008 01 01 2016 07 08\n",
      "\n",
      "Error msg: IndexError('list index out of range',)\n"
     ]
    },
    {
     "name": "stderr",
     "output_type": "stream",
     "text": [
      "2018-09-21 11:36:49,301:WARNING:\n",
      "Failed to read header row 6.\n",
      "2008 01 01 2016 07 08\n",
      "\n",
      "Error msg: IndexError('list index out of range',)\n"
     ]
    },
    {
     "name": "stderr",
     "output_type": "stream",
     "text": [
      "2018-09-21 11:36:49,310:WARNING:\n",
      "Failed to read header row 6.\n",
      "2008 01 01 2016 07 08\n",
      "\n",
      "Error msg: IndexError('list index out of range',)\n"
     ]
    },
    {
     "name": "stderr",
     "output_type": "stream",
     "text": [
      "2018-09-21 11:36:49,317:WARNING:\n",
      "Failed to read header row 6.\n",
      "2008 01 01 2016 07 08\n",
      "\n",
      "Error msg: IndexError('list index out of range',)\n"
     ]
    },
    {
     "name": "stderr",
     "output_type": "stream",
     "text": [
      "2018-09-21 11:36:49,324:WARNING:\n",
      "Failed to read header row 6.\n",
      "2008 01 01 2016 07 08\n",
      "\n",
      "Error msg: IndexError('list index out of range',)\n"
     ]
    },
    {
     "name": "stderr",
     "output_type": "stream",
     "text": [
      "2018-09-21 11:36:49,331:WARNING:\n",
      "Failed to read header row 6.\n",
      "2008 01 01 2016 07 08\n",
      "\n",
      "Error msg: IndexError('list index out of range',)\n"
     ]
    },
    {
     "name": "stderr",
     "output_type": "stream",
     "text": [
      "2018-09-21 11:36:49,337:WARNING:\n",
      "Failed to read header row 6.\n",
      "2008 01 01 2016 07 08\n",
      "\n",
      "Error msg: IndexError('list index out of range',)\n"
     ]
    },
    {
     "name": "stderr",
     "output_type": "stream",
     "text": [
      "2018-09-21 11:36:49,348:WARNING:\n",
      "Failed to read header row 6.\n",
      "2008 01 01 2016 07 08\n",
      "\n",
      "Error msg: IndexError('list index out of range',)\n"
     ]
    },
    {
     "name": "stderr",
     "output_type": "stream",
     "text": [
      "2018-09-21 11:36:49,354:WARNING:\n",
      "Failed to read header row 6.\n",
      "2008 01 01 2016 07 08\n",
      "\n",
      "Error msg: IndexError('list index out of range',)\n"
     ]
    },
    {
     "name": "stderr",
     "output_type": "stream",
     "text": [
      "2018-09-21 11:36:49,360:WARNING:\n",
      "Failed to read header row 6.\n",
      "2008 01 01 2016 07 08\n",
      "\n",
      "Error msg: IndexError('list index out of range',)\n"
     ]
    },
    {
     "name": "stderr",
     "output_type": "stream",
     "text": [
      "2018-09-21 11:36:49,366:WARNING:\n",
      "Failed to read header row 6.\n",
      "2008 01 01 2016 07 08\n",
      "\n",
      "Error msg: IndexError('list index out of range',)\n"
     ]
    },
    {
     "name": "stderr",
     "output_type": "stream",
     "text": [
      "2018-09-21 11:36:49,373:WARNING:\n",
      "Failed to read header row 6.\n",
      "2008 01 01 2016 07 08\n",
      "\n",
      "Error msg: IndexError('list index out of range',)\n"
     ]
    },
    {
     "name": "stderr",
     "output_type": "stream",
     "text": [
      "2018-09-21 11:36:49,379:WARNING:\n",
      "Failed to read header row 6.\n",
      "2008 01 01 2016 07 08\n",
      "\n",
      "Error msg: IndexError('list index out of range',)\n"
     ]
    },
    {
     "name": "stderr",
     "output_type": "stream",
     "text": [
      "2018-09-21 11:36:49,387:WARNING:\n",
      "Failed to read header row 6.\n",
      "2008 01 01 2016 07 08\n",
      "\n",
      "Error msg: IndexError('list index out of range',)\n"
     ]
    },
    {
     "name": "stderr",
     "output_type": "stream",
     "text": [
      "2018-09-21 11:36:49,394:WARNING:\n",
      "Failed to read header row 6.\n",
      "2008 01 01 2016 07 08\n",
      "\n",
      "Error msg: IndexError('list index out of range',)\n"
     ]
    },
    {
     "name": "stderr",
     "output_type": "stream",
     "text": [
      "2018-09-21 11:36:49,400:WARNING:\n",
      "Failed to read header row 6.\n",
      "2008 01 01 2016 07 08\n",
      "\n",
      "Error msg: IndexError('list index out of range',)\n"
     ]
    },
    {
     "name": "stderr",
     "output_type": "stream",
     "text": [
      "2018-09-21 11:36:49,406:WARNING:\n",
      "Failed to read header row 6.\n",
      "2008 01 01 2016 07 08\n",
      "\n",
      "Error msg: IndexError('list index out of range',)\n"
     ]
    },
    {
     "name": "stderr",
     "output_type": "stream",
     "text": [
      "2018-09-21 11:36:49,412:WARNING:\n",
      "Failed to read header row 6.\n",
      "2008 01 01 2016 07 08\n",
      "\n",
      "Error msg: IndexError('list index out of range',)\n"
     ]
    },
    {
     "name": "stderr",
     "output_type": "stream",
     "text": [
      "2018-09-21 11:36:49,418:WARNING:\n",
      "Failed to read header row 6.\n",
      "2008 01 01 2016 07 08\n",
      "\n",
      "Error msg: IndexError('list index out of range',)\n"
     ]
    },
    {
     "name": "stderr",
     "output_type": "stream",
     "text": [
      "2018-09-21 11:36:49,425:WARNING:\n",
      "Failed to read header row 6.\n",
      "2008 01 01 2016 07 08\n",
      "\n",
      "Error msg: IndexError('list index out of range',)\n"
     ]
    },
    {
     "name": "stderr",
     "output_type": "stream",
     "text": [
      "2018-09-21 11:36:49,431:WARNING:\n",
      "Failed to read header row 6.\n",
      "2008 01 01 2016 07 08\n",
      "\n",
      "Error msg: IndexError('list index out of range',)\n"
     ]
    },
    {
     "name": "stderr",
     "output_type": "stream",
     "text": [
      "2018-09-21 11:36:49,437:WARNING:\n",
      "Failed to read header row 6.\n",
      "2008 01 01 2016 07 08\n",
      "\n",
      "Error msg: IndexError('list index out of range',)\n"
     ]
    },
    {
     "name": "stderr",
     "output_type": "stream",
     "text": [
      "2018-09-21 11:36:49,445:WARNING:\n",
      "Failed to read header row 6.\n",
      "2008 01 01 2016 07 08\n",
      "\n",
      "Error msg: IndexError('list index out of range',)\n"
     ]
    },
    {
     "name": "stderr",
     "output_type": "stream",
     "text": [
      "2018-09-21 11:36:49,451:WARNING:\n",
      "Failed to read header row 6.\n",
      "2008 01 01 2016 07 08\n",
      "\n",
      "Error msg: IndexError('list index out of range',)\n"
     ]
    },
    {
     "name": "stderr",
     "output_type": "stream",
     "text": [
      "2018-09-21 11:36:49,458:WARNING:\n",
      "Failed to read header row 6.\n",
      "2008 01 01 2016 07 08\n",
      "\n",
      "Error msg: IndexError('list index out of range',)\n"
     ]
    },
    {
     "name": "stderr",
     "output_type": "stream",
     "text": [
      "2018-09-21 11:36:49,464:WARNING:\n",
      "Failed to read header row 6.\n",
      "2008 01 01 2016 07 08\n",
      "\n",
      "Error msg: IndexError('list index out of range',)\n"
     ]
    },
    {
     "name": "stderr",
     "output_type": "stream",
     "text": [
      "2018-09-21 11:36:49,470:WARNING:\n",
      "Failed to read header row 6.\n",
      "2008 01 01 2016 07 08\n",
      "\n",
      "Error msg: IndexError('list index out of range',)\n"
     ]
    },
    {
     "name": "stderr",
     "output_type": "stream",
     "text": [
      "2018-09-21 11:36:49,477:WARNING:\n",
      "Failed to read header row 6.\n",
      "2008 01 01 2016 07 08\n",
      "\n",
      "Error msg: IndexError('list index out of range',)\n"
     ]
    },
    {
     "name": "stderr",
     "output_type": "stream",
     "text": [
      "2018-09-21 11:36:49,484:WARNING:\n",
      "Failed to read header row 6.\n",
      "2008 01 01 2016 07 08\n",
      "\n",
      "Error msg: IndexError('list index out of range',)\n"
     ]
    },
    {
     "name": "stderr",
     "output_type": "stream",
     "text": [
      "2018-09-21 11:36:49,490:WARNING:\n",
      "Failed to read header row 6.\n",
      "2008 01 01 2016 07 08\n",
      "\n",
      "Error msg: IndexError('list index out of range',)\n"
     ]
    },
    {
     "name": "stderr",
     "output_type": "stream",
     "text": [
      "2018-09-21 11:36:49,497:WARNING:\n",
      "Failed to read header row 6.\n",
      "2008 01 01 2016 07 08\n",
      "\n",
      "Error msg: IndexError('list index out of range',)\n"
     ]
    },
    {
     "name": "stderr",
     "output_type": "stream",
     "text": [
      "2018-09-21 11:36:49,503:WARNING:\n",
      "Failed to read header row 6.\n",
      "2008 01 01 2016 07 08\n",
      "\n",
      "Error msg: IndexError('list index out of range',)\n"
     ]
    },
    {
     "name": "stderr",
     "output_type": "stream",
     "text": [
      "2018-09-21 11:36:49,510:WARNING:\n",
      "Failed to read header row 6.\n",
      "2008 01 01 2016 07 08\n",
      "\n",
      "Error msg: IndexError('list index out of range',)\n"
     ]
    },
    {
     "name": "stderr",
     "output_type": "stream",
     "text": [
      "2018-09-21 11:36:49,516:WARNING:\n",
      "Failed to read header row 6.\n",
      "2008 01 01 2016 07 08\n",
      "\n",
      "Error msg: IndexError('list index out of range',)\n"
     ]
    },
    {
     "name": "stderr",
     "output_type": "stream",
     "text": [
      "2018-09-21 11:36:49,524:WARNING:\n",
      "Failed to read header row 6.\n",
      "2008 01 01 2016 07 08\n",
      "\n",
      "Error msg: IndexError('list index out of range',)\n"
     ]
    },
    {
     "name": "stderr",
     "output_type": "stream",
     "text": [
      "2018-09-21 11:36:49,531:WARNING:\n",
      "Failed to read header row 6.\n",
      "2008 01 01 2016 07 08\n",
      "\n",
      "Error msg: IndexError('list index out of range',)\n"
     ]
    },
    {
     "name": "stderr",
     "output_type": "stream",
     "text": [
      "2018-09-21 11:36:49,538:WARNING:\n",
      "Failed to read header row 6.\n",
      "2008 01 01 2016 07 08\n",
      "\n",
      "Error msg: IndexError('list index out of range',)\n"
     ]
    },
    {
     "name": "stderr",
     "output_type": "stream",
     "text": [
      "2018-09-21 11:36:49,544:WARNING:\n",
      "Failed to read header row 6.\n",
      "2008 01 01 2016 07 08\n",
      "\n",
      "Error msg: IndexError('list index out of range',)\n"
     ]
    },
    {
     "name": "stderr",
     "output_type": "stream",
     "text": [
      "2018-09-21 11:36:49,551:WARNING:\n",
      "Failed to read header row 6.\n",
      "2008 01 01 2016 07 08\n",
      "\n",
      "Error msg: IndexError('list index out of range',)\n"
     ]
    },
    {
     "name": "stderr",
     "output_type": "stream",
     "text": [
      "2018-09-21 11:36:49,557:WARNING:\n",
      "Failed to read header row 6.\n",
      "2008 01 01 2016 07 08\n",
      "\n",
      "Error msg: IndexError('list index out of range',)\n"
     ]
    },
    {
     "name": "stderr",
     "output_type": "stream",
     "text": [
      "2018-09-21 11:36:49,564:WARNING:\n",
      "Failed to read header row 6.\n",
      "2008 01 01 2016 07 08\n",
      "\n",
      "Error msg: IndexError('list index out of range',)\n"
     ]
    },
    {
     "name": "stderr",
     "output_type": "stream",
     "text": [
      "2018-09-21 11:36:49,570:WARNING:\n",
      "Failed to read header row 6.\n",
      "2008 01 01 2016 07 08\n",
      "\n",
      "Error msg: IndexError('list index out of range',)\n"
     ]
    },
    {
     "name": "stderr",
     "output_type": "stream",
     "text": [
      "2018-09-21 11:36:49,577:WARNING:\n",
      "Failed to read header row 6.\n",
      "2008 01 01 2016 07 08\n",
      "\n",
      "Error msg: IndexError('list index out of range',)\n"
     ]
    },
    {
     "name": "stderr",
     "output_type": "stream",
     "text": [
      "2018-09-21 11:36:49,583:WARNING:\n",
      "Failed to read header row 6.\n",
      "2008 01 01 2016 07 08\n",
      "\n",
      "Error msg: IndexError('list index out of range',)\n"
     ]
    },
    {
     "name": "stderr",
     "output_type": "stream",
     "text": [
      "2018-09-21 11:36:49,589:WARNING:\n",
      "Failed to read header row 6.\n",
      "2008 01 01 2016 07 08\n",
      "\n",
      "Error msg: IndexError('list index out of range',)\n"
     ]
    },
    {
     "name": "stderr",
     "output_type": "stream",
     "text": [
      "2018-09-21 11:36:49,596:WARNING:\n",
      "Failed to read header row 6.\n",
      "2008 01 01 2016 07 08\n",
      "\n",
      "Error msg: IndexError('list index out of range',)\n"
     ]
    },
    {
     "name": "stderr",
     "output_type": "stream",
     "text": [
      "2018-09-21 11:36:49,603:WARNING:\n",
      "Failed to read header row 6.\n",
      "2008 01 01 2016 07 08\n",
      "\n",
      "Error msg: IndexError('list index out of range',)\n"
     ]
    },
    {
     "name": "stderr",
     "output_type": "stream",
     "text": [
      "2018-09-21 11:36:49,609:WARNING:\n",
      "Failed to read header row 6.\n",
      "2008 01 01 2016 07 08\n",
      "\n",
      "Error msg: IndexError('list index out of range',)\n"
     ]
    },
    {
     "name": "stderr",
     "output_type": "stream",
     "text": [
      "2018-09-21 11:36:49,616:WARNING:\n",
      "Failed to read header row 6.\n",
      "2008 01 01 2016 07 08\n",
      "\n",
      "Error msg: IndexError('list index out of range',)\n"
     ]
    },
    {
     "name": "stderr",
     "output_type": "stream",
     "text": [
      "2018-09-21 11:36:49,622:WARNING:\n",
      "Failed to read header row 6.\n",
      "2008 01 01 2016 07 08\n",
      "\n",
      "Error msg: IndexError('list index out of range',)\n"
     ]
    },
    {
     "name": "stderr",
     "output_type": "stream",
     "text": [
      "2018-09-21 11:36:49,630:WARNING:\n",
      "Failed to read header row 6.\n",
      "2008 01 01 2016 07 08\n",
      "\n",
      "Error msg: IndexError('list index out of range',)\n"
     ]
    },
    {
     "name": "stderr",
     "output_type": "stream",
     "text": [
      "2018-09-21 11:36:49,637:WARNING:\n",
      "Failed to read header row 6.\n",
      "2008 01 01 2016 07 08\n",
      "\n",
      "Error msg: IndexError('list index out of range',)\n"
     ]
    },
    {
     "name": "stderr",
     "output_type": "stream",
     "text": [
      "2018-09-21 11:36:49,643:WARNING:\n",
      "Failed to read header row 6.\n",
      "2008 01 01 2016 07 08\n",
      "\n",
      "Error msg: IndexError('list index out of range',)\n"
     ]
    },
    {
     "name": "stderr",
     "output_type": "stream",
     "text": [
      "2018-09-21 11:36:49,649:WARNING:\n",
      "Failed to read header row 6.\n",
      "2008 01 01 2016 07 08\n",
      "\n",
      "Error msg: IndexError('list index out of range',)\n"
     ]
    },
    {
     "name": "stderr",
     "output_type": "stream",
     "text": [
      "2018-09-21 11:36:49,654:WARNING:\n",
      "Failed to read header row 6.\n",
      "2008 01 01 2016 07 08\n",
      "\n",
      "Error msg: IndexError('list index out of range',)\n"
     ]
    },
    {
     "name": "stderr",
     "output_type": "stream",
     "text": [
      "2018-09-21 11:36:49,660:WARNING:\n",
      "Failed to read header row 6.\n",
      "2008 01 01 2016 07 08\n",
      "\n",
      "Error msg: IndexError('list index out of range',)\n"
     ]
    },
    {
     "name": "stderr",
     "output_type": "stream",
     "text": [
      "2018-09-21 11:36:49,666:WARNING:\n",
      "Failed to read header row 6.\n",
      "2008 01 01 2016 07 08\n",
      "\n",
      "Error msg: IndexError('list index out of range',)\n"
     ]
    },
    {
     "name": "stderr",
     "output_type": "stream",
     "text": [
      "2018-09-21 11:36:49,672:WARNING:\n",
      "Failed to read header row 6.\n",
      "2008 01 01 2016 07 08\n",
      "\n",
      "Error msg: IndexError('list index out of range',)\n"
     ]
    },
    {
     "name": "stderr",
     "output_type": "stream",
     "text": [
      "2018-09-21 11:36:49,678:WARNING:\n",
      "Failed to read header row 6.\n",
      "2008 01 01 2016 07 08\n",
      "\n",
      "Error msg: IndexError('list index out of range',)\n"
     ]
    },
    {
     "name": "stderr",
     "output_type": "stream",
     "text": [
      "2018-09-21 11:36:49,684:WARNING:\n",
      "Failed to read header row 6.\n",
      "2008 01 01 2016 07 08\n",
      "\n",
      "Error msg: IndexError('list index out of range',)\n"
     ]
    },
    {
     "name": "stderr",
     "output_type": "stream",
     "text": [
      "2018-09-21 11:36:49,689:WARNING:\n",
      "Failed to read header row 6.\n",
      "2008 01 01 2016 07 08\n",
      "\n",
      "Error msg: IndexError('list index out of range',)\n"
     ]
    },
    {
     "name": "stderr",
     "output_type": "stream",
     "text": [
      "2018-09-21 11:36:49,694:WARNING:\n",
      "Failed to read header row 6.\n",
      "2008 01 01 2016 07 08\n",
      "\n",
      "Error msg: IndexError('list index out of range',)\n"
     ]
    },
    {
     "name": "stderr",
     "output_type": "stream",
     "text": [
      "2018-09-21 11:36:49,700:WARNING:\n",
      "Failed to read header row 6.\n",
      "2008 01 01 2016 07 08\n",
      "\n",
      "Error msg: IndexError('list index out of range',)\n"
     ]
    },
    {
     "name": "stderr",
     "output_type": "stream",
     "text": [
      "2018-09-21 11:36:49,706:WARNING:\n",
      "Failed to read header row 6.\n",
      "2008 01 01 2016 07 08\n",
      "\n",
      "Error msg: IndexError('list index out of range',)\n"
     ]
    },
    {
     "name": "stderr",
     "output_type": "stream",
     "text": [
      "2018-09-21 11:36:49,713:WARNING:\n",
      "Failed to read header row 6.\n",
      "2008 01 01 2016 07 08\n",
      "\n",
      "Error msg: IndexError('list index out of range',)\n"
     ]
    },
    {
     "name": "stderr",
     "output_type": "stream",
     "text": [
      "2018-09-21 11:36:49,721:WARNING:\n",
      "Failed to read header row 6.\n",
      "2008 01 01 2016 07 08\n",
      "\n",
      "Error msg: IndexError('list index out of range',)\n"
     ]
    },
    {
     "name": "stderr",
     "output_type": "stream",
     "text": [
      "2018-09-21 11:36:49,727:WARNING:\n",
      "Failed to read header row 6.\n",
      "2008 01 01 2016 07 08\n",
      "\n",
      "Error msg: IndexError('list index out of range',)\n"
     ]
    },
    {
     "name": "stderr",
     "output_type": "stream",
     "text": [
      "2018-09-21 11:36:49,735:WARNING:\n",
      "Failed to read header row 6.\n",
      "2008 01 01 2016 07 08\n",
      "\n",
      "Error msg: IndexError('list index out of range',)\n"
     ]
    },
    {
     "name": "stderr",
     "output_type": "stream",
     "text": [
      "2018-09-21 11:36:49,741:WARNING:\n",
      "Failed to read header row 6.\n",
      "2008 01 01 2016 07 08\n",
      "\n",
      "Error msg: IndexError('list index out of range',)\n"
     ]
    },
    {
     "name": "stderr",
     "output_type": "stream",
     "text": [
      "2018-09-21 11:36:49,749:WARNING:\n",
      "Failed to read header row 6.\n",
      "2008 01 01 2016 07 08\n",
      "\n",
      "Error msg: IndexError('list index out of range',)\n"
     ]
    },
    {
     "name": "stderr",
     "output_type": "stream",
     "text": [
      "2018-09-21 11:36:49,756:WARNING:\n",
      "Failed to read header row 6.\n",
      "2008 01 01 2016 07 08\n",
      "\n",
      "Error msg: IndexError('list index out of range',)\n"
     ]
    },
    {
     "name": "stderr",
     "output_type": "stream",
     "text": [
      "2018-09-21 11:36:49,764:WARNING:\n",
      "Failed to read header row 6.\n",
      "2008 01 01 2016 07 08\n",
      "\n",
      "Error msg: IndexError('list index out of range',)\n"
     ]
    },
    {
     "name": "stderr",
     "output_type": "stream",
     "text": [
      "2018-09-21 11:36:49,771:WARNING:\n",
      "Failed to read header row 6.\n",
      "2008 01 01 2016 07 08\n",
      "\n",
      "Error msg: IndexError('list index out of range',)\n"
     ]
    },
    {
     "name": "stderr",
     "output_type": "stream",
     "text": [
      "2018-09-21 11:36:49,779:WARNING:\n",
      "Failed to read header row 6.\n",
      "2008 01 01 2016 07 08\n",
      "\n",
      "Error msg: IndexError('list index out of range',)\n"
     ]
    },
    {
     "name": "stderr",
     "output_type": "stream",
     "text": [
      "2018-09-21 11:36:49,786:WARNING:\n",
      "Failed to read header row 6.\n",
      "2008 01 01 2016 07 08\n",
      "\n",
      "Error msg: IndexError('list index out of range',)\n"
     ]
    },
    {
     "name": "stderr",
     "output_type": "stream",
     "text": [
      "2018-09-21 11:36:49,794:WARNING:\n",
      "Failed to read header row 6.\n",
      "2008 01 01 2016 07 08\n",
      "\n",
      "Error msg: IndexError('list index out of range',)\n"
     ]
    },
    {
     "name": "stderr",
     "output_type": "stream",
     "text": [
      "2018-09-21 11:36:49,801:WARNING:\n",
      "Failed to read header row 6.\n",
      "2008 01 01 2016 07 08\n",
      "\n",
      "Error msg: IndexError('list index out of range',)\n"
     ]
    },
    {
     "name": "stderr",
     "output_type": "stream",
     "text": [
      "2018-09-21 11:36:49,810:WARNING:\n",
      "Failed to read header row 6.\n",
      "2008 01 01 2016 07 08\n",
      "\n",
      "Error msg: IndexError('list index out of range',)\n"
     ]
    },
    {
     "name": "stderr",
     "output_type": "stream",
     "text": [
      "2018-09-21 11:36:49,818:WARNING:\n",
      "Failed to read header row 6.\n",
      "2008 01 01 2016 07 08\n",
      "\n",
      "Error msg: IndexError('list index out of range',)\n"
     ]
    },
    {
     "name": "stderr",
     "output_type": "stream",
     "text": [
      "2018-09-21 11:36:49,826:WARNING:\n",
      "Failed to read header row 6.\n",
      "2008 01 01 2016 07 08\n",
      "\n",
      "Error msg: IndexError('list index out of range',)\n"
     ]
    },
    {
     "name": "stderr",
     "output_type": "stream",
     "text": [
      "2018-09-21 11:36:49,833:WARNING:\n",
      "Failed to read header row 6.\n",
      "2008 01 01 2016 07 08\n",
      "\n",
      "Error msg: IndexError('list index out of range',)\n"
     ]
    },
    {
     "name": "stderr",
     "output_type": "stream",
     "text": [
      "2018-09-21 11:36:49,840:WARNING:\n",
      "Failed to read header row 6.\n",
      "2008 01 01 2016 07 08\n",
      "\n",
      "Error msg: IndexError('list index out of range',)\n"
     ]
    },
    {
     "name": "stderr",
     "output_type": "stream",
     "text": [
      "2018-09-21 11:36:49,847:WARNING:\n",
      "Failed to read header row 6.\n",
      "2008 01 01 2016 07 08\n",
      "\n",
      "Error msg: IndexError('list index out of range',)\n"
     ]
    },
    {
     "name": "stderr",
     "output_type": "stream",
     "text": [
      "2018-09-21 11:36:49,854:WARNING:\n",
      "Failed to read header row 6.\n",
      "2008 01 01 2016 07 08\n",
      "\n",
      "Error msg: IndexError('list index out of range',)\n"
     ]
    },
    {
     "name": "stderr",
     "output_type": "stream",
     "text": [
      "2018-09-21 11:36:49,861:WARNING:\n",
      "Failed to read header row 6.\n",
      "2008 01 01 2016 07 08\n",
      "\n",
      "Error msg: IndexError('list index out of range',)\n"
     ]
    },
    {
     "name": "stderr",
     "output_type": "stream",
     "text": [
      "2018-09-21 11:36:49,869:WARNING:\n",
      "Failed to read header row 6.\n",
      "2008 01 01 2016 07 08\n",
      "\n",
      "Error msg: IndexError('list index out of range',)\n"
     ]
    },
    {
     "name": "stderr",
     "output_type": "stream",
     "text": [
      "2018-09-21 11:36:49,875:WARNING:\n",
      "Failed to read header row 6.\n",
      "2008 01 01 2016 07 08\n",
      "\n",
      "Error msg: IndexError('list index out of range',)\n"
     ]
    },
    {
     "name": "stderr",
     "output_type": "stream",
     "text": [
      "2018-09-21 11:36:49,884:WARNING:\n",
      "Failed to read header row 6.\n",
      "2008 01 01 2016 07 08\n",
      "\n",
      "Error msg: IndexError('list index out of range',)\n"
     ]
    },
    {
     "name": "stderr",
     "output_type": "stream",
     "text": [
      "2018-09-21 11:36:49,893:WARNING:\n",
      "Failed to read header row 6.\n",
      "2008 01 01 2016 07 08\n",
      "\n",
      "Error msg: IndexError('list index out of range',)\n"
     ]
    },
    {
     "name": "stderr",
     "output_type": "stream",
     "text": [
      "2018-09-21 11:36:49,900:WARNING:\n",
      "Failed to read header row 6.\n",
      "2008 01 01 2016 07 08\n",
      "\n",
      "Error msg: IndexError('list index out of range',)\n"
     ]
    },
    {
     "name": "stderr",
     "output_type": "stream",
     "text": [
      "2018-09-21 11:36:49,907:WARNING:\n",
      "Failed to read header row 6.\n",
      "2008 01 01 2016 07 08\n",
      "\n",
      "Error msg: IndexError('list index out of range',)\n"
     ]
    },
    {
     "name": "stderr",
     "output_type": "stream",
     "text": [
      "2018-09-21 11:36:49,914:WARNING:\n",
      "Failed to read header row 6.\n",
      "2008 01 01 2016 07 08\n",
      "\n",
      "Error msg: IndexError('list index out of range',)\n"
     ]
    },
    {
     "name": "stderr",
     "output_type": "stream",
     "text": [
      "2018-09-21 11:36:49,920:WARNING:\n",
      "Failed to read header row 6.\n",
      "2008 01 01 2016 07 08\n",
      "\n",
      "Error msg: IndexError('list index out of range',)\n"
     ]
    },
    {
     "name": "stderr",
     "output_type": "stream",
     "text": [
      "2018-09-21 11:36:49,926:WARNING:\n",
      "Failed to read header row 6.\n",
      "2008 01 01 2016 07 08\n",
      "\n",
      "Error msg: IndexError('list index out of range',)\n"
     ]
    },
    {
     "name": "stderr",
     "output_type": "stream",
     "text": [
      "2018-09-21 11:36:49,933:WARNING:\n",
      "Failed to read header row 6.\n",
      "2008 01 01 2016 07 08\n",
      "\n",
      "Error msg: IndexError('list index out of range',)\n"
     ]
    },
    {
     "name": "stderr",
     "output_type": "stream",
     "text": [
      "2018-09-21 11:36:49,939:WARNING:\n",
      "Failed to read header row 6.\n",
      "2008 01 01 2016 07 08\n",
      "\n",
      "Error msg: IndexError('list index out of range',)\n"
     ]
    },
    {
     "name": "stderr",
     "output_type": "stream",
     "text": [
      "2018-09-21 11:36:49,945:WARNING:\n",
      "Failed to read header row 6.\n",
      "2008 01 01 2016 07 08\n",
      "\n",
      "Error msg: IndexError('list index out of range',)\n"
     ]
    },
    {
     "name": "stderr",
     "output_type": "stream",
     "text": [
      "2018-09-21 11:36:49,952:WARNING:\n",
      "Failed to read header row 6.\n",
      "2008 01 01 2016 07 08\n",
      "\n",
      "Error msg: IndexError('list index out of range',)\n"
     ]
    },
    {
     "name": "stderr",
     "output_type": "stream",
     "text": [
      "2018-09-21 11:36:49,958:WARNING:\n",
      "Failed to read header row 6.\n",
      "2008 01 01 2016 07 08\n",
      "\n",
      "Error msg: IndexError('list index out of range',)\n"
     ]
    },
    {
     "name": "stderr",
     "output_type": "stream",
     "text": [
      "2018-09-21 11:36:49,965:WARNING:\n",
      "Failed to read header row 6.\n",
      "2008 01 01 2016 07 08\n",
      "\n",
      "Error msg: IndexError('list index out of range',)\n"
     ]
    },
    {
     "name": "stderr",
     "output_type": "stream",
     "text": [
      "2018-09-21 11:36:49,976:WARNING:\n",
      "Failed to read header row 6.\n",
      "2008 01 01 2016 07 08\n",
      "\n",
      "Error msg: IndexError('list index out of range',)\n"
     ]
    },
    {
     "name": "stderr",
     "output_type": "stream",
     "text": [
      "2018-09-21 11:36:49,989:WARNING:\n",
      "Failed to read header row 6.\n",
      "2008 01 01 2016 07 08\n",
      "\n",
      "Error msg: IndexError('list index out of range',)\n"
     ]
    },
    {
     "name": "stderr",
     "output_type": "stream",
     "text": [
      "2018-09-21 11:36:49,996:WARNING:\n",
      "Failed to read header row 6.\n",
      "2008 01 01 2016 07 08\n",
      "\n",
      "Error msg: IndexError('list index out of range',)\n"
     ]
    },
    {
     "name": "stderr",
     "output_type": "stream",
     "text": [
      "2018-09-21 11:36:50,002:WARNING:\n",
      "Failed to read header row 6.\n",
      "2008 01 01 2016 07 08\n",
      "\n",
      "Error msg: IndexError('list index out of range',)\n"
     ]
    },
    {
     "name": "stderr",
     "output_type": "stream",
     "text": [
      "2018-09-21 11:36:50,010:WARNING:\n",
      "Failed to read header row 6.\n",
      "2008 01 01 2016 07 08\n",
      "\n",
      "Error msg: IndexError('list index out of range',)\n"
     ]
    },
    {
     "name": "stderr",
     "output_type": "stream",
     "text": [
      "2018-09-21 11:36:50,017:WARNING:\n",
      "Failed to read header row 6.\n",
      "2008 01 01 2016 07 08\n",
      "\n",
      "Error msg: IndexError('list index out of range',)\n"
     ]
    },
    {
     "name": "stderr",
     "output_type": "stream",
     "text": [
      "2018-09-21 11:36:50,024:WARNING:\n",
      "Failed to read header row 6.\n",
      "2008 01 01 2016 07 08\n",
      "\n",
      "Error msg: IndexError('list index out of range',)\n"
     ]
    },
    {
     "name": "stderr",
     "output_type": "stream",
     "text": [
      "2018-09-21 11:36:50,034:WARNING:\n",
      "Failed to read header row 6.\n",
      "2008 01 01 2016 07 08\n",
      "\n",
      "Error msg: IndexError('list index out of range',)\n"
     ]
    },
    {
     "name": "stderr",
     "output_type": "stream",
     "text": [
      "2018-09-21 11:36:50,042:WARNING:\n",
      "Failed to read header row 6.\n",
      "2008 01 01 2016 07 08\n",
      "\n",
      "Error msg: IndexError('list index out of range',)\n"
     ]
    },
    {
     "name": "stderr",
     "output_type": "stream",
     "text": [
      "2018-09-21 11:36:50,050:WARNING:\n",
      "Failed to read header row 6.\n",
      "2008 01 01 2016 07 08\n",
      "\n",
      "Error msg: IndexError('list index out of range',)\n"
     ]
    },
    {
     "name": "stderr",
     "output_type": "stream",
     "text": [
      "2018-09-21 11:36:50,057:WARNING:\n",
      "Failed to read header row 6.\n",
      "2008 01 01 2016 07 08\n",
      "\n",
      "Error msg: IndexError('list index out of range',)\n"
     ]
    },
    {
     "name": "stderr",
     "output_type": "stream",
     "text": [
      "2018-09-21 11:36:50,064:WARNING:\n",
      "Failed to read header row 6.\n",
      "2008 01 01 2016 07 08\n",
      "\n",
      "Error msg: IndexError('list index out of range',)\n"
     ]
    },
    {
     "name": "stderr",
     "output_type": "stream",
     "text": [
      "2018-09-21 11:36:50,073:WARNING:\n",
      "Failed to read header row 6.\n",
      "2008 01 01 2016 07 08\n",
      "\n",
      "Error msg: IndexError('list index out of range',)\n"
     ]
    },
    {
     "name": "stderr",
     "output_type": "stream",
     "text": [
      "2018-09-21 11:36:50,080:WARNING:\n",
      "Failed to read header row 6.\n",
      "2008 01 01 2016 07 08\n",
      "\n",
      "Error msg: IndexError('list index out of range',)\n"
     ]
    },
    {
     "name": "stderr",
     "output_type": "stream",
     "text": [
      "2018-09-21 11:36:50,087:WARNING:\n",
      "Failed to read header row 6.\n",
      "2008 01 01 2016 07 08\n",
      "\n",
      "Error msg: IndexError('list index out of range',)\n"
     ]
    },
    {
     "name": "stderr",
     "output_type": "stream",
     "text": [
      "2018-09-21 11:36:50,095:WARNING:\n",
      "Failed to read header row 6.\n",
      "2008 01 01 2016 07 08\n",
      "\n",
      "Error msg: IndexError('list index out of range',)\n"
     ]
    },
    {
     "name": "stderr",
     "output_type": "stream",
     "text": [
      "2018-09-21 11:36:50,102:WARNING:\n",
      "Failed to read header row 6.\n",
      "2008 01 01 2016 07 08\n",
      "\n",
      "Error msg: IndexError('list index out of range',)\n"
     ]
    },
    {
     "name": "stderr",
     "output_type": "stream",
     "text": [
      "2018-09-21 11:36:50,108:WARNING:\n",
      "Failed to read header row 6.\n",
      "2008 01 01 2016 07 08\n",
      "\n",
      "Error msg: IndexError('list index out of range',)\n"
     ]
    },
    {
     "name": "stderr",
     "output_type": "stream",
     "text": [
      "2018-09-21 11:36:50,113:WARNING:\n",
      "Failed to read header row 6.\n",
      "2008 01 01 2016 07 08\n",
      "\n",
      "Error msg: IndexError('list index out of range',)\n"
     ]
    },
    {
     "name": "stderr",
     "output_type": "stream",
     "text": [
      "2018-09-21 11:36:50,119:WARNING:\n",
      "Failed to read header row 6.\n",
      "2008 01 01 2016 07 08\n",
      "\n",
      "Error msg: IndexError('list index out of range',)\n"
     ]
    },
    {
     "name": "stderr",
     "output_type": "stream",
     "text": [
      "2018-09-21 11:36:50,125:WARNING:\n",
      "Failed to read header row 6.\n",
      "2008 01 01 2016 07 08\n",
      "\n",
      "Error msg: IndexError('list index out of range',)\n"
     ]
    },
    {
     "name": "stderr",
     "output_type": "stream",
     "text": [
      "2018-09-21 11:36:50,133:WARNING:\n",
      "Failed to read header row 6.\n",
      "2008 01 01 2016 07 08\n",
      "\n",
      "Error msg: IndexError('list index out of range',)\n"
     ]
    },
    {
     "name": "stderr",
     "output_type": "stream",
     "text": [
      "2018-09-21 11:36:50,140:WARNING:\n",
      "Failed to read header row 6.\n",
      "2008 01 01 2016 07 08\n",
      "\n",
      "Error msg: IndexError('list index out of range',)\n"
     ]
    },
    {
     "name": "stderr",
     "output_type": "stream",
     "text": [
      "2018-09-21 11:36:50,146:WARNING:\n",
      "Failed to read header row 6.\n",
      "2008 01 01 2016 07 08\n",
      "\n",
      "Error msg: IndexError('list index out of range',)"
     ]
    },
    {
     "name": "stderr",
     "output_type": "stream",
     "text": [
      "\n"
     ]
    },
    {
     "name": "stderr",
     "output_type": "stream",
     "text": [
      "2018-09-21 11:36:50,152:WARNING:\n",
      "Failed to read header row 6.\n",
      "2008 01 01 2016 07 08\n",
      "\n",
      "Error msg: IndexError('list index out of range',)\n"
     ]
    },
    {
     "name": "stderr",
     "output_type": "stream",
     "text": [
      "2018-09-21 11:36:50,156:WARNING:\n",
      "Failed to read header row 6.\n",
      "2008 01 01 2016 07 08\n",
      "\n",
      "Error msg: IndexError('list index out of range',)\n"
     ]
    },
    {
     "name": "stderr",
     "output_type": "stream",
     "text": [
      "2018-09-21 11:36:50,162:WARNING:\n",
      "Failed to read header row 6.\n",
      "2008 01 01 2016 07 08\n",
      "\n",
      "Error msg: IndexError('list index out of range',)\n"
     ]
    },
    {
     "name": "stderr",
     "output_type": "stream",
     "text": [
      "2018-09-21 11:36:50,169:WARNING:\n",
      "Failed to read header row 6.\n",
      "2008 01 01 2016 07 08\n",
      "\n",
      "Error msg: IndexError('list index out of range',)\n"
     ]
    },
    {
     "name": "stderr",
     "output_type": "stream",
     "text": [
      "2018-09-21 11:36:50,175:WARNING:\n",
      "Failed to read header row 6.\n",
      "2008 01 01 2016 07 08\n",
      "\n",
      "Error msg: IndexError('list index out of range',)\n"
     ]
    },
    {
     "name": "stderr",
     "output_type": "stream",
     "text": [
      "2018-09-21 11:36:50,180:WARNING:\n",
      "Failed to read header row 6.\n",
      "2008 01 01 2016 07 08\n",
      "\n",
      "Error msg: IndexError('list index out of range',)\n"
     ]
    },
    {
     "name": "stderr",
     "output_type": "stream",
     "text": [
      "2018-09-21 11:36:50,185:WARNING:\n",
      "Failed to read header row 6.\n",
      "2008 01 01 2016 07 08\n",
      "\n",
      "Error msg: IndexError('list index out of range',)\n"
     ]
    },
    {
     "name": "stderr",
     "output_type": "stream",
     "text": [
      "2018-09-21 11:36:50,190:WARNING:\n",
      "Failed to read header row 6.\n",
      "2008 01 01 2016 07 08\n",
      "\n",
      "Error msg: IndexError('list index out of range',)\n"
     ]
    },
    {
     "name": "stderr",
     "output_type": "stream",
     "text": [
      "2018-09-21 11:36:50,195:WARNING:\n",
      "Failed to read header row 6.\n",
      "2008 01 01 2016 07 08\n",
      "\n",
      "Error msg: IndexError('list index out of range',)\n"
     ]
    },
    {
     "name": "stderr",
     "output_type": "stream",
     "text": [
      "2018-09-21 11:36:50,205:WARNING:\n",
      "Failed to read header row 6.\n",
      "2008 01 01 2016 07 08\n",
      "\n",
      "Error msg: IndexError('list index out of range',)\n"
     ]
    },
    {
     "name": "stderr",
     "output_type": "stream",
     "text": [
      "2018-09-21 11:36:50,213:WARNING:\n",
      "Failed to read header row 6.\n",
      "2008 01 01 2016 07 08\n",
      "\n",
      "Error msg: IndexError('list index out of range',)\n"
     ]
    },
    {
     "name": "stderr",
     "output_type": "stream",
     "text": [
      "2018-09-21 11:36:50,219:WARNING:\n",
      "Failed to read header row 6.\n",
      "2008 01 01 2016 07 08\n",
      "\n",
      "Error msg: IndexError('list index out of range',)\n"
     ]
    },
    {
     "name": "stderr",
     "output_type": "stream",
     "text": [
      "2018-09-21 11:36:50,224:WARNING:\n",
      "Failed to read header row 6.\n",
      "2008 01 01 2016 07 08\n",
      "\n",
      "Error msg: IndexError('list index out of range',)\n"
     ]
    },
    {
     "name": "stderr",
     "output_type": "stream",
     "text": [
      "2018-09-21 11:36:50,228:WARNING:\n",
      "Failed to read header row 6.\n",
      "2008 01 01 2016 07 08\n",
      "\n",
      "Error msg: IndexError('list index out of range',)\n"
     ]
    },
    {
     "name": "stderr",
     "output_type": "stream",
     "text": [
      "2018-09-21 11:36:50,234:WARNING:\n",
      "Failed to read header row 6.\n",
      "2008 01 01 2016 07 08\n",
      "\n",
      "Error msg: IndexError('list index out of range',)\n"
     ]
    },
    {
     "name": "stderr",
     "output_type": "stream",
     "text": [
      "2018-09-21 11:36:50,240:WARNING:\n",
      "Failed to read header row 6.\n",
      "2008 01 01 2016 07 08\n",
      "\n",
      "Error msg: IndexError('list index out of range',)\n"
     ]
    },
    {
     "name": "stderr",
     "output_type": "stream",
     "text": [
      "2018-09-21 11:36:50,248:WARNING:\n",
      "Failed to read header row 6.\n",
      "2008 01 01 2016 07 08\n",
      "\n",
      "Error msg: IndexError('list index out of range',)\n"
     ]
    },
    {
     "name": "stderr",
     "output_type": "stream",
     "text": [
      "2018-09-21 11:36:50,253:WARNING:\n",
      "Failed to read header row 6.\n",
      "2008 01 01 2016 07 08\n",
      "\n",
      "Error msg: IndexError('list index out of range',)\n"
     ]
    },
    {
     "name": "stderr",
     "output_type": "stream",
     "text": [
      "2018-09-21 11:36:50,259:WARNING:\n",
      "Failed to read header row 6.\n",
      "2008 01 01 2016 07 08\n",
      "\n",
      "Error msg: IndexError('list index out of range',)\n"
     ]
    },
    {
     "name": "stderr",
     "output_type": "stream",
     "text": [
      "2018-09-21 11:36:50,264:WARNING:\n",
      "Failed to read header row 6.\n",
      "2008 01 01 2016 07 08\n",
      "\n",
      "Error msg: IndexError('list index out of range',)\n"
     ]
    },
    {
     "name": "stderr",
     "output_type": "stream",
     "text": [
      "2018-09-21 11:36:50,270:WARNING:\n",
      "Failed to read header row 6.\n",
      "2008 01 01 2016 07 08\n",
      "\n",
      "Error msg: IndexError('list index out of range',)\n"
     ]
    },
    {
     "name": "stderr",
     "output_type": "stream",
     "text": [
      "2018-09-21 11:36:50,276:WARNING:\n",
      "Failed to read header row 6.\n",
      "2008 01 01 2016 07 08\n",
      "\n",
      "Error msg: IndexError('list index out of range',)\n"
     ]
    },
    {
     "name": "stderr",
     "output_type": "stream",
     "text": [
      "2018-09-21 11:36:50,281:WARNING:\n",
      "Failed to read header row 6.\n",
      "2008 01 01 2016 07 08\n",
      "\n",
      "Error msg: IndexError('list index out of range',)\n"
     ]
    },
    {
     "name": "stderr",
     "output_type": "stream",
     "text": [
      "2018-09-21 11:36:50,286:WARNING:\n",
      "Failed to read header row 6.\n",
      "2008 01 01 2016 07 08\n",
      "\n",
      "Error msg: IndexError('list index out of range',)\n"
     ]
    },
    {
     "name": "stderr",
     "output_type": "stream",
     "text": [
      "2018-09-21 11:36:50,291:WARNING:\n",
      "Failed to read header row 6.\n",
      "2008 01 01 2016 07 08\n",
      "\n",
      "Error msg: IndexError('list index out of range',)\n"
     ]
    },
    {
     "name": "stderr",
     "output_type": "stream",
     "text": [
      "2018-09-21 11:36:50,299:WARNING:\n",
      "Failed to read header row 6.\n",
      "2008 01 01 2016 07 08\n",
      "\n",
      "Error msg: IndexError('list index out of range',)\n"
     ]
    },
    {
     "name": "stderr",
     "output_type": "stream",
     "text": [
      "2018-09-21 11:36:50,305:WARNING:\n",
      "Failed to read header row 6.\n",
      "2008 01 01 2016 07 08\n",
      "\n",
      "Error msg: IndexError('list index out of range',)\n"
     ]
    },
    {
     "name": "stderr",
     "output_type": "stream",
     "text": [
      "2018-09-21 11:36:50,310:WARNING:\n",
      "Failed to read header row 6.\n",
      "2008 01 01 2016 07 08\n",
      "\n",
      "Error msg: IndexError('list index out of range',)\n"
     ]
    },
    {
     "name": "stderr",
     "output_type": "stream",
     "text": [
      "2018-09-21 11:36:50,315:WARNING:\n",
      "Failed to read header row 6.\n",
      "2008 01 01 2016 07 08\n",
      "\n",
      "Error msg: IndexError('list index out of range',)\n"
     ]
    },
    {
     "name": "stderr",
     "output_type": "stream",
     "text": [
      "2018-09-21 11:36:50,320:WARNING:\n",
      "Failed to read header row 6.\n",
      "2008 01 01 2016 07 08\n",
      "\n",
      "Error msg: IndexError('list index out of range',)\n"
     ]
    },
    {
     "name": "stderr",
     "output_type": "stream",
     "text": [
      "2018-09-21 11:36:50,325:WARNING:\n",
      "Failed to read header row 6.\n",
      "2008 01 01 2016 07 08\n",
      "\n",
      "Error msg: IndexError('list index out of range',)\n"
     ]
    },
    {
     "name": "stderr",
     "output_type": "stream",
     "text": [
      "2018-09-21 11:36:50,330:WARNING:\n",
      "Failed to read header row 6.\n",
      "2008 01 01 2016 07 08\n",
      "\n",
      "Error msg: IndexError('list index out of range',)\n"
     ]
    },
    {
     "name": "stderr",
     "output_type": "stream",
     "text": [
      "2018-09-21 11:36:50,335:WARNING:\n",
      "Failed to read header row 6.\n",
      "2008 01 01 2016 07 08\n",
      "\n",
      "Error msg: IndexError('list index out of range',)\n"
     ]
    },
    {
     "name": "stderr",
     "output_type": "stream",
     "text": [
      "2018-09-21 11:36:50,343:WARNING:\n",
      "Failed to read header row 6.\n",
      "2008 01 01 2016 07 08\n",
      "\n",
      "Error msg: IndexError('list index out of range',)\n"
     ]
    },
    {
     "name": "stderr",
     "output_type": "stream",
     "text": [
      "2018-09-21 11:36:50,355:WARNING:\n",
      "Failed to read header row 6.\n",
      "2008 01 01 2016 07 08\n",
      "\n",
      "Error msg: IndexError('list index out of range',)\n"
     ]
    },
    {
     "name": "stderr",
     "output_type": "stream",
     "text": [
      "2018-09-21 11:36:50,363:WARNING:\n",
      "Failed to read header row 6.\n",
      "2008 01 01 2016 07 08\n",
      "\n",
      "Error msg: IndexError('list index out of range',)\n"
     ]
    },
    {
     "name": "stderr",
     "output_type": "stream",
     "text": [
      "2018-09-21 11:36:50,371:WARNING:\n",
      "Failed to read header row 6.\n",
      "2008 01 01 2016 07 08\n",
      "\n",
      "Error msg: IndexError('list index out of range',)\n"
     ]
    },
    {
     "name": "stderr",
     "output_type": "stream",
     "text": [
      "2018-09-21 11:36:50,381:WARNING:\n",
      "Failed to read header row 6.\n",
      "2008 01 01 2016 07 08\n",
      "\n",
      "Error msg: IndexError('list index out of range',)\n"
     ]
    },
    {
     "name": "stderr",
     "output_type": "stream",
     "text": [
      "2018-09-21 11:36:50,390:WARNING:\n",
      "Failed to read header row 6.\n",
      "2008 01 01 2016 07 08\n",
      "\n",
      "Error msg: IndexError('list index out of range',)\n"
     ]
    },
    {
     "name": "stderr",
     "output_type": "stream",
     "text": [
      "2018-09-21 11:36:50,398:WARNING:\n",
      "Failed to read header row 6.\n",
      "2008 01 01 2016 07 08\n",
      "\n",
      "Error msg: IndexError('list index out of range',)\n"
     ]
    },
    {
     "name": "stderr",
     "output_type": "stream",
     "text": [
      "2018-09-21 11:36:50,403:WARNING:\n",
      "Failed to read header row 6.\n",
      "2008 01 01 2016 07 08\n",
      "\n",
      "Error msg: IndexError('list index out of range',)\n"
     ]
    },
    {
     "name": "stderr",
     "output_type": "stream",
     "text": [
      "2018-09-21 11:36:50,408:WARNING:\n",
      "Failed to read header row 6.\n",
      "2008 01 01 2016 07 08\n",
      "\n",
      "Error msg: IndexError('list index out of range',)\n"
     ]
    },
    {
     "name": "stderr",
     "output_type": "stream",
     "text": [
      "2018-09-21 11:36:50,413:WARNING:\n",
      "Failed to read header row 6.\n",
      "2008 01 01 2016 07 08\n",
      "\n",
      "Error msg: IndexError('list index out of range',)"
     ]
    },
    {
     "name": "stderr",
     "output_type": "stream",
     "text": [
      "\n"
     ]
    },
    {
     "name": "stderr",
     "output_type": "stream",
     "text": [
      "2018-09-21 11:36:50,421:WARNING:\n",
      "Failed to read header row 6.\n",
      "2008 01 01 2016 07 08\n",
      "\n",
      "Error msg: IndexError('list index out of range',)\n"
     ]
    },
    {
     "name": "stderr",
     "output_type": "stream",
     "text": [
      "2018-09-21 11:36:50,428:WARNING:\n",
      "Failed to read header row 6.\n",
      "2008 01 01 2016 07 08\n",
      "\n",
      "Error msg: IndexError('list index out of range',)\n"
     ]
    },
    {
     "name": "stderr",
     "output_type": "stream",
     "text": [
      "2018-09-21 11:36:50,434:WARNING:\n",
      "Failed to read header row 6.\n",
      "2008 01 01 2016 07 08\n",
      "\n",
      "Error msg: IndexError('list index out of range',)\n"
     ]
    },
    {
     "name": "stderr",
     "output_type": "stream",
     "text": [
      "2018-09-21 11:36:50,441:WARNING:\n",
      "Failed to read header row 6.\n",
      "2008 01 01 2016 07 08\n",
      "\n",
      "Error msg: IndexError('list index out of range',)\n"
     ]
    },
    {
     "name": "stderr",
     "output_type": "stream",
     "text": [
      "2018-09-21 11:36:50,448:WARNING:\n",
      "Failed to read header row 6.\n",
      "2008 01 01 2016 07 08\n",
      "\n",
      "Error msg: IndexError('list index out of range',)\n"
     ]
    },
    {
     "name": "stderr",
     "output_type": "stream",
     "text": [
      "2018-09-21 11:36:50,457:WARNING:\n",
      "Failed to read header row 6.\n",
      "2008 01 01 2016 07 08\n",
      "\n",
      "Error msg: IndexError('list index out of range',)\n"
     ]
    },
    {
     "name": "stderr",
     "output_type": "stream",
     "text": [
      "2018-09-21 11:36:50,467:WARNING:\n",
      "Failed to read header row 6.\n",
      "2008 01 01 2016 07 08\n",
      "\n",
      "Error msg: IndexError('list index out of range',)\n"
     ]
    },
    {
     "name": "stderr",
     "output_type": "stream",
     "text": [
      "2018-09-21 11:36:50,477:WARNING:\n",
      "Failed to read header row 6.\n",
      "2008 01 01 2016 07 08\n",
      "\n",
      "Error msg: IndexError('list index out of range',)\n"
     ]
    },
    {
     "name": "stderr",
     "output_type": "stream",
     "text": [
      "2018-09-21 11:36:50,485:WARNING:\n",
      "Failed to read header row 6.\n",
      "2008 01 01 2016 07 08\n",
      "\n",
      "Error msg: IndexError('list index out of range',)\n"
     ]
    },
    {
     "name": "stderr",
     "output_type": "stream",
     "text": [
      "2018-09-21 11:36:50,492:WARNING:\n",
      "Failed to read header row 6.\n",
      "2008 01 01 2016 07 08\n",
      "\n",
      "Error msg: IndexError('list index out of range',)\n"
     ]
    },
    {
     "name": "stderr",
     "output_type": "stream",
     "text": [
      "2018-09-21 11:36:50,499:WARNING:\n",
      "Failed to read header row 6.\n",
      "2008 01 01 2016 07 08\n",
      "\n",
      "Error msg: IndexError('list index out of range',)\n"
     ]
    },
    {
     "name": "stderr",
     "output_type": "stream",
     "text": [
      "2018-09-21 11:36:50,506:WARNING:\n",
      "Failed to read header row 6.\n",
      "2008 01 01 2016 07 08\n",
      "\n",
      "Error msg: IndexError('list index out of range',)\n"
     ]
    },
    {
     "name": "stderr",
     "output_type": "stream",
     "text": [
      "2018-09-21 11:36:50,512:WARNING:\n",
      "Failed to read header row 6.\n",
      "2008 01 01 2016 07 08\n",
      "\n",
      "Error msg: IndexError('list index out of range',)\n"
     ]
    },
    {
     "name": "stderr",
     "output_type": "stream",
     "text": [
      "2018-09-21 11:36:50,518:WARNING:\n",
      "Failed to read header row 6.\n",
      "2008 01 01 2016 07 08\n",
      "\n",
      "Error msg: IndexError('list index out of range',)\n"
     ]
    },
    {
     "name": "stderr",
     "output_type": "stream",
     "text": [
      "2018-09-21 11:36:50,524:WARNING:\n",
      "Failed to read header row 6.\n",
      "2008 01 01 2016 07 08\n",
      "\n",
      "Error msg: IndexError('list index out of range',)\n"
     ]
    },
    {
     "name": "stderr",
     "output_type": "stream",
     "text": [
      "2018-09-21 11:36:50,530:WARNING:\n",
      "Failed to read header row 6.\n",
      "2008 01 01 2016 07 08\n",
      "\n",
      "Error msg: IndexError('list index out of range',)\n"
     ]
    },
    {
     "name": "stderr",
     "output_type": "stream",
     "text": [
      "2018-09-21 11:36:50,535:WARNING:\n",
      "Failed to read header row 6.\n",
      "2008 01 01 2016 07 08\n",
      "\n",
      "Error msg: IndexError('list index out of range',)\n"
     ]
    },
    {
     "name": "stderr",
     "output_type": "stream",
     "text": [
      "2018-09-21 11:36:50,541:WARNING:\n",
      "Failed to read header row 6.\n",
      "2008 01 01 2016 07 08\n",
      "\n",
      "Error msg: IndexError('list index out of range',)\n"
     ]
    },
    {
     "name": "stderr",
     "output_type": "stream",
     "text": [
      "2018-09-21 11:36:50,549:WARNING:\n",
      "Failed to read header row 6.\n",
      "2008 01 01 2016 07 08\n",
      "\n",
      "Error msg: IndexError('list index out of range',)\n"
     ]
    },
    {
     "name": "stderr",
     "output_type": "stream",
     "text": [
      "2018-09-21 11:36:50,556:WARNING:\n",
      "Failed to read header row 6.\n",
      "2008 01 01 2016 07 08\n",
      "\n",
      "Error msg: IndexError('list index out of range',)\n"
     ]
    },
    {
     "name": "stderr",
     "output_type": "stream",
     "text": [
      "2018-09-21 11:36:50,564:WARNING:\n",
      "Failed to read header row 6.\n",
      "2008 01 01 2016 07 08\n",
      "\n",
      "Error msg: IndexError('list index out of range',)\n"
     ]
    },
    {
     "name": "stderr",
     "output_type": "stream",
     "text": [
      "2018-09-21 11:36:50,571:WARNING:\n",
      "Failed to read header row 6.\n",
      "2008 01 01 2016 07 08\n",
      "\n",
      "Error msg: IndexError('list index out of range',)\n"
     ]
    },
    {
     "name": "stderr",
     "output_type": "stream",
     "text": [
      "2018-09-21 11:36:50,578:WARNING:\n",
      "Failed to read header row 6.\n",
      "2008 01 01 2016 07 08\n",
      "\n",
      "Error msg: IndexError('list index out of range',)\n"
     ]
    },
    {
     "name": "stderr",
     "output_type": "stream",
     "text": [
      "2018-09-21 11:36:50,586:WARNING:\n",
      "Failed to read header row 6.\n",
      "2008 01 01 2016 07 08\n",
      "\n",
      "Error msg: IndexError('list index out of range',)\n"
     ]
    },
    {
     "name": "stderr",
     "output_type": "stream",
     "text": [
      "2018-09-21 11:36:50,594:WARNING:\n",
      "Failed to read header row 6.\n",
      "2008 01 01 2016 07 08\n",
      "\n",
      "Error msg: IndexError('list index out of range',)\n"
     ]
    },
    {
     "name": "stderr",
     "output_type": "stream",
     "text": [
      "2018-09-21 11:36:50,601:WARNING:\n",
      "Failed to read header row 6.\n",
      "2008 01 01 2016 07 08\n",
      "\n",
      "Error msg: IndexError('list index out of range',)\n"
     ]
    },
    {
     "name": "stderr",
     "output_type": "stream",
     "text": [
      "2018-09-21 11:36:50,608:WARNING:\n",
      "Failed to read header row 6.\n",
      "2008 01 01 2016 07 08\n",
      "\n",
      "Error msg: IndexError('list index out of range',)\n"
     ]
    },
    {
     "name": "stderr",
     "output_type": "stream",
     "text": [
      "2018-09-21 11:36:50,614:WARNING:\n",
      "Failed to read header row 6.\n",
      "2008 01 01 2016 07 08\n",
      "\n",
      "Error msg: IndexError('list index out of range',)\n"
     ]
    },
    {
     "name": "stderr",
     "output_type": "stream",
     "text": [
      "2018-09-21 11:36:50,621:WARNING:\n",
      "Failed to read header row 6.\n",
      "2008 01 01 2016 07 08\n",
      "\n",
      "Error msg: IndexError('list index out of range',)\n"
     ]
    },
    {
     "name": "stderr",
     "output_type": "stream",
     "text": [
      "2018-09-21 11:36:50,628:WARNING:\n",
      "Failed to read header row 6.\n",
      "2008 01 01 2016 07 08\n",
      "\n",
      "Error msg: IndexError('list index out of range',)\n"
     ]
    },
    {
     "name": "stderr",
     "output_type": "stream",
     "text": [
      "2018-09-21 11:36:50,635:WARNING:\n",
      "Failed to read header row 6.\n",
      "2008 01 01 2016 07 08\n",
      "\n",
      "Error msg: IndexError('list index out of range',)\n"
     ]
    },
    {
     "name": "stderr",
     "output_type": "stream",
     "text": [
      "2018-09-21 11:36:50,641:WARNING:\n",
      "Failed to read header row 6.\n",
      "2008 01 01 2016 07 08\n",
      "\n",
      "Error msg: IndexError('list index out of range',)\n"
     ]
    },
    {
     "name": "stderr",
     "output_type": "stream",
     "text": [
      "2018-09-21 11:36:50,645:WARNING:\n",
      "Failed to read header row 6.\n",
      "2008 01 01 2016 07 08\n",
      "\n",
      "Error msg: IndexError('list index out of range',)\n"
     ]
    },
    {
     "name": "stderr",
     "output_type": "stream",
     "text": [
      "2018-09-21 11:36:50,650:WARNING:\n",
      "Failed to read header row 6.\n",
      "2008 01 01 2016 07 08\n",
      "\n",
      "Error msg: IndexError('list index out of range',)\n"
     ]
    },
    {
     "name": "stderr",
     "output_type": "stream",
     "text": [
      "2018-09-21 11:36:50,655:WARNING:\n",
      "Failed to read header row 6.\n",
      "2008 01 01 2016 07 08\n",
      "\n",
      "Error msg: IndexError('list index out of range',)\n"
     ]
    },
    {
     "name": "stderr",
     "output_type": "stream",
     "text": [
      "2018-09-21 11:36:50,659:WARNING:\n",
      "Failed to read header row 6.\n",
      "2008 01 01 2016 07 08\n",
      "\n",
      "Error msg: IndexError('list index out of range',)\n"
     ]
    },
    {
     "name": "stderr",
     "output_type": "stream",
     "text": [
      "2018-09-21 11:36:50,664:WARNING:\n",
      "Failed to read header row 6.\n",
      "2008 01 01 2016 07 08\n",
      "\n",
      "Error msg: IndexError('list index out of range',)\n"
     ]
    },
    {
     "name": "stderr",
     "output_type": "stream",
     "text": [
      "2018-09-21 11:36:50,669:WARNING:\n",
      "Failed to read header row 6.\n",
      "2008 01 01 2016 07 08\n",
      "\n",
      "Error msg: IndexError('list index out of range',)\n"
     ]
    },
    {
     "name": "stderr",
     "output_type": "stream",
     "text": [
      "2018-09-21 11:36:50,673:WARNING:\n",
      "Failed to read header row 6.\n",
      "2008 01 01 2016 07 08\n",
      "\n",
      "Error msg: IndexError('list index out of range',)\n"
     ]
    },
    {
     "name": "stderr",
     "output_type": "stream",
     "text": [
      "2018-09-21 11:36:50,681:WARNING:\n",
      "Failed to read header row 6.\n",
      "2008 01 01 2016 07 08\n",
      "\n",
      "Error msg: IndexError('list index out of range',)\n"
     ]
    },
    {
     "name": "stderr",
     "output_type": "stream",
     "text": [
      "2018-09-21 11:36:50,689:WARNING:\n",
      "Failed to read header row 6.\n",
      "2008 01 01 2016 07 08\n",
      "\n",
      "Error msg: IndexError('list index out of range',)\n"
     ]
    },
    {
     "name": "stderr",
     "output_type": "stream",
     "text": [
      "2018-09-21 11:36:50,697:WARNING:\n",
      "Failed to read header row 6.\n",
      "2008 01 01 2016 07 08\n",
      "\n",
      "Error msg: IndexError('list index out of range',)\n"
     ]
    },
    {
     "name": "stderr",
     "output_type": "stream",
     "text": [
      "2018-09-21 11:36:50,704:WARNING:\n",
      "Failed to read header row 6.\n",
      "2008 01 01 2016 07 08\n",
      "\n",
      "Error msg: IndexError('list index out of range',)\n"
     ]
    },
    {
     "name": "stderr",
     "output_type": "stream",
     "text": [
      "2018-09-21 11:36:50,711:WARNING:\n",
      "Failed to read header row 6.\n",
      "2008 01 01 2016 07 08\n",
      "\n",
      "Error msg: IndexError('list index out of range',)\n"
     ]
    },
    {
     "name": "stderr",
     "output_type": "stream",
     "text": [
      "2018-09-21 11:36:50,718:WARNING:\n",
      "Failed to read header row 6.\n",
      "2008 01 01 2016 07 08\n",
      "\n",
      "Error msg: IndexError('list index out of range',)\n"
     ]
    },
    {
     "name": "stderr",
     "output_type": "stream",
     "text": [
      "2018-09-21 11:36:50,725:WARNING:\n",
      "Failed to read header row 6.\n",
      "2008 01 01 2016 07 08\n",
      "\n",
      "Error msg: IndexError('list index out of range',)\n"
     ]
    },
    {
     "name": "stderr",
     "output_type": "stream",
     "text": [
      "2018-09-21 11:36:50,732:WARNING:\n",
      "Failed to read header row 6.\n",
      "2008 01 01 2016 07 08\n",
      "\n",
      "Error msg: IndexError('list index out of range',)\n"
     ]
    },
    {
     "name": "stderr",
     "output_type": "stream",
     "text": [
      "2018-09-21 11:36:50,739:WARNING:\n",
      "Failed to read header row 6.\n",
      "2008 01 01 2016 07 08\n",
      "\n",
      "Error msg: IndexError('list index out of range',)\n"
     ]
    },
    {
     "name": "stderr",
     "output_type": "stream",
     "text": [
      "2018-09-21 11:36:50,746:WARNING:\n",
      "Failed to read header row 6.\n",
      "2008 01 01 2016 07 08\n",
      "\n",
      "Error msg: IndexError('list index out of range',)\n"
     ]
    },
    {
     "name": "stderr",
     "output_type": "stream",
     "text": [
      "2018-09-21 11:36:50,754:WARNING:\n",
      "Failed to read header row 6.\n",
      "2008 01 01 2016 07 08\n",
      "\n",
      "Error msg: IndexError('list index out of range',)\n"
     ]
    },
    {
     "name": "stderr",
     "output_type": "stream",
     "text": [
      "2018-09-21 11:36:50,763:WARNING:\n",
      "Failed to read header row 6.\n",
      "2008 01 01 2016 07 08\n",
      "\n",
      "Error msg: IndexError('list index out of range',)\n"
     ]
    },
    {
     "name": "stderr",
     "output_type": "stream",
     "text": [
      "2018-09-21 11:36:50,769:WARNING:\n",
      "Failed to read header row 6.\n",
      "2008 01 01 2016 07 08\n",
      "\n",
      "Error msg: IndexError('list index out of range',)\n"
     ]
    },
    {
     "name": "stderr",
     "output_type": "stream",
     "text": [
      "2018-09-21 11:36:50,775:WARNING:\n",
      "Failed to read header row 6.\n",
      "2008 01 01 2016 07 08\n",
      "\n",
      "Error msg: IndexError('list index out of range',)\n"
     ]
    },
    {
     "name": "stderr",
     "output_type": "stream",
     "text": [
      "2018-09-21 11:36:50,780:WARNING:\n",
      "Failed to read header row 6.\n",
      "2008 01 01 2016 07 08\n",
      "\n",
      "Error msg: IndexError('list index out of range',)\n"
     ]
    },
    {
     "name": "stderr",
     "output_type": "stream",
     "text": [
      "2018-09-21 11:36:50,784:WARNING:\n",
      "Failed to read header row 6.\n",
      "2008 01 01 2016 07 08\n",
      "\n",
      "Error msg: IndexError('list index out of range',)\n"
     ]
    },
    {
     "name": "stderr",
     "output_type": "stream",
     "text": [
      "2018-09-21 11:36:50,790:WARNING:\n",
      "Failed to read header row 6.\n",
      "2008 01 01 2016 07 08\n",
      "\n",
      "Error msg: IndexError('list index out of range',)\n"
     ]
    },
    {
     "name": "stderr",
     "output_type": "stream",
     "text": [
      "2018-09-21 11:36:50,796:WARNING:\n",
      "Failed to read header row 6.\n",
      "2008 01 01 2016 07 08\n",
      "\n",
      "Error msg: IndexError('list index out of range',)\n"
     ]
    },
    {
     "name": "stderr",
     "output_type": "stream",
     "text": [
      "2018-09-21 11:36:50,802:WARNING:\n",
      "Failed to read header row 6.\n",
      "2008 01 01 2016 07 08\n",
      "\n",
      "Error msg: IndexError('list index out of range',)\n"
     ]
    },
    {
     "name": "stderr",
     "output_type": "stream",
     "text": [
      "2018-09-21 11:36:50,807:WARNING:\n",
      "Failed to read header row 6.\n",
      "2008 01 01 2016 07 08\n",
      "\n",
      "Error msg: IndexError('list index out of range',)\n"
     ]
    },
    {
     "name": "stderr",
     "output_type": "stream",
     "text": [
      "2018-09-21 11:36:50,811:WARNING:\n",
      "Failed to read header row 6.\n",
      "2008 01 01 2016 07 08\n",
      "\n",
      "Error msg: IndexError('list index out of range',)\n"
     ]
    },
    {
     "name": "stderr",
     "output_type": "stream",
     "text": [
      "2018-09-21 11:36:50,816:WARNING:\n",
      "Failed to read header row 6.\n",
      "2008 01 01 2016 07 08\n",
      "\n",
      "Error msg: IndexError('list index out of range',)\n"
     ]
    },
    {
     "name": "stderr",
     "output_type": "stream",
     "text": [
      "2018-09-21 11:36:50,821:WARNING:\n",
      "Failed to read header row 6.\n",
      "2008 01 01 2016 07 08\n",
      "\n",
      "Error msg: IndexError('list index out of range',)\n"
     ]
    },
    {
     "name": "stderr",
     "output_type": "stream",
     "text": [
      "2018-09-21 11:36:50,828:WARNING:\n",
      "Failed to read header row 6.\n",
      "2008 01 01 2016 07 08\n",
      "\n",
      "Error msg: IndexError('list index out of range',)\n"
     ]
    },
    {
     "name": "stderr",
     "output_type": "stream",
     "text": [
      "2018-09-21 11:36:50,836:WARNING:\n",
      "Failed to read header row 6.\n",
      "2008 01 01 2016 07 08\n",
      "\n",
      "Error msg: IndexError('list index out of range',)\n"
     ]
    },
    {
     "name": "stderr",
     "output_type": "stream",
     "text": [
      "2018-09-21 11:36:50,844:WARNING:\n",
      "Failed to read header row 6.\n",
      "2008 01 01 2016 07 08\n",
      "\n",
      "Error msg: IndexError('list index out of range',)\n"
     ]
    },
    {
     "name": "stderr",
     "output_type": "stream",
     "text": [
      "2018-09-21 11:36:50,852:WARNING:\n",
      "Failed to read header row 6.\n",
      "2008 01 01 2016 07 08\n",
      "\n",
      "Error msg: IndexError('list index out of range',)\n"
     ]
    },
    {
     "name": "stderr",
     "output_type": "stream",
     "text": [
      "2018-09-21 11:36:50,859:WARNING:\n",
      "Failed to read header row 6.\n",
      "2008 01 01 2016 07 08\n",
      "\n",
      "Error msg: IndexError('list index out of range',)\n"
     ]
    },
    {
     "name": "stderr",
     "output_type": "stream",
     "text": [
      "2018-09-21 11:36:50,867:WARNING:\n",
      "Failed to read header row 6.\n",
      "2008 01 01 2016 07 08\n",
      "\n",
      "Error msg: IndexError('list index out of range',)\n"
     ]
    },
    {
     "name": "stderr",
     "output_type": "stream",
     "text": [
      "2018-09-21 11:36:50,873:WARNING:\n",
      "Failed to read header row 6.\n",
      "2008 01 01 2016 07 08\n",
      "\n",
      "Error msg: IndexError('list index out of range',)\n"
     ]
    },
    {
     "name": "stderr",
     "output_type": "stream",
     "text": [
      "2018-09-21 11:36:50,881:WARNING:\n",
      "Failed to read header row 6.\n",
      "2008 01 01 2016 07 08\n",
      "\n",
      "Error msg: IndexError('list index out of range',)\n"
     ]
    },
    {
     "name": "stderr",
     "output_type": "stream",
     "text": [
      "2018-09-21 11:36:50,889:WARNING:\n",
      "Failed to read header row 6.\n",
      "2008 01 01 2016 07 08\n",
      "\n",
      "Error msg: IndexError('list index out of range',)\n"
     ]
    },
    {
     "name": "stderr",
     "output_type": "stream",
     "text": [
      "2018-09-21 11:36:50,896:WARNING:\n",
      "Failed to read header row 6.\n",
      "2008 01 01 2016 07 08\n",
      "\n",
      "Error msg: IndexError('list index out of range',)\n"
     ]
    },
    {
     "name": "stderr",
     "output_type": "stream",
     "text": [
      "2018-09-21 11:36:50,903:WARNING:\n",
      "Failed to read header row 6.\n",
      "2008 01 01 2016 07 08\n",
      "\n",
      "Error msg: IndexError('list index out of range',)\n"
     ]
    },
    {
     "name": "stderr",
     "output_type": "stream",
     "text": [
      "2018-09-21 11:36:50,908:WARNING:\n",
      "Failed to read header row 6.\n",
      "2008 01 01 2016 07 08\n",
      "\n",
      "Error msg: IndexError('list index out of range',)\n"
     ]
    },
    {
     "name": "stderr",
     "output_type": "stream",
     "text": [
      "2018-09-21 11:36:50,916:WARNING:\n",
      "Failed to read header row 6.\n",
      "2008 01 01 2016 07 08\n",
      "\n",
      "Error msg: IndexError('list index out of range',)\n"
     ]
    },
    {
     "name": "stderr",
     "output_type": "stream",
     "text": [
      "2018-09-21 11:36:50,924:WARNING:\n",
      "Failed to read header row 6.\n",
      "2008 01 01 2016 07 08\n",
      "\n",
      "Error msg: IndexError('list index out of range',)\n"
     ]
    },
    {
     "name": "stderr",
     "output_type": "stream",
     "text": [
      "2018-09-21 11:36:50,932:WARNING:\n",
      "Failed to read header row 6.\n",
      "2008 01 01 2016 07 08\n",
      "\n",
      "Error msg: IndexError('list index out of range',)\n"
     ]
    },
    {
     "name": "stderr",
     "output_type": "stream",
     "text": [
      "2018-09-21 11:36:50,940:WARNING:\n",
      "Failed to read header row 6.\n",
      "2008 01 01 2016 07 08\n",
      "\n",
      "Error msg: IndexError('list index out of range',)\n"
     ]
    },
    {
     "name": "stderr",
     "output_type": "stream",
     "text": [
      "2018-09-21 11:36:50,945:WARNING:\n",
      "Failed to read header row 6.\n",
      "2008 01 01 2016 07 08\n",
      "\n",
      "Error msg: IndexError('list index out of range',)\n"
     ]
    },
    {
     "name": "stderr",
     "output_type": "stream",
     "text": [
      "2018-09-21 11:36:50,951:WARNING:\n",
      "Failed to read header row 6.\n",
      "2008 01 01 2016 07 08\n",
      "\n",
      "Error msg: IndexError('list index out of range',)\n"
     ]
    },
    {
     "name": "stderr",
     "output_type": "stream",
     "text": [
      "2018-09-21 11:36:50,956:WARNING:\n",
      "Failed to read header row 6.\n",
      "2008 01 01 2016 07 08\n",
      "\n",
      "Error msg: IndexError('list index out of range',)\n"
     ]
    },
    {
     "name": "stderr",
     "output_type": "stream",
     "text": [
      "2018-09-21 11:36:50,962:WARNING:\n",
      "Failed to read header row 6.\n",
      "2008 01 01 2016 07 08\n",
      "\n",
      "Error msg: IndexError('list index out of range',)\n"
     ]
    },
    {
     "name": "stderr",
     "output_type": "stream",
     "text": [
      "2018-09-21 11:36:50,967:WARNING:\n",
      "Failed to read header row 6.\n",
      "2008 01 01 2016 07 08\n",
      "\n",
      "Error msg: IndexError('list index out of range',)\n"
     ]
    },
    {
     "name": "stderr",
     "output_type": "stream",
     "text": [
      "2018-09-21 11:36:50,972:WARNING:\n",
      "Failed to read header row 6.\n",
      "2008 01 01 2016 07 08\n",
      "\n",
      "Error msg: IndexError('list index out of range',)\n"
     ]
    },
    {
     "name": "stderr",
     "output_type": "stream",
     "text": [
      "2018-09-21 11:36:50,978:WARNING:\n",
      "Failed to read header row 6.\n",
      "2008 01 01 2016 07 08\n",
      "\n",
      "Error msg: IndexError('list index out of range',)\n"
     ]
    },
    {
     "name": "stderr",
     "output_type": "stream",
     "text": [
      "2018-09-21 11:36:50,989:WARNING:\n",
      "Failed to read header row 6.\n",
      "2008 01 01 2016 07 08\n",
      "\n",
      "Error msg: IndexError('list index out of range',)\n"
     ]
    },
    {
     "name": "stderr",
     "output_type": "stream",
     "text": [
      "2018-09-21 11:36:50,998:WARNING:\n",
      "Failed to read header row 6.\n",
      "2008 01 01 2016 07 08\n",
      "\n",
      "Error msg: IndexError('list index out of range',)\n"
     ]
    },
    {
     "name": "stderr",
     "output_type": "stream",
     "text": [
      "2018-09-21 11:36:51,003:WARNING:\n",
      "Failed to read header row 6.\n",
      "2008 01 01 2016 07 08\n",
      "\n",
      "Error msg: IndexError('list index out of range',)\n"
     ]
    },
    {
     "name": "stderr",
     "output_type": "stream",
     "text": [
      "2018-09-21 11:36:51,008:WARNING:\n",
      "Failed to read header row 6.\n",
      "2008 01 01 2016 07 08\n",
      "\n",
      "Error msg: IndexError('list index out of range',)\n"
     ]
    },
    {
     "name": "stderr",
     "output_type": "stream",
     "text": [
      "2018-09-21 11:36:51,012:WARNING:\n",
      "Failed to read header row 6.\n",
      "2008 01 01 2016 07 08\n",
      "\n",
      "Error msg: IndexError('list index out of range',)\n"
     ]
    },
    {
     "name": "stderr",
     "output_type": "stream",
     "text": [
      "2018-09-21 11:36:51,018:WARNING:\n",
      "Failed to read header row 6.\n",
      "2008 01 01 2016 07 08\n",
      "\n",
      "Error msg: IndexError('list index out of range',)\n"
     ]
    },
    {
     "name": "stderr",
     "output_type": "stream",
     "text": [
      "2018-09-21 11:36:51,023:WARNING:\n",
      "Failed to read header row 6.\n",
      "2008 01 01 2016 07 08\n",
      "\n",
      "Error msg: IndexError('list index out of range',)\n"
     ]
    },
    {
     "name": "stderr",
     "output_type": "stream",
     "text": [
      "2018-09-21 11:36:51,027:WARNING:\n",
      "Failed to read header row 6.\n",
      "2008 01 01 2016 07 08\n",
      "\n",
      "Error msg: IndexError('list index out of range',)\n"
     ]
    },
    {
     "name": "stderr",
     "output_type": "stream",
     "text": [
      "2018-09-21 11:36:51,032:WARNING:\n",
      "Failed to read header row 6.\n",
      "2008 01 01 2016 07 08\n",
      "\n",
      "Error msg: IndexError('list index out of range',)\n"
     ]
    },
    {
     "name": "stderr",
     "output_type": "stream",
     "text": [
      "2018-09-21 11:36:51,038:WARNING:\n",
      "Failed to read header row 6.\n",
      "2008 01 01 2016 07 08\n",
      "\n",
      "Error msg: IndexError('list index out of range',)\n"
     ]
    },
    {
     "name": "stderr",
     "output_type": "stream",
     "text": [
      "2018-09-21 11:36:51,043:WARNING:\n",
      "Failed to read header row 6.\n",
      "2008 01 01 2016 07 08\n",
      "\n",
      "Error msg: IndexError('list index out of range',)\n"
     ]
    },
    {
     "name": "stderr",
     "output_type": "stream",
     "text": [
      "2018-09-21 11:36:51,047:WARNING:\n",
      "Failed to read header row 6.\n",
      "2008 01 01 2016 07 08\n",
      "\n",
      "Error msg: IndexError('list index out of range',)\n"
     ]
    },
    {
     "name": "stderr",
     "output_type": "stream",
     "text": [
      "2018-09-21 11:36:51,052:WARNING:\n",
      "Failed to read header row 6.\n",
      "2008 01 01 2016 07 08\n",
      "\n",
      "Error msg: IndexError('list index out of range',)\n"
     ]
    },
    {
     "name": "stderr",
     "output_type": "stream",
     "text": [
      "2018-09-21 11:36:51,057:WARNING:\n",
      "Failed to read header row 6.\n",
      "2008 01 01 2016 07 08\n",
      "\n",
      "Error msg: IndexError('list index out of range',)\n"
     ]
    },
    {
     "name": "stderr",
     "output_type": "stream",
     "text": [
      "2018-09-21 11:36:51,063:WARNING:\n",
      "Failed to read header row 6.\n",
      "2008 01 01 2016 07 08\n",
      "\n",
      "Error msg: IndexError('list index out of range',)\n"
     ]
    },
    {
     "name": "stderr",
     "output_type": "stream",
     "text": [
      "2018-09-21 11:36:51,068:WARNING:\n",
      "Failed to read header row 6.\n",
      "2008 01 01 2016 07 08\n",
      "\n",
      "Error msg: IndexError('list index out of range',)\n"
     ]
    },
    {
     "name": "stderr",
     "output_type": "stream",
     "text": [
      "2018-09-21 11:36:51,073:WARNING:\n",
      "Failed to read header row 6.\n",
      "2008 01 01 2016 07 08\n",
      "\n",
      "Error msg: IndexError('list index out of range',)\n"
     ]
    },
    {
     "name": "stderr",
     "output_type": "stream",
     "text": [
      "2018-09-21 11:36:51,078:WARNING:\n",
      "Failed to read header row 6.\n",
      "2008 01 01 2016 07 08\n",
      "\n",
      "Error msg: IndexError('list index out of range',)\n"
     ]
    },
    {
     "name": "stderr",
     "output_type": "stream",
     "text": [
      "2018-09-21 11:36:51,086:WARNING:\n",
      "Failed to read header row 6.\n",
      "2008 01 01 2016 07 08\n",
      "\n",
      "Error msg: IndexError('list index out of range',)\n"
     ]
    },
    {
     "name": "stderr",
     "output_type": "stream",
     "text": [
      "2018-09-21 11:36:51,095:WARNING:\n",
      "Failed to read header row 6.\n",
      "2008 01 01 2016 07 08\n",
      "\n",
      "Error msg: IndexError('list index out of range',)\n"
     ]
    },
    {
     "name": "stderr",
     "output_type": "stream",
     "text": [
      "2018-09-21 11:36:51,102:WARNING:\n",
      "Failed to read header row 6.\n",
      "2008 01 01 2016 07 08\n",
      "\n",
      "Error msg: IndexError('list index out of range',)\n"
     ]
    },
    {
     "name": "stderr",
     "output_type": "stream",
     "text": [
      "2018-09-21 11:36:51,110:WARNING:\n",
      "Failed to read header row 6.\n",
      "2008 01 01 2016 07 08\n",
      "\n",
      "Error msg: IndexError('list index out of range',)\n"
     ]
    },
    {
     "name": "stderr",
     "output_type": "stream",
     "text": [
      "2018-09-21 11:36:51,118:WARNING:\n",
      "Failed to read header row 6.\n",
      "2008 01 01 2016 07 08\n",
      "\n",
      "Error msg: IndexError('list index out of range',)\n"
     ]
    },
    {
     "name": "stderr",
     "output_type": "stream",
     "text": [
      "2018-09-21 11:36:51,126:WARNING:\n",
      "Failed to read header row 6.\n",
      "2008 01 01 2016 07 08\n",
      "\n",
      "Error msg: IndexError('list index out of range',)\n"
     ]
    },
    {
     "name": "stderr",
     "output_type": "stream",
     "text": [
      "2018-09-21 11:36:51,134:WARNING:\n",
      "Failed to read header row 6.\n",
      "2008 01 01 2016 07 08\n",
      "\n",
      "Error msg: IndexError('list index out of range',)\n"
     ]
    },
    {
     "name": "stderr",
     "output_type": "stream",
     "text": [
      "2018-09-21 11:36:51,141:WARNING:\n",
      "Failed to read header row 6.\n",
      "2008 01 01 2016 07 08\n",
      "\n",
      "Error msg: IndexError('list index out of range',)\n"
     ]
    },
    {
     "name": "stderr",
     "output_type": "stream",
     "text": [
      "2018-09-21 11:36:51,148:WARNING:\n",
      "Failed to read header row 6.\n",
      "2008 01 01 2016 07 08\n",
      "\n",
      "Error msg: IndexError('list index out of range',)\n"
     ]
    },
    {
     "name": "stderr",
     "output_type": "stream",
     "text": [
      "2018-09-21 11:36:51,154:WARNING:\n",
      "Failed to read header row 6.\n",
      "2008 01 01 2016 07 08\n",
      "\n",
      "Error msg: IndexError('list index out of range',)\n"
     ]
    },
    {
     "name": "stderr",
     "output_type": "stream",
     "text": [
      "2018-09-21 11:36:51,163:WARNING:\n",
      "Failed to read header row 6.\n",
      "2008 01 01 2016 07 08\n",
      "\n",
      "Error msg: IndexError('list index out of range',)\n"
     ]
    },
    {
     "name": "stderr",
     "output_type": "stream",
     "text": [
      "2018-09-21 11:36:51,172:WARNING:\n",
      "Failed to read header row 6.\n",
      "2008 01 01 2016 07 08\n",
      "\n",
      "Error msg: IndexError('list index out of range',)\n"
     ]
    },
    {
     "name": "stderr",
     "output_type": "stream",
     "text": [
      "2018-09-21 11:36:51,180:WARNING:\n",
      "Failed to read header row 6.\n",
      "2008 01 01 2016 07 08\n",
      "\n",
      "Error msg: IndexError('list index out of range',)\n"
     ]
    },
    {
     "name": "stderr",
     "output_type": "stream",
     "text": [
      "2018-09-21 11:36:51,188:WARNING:\n",
      "Failed to read header row 6.\n",
      "2008 01 01 2016 07 08\n",
      "\n",
      "Error msg: IndexError('list index out of range',)\n"
     ]
    },
    {
     "name": "stderr",
     "output_type": "stream",
     "text": [
      "2018-09-21 11:36:51,196:WARNING:\n",
      "Failed to read header row 6.\n",
      "2008 01 01 2016 07 08\n",
      "\n",
      "Error msg: IndexError('list index out of range',)\n"
     ]
    },
    {
     "name": "stderr",
     "output_type": "stream",
     "text": [
      "2018-09-21 11:36:51,203:WARNING:\n",
      "Failed to read header row 6.\n",
      "2008 01 01 2016 07 08\n",
      "\n",
      "Error msg: IndexError('list index out of range',)\n"
     ]
    },
    {
     "name": "stderr",
     "output_type": "stream",
     "text": [
      "2018-09-21 11:36:51,211:WARNING:\n",
      "Failed to read header row 6.\n",
      "2008 01 01 2016 07 08\n",
      "\n",
      "Error msg: IndexError('list index out of range',)\n"
     ]
    },
    {
     "name": "stderr",
     "output_type": "stream",
     "text": [
      "2018-09-21 11:36:51,218:WARNING:\n",
      "Failed to read header row 6.\n",
      "2008 01 01 2016 07 08\n",
      "\n",
      "Error msg: IndexError('list index out of range',)\n"
     ]
    },
    {
     "name": "stderr",
     "output_type": "stream",
     "text": [
      "2018-09-21 11:36:51,227:WARNING:\n",
      "Failed to read header row 6.\n",
      "2008 01 01 2016 07 08\n",
      "\n",
      "Error msg: IndexError('list index out of range',)\n"
     ]
    },
    {
     "name": "stderr",
     "output_type": "stream",
     "text": [
      "2018-09-21 11:36:51,235:WARNING:\n",
      "Failed to read header row 6.\n",
      "2008 01 01 2016 07 08\n",
      "\n",
      "Error msg: IndexError('list index out of range',)\n"
     ]
    },
    {
     "name": "stderr",
     "output_type": "stream",
     "text": [
      "2018-09-21 11:36:51,243:WARNING:\n",
      "Failed to read header row 6.\n",
      "2008 01 01 2016 07 08\n",
      "\n",
      "Error msg: IndexError('list index out of range',)\n"
     ]
    },
    {
     "name": "stderr",
     "output_type": "stream",
     "text": [
      "2018-09-21 11:36:51,251:WARNING:\n",
      "Failed to read header row 6.\n",
      "2008 01 01 2016 07 08\n",
      "\n",
      "Error msg: IndexError('list index out of range',)\n"
     ]
    },
    {
     "name": "stderr",
     "output_type": "stream",
     "text": [
      "2018-09-21 11:36:51,258:WARNING:\n",
      "Failed to read header row 6.\n",
      "2008 01 01 2016 07 08\n",
      "\n",
      "Error msg: IndexError('list index out of range',)\n"
     ]
    },
    {
     "name": "stderr",
     "output_type": "stream",
     "text": [
      "2018-09-21 11:36:51,265:WARNING:\n",
      "Failed to read header row 6.\n",
      "2008 01 01 2016 07 08\n",
      "\n",
      "Error msg: IndexError('list index out of range',)\n"
     ]
    },
    {
     "name": "stderr",
     "output_type": "stream",
     "text": [
      "2018-09-21 11:36:51,272:WARNING:\n",
      "Failed to read header row 6.\n",
      "2008 01 01 2016 07 08\n",
      "\n",
      "Error msg: IndexError('list index out of range',)\n"
     ]
    },
    {
     "name": "stderr",
     "output_type": "stream",
     "text": [
      "2018-09-21 11:36:51,280:WARNING:\n",
      "Failed to read header row 6.\n",
      "2008 01 01 2016 07 08\n",
      "\n",
      "Error msg: IndexError('list index out of range',)\n"
     ]
    },
    {
     "name": "stderr",
     "output_type": "stream",
     "text": [
      "2018-09-21 11:36:51,287:WARNING:\n",
      "Failed to read header row 6.\n",
      "2008 01 01 2016 07 08\n",
      "\n",
      "Error msg: IndexError('list index out of range',)\n"
     ]
    },
    {
     "name": "stderr",
     "output_type": "stream",
     "text": [
      "2018-09-21 11:36:51,297:WARNING:\n",
      "Failed to read header row 6.\n",
      "2008 01 01 2016 07 08\n",
      "\n",
      "Error msg: IndexError('list index out of range',)\n"
     ]
    },
    {
     "name": "stderr",
     "output_type": "stream",
     "text": [
      "2018-09-21 11:36:51,304:WARNING:\n",
      "Failed to read header row 6.\n",
      "2008 01 01 2016 07 08\n",
      "\n",
      "Error msg: IndexError('list index out of range',)\n"
     ]
    },
    {
     "name": "stderr",
     "output_type": "stream",
     "text": [
      "2018-09-21 11:36:51,310:WARNING:\n",
      "Failed to read header row 6.\n",
      "2008 01 01 2016 07 08\n",
      "\n",
      "Error msg: IndexError('list index out of range',)\n"
     ]
    },
    {
     "name": "stderr",
     "output_type": "stream",
     "text": [
      "2018-09-21 11:36:51,316:WARNING:\n",
      "Failed to read header row 6.\n",
      "2008 01 01 2016 07 08\n",
      "\n",
      "Error msg: IndexError('list index out of range',)\n"
     ]
    },
    {
     "name": "stderr",
     "output_type": "stream",
     "text": [
      "2018-09-21 11:36:51,322:WARNING:\n",
      "Failed to read header row 6.\n",
      "2008 01 01 2016 07 08\n",
      "\n",
      "Error msg: IndexError('list index out of range',)\n"
     ]
    },
    {
     "name": "stderr",
     "output_type": "stream",
     "text": [
      "2018-09-21 11:36:51,327:WARNING:\n",
      "Failed to read header row 6.\n",
      "2008 01 01 2016 07 08\n",
      "\n",
      "Error msg: IndexError('list index out of range',)\n"
     ]
    },
    {
     "name": "stderr",
     "output_type": "stream",
     "text": [
      "2018-09-21 11:36:51,332:WARNING:\n",
      "Failed to read header row 6.\n",
      "2008 01 01 2016 07 08\n",
      "\n",
      "Error msg: IndexError('list index out of range',)\n"
     ]
    },
    {
     "name": "stderr",
     "output_type": "stream",
     "text": [
      "2018-09-21 11:36:51,336:WARNING:\n",
      "Failed to read header row 6.\n",
      "2008 01 01 2016 07 08\n",
      "\n",
      "Error msg: IndexError('list index out of range',)\n"
     ]
    },
    {
     "name": "stderr",
     "output_type": "stream",
     "text": [
      "2018-09-21 11:36:51,341:WARNING:\n",
      "Failed to read header row 6.\n",
      "2008 01 01 2016 07 08\n",
      "\n",
      "Error msg: IndexError('list index out of range',)\n"
     ]
    },
    {
     "name": "stderr",
     "output_type": "stream",
     "text": [
      "2018-09-21 11:36:51,347:WARNING:\n",
      "Failed to read header row 6.\n",
      "2008 01 01 2016 07 08\n",
      "\n",
      "Error msg: IndexError('list index out of range',)\n"
     ]
    },
    {
     "name": "stderr",
     "output_type": "stream",
     "text": [
      "2018-09-21 11:36:51,352:WARNING:\n",
      "Failed to read header row 6.\n",
      "2008 01 01 2016 07 08\n",
      "\n",
      "Error msg: IndexError('list index out of range',)\n"
     ]
    },
    {
     "name": "stderr",
     "output_type": "stream",
     "text": [
      "2018-09-21 11:36:51,359:WARNING:\n",
      "Failed to read header row 6.\n",
      "2008 01 01 2016 07 08\n",
      "\n",
      "Error msg: IndexError('list index out of range',)\n"
     ]
    },
    {
     "name": "stderr",
     "output_type": "stream",
     "text": [
      "2018-09-21 11:36:51,364:WARNING:\n",
      "Failed to read header row 6.\n",
      "2008 01 01 2016 07 08\n",
      "\n",
      "Error msg: IndexError('list index out of range',)\n"
     ]
    },
    {
     "name": "stderr",
     "output_type": "stream",
     "text": [
      "2018-09-21 11:36:51,369:WARNING:\n",
      "Failed to read header row 6.\n",
      "2008 01 01 2016 07 08\n",
      "\n",
      "Error msg: IndexError('list index out of range',)\n"
     ]
    },
    {
     "name": "stderr",
     "output_type": "stream",
     "text": [
      "2018-09-21 11:36:51,374:WARNING:\n",
      "Failed to read header row 6.\n",
      "2008 01 01 2016 07 08\n",
      "\n",
      "Error msg: IndexError('list index out of range',)\n"
     ]
    },
    {
     "name": "stderr",
     "output_type": "stream",
     "text": [
      "2018-09-21 11:36:51,379:WARNING:\n",
      "Failed to read header row 6.\n",
      "2008 01 01 2016 07 08\n",
      "\n",
      "Error msg: IndexError('list index out of range',)\n"
     ]
    },
    {
     "name": "stderr",
     "output_type": "stream",
     "text": [
      "2018-09-21 11:36:51,384:WARNING:\n",
      "Failed to read header row 6.\n",
      "2008 01 01 2016 07 08\n",
      "\n",
      "Error msg: IndexError('list index out of range',)\n"
     ]
    },
    {
     "name": "stderr",
     "output_type": "stream",
     "text": [
      "2018-09-21 11:36:51,390:WARNING:\n",
      "Failed to read header row 6.\n",
      "2008 01 01 2016 07 08\n",
      "\n",
      "Error msg: IndexError('list index out of range',)\n"
     ]
    },
    {
     "name": "stderr",
     "output_type": "stream",
     "text": [
      "2018-09-21 11:36:51,395:WARNING:\n",
      "Failed to read header row 6.\n",
      "2008 01 01 2016 07 08\n",
      "\n",
      "Error msg: IndexError('list index out of range',)\n"
     ]
    },
    {
     "name": "stderr",
     "output_type": "stream",
     "text": [
      "2018-09-21 11:36:51,400:WARNING:\n",
      "Failed to read header row 6.\n",
      "2008 01 01 2016 07 08\n",
      "\n",
      "Error msg: IndexError('list index out of range',)\n"
     ]
    },
    {
     "name": "stderr",
     "output_type": "stream",
     "text": [
      "2018-09-21 11:36:51,405:WARNING:\n",
      "Failed to read header row 6.\n",
      "2008 01 01 2016 07 08\n",
      "\n",
      "Error msg: IndexError('list index out of range',)\n"
     ]
    },
    {
     "name": "stderr",
     "output_type": "stream",
     "text": [
      "2018-09-21 11:36:51,410:WARNING:\n",
      "Failed to read header row 6.\n",
      "2008 01 01 2016 07 08\n",
      "\n",
      "Error msg: IndexError('list index out of range',)\n"
     ]
    },
    {
     "name": "stderr",
     "output_type": "stream",
     "text": [
      "2018-09-21 11:36:51,417:WARNING:\n",
      "Failed to read header row 6.\n",
      "2008 01 01 2016 07 08\n",
      "\n",
      "Error msg: IndexError('list index out of range',)\n"
     ]
    },
    {
     "name": "stderr",
     "output_type": "stream",
     "text": [
      "2018-09-21 11:36:51,422:WARNING:\n",
      "Failed to read header row 6.\n",
      "2008 01 01 2016 07 08\n",
      "\n",
      "Error msg: IndexError('list index out of range',)\n"
     ]
    },
    {
     "name": "stderr",
     "output_type": "stream",
     "text": [
      "2018-09-21 11:36:51,427:WARNING:\n",
      "Failed to read header row 6.\n",
      "2008 01 01 2016 07 08\n",
      "\n",
      "Error msg: IndexError('list index out of range',)\n"
     ]
    },
    {
     "name": "stderr",
     "output_type": "stream",
     "text": [
      "2018-09-21 11:36:51,431:WARNING:\n",
      "Failed to read header row 6.\n",
      "2008 01 01 2016 07 08\n",
      "\n",
      "Error msg: IndexError('list index out of range',)\n"
     ]
    },
    {
     "name": "stderr",
     "output_type": "stream",
     "text": [
      "2018-09-21 11:36:51,436:WARNING:\n",
      "Failed to read header row 6.\n",
      "2008 01 01 2016 07 08\n",
      "\n",
      "Error msg: IndexError('list index out of range',)\n"
     ]
    },
    {
     "name": "stderr",
     "output_type": "stream",
     "text": [
      "2018-09-21 11:36:51,441:WARNING:\n",
      "Failed to read header row 6.\n",
      "2008 01 01 2016 07 08\n",
      "\n",
      "Error msg: IndexError('list index out of range',)\n"
     ]
    },
    {
     "name": "stderr",
     "output_type": "stream",
     "text": [
      "2018-09-21 11:36:51,446:WARNING:\n",
      "Failed to read header row 6.\n",
      "2008 01 01 2016 07 08\n",
      "\n",
      "Error msg: IndexError('list index out of range',)\n"
     ]
    },
    {
     "name": "stderr",
     "output_type": "stream",
     "text": [
      "2018-09-21 11:36:51,451:WARNING:\n",
      "Failed to read header row 6.\n",
      "2008 01 01 2016 07 08\n",
      "\n",
      "Error msg: IndexError('list index out of range',)\n"
     ]
    },
    {
     "name": "stderr",
     "output_type": "stream",
     "text": [
      "2018-09-21 11:36:51,456:WARNING:\n",
      "Failed to read header row 6.\n",
      "2008 01 01 2016 07 08\n",
      "\n",
      "Error msg: IndexError('list index out of range',)\n"
     ]
    },
    {
     "name": "stderr",
     "output_type": "stream",
     "text": [
      "2018-09-21 11:36:51,461:WARNING:\n",
      "Failed to read header row 6.\n",
      "2008 01 01 2016 07 08\n",
      "\n",
      "Error msg: IndexError('list index out of range',)\n"
     ]
    },
    {
     "name": "stderr",
     "output_type": "stream",
     "text": [
      "2018-09-21 11:36:51,469:WARNING:\n",
      "Failed to read header row 6.\n",
      "2008 01 01 2016 07 08\n",
      "\n",
      "Error msg: IndexError('list index out of range',)\n"
     ]
    },
    {
     "name": "stderr",
     "output_type": "stream",
     "text": [
      "2018-09-21 11:36:51,477:WARNING:\n",
      "Failed to read header row 6.\n",
      "2008 01 01 2016 07 08\n",
      "\n",
      "Error msg: IndexError('list index out of range',)\n"
     ]
    },
    {
     "name": "stderr",
     "output_type": "stream",
     "text": [
      "2018-09-21 11:36:51,485:WARNING:\n",
      "Failed to read header row 6.\n",
      "2008 01 01 2016 07 08\n",
      "\n",
      "Error msg: IndexError('list index out of range',)\n"
     ]
    },
    {
     "name": "stderr",
     "output_type": "stream",
     "text": [
      "2018-09-21 11:36:51,492:WARNING:\n",
      "Failed to read header row 6.\n",
      "2008 01 01 2016 07 08\n",
      "\n",
      "Error msg: IndexError('list index out of range',)\n"
     ]
    },
    {
     "name": "stderr",
     "output_type": "stream",
     "text": [
      "2018-09-21 11:36:51,498:WARNING:\n",
      "Failed to read header row 6.\n",
      "2008 01 01 2016 07 08\n",
      "\n",
      "Error msg: IndexError('list index out of range',)\n"
     ]
    },
    {
     "name": "stderr",
     "output_type": "stream",
     "text": [
      "2018-09-21 11:36:51,504:WARNING:\n",
      "Failed to read header row 6.\n",
      "2008 01 01 2016 07 08\n",
      "\n",
      "Error msg: IndexError('list index out of range',)\n"
     ]
    },
    {
     "name": "stderr",
     "output_type": "stream",
     "text": [
      "2018-09-21 11:36:51,511:WARNING:\n",
      "Failed to read header row 6.\n",
      "2008 01 01 2016 07 08\n",
      "\n",
      "Error msg: IndexError('list index out of range',)\n"
     ]
    },
    {
     "name": "stderr",
     "output_type": "stream",
     "text": [
      "2018-09-21 11:36:51,519:WARNING:\n",
      "Failed to read header row 6.\n",
      "2008 01 01 2016 07 08\n",
      "\n",
      "Error msg: IndexError('list index out of range',)\n"
     ]
    },
    {
     "name": "stderr",
     "output_type": "stream",
     "text": [
      "2018-09-21 11:36:51,526:WARNING:\n",
      "Failed to read header row 6.\n",
      "2008 01 01 2016 07 08\n",
      "\n",
      "Error msg: IndexError('list index out of range',)\n"
     ]
    },
    {
     "name": "stderr",
     "output_type": "stream",
     "text": [
      "2018-09-21 11:36:51,533:WARNING:\n",
      "Failed to read header row 6.\n",
      "2008 01 01 2016 07 08\n",
      "\n",
      "Error msg: IndexError('list index out of range',)\n"
     ]
    },
    {
     "name": "stderr",
     "output_type": "stream",
     "text": [
      "2018-09-21 11:36:51,540:WARNING:\n",
      "Failed to read header row 6.\n",
      "2008 01 01 2016 07 08\n",
      "\n",
      "Error msg: IndexError('list index out of range',)\n"
     ]
    },
    {
     "name": "stderr",
     "output_type": "stream",
     "text": [
      "2018-09-21 11:36:51,548:WARNING:\n",
      "Failed to read header row 6.\n",
      "2008 01 01 2016 07 08\n",
      "\n",
      "Error msg: IndexError('list index out of range',)\n"
     ]
    },
    {
     "name": "stderr",
     "output_type": "stream",
     "text": [
      "2018-09-21 11:36:51,555:WARNING:\n",
      "Failed to read header row 6.\n",
      "2008 01 01 2016 07 08\n",
      "\n",
      "Error msg: IndexError('list index out of range',)\n"
     ]
    },
    {
     "name": "stderr",
     "output_type": "stream",
     "text": [
      "2018-09-21 11:36:51,562:WARNING:\n",
      "Failed to read header row 6.\n",
      "2008 01 01 2016 07 08\n",
      "\n",
      "Error msg: IndexError('list index out of range',)\n"
     ]
    },
    {
     "name": "stderr",
     "output_type": "stream",
     "text": [
      "2018-09-21 11:36:51,569:WARNING:\n",
      "Failed to read header row 6.\n",
      "2008 01 01 2016 07 08\n",
      "\n",
      "Error msg: IndexError('list index out of range',)\n"
     ]
    },
    {
     "name": "stderr",
     "output_type": "stream",
     "text": [
      "2018-09-21 11:36:51,577:WARNING:\n",
      "Failed to read header row 6.\n",
      "2008 01 01 2016 07 08\n",
      "\n",
      "Error msg: IndexError('list index out of range',)\n"
     ]
    },
    {
     "name": "stderr",
     "output_type": "stream",
     "text": [
      "2018-09-21 11:36:51,584:WARNING:\n",
      "Failed to read header row 6.\n",
      "2008 01 01 2016 07 08\n",
      "\n",
      "Error msg: IndexError('list index out of range',)\n"
     ]
    },
    {
     "name": "stderr",
     "output_type": "stream",
     "text": [
      "2018-09-21 11:36:51,591:WARNING:\n",
      "Failed to read header row 6.\n",
      "2008 01 01 2016 07 08\n",
      "\n",
      "Error msg: IndexError('list index out of range',)\n"
     ]
    },
    {
     "name": "stderr",
     "output_type": "stream",
     "text": [
      "2018-09-21 11:36:51,598:WARNING:\n",
      "Failed to read header row 6.\n",
      "2008 01 01 2016 07 08\n",
      "\n",
      "Error msg: IndexError('list index out of range',)\n"
     ]
    },
    {
     "name": "stderr",
     "output_type": "stream",
     "text": [
      "2018-09-21 11:36:51,605:WARNING:\n",
      "Failed to read header row 6.\n",
      "2008 01 01 2016 07 08\n",
      "\n",
      "Error msg: IndexError('list index out of range',)\n"
     ]
    },
    {
     "name": "stderr",
     "output_type": "stream",
     "text": [
      "2018-09-21 11:36:51,613:WARNING:\n",
      "Failed to read header row 6.\n",
      "2008 01 01 2016 07 08\n",
      "\n",
      "Error msg: IndexError('list index out of range',)\n"
     ]
    },
    {
     "name": "stderr",
     "output_type": "stream",
     "text": [
      "2018-09-21 11:36:51,620:WARNING:\n",
      "Failed to read header row 6.\n",
      "2008 01 01 2016 07 08\n",
      "\n",
      "Error msg: IndexError('list index out of range',)\n"
     ]
    },
    {
     "name": "stderr",
     "output_type": "stream",
     "text": [
      "2018-09-21 11:36:51,627:WARNING:\n",
      "Failed to read header row 6.\n",
      "2008 01 01 2016 07 08\n",
      "\n",
      "Error msg: IndexError('list index out of range',)\n"
     ]
    },
    {
     "name": "stderr",
     "output_type": "stream",
     "text": [
      "2018-09-21 11:36:51,635:WARNING:\n",
      "Failed to read header row 6.\n",
      "2008 01 01 2016 07 08\n",
      "\n",
      "Error msg: IndexError('list index out of range',)\n"
     ]
    },
    {
     "name": "stderr",
     "output_type": "stream",
     "text": [
      "2018-09-21 11:36:51,642:WARNING:\n",
      "Failed to read header row 6.\n",
      "2008 01 01 2016 07 08\n",
      "\n",
      "Error msg: IndexError('list index out of range',)\n"
     ]
    },
    {
     "name": "stderr",
     "output_type": "stream",
     "text": [
      "2018-09-21 11:36:51,649:WARNING:\n",
      "Failed to read header row 6.\n",
      "2008 01 01 2016 07 08\n",
      "\n",
      "Error msg: IndexError('list index out of range',)\n"
     ]
    },
    {
     "name": "stderr",
     "output_type": "stream",
     "text": [
      "2018-09-21 11:36:51,658:WARNING:\n",
      "Failed to read header row 6.\n",
      "2008 01 01 2016 07 08\n",
      "\n",
      "Error msg: IndexError('list index out of range',)\n"
     ]
    },
    {
     "name": "stderr",
     "output_type": "stream",
     "text": [
      "2018-09-21 11:36:51,667:WARNING:\n",
      "Failed to read header row 6.\n",
      "2008 01 01 2016 07 08\n",
      "\n",
      "Error msg: IndexError('list index out of range',)\n"
     ]
    },
    {
     "name": "stderr",
     "output_type": "stream",
     "text": [
      "2018-09-21 11:36:51,675:WARNING:\n",
      "Failed to read header row 6.\n",
      "2008 01 01 2016 07 08\n",
      "\n",
      "Error msg: IndexError('list index out of range',)\n"
     ]
    },
    {
     "name": "stderr",
     "output_type": "stream",
     "text": [
      "2018-09-21 11:36:51,683:WARNING:\n",
      "Failed to read header row 6.\n",
      "2008 01 01 2016 07 08\n",
      "\n",
      "Error msg: IndexError('list index out of range',)\n"
     ]
    },
    {
     "name": "stderr",
     "output_type": "stream",
     "text": [
      "2018-09-21 11:36:51,691:WARNING:\n",
      "Failed to read header row 6.\n",
      "2008 01 01 2016 07 08\n",
      "\n",
      "Error msg: IndexError('list index out of range',)\n"
     ]
    },
    {
     "name": "stderr",
     "output_type": "stream",
     "text": [
      "2018-09-21 11:36:51,701:WARNING:\n",
      "Failed to read header row 6.\n",
      "2008 01 01 2016 07 08\n",
      "\n",
      "Error msg: IndexError('list index out of range',)\n"
     ]
    },
    {
     "name": "stderr",
     "output_type": "stream",
     "text": [
      "2018-09-21 11:36:51,708:WARNING:\n",
      "Failed to read header row 6.\n",
      "2008 01 01 2016 07 08\n",
      "\n",
      "Error msg: IndexError('list index out of range',)\n"
     ]
    },
    {
     "name": "stderr",
     "output_type": "stream",
     "text": [
      "2018-09-21 11:36:51,714:WARNING:\n",
      "Failed to read header row 6.\n",
      "2008 01 01 2016 07 08\n",
      "\n",
      "Error msg: IndexError('list index out of range',)\n"
     ]
    },
    {
     "name": "stderr",
     "output_type": "stream",
     "text": [
      "2018-09-21 11:36:51,720:WARNING:\n",
      "Failed to read header row 6.\n",
      "2008 01 01 2016 07 08\n",
      "\n",
      "Error msg: IndexError('list index out of range',)\n"
     ]
    },
    {
     "name": "stderr",
     "output_type": "stream",
     "text": [
      "2018-09-21 11:36:51,726:WARNING:\n",
      "Failed to read header row 6.\n",
      "2008 01 01 2016 07 08\n",
      "\n",
      "Error msg: IndexError('list index out of range',)\n"
     ]
    },
    {
     "name": "stderr",
     "output_type": "stream",
     "text": [
      "2018-09-21 11:36:51,734:WARNING:\n",
      "Failed to read header row 6.\n",
      "2008 01 01 2016 07 08\n",
      "\n",
      "Error msg: IndexError('list index out of range',)\n"
     ]
    },
    {
     "name": "stderr",
     "output_type": "stream",
     "text": [
      "2018-09-21 11:36:51,742:WARNING:\n",
      "Failed to read header row 6.\n",
      "2008 01 01 2016 07 08\n",
      "\n",
      "Error msg: IndexError('list index out of range',)\n"
     ]
    },
    {
     "name": "stderr",
     "output_type": "stream",
     "text": [
      "2018-09-21 11:36:51,750:WARNING:\n",
      "Failed to read header row 6.\n",
      "2008 01 01 2016 07 08\n",
      "\n",
      "Error msg: IndexError('list index out of range',)\n"
     ]
    },
    {
     "name": "stderr",
     "output_type": "stream",
     "text": [
      "2018-09-21 11:36:51,759:WARNING:\n",
      "Failed to read header row 6.\n",
      "2008 01 01 2016 07 08\n",
      "\n",
      "Error msg: IndexError('list index out of range',)\n"
     ]
    },
    {
     "name": "stderr",
     "output_type": "stream",
     "text": [
      "2018-09-21 11:36:51,767:WARNING:\n",
      "Failed to read header row 6.\n",
      "2008 01 01 2016 07 08\n",
      "\n",
      "Error msg: IndexError('list index out of range',)\n"
     ]
    },
    {
     "name": "stderr",
     "output_type": "stream",
     "text": [
      "2018-09-21 11:36:51,776:WARNING:\n",
      "Failed to read header row 6.\n",
      "2008 01 01 2016 07 08\n",
      "\n",
      "Error msg: IndexError('list index out of range',)\n"
     ]
    },
    {
     "name": "stderr",
     "output_type": "stream",
     "text": [
      "2018-09-21 11:36:51,784:WARNING:\n",
      "Failed to read header row 6.\n",
      "2008 01 01 2016 07 08\n",
      "\n",
      "Error msg: IndexError('list index out of range',)\n"
     ]
    },
    {
     "name": "stderr",
     "output_type": "stream",
     "text": [
      "2018-09-21 11:36:51,792:WARNING:\n",
      "Failed to read header row 6.\n",
      "2008 01 01 2016 07 08\n",
      "\n",
      "Error msg: IndexError('list index out of range',)\n"
     ]
    },
    {
     "name": "stderr",
     "output_type": "stream",
     "text": [
      "2018-09-21 11:36:51,798:WARNING:\n",
      "Failed to read header row 6.\n",
      "2008 01 01 2016 07 08\n",
      "\n",
      "Error msg: IndexError('list index out of range',)\n"
     ]
    },
    {
     "name": "stderr",
     "output_type": "stream",
     "text": [
      "2018-09-21 11:36:51,804:WARNING:\n",
      "Failed to read header row 6.\n",
      "2008 01 01 2016 07 08\n",
      "\n",
      "Error msg: IndexError('list index out of range',)\n"
     ]
    },
    {
     "name": "stderr",
     "output_type": "stream",
     "text": [
      "2018-09-21 11:36:51,811:WARNING:\n",
      "Failed to read header row 6.\n",
      "2008 01 01 2016 07 08\n",
      "\n",
      "Error msg: IndexError('list index out of range',)\n"
     ]
    },
    {
     "name": "stderr",
     "output_type": "stream",
     "text": [
      "2018-09-21 11:36:51,818:WARNING:\n",
      "Failed to read header row 6.\n",
      "2008 01 01 2016 07 08\n",
      "\n",
      "Error msg: IndexError('list index out of range',)\n"
     ]
    },
    {
     "name": "stderr",
     "output_type": "stream",
     "text": [
      "2018-09-21 11:36:51,824:WARNING:\n",
      "Failed to read header row 6.\n",
      "2008 01 01 2016 07 08\n",
      "\n",
      "Error msg: IndexError('list index out of range',)\n"
     ]
    },
    {
     "name": "stderr",
     "output_type": "stream",
     "text": [
      "2018-09-21 11:36:51,832:WARNING:\n",
      "Failed to read header row 6.\n",
      "2008 01 01 2016 07 08\n",
      "\n",
      "Error msg: IndexError('list index out of range',)\n"
     ]
    },
    {
     "name": "stderr",
     "output_type": "stream",
     "text": [
      "2018-09-21 11:36:51,840:WARNING:\n",
      "Failed to read header row 6.\n",
      "2008 01 01 2016 07 08\n",
      "\n",
      "Error msg: IndexError('list index out of range',)\n"
     ]
    },
    {
     "name": "stderr",
     "output_type": "stream",
     "text": [
      "2018-09-21 11:36:51,848:WARNING:\n",
      "Failed to read header row 6.\n",
      "2008 01 01 2016 07 08\n",
      "\n",
      "Error msg: IndexError('list index out of range',)\n"
     ]
    },
    {
     "name": "stderr",
     "output_type": "stream",
     "text": [
      "2018-09-21 11:36:51,856:WARNING:\n",
      "Failed to read header row 6.\n",
      "2008 01 01 2016 07 08\n",
      "\n",
      "Error msg: IndexError('list index out of range',)\n"
     ]
    },
    {
     "name": "stderr",
     "output_type": "stream",
     "text": [
      "2018-09-21 11:36:51,862:WARNING:\n",
      "Failed to read header row 6.\n",
      "2008 01 01 2016 07 08\n",
      "\n",
      "Error msg: IndexError('list index out of range',)\n"
     ]
    },
    {
     "name": "stderr",
     "output_type": "stream",
     "text": [
      "2018-09-21 11:36:51,870:WARNING:\n",
      "Failed to read header row 6.\n",
      "2008 01 01 2016 07 08\n",
      "\n",
      "Error msg: IndexError('list index out of range',)\n"
     ]
    },
    {
     "name": "stderr",
     "output_type": "stream",
     "text": [
      "2018-09-21 11:36:51,878:WARNING:\n",
      "Failed to read header row 6.\n",
      "2008 01 01 2016 07 08\n",
      "\n",
      "Error msg: IndexError('list index out of range',)\n"
     ]
    },
    {
     "name": "stderr",
     "output_type": "stream",
     "text": [
      "2018-09-21 11:36:51,885:WARNING:\n",
      "Failed to read header row 6.\n",
      "2008 01 01 2016 07 08\n",
      "\n",
      "Error msg: IndexError('list index out of range',)\n"
     ]
    },
    {
     "name": "stderr",
     "output_type": "stream",
     "text": [
      "2018-09-21 11:36:51,894:WARNING:\n",
      "Failed to read header row 6.\n",
      "2008 01 01 2016 07 08\n",
      "\n",
      "Error msg: IndexError('list index out of range',)\n"
     ]
    },
    {
     "name": "stderr",
     "output_type": "stream",
     "text": [
      "2018-09-21 11:36:51,902:WARNING:\n",
      "Failed to read header row 6.\n",
      "2008 01 01 2016 07 08\n",
      "\n",
      "Error msg: IndexError('list index out of range',)\n"
     ]
    },
    {
     "name": "stderr",
     "output_type": "stream",
     "text": [
      "2018-09-21 11:36:51,910:WARNING:\n",
      "Failed to read header row 6.\n",
      "2008 01 01 2016 07 08\n",
      "\n",
      "Error msg: IndexError('list index out of range',)\n"
     ]
    },
    {
     "name": "stderr",
     "output_type": "stream",
     "text": [
      "2018-09-21 11:36:51,922:WARNING:\n",
      "Failed to read header row 6.\n",
      "2008 01 01 2016 07 08\n",
      "\n",
      "Error msg: IndexError('list index out of range',)\n"
     ]
    },
    {
     "name": "stderr",
     "output_type": "stream",
     "text": [
      "2018-09-21 11:36:51,931:WARNING:\n",
      "Failed to read header row 6.\n",
      "2008 01 01 2016 07 08\n",
      "\n",
      "Error msg: IndexError('list index out of range',)\n"
     ]
    },
    {
     "name": "stderr",
     "output_type": "stream",
     "text": [
      "2018-09-21 11:36:51,937:WARNING:\n",
      "Failed to read header row 6.\n",
      "2008 01 01 2016 07 08\n",
      "\n",
      "Error msg: IndexError('list index out of range',)\n"
     ]
    },
    {
     "name": "stderr",
     "output_type": "stream",
     "text": [
      "2018-09-21 11:36:51,942:WARNING:\n",
      "Failed to read header row 6.\n",
      "2008 01 01 2016 07 08\n",
      "\n",
      "Error msg: IndexError('list index out of range',)\n"
     ]
    },
    {
     "name": "stderr",
     "output_type": "stream",
     "text": [
      "2018-09-21 11:36:51,947:WARNING:\n",
      "Failed to read header row 6.\n",
      "2008 01 01 2016 07 08\n",
      "\n",
      "Error msg: IndexError('list index out of range',)\n"
     ]
    },
    {
     "name": "stderr",
     "output_type": "stream",
     "text": [
      "2018-09-21 11:36:51,954:WARNING:\n",
      "Failed to read header row 6.\n",
      "2008 01 01 2016 07 08\n",
      "\n",
      "Error msg: IndexError('list index out of range',)\n"
     ]
    },
    {
     "name": "stderr",
     "output_type": "stream",
     "text": [
      "2018-09-21 11:36:51,959:WARNING:\n",
      "Failed to read header row 6.\n",
      "2008 01 01 2016 07 08\n",
      "\n",
      "Error msg: IndexError('list index out of range',)\n"
     ]
    },
    {
     "name": "stderr",
     "output_type": "stream",
     "text": [
      "2018-09-21 11:36:51,964:WARNING:\n",
      "Failed to read header row 6.\n",
      "2008 01 01 2016 07 08\n",
      "\n",
      "Error msg: IndexError('list index out of range',)\n"
     ]
    },
    {
     "name": "stderr",
     "output_type": "stream",
     "text": [
      "2018-09-21 11:36:51,969:WARNING:\n",
      "Failed to read header row 6.\n",
      "2008 01 01 2016 07 08\n",
      "\n",
      "Error msg: IndexError('list index out of range',)\n"
     ]
    },
    {
     "name": "stderr",
     "output_type": "stream",
     "text": [
      "2018-09-21 11:36:51,974:WARNING:\n",
      "Failed to read header row 6.\n",
      "2008 01 01 2016 07 08\n",
      "\n",
      "Error msg: IndexError('list index out of range',)\n"
     ]
    },
    {
     "name": "stderr",
     "output_type": "stream",
     "text": [
      "2018-09-21 11:36:51,979:WARNING:\n",
      "Failed to read header row 6.\n",
      "2008 01 01 2016 07 08\n",
      "\n",
      "Error msg: IndexError('list index out of range',)\n"
     ]
    },
    {
     "name": "stderr",
     "output_type": "stream",
     "text": [
      "2018-09-21 11:36:51,984:WARNING:\n",
      "Failed to read header row 6.\n",
      "2008 01 01 2016 07 08\n",
      "\n",
      "Error msg: IndexError('list index out of range',)\n"
     ]
    },
    {
     "name": "stderr",
     "output_type": "stream",
     "text": [
      "2018-09-21 11:36:51,993:WARNING:\n",
      "Failed to read header row 6.\n",
      "2008 01 01 2016 07 08\n",
      "\n",
      "Error msg: IndexError('list index out of range',)\n"
     ]
    },
    {
     "name": "stderr",
     "output_type": "stream",
     "text": [
      "2018-09-21 11:36:52,001:WARNING:\n",
      "Failed to read header row 6.\n",
      "2008 01 01 2016 07 08\n",
      "\n",
      "Error msg: IndexError('list index out of range',)\n"
     ]
    },
    {
     "name": "stderr",
     "output_type": "stream",
     "text": [
      "2018-09-21 11:36:52,009:WARNING:\n",
      "Failed to read header row 6.\n",
      "2008 01 01 2016 07 08\n",
      "\n",
      "Error msg: IndexError('list index out of range',)\n"
     ]
    },
    {
     "name": "stderr",
     "output_type": "stream",
     "text": [
      "2018-09-21 11:36:52,014:WARNING:\n",
      "Failed to read header row 6.\n",
      "2008 01 01 2016 07 08\n",
      "\n",
      "Error msg: IndexError('list index out of range',)\n"
     ]
    },
    {
     "name": "stderr",
     "output_type": "stream",
     "text": [
      "2018-09-21 11:36:52,018:WARNING:\n",
      "Failed to read header row 6.\n",
      "2008 01 01 2016 07 08\n",
      "\n",
      "Error msg: IndexError('list index out of range',)\n"
     ]
    },
    {
     "name": "stderr",
     "output_type": "stream",
     "text": [
      "2018-09-21 11:36:52,023:WARNING:\n",
      "Failed to read header row 6.\n",
      "2008 01 01 2016 07 08\n",
      "\n",
      "Error msg: IndexError('list index out of range',)\n"
     ]
    },
    {
     "name": "stderr",
     "output_type": "stream",
     "text": [
      "2018-09-21 11:36:52,029:WARNING:\n",
      "Failed to read header row 6.\n",
      "2008 01 01 2016 07 08\n",
      "\n",
      "Error msg: IndexError('list index out of range',)\n"
     ]
    },
    {
     "name": "stderr",
     "output_type": "stream",
     "text": [
      "2018-09-21 11:36:52,035:WARNING:\n",
      "Failed to read header row 6.\n",
      "2008 01 01 2016 07 08\n",
      "\n",
      "Error msg: IndexError('list index out of range',)\n"
     ]
    },
    {
     "name": "stderr",
     "output_type": "stream",
     "text": [
      "2018-09-21 11:36:52,040:WARNING:\n",
      "Failed to read header row 6.\n",
      "2008 01 01 2016 07 08\n",
      "\n",
      "Error msg: IndexError('list index out of range',)\n"
     ]
    },
    {
     "name": "stderr",
     "output_type": "stream",
     "text": [
      "2018-09-21 11:36:52,050:WARNING:\n",
      "Failed to read header row 6.\n",
      "2008 01 01 2016 07 08\n",
      "\n",
      "Error msg: IndexError('list index out of range',)\n"
     ]
    },
    {
     "name": "stderr",
     "output_type": "stream",
     "text": [
      "2018-09-21 11:36:52,058:WARNING:\n",
      "Failed to read header row 6.\n",
      "2008 01 01 2016 07 08\n",
      "\n",
      "Error msg: IndexError('list index out of range',)\n"
     ]
    },
    {
     "name": "stderr",
     "output_type": "stream",
     "text": [
      "2018-09-21 11:36:52,063:WARNING:\n",
      "Failed to read header row 6.\n",
      "2008 01 01 2016 07 08\n",
      "\n",
      "Error msg: IndexError('list index out of range',)\n"
     ]
    },
    {
     "name": "stderr",
     "output_type": "stream",
     "text": [
      "2018-09-21 11:36:52,068:WARNING:\n",
      "Failed to read header row 6.\n",
      "2008 01 01 2016 07 08\n",
      "\n",
      "Error msg: IndexError('list index out of range',)\n"
     ]
    },
    {
     "name": "stderr",
     "output_type": "stream",
     "text": [
      "2018-09-21 11:36:52,073:WARNING:\n",
      "Failed to read header row 6.\n",
      "2008 01 01 2016 07 08\n",
      "\n",
      "Error msg: IndexError('list index out of range',)\n"
     ]
    },
    {
     "name": "stderr",
     "output_type": "stream",
     "text": [
      "2018-09-21 11:36:52,078:WARNING:\n",
      "Failed to read header row 6.\n",
      "2008 01 01 2016 07 08\n",
      "\n",
      "Error msg: IndexError('list index out of range',)\n"
     ]
    },
    {
     "name": "stderr",
     "output_type": "stream",
     "text": [
      "2018-09-21 11:36:52,084:WARNING:\n",
      "Failed to read header row 6.\n",
      "2008 01 01 2016 07 08\n",
      "\n",
      "Error msg: IndexError('list index out of range',)\n"
     ]
    },
    {
     "name": "stderr",
     "output_type": "stream",
     "text": [
      "2018-09-21 11:36:52,092:WARNING:\n",
      "Failed to read header row 6.\n",
      "2008 01 01 2016 07 08\n",
      "\n",
      "Error msg: IndexError('list index out of range',)\n"
     ]
    },
    {
     "name": "stderr",
     "output_type": "stream",
     "text": [
      "2018-09-21 11:36:52,098:WARNING:\n",
      "Failed to read header row 6.\n",
      "2008 01 01 2016 07 08\n",
      "\n",
      "Error msg: IndexError('list index out of range',)\n"
     ]
    },
    {
     "name": "stderr",
     "output_type": "stream",
     "text": [
      "2018-09-21 11:36:52,103:WARNING:\n",
      "Failed to read header row 6.\n",
      "2008 01 01 2016 07 08\n",
      "\n",
      "Error msg: IndexError('list index out of range',)\n"
     ]
    },
    {
     "name": "stderr",
     "output_type": "stream",
     "text": [
      "2018-09-21 11:36:52,108:WARNING:\n",
      "Failed to read header row 6.\n",
      "2008 01 01 2016 07 08\n",
      "\n",
      "Error msg: IndexError('list index out of range',)\n"
     ]
    },
    {
     "name": "stderr",
     "output_type": "stream",
     "text": [
      "2018-09-21 11:36:52,113:WARNING:\n",
      "Failed to read header row 6.\n",
      "2008 01 01 2016 07 08\n",
      "\n",
      "Error msg: IndexError('list index out of range',)\n"
     ]
    },
    {
     "name": "stderr",
     "output_type": "stream",
     "text": [
      "2018-09-21 11:36:52,117:WARNING:\n",
      "Failed to read header row 6.\n",
      "2008 01 01 2016 07 08\n",
      "\n",
      "Error msg: IndexError('list index out of range',)\n"
     ]
    },
    {
     "name": "stderr",
     "output_type": "stream",
     "text": [
      "2018-09-21 11:36:52,123:WARNING:\n",
      "Failed to read header row 6.\n",
      "2008 01 01 2016 07 08\n",
      "\n",
      "Error msg: IndexError('list index out of range',)\n"
     ]
    },
    {
     "name": "stderr",
     "output_type": "stream",
     "text": [
      "2018-09-21 11:36:52,129:WARNING:\n",
      "Failed to read header row 6.\n",
      "2008 01 01 2016 07 08\n",
      "\n",
      "Error msg: IndexError('list index out of range',)\n"
     ]
    },
    {
     "name": "stderr",
     "output_type": "stream",
     "text": [
      "2018-09-21 11:36:52,134:WARNING:\n",
      "Failed to read header row 6.\n",
      "2008 01 01 2016 07 08\n",
      "\n",
      "Error msg: IndexError('list index out of range',)\n"
     ]
    },
    {
     "name": "stderr",
     "output_type": "stream",
     "text": [
      "2018-09-21 11:36:52,140:WARNING:\n",
      "Failed to read header row 6.\n",
      "2008 01 01 2016 07 08\n",
      "\n",
      "Error msg: IndexError('list index out of range',)\n"
     ]
    },
    {
     "name": "stderr",
     "output_type": "stream",
     "text": [
      "2018-09-21 11:36:52,146:WARNING:\n",
      "Failed to read header row 6.\n",
      "2008 01 01 2016 07 08\n",
      "\n",
      "Error msg: IndexError('list index out of range',)\n"
     ]
    },
    {
     "name": "stderr",
     "output_type": "stream",
     "text": [
      "2018-09-21 11:36:52,151:WARNING:\n",
      "Failed to read header row 6.\n",
      "2008 01 01 2016 07 08\n",
      "\n",
      "Error msg: IndexError('list index out of range',)\n"
     ]
    },
    {
     "name": "stderr",
     "output_type": "stream",
     "text": [
      "2018-09-21 11:36:52,156:WARNING:\n",
      "Failed to read header row 6.\n",
      "2008 01 01 2016 07 08\n",
      "\n",
      "Error msg: IndexError('list index out of range',)\n"
     ]
    },
    {
     "name": "stderr",
     "output_type": "stream",
     "text": [
      "2018-09-21 11:36:52,161:WARNING:\n",
      "Failed to read header row 6.\n",
      "2008 01 01 2016 07 08\n",
      "\n",
      "Error msg: IndexError('list index out of range',)\n"
     ]
    },
    {
     "name": "stderr",
     "output_type": "stream",
     "text": [
      "2018-09-21 11:36:52,166:WARNING:\n",
      "Failed to read header row 6.\n",
      "2008 01 01 2016 07 08\n",
      "\n",
      "Error msg: IndexError('list index out of range',)\n"
     ]
    },
    {
     "name": "stderr",
     "output_type": "stream",
     "text": [
      "2018-09-21 11:36:52,171:WARNING:\n",
      "Failed to read header row 6.\n",
      "2008 01 01 2016 07 08\n",
      "\n",
      "Error msg: IndexError('list index out of range',)\n"
     ]
    },
    {
     "name": "stderr",
     "output_type": "stream",
     "text": [
      "2018-09-21 11:36:52,176:WARNING:\n",
      "Failed to read header row 6.\n",
      "2008 01 01 2016 07 08\n",
      "\n",
      "Error msg: IndexError('list index out of range',)\n"
     ]
    },
    {
     "name": "stderr",
     "output_type": "stream",
     "text": [
      "2018-09-21 11:36:52,182:WARNING:\n",
      "Failed to read header row 6.\n",
      "2008 01 01 2016 07 08\n",
      "\n",
      "Error msg: IndexError('list index out of range',)\n"
     ]
    },
    {
     "name": "stderr",
     "output_type": "stream",
     "text": [
      "2018-09-21 11:36:52,187:WARNING:\n",
      "Failed to read header row 6.\n",
      "2008 01 01 2016 07 08\n",
      "\n",
      "Error msg: IndexError('list index out of range',)\n"
     ]
    },
    {
     "name": "stderr",
     "output_type": "stream",
     "text": [
      "2018-09-21 11:36:52,193:WARNING:\n",
      "Failed to read header row 6.\n",
      "2008 01 01 2016 07 08\n",
      "\n",
      "Error msg: IndexError('list index out of range',)\n"
     ]
    },
    {
     "name": "stderr",
     "output_type": "stream",
     "text": [
      "2018-09-21 11:36:52,199:WARNING:\n",
      "Failed to read header row 6.\n",
      "2008 01 01 2016 07 08\n",
      "\n",
      "Error msg: IndexError('list index out of range',)\n"
     ]
    },
    {
     "name": "stderr",
     "output_type": "stream",
     "text": [
      "2018-09-21 11:36:52,204:WARNING:\n",
      "Failed to read header row 6.\n",
      "2008 01 01 2016 07 08\n",
      "\n",
      "Error msg: IndexError('list index out of range',)\n"
     ]
    },
    {
     "name": "stderr",
     "output_type": "stream",
     "text": [
      "2018-09-21 11:36:52,210:WARNING:\n",
      "Failed to read header row 6.\n",
      "2008 01 01 2016 07 08\n",
      "\n",
      "Error msg: IndexError('list index out of range',)\n"
     ]
    },
    {
     "name": "stderr",
     "output_type": "stream",
     "text": [
      "2018-09-21 11:36:52,215:WARNING:\n",
      "Failed to read header row 6.\n",
      "2008 01 01 2016 07 08\n",
      "\n",
      "Error msg: IndexError('list index out of range',)\n"
     ]
    },
    {
     "name": "stderr",
     "output_type": "stream",
     "text": [
      "2018-09-21 11:36:52,223:WARNING:\n",
      "Failed to read header row 6.\n",
      "2008 01 01 2016 07 08\n",
      "\n",
      "Error msg: IndexError('list index out of range',)\n"
     ]
    },
    {
     "name": "stderr",
     "output_type": "stream",
     "text": [
      "2018-09-21 11:36:52,231:WARNING:\n",
      "Failed to read header row 6.\n",
      "2008 01 01 2016 07 08\n",
      "\n",
      "Error msg: IndexError('list index out of range',)\n"
     ]
    },
    {
     "name": "stderr",
     "output_type": "stream",
     "text": [
      "2018-09-21 11:36:52,238:WARNING:\n",
      "Failed to read header row 6.\n",
      "2008 01 01 2016 07 08\n",
      "\n",
      "Error msg: IndexError('list index out of range',)\n"
     ]
    },
    {
     "name": "stderr",
     "output_type": "stream",
     "text": [
      "2018-09-21 11:36:52,246:WARNING:\n",
      "Failed to read header row 6.\n",
      "2008 01 01 2016 07 08\n",
      "\n",
      "Error msg: IndexError('list index out of range',)\n"
     ]
    },
    {
     "name": "stderr",
     "output_type": "stream",
     "text": [
      "2018-09-21 11:36:52,253:WARNING:\n",
      "Failed to read header row 6.\n",
      "2008 01 01 2016 07 08\n",
      "\n",
      "Error msg: IndexError('list index out of range',)\n"
     ]
    },
    {
     "name": "stderr",
     "output_type": "stream",
     "text": [
      "2018-09-21 11:36:52,260:WARNING:\n",
      "Failed to read header row 6.\n",
      "2008 01 01 2016 07 08\n",
      "\n",
      "Error msg: IndexError('list index out of range',)\n"
     ]
    },
    {
     "name": "stderr",
     "output_type": "stream",
     "text": [
      "2018-09-21 11:36:52,266:WARNING:\n",
      "Failed to read header row 6.\n",
      "2008 01 01 2016 07 08\n",
      "\n",
      "Error msg: IndexError('list index out of range',)\n"
     ]
    },
    {
     "name": "stderr",
     "output_type": "stream",
     "text": [
      "2018-09-21 11:36:52,273:WARNING:\n",
      "Failed to read header row 6.\n",
      "2008 01 01 2016 07 08\n",
      "\n",
      "Error msg: IndexError('list index out of range',)\n"
     ]
    },
    {
     "name": "stderr",
     "output_type": "stream",
     "text": [
      "2018-09-21 11:36:52,280:WARNING:\n",
      "Failed to read header row 6.\n",
      "2008 01 01 2016 07 08\n",
      "\n",
      "Error msg: IndexError('list index out of range',)\n"
     ]
    },
    {
     "name": "stderr",
     "output_type": "stream",
     "text": [
      "2018-09-21 11:36:52,287:WARNING:\n",
      "Failed to read header row 6.\n",
      "2008 01 01 2016 07 08\n",
      "\n",
      "Error msg: IndexError('list index out of range',)\n"
     ]
    },
    {
     "name": "stderr",
     "output_type": "stream",
     "text": [
      "2018-09-21 11:36:52,294:WARNING:\n",
      "Failed to read header row 6.\n",
      "2008 01 01 2016 07 08\n",
      "\n",
      "Error msg: IndexError('list index out of range',)\n"
     ]
    },
    {
     "name": "stderr",
     "output_type": "stream",
     "text": [
      "2018-09-21 11:36:52,301:WARNING:\n",
      "Failed to read header row 6.\n",
      "2008 01 01 2016 07 08\n",
      "\n",
      "Error msg: IndexError('list index out of range',)\n"
     ]
    },
    {
     "name": "stderr",
     "output_type": "stream",
     "text": [
      "2018-09-21 11:36:52,308:WARNING:\n",
      "Failed to read header row 6.\n",
      "2008 01 01 2016 07 08\n",
      "\n",
      "Error msg: IndexError('list index out of range',)\n"
     ]
    },
    {
     "name": "stderr",
     "output_type": "stream",
     "text": [
      "2018-09-21 11:36:52,316:WARNING:\n",
      "Failed to read header row 6.\n",
      "2008 01 01 2016 07 08\n",
      "\n",
      "Error msg: IndexError('list index out of range',)\n"
     ]
    },
    {
     "name": "stderr",
     "output_type": "stream",
     "text": [
      "2018-09-21 11:36:52,325:WARNING:\n",
      "Failed to read header row 6.\n",
      "2008 01 01 2016 07 08\n",
      "\n",
      "Error msg: IndexError('list index out of range',)\n"
     ]
    },
    {
     "name": "stderr",
     "output_type": "stream",
     "text": [
      "2018-09-21 11:36:52,333:WARNING:\n",
      "Failed to read header row 6.\n",
      "2008 01 01 2016 07 08\n",
      "\n",
      "Error msg: IndexError('list index out of range',)\n"
     ]
    },
    {
     "name": "stderr",
     "output_type": "stream",
     "text": [
      "2018-09-21 11:36:52,340:WARNING:\n",
      "Failed to read header row 6.\n",
      "2008 01 01 2016 07 08\n",
      "\n",
      "Error msg: IndexError('list index out of range',)\n"
     ]
    },
    {
     "name": "stderr",
     "output_type": "stream",
     "text": [
      "2018-09-21 11:36:52,348:WARNING:\n",
      "Failed to read header row 6.\n",
      "2008 01 01 2016 07 08\n",
      "\n",
      "Error msg: IndexError('list index out of range',)\n"
     ]
    },
    {
     "name": "stderr",
     "output_type": "stream",
     "text": [
      "2018-09-21 11:36:52,356:WARNING:\n",
      "Failed to read header row 6.\n",
      "2008 01 01 2016 07 08\n",
      "\n",
      "Error msg: IndexError('list index out of range',)\n"
     ]
    },
    {
     "name": "stderr",
     "output_type": "stream",
     "text": [
      "2018-09-21 11:36:52,367:WARNING:\n",
      "Failed to read header row 6.\n",
      "2008 01 01 2016 07 08\n",
      "\n",
      "Error msg: IndexError('list index out of range',)\n"
     ]
    },
    {
     "name": "stderr",
     "output_type": "stream",
     "text": [
      "2018-09-21 11:36:52,374:WARNING:\n",
      "Failed to read header row 6.\n",
      "2008 01 01 2016 07 08\n",
      "\n",
      "Error msg: IndexError('list index out of range',)\n"
     ]
    },
    {
     "name": "stderr",
     "output_type": "stream",
     "text": [
      "2018-09-21 11:36:52,382:WARNING:\n",
      "Failed to read header row 6.\n",
      "2008 01 01 2016 07 08\n",
      "\n",
      "Error msg: IndexError('list index out of range',)\n"
     ]
    },
    {
     "name": "stderr",
     "output_type": "stream",
     "text": [
      "2018-09-21 11:36:52,389:WARNING:\n",
      "Failed to read header row 6.\n",
      "2008 01 01 2016 07 08\n",
      "\n",
      "Error msg: IndexError('list index out of range',)\n"
     ]
    },
    {
     "name": "stderr",
     "output_type": "stream",
     "text": [
      "2018-09-21 11:36:52,397:WARNING:\n",
      "Failed to read header row 6.\n",
      "2008 01 01 2016 07 08\n",
      "\n",
      "Error msg: IndexError('list index out of range',)\n"
     ]
    },
    {
     "name": "stderr",
     "output_type": "stream",
     "text": [
      "2018-09-21 11:36:52,405:WARNING:\n",
      "Failed to read header row 6.\n",
      "2008 01 01 2016 07 08\n",
      "\n",
      "Error msg: IndexError('list index out of range',)\n"
     ]
    },
    {
     "name": "stderr",
     "output_type": "stream",
     "text": [
      "2018-09-21 11:36:52,413:WARNING:\n",
      "Failed to read header row 6.\n",
      "2008 01 01 2016 07 08\n",
      "\n",
      "Error msg: IndexError('list index out of range',)\n"
     ]
    },
    {
     "name": "stderr",
     "output_type": "stream",
     "text": [
      "2018-09-21 11:36:52,421:WARNING:\n",
      "Failed to read header row 6.\n",
      "2008 01 01 2016 07 08\n",
      "\n",
      "Error msg: IndexError('list index out of range',)\n"
     ]
    },
    {
     "name": "stderr",
     "output_type": "stream",
     "text": [
      "2018-09-21 11:36:52,429:WARNING:\n",
      "Failed to read header row 6.\n",
      "2008 01 01 2016 07 08\n",
      "\n",
      "Error msg: IndexError('list index out of range',)\n"
     ]
    },
    {
     "name": "stderr",
     "output_type": "stream",
     "text": [
      "2018-09-21 11:36:52,437:WARNING:\n",
      "Failed to read header row 6.\n",
      "2008 01 01 2016 07 08\n",
      "\n",
      "Error msg: IndexError('list index out of range',)\n"
     ]
    },
    {
     "name": "stderr",
     "output_type": "stream",
     "text": [
      "2018-09-21 11:36:52,445:WARNING:\n",
      "Failed to read header row 6.\n",
      "2008 01 01 2016 07 08\n",
      "\n",
      "Error msg: IndexError('list index out of range',)\n"
     ]
    },
    {
     "name": "stderr",
     "output_type": "stream",
     "text": [
      "2018-09-21 11:36:52,452:WARNING:\n",
      "Failed to read header row 6.\n",
      "2008 01 01 2016 07 08\n",
      "\n",
      "Error msg: IndexError('list index out of range',)\n"
     ]
    },
    {
     "name": "stderr",
     "output_type": "stream",
     "text": [
      "2018-09-21 11:36:52,459:WARNING:\n",
      "Failed to read header row 6.\n",
      "2008 01 01 2016 07 08\n",
      "\n",
      "Error msg: IndexError('list index out of range',)\n"
     ]
    },
    {
     "name": "stderr",
     "output_type": "stream",
     "text": [
      "2018-09-21 11:36:52,466:WARNING:\n",
      "Failed to read header row 6.\n",
      "2008 01 01 2016 07 08\n",
      "\n",
      "Error msg: IndexError('list index out of range',)\n"
     ]
    },
    {
     "name": "stderr",
     "output_type": "stream",
     "text": [
      "2018-09-21 11:36:52,473:WARNING:\n",
      "Failed to read header row 6.\n",
      "2008 01 01 2016 07 08\n",
      "\n",
      "Error msg: IndexError('list index out of range',)\n"
     ]
    },
    {
     "name": "stderr",
     "output_type": "stream",
     "text": [
      "2018-09-21 11:36:52,480:WARNING:\n",
      "Failed to read header row 6.\n",
      "2008 01 01 2016 07 08\n",
      "\n",
      "Error msg: IndexError('list index out of range',)\n"
     ]
    },
    {
     "name": "stderr",
     "output_type": "stream",
     "text": [
      "2018-09-21 11:36:52,488:WARNING:\n",
      "Failed to read header row 6.\n",
      "2008 01 01 2016 07 08\n",
      "\n",
      "Error msg: IndexError('list index out of range',)\n"
     ]
    },
    {
     "name": "stderr",
     "output_type": "stream",
     "text": [
      "2018-09-21 11:36:52,495:WARNING:\n",
      "Failed to read header row 6.\n",
      "2008 01 01 2016 07 08\n",
      "\n",
      "Error msg: IndexError('list index out of range',)\n"
     ]
    },
    {
     "name": "stderr",
     "output_type": "stream",
     "text": [
      "2018-09-21 11:36:52,502:WARNING:\n",
      "Failed to read header row 6.\n",
      "2008 01 01 2016 07 08\n",
      "\n",
      "Error msg: IndexError('list index out of range',)\n"
     ]
    },
    {
     "name": "stderr",
     "output_type": "stream",
     "text": [
      "2018-09-21 11:36:52,510:WARNING:\n",
      "Failed to read header row 6.\n",
      "2008 01 01 2016 07 08\n",
      "\n",
      "Error msg: IndexError('list index out of range',)\n"
     ]
    },
    {
     "name": "stderr",
     "output_type": "stream",
     "text": [
      "2018-09-21 11:36:52,516:WARNING:\n",
      "Failed to read header row 6.\n",
      "2008 01 01 2016 07 08\n",
      "\n",
      "Error msg: IndexError('list index out of range',)\n"
     ]
    },
    {
     "name": "stderr",
     "output_type": "stream",
     "text": [
      "2018-09-21 11:36:52,523:WARNING:\n",
      "Failed to read header row 6.\n",
      "2008 01 01 2016 07 08\n",
      "\n",
      "Error msg: IndexError('list index out of range',)\n"
     ]
    },
    {
     "name": "stderr",
     "output_type": "stream",
     "text": [
      "2018-09-21 11:36:52,528:WARNING:\n",
      "Failed to read header row 6.\n",
      "2008 01 01 2016 07 08\n",
      "\n",
      "Error msg: IndexError('list index out of range',)\n"
     ]
    },
    {
     "name": "stderr",
     "output_type": "stream",
     "text": [
      "2018-09-21 11:36:52,534:WARNING:\n",
      "Failed to read header row 6.\n",
      "2008 01 01 2016 07 08\n",
      "\n",
      "Error msg: IndexError('list index out of range',)\n"
     ]
    },
    {
     "name": "stderr",
     "output_type": "stream",
     "text": [
      "2018-09-21 11:36:52,542:WARNING:\n",
      "Failed to read header row 6.\n",
      "2008 01 01 2016 07 08\n",
      "\n",
      "Error msg: IndexError('list index out of range',)\n"
     ]
    },
    {
     "name": "stderr",
     "output_type": "stream",
     "text": [
      "2018-09-21 11:36:52,547:WARNING:\n",
      "Failed to read header row 6.\n",
      "2008 01 01 2016 07 08\n",
      "\n",
      "Error msg: IndexError('list index out of range',)\n"
     ]
    },
    {
     "name": "stderr",
     "output_type": "stream",
     "text": [
      "2018-09-21 11:36:52,552:WARNING:\n",
      "Failed to read header row 6.\n",
      "2008 01 01 2016 07 08\n",
      "\n",
      "Error msg: IndexError('list index out of range',)\n"
     ]
    },
    {
     "name": "stderr",
     "output_type": "stream",
     "text": [
      "2018-09-21 11:36:52,558:WARNING:\n",
      "Failed to read header row 6.\n",
      "2008 01 01 2016 07 08\n",
      "\n",
      "Error msg: IndexError('list index out of range',)\n"
     ]
    },
    {
     "name": "stderr",
     "output_type": "stream",
     "text": [
      "2018-09-21 11:36:52,563:WARNING:\n",
      "Failed to read header row 6.\n",
      "2008 01 01 2016 07 08\n",
      "\n",
      "Error msg: IndexError('list index out of range',)\n"
     ]
    },
    {
     "name": "stderr",
     "output_type": "stream",
     "text": [
      "2018-09-21 11:36:52,568:WARNING:\n",
      "Failed to read header row 6.\n",
      "2008 01 01 2016 07 08\n",
      "\n",
      "Error msg: IndexError('list index out of range',)\n"
     ]
    },
    {
     "name": "stderr",
     "output_type": "stream",
     "text": [
      "2018-09-21 11:36:52,574:WARNING:\n",
      "Failed to read header row 6.\n",
      "2008 01 01 2016 07 08\n",
      "\n",
      "Error msg: IndexError('list index out of range',)\n"
     ]
    },
    {
     "name": "stderr",
     "output_type": "stream",
     "text": [
      "2018-09-21 11:36:52,580:WARNING:\n",
      "Failed to read header row 6.\n",
      "2008 01 01 2016 07 08\n",
      "\n",
      "Error msg: IndexError('list index out of range',)\n"
     ]
    },
    {
     "name": "stderr",
     "output_type": "stream",
     "text": [
      "2018-09-21 11:36:52,585:WARNING:\n",
      "Failed to read header row 6.\n",
      "2008 01 01 2016 07 08\n",
      "\n",
      "Error msg: IndexError('list index out of range',)\n"
     ]
    },
    {
     "name": "stderr",
     "output_type": "stream",
     "text": [
      "2018-09-21 11:36:52,593:WARNING:\n",
      "Failed to read header row 6.\n",
      "2008 01 01 2016 07 08\n",
      "\n",
      "Error msg: IndexError('list index out of range',)\n"
     ]
    },
    {
     "name": "stderr",
     "output_type": "stream",
     "text": [
      "2018-09-21 11:36:52,599:WARNING:\n",
      "Failed to read header row 6.\n",
      "2008 01 01 2016 07 08\n",
      "\n",
      "Error msg: IndexError('list index out of range',)\n"
     ]
    },
    {
     "name": "stderr",
     "output_type": "stream",
     "text": [
      "2018-09-21 11:36:52,603:WARNING:\n",
      "Failed to read header row 6.\n",
      "2008 01 01 2016 07 08\n",
      "\n",
      "Error msg: IndexError('list index out of range',)\n"
     ]
    },
    {
     "name": "stderr",
     "output_type": "stream",
     "text": [
      "2018-09-21 11:36:52,607:WARNING:\n",
      "Failed to read header row 6.\n",
      "2008 01 01 2016 07 08\n",
      "\n",
      "Error msg: IndexError('list index out of range',)\n"
     ]
    },
    {
     "name": "stderr",
     "output_type": "stream",
     "text": [
      "2018-09-21 11:36:52,612:WARNING:\n",
      "Failed to read header row 6.\n",
      "2008 01 01 2016 07 08\n",
      "\n",
      "Error msg: IndexError('list index out of range',)\n"
     ]
    },
    {
     "name": "stderr",
     "output_type": "stream",
     "text": [
      "2018-09-21 11:36:52,618:WARNING:\n",
      "Failed to read header row 6.\n",
      "2008 01 01 2016 07 08\n",
      "\n",
      "Error msg: IndexError('list index out of range',)\n"
     ]
    },
    {
     "name": "stderr",
     "output_type": "stream",
     "text": [
      "2018-09-21 11:36:52,623:WARNING:\n",
      "Failed to read header row 6.\n",
      "2008 01 01 2016 07 08\n",
      "\n",
      "Error msg: IndexError('list index out of range',)\n"
     ]
    },
    {
     "name": "stderr",
     "output_type": "stream",
     "text": [
      "2018-09-21 11:36:52,628:WARNING:\n",
      "Failed to read header row 6.\n",
      "2008 01 01 2016 07 08\n",
      "\n",
      "Error msg: IndexError('list index out of range',)\n"
     ]
    },
    {
     "name": "stderr",
     "output_type": "stream",
     "text": [
      "2018-09-21 11:36:52,633:WARNING:\n",
      "Failed to read header row 6.\n",
      "2008 01 01 2016 07 08\n",
      "\n",
      "Error msg: IndexError('list index out of range',)\n"
     ]
    },
    {
     "name": "stderr",
     "output_type": "stream",
     "text": [
      "2018-09-21 11:36:52,637:WARNING:\n",
      "Failed to read header row 6.\n",
      "2008 01 01 2016 07 08\n",
      "\n",
      "Error msg: IndexError('list index out of range',)\n"
     ]
    },
    {
     "name": "stderr",
     "output_type": "stream",
     "text": [
      "2018-09-21 11:36:52,642:WARNING:\n",
      "Failed to read header row 6.\n",
      "2008 01 01 2016 07 08\n",
      "\n",
      "Error msg: IndexError('list index out of range',)\n"
     ]
    },
    {
     "name": "stderr",
     "output_type": "stream",
     "text": [
      "2018-09-21 11:36:52,648:WARNING:\n",
      "Failed to read header row 6.\n",
      "2008 01 01 2016 07 08\n",
      "\n",
      "Error msg: IndexError('list index out of range',)\n"
     ]
    },
    {
     "name": "stderr",
     "output_type": "stream",
     "text": [
      "2018-09-21 11:36:52,653:WARNING:\n",
      "Failed to read header row 6.\n",
      "2008 01 01 2016 07 08\n",
      "\n",
      "Error msg: IndexError('list index out of range',)\n"
     ]
    },
    {
     "name": "stderr",
     "output_type": "stream",
     "text": [
      "2018-09-21 11:36:52,659:WARNING:\n",
      "Failed to read header row 6.\n",
      "2008 01 01 2016 07 08\n",
      "\n",
      "Error msg: IndexError('list index out of range',)\n"
     ]
    },
    {
     "name": "stderr",
     "output_type": "stream",
     "text": [
      "2018-09-21 11:36:52,664:WARNING:\n",
      "Failed to read header row 6.\n",
      "2008 01 01 2016 07 08\n",
      "\n",
      "Error msg: IndexError('list index out of range',)\n"
     ]
    },
    {
     "name": "stderr",
     "output_type": "stream",
     "text": [
      "2018-09-21 11:36:52,669:WARNING:\n",
      "Failed to read header row 6.\n",
      "2008 01 01 2016 07 08\n",
      "\n",
      "Error msg: IndexError('list index out of range',)\n"
     ]
    },
    {
     "name": "stderr",
     "output_type": "stream",
     "text": [
      "2018-09-21 11:36:52,675:WARNING:\n",
      "Failed to read header row 6.\n",
      "2008 01 01 2016 07 08\n",
      "\n",
      "Error msg: IndexError('list index out of range',)\n"
     ]
    },
    {
     "name": "stderr",
     "output_type": "stream",
     "text": [
      "2018-09-21 11:36:52,679:WARNING:\n",
      "Failed to read header row 6.\n",
      "2008 01 01 2016 07 08\n",
      "\n",
      "Error msg: IndexError('list index out of range',)\n"
     ]
    },
    {
     "name": "stderr",
     "output_type": "stream",
     "text": [
      "2018-09-21 11:36:52,684:WARNING:\n",
      "Failed to read header row 6.\n",
      "2008 01 01 2016 07 08\n",
      "\n",
      "Error msg: IndexError('list index out of range',)\n"
     ]
    },
    {
     "name": "stderr",
     "output_type": "stream",
     "text": [
      "2018-09-21 11:36:52,688:WARNING:\n",
      "Failed to read header row 6.\n",
      "2008 01 01 2016 07 08\n",
      "\n",
      "Error msg: IndexError('list index out of range',)\n"
     ]
    },
    {
     "name": "stderr",
     "output_type": "stream",
     "text": [
      "2018-09-21 11:36:52,693:WARNING:\n",
      "Failed to read header row 6.\n",
      "2008 01 01 2016 07 08\n",
      "\n",
      "Error msg: IndexError('list index out of range',)\n"
     ]
    },
    {
     "name": "stderr",
     "output_type": "stream",
     "text": [
      "2018-09-21 11:36:52,698:WARNING:\n",
      "Failed to read header row 6.\n",
      "2008 01 01 2016 07 08\n",
      "\n",
      "Error msg: IndexError('list index out of range',)\n"
     ]
    },
    {
     "name": "stderr",
     "output_type": "stream",
     "text": [
      "2018-09-21 11:36:52,704:WARNING:\n",
      "Failed to read header row 6.\n",
      "2008 01 01 2016 07 08\n",
      "\n",
      "Error msg: IndexError('list index out of range',)\n"
     ]
    },
    {
     "name": "stderr",
     "output_type": "stream",
     "text": [
      "2018-09-21 11:36:52,709:WARNING:\n",
      "Failed to read header row 6.\n",
      "2008 01 01 2016 07 08\n",
      "\n",
      "Error msg: IndexError('list index out of range',)\n"
     ]
    },
    {
     "name": "stderr",
     "output_type": "stream",
     "text": [
      "2018-09-21 11:36:52,714:WARNING:\n",
      "Failed to read header row 6.\n",
      "2008 01 01 2016 07 08\n",
      "\n",
      "Error msg: IndexError('list index out of range',)\n"
     ]
    },
    {
     "name": "stderr",
     "output_type": "stream",
     "text": [
      "2018-09-21 11:36:52,719:WARNING:\n",
      "Failed to read header row 6.\n",
      "2008 01 01 2016 07 08\n",
      "\n",
      "Error msg: IndexError('list index out of range',)\n"
     ]
    },
    {
     "name": "stderr",
     "output_type": "stream",
     "text": [
      "2018-09-21 11:36:52,724:WARNING:\n",
      "Failed to read header row 6.\n",
      "2008 01 01 2016 07 08\n",
      "\n",
      "Error msg: IndexError('list index out of range',)\n"
     ]
    },
    {
     "name": "stderr",
     "output_type": "stream",
     "text": [
      "2018-09-21 11:36:52,730:WARNING:\n",
      "Failed to read header row 6.\n",
      "2008 01 01 2016 07 08\n",
      "\n",
      "Error msg: IndexError('list index out of range',)\n"
     ]
    },
    {
     "name": "stderr",
     "output_type": "stream",
     "text": [
      "2018-09-21 11:36:52,736:WARNING:\n",
      "Failed to read header row 6.\n",
      "2008 01 01 2016 07 08\n",
      "\n",
      "Error msg: IndexError('list index out of range',)\n"
     ]
    },
    {
     "name": "stderr",
     "output_type": "stream",
     "text": [
      "2018-09-21 11:36:52,744:WARNING:\n",
      "Failed to read header row 6.\n",
      "2008 01 01 2016 07 08\n",
      "\n",
      "Error msg: IndexError('list index out of range',)\n"
     ]
    },
    {
     "name": "stderr",
     "output_type": "stream",
     "text": [
      "2018-09-21 11:36:52,752:WARNING:\n",
      "Failed to read header row 6.\n",
      "2008 01 01 2016 07 08\n",
      "\n",
      "Error msg: IndexError('list index out of range',)\n"
     ]
    },
    {
     "name": "stderr",
     "output_type": "stream",
     "text": [
      "2018-09-21 11:36:52,760:WARNING:\n",
      "Failed to read header row 6.\n",
      "2008 01 01 2016 07 08\n",
      "\n",
      "Error msg: IndexError('list index out of range',)\n"
     ]
    },
    {
     "name": "stderr",
     "output_type": "stream",
     "text": [
      "2018-09-21 11:36:52,767:WARNING:\n",
      "Failed to read header row 6.\n",
      "2008 01 01 2016 07 08\n",
      "\n",
      "Error msg: IndexError('list index out of range',)\n"
     ]
    },
    {
     "name": "stderr",
     "output_type": "stream",
     "text": [
      "2018-09-21 11:36:52,774:WARNING:\n",
      "Failed to read header row 6.\n",
      "2008 01 01 2016 07 08\n",
      "\n",
      "Error msg: IndexError('list index out of range',)\n"
     ]
    },
    {
     "name": "stderr",
     "output_type": "stream",
     "text": [
      "2018-09-21 11:36:52,782:WARNING:\n",
      "Failed to read header row 6.\n",
      "2008 01 01 2016 07 08\n",
      "\n",
      "Error msg: IndexError('list index out of range',)\n"
     ]
    },
    {
     "name": "stderr",
     "output_type": "stream",
     "text": [
      "2018-09-21 11:36:52,789:WARNING:\n",
      "Failed to read header row 6.\n",
      "2008 01 01 2016 07 08\n",
      "\n",
      "Error msg: IndexError('list index out of range',)\n"
     ]
    },
    {
     "name": "stderr",
     "output_type": "stream",
     "text": [
      "2018-09-21 11:36:52,798:WARNING:\n",
      "Failed to read header row 6.\n",
      "2008 01 01 2016 07 08\n",
      "\n",
      "Error msg: IndexError('list index out of range',)\n"
     ]
    },
    {
     "name": "stderr",
     "output_type": "stream",
     "text": [
      "2018-09-21 11:36:52,806:WARNING:\n",
      "Failed to read header row 6.\n",
      "2008 01 01 2016 07 08\n",
      "\n",
      "Error msg: IndexError('list index out of range',)\n"
     ]
    },
    {
     "name": "stderr",
     "output_type": "stream",
     "text": [
      "2018-09-21 11:36:52,814:WARNING:\n",
      "Failed to read header row 6.\n",
      "2008 01 01 2016 07 08\n",
      "\n",
      "Error msg: IndexError('list index out of range',)\n"
     ]
    },
    {
     "name": "stderr",
     "output_type": "stream",
     "text": [
      "2018-09-21 11:36:52,823:WARNING:\n",
      "Failed to read header row 6.\n",
      "2008 01 01 2016 07 08\n",
      "\n",
      "Error msg: IndexError('list index out of range',)\n"
     ]
    },
    {
     "name": "stderr",
     "output_type": "stream",
     "text": [
      "2018-09-21 11:36:52,831:WARNING:\n",
      "Failed to read header row 6.\n",
      "2008 01 01 2016 07 08\n",
      "\n",
      "Error msg: IndexError('list index out of range',)\n"
     ]
    },
    {
     "name": "stderr",
     "output_type": "stream",
     "text": [
      "2018-09-21 11:36:52,839:WARNING:\n",
      "Failed to read header row 6.\n",
      "2008 01 01 2016 07 08\n",
      "\n",
      "Error msg: IndexError('list index out of range',)\n"
     ]
    },
    {
     "name": "stderr",
     "output_type": "stream",
     "text": [
      "2018-09-21 11:36:52,846:WARNING:\n",
      "Failed to read header row 6.\n",
      "2008 01 01 2016 07 08\n",
      "\n",
      "Error msg: IndexError('list index out of range',)\n"
     ]
    },
    {
     "name": "stderr",
     "output_type": "stream",
     "text": [
      "2018-09-21 11:36:52,853:WARNING:\n",
      "Failed to read header row 6.\n",
      "2008 01 01 2016 07 08\n",
      "\n",
      "Error msg: IndexError('list index out of range',)\n"
     ]
    },
    {
     "name": "stderr",
     "output_type": "stream",
     "text": [
      "2018-09-21 11:36:52,860:WARNING:\n",
      "Failed to read header row 6.\n",
      "2008 01 01 2016 07 08\n",
      "\n",
      "Error msg: IndexError('list index out of range',)\n"
     ]
    },
    {
     "name": "stderr",
     "output_type": "stream",
     "text": [
      "2018-09-21 11:36:52,867:WARNING:\n",
      "Failed to read header row 6.\n",
      "2008 01 01 2016 07 08\n",
      "\n",
      "Error msg: IndexError('list index out of range',)\n"
     ]
    },
    {
     "name": "stderr",
     "output_type": "stream",
     "text": [
      "2018-09-21 11:36:52,874:WARNING:\n",
      "Failed to read header row 6.\n",
      "2008 01 01 2016 07 08\n",
      "\n",
      "Error msg: IndexError('list index out of range',)\n"
     ]
    },
    {
     "name": "stdout",
     "output_type": "stream",
     "text": [
      "6.81 ms ± 303 µs per loop (mean ± std. dev. of 7 runs, 100 loops each)\n"
     ]
    }
   ],
   "source": [
    "%%timeit\n",
    "EbasNasaAmesFile(file=ebasdir+filename,\n",
    "                 only_head=True, verbose=False)"
   ]
  },
  {
   "cell_type": "markdown",
   "metadata": {},
   "source": [
    "Read raw:"
   ]
  },
  {
   "cell_type": "code",
   "execution_count": 10,
   "metadata": {},
   "outputs": [
    {
     "name": "stderr",
     "output_type": "stream",
     "text": [
      "2018-09-21 11:36:53,244:WARNING:\n",
      "Failed to read header row 6.\n",
      "2008 01 01 2016 07 08\n",
      "\n",
      "Error msg: IndexError('list index out of range',)\n"
     ]
    },
    {
     "name": "stderr",
     "output_type": "stream",
     "text": [
      "2018-09-21 11:36:53,311:WARNING:\n",
      "Failed to read header row 6.\n",
      "2008 01 01 2016 07 08\n",
      "\n",
      "Error msg: IndexError('list index out of range',)\n"
     ]
    },
    {
     "name": "stderr",
     "output_type": "stream",
     "text": [
      "2018-09-21 11:36:53,369:WARNING:\n",
      "Failed to read header row 6.\n",
      "2008 01 01 2016 07 08\n",
      "\n",
      "Error msg: IndexError('list index out of range',)\n"
     ]
    },
    {
     "name": "stderr",
     "output_type": "stream",
     "text": [
      "2018-09-21 11:36:53,428:WARNING:\n",
      "Failed to read header row 6.\n",
      "2008 01 01 2016 07 08\n",
      "\n",
      "Error msg: IndexError('list index out of range',)\n"
     ]
    },
    {
     "name": "stderr",
     "output_type": "stream",
     "text": [
      "2018-09-21 11:36:53,485:WARNING:\n",
      "Failed to read header row 6.\n",
      "2008 01 01 2016 07 08\n",
      "\n",
      "Error msg: IndexError('list index out of range',)\n"
     ]
    },
    {
     "name": "stderr",
     "output_type": "stream",
     "text": [
      "2018-09-21 11:36:53,543:WARNING:\n",
      "Failed to read header row 6.\n",
      "2008 01 01 2016 07 08\n",
      "\n",
      "Error msg: IndexError('list index out of range',)\n"
     ]
    },
    {
     "name": "stderr",
     "output_type": "stream",
     "text": [
      "2018-09-21 11:36:53,591:WARNING:\n",
      "Failed to read header row 6.\n",
      "2008 01 01 2016 07 08\n",
      "\n",
      "Error msg: IndexError('list index out of range',)\n"
     ]
    },
    {
     "name": "stderr",
     "output_type": "stream",
     "text": [
      "2018-09-21 11:36:53,645:WARNING:\n",
      "Failed to read header row 6.\n",
      "2008 01 01 2016 07 08\n",
      "\n",
      "Error msg: IndexError('list index out of range',)\n"
     ]
    },
    {
     "name": "stderr",
     "output_type": "stream",
     "text": [
      "2018-09-21 11:36:53,702:WARNING:\n",
      "Failed to read header row 6.\n",
      "2008 01 01 2016 07 08\n",
      "\n",
      "Error msg: IndexError('list index out of range',)\n"
     ]
    },
    {
     "name": "stderr",
     "output_type": "stream",
     "text": [
      "2018-09-21 11:36:53,749:WARNING:\n",
      "Failed to read header row 6.\n",
      "2008 01 01 2016 07 08\n",
      "\n",
      "Error msg: IndexError('list index out of range',)\n"
     ]
    },
    {
     "name": "stderr",
     "output_type": "stream",
     "text": [
      "2018-09-21 11:36:53,805:WARNING:\n",
      "Failed to read header row 6.\n",
      "2008 01 01 2016 07 08\n",
      "\n",
      "Error msg: IndexError('list index out of range',)\n"
     ]
    },
    {
     "name": "stderr",
     "output_type": "stream",
     "text": [
      "2018-09-21 11:36:53,863:WARNING:\n",
      "Failed to read header row 6.\n",
      "2008 01 01 2016 07 08\n",
      "\n",
      "Error msg: IndexError('list index out of range',)\n"
     ]
    },
    {
     "name": "stderr",
     "output_type": "stream",
     "text": [
      "2018-09-21 11:36:53,910:WARNING:\n",
      "Failed to read header row 6.\n",
      "2008 01 01 2016 07 08\n",
      "\n",
      "Error msg: IndexError('list index out of range',)\n"
     ]
    },
    {
     "name": "stderr",
     "output_type": "stream",
     "text": [
      "2018-09-21 11:36:53,957:WARNING:\n",
      "Failed to read header row 6.\n",
      "2008 01 01 2016 07 08\n",
      "\n",
      "Error msg: IndexError('list index out of range',)\n"
     ]
    },
    {
     "name": "stderr",
     "output_type": "stream",
     "text": [
      "2018-09-21 11:36:54,005:WARNING:\n",
      "Failed to read header row 6.\n",
      "2008 01 01 2016 07 08\n",
      "\n",
      "Error msg: IndexError('list index out of range',)\n"
     ]
    },
    {
     "name": "stderr",
     "output_type": "stream",
     "text": [
      "2018-09-21 11:36:54,063:WARNING:\n",
      "Failed to read header row 6.\n",
      "2008 01 01 2016 07 08\n",
      "\n",
      "Error msg: IndexError('list index out of range',)\n"
     ]
    },
    {
     "name": "stderr",
     "output_type": "stream",
     "text": [
      "2018-09-21 11:36:54,111:WARNING:\n",
      "Failed to read header row 6.\n",
      "2008 01 01 2016 07 08\n",
      "\n",
      "Error msg: IndexError('list index out of range',)\n"
     ]
    },
    {
     "name": "stderr",
     "output_type": "stream",
     "text": [
      "2018-09-21 11:36:54,169:WARNING:\n",
      "Failed to read header row 6.\n",
      "2008 01 01 2016 07 08\n",
      "\n",
      "Error msg: IndexError('list index out of range',)\n"
     ]
    },
    {
     "name": "stderr",
     "output_type": "stream",
     "text": [
      "2018-09-21 11:36:54,235:WARNING:\n",
      "Failed to read header row 6.\n",
      "2008 01 01 2016 07 08\n",
      "\n",
      "Error msg: IndexError('list index out of range',)\n"
     ]
    },
    {
     "name": "stderr",
     "output_type": "stream",
     "text": [
      "2018-09-21 11:36:54,296:WARNING:\n",
      "Failed to read header row 6.\n",
      "2008 01 01 2016 07 08\n",
      "\n",
      "Error msg: IndexError('list index out of range',)\n"
     ]
    },
    {
     "name": "stderr",
     "output_type": "stream",
     "text": [
      "2018-09-21 11:36:54,344:WARNING:\n",
      "Failed to read header row 6.\n",
      "2008 01 01 2016 07 08\n",
      "\n",
      "Error msg: IndexError('list index out of range',)\n"
     ]
    },
    {
     "name": "stderr",
     "output_type": "stream",
     "text": [
      "2018-09-21 11:36:54,412:WARNING:\n",
      "Failed to read header row 6.\n",
      "2008 01 01 2016 07 08\n",
      "\n",
      "Error msg: IndexError('list index out of range',)\n"
     ]
    },
    {
     "name": "stderr",
     "output_type": "stream",
     "text": [
      "2018-09-21 11:36:54,462:WARNING:\n",
      "Failed to read header row 6.\n",
      "2008 01 01 2016 07 08\n",
      "\n",
      "Error msg: IndexError('list index out of range',)\n"
     ]
    },
    {
     "name": "stderr",
     "output_type": "stream",
     "text": [
      "2018-09-21 11:36:54,509:WARNING:\n",
      "Failed to read header row 6.\n",
      "2008 01 01 2016 07 08\n",
      "\n",
      "Error msg: IndexError('list index out of range',)\n"
     ]
    },
    {
     "name": "stderr",
     "output_type": "stream",
     "text": [
      "2018-09-21 11:36:54,555:WARNING:\n",
      "Failed to read header row 6.\n",
      "2008 01 01 2016 07 08\n",
      "\n",
      "Error msg: IndexError('list index out of range',)\n"
     ]
    },
    {
     "name": "stderr",
     "output_type": "stream",
     "text": [
      "2018-09-21 11:36:54,601:WARNING:\n",
      "Failed to read header row 6.\n",
      "2008 01 01 2016 07 08\n",
      "\n",
      "Error msg: IndexError('list index out of range',)\n"
     ]
    },
    {
     "name": "stderr",
     "output_type": "stream",
     "text": [
      "2018-09-21 11:36:54,658:WARNING:\n",
      "Failed to read header row 6.\n",
      "2008 01 01 2016 07 08\n",
      "\n",
      "Error msg: IndexError('list index out of range',)\n"
     ]
    },
    {
     "name": "stderr",
     "output_type": "stream",
     "text": [
      "2018-09-21 11:36:54,725:WARNING:\n",
      "Failed to read header row 6.\n",
      "2008 01 01 2016 07 08\n",
      "\n",
      "Error msg: IndexError('list index out of range',)\n"
     ]
    },
    {
     "name": "stderr",
     "output_type": "stream",
     "text": [
      "2018-09-21 11:36:54,773:WARNING:\n",
      "Failed to read header row 6.\n",
      "2008 01 01 2016 07 08\n",
      "\n",
      "Error msg: IndexError('list index out of range',)\n"
     ]
    },
    {
     "name": "stderr",
     "output_type": "stream",
     "text": [
      "2018-09-21 11:36:54,820:WARNING:\n",
      "Failed to read header row 6.\n",
      "2008 01 01 2016 07 08\n",
      "\n",
      "Error msg: IndexError('list index out of range',)\n"
     ]
    },
    {
     "name": "stderr",
     "output_type": "stream",
     "text": [
      "2018-09-21 11:36:54,868:WARNING:\n",
      "Failed to read header row 6.\n",
      "2008 01 01 2016 07 08\n",
      "\n",
      "Error msg: IndexError('list index out of range',)\n"
     ]
    },
    {
     "name": "stderr",
     "output_type": "stream",
     "text": [
      "2018-09-21 11:36:54,914:WARNING:\n",
      "Failed to read header row 6.\n",
      "2008 01 01 2016 07 08\n",
      "\n",
      "Error msg: IndexError('list index out of range',)\n"
     ]
    },
    {
     "name": "stderr",
     "output_type": "stream",
     "text": [
      "2018-09-21 11:36:55,190:WARNING:\n",
      "Failed to read header row 6.\n",
      "2008 01 01 2016 07 08\n",
      "\n",
      "Error msg: IndexError('list index out of range',)\n"
     ]
    },
    {
     "name": "stderr",
     "output_type": "stream",
     "text": [
      "2018-09-21 11:36:55,264:WARNING:\n",
      "Failed to read header row 6.\n",
      "2008 01 01 2016 07 08\n",
      "\n",
      "Error msg: IndexError('list index out of range',)\n"
     ]
    },
    {
     "name": "stderr",
     "output_type": "stream",
     "text": [
      "2018-09-21 11:36:55,334:WARNING:\n",
      "Failed to read header row 6.\n",
      "2008 01 01 2016 07 08\n",
      "\n",
      "Error msg: IndexError('list index out of range',)\n"
     ]
    },
    {
     "name": "stderr",
     "output_type": "stream",
     "text": [
      "2018-09-21 11:36:55,383:WARNING:\n",
      "Failed to read header row 6.\n",
      "2008 01 01 2016 07 08\n",
      "\n",
      "Error msg: IndexError('list index out of range',)\n"
     ]
    },
    {
     "name": "stderr",
     "output_type": "stream",
     "text": [
      "2018-09-21 11:36:55,434:WARNING:\n",
      "Failed to read header row 6.\n",
      "2008 01 01 2016 07 08\n",
      "\n",
      "Error msg: IndexError('list index out of range',)\n"
     ]
    },
    {
     "name": "stderr",
     "output_type": "stream",
     "text": [
      "2018-09-21 11:36:55,502:WARNING:\n",
      "Failed to read header row 6.\n",
      "2008 01 01 2016 07 08\n",
      "\n",
      "Error msg: IndexError('list index out of range',)\n"
     ]
    },
    {
     "name": "stderr",
     "output_type": "stream",
     "text": [
      "2018-09-21 11:36:55,553:WARNING:\n",
      "Failed to read header row 6.\n",
      "2008 01 01 2016 07 08\n",
      "\n",
      "Error msg: IndexError('list index out of range',)\n"
     ]
    },
    {
     "name": "stderr",
     "output_type": "stream",
     "text": [
      "2018-09-21 11:36:55,625:WARNING:\n",
      "Failed to read header row 6.\n",
      "2008 01 01 2016 07 08\n",
      "\n",
      "Error msg: IndexError('list index out of range',)\n"
     ]
    },
    {
     "name": "stderr",
     "output_type": "stream",
     "text": [
      "2018-09-21 11:36:55,672:WARNING:\n",
      "Failed to read header row 6.\n",
      "2008 01 01 2016 07 08\n",
      "\n",
      "Error msg: IndexError('list index out of range',)\n"
     ]
    },
    {
     "name": "stderr",
     "output_type": "stream",
     "text": [
      "2018-09-21 11:36:55,718:WARNING:\n",
      "Failed to read header row 6.\n",
      "2008 01 01 2016 07 08\n",
      "\n",
      "Error msg: IndexError('list index out of range',)\n"
     ]
    },
    {
     "name": "stderr",
     "output_type": "stream",
     "text": [
      "2018-09-21 11:36:55,764:WARNING:\n",
      "Failed to read header row 6.\n",
      "2008 01 01 2016 07 08\n",
      "\n",
      "Error msg: IndexError('list index out of range',)\n"
     ]
    },
    {
     "name": "stderr",
     "output_type": "stream",
     "text": [
      "2018-09-21 11:36:55,811:WARNING:\n",
      "Failed to read header row 6.\n",
      "2008 01 01 2016 07 08\n",
      "\n",
      "Error msg: IndexError('list index out of range',)\n"
     ]
    },
    {
     "name": "stderr",
     "output_type": "stream",
     "text": [
      "2018-09-21 11:36:55,875:WARNING:\n",
      "Failed to read header row 6.\n",
      "2008 01 01 2016 07 08\n",
      "\n",
      "Error msg: IndexError('list index out of range',)\n"
     ]
    },
    {
     "name": "stderr",
     "output_type": "stream",
     "text": [
      "2018-09-21 11:36:55,933:WARNING:\n",
      "Failed to read header row 6.\n",
      "2008 01 01 2016 07 08\n",
      "\n",
      "Error msg: IndexError('list index out of range',)\n"
     ]
    },
    {
     "name": "stderr",
     "output_type": "stream",
     "text": [
      "2018-09-21 11:36:55,979:WARNING:\n",
      "Failed to read header row 6.\n",
      "2008 01 01 2016 07 08\n",
      "\n",
      "Error msg: IndexError('list index out of range',)\n"
     ]
    },
    {
     "name": "stderr",
     "output_type": "stream",
     "text": [
      "2018-09-21 11:36:56,035:WARNING:\n",
      "Failed to read header row 6.\n",
      "2008 01 01 2016 07 08\n",
      "\n",
      "Error msg: IndexError('list index out of range',)\n"
     ]
    },
    {
     "name": "stderr",
     "output_type": "stream",
     "text": [
      "2018-09-21 11:36:56,094:WARNING:\n",
      "Failed to read header row 6.\n",
      "2008 01 01 2016 07 08\n",
      "\n",
      "Error msg: IndexError('list index out of range',)\n"
     ]
    },
    {
     "name": "stderr",
     "output_type": "stream",
     "text": [
      "2018-09-21 11:36:56,142:WARNING:\n",
      "Failed to read header row 6.\n",
      "2008 01 01 2016 07 08\n",
      "\n",
      "Error msg: IndexError('list index out of range',)\n"
     ]
    },
    {
     "name": "stderr",
     "output_type": "stream",
     "text": [
      "2018-09-21 11:36:56,189:WARNING:\n",
      "Failed to read header row 6.\n",
      "2008 01 01 2016 07 08\n",
      "\n",
      "Error msg: IndexError('list index out of range',)\n"
     ]
    },
    {
     "name": "stderr",
     "output_type": "stream",
     "text": [
      "2018-09-21 11:36:56,236:WARNING:\n",
      "Failed to read header row 6.\n",
      "2008 01 01 2016 07 08\n",
      "\n",
      "Error msg: IndexError('list index out of range',)\n"
     ]
    },
    {
     "name": "stderr",
     "output_type": "stream",
     "text": [
      "2018-09-21 11:36:56,284:WARNING:\n",
      "Failed to read header row 6.\n",
      "2008 01 01 2016 07 08\n",
      "\n",
      "Error msg: IndexError('list index out of range',)\n"
     ]
    },
    {
     "name": "stderr",
     "output_type": "stream",
     "text": [
      "2018-09-21 11:36:56,356:WARNING:\n",
      "Failed to read header row 6.\n",
      "2008 01 01 2016 07 08\n",
      "\n",
      "Error msg: IndexError('list index out of range',)\n"
     ]
    },
    {
     "name": "stderr",
     "output_type": "stream",
     "text": [
      "2018-09-21 11:36:56,406:WARNING:\n",
      "Failed to read header row 6.\n",
      "2008 01 01 2016 07 08\n",
      "\n",
      "Error msg: IndexError('list index out of range',)\n"
     ]
    },
    {
     "name": "stderr",
     "output_type": "stream",
     "text": [
      "2018-09-21 11:36:56,459:WARNING:\n",
      "Failed to read header row 6.\n",
      "2008 01 01 2016 07 08\n",
      "\n",
      "Error msg: IndexError('list index out of range',)\n"
     ]
    },
    {
     "name": "stderr",
     "output_type": "stream",
     "text": [
      "2018-09-21 11:36:56,505:WARNING:\n",
      "Failed to read header row 6.\n",
      "2008 01 01 2016 07 08\n",
      "\n",
      "Error msg: IndexError('list index out of range',)\n"
     ]
    },
    {
     "name": "stderr",
     "output_type": "stream",
     "text": [
      "2018-09-21 11:36:56,563:WARNING:\n",
      "Failed to read header row 6.\n",
      "2008 01 01 2016 07 08\n",
      "\n",
      "Error msg: IndexError('list index out of range',)\n"
     ]
    },
    {
     "name": "stderr",
     "output_type": "stream",
     "text": [
      "2018-09-21 11:36:56,612:WARNING:\n",
      "Failed to read header row 6.\n",
      "2008 01 01 2016 07 08\n",
      "\n",
      "Error msg: IndexError('list index out of range',)\n"
     ]
    },
    {
     "name": "stderr",
     "output_type": "stream",
     "text": [
      "2018-09-21 11:36:56,660:WARNING:\n",
      "Failed to read header row 6.\n",
      "2008 01 01 2016 07 08\n",
      "\n",
      "Error msg: IndexError('list index out of range',)\n"
     ]
    },
    {
     "name": "stderr",
     "output_type": "stream",
     "text": [
      "2018-09-21 11:36:56,707:WARNING:\n",
      "Failed to read header row 6.\n",
      "2008 01 01 2016 07 08\n",
      "\n",
      "Error msg: IndexError('list index out of range',)\n"
     ]
    },
    {
     "name": "stderr",
     "output_type": "stream",
     "text": [
      "2018-09-21 11:36:56,753:WARNING:\n",
      "Failed to read header row 6.\n",
      "2008 01 01 2016 07 08\n",
      "\n",
      "Error msg: IndexError('list index out of range',)\n"
     ]
    },
    {
     "name": "stderr",
     "output_type": "stream",
     "text": [
      "2018-09-21 11:36:56,801:WARNING:\n",
      "Failed to read header row 6.\n",
      "2008 01 01 2016 07 08\n",
      "\n",
      "Error msg: IndexError('list index out of range',)\n"
     ]
    },
    {
     "name": "stderr",
     "output_type": "stream",
     "text": [
      "2018-09-21 11:36:56,855:WARNING:\n",
      "Failed to read header row 6.\n",
      "2008 01 01 2016 07 08\n",
      "\n",
      "Error msg: IndexError('list index out of range',)\n"
     ]
    },
    {
     "name": "stderr",
     "output_type": "stream",
     "text": [
      "2018-09-21 11:36:56,904:WARNING:\n",
      "Failed to read header row 6.\n",
      "2008 01 01 2016 07 08\n",
      "\n",
      "Error msg: IndexError('list index out of range',)\n"
     ]
    },
    {
     "name": "stderr",
     "output_type": "stream",
     "text": [
      "2018-09-21 11:36:56,950:WARNING:\n",
      "Failed to read header row 6.\n",
      "2008 01 01 2016 07 08\n",
      "\n",
      "Error msg: IndexError('list index out of range',)\n"
     ]
    },
    {
     "name": "stderr",
     "output_type": "stream",
     "text": [
      "2018-09-21 11:36:56,999:WARNING:\n",
      "Failed to read header row 6.\n",
      "2008 01 01 2016 07 08\n",
      "\n",
      "Error msg: IndexError('list index out of range',)\n"
     ]
    },
    {
     "name": "stderr",
     "output_type": "stream",
     "text": [
      "2018-09-21 11:36:57,047:WARNING:\n",
      "Failed to read header row 6.\n",
      "2008 01 01 2016 07 08\n",
      "\n",
      "Error msg: IndexError('list index out of range',)\n"
     ]
    },
    {
     "name": "stderr",
     "output_type": "stream",
     "text": [
      "2018-09-21 11:36:57,095:WARNING:\n",
      "Failed to read header row 6.\n",
      "2008 01 01 2016 07 08\n",
      "\n",
      "Error msg: IndexError('list index out of range',)\n"
     ]
    },
    {
     "name": "stderr",
     "output_type": "stream",
     "text": [
      "2018-09-21 11:36:57,144:WARNING:\n",
      "Failed to read header row 6.\n",
      "2008 01 01 2016 07 08\n",
      "\n",
      "Error msg: IndexError('list index out of range',)\n"
     ]
    },
    {
     "name": "stderr",
     "output_type": "stream",
     "text": [
      "2018-09-21 11:36:57,194:WARNING:\n",
      "Failed to read header row 6.\n",
      "2008 01 01 2016 07 08\n",
      "\n",
      "Error msg: IndexError('list index out of range',)\n"
     ]
    },
    {
     "name": "stderr",
     "output_type": "stream",
     "text": [
      "2018-09-21 11:36:57,261:WARNING:\n",
      "Failed to read header row 6.\n",
      "2008 01 01 2016 07 08\n",
      "\n",
      "Error msg: IndexError('list index out of range',)\n"
     ]
    },
    {
     "name": "stderr",
     "output_type": "stream",
     "text": [
      "2018-09-21 11:36:57,318:WARNING:\n",
      "Failed to read header row 6.\n",
      "2008 01 01 2016 07 08\n",
      "\n",
      "Error msg: IndexError('list index out of range',)\n"
     ]
    },
    {
     "name": "stderr",
     "output_type": "stream",
     "text": [
      "2018-09-21 11:36:57,389:WARNING:\n",
      "Failed to read header row 6.\n",
      "2008 01 01 2016 07 08\n",
      "\n",
      "Error msg: IndexError('list index out of range',)\n"
     ]
    },
    {
     "name": "stderr",
     "output_type": "stream",
     "text": [
      "2018-09-21 11:36:57,438:WARNING:\n",
      "Failed to read header row 6.\n",
      "2008 01 01 2016 07 08\n",
      "\n",
      "Error msg: IndexError('list index out of range',)\n"
     ]
    },
    {
     "name": "stderr",
     "output_type": "stream",
     "text": [
      "2018-09-21 11:36:57,488:WARNING:\n",
      "Failed to read header row 6.\n",
      "2008 01 01 2016 07 08\n",
      "\n",
      "Error msg: IndexError('list index out of range',)\n"
     ]
    },
    {
     "name": "stderr",
     "output_type": "stream",
     "text": [
      "2018-09-21 11:36:57,535:WARNING:\n",
      "Failed to read header row 6.\n",
      "2008 01 01 2016 07 08\n",
      "\n",
      "Error msg: IndexError('list index out of range',)\n"
     ]
    },
    {
     "name": "stderr",
     "output_type": "stream",
     "text": [
      "2018-09-21 11:36:57,597:WARNING:\n",
      "Failed to read header row 6.\n",
      "2008 01 01 2016 07 08\n",
      "\n",
      "Error msg: IndexError('list index out of range',)\n"
     ]
    },
    {
     "name": "stderr",
     "output_type": "stream",
     "text": [
      "2018-09-21 11:36:57,644:WARNING:\n",
      "Failed to read header row 6.\n",
      "2008 01 01 2016 07 08\n",
      "\n",
      "Error msg: IndexError('list index out of range',)\n"
     ]
    },
    {
     "name": "stderr",
     "output_type": "stream",
     "text": [
      "2018-09-21 11:36:57,703:WARNING:\n",
      "Failed to read header row 6.\n",
      "2008 01 01 2016 07 08\n",
      "\n",
      "Error msg: IndexError('list index out of range',)\n"
     ]
    },
    {
     "name": "stderr",
     "output_type": "stream",
     "text": [
      "2018-09-21 11:36:57,750:WARNING:\n",
      "Failed to read header row 6.\n",
      "2008 01 01 2016 07 08\n",
      "\n",
      "Error msg: IndexError('list index out of range',)\n"
     ]
    },
    {
     "name": "stdout",
     "output_type": "stream",
     "text": [
      "56.3 ms ± 9.93 ms per loop (mean ± std. dev. of 7 runs, 10 loops each)\n"
     ]
    }
   ],
   "source": [
    "%%timeit\n",
    "EbasNasaAmesFile(file=ebasdir+filename,\n",
    "                      only_head=False,          #set True if you only want to import header\n",
    "                      replace_invalid_nan=False, #replace invalid values with NaNs\n",
    "                      convert_timestamps=False,  #compute datetime64 timestamps from numerical values\n",
    "                      decode_flags=False,        #decode all flags (e.g. 0.111222333 -> 111 222 333)\n",
    "                      verbose=False)"
   ]
  },
  {
   "cell_type": "markdown",
   "metadata": {},
   "source": [
    "Perform all operations:"
   ]
  },
  {
   "cell_type": "code",
   "execution_count": 11,
   "metadata": {},
   "outputs": [
    {
     "name": "stderr",
     "output_type": "stream",
     "text": [
      "2018-09-21 11:36:57,851:WARNING:\n",
      "Failed to read header row 6.\n",
      "2008 01 01 2016 07 08\n",
      "\n",
      "Error msg: IndexError('list index out of range',)\n"
     ]
    },
    {
     "name": "stderr",
     "output_type": "stream",
     "text": [
      "2018-09-21 11:36:57,940:WARNING:\n",
      "Failed to read header row 6.\n",
      "2008 01 01 2016 07 08\n",
      "\n",
      "Error msg: IndexError('list index out of range',)\n"
     ]
    },
    {
     "name": "stderr",
     "output_type": "stream",
     "text": [
      "2018-09-21 11:36:58,019:WARNING:\n",
      "Failed to read header row 6.\n",
      "2008 01 01 2016 07 08\n",
      "\n",
      "Error msg: IndexError('list index out of range',)\n"
     ]
    },
    {
     "name": "stderr",
     "output_type": "stream",
     "text": [
      "2018-09-21 11:36:58,087:WARNING:\n",
      "Failed to read header row 6.\n",
      "2008 01 01 2016 07 08\n",
      "\n",
      "Error msg: IndexError('list index out of range',)\n"
     ]
    },
    {
     "name": "stderr",
     "output_type": "stream",
     "text": [
      "2018-09-21 11:36:58,145:WARNING:\n",
      "Failed to read header row 6.\n",
      "2008 01 01 2016 07 08\n",
      "\n",
      "Error msg: IndexError('list index out of range',)\n"
     ]
    },
    {
     "name": "stderr",
     "output_type": "stream",
     "text": [
      "2018-09-21 11:36:58,201:WARNING:\n",
      "Failed to read header row 6.\n",
      "2008 01 01 2016 07 08\n",
      "\n",
      "Error msg: IndexError('list index out of range',)\n"
     ]
    },
    {
     "name": "stderr",
     "output_type": "stream",
     "text": [
      "2018-09-21 11:36:58,279:WARNING:\n",
      "Failed to read header row 6.\n",
      "2008 01 01 2016 07 08\n",
      "\n",
      "Error msg: IndexError('list index out of range',)\n"
     ]
    },
    {
     "name": "stderr",
     "output_type": "stream",
     "text": [
      "2018-09-21 11:36:58,335:WARNING:\n",
      "Failed to read header row 6.\n",
      "2008 01 01 2016 07 08\n",
      "\n",
      "Error msg: IndexError('list index out of range',)\n"
     ]
    },
    {
     "name": "stderr",
     "output_type": "stream",
     "text": [
      "2018-09-21 11:36:58,411:WARNING:\n",
      "Failed to read header row 6.\n",
      "2008 01 01 2016 07 08\n",
      "\n",
      "Error msg: IndexError('list index out of range',)\n"
     ]
    },
    {
     "name": "stderr",
     "output_type": "stream",
     "text": [
      "2018-09-21 11:36:58,473:WARNING:\n",
      "Failed to read header row 6.\n",
      "2008 01 01 2016 07 08\n",
      "\n",
      "Error msg: IndexError('list index out of range',)\n"
     ]
    },
    {
     "name": "stderr",
     "output_type": "stream",
     "text": [
      "2018-09-21 11:36:58,533:WARNING:\n",
      "Failed to read header row 6.\n",
      "2008 01 01 2016 07 08\n",
      "\n",
      "Error msg: IndexError('list index out of range',)\n"
     ]
    },
    {
     "name": "stderr",
     "output_type": "stream",
     "text": [
      "2018-09-21 11:36:58,590:WARNING:\n",
      "Failed to read header row 6.\n",
      "2008 01 01 2016 07 08\n",
      "\n",
      "Error msg: IndexError('list index out of range',)\n"
     ]
    },
    {
     "name": "stderr",
     "output_type": "stream",
     "text": [
      "2018-09-21 11:36:58,649:WARNING:\n",
      "Failed to read header row 6.\n",
      "2008 01 01 2016 07 08\n",
      "\n",
      "Error msg: IndexError('list index out of range',)\n"
     ]
    },
    {
     "name": "stderr",
     "output_type": "stream",
     "text": [
      "2018-09-21 11:36:58,719:WARNING:\n",
      "Failed to read header row 6.\n",
      "2008 01 01 2016 07 08\n",
      "\n",
      "Error msg: IndexError('list index out of range',)\n"
     ]
    },
    {
     "name": "stderr",
     "output_type": "stream",
     "text": [
      "2018-09-21 11:36:58,776:WARNING:\n",
      "Failed to read header row 6.\n",
      "2008 01 01 2016 07 08\n",
      "\n",
      "Error msg: IndexError('list index out of range',)\n"
     ]
    },
    {
     "name": "stderr",
     "output_type": "stream",
     "text": [
      "2018-09-21 11:36:58,831:WARNING:\n",
      "Failed to read header row 6.\n",
      "2008 01 01 2016 07 08\n",
      "\n",
      "Error msg: IndexError('list index out of range',)\n"
     ]
    },
    {
     "name": "stderr",
     "output_type": "stream",
     "text": [
      "2018-09-21 11:36:58,887:WARNING:\n",
      "Failed to read header row 6.\n",
      "2008 01 01 2016 07 08\n",
      "\n",
      "Error msg: IndexError('list index out of range',)\n"
     ]
    },
    {
     "name": "stderr",
     "output_type": "stream",
     "text": [
      "2018-09-21 11:36:58,951:WARNING:\n",
      "Failed to read header row 6.\n",
      "2008 01 01 2016 07 08\n",
      "\n",
      "Error msg: IndexError('list index out of range',)\n"
     ]
    },
    {
     "name": "stderr",
     "output_type": "stream",
     "text": [
      "2018-09-21 11:36:59,011:WARNING:\n",
      "Failed to read header row 6.\n",
      "2008 01 01 2016 07 08\n",
      "\n",
      "Error msg: IndexError('list index out of range',)\n"
     ]
    },
    {
     "name": "stderr",
     "output_type": "stream",
     "text": [
      "2018-09-21 11:36:59,084:WARNING:\n",
      "Failed to read header row 6.\n",
      "2008 01 01 2016 07 08\n",
      "\n",
      "Error msg: IndexError('list index out of range',)\n"
     ]
    },
    {
     "name": "stderr",
     "output_type": "stream",
     "text": [
      "2018-09-21 11:36:59,187:WARNING:\n",
      "Failed to read header row 6.\n",
      "2008 01 01 2016 07 08\n",
      "\n",
      "Error msg: IndexError('list index out of range',)\n"
     ]
    },
    {
     "name": "stderr",
     "output_type": "stream",
     "text": [
      "2018-09-21 11:36:59,251:WARNING:\n",
      "Failed to read header row 6.\n",
      "2008 01 01 2016 07 08\n",
      "\n",
      "Error msg: IndexError('list index out of range',)\n"
     ]
    },
    {
     "name": "stderr",
     "output_type": "stream",
     "text": [
      "2018-09-21 11:36:59,306:WARNING:\n",
      "Failed to read header row 6.\n",
      "2008 01 01 2016 07 08\n",
      "\n",
      "Error msg: IndexError('list index out of range',)\n"
     ]
    },
    {
     "name": "stderr",
     "output_type": "stream",
     "text": [
      "2018-09-21 11:36:59,372:WARNING:\n",
      "Failed to read header row 6.\n",
      "2008 01 01 2016 07 08\n",
      "\n",
      "Error msg: IndexError('list index out of range',)\n"
     ]
    },
    {
     "name": "stderr",
     "output_type": "stream",
     "text": [
      "2018-09-21 11:36:59,439:WARNING:\n",
      "Failed to read header row 6.\n",
      "2008 01 01 2016 07 08\n",
      "\n",
      "Error msg: IndexError('list index out of range',)\n"
     ]
    },
    {
     "name": "stderr",
     "output_type": "stream",
     "text": [
      "2018-09-21 11:36:59,496:WARNING:\n",
      "Failed to read header row 6.\n",
      "2008 01 01 2016 07 08\n",
      "\n",
      "Error msg: IndexError('list index out of range',)\n"
     ]
    },
    {
     "name": "stderr",
     "output_type": "stream",
     "text": [
      "2018-09-21 11:36:59,581:WARNING:\n",
      "Failed to read header row 6.\n",
      "2008 01 01 2016 07 08\n",
      "\n",
      "Error msg: IndexError('list index out of range',)\n"
     ]
    },
    {
     "name": "stderr",
     "output_type": "stream",
     "text": [
      "2018-09-21 11:36:59,653:WARNING:\n",
      "Failed to read header row 6.\n",
      "2008 01 01 2016 07 08\n",
      "\n",
      "Error msg: IndexError('list index out of range',)\n"
     ]
    },
    {
     "name": "stderr",
     "output_type": "stream",
     "text": [
      "2018-09-21 11:36:59,719:WARNING:\n",
      "Failed to read header row 6.\n",
      "2008 01 01 2016 07 08\n",
      "\n",
      "Error msg: IndexError('list index out of range',)\n"
     ]
    },
    {
     "name": "stderr",
     "output_type": "stream",
     "text": [
      "2018-09-21 11:36:59,774:WARNING:\n",
      "Failed to read header row 6.\n",
      "2008 01 01 2016 07 08\n",
      "\n",
      "Error msg: IndexError('list index out of range',)\n"
     ]
    },
    {
     "name": "stderr",
     "output_type": "stream",
     "text": [
      "2018-09-21 11:36:59,831:WARNING:\n",
      "Failed to read header row 6.\n",
      "2008 01 01 2016 07 08\n",
      "\n",
      "Error msg: IndexError('list index out of range',)\n"
     ]
    },
    {
     "name": "stderr",
     "output_type": "stream",
     "text": [
      "2018-09-21 11:36:59,888:WARNING:\n",
      "Failed to read header row 6.\n",
      "2008 01 01 2016 07 08\n",
      "\n",
      "Error msg: IndexError('list index out of range',)\n"
     ]
    },
    {
     "name": "stderr",
     "output_type": "stream",
     "text": [
      "2018-09-21 11:36:59,945:WARNING:\n",
      "Failed to read header row 6.\n",
      "2008 01 01 2016 07 08\n",
      "\n",
      "Error msg: IndexError('list index out of range',)\n"
     ]
    },
    {
     "name": "stderr",
     "output_type": "stream",
     "text": [
      "2018-09-21 11:37:00,003:WARNING:\n",
      "Failed to read header row 6.\n",
      "2008 01 01 2016 07 08\n",
      "\n",
      "Error msg: IndexError('list index out of range',)\n"
     ]
    },
    {
     "name": "stderr",
     "output_type": "stream",
     "text": [
      "2018-09-21 11:37:00,059:WARNING:\n",
      "Failed to read header row 6.\n",
      "2008 01 01 2016 07 08\n",
      "\n",
      "Error msg: IndexError('list index out of range',)\n"
     ]
    },
    {
     "name": "stderr",
     "output_type": "stream",
     "text": [
      "2018-09-21 11:37:00,133:WARNING:\n",
      "Failed to read header row 6.\n",
      "2008 01 01 2016 07 08\n",
      "\n",
      "Error msg: IndexError('list index out of range',)\n"
     ]
    },
    {
     "name": "stderr",
     "output_type": "stream",
     "text": [
      "2018-09-21 11:37:00,191:WARNING:\n",
      "Failed to read header row 6.\n",
      "2008 01 01 2016 07 08\n",
      "\n",
      "Error msg: IndexError('list index out of range',)\n"
     ]
    },
    {
     "name": "stderr",
     "output_type": "stream",
     "text": [
      "2018-09-21 11:37:00,249:WARNING:\n",
      "Failed to read header row 6.\n",
      "2008 01 01 2016 07 08\n",
      "\n",
      "Error msg: IndexError('list index out of range',)\n"
     ]
    },
    {
     "name": "stderr",
     "output_type": "stream",
     "text": [
      "2018-09-21 11:37:00,305:WARNING:\n",
      "Failed to read header row 6.\n",
      "2008 01 01 2016 07 08\n",
      "\n",
      "Error msg: IndexError('list index out of range',)\n"
     ]
    },
    {
     "name": "stderr",
     "output_type": "stream",
     "text": [
      "2018-09-21 11:37:00,383:WARNING:\n",
      "Failed to read header row 6.\n",
      "2008 01 01 2016 07 08\n",
      "\n",
      "Error msg: IndexError('list index out of range',)\n"
     ]
    },
    {
     "name": "stderr",
     "output_type": "stream",
     "text": [
      "2018-09-21 11:37:00,453:WARNING:\n",
      "Failed to read header row 6.\n",
      "2008 01 01 2016 07 08\n",
      "\n",
      "Error msg: IndexError('list index out of range',)\n"
     ]
    },
    {
     "name": "stderr",
     "output_type": "stream",
     "text": [
      "2018-09-21 11:37:00,509:WARNING:\n",
      "Failed to read header row 6.\n",
      "2008 01 01 2016 07 08\n",
      "\n",
      "Error msg: IndexError('list index out of range',)\n"
     ]
    },
    {
     "name": "stderr",
     "output_type": "stream",
     "text": [
      "2018-09-21 11:37:00,565:WARNING:\n",
      "Failed to read header row 6.\n",
      "2008 01 01 2016 07 08\n",
      "\n",
      "Error msg: IndexError('list index out of range',)\n"
     ]
    },
    {
     "name": "stderr",
     "output_type": "stream",
     "text": [
      "2018-09-21 11:37:00,627:WARNING:\n",
      "Failed to read header row 6.\n",
      "2008 01 01 2016 07 08\n",
      "\n",
      "Error msg: IndexError('list index out of range',)\n"
     ]
    },
    {
     "name": "stderr",
     "output_type": "stream",
     "text": [
      "2018-09-21 11:37:00,703:WARNING:\n",
      "Failed to read header row 6.\n",
      "2008 01 01 2016 07 08\n",
      "\n",
      "Error msg: IndexError('list index out of range',)\n"
     ]
    },
    {
     "name": "stderr",
     "output_type": "stream",
     "text": [
      "2018-09-21 11:37:00,761:WARNING:\n",
      "Failed to read header row 6.\n",
      "2008 01 01 2016 07 08\n",
      "\n",
      "Error msg: IndexError('list index out of range',)\n"
     ]
    },
    {
     "name": "stderr",
     "output_type": "stream",
     "text": [
      "2018-09-21 11:37:00,829:WARNING:\n",
      "Failed to read header row 6.\n",
      "2008 01 01 2016 07 08\n",
      "\n",
      "Error msg: IndexError('list index out of range',)\n"
     ]
    },
    {
     "name": "stderr",
     "output_type": "stream",
     "text": [
      "2018-09-21 11:37:00,897:WARNING:\n",
      "Failed to read header row 6.\n",
      "2008 01 01 2016 07 08\n",
      "\n",
      "Error msg: IndexError('list index out of range',)\n"
     ]
    },
    {
     "name": "stderr",
     "output_type": "stream",
     "text": [
      "2018-09-21 11:37:00,955:WARNING:\n",
      "Failed to read header row 6.\n",
      "2008 01 01 2016 07 08\n",
      "\n",
      "Error msg: IndexError('list index out of range',)\n"
     ]
    },
    {
     "name": "stderr",
     "output_type": "stream",
     "text": [
      "2018-09-21 11:37:01,012:WARNING:\n",
      "Failed to read header row 6.\n",
      "2008 01 01 2016 07 08\n",
      "\n",
      "Error msg: IndexError('list index out of range',)\n"
     ]
    },
    {
     "name": "stderr",
     "output_type": "stream",
     "text": [
      "2018-09-21 11:37:01,067:WARNING:\n",
      "Failed to read header row 6.\n",
      "2008 01 01 2016 07 08\n",
      "\n",
      "Error msg: IndexError('list index out of range',)\n"
     ]
    },
    {
     "name": "stderr",
     "output_type": "stream",
     "text": [
      "2018-09-21 11:37:01,127:WARNING:\n",
      "Failed to read header row 6.\n",
      "2008 01 01 2016 07 08\n",
      "\n",
      "Error msg: IndexError('list index out of range',)\n"
     ]
    },
    {
     "name": "stderr",
     "output_type": "stream",
     "text": [
      "2018-09-21 11:37:01,186:WARNING:\n",
      "Failed to read header row 6.\n",
      "2008 01 01 2016 07 08\n",
      "\n",
      "Error msg: IndexError('list index out of range',)\n"
     ]
    },
    {
     "name": "stderr",
     "output_type": "stream",
     "text": [
      "2018-09-21 11:37:01,264:WARNING:\n",
      "Failed to read header row 6.\n",
      "2008 01 01 2016 07 08\n",
      "\n",
      "Error msg: IndexError('list index out of range',)\n"
     ]
    },
    {
     "name": "stderr",
     "output_type": "stream",
     "text": [
      "2018-09-21 11:37:01,320:WARNING:\n",
      "Failed to read header row 6.\n",
      "2008 01 01 2016 07 08\n",
      "\n",
      "Error msg: IndexError('list index out of range',)\n"
     ]
    },
    {
     "name": "stderr",
     "output_type": "stream",
     "text": [
      "2018-09-21 11:37:01,375:WARNING:\n",
      "Failed to read header row 6.\n",
      "2008 01 01 2016 07 08\n",
      "\n",
      "Error msg: IndexError('list index out of range',)\n"
     ]
    },
    {
     "name": "stderr",
     "output_type": "stream",
     "text": [
      "2018-09-21 11:37:01,430:WARNING:\n",
      "Failed to read header row 6.\n",
      "2008 01 01 2016 07 08\n",
      "\n",
      "Error msg: IndexError('list index out of range',)\n"
     ]
    },
    {
     "name": "stderr",
     "output_type": "stream",
     "text": [
      "2018-09-21 11:37:01,518:WARNING:\n",
      "Failed to read header row 6.\n",
      "2008 01 01 2016 07 08\n",
      "\n",
      "Error msg: IndexError('list index out of range',)\n"
     ]
    },
    {
     "name": "stderr",
     "output_type": "stream",
     "text": [
      "2018-09-21 11:37:01,591:WARNING:\n",
      "Failed to read header row 6.\n",
      "2008 01 01 2016 07 08\n",
      "\n",
      "Error msg: IndexError('list index out of range',)\n"
     ]
    },
    {
     "name": "stderr",
     "output_type": "stream",
     "text": [
      "2018-09-21 11:37:01,658:WARNING:\n",
      "Failed to read header row 6.\n",
      "2008 01 01 2016 07 08\n",
      "\n",
      "Error msg: IndexError('list index out of range',)\n"
     ]
    },
    {
     "name": "stderr",
     "output_type": "stream",
     "text": [
      "2018-09-21 11:37:01,719:WARNING:\n",
      "Failed to read header row 6.\n",
      "2008 01 01 2016 07 08\n",
      "\n",
      "Error msg: IndexError('list index out of range',)\n"
     ]
    },
    {
     "name": "stderr",
     "output_type": "stream",
     "text": [
      "2018-09-21 11:37:01,789:WARNING:\n",
      "Failed to read header row 6.\n",
      "2008 01 01 2016 07 08\n",
      "\n",
      "Error msg: IndexError('list index out of range',)\n"
     ]
    },
    {
     "name": "stderr",
     "output_type": "stream",
     "text": [
      "2018-09-21 11:37:01,848:WARNING:\n",
      "Failed to read header row 6.\n",
      "2008 01 01 2016 07 08\n",
      "\n",
      "Error msg: IndexError('list index out of range',)\n"
     ]
    },
    {
     "name": "stderr",
     "output_type": "stream",
     "text": [
      "2018-09-21 11:37:01,908:WARNING:\n",
      "Failed to read header row 6.\n",
      "2008 01 01 2016 07 08\n",
      "\n",
      "Error msg: IndexError('list index out of range',)\n"
     ]
    },
    {
     "name": "stderr",
     "output_type": "stream",
     "text": [
      "2018-09-21 11:37:01,965:WARNING:\n",
      "Failed to read header row 6.\n",
      "2008 01 01 2016 07 08\n",
      "\n",
      "Error msg: IndexError('list index out of range',)\n"
     ]
    },
    {
     "name": "stderr",
     "output_type": "stream",
     "text": [
      "2018-09-21 11:37:02,025:WARNING:\n",
      "Failed to read header row 6.\n",
      "2008 01 01 2016 07 08\n",
      "\n",
      "Error msg: IndexError('list index out of range',)\n"
     ]
    },
    {
     "name": "stderr",
     "output_type": "stream",
     "text": [
      "2018-09-21 11:37:02,081:WARNING:\n",
      "Failed to read header row 6.\n",
      "2008 01 01 2016 07 08\n",
      "\n",
      "Error msg: IndexError('list index out of range',)\n"
     ]
    },
    {
     "name": "stderr",
     "output_type": "stream",
     "text": [
      "2018-09-21 11:37:02,144:WARNING:\n",
      "Failed to read header row 6.\n",
      "2008 01 01 2016 07 08\n",
      "\n",
      "Error msg: IndexError('list index out of range',)\n"
     ]
    },
    {
     "name": "stderr",
     "output_type": "stream",
     "text": [
      "2018-09-21 11:37:02,204:WARNING:\n",
      "Failed to read header row 6.\n",
      "2008 01 01 2016 07 08\n",
      "\n",
      "Error msg: IndexError('list index out of range',)\n"
     ]
    },
    {
     "name": "stderr",
     "output_type": "stream",
     "text": [
      "2018-09-21 11:37:02,284:WARNING:\n",
      "Failed to read header row 6.\n",
      "2008 01 01 2016 07 08\n",
      "\n",
      "Error msg: IndexError('list index out of range',)\n"
     ]
    },
    {
     "name": "stderr",
     "output_type": "stream",
     "text": [
      "2018-09-21 11:37:02,338:WARNING:\n",
      "Failed to read header row 6.\n",
      "2008 01 01 2016 07 08\n",
      "\n",
      "Error msg: IndexError('list index out of range',)\n"
     ]
    },
    {
     "name": "stderr",
     "output_type": "stream",
     "text": [
      "2018-09-21 11:37:02,393:WARNING:\n",
      "Failed to read header row 6.\n",
      "2008 01 01 2016 07 08\n",
      "\n",
      "Error msg: IndexError('list index out of range',)\n"
     ]
    },
    {
     "name": "stderr",
     "output_type": "stream",
     "text": [
      "2018-09-21 11:37:02,450:WARNING:\n",
      "Failed to read header row 6.\n",
      "2008 01 01 2016 07 08\n",
      "\n",
      "Error msg: IndexError('list index out of range',)\n"
     ]
    },
    {
     "name": "stderr",
     "output_type": "stream",
     "text": [
      "2018-09-21 11:37:02,508:WARNING:\n",
      "Failed to read header row 6.\n",
      "2008 01 01 2016 07 08\n",
      "\n",
      "Error msg: IndexError('list index out of range',)\n"
     ]
    },
    {
     "name": "stderr",
     "output_type": "stream",
     "text": [
      "2018-09-21 11:37:02,582:WARNING:\n",
      "Failed to read header row 6.\n",
      "2008 01 01 2016 07 08\n",
      "\n",
      "Error msg: IndexError('list index out of range',)\n"
     ]
    },
    {
     "name": "stderr",
     "output_type": "stream",
     "text": [
      "2018-09-21 11:37:02,646:WARNING:\n",
      "Failed to read header row 6.\n",
      "2008 01 01 2016 07 08\n",
      "\n",
      "Error msg: IndexError('list index out of range',)\n"
     ]
    },
    {
     "name": "stderr",
     "output_type": "stream",
     "text": [
      "2018-09-21 11:37:02,704:WARNING:\n",
      "Failed to read header row 6.\n",
      "2008 01 01 2016 07 08\n",
      "\n",
      "Error msg: IndexError('list index out of range',)\n"
     ]
    },
    {
     "name": "stderr",
     "output_type": "stream",
     "text": [
      "2018-09-21 11:37:02,765:WARNING:\n",
      "Failed to read header row 6.\n",
      "2008 01 01 2016 07 08\n",
      "\n",
      "Error msg: IndexError('list index out of range',)\n"
     ]
    },
    {
     "name": "stderr",
     "output_type": "stream",
     "text": [
      "2018-09-21 11:37:02,835:WARNING:\n",
      "Failed to read header row 6.\n",
      "2008 01 01 2016 07 08\n",
      "\n",
      "Error msg: IndexError('list index out of range',)\n"
     ]
    },
    {
     "name": "stderr",
     "output_type": "stream",
     "text": [
      "2018-09-21 11:37:02,890:WARNING:\n",
      "Failed to read header row 6.\n",
      "2008 01 01 2016 07 08\n",
      "\n",
      "Error msg: IndexError('list index out of range',)\n"
     ]
    },
    {
     "name": "stderr",
     "output_type": "stream",
     "text": [
      "2018-09-21 11:37:02,944:WARNING:\n",
      "Failed to read header row 6.\n",
      "2008 01 01 2016 07 08\n",
      "\n",
      "Error msg: IndexError('list index out of range',)\n"
     ]
    },
    {
     "name": "stdout",
     "output_type": "stream",
     "text": [
      "63 ms ± 2.2 ms per loop (mean ± std. dev. of 7 runs, 10 loops each)\n"
     ]
    }
   ],
   "source": [
    "%%timeit\n",
    "EbasNasaAmesFile(file=ebasdir+filename,\n",
    "                      only_head=False,          #set True if you only want to import header\n",
    "                      replace_invalid_nan=True, #replace invalid values with NaNs\n",
    "                      convert_timestamps=True,  #compute datetime64 timestamps from numerical values\n",
    "                      decode_flags=True,        #decode all flags (e.g. 0.111222333 -> 111 222 333)\n",
    "                      verbose=False)"
   ]
  }
 ],
 "metadata": {
  "kernelspec": {
   "display_name": "Python 3",
   "language": "python",
   "name": "python3"
  },
  "language_info": {
   "codemirror_mode": {
    "name": "ipython",
    "version": 3
   },
   "file_extension": ".py",
   "mimetype": "text/x-python",
   "name": "python",
   "nbconvert_exporter": "python",
   "pygments_lexer": "ipython3",
   "version": "3.6.6"
  }
 },
 "nbformat": 4,
 "nbformat_minor": 2
}
