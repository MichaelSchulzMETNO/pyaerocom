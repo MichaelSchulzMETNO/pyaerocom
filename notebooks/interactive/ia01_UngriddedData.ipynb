{
 "cells": [
  {
   "cell_type": "markdown",
   "metadata": {},
   "source": [
    "### Interactive plotting of information in UngriddedData objects"
   ]
  },
  {
   "cell_type": "code",
   "execution_count": 1,
   "metadata": {},
   "outputs": [
    {
     "name": "stderr",
     "output_type": "stream",
     "text": [
      "Init data paths for lustre\n"
     ]
    },
    {
     "name": "stdout",
     "output_type": "stream",
     "text": [
      "0.02747368812561035 s\n"
     ]
    }
   ],
   "source": [
    "import pyaerocom as pya\n",
    "from ipywidgets import interact, fixed"
   ]
  },
  {
   "cell_type": "code",
   "execution_count": 4,
   "metadata": {},
   "outputs": [],
   "source": [
    "obs_id = pya.const.AERONET_SUN_V3L2_AOD_DAILY_NAME\n",
    "varlist = ['od550aer', 'ang4487aer']"
   ]
  },
  {
   "cell_type": "code",
   "execution_count": 6,
   "metadata": {},
   "outputs": [
    {
     "name": "stderr",
     "output_type": "stream",
     "text": [
      "Found Cache match for AeronetSunV3Lev2.daily\n"
     ]
    },
    {
     "name": "stdout",
     "output_type": "stream",
     "text": [
      "\n",
      "Pyaerocom UngriddedData\n",
      "-----------------------\n",
      "Contains networks: ['AeronetSunV3Lev2.daily']\n",
      "Contains variables: ['ang4487aer', 'od550aer']\n",
      "Contains instruments: ['sun_photometer']\n",
      "Total no. of meta-blocks: 1013\n",
      "Filters that were applied:\n",
      " Filter time log: 20190206181623\n",
      "\taltitude: [0, 1000]\n"
     ]
    }
   ],
   "source": [
    "obs_reader = pya.io.ReadUngridded(obs_id, varlist)\n",
    "obs_data = obs_reader.read().filter_by_meta(altitude=[0, 1000])\n",
    "print(obs_data)"
   ]
  },
  {
   "cell_type": "markdown",
   "metadata": {},
   "source": [
    "#### Use *interact* method from ipywidgets to plot station map interactively"
   ]
  },
  {
   "cell_type": "code",
   "execution_count": 7,
   "metadata": {},
   "outputs": [
    {
     "data": {
      "application/vnd.jupyter.widget-view+json": {
       "model_id": "5b86fe16572649c8b6a1065a55e77428",
       "version_major": 2,
       "version_minor": 0
      },
      "text/plain": [
       "interactive(children=(Dropdown(description='var_name', options=('ang4487aer', 'od550aer'), value=None), Dropdo…"
      ]
     },
     "metadata": {},
     "output_type": "display_data"
    },
    {
     "data": {
      "text/plain": [
       "<function ipywidgets.widgets.interaction._InteractFactory.__call__.<locals>.<lambda>(*args, **kwargs)>"
      ]
     },
     "execution_count": 7,
     "metadata": {},
     "output_type": "execute_result"
    }
   ],
   "source": [
    "interact(obs_data.plot_station_coordinates, \n",
    "         var_name=obs_data.contains_vars,\n",
    "         filter_name=pya.region.get_all_default_region_ids(),\n",
    "         start=np.arange(2000, 2019), \n",
    "         stop=fixed(None), \n",
    "         ts_type=fixed(None),\n",
    "         color=fixed('lime'))"
   ]
  }
 ],
 "metadata": {
  "kernelspec": {
   "display_name": "Python 3",
   "language": "python",
   "name": "python3"
  },
  "language_info": {
   "codemirror_mode": {
    "name": "ipython",
    "version": 3
   },
   "file_extension": ".py",
   "mimetype": "text/x-python",
   "name": "python",
   "nbconvert_exporter": "python",
   "pygments_lexer": "ipython3",
   "version": "3.6.6"
  }
 },
 "nbformat": 4,
 "nbformat_minor": 2
}
