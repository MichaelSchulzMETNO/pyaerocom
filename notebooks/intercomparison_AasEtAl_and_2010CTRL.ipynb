{
 "cells": [
  {
   "cell_type": "code",
   "execution_count": 43,
   "metadata": {
    "scrolled": false
   },
   "outputs": [],
   "source": [
    "import pyaerocom as pya\n",
    "import matplotlib.pyplot as plt\n",
    "import pyaerocom as pya\n",
    "from pyaerocom.io.readungridded import ReadUngridded\n",
    "from pyaerocom.io.readgridded import ReadGridded\n",
    "from pyaerocom.io.helpers_units import (unitconv_sfc_conc_bck, \n",
    "                                        unitconv_sfc_conc, \n",
    "                                        unitconv_wet_depo_bck,\n",
    "                                        unitconv_wet_depo, unitconv_wet_depo_from_emep)\n",
    "import pandas as pd\n",
    "import numpy as np\n",
    "from pyaerocom.plot import df_to_heatmap"
   ]
  },
  {
   "cell_type": "markdown",
   "metadata": {},
   "source": [
    "Check version of pyaerocom:"
   ]
  },
  {
   "cell_type": "code",
   "execution_count": 2,
   "metadata": {},
   "outputs": [
    {
     "data": {
      "text/plain": [
       "'0.8.0.dev30'"
      ]
     },
     "execution_count": 2,
     "metadata": {},
     "output_type": "execute_result"
    }
   ],
   "source": [
    "pya.__version__ #0.8.1.dev1"
   ]
  },
  {
   "cell_type": "markdown",
   "metadata": {},
   "source": [
    "Viewing the supported variables. "
   ]
  },
  {
   "cell_type": "code",
   "execution_count": 235,
   "metadata": {},
   "outputs": [
    {
     "name": "stderr",
     "output_type": "stream",
     "text": [
      "Failed to import file aerocom3_GFDL-AM4-met2010_AP3-CTRL_sftlf_Surface_2010_fixed.nc\n",
      "Model: GFDL-AM4-met2010_AP3-CTRL\n",
      "Error: TemporalResolutionError('Invalid frequency fixed')\n",
      "Failed to import file aerocom3_GFDL-AM4-met2010_AP3-CTRL_areacella_Surface_2010_fixed.nc\n",
      "Model: GFDL-AM4-met2010_AP3-CTRL\n",
      "Error: TemporalResolutionError('Invalid frequency fixed')\n",
      "Failed to import file aerocom3_GFDL-AM4-met2010_AP3-CTRL_rsds_Surace_2010_monthly.nc\n",
      "Model: GFDL-AM4-met2010_AP3-CTRL\n",
      "Error: FileConventionError(\"Failed to extract variable name from file aerocom3_GFDL-AM4-met2010_AP3-CTRL_rsds_Surace_2010_monthly.nc using file convention aerocom3.\\nError: FileConventionError('Invalid file name (Aerocom 3 naming convention).\\\\n/lustre/storeA/project/aerocom/aerocom-users-database/AEROCOM-PHASE-III-2019/GFDL-AM4-met2010_AP3-CTRL/renamed/aerocom3_GFDL-AM4-met2010_AP3-CTRL_rsds_Surace_2010_monthly.nc\\\\nInvalid string identifier for vertical coordinate: Surace')\")\n",
      "Failed to import file aerocom3_GFDL-AM4-met2010_AP3-CTRL_orog_Surface_2010_fixed.nc\n",
      "Model: GFDL-AM4-met2010_AP3-CTRL\n",
      "Error: TemporalResolutionError('Invalid frequency fixed')\n"
     ]
    },
    {
     "name": "stdout",
     "output_type": "stream",
     "text": [
      "\n",
      "Pyaerocom ReadGridded\n",
      "---------------------\n",
      "Data ID: GFDL-AM4-met2010_AP3-CTRL\n",
      "Data directory: /lustre/storeA/project/aerocom/aerocom-users-database/AEROCOM-PHASE-III-2019/GFDL-AM4-met2010_AP3-CTRL/renamed\n",
      "Available experiments: ['AP3-CTRL']\n",
      "Available years: [2008, 2009, 2010]\n",
      "Available frequencies ['monthly' 'daily']\n",
      "Available variables: ['abs550aer', 'ac550aer', 'airmass', 'areacella', 'cdnc', 'chepsoa', 'clt', 'concdms', 'concso2', 'dh', 'drybc', 'drydust', 'drypoa', 'dryso4', 'drysoa', 'dryss', 'ec550aer', 'emibc', 'emidust', 'emipoa', 'emiso2', 'emiss', 'loadbc', 'loaddu', 'loadlgdst', 'loadoa', 'loadsmdst', 'loadso4', 'loadss', 'mmrbc', 'mmrdust', 'mmroa', 'mmrpm1', 'mmrpm10', 'mmrpm2p5', 'mmrso4', 'mmrss', 'od550aer', 'od550bc', 'od550dust', 'od550lt1aer', 'od550oa', 'od550so4', 'od550ss', 'od870aer', 'orog', 'pfull', 'pr', 'ps', 'rho', 'rlds', 'rldscs', 'rlus', 'rlut', 'rlutcs', 'rsds', 'rsdscs', 'rsdt', 'rsus', 'rsuscs', 'rsut', 'rsutcs', 'sftlf', 'tas', 'tntrl', 'tntrs', 'wetbc', 'wetdust', 'wetpoa', 'wetso4', 'wetsoa', 'wetss', 'zg', 'zg1000', 'zg500']\n"
     ]
    }
   ],
   "source": [
    "pya.browse_database('*GFDL-AM4-met2010_AP3-CTRL*')"
   ]
  },
  {
   "cell_type": "markdown",
   "metadata": {},
   "source": [
    "# Problems  with collocating 'GFDL-AM4-met2010_AP3-CTRL' and aas et al \n",
    "## look more into this later"
   ]
  },
  {
   "cell_type": "code",
   "execution_count": 3,
   "metadata": {},
   "outputs": [],
   "source": [
    "DATA_ID_models = ['OsloCTM3v1.01-met2010_AP3-CTRL',  'CAM5-ATRAS_AP3-CTRL']"
   ]
  },
  {
   "cell_type": "code",
   "execution_count": 4,
   "metadata": {},
   "outputs": [],
   "source": [
    "vars_to_retrieve = 'wetso4' # they all have the same unit"
   ]
  },
  {
   "cell_type": "code",
   "execution_count": 5,
   "metadata": {},
   "outputs": [],
   "source": [
    "DATA_ID = 'GAWTADsubsetAasEtAl'\n",
    "VAR_TO_READ = 'wetso4'\n",
    "aas_reader = ReadUngridded(DATA_ID)\n",
    "ungridded_data = aas_reader.read(datasets_to_read = 'GAWTADsubsetAasEtAl', vars_to_retrieve = 'wetso4')"
   ]
  },
  {
   "cell_type": "code",
   "execution_count": 18,
   "metadata": {
    "scrolled": true
   },
   "outputs": [],
   "source": [
    "# ungridded_data.to_station_data('Algoma')"
   ]
  },
  {
   "cell_type": "code",
   "execution_count": 7,
   "metadata": {
    "scrolled": true
   },
   "outputs": [
    {
     "name": "stderr",
     "output_type": "stream",
     "text": [
      "Invalid var_name time for coord None in cube. Overwriting with time\n",
      "Invalid long_name None for coord time in cube. Overwriting with Time\n",
      "Invalid long_name latitude for coord lat in cube. Overwriting with Center coordinates for latitudes\n",
      "Invalid long_name longitude for coord lon in cube. Overwriting with Center coordinates for longitudes\n"
     ]
    }
   ],
   "source": [
    "reader_model = pya.io.ReadGridded(DATA_ID_models[0])\n",
    "gridded_data = reader_model.read(vars_to_retrieve = [vars_to_retrieve], start = 2010)"
   ]
  },
  {
   "cell_type": "code",
   "execution_count": 214,
   "metadata": {},
   "outputs": [
    {
     "name": "stderr",
     "output_type": "stream",
     "text": [
      "Invalid var_name time for coord None in cube. Overwriting with time\n",
      "Invalid long_name None for coord time in cube. Overwriting with Time\n",
      "Invalid long_name latitude for coord lat in cube. Overwriting with Center coordinates for latitudes\n",
      "Invalid long_name longitude for coord lon in cube. Overwriting with Center coordinates for longitudes\n",
      "Failed to import file aerocom3_GFDL-AM4-met2010_AP3-CTRL_sftlf_Surface_2010_fixed.nc\n",
      "Model: GFDL-AM4-met2010_AP3-CTRL\n",
      "Error: TemporalResolutionError('Invalid frequency fixed')\n",
      "Failed to import file aerocom3_GFDL-AM4-met2010_AP3-CTRL_areacella_Surface_2010_fixed.nc\n",
      "Model: GFDL-AM4-met2010_AP3-CTRL\n",
      "Error: TemporalResolutionError('Invalid frequency fixed')\n",
      "Failed to import file aerocom3_GFDL-AM4-met2010_AP3-CTRL_rsds_Surace_2010_monthly.nc\n",
      "Model: GFDL-AM4-met2010_AP3-CTRL\n",
      "Error: FileConventionError(\"Failed to extract variable name from file aerocom3_GFDL-AM4-met2010_AP3-CTRL_rsds_Surace_2010_monthly.nc using file convention aerocom3.\\nError: FileConventionError('Invalid file name (Aerocom 3 naming convention).\\\\n/lustre/storeA/project/aerocom/aerocom-users-database/AEROCOM-PHASE-III-2019/GFDL-AM4-met2010_AP3-CTRL/renamed/aerocom3_GFDL-AM4-met2010_AP3-CTRL_rsds_Surace_2010_monthly.nc\\\\nInvalid string identifier for vertical coordinate: Surace')\")\n",
      "Failed to import file aerocom3_GFDL-AM4-met2010_AP3-CTRL_orog_Surface_2010_fixed.nc\n",
      "Model: GFDL-AM4-met2010_AP3-CTRL\n",
      "Error: TemporalResolutionError('Invalid frequency fixed')\n",
      "/home/hannas/Desktop/pyaerocom/pyaerocom/io/iris_io.py:415: FutureWarning: Creating a DatetimeIndex by passing range endpoints is deprecated.  Use `pandas.date_range` instead.\n",
      "  freq=TS_TYPE_TO_PANDAS_FREQ[ts_type])\n",
      "Invalid long_name time for coord time in cube. Overwriting with Time\n",
      "Invalid long_name latitude for coord lat in cube. Overwriting with Center coordinates for latitudes\n",
      "Invalid long_name longitude for coord lon in cube. Overwriting with Center coordinates for longitudes\n",
      "Failed to import file aerocom3_CAM5-ATRAS_AP3-CTRL_areacella_Surface_2010_fixed.nc\n",
      "Model: CAM5-ATRAS_AP3-CTRL\n",
      "Error: TemporalResolutionError('Invalid frequency fixed')\n",
      "Failed to import file aerocom3_CAM5-ATRAS_AP3-CTRL_areacella_Surface_1850_fixed.nc\n",
      "Model: CAM5-ATRAS_AP3-CTRL\n",
      "Error: TemporalResolutionError('Invalid frequency fixed')\n",
      "Failed to import file aerocom3_CAM5-ATRAS_AP3-CTRL_orog_Surface_1750_fixed.nc\n",
      "Model: CAM5-ATRAS_AP3-CTRL\n",
      "Error: TemporalResolutionError('Invalid frequency fixed')\n",
      "Failed to import file aerocom3_CAM5-ATRAS_AP3-CTRL_sftlf_Surface_1850_fixed.nc\n",
      "Model: CAM5-ATRAS_AP3-CTRL\n",
      "Error: TemporalResolutionError('Invalid frequency fixed')\n",
      "Failed to import file aerocom3_CAM5-ATRAS_AP3-CTRL_sftlf_Surface_1750_fixed.nc\n",
      "Model: CAM5-ATRAS_AP3-CTRL\n",
      "Error: TemporalResolutionError('Invalid frequency fixed')\n",
      "Failed to import file aerocom3_CAM5-ATRAS_AP3-CTRL_orog_Surface_2010_fixed.nc\n",
      "Model: CAM5-ATRAS_AP3-CTRL\n",
      "Error: TemporalResolutionError('Invalid frequency fixed')\n",
      "Failed to import file aerocom3_CAM5-ATRAS_AP3-CTRL_sftlf_Surface_2010_fixed.nc\n",
      "Model: CAM5-ATRAS_AP3-CTRL\n",
      "Error: TemporalResolutionError('Invalid frequency fixed')\n",
      "Failed to import file aerocom3_CAM5-ATRAS_AP3-CTRL_areacella_Surface_1750_fixed.nc\n",
      "Model: CAM5-ATRAS_AP3-CTRL\n",
      "Error: TemporalResolutionError('Invalid frequency fixed')\n",
      "Failed to import file aerocom3_CAM5-ATRAS_AP3-CTRL_orog_Surface_1850_fixed.nc\n",
      "Model: CAM5-ATRAS_AP3-CTRL\n",
      "Error: TemporalResolutionError('Invalid frequency fixed')\n",
      "/home/hannas/Desktop/pyaerocom/pyaerocom/io/iris_io.py:415: FutureWarning: Creating a DatetimeIndex by passing range endpoints is deprecated.  Use `pandas.date_range` instead.\n",
      "  freq=TS_TYPE_TO_PANDAS_FREQ[ts_type])\n",
      "Invalid long_name time for coord time in cube. Overwriting with Time\n",
      "Invalid long_name latitude for coord lat in cube. Overwriting with Center coordinates for latitudes\n",
      "Invalid long_name longitude for coord lon in cube. Overwriting with Center coordinates for longitudes\n"
     ]
    }
   ],
   "source": [
    "gridded_data = [pya.io.ReadGridded(ID).read(vars_to_retrieve = [vars_to_retrieve], start = 2010)[0] \n",
    "                for ID in DATA_ID_models ]"
   ]
  },
  {
   "cell_type": "code",
   "execution_count": 227,
   "metadata": {},
   "outputs": [
    {
     "data": {
      "text/plain": [
       "[pyaerocom.GriddedData\n",
       " Grid data: <iris 'Cube' of wetso4 / (kg m-2 s-1) (time: 12; latitude: 80; longitude: 160)>,\n",
       " pyaerocom.GriddedData\n",
       " Grid data: <iris 'Cube' of tendency_of_atmosphere_mass_content_of_sulfate_dry_aerosol_particles_due_to_wet_deposition / (kg m-2 s-1) (time: 12; latitude: 180; longitude: 288)>,\n",
       " pyaerocom.GriddedData\n",
       " Grid data: <iris 'Cube' of wet deposition rate of so4 / (kg m-2 s-1) (time: 12; latitude: 96; longitude: 144)>]"
      ]
     },
     "execution_count": 227,
     "metadata": {},
     "output_type": "execute_result"
    }
   ],
   "source": [
    "gridded_data"
   ]
  },
  {
   "cell_type": "code",
   "execution_count": 231,
   "metadata": {},
   "outputs": [
    {
     "data": {
      "text/plain": [
       "[pyaerocom.GriddedData\n",
       " Grid data: <iris 'Cube' of wetso4 / (kg m-2 s-1) (time: 12; latitude: 80; longitude: 160)>,\n",
       " pyaerocom.GriddedData\n",
       " Grid data: <iris 'Cube' of tendency_of_atmosphere_mass_content_of_sulfate_dry_aerosol_particles_due_to_wet_deposition / (kg m-2 s-1) (time: 12; latitude: 180; longitude: 288)>]"
      ]
     },
     "execution_count": 231,
     "metadata": {},
     "output_type": "execute_result"
    }
   ],
   "source": [
    "gridded_data[0:2]"
   ]
  },
  {
   "cell_type": "code",
   "execution_count": 232,
   "metadata": {},
   "outputs": [
    {
     "name": "stderr",
     "output_type": "stream",
     "text": [
      "Setting wetso4 outlier lower lim: 0.00\n",
      "Setting wetso4 outlier upper lim: 10000.00\n",
      "Interpolating data of shape (12, 80, 160). This may take a while.\n",
      "/home/hannas/anaconda3/lib/python3.7/site-packages/numpy/ma/core.py:3174: FutureWarning: Using a non-tuple sequence for multidimensional indexing is deprecated; use `arr[tuple(seq)]` instead of `arr[seq]`. In the future this will be interpreted as an array index, `arr[np.array(seq)]`, which will result either in an error or a different result.\n",
      "  dout = self.data[indx]\n",
      "/home/hannas/anaconda3/lib/python3.7/site-packages/iris/analysis/_scipy_interpolate.py:290: FutureWarning: Using a non-tuple sequence for multidimensional indexing is deprecated; use `arr[tuple(seq)]` instead of `arr[seq]`. In the future this will be interpreted as an array index, `arr[np.array(seq)]`, which will result either in an error or a different result.\n",
      "  return self.values[idx_res]\n",
      "Successfully interpolated cube\n",
      "/home/hannas/Desktop/pyaerocom/pyaerocom/colocation.py:461: FutureWarning: Creating a DatetimeIndex by passing range endpoints is deprecated.  Use `pandas.date_range` instead.\n",
      "  time_idx = pd.DatetimeIndex(freq=freq_pd, start=start, end=stop)\n"
     ]
    }
   ],
   "source": [
    "ONE = pya.colocation.colocate_gridded_ungridded(gridded_data[0], \n",
    "                            ungridded_data, ts_type='monthly')\n"
   ]
  },
  {
   "cell_type": "code",
   "execution_count": 236,
   "metadata": {
    "scrolled": false
   },
   "outputs": [],
   "source": [
    "#two = pya.colocation.colocate_gridded_ungridded(gridded_data[1], \n",
    "#                            ungridded_data, ts_type='monthly')\n",
    "\n",
    "# ColocationError: No observations could be found that match the colocation constraints\n",
    " "
   ]
  },
  {
   "cell_type": "code",
   "execution_count": 248,
   "metadata": {},
   "outputs": [
    {
     "name": "stderr",
     "output_type": "stream",
     "text": [
      "Setting wetso4 outlier lower lim: 0.00\n",
      "Setting wetso4 outlier upper lim: 10000.00\n",
      "Interpolating data of shape (12, 96, 144). This may take a while.\n",
      "/home/hannas/anaconda3/lib/python3.7/site-packages/numpy/ma/core.py:3174: FutureWarning: Using a non-tuple sequence for multidimensional indexing is deprecated; use `arr[tuple(seq)]` instead of `arr[seq]`. In the future this will be interpreted as an array index, `arr[np.array(seq)]`, which will result either in an error or a different result.\n",
      "  dout = self.data[indx]\n",
      "/home/hannas/anaconda3/lib/python3.7/site-packages/iris/analysis/_scipy_interpolate.py:290: FutureWarning: Using a non-tuple sequence for multidimensional indexing is deprecated; use `arr[tuple(seq)]` instead of `arr[seq]`. In the future this will be interpreted as an array index, `arr[np.array(seq)]`, which will result either in an error or a different result.\n",
      "  return self.values[idx_res]\n",
      "Successfully interpolated cube\n",
      "/home/hannas/Desktop/pyaerocom/pyaerocom/colocation.py:461: FutureWarning: Creating a DatetimeIndex by passing range endpoints is deprecated.  Use `pandas.date_range` instead.\n",
      "  time_idx = pd.DatetimeIndex(freq=freq_pd, start=start, end=stop)\n"
     ]
    }
   ],
   "source": [
    "THREE = pya.colocation.colocate_gridded_ungridded(gridded_data[2], \n",
    "                            ungridded_data, ts_type='monthly')"
   ]
  },
  {
   "cell_type": "markdown",
   "metadata": {},
   "source": [
    "# Colocate "
   ]
  },
  {
   "cell_type": "code",
   "execution_count": 319,
   "metadata": {},
   "outputs": [],
   "source": [
    "table = ONE.data.sel(station_name = 'Abington (CT15)').to_dataframe()\n",
    "table2 = THREE.data.sel(station_name = 'Abington (CT15)').to_dataframe()\n",
    "table = table.drop(columns=['var_name', 'var_units', 'ts_type_src', 'station_name', \n",
    "                              'altitude', 'latitude', 'longitude' ])\n",
    "table2 = table2.drop(columns=['var_name', 'var_units', 'ts_type_src', 'station_name', \n",
    "                              'altitude', 'latitude', 'longitude' ])\n",
    "table2 = table2.unstack(0)\n",
    "table = table.unstack(0)"
   ]
  },
  {
   "cell_type": "code",
   "execution_count": 329,
   "metadata": {},
   "outputs": [],
   "source": [
    "table.rename(columns={'GAWTADsubsetAasEtAl': 'obs', 'OsloCTM3v1.01-met2010_AP3-CTRL': \n",
    "                     'OsloCTM', 'wetso4':'raw', 'data_source': None}, inplace = True)"
   ]
  },
  {
   "cell_type": "code",
   "execution_count": 337,
   "metadata": {},
   "outputs": [],
   "source": [
    "#table = table['raw']\n",
    "table.columns = ['obs', 'Oslo']"
   ]
  },
  {
   "cell_type": "code",
   "execution_count": 347,
   "metadata": {},
   "outputs": [
    {
     "data": {
      "text/html": [
       "<div>\n",
       "<style scoped>\n",
       "    .dataframe tbody tr th:only-of-type {\n",
       "        vertical-align: middle;\n",
       "    }\n",
       "\n",
       "    .dataframe tbody tr th {\n",
       "        vertical-align: top;\n",
       "    }\n",
       "\n",
       "    .dataframe thead th {\n",
       "        text-align: right;\n",
       "    }\n",
       "</style>\n",
       "<table border=\"1\" class=\"dataframe\">\n",
       "  <thead>\n",
       "    <tr style=\"text-align: right;\">\n",
       "      <th></th>\n",
       "      <th>obs</th>\n",
       "      <th>Oslo</th>\n",
       "    </tr>\n",
       "    <tr>\n",
       "      <th>time</th>\n",
       "      <th></th>\n",
       "      <th></th>\n",
       "    </tr>\n",
       "  </thead>\n",
       "  <tbody>\n",
       "    <tr>\n",
       "      <th>2010-01-15</th>\n",
       "      <td>NaN</td>\n",
       "      <td>1.101474e-11</td>\n",
       "    </tr>\n",
       "    <tr>\n",
       "      <th>2010-02-15</th>\n",
       "      <td>0.001201</td>\n",
       "      <td>1.617417e-11</td>\n",
       "    </tr>\n",
       "    <tr>\n",
       "      <th>2010-03-15</th>\n",
       "      <td>0.002394</td>\n",
       "      <td>3.028526e-11</td>\n",
       "    </tr>\n",
       "    <tr>\n",
       "      <th>2010-04-15</th>\n",
       "      <td>0.001815</td>\n",
       "      <td>2.441301e-11</td>\n",
       "    </tr>\n",
       "    <tr>\n",
       "      <th>2010-05-15</th>\n",
       "      <td>0.002136</td>\n",
       "      <td>1.239039e-11</td>\n",
       "    </tr>\n",
       "    <tr>\n",
       "      <th>2010-06-15</th>\n",
       "      <td>0.004404</td>\n",
       "      <td>3.170837e-11</td>\n",
       "    </tr>\n",
       "    <tr>\n",
       "      <th>2010-07-15</th>\n",
       "      <td>0.002919</td>\n",
       "      <td>1.745229e-11</td>\n",
       "    </tr>\n",
       "    <tr>\n",
       "      <th>2010-08-15</th>\n",
       "      <td>0.004150</td>\n",
       "      <td>2.264605e-11</td>\n",
       "    </tr>\n",
       "    <tr>\n",
       "      <th>2010-09-15</th>\n",
       "      <td>NaN</td>\n",
       "      <td>1.474363e-11</td>\n",
       "    </tr>\n",
       "    <tr>\n",
       "      <th>2010-10-15</th>\n",
       "      <td>NaN</td>\n",
       "      <td>2.707664e-11</td>\n",
       "    </tr>\n",
       "    <tr>\n",
       "      <th>2010-11-15</th>\n",
       "      <td>0.001329</td>\n",
       "      <td>1.241212e-11</td>\n",
       "    </tr>\n",
       "    <tr>\n",
       "      <th>2010-12-15</th>\n",
       "      <td>0.001029</td>\n",
       "      <td>1.188433e-11</td>\n",
       "    </tr>\n",
       "  </tbody>\n",
       "</table>\n",
       "</div>"
      ],
      "text/plain": [
       "                 obs          Oslo\n",
       "time                              \n",
       "2010-01-15       NaN  1.101474e-11\n",
       "2010-02-15  0.001201  1.617417e-11\n",
       "2010-03-15  0.002394  3.028526e-11\n",
       "2010-04-15  0.001815  2.441301e-11\n",
       "2010-05-15  0.002136  1.239039e-11\n",
       "2010-06-15  0.004404  3.170837e-11\n",
       "2010-07-15  0.002919  1.745229e-11\n",
       "2010-08-15  0.004150  2.264605e-11\n",
       "2010-09-15       NaN  1.474363e-11\n",
       "2010-10-15       NaN  2.707664e-11\n",
       "2010-11-15  0.001329  1.241212e-11\n",
       "2010-12-15  0.001029  1.188433e-11"
      ]
     },
     "execution_count": 347,
     "metadata": {},
     "output_type": "execute_result"
    }
   ],
   "source": [
    "table"
   ]
  },
  {
   "cell_type": "code",
   "execution_count": 321,
   "metadata": {},
   "outputs": [
    {
     "data": {
      "text/plain": [
       "MultiIndex(levels=[['wetso4'], ['GAWTADsubsetAasEtAl', 'OsloCTM3v1.01-met2010_AP3-CTRL']],\n",
       "           codes=[[0, 0], [0, 1]],\n",
       "           names=[None, 'data_source'])"
      ]
     },
     "execution_count": 321,
     "metadata": {},
     "output_type": "execute_result"
    }
   ],
   "source": [
    "table.columns"
   ]
  },
  {
   "cell_type": "code",
   "execution_count": 322,
   "metadata": {
    "scrolled": false
   },
   "outputs": [
    {
     "data": {
      "text/html": [
       "<div>\n",
       "<style scoped>\n",
       "    .dataframe tbody tr th:only-of-type {\n",
       "        vertical-align: middle;\n",
       "    }\n",
       "\n",
       "    .dataframe tbody tr th {\n",
       "        vertical-align: top;\n",
       "    }\n",
       "\n",
       "    .dataframe thead tr th {\n",
       "        text-align: left;\n",
       "    }\n",
       "\n",
       "    .dataframe thead tr:last-of-type th {\n",
       "        text-align: right;\n",
       "    }\n",
       "</style>\n",
       "<table border=\"1\" class=\"dataframe\">\n",
       "  <thead>\n",
       "    <tr>\n",
       "      <th></th>\n",
       "      <th colspan=\"2\" halign=\"left\">wetso4</th>\n",
       "    </tr>\n",
       "    <tr>\n",
       "      <th>data_source</th>\n",
       "      <th>GAWTADsubsetAasEtAl</th>\n",
       "      <th>OsloCTM3v1.01-met2010_AP3-CTRL</th>\n",
       "    </tr>\n",
       "    <tr>\n",
       "      <th>time</th>\n",
       "      <th></th>\n",
       "      <th></th>\n",
       "    </tr>\n",
       "  </thead>\n",
       "  <tbody>\n",
       "    <tr>\n",
       "      <th>2010-01-15</th>\n",
       "      <td>NaN</td>\n",
       "      <td>1.101474e-11</td>\n",
       "    </tr>\n",
       "    <tr>\n",
       "      <th>2010-02-15</th>\n",
       "      <td>0.001201</td>\n",
       "      <td>1.617417e-11</td>\n",
       "    </tr>\n",
       "    <tr>\n",
       "      <th>2010-03-15</th>\n",
       "      <td>0.002394</td>\n",
       "      <td>3.028526e-11</td>\n",
       "    </tr>\n",
       "    <tr>\n",
       "      <th>2010-04-15</th>\n",
       "      <td>0.001815</td>\n",
       "      <td>2.441301e-11</td>\n",
       "    </tr>\n",
       "    <tr>\n",
       "      <th>2010-05-15</th>\n",
       "      <td>0.002136</td>\n",
       "      <td>1.239039e-11</td>\n",
       "    </tr>\n",
       "    <tr>\n",
       "      <th>2010-06-15</th>\n",
       "      <td>0.004404</td>\n",
       "      <td>3.170837e-11</td>\n",
       "    </tr>\n",
       "    <tr>\n",
       "      <th>2010-07-15</th>\n",
       "      <td>0.002919</td>\n",
       "      <td>1.745229e-11</td>\n",
       "    </tr>\n",
       "    <tr>\n",
       "      <th>2010-08-15</th>\n",
       "      <td>0.004150</td>\n",
       "      <td>2.264605e-11</td>\n",
       "    </tr>\n",
       "    <tr>\n",
       "      <th>2010-09-15</th>\n",
       "      <td>NaN</td>\n",
       "      <td>1.474363e-11</td>\n",
       "    </tr>\n",
       "    <tr>\n",
       "      <th>2010-10-15</th>\n",
       "      <td>NaN</td>\n",
       "      <td>2.707664e-11</td>\n",
       "    </tr>\n",
       "    <tr>\n",
       "      <th>2010-11-15</th>\n",
       "      <td>0.001329</td>\n",
       "      <td>1.241212e-11</td>\n",
       "    </tr>\n",
       "    <tr>\n",
       "      <th>2010-12-15</th>\n",
       "      <td>0.001029</td>\n",
       "      <td>1.188433e-11</td>\n",
       "    </tr>\n",
       "  </tbody>\n",
       "</table>\n",
       "</div>"
      ],
      "text/plain": [
       "                         wetso4                               \n",
       "data_source GAWTADsubsetAasEtAl OsloCTM3v1.01-met2010_AP3-CTRL\n",
       "time                                                          \n",
       "2010-01-15                  NaN                   1.101474e-11\n",
       "2010-02-15             0.001201                   1.617417e-11\n",
       "2010-03-15             0.002394                   3.028526e-11\n",
       "2010-04-15             0.001815                   2.441301e-11\n",
       "2010-05-15             0.002136                   1.239039e-11\n",
       "2010-06-15             0.004404                   3.170837e-11\n",
       "2010-07-15             0.002919                   1.745229e-11\n",
       "2010-08-15             0.004150                   2.264605e-11\n",
       "2010-09-15                  NaN                   1.474363e-11\n",
       "2010-10-15                  NaN                   2.707664e-11\n",
       "2010-11-15             0.001329                   1.241212e-11\n",
       "2010-12-15             0.001029                   1.188433e-11"
      ]
     },
     "execution_count": 322,
     "metadata": {},
     "output_type": "execute_result"
    }
   ],
   "source": [
    "table"
   ]
  },
  {
   "cell_type": "code",
   "execution_count": 323,
   "metadata": {},
   "outputs": [
    {
     "data": {
      "text/plain": [
       "<matplotlib.axes._subplots.AxesSubplot at 0x7f0ee135fbd0>"
      ]
     },
     "execution_count": 323,
     "metadata": {},
     "output_type": "execute_result"
    },
    {
     "data": {
      "image/png": "[encoded data removed]",
      "text/plain": [
       "<Figure size 864x864 with 1 Axes>"
      ]
     },
     "metadata": {
      "needs_background": "light"
     },
     "output_type": "display_data"
    }
   ],
   "source": [
    "df_to_heatmap(table2)"
   ]
  },
  {
   "cell_type": "code",
   "execution_count": 327,
   "metadata": {},
   "outputs": [
    {
     "data": {
      "text/html": [
       "<div>\n",
       "<style scoped>\n",
       "    .dataframe tbody tr th:only-of-type {\n",
       "        vertical-align: middle;\n",
       "    }\n",
       "\n",
       "    .dataframe tbody tr th {\n",
       "        vertical-align: top;\n",
       "    }\n",
       "\n",
       "    .dataframe thead tr th {\n",
       "        text-align: left;\n",
       "    }\n",
       "\n",
       "    .dataframe thead tr:last-of-type th {\n",
       "        text-align: right;\n",
       "    }\n",
       "</style>\n",
       "<table border=\"1\" class=\"dataframe\">\n",
       "  <thead>\n",
       "    <tr>\n",
       "      <th></th>\n",
       "      <th colspan=\"2\" halign=\"left\">wetso4</th>\n",
       "    </tr>\n",
       "    <tr>\n",
       "      <th>data_source</th>\n",
       "      <th>GAWTADsubsetAasEtAl</th>\n",
       "      <th>OsloCTM3v1.01-met2010_AP3-CTRL</th>\n",
       "    </tr>\n",
       "    <tr>\n",
       "      <th>time</th>\n",
       "      <th></th>\n",
       "      <th></th>\n",
       "    </tr>\n",
       "  </thead>\n",
       "  <tbody>\n",
       "    <tr>\n",
       "      <th>2010-01-15</th>\n",
       "      <td>NaN</td>\n",
       "      <td>1.101474e-11</td>\n",
       "    </tr>\n",
       "    <tr>\n",
       "      <th>2010-02-15</th>\n",
       "      <td>0.001201</td>\n",
       "      <td>1.617417e-11</td>\n",
       "    </tr>\n",
       "    <tr>\n",
       "      <th>2010-03-15</th>\n",
       "      <td>0.002394</td>\n",
       "      <td>3.028526e-11</td>\n",
       "    </tr>\n",
       "    <tr>\n",
       "      <th>2010-04-15</th>\n",
       "      <td>0.001815</td>\n",
       "      <td>2.441301e-11</td>\n",
       "    </tr>\n",
       "    <tr>\n",
       "      <th>2010-05-15</th>\n",
       "      <td>0.002136</td>\n",
       "      <td>1.239039e-11</td>\n",
       "    </tr>\n",
       "    <tr>\n",
       "      <th>2010-06-15</th>\n",
       "      <td>0.004404</td>\n",
       "      <td>3.170837e-11</td>\n",
       "    </tr>\n",
       "    <tr>\n",
       "      <th>2010-07-15</th>\n",
       "      <td>0.002919</td>\n",
       "      <td>1.745229e-11</td>\n",
       "    </tr>\n",
       "    <tr>\n",
       "      <th>2010-08-15</th>\n",
       "      <td>0.004150</td>\n",
       "      <td>2.264605e-11</td>\n",
       "    </tr>\n",
       "    <tr>\n",
       "      <th>2010-09-15</th>\n",
       "      <td>NaN</td>\n",
       "      <td>1.474363e-11</td>\n",
       "    </tr>\n",
       "    <tr>\n",
       "      <th>2010-10-15</th>\n",
       "      <td>NaN</td>\n",
       "      <td>2.707664e-11</td>\n",
       "    </tr>\n",
       "    <tr>\n",
       "      <th>2010-11-15</th>\n",
       "      <td>0.001329</td>\n",
       "      <td>1.241212e-11</td>\n",
       "    </tr>\n",
       "    <tr>\n",
       "      <th>2010-12-15</th>\n",
       "      <td>0.001029</td>\n",
       "      <td>1.188433e-11</td>\n",
       "    </tr>\n",
       "  </tbody>\n",
       "</table>\n",
       "</div>"
      ],
      "text/plain": [
       "                         wetso4                               \n",
       "data_source GAWTADsubsetAasEtAl OsloCTM3v1.01-met2010_AP3-CTRL\n",
       "time                                                          \n",
       "2010-01-15                  NaN                   1.101474e-11\n",
       "2010-02-15             0.001201                   1.617417e-11\n",
       "2010-03-15             0.002394                   3.028526e-11\n",
       "2010-04-15             0.001815                   2.441301e-11\n",
       "2010-05-15             0.002136                   1.239039e-11\n",
       "2010-06-15             0.004404                   3.170837e-11\n",
       "2010-07-15             0.002919                   1.745229e-11\n",
       "2010-08-15             0.004150                   2.264605e-11\n",
       "2010-09-15                  NaN                   1.474363e-11\n",
       "2010-10-15                  NaN                   2.707664e-11\n",
       "2010-11-15             0.001329                   1.241212e-11\n",
       "2010-12-15             0.001029                   1.188433e-11"
      ]
     },
     "execution_count": 327,
     "metadata": {},
     "output_type": "execute_result"
    }
   ],
   "source": [
    "table"
   ]
  },
  {
   "cell_type": "code",
   "execution_count": 325,
   "metadata": {},
   "outputs": [
    {
     "ename": "ValueError",
     "evalue": "The column label 'wetso4' is not unique.\nFor a multi-index, the label must be a tuple with elements corresponding to each level.",
     "output_type": "error",
     "traceback": [
      "\u001b[0;31m---------------------------------------------------------------------------\u001b[0m",
      "\u001b[0;31mValueError\u001b[0m                                Traceback (most recent call last)",
      "\u001b[0;32m<ipython-input-325-ca77e153605c>\u001b[0m in \u001b[0;36m<module>\u001b[0;34m\u001b[0m\n\u001b[0;32m----> 1\u001b[0;31m \u001b[0mtable\u001b[0m \u001b[0;34m=\u001b[0m \u001b[0mpd\u001b[0m\u001b[0;34m.\u001b[0m\u001b[0mmerge\u001b[0m\u001b[0;34m(\u001b[0m\u001b[0mtable\u001b[0m\u001b[0;34m,\u001b[0m \u001b[0mtable2\u001b[0m\u001b[0;34m,\u001b[0m \u001b[0mright_on\u001b[0m\u001b[0;34m=\u001b[0m\u001b[0;34m'wetso4'\u001b[0m\u001b[0;34m,\u001b[0m \u001b[0mleft_index\u001b[0m\u001b[0;34m=\u001b[0m\u001b[0;32mTrue\u001b[0m\u001b[0;34m)\u001b[0m\u001b[0;34m\u001b[0m\u001b[0;34m\u001b[0m\u001b[0m\n\u001b[0m",
      "\u001b[0;32m~/anaconda3/lib/python3.7/site-packages/pandas/core/reshape/merge.py\u001b[0m in \u001b[0;36mmerge\u001b[0;34m(left, right, how, on, left_on, right_on, left_index, right_index, sort, suffixes, copy, indicator, validate)\u001b[0m\n\u001b[1;32m     45\u001b[0m                          \u001b[0mright_index\u001b[0m\u001b[0;34m=\u001b[0m\u001b[0mright_index\u001b[0m\u001b[0;34m,\u001b[0m \u001b[0msort\u001b[0m\u001b[0;34m=\u001b[0m\u001b[0msort\u001b[0m\u001b[0;34m,\u001b[0m \u001b[0msuffixes\u001b[0m\u001b[0;34m=\u001b[0m\u001b[0msuffixes\u001b[0m\u001b[0;34m,\u001b[0m\u001b[0;34m\u001b[0m\u001b[0;34m\u001b[0m\u001b[0m\n\u001b[1;32m     46\u001b[0m                          \u001b[0mcopy\u001b[0m\u001b[0;34m=\u001b[0m\u001b[0mcopy\u001b[0m\u001b[0;34m,\u001b[0m \u001b[0mindicator\u001b[0m\u001b[0;34m=\u001b[0m\u001b[0mindicator\u001b[0m\u001b[0;34m,\u001b[0m\u001b[0;34m\u001b[0m\u001b[0;34m\u001b[0m\u001b[0m\n\u001b[0;32m---> 47\u001b[0;31m                          validate=validate)\n\u001b[0m\u001b[1;32m     48\u001b[0m     \u001b[0;32mreturn\u001b[0m \u001b[0mop\u001b[0m\u001b[0;34m.\u001b[0m\u001b[0mget_result\u001b[0m\u001b[0;34m(\u001b[0m\u001b[0;34m)\u001b[0m\u001b[0;34m\u001b[0m\u001b[0;34m\u001b[0m\u001b[0m\n\u001b[1;32m     49\u001b[0m \u001b[0;34m\u001b[0m\u001b[0m\n",
      "\u001b[0;32m~/anaconda3/lib/python3.7/site-packages/pandas/core/reshape/merge.py\u001b[0m in \u001b[0;36m__init__\u001b[0;34m(self, left, right, how, on, left_on, right_on, axis, left_index, right_index, sort, suffixes, copy, indicator, validate)\u001b[0m\n\u001b[1;32m    527\u001b[0m         (self.left_join_keys,\n\u001b[1;32m    528\u001b[0m          \u001b[0mself\u001b[0m\u001b[0;34m.\u001b[0m\u001b[0mright_join_keys\u001b[0m\u001b[0;34m,\u001b[0m\u001b[0;34m\u001b[0m\u001b[0;34m\u001b[0m\u001b[0m\n\u001b[0;32m--> 529\u001b[0;31m          self.join_names) = self._get_merge_keys()\n\u001b[0m\u001b[1;32m    530\u001b[0m \u001b[0;34m\u001b[0m\u001b[0m\n\u001b[1;32m    531\u001b[0m         \u001b[0;31m# validate the merge keys dtypes. We may need to coerce\u001b[0m\u001b[0;34m\u001b[0m\u001b[0;34m\u001b[0m\u001b[0;34m\u001b[0m\u001b[0m\n",
      "\u001b[0;32m~/anaconda3/lib/python3.7/site-packages/pandas/core/reshape/merge.py\u001b[0m in \u001b[0;36m_get_merge_keys\u001b[0;34m(self)\u001b[0m\n\u001b[1;32m    870\u001b[0m                     \u001b[0mjoin_names\u001b[0m\u001b[0;34m.\u001b[0m\u001b[0mappend\u001b[0m\u001b[0;34m(\u001b[0m\u001b[0;32mNone\u001b[0m\u001b[0;34m)\u001b[0m\u001b[0;34m\u001b[0m\u001b[0;34m\u001b[0m\u001b[0m\n\u001b[1;32m    871\u001b[0m                 \u001b[0;32melse\u001b[0m\u001b[0;34m:\u001b[0m\u001b[0;34m\u001b[0m\u001b[0;34m\u001b[0m\u001b[0m\n\u001b[0;32m--> 872\u001b[0;31m                     \u001b[0mright_keys\u001b[0m\u001b[0;34m.\u001b[0m\u001b[0mappend\u001b[0m\u001b[0;34m(\u001b[0m\u001b[0mright\u001b[0m\u001b[0;34m.\u001b[0m\u001b[0m_get_label_or_level_values\u001b[0m\u001b[0;34m(\u001b[0m\u001b[0mk\u001b[0m\u001b[0;34m)\u001b[0m\u001b[0;34m)\u001b[0m\u001b[0;34m\u001b[0m\u001b[0;34m\u001b[0m\u001b[0m\n\u001b[0m\u001b[1;32m    873\u001b[0m                     \u001b[0mjoin_names\u001b[0m\u001b[0;34m.\u001b[0m\u001b[0mappend\u001b[0m\u001b[0;34m(\u001b[0m\u001b[0mk\u001b[0m\u001b[0;34m)\u001b[0m\u001b[0;34m\u001b[0m\u001b[0;34m\u001b[0m\u001b[0m\n\u001b[1;32m    874\u001b[0m             \u001b[0;32mif\u001b[0m \u001b[0misinstance\u001b[0m\u001b[0;34m(\u001b[0m\u001b[0mself\u001b[0m\u001b[0;34m.\u001b[0m\u001b[0mleft\u001b[0m\u001b[0;34m.\u001b[0m\u001b[0mindex\u001b[0m\u001b[0;34m,\u001b[0m \u001b[0mMultiIndex\u001b[0m\u001b[0;34m)\u001b[0m\u001b[0;34m:\u001b[0m\u001b[0;34m\u001b[0m\u001b[0;34m\u001b[0m\u001b[0m\n",
      "\u001b[0;32m~/anaconda3/lib/python3.7/site-packages/pandas/core/generic.py\u001b[0m in \u001b[0;36m_get_label_or_level_values\u001b[0;34m(self, key, axis)\u001b[0m\n\u001b[1;32m   1723\u001b[0m                              .format(key=key,\n\u001b[1;32m   1724\u001b[0m                                      \u001b[0mlabel_axis_name\u001b[0m\u001b[0;34m=\u001b[0m\u001b[0mlabel_axis_name\u001b[0m\u001b[0;34m,\u001b[0m\u001b[0;34m\u001b[0m\u001b[0;34m\u001b[0m\u001b[0m\n\u001b[0;32m-> 1725\u001b[0;31m                                      multi_message=multi_message))\n\u001b[0m\u001b[1;32m   1726\u001b[0m \u001b[0;34m\u001b[0m\u001b[0m\n\u001b[1;32m   1727\u001b[0m         \u001b[0;32mreturn\u001b[0m \u001b[0mvalues\u001b[0m\u001b[0;34m\u001b[0m\u001b[0;34m\u001b[0m\u001b[0m\n",
      "\u001b[0;31mValueError\u001b[0m: The column label 'wetso4' is not unique.\nFor a multi-index, the label must be a tuple with elements corresponding to each level."
     ]
    }
   ],
   "source": [
    "table = pd.merge(table, table2, right_on='wetso4', left_index=True)"
   ]
  },
  {
   "cell_type": "code",
   "execution_count": 328,
   "metadata": {},
   "outputs": [
    {
     "data": {
      "text/html": [
       "<div>\n",
       "<style scoped>\n",
       "    .dataframe tbody tr th:only-of-type {\n",
       "        vertical-align: middle;\n",
       "    }\n",
       "\n",
       "    .dataframe tbody tr th {\n",
       "        vertical-align: top;\n",
       "    }\n",
       "\n",
       "    .dataframe thead tr th {\n",
       "        text-align: left;\n",
       "    }\n",
       "\n",
       "    .dataframe thead tr:last-of-type th {\n",
       "        text-align: right;\n",
       "    }\n",
       "</style>\n",
       "<table border=\"1\" class=\"dataframe\">\n",
       "  <thead>\n",
       "    <tr>\n",
       "      <th></th>\n",
       "      <th colspan=\"2\" halign=\"left\">wetso4</th>\n",
       "    </tr>\n",
       "    <tr>\n",
       "      <th>data_source</th>\n",
       "      <th>GAWTADsubsetAasEtAl</th>\n",
       "      <th>OsloCTM3v1.01-met2010_AP3-CTRL</th>\n",
       "    </tr>\n",
       "    <tr>\n",
       "      <th>time</th>\n",
       "      <th></th>\n",
       "      <th></th>\n",
       "    </tr>\n",
       "  </thead>\n",
       "  <tbody>\n",
       "    <tr>\n",
       "      <th>2010-01-15</th>\n",
       "      <td>NaN</td>\n",
       "      <td>1.101474e-11</td>\n",
       "    </tr>\n",
       "    <tr>\n",
       "      <th>2010-02-15</th>\n",
       "      <td>0.001201</td>\n",
       "      <td>1.617417e-11</td>\n",
       "    </tr>\n",
       "    <tr>\n",
       "      <th>2010-03-15</th>\n",
       "      <td>0.002394</td>\n",
       "      <td>3.028526e-11</td>\n",
       "    </tr>\n",
       "    <tr>\n",
       "      <th>2010-04-15</th>\n",
       "      <td>0.001815</td>\n",
       "      <td>2.441301e-11</td>\n",
       "    </tr>\n",
       "    <tr>\n",
       "      <th>2010-05-15</th>\n",
       "      <td>0.002136</td>\n",
       "      <td>1.239039e-11</td>\n",
       "    </tr>\n",
       "    <tr>\n",
       "      <th>2010-06-15</th>\n",
       "      <td>0.004404</td>\n",
       "      <td>3.170837e-11</td>\n",
       "    </tr>\n",
       "    <tr>\n",
       "      <th>2010-07-15</th>\n",
       "      <td>0.002919</td>\n",
       "      <td>1.745229e-11</td>\n",
       "    </tr>\n",
       "    <tr>\n",
       "      <th>2010-08-15</th>\n",
       "      <td>0.004150</td>\n",
       "      <td>2.264605e-11</td>\n",
       "    </tr>\n",
       "    <tr>\n",
       "      <th>2010-09-15</th>\n",
       "      <td>NaN</td>\n",
       "      <td>1.474363e-11</td>\n",
       "    </tr>\n",
       "    <tr>\n",
       "      <th>2010-10-15</th>\n",
       "      <td>NaN</td>\n",
       "      <td>2.707664e-11</td>\n",
       "    </tr>\n",
       "    <tr>\n",
       "      <th>2010-11-15</th>\n",
       "      <td>0.001329</td>\n",
       "      <td>1.241212e-11</td>\n",
       "    </tr>\n",
       "    <tr>\n",
       "      <th>2010-12-15</th>\n",
       "      <td>0.001029</td>\n",
       "      <td>1.188433e-11</td>\n",
       "    </tr>\n",
       "  </tbody>\n",
       "</table>\n",
       "</div>"
      ],
      "text/plain": [
       "                         wetso4                               \n",
       "data_source GAWTADsubsetAasEtAl OsloCTM3v1.01-met2010_AP3-CTRL\n",
       "time                                                          \n",
       "2010-01-15                  NaN                   1.101474e-11\n",
       "2010-02-15             0.001201                   1.617417e-11\n",
       "2010-03-15             0.002394                   3.028526e-11\n",
       "2010-04-15             0.001815                   2.441301e-11\n",
       "2010-05-15             0.002136                   1.239039e-11\n",
       "2010-06-15             0.004404                   3.170837e-11\n",
       "2010-07-15             0.002919                   1.745229e-11\n",
       "2010-08-15             0.004150                   2.264605e-11\n",
       "2010-09-15                  NaN                   1.474363e-11\n",
       "2010-10-15                  NaN                   2.707664e-11\n",
       "2010-11-15             0.001329                   1.241212e-11\n",
       "2010-12-15             0.001029                   1.188433e-11"
      ]
     },
     "execution_count": 328,
     "metadata": {},
     "output_type": "execute_result"
    }
   ],
   "source": [
    "table "
   ]
  },
  {
   "cell_type": "code",
   "execution_count": 326,
   "metadata": {},
   "outputs": [
    {
     "ename": "KeyError",
     "evalue": "'raw'",
     "output_type": "error",
     "traceback": [
      "\u001b[0;31m---------------------------------------------------------------------------\u001b[0m",
      "\u001b[0;31mKeyError\u001b[0m                                  Traceback (most recent call last)",
      "\u001b[0;32m~/anaconda3/lib/python3.7/site-packages/pandas/core/indexes/base.py\u001b[0m in \u001b[0;36mget_loc\u001b[0;34m(self, key, method, tolerance)\u001b[0m\n\u001b[1;32m   2656\u001b[0m             \u001b[0;32mtry\u001b[0m\u001b[0;34m:\u001b[0m\u001b[0;34m\u001b[0m\u001b[0;34m\u001b[0m\u001b[0m\n\u001b[0;32m-> 2657\u001b[0;31m                 \u001b[0;32mreturn\u001b[0m \u001b[0mself\u001b[0m\u001b[0;34m.\u001b[0m\u001b[0m_engine\u001b[0m\u001b[0;34m.\u001b[0m\u001b[0mget_loc\u001b[0m\u001b[0;34m(\u001b[0m\u001b[0mkey\u001b[0m\u001b[0;34m)\u001b[0m\u001b[0;34m\u001b[0m\u001b[0;34m\u001b[0m\u001b[0m\n\u001b[0m\u001b[1;32m   2658\u001b[0m             \u001b[0;32mexcept\u001b[0m \u001b[0mKeyError\u001b[0m\u001b[0;34m:\u001b[0m\u001b[0;34m\u001b[0m\u001b[0;34m\u001b[0m\u001b[0m\n",
      "\u001b[0;32mpandas/_libs/index.pyx\u001b[0m in \u001b[0;36mpandas._libs.index.IndexEngine.get_loc\u001b[0;34m()\u001b[0m\n",
      "\u001b[0;32mpandas/_libs/index.pyx\u001b[0m in \u001b[0;36mpandas._libs.index.IndexEngine.get_loc\u001b[0;34m()\u001b[0m\n",
      "\u001b[0;32mpandas/_libs/hashtable_class_helper.pxi\u001b[0m in \u001b[0;36mpandas._libs.hashtable.PyObjectHashTable.get_item\u001b[0;34m()\u001b[0m\n",
      "\u001b[0;32mpandas/_libs/hashtable_class_helper.pxi\u001b[0m in \u001b[0;36mpandas._libs.hashtable.PyObjectHashTable.get_item\u001b[0;34m()\u001b[0m\n",
      "\u001b[0;31mKeyError\u001b[0m: 'raw'",
      "\nDuring handling of the above exception, another exception occurred:\n",
      "\u001b[0;31mKeyError\u001b[0m                                  Traceback (most recent call last)",
      "\u001b[0;32m<ipython-input-326-bc87ac41ec4b>\u001b[0m in \u001b[0;36m<module>\u001b[0;34m\u001b[0m\n\u001b[0;32m----> 1\u001b[0;31m \u001b[0mtable\u001b[0m\u001b[0;34m[\u001b[0m\u001b[0;34m'wetso4'\u001b[0m\u001b[0;34m]\u001b[0m\u001b[0;34m[\u001b[0m\u001b[0;34m'OsloCTM'\u001b[0m\u001b[0;34m]\u001b[0m \u001b[0;34m=\u001b[0m \u001b[0mtable\u001b[0m\u001b[0;34m[\u001b[0m\u001b[0;34m'raw'\u001b[0m\u001b[0;34m]\u001b[0m\u001b[0;34m[\u001b[0m\u001b[0;34m'OsloCTM'\u001b[0m\u001b[0;34m]\u001b[0m\u001b[0;34m\u001b[0m\u001b[0;34m\u001b[0m\u001b[0m\n\u001b[0m",
      "\u001b[0;32m~/anaconda3/lib/python3.7/site-packages/pandas/core/frame.py\u001b[0m in \u001b[0;36m__getitem__\u001b[0;34m(self, key)\u001b[0m\n\u001b[1;32m   2924\u001b[0m         \u001b[0;32mif\u001b[0m \u001b[0mis_single_key\u001b[0m\u001b[0;34m:\u001b[0m\u001b[0;34m\u001b[0m\u001b[0;34m\u001b[0m\u001b[0m\n\u001b[1;32m   2925\u001b[0m             \u001b[0;32mif\u001b[0m \u001b[0mself\u001b[0m\u001b[0;34m.\u001b[0m\u001b[0mcolumns\u001b[0m\u001b[0;34m.\u001b[0m\u001b[0mnlevels\u001b[0m \u001b[0;34m>\u001b[0m \u001b[0;36m1\u001b[0m\u001b[0;34m:\u001b[0m\u001b[0;34m\u001b[0m\u001b[0;34m\u001b[0m\u001b[0m\n\u001b[0;32m-> 2926\u001b[0;31m                 \u001b[0;32mreturn\u001b[0m \u001b[0mself\u001b[0m\u001b[0;34m.\u001b[0m\u001b[0m_getitem_multilevel\u001b[0m\u001b[0;34m(\u001b[0m\u001b[0mkey\u001b[0m\u001b[0;34m)\u001b[0m\u001b[0;34m\u001b[0m\u001b[0;34m\u001b[0m\u001b[0m\n\u001b[0m\u001b[1;32m   2927\u001b[0m             \u001b[0mindexer\u001b[0m \u001b[0;34m=\u001b[0m \u001b[0mself\u001b[0m\u001b[0;34m.\u001b[0m\u001b[0mcolumns\u001b[0m\u001b[0;34m.\u001b[0m\u001b[0mget_loc\u001b[0m\u001b[0;34m(\u001b[0m\u001b[0mkey\u001b[0m\u001b[0;34m)\u001b[0m\u001b[0;34m\u001b[0m\u001b[0;34m\u001b[0m\u001b[0m\n\u001b[1;32m   2928\u001b[0m             \u001b[0;32mif\u001b[0m \u001b[0mis_integer\u001b[0m\u001b[0;34m(\u001b[0m\u001b[0mindexer\u001b[0m\u001b[0;34m)\u001b[0m\u001b[0;34m:\u001b[0m\u001b[0;34m\u001b[0m\u001b[0;34m\u001b[0m\u001b[0m\n",
      "\u001b[0;32m~/anaconda3/lib/python3.7/site-packages/pandas/core/frame.py\u001b[0m in \u001b[0;36m_getitem_multilevel\u001b[0;34m(self, key)\u001b[0m\n\u001b[1;32m   2970\u001b[0m \u001b[0;34m\u001b[0m\u001b[0m\n\u001b[1;32m   2971\u001b[0m     \u001b[0;32mdef\u001b[0m \u001b[0m_getitem_multilevel\u001b[0m\u001b[0;34m(\u001b[0m\u001b[0mself\u001b[0m\u001b[0;34m,\u001b[0m \u001b[0mkey\u001b[0m\u001b[0;34m)\u001b[0m\u001b[0;34m:\u001b[0m\u001b[0;34m\u001b[0m\u001b[0;34m\u001b[0m\u001b[0m\n\u001b[0;32m-> 2972\u001b[0;31m         \u001b[0mloc\u001b[0m \u001b[0;34m=\u001b[0m \u001b[0mself\u001b[0m\u001b[0;34m.\u001b[0m\u001b[0mcolumns\u001b[0m\u001b[0;34m.\u001b[0m\u001b[0mget_loc\u001b[0m\u001b[0;34m(\u001b[0m\u001b[0mkey\u001b[0m\u001b[0;34m)\u001b[0m\u001b[0;34m\u001b[0m\u001b[0;34m\u001b[0m\u001b[0m\n\u001b[0m\u001b[1;32m   2973\u001b[0m         \u001b[0;32mif\u001b[0m \u001b[0misinstance\u001b[0m\u001b[0;34m(\u001b[0m\u001b[0mloc\u001b[0m\u001b[0;34m,\u001b[0m \u001b[0;34m(\u001b[0m\u001b[0mslice\u001b[0m\u001b[0;34m,\u001b[0m \u001b[0mSeries\u001b[0m\u001b[0;34m,\u001b[0m \u001b[0mnp\u001b[0m\u001b[0;34m.\u001b[0m\u001b[0mndarray\u001b[0m\u001b[0;34m,\u001b[0m \u001b[0mIndex\u001b[0m\u001b[0;34m)\u001b[0m\u001b[0;34m)\u001b[0m\u001b[0;34m:\u001b[0m\u001b[0;34m\u001b[0m\u001b[0;34m\u001b[0m\u001b[0m\n\u001b[1;32m   2974\u001b[0m             \u001b[0mnew_columns\u001b[0m \u001b[0;34m=\u001b[0m \u001b[0mself\u001b[0m\u001b[0;34m.\u001b[0m\u001b[0mcolumns\u001b[0m\u001b[0;34m[\u001b[0m\u001b[0mloc\u001b[0m\u001b[0;34m]\u001b[0m\u001b[0;34m\u001b[0m\u001b[0;34m\u001b[0m\u001b[0m\n",
      "\u001b[0;32m~/anaconda3/lib/python3.7/site-packages/pandas/core/indexes/multi.py\u001b[0m in \u001b[0;36mget_loc\u001b[0;34m(self, key, method)\u001b[0m\n\u001b[1;32m   2395\u001b[0m \u001b[0;34m\u001b[0m\u001b[0m\n\u001b[1;32m   2396\u001b[0m         \u001b[0;32mif\u001b[0m \u001b[0;32mnot\u001b[0m \u001b[0misinstance\u001b[0m\u001b[0;34m(\u001b[0m\u001b[0mkey\u001b[0m\u001b[0;34m,\u001b[0m \u001b[0mtuple\u001b[0m\u001b[0;34m)\u001b[0m\u001b[0;34m:\u001b[0m\u001b[0;34m\u001b[0m\u001b[0;34m\u001b[0m\u001b[0m\n\u001b[0;32m-> 2397\u001b[0;31m             \u001b[0mloc\u001b[0m \u001b[0;34m=\u001b[0m \u001b[0mself\u001b[0m\u001b[0;34m.\u001b[0m\u001b[0m_get_level_indexer\u001b[0m\u001b[0;34m(\u001b[0m\u001b[0mkey\u001b[0m\u001b[0;34m,\u001b[0m \u001b[0mlevel\u001b[0m\u001b[0;34m=\u001b[0m\u001b[0;36m0\u001b[0m\u001b[0;34m)\u001b[0m\u001b[0;34m\u001b[0m\u001b[0;34m\u001b[0m\u001b[0m\n\u001b[0m\u001b[1;32m   2398\u001b[0m             \u001b[0;32mreturn\u001b[0m \u001b[0m_maybe_to_slice\u001b[0m\u001b[0;34m(\u001b[0m\u001b[0mloc\u001b[0m\u001b[0;34m)\u001b[0m\u001b[0;34m\u001b[0m\u001b[0;34m\u001b[0m\u001b[0m\n\u001b[1;32m   2399\u001b[0m \u001b[0;34m\u001b[0m\u001b[0m\n",
      "\u001b[0;32m~/anaconda3/lib/python3.7/site-packages/pandas/core/indexes/multi.py\u001b[0m in \u001b[0;36m_get_level_indexer\u001b[0;34m(self, key, level, indexer)\u001b[0m\n\u001b[1;32m   2650\u001b[0m         \u001b[0;32melse\u001b[0m\u001b[0;34m:\u001b[0m\u001b[0;34m\u001b[0m\u001b[0;34m\u001b[0m\u001b[0m\n\u001b[1;32m   2651\u001b[0m \u001b[0;34m\u001b[0m\u001b[0m\n\u001b[0;32m-> 2652\u001b[0;31m             \u001b[0mcode\u001b[0m \u001b[0;34m=\u001b[0m \u001b[0mlevel_index\u001b[0m\u001b[0;34m.\u001b[0m\u001b[0mget_loc\u001b[0m\u001b[0;34m(\u001b[0m\u001b[0mkey\u001b[0m\u001b[0;34m)\u001b[0m\u001b[0;34m\u001b[0m\u001b[0;34m\u001b[0m\u001b[0m\n\u001b[0m\u001b[1;32m   2653\u001b[0m \u001b[0;34m\u001b[0m\u001b[0m\n\u001b[1;32m   2654\u001b[0m             \u001b[0;32mif\u001b[0m \u001b[0mlevel\u001b[0m \u001b[0;34m>\u001b[0m \u001b[0;36m0\u001b[0m \u001b[0;32mor\u001b[0m \u001b[0mself\u001b[0m\u001b[0;34m.\u001b[0m\u001b[0mlexsort_depth\u001b[0m \u001b[0;34m==\u001b[0m \u001b[0;36m0\u001b[0m\u001b[0;34m:\u001b[0m\u001b[0;34m\u001b[0m\u001b[0;34m\u001b[0m\u001b[0m\n",
      "\u001b[0;32m~/anaconda3/lib/python3.7/site-packages/pandas/core/indexes/base.py\u001b[0m in \u001b[0;36mget_loc\u001b[0;34m(self, key, method, tolerance)\u001b[0m\n\u001b[1;32m   2657\u001b[0m                 \u001b[0;32mreturn\u001b[0m \u001b[0mself\u001b[0m\u001b[0;34m.\u001b[0m\u001b[0m_engine\u001b[0m\u001b[0;34m.\u001b[0m\u001b[0mget_loc\u001b[0m\u001b[0;34m(\u001b[0m\u001b[0mkey\u001b[0m\u001b[0;34m)\u001b[0m\u001b[0;34m\u001b[0m\u001b[0;34m\u001b[0m\u001b[0m\n\u001b[1;32m   2658\u001b[0m             \u001b[0;32mexcept\u001b[0m \u001b[0mKeyError\u001b[0m\u001b[0;34m:\u001b[0m\u001b[0;34m\u001b[0m\u001b[0;34m\u001b[0m\u001b[0m\n\u001b[0;32m-> 2659\u001b[0;31m                 \u001b[0;32mreturn\u001b[0m \u001b[0mself\u001b[0m\u001b[0;34m.\u001b[0m\u001b[0m_engine\u001b[0m\u001b[0;34m.\u001b[0m\u001b[0mget_loc\u001b[0m\u001b[0;34m(\u001b[0m\u001b[0mself\u001b[0m\u001b[0;34m.\u001b[0m\u001b[0m_maybe_cast_indexer\u001b[0m\u001b[0;34m(\u001b[0m\u001b[0mkey\u001b[0m\u001b[0;34m)\u001b[0m\u001b[0;34m)\u001b[0m\u001b[0;34m\u001b[0m\u001b[0;34m\u001b[0m\u001b[0m\n\u001b[0m\u001b[1;32m   2660\u001b[0m         \u001b[0mindexer\u001b[0m \u001b[0;34m=\u001b[0m \u001b[0mself\u001b[0m\u001b[0;34m.\u001b[0m\u001b[0mget_indexer\u001b[0m\u001b[0;34m(\u001b[0m\u001b[0;34m[\u001b[0m\u001b[0mkey\u001b[0m\u001b[0;34m]\u001b[0m\u001b[0;34m,\u001b[0m \u001b[0mmethod\u001b[0m\u001b[0;34m=\u001b[0m\u001b[0mmethod\u001b[0m\u001b[0;34m,\u001b[0m \u001b[0mtolerance\u001b[0m\u001b[0;34m=\u001b[0m\u001b[0mtolerance\u001b[0m\u001b[0;34m)\u001b[0m\u001b[0;34m\u001b[0m\u001b[0;34m\u001b[0m\u001b[0m\n\u001b[1;32m   2661\u001b[0m         \u001b[0;32mif\u001b[0m \u001b[0mindexer\u001b[0m\u001b[0;34m.\u001b[0m\u001b[0mndim\u001b[0m \u001b[0;34m>\u001b[0m \u001b[0;36m1\u001b[0m \u001b[0;32mor\u001b[0m \u001b[0mindexer\u001b[0m\u001b[0;34m.\u001b[0m\u001b[0msize\u001b[0m \u001b[0;34m>\u001b[0m \u001b[0;36m1\u001b[0m\u001b[0;34m:\u001b[0m\u001b[0;34m\u001b[0m\u001b[0;34m\u001b[0m\u001b[0m\n",
      "\u001b[0;32mpandas/_libs/index.pyx\u001b[0m in \u001b[0;36mpandas._libs.index.IndexEngine.get_loc\u001b[0;34m()\u001b[0m\n",
      "\u001b[0;32mpandas/_libs/index.pyx\u001b[0m in \u001b[0;36mpandas._libs.index.IndexEngine.get_loc\u001b[0;34m()\u001b[0m\n",
      "\u001b[0;32mpandas/_libs/hashtable_class_helper.pxi\u001b[0m in \u001b[0;36mpandas._libs.hashtable.PyObjectHashTable.get_item\u001b[0;34m()\u001b[0m\n",
      "\u001b[0;32mpandas/_libs/hashtable_class_helper.pxi\u001b[0m in \u001b[0;36mpandas._libs.hashtable.PyObjectHashTable.get_item\u001b[0;34m()\u001b[0m\n",
      "\u001b[0;31mKeyError\u001b[0m: 'raw'"
     ]
    }
   ],
   "source": [
    "table['wetso4']['OsloCTM'] = table['raw']['OsloCTM']"
   ]
  },
  {
   "cell_type": "code",
   "execution_count": 318,
   "metadata": {},
   "outputs": [
    {
     "data": {
      "text/html": [
       "<div>\n",
       "<style scoped>\n",
       "    .dataframe tbody tr th:only-of-type {\n",
       "        vertical-align: middle;\n",
       "    }\n",
       "\n",
       "    .dataframe tbody tr th {\n",
       "        vertical-align: top;\n",
       "    }\n",
       "\n",
       "    .dataframe thead tr th {\n",
       "        text-align: left;\n",
       "    }\n",
       "\n",
       "    .dataframe thead tr:last-of-type th {\n",
       "        text-align: right;\n",
       "    }\n",
       "</style>\n",
       "<table border=\"1\" class=\"dataframe\">\n",
       "  <thead>\n",
       "    <tr>\n",
       "      <th></th>\n",
       "      <th colspan=\"2\" halign=\"left\">wetso4_x</th>\n",
       "      <th colspan=\"2\" halign=\"left\">wetso4_y</th>\n",
       "    </tr>\n",
       "    <tr>\n",
       "      <th>data_source</th>\n",
       "      <th>GAWTADsubsetAasEtAl</th>\n",
       "      <th>OsloCTM3v1.01-met2010_AP3-CTRL</th>\n",
       "      <th>CAM5-ATRAS_AP3-CTRL</th>\n",
       "      <th>GAWTADsubsetAasEtAl</th>\n",
       "    </tr>\n",
       "    <tr>\n",
       "      <th>time</th>\n",
       "      <th></th>\n",
       "      <th></th>\n",
       "      <th></th>\n",
       "      <th></th>\n",
       "    </tr>\n",
       "  </thead>\n",
       "  <tbody>\n",
       "    <tr>\n",
       "      <th>2010-01-15</th>\n",
       "      <td>NaN</td>\n",
       "      <td>1.101474e-11</td>\n",
       "      <td>7.619458e-12</td>\n",
       "      <td>NaN</td>\n",
       "    </tr>\n",
       "    <tr>\n",
       "      <th>2010-02-15</th>\n",
       "      <td>0.001201</td>\n",
       "      <td>1.617417e-11</td>\n",
       "      <td>8.648099e-12</td>\n",
       "      <td>0.001201</td>\n",
       "    </tr>\n",
       "    <tr>\n",
       "      <th>2010-03-15</th>\n",
       "      <td>0.002394</td>\n",
       "      <td>3.028526e-11</td>\n",
       "      <td>3.736910e-11</td>\n",
       "      <td>0.002394</td>\n",
       "    </tr>\n",
       "    <tr>\n",
       "      <th>2010-04-15</th>\n",
       "      <td>0.001815</td>\n",
       "      <td>2.441301e-11</td>\n",
       "      <td>4.198654e-11</td>\n",
       "      <td>0.001815</td>\n",
       "    </tr>\n",
       "    <tr>\n",
       "      <th>2010-05-15</th>\n",
       "      <td>0.002136</td>\n",
       "      <td>1.239039e-11</td>\n",
       "      <td>2.833630e-11</td>\n",
       "      <td>0.002136</td>\n",
       "    </tr>\n",
       "    <tr>\n",
       "      <th>2010-06-15</th>\n",
       "      <td>0.004404</td>\n",
       "      <td>3.170837e-11</td>\n",
       "      <td>7.977421e-11</td>\n",
       "      <td>0.004404</td>\n",
       "    </tr>\n",
       "    <tr>\n",
       "      <th>2010-07-15</th>\n",
       "      <td>0.002919</td>\n",
       "      <td>1.745229e-11</td>\n",
       "      <td>4.711749e-11</td>\n",
       "      <td>0.002919</td>\n",
       "    </tr>\n",
       "    <tr>\n",
       "      <th>2010-08-15</th>\n",
       "      <td>0.004150</td>\n",
       "      <td>2.264605e-11</td>\n",
       "      <td>4.453999e-11</td>\n",
       "      <td>0.004150</td>\n",
       "    </tr>\n",
       "    <tr>\n",
       "      <th>2010-09-15</th>\n",
       "      <td>NaN</td>\n",
       "      <td>1.474363e-11</td>\n",
       "      <td>4.918928e-11</td>\n",
       "      <td>NaN</td>\n",
       "    </tr>\n",
       "    <tr>\n",
       "      <th>2010-10-15</th>\n",
       "      <td>NaN</td>\n",
       "      <td>2.707664e-11</td>\n",
       "      <td>2.946043e-11</td>\n",
       "      <td>NaN</td>\n",
       "    </tr>\n",
       "    <tr>\n",
       "      <th>2010-11-15</th>\n",
       "      <td>0.001329</td>\n",
       "      <td>1.241212e-11</td>\n",
       "      <td>1.964703e-11</td>\n",
       "      <td>0.001329</td>\n",
       "    </tr>\n",
       "    <tr>\n",
       "      <th>2010-12-15</th>\n",
       "      <td>0.001029</td>\n",
       "      <td>1.188433e-11</td>\n",
       "      <td>5.828273e-12</td>\n",
       "      <td>0.001029</td>\n",
       "    </tr>\n",
       "  </tbody>\n",
       "</table>\n",
       "</div>"
      ],
      "text/plain": [
       "                       wetso4_x                                 \\\n",
       "data_source GAWTADsubsetAasEtAl OsloCTM3v1.01-met2010_AP3-CTRL   \n",
       "time                                                             \n",
       "2010-01-15                  NaN                   1.101474e-11   \n",
       "2010-02-15             0.001201                   1.617417e-11   \n",
       "2010-03-15             0.002394                   3.028526e-11   \n",
       "2010-04-15             0.001815                   2.441301e-11   \n",
       "2010-05-15             0.002136                   1.239039e-11   \n",
       "2010-06-15             0.004404                   3.170837e-11   \n",
       "2010-07-15             0.002919                   1.745229e-11   \n",
       "2010-08-15             0.004150                   2.264605e-11   \n",
       "2010-09-15                  NaN                   1.474363e-11   \n",
       "2010-10-15                  NaN                   2.707664e-11   \n",
       "2010-11-15             0.001329                   1.241212e-11   \n",
       "2010-12-15             0.001029                   1.188433e-11   \n",
       "\n",
       "                       wetso4_y                      \n",
       "data_source CAM5-ATRAS_AP3-CTRL GAWTADsubsetAasEtAl  \n",
       "time                                                 \n",
       "2010-01-15         7.619458e-12                 NaN  \n",
       "2010-02-15         8.648099e-12            0.001201  \n",
       "2010-03-15         3.736910e-11            0.002394  \n",
       "2010-04-15         4.198654e-11            0.001815  \n",
       "2010-05-15         2.833630e-11            0.002136  \n",
       "2010-06-15         7.977421e-11            0.004404  \n",
       "2010-07-15         4.711749e-11            0.002919  \n",
       "2010-08-15         4.453999e-11            0.004150  \n",
       "2010-09-15         4.918928e-11                 NaN  \n",
       "2010-10-15         2.946043e-11                 NaN  \n",
       "2010-11-15         1.964703e-11            0.001329  \n",
       "2010-12-15         5.828273e-12            0.001029  "
      ]
     },
     "execution_count": 318,
     "metadata": {},
     "output_type": "execute_result"
    }
   ],
   "source": [
    "table"
   ]
  },
  {
   "cell_type": "code",
   "execution_count": 269,
   "metadata": {
    "scrolled": true
   },
   "outputs": [
    {
     "ename": "TypeError",
     "evalue": "'FrozenList' does not support mutable operations.",
     "output_type": "error",
     "traceback": [
      "\u001b[0;31m---------------------------------------------------------------------------\u001b[0m",
      "\u001b[0;31mTypeError\u001b[0m                                 Traceback (most recent call last)",
      "\u001b[0;32m<ipython-input-269-52458af61c41>\u001b[0m in \u001b[0;36m<module>\u001b[0;34m\u001b[0m\n\u001b[0;32m----> 1\u001b[0;31m \u001b[0mtable\u001b[0m\u001b[0;34m.\u001b[0m\u001b[0mcolumns\u001b[0m\u001b[0;34m.\u001b[0m\u001b[0mnames\u001b[0m\u001b[0;34m[\u001b[0m\u001b[0;36m1\u001b[0m\u001b[0;34m]\u001b[0m \u001b[0;34m=\u001b[0m \u001b[0;32mNone\u001b[0m\u001b[0;34m\u001b[0m\u001b[0;34m\u001b[0m\u001b[0m\n\u001b[0m",
      "\u001b[0;32m~/anaconda3/lib/python3.7/site-packages/pandas/core/indexes/frozen.py\u001b[0m in \u001b[0;36m_disabled\u001b[0;34m(self, *args, **kwargs)\u001b[0m\n\u001b[1;32m    107\u001b[0m         \u001b[0;34m\"\"\"This method will not function because object is immutable.\"\"\"\u001b[0m\u001b[0;34m\u001b[0m\u001b[0;34m\u001b[0m\u001b[0m\n\u001b[1;32m    108\u001b[0m         raise TypeError(\"'%s' does not support mutable operations.\" %\n\u001b[0;32m--> 109\u001b[0;31m                         self.__class__.__name__)\n\u001b[0m\u001b[1;32m    110\u001b[0m \u001b[0;34m\u001b[0m\u001b[0m\n\u001b[1;32m    111\u001b[0m     \u001b[0;32mdef\u001b[0m \u001b[0m__unicode__\u001b[0m\u001b[0;34m(\u001b[0m\u001b[0mself\u001b[0m\u001b[0;34m)\u001b[0m\u001b[0;34m:\u001b[0m\u001b[0;34m\u001b[0m\u001b[0;34m\u001b[0m\u001b[0m\n",
      "\u001b[0;31mTypeError\u001b[0m: 'FrozenList' does not support mutable operations."
     ]
    }
   ],
   "source": [
    "table.columns.names[1] = None"
   ]
  },
  {
   "cell_type": "code",
   "execution_count": 195,
   "metadata": {},
   "outputs": [],
   "source": [
    "df = cropped"
   ]
  },
  {
   "cell_type": "code",
   "execution_count": 197,
   "metadata": {},
   "outputs": [],
   "source": [
    "idx = df.unstack(0)"
   ]
  },
  {
   "cell_type": "code",
   "execution_count": 308,
   "metadata": {},
   "outputs": [],
   "source": [
    "table['raw'].columns.name = None"
   ]
  },
  {
   "cell_type": "code",
   "execution_count": 309,
   "metadata": {},
   "outputs": [
    {
     "data": {
      "text/html": [
       "<div>\n",
       "<style scoped>\n",
       "    .dataframe tbody tr th:only-of-type {\n",
       "        vertical-align: middle;\n",
       "    }\n",
       "\n",
       "    .dataframe tbody tr th {\n",
       "        vertical-align: top;\n",
       "    }\n",
       "\n",
       "    .dataframe thead tr th {\n",
       "        text-align: left;\n",
       "    }\n",
       "\n",
       "    .dataframe thead tr:last-of-type th {\n",
       "        text-align: right;\n",
       "    }\n",
       "</style>\n",
       "<table border=\"1\" class=\"dataframe\">\n",
       "  <thead>\n",
       "    <tr>\n",
       "      <th></th>\n",
       "      <th colspan=\"2\" halign=\"left\">raw</th>\n",
       "      <th colspan=\"2\" halign=\"left\">wetso4</th>\n",
       "    </tr>\n",
       "    <tr>\n",
       "      <th>data_source</th>\n",
       "      <th>obs</th>\n",
       "      <th>OsloCTM</th>\n",
       "      <th>CAM5-ATRAS_AP3-CTRL</th>\n",
       "      <th>GAWTADsubsetAasEtAl</th>\n",
       "    </tr>\n",
       "    <tr>\n",
       "      <th>time</th>\n",
       "      <th></th>\n",
       "      <th></th>\n",
       "      <th></th>\n",
       "      <th></th>\n",
       "    </tr>\n",
       "  </thead>\n",
       "  <tbody>\n",
       "    <tr>\n",
       "      <th>2010-01-15</th>\n",
       "      <td>NaN</td>\n",
       "      <td>1.101474e-11</td>\n",
       "      <td>7.619458e-12</td>\n",
       "      <td>NaN</td>\n",
       "    </tr>\n",
       "    <tr>\n",
       "      <th>2010-02-15</th>\n",
       "      <td>0.001201</td>\n",
       "      <td>1.617417e-11</td>\n",
       "      <td>8.648099e-12</td>\n",
       "      <td>0.001201</td>\n",
       "    </tr>\n",
       "    <tr>\n",
       "      <th>2010-03-15</th>\n",
       "      <td>0.002394</td>\n",
       "      <td>3.028526e-11</td>\n",
       "      <td>3.736910e-11</td>\n",
       "      <td>0.002394</td>\n",
       "    </tr>\n",
       "    <tr>\n",
       "      <th>2010-04-15</th>\n",
       "      <td>0.001815</td>\n",
       "      <td>2.441301e-11</td>\n",
       "      <td>4.198654e-11</td>\n",
       "      <td>0.001815</td>\n",
       "    </tr>\n",
       "    <tr>\n",
       "      <th>2010-05-15</th>\n",
       "      <td>0.002136</td>\n",
       "      <td>1.239039e-11</td>\n",
       "      <td>2.833630e-11</td>\n",
       "      <td>0.002136</td>\n",
       "    </tr>\n",
       "    <tr>\n",
       "      <th>2010-06-15</th>\n",
       "      <td>0.004404</td>\n",
       "      <td>3.170837e-11</td>\n",
       "      <td>7.977421e-11</td>\n",
       "      <td>0.004404</td>\n",
       "    </tr>\n",
       "    <tr>\n",
       "      <th>2010-07-15</th>\n",
       "      <td>0.002919</td>\n",
       "      <td>1.745229e-11</td>\n",
       "      <td>4.711749e-11</td>\n",
       "      <td>0.002919</td>\n",
       "    </tr>\n",
       "    <tr>\n",
       "      <th>2010-08-15</th>\n",
       "      <td>0.004150</td>\n",
       "      <td>2.264605e-11</td>\n",
       "      <td>4.453999e-11</td>\n",
       "      <td>0.004150</td>\n",
       "    </tr>\n",
       "    <tr>\n",
       "      <th>2010-09-15</th>\n",
       "      <td>NaN</td>\n",
       "      <td>1.474363e-11</td>\n",
       "      <td>4.918928e-11</td>\n",
       "      <td>NaN</td>\n",
       "    </tr>\n",
       "    <tr>\n",
       "      <th>2010-10-15</th>\n",
       "      <td>NaN</td>\n",
       "      <td>2.707664e-11</td>\n",
       "      <td>2.946043e-11</td>\n",
       "      <td>NaN</td>\n",
       "    </tr>\n",
       "    <tr>\n",
       "      <th>2010-11-15</th>\n",
       "      <td>0.001329</td>\n",
       "      <td>1.241212e-11</td>\n",
       "      <td>1.964703e-11</td>\n",
       "      <td>0.001329</td>\n",
       "    </tr>\n",
       "    <tr>\n",
       "      <th>2010-12-15</th>\n",
       "      <td>0.001029</td>\n",
       "      <td>1.188433e-11</td>\n",
       "      <td>5.828273e-12</td>\n",
       "      <td>0.001029</td>\n",
       "    </tr>\n",
       "  </tbody>\n",
       "</table>\n",
       "</div>"
      ],
      "text/plain": [
       "                  raw                            wetso4                    \n",
       "data_source       obs       OsloCTM CAM5-ATRAS_AP3-CTRL GAWTADsubsetAasEtAl\n",
       "time                                                                       \n",
       "2010-01-15        NaN  1.101474e-11        7.619458e-12                 NaN\n",
       "2010-02-15   0.001201  1.617417e-11        8.648099e-12            0.001201\n",
       "2010-03-15   0.002394  3.028526e-11        3.736910e-11            0.002394\n",
       "2010-04-15   0.001815  2.441301e-11        4.198654e-11            0.001815\n",
       "2010-05-15   0.002136  1.239039e-11        2.833630e-11            0.002136\n",
       "2010-06-15   0.004404  3.170837e-11        7.977421e-11            0.004404\n",
       "2010-07-15   0.002919  1.745229e-11        4.711749e-11            0.002919\n",
       "2010-08-15   0.004150  2.264605e-11        4.453999e-11            0.004150\n",
       "2010-09-15        NaN  1.474363e-11        4.918928e-11                 NaN\n",
       "2010-10-15        NaN  2.707664e-11        2.946043e-11                 NaN\n",
       "2010-11-15   0.001329  1.241212e-11        1.964703e-11            0.001329\n",
       "2010-12-15   0.001029  1.188433e-11        5.828273e-12            0.001029"
      ]
     },
     "execution_count": 309,
     "metadata": {},
     "output_type": "execute_result"
    }
   ],
   "source": [
    "table"
   ]
  },
  {
   "cell_type": "code",
   "execution_count": 305,
   "metadata": {},
   "outputs": [
    {
     "ename": "AttributeError",
     "evalue": "So far, heatmaps can only be created for single column tabular data (e.g. Bias or RMSE) with a partly unstacked MultiIndex",
     "output_type": "error",
     "traceback": [
      "\u001b[0;31m---------------------------------------------------------------------------\u001b[0m",
      "\u001b[0;31mAttributeError\u001b[0m                            Traceback (most recent call last)",
      "\u001b[0;32m<ipython-input-305-fbda6b3012f6>\u001b[0m in \u001b[0;36m<module>\u001b[0;34m\u001b[0m\n\u001b[0;32m----> 1\u001b[0;31m \u001b[0mdf_to_heatmap\u001b[0m\u001b[0;34m(\u001b[0m\u001b[0mtable\u001b[0m\u001b[0;34m[\u001b[0m\u001b[0;34m'raw'\u001b[0m\u001b[0;34m]\u001b[0m\u001b[0;34m)\u001b[0m\u001b[0;34m\u001b[0m\u001b[0;34m\u001b[0m\u001b[0m\n\u001b[0m",
      "\u001b[0;32m~/Desktop/pyaerocom/pyaerocom/plot/heatmaps.py\u001b[0m in \u001b[0;36mdf_to_heatmap\u001b[0;34m(df, cmap, center, low, high, vmin, vmax, color_rowwise, normalise_rows, normalise_rows_how, normalise_rows_col, annot, table_name, num_digits, ax, figsize, cbar, **kwargs)\u001b[0m\n\u001b[1;32m     70\u001b[0m \u001b[0;34m\u001b[0m\u001b[0m\n\u001b[1;32m     71\u001b[0m     \u001b[0;32mif\u001b[0m \u001b[0;32mnot\u001b[0m \u001b[0misinstance\u001b[0m\u001b[0;34m(\u001b[0m\u001b[0mdf\u001b[0m\u001b[0;34m.\u001b[0m\u001b[0mcolumns\u001b[0m\u001b[0;34m,\u001b[0m \u001b[0mpd\u001b[0m\u001b[0;34m.\u001b[0m\u001b[0mMultiIndex\u001b[0m\u001b[0;34m)\u001b[0m\u001b[0;34m:\u001b[0m\u001b[0;34m\u001b[0m\u001b[0;34m\u001b[0m\u001b[0m\n\u001b[0;32m---> 72\u001b[0;31m         raise AttributeError(\"So far, heatmaps can only be created for \"\n\u001b[0m\u001b[1;32m     73\u001b[0m                              \u001b[0;34m\"single column tabular data (e.g. Bias or \"\u001b[0m\u001b[0;34m\u001b[0m\u001b[0;34m\u001b[0m\u001b[0m\n\u001b[1;32m     74\u001b[0m                              \"RMSE) with a partly unstacked MultiIndex\")\n",
      "\u001b[0;31mAttributeError\u001b[0m: So far, heatmaps can only be created for single column tabular data (e.g. Bias or RMSE) with a partly unstacked MultiIndex"
     ]
    }
   ],
   "source": [
    "df_to_heatmap(table['raw'])"
   ]
  },
  {
   "cell_type": "code",
   "execution_count": null,
   "metadata": {},
   "outputs": [],
   "source": []
  },
  {
   "cell_type": "code",
   "execution_count": null,
   "metadata": {},
   "outputs": [],
   "source": []
  },
  {
   "cell_type": "code",
   "execution_count": null,
   "metadata": {},
   "outputs": [],
   "source": []
  },
  {
   "cell_type": "code",
   "execution_count": null,
   "metadata": {},
   "outputs": [],
   "source": []
  },
  {
   "cell_type": "code",
   "execution_count": null,
   "metadata": {},
   "outputs": [],
   "source": []
  },
  {
   "cell_type": "code",
   "execution_count": 190,
   "metadata": {},
   "outputs": [
    {
     "ename": "ValueError",
     "evalue": "Other Series must have a name",
     "output_type": "error",
     "traceback": [
      "\u001b[0;31m---------------------------------------------------------------------------\u001b[0m",
      "\u001b[0;31mValueError\u001b[0m                                Traceback (most recent call last)",
      "\u001b[0;32m<ipython-input-190-445073e65560>\u001b[0m in \u001b[0;36m<module>\u001b[0;34m\u001b[0m\n\u001b[1;32m      1\u001b[0m data = df.join(df['wetso4']['OsloCTM3v1.01-met2010_AP3-CTRL'].subtract(df['wetso4']['GAWTADsubsetAasEtAl']).rename(\n\u001b[0;32m----> 2\u001b[0;31m         columns={'OsloCTM3v1.01-met2010_AP3-CTRL':'bias'}))\n\u001b[0m",
      "\u001b[0;32m~/anaconda3/lib/python3.7/site-packages/pandas/core/frame.py\u001b[0m in \u001b[0;36mjoin\u001b[0;34m(self, other, on, how, lsuffix, rsuffix, sort)\u001b[0m\n\u001b[1;32m   6813\u001b[0m         \u001b[0;31m# For SparseDataFrame's benefit\u001b[0m\u001b[0;34m\u001b[0m\u001b[0;34m\u001b[0m\u001b[0;34m\u001b[0m\u001b[0m\n\u001b[1;32m   6814\u001b[0m         return self._join_compat(other, on=on, how=how, lsuffix=lsuffix,\n\u001b[0;32m-> 6815\u001b[0;31m                                  rsuffix=rsuffix, sort=sort)\n\u001b[0m\u001b[1;32m   6816\u001b[0m \u001b[0;34m\u001b[0m\u001b[0m\n\u001b[1;32m   6817\u001b[0m     def _join_compat(self, other, on=None, how='left', lsuffix='', rsuffix='',\n",
      "\u001b[0;32m~/anaconda3/lib/python3.7/site-packages/pandas/core/frame.py\u001b[0m in \u001b[0;36m_join_compat\u001b[0;34m(self, other, on, how, lsuffix, rsuffix, sort)\u001b[0m\n\u001b[1;32m   6822\u001b[0m         \u001b[0;32mif\u001b[0m \u001b[0misinstance\u001b[0m\u001b[0;34m(\u001b[0m\u001b[0mother\u001b[0m\u001b[0;34m,\u001b[0m \u001b[0mSeries\u001b[0m\u001b[0;34m)\u001b[0m\u001b[0;34m:\u001b[0m\u001b[0;34m\u001b[0m\u001b[0;34m\u001b[0m\u001b[0m\n\u001b[1;32m   6823\u001b[0m             \u001b[0;32mif\u001b[0m \u001b[0mother\u001b[0m\u001b[0;34m.\u001b[0m\u001b[0mname\u001b[0m \u001b[0;32mis\u001b[0m \u001b[0;32mNone\u001b[0m\u001b[0;34m:\u001b[0m\u001b[0;34m\u001b[0m\u001b[0;34m\u001b[0m\u001b[0m\n\u001b[0;32m-> 6824\u001b[0;31m                 \u001b[0;32mraise\u001b[0m \u001b[0mValueError\u001b[0m\u001b[0;34m(\u001b[0m\u001b[0;34m'Other Series must have a name'\u001b[0m\u001b[0;34m)\u001b[0m\u001b[0;34m\u001b[0m\u001b[0;34m\u001b[0m\u001b[0m\n\u001b[0m\u001b[1;32m   6825\u001b[0m             \u001b[0mother\u001b[0m \u001b[0;34m=\u001b[0m \u001b[0mDataFrame\u001b[0m\u001b[0;34m(\u001b[0m\u001b[0;34m{\u001b[0m\u001b[0mother\u001b[0m\u001b[0;34m.\u001b[0m\u001b[0mname\u001b[0m\u001b[0;34m:\u001b[0m \u001b[0mother\u001b[0m\u001b[0;34m}\u001b[0m\u001b[0;34m)\u001b[0m\u001b[0;34m\u001b[0m\u001b[0;34m\u001b[0m\u001b[0m\n\u001b[1;32m   6826\u001b[0m \u001b[0;34m\u001b[0m\u001b[0m\n",
      "\u001b[0;31mValueError\u001b[0m: Other Series must have a name"
     ]
    }
   ],
   "source": [
    "data = df.join(df['wetso4']['OsloCTM3v1.01-met2010_AP3-CTRL'].subtract(df['wetso4']['GAWTADsubsetAasEtAl']).rename(\n",
    "        columns={'OsloCTM3v1.01-met2010_AP3-CTRL':'bias'}))"
   ]
  },
  {
   "cell_type": "code",
   "execution_count": 185,
   "metadata": {},
   "outputs": [
    {
     "name": "stderr",
     "output_type": "stream",
     "text": [
      "/home/hannas/anaconda3/lib/python3.7/site-packages/ipykernel_launcher.py:1: SettingWithCopyWarning: \n",
      "A value is trying to be set on a copy of a slice from a DataFrame.\n",
      "Try using .loc[row_indexer,col_indexer] = value instead\n",
      "\n",
      "See the caveats in the documentation: http://pandas.pydata.org/pandas-docs/stable/indexing.html#indexing-view-versus-copy\n",
      "  \"\"\"Entry point for launching an IPython kernel.\n"
     ]
    }
   ],
   "source": [
    "cropped['wetso4']['hh'] = np.arange(12)"
   ]
  },
  {
   "cell_type": "code",
   "execution_count": 186,
   "metadata": {},
   "outputs": [
    {
     "data": {
      "text/html": [
       "<div>\n",
       "<style scoped>\n",
       "    .dataframe tbody tr th:only-of-type {\n",
       "        vertical-align: middle;\n",
       "    }\n",
       "\n",
       "    .dataframe tbody tr th {\n",
       "        vertical-align: top;\n",
       "    }\n",
       "\n",
       "    .dataframe thead tr th {\n",
       "        text-align: left;\n",
       "    }\n",
       "\n",
       "    .dataframe thead tr:last-of-type th {\n",
       "        text-align: right;\n",
       "    }\n",
       "</style>\n",
       "<table border=\"1\" class=\"dataframe\">\n",
       "  <thead>\n",
       "    <tr>\n",
       "      <th></th>\n",
       "      <th colspan=\"2\" halign=\"left\">wetso4</th>\n",
       "    </tr>\n",
       "    <tr>\n",
       "      <th>data_source</th>\n",
       "      <th>GAWTADsubsetAasEtAl</th>\n",
       "      <th>OsloCTM3v1.01-met2010_AP3-CTRL</th>\n",
       "    </tr>\n",
       "    <tr>\n",
       "      <th>time</th>\n",
       "      <th></th>\n",
       "      <th></th>\n",
       "    </tr>\n",
       "  </thead>\n",
       "  <tbody>\n",
       "    <tr>\n",
       "      <th>2010-01-15</th>\n",
       "      <td>NaN</td>\n",
       "      <td>1.101474e-11</td>\n",
       "    </tr>\n",
       "    <tr>\n",
       "      <th>2010-02-15</th>\n",
       "      <td>0.001201</td>\n",
       "      <td>1.617417e-11</td>\n",
       "    </tr>\n",
       "    <tr>\n",
       "      <th>2010-03-15</th>\n",
       "      <td>0.002394</td>\n",
       "      <td>3.028526e-11</td>\n",
       "    </tr>\n",
       "    <tr>\n",
       "      <th>2010-04-15</th>\n",
       "      <td>0.001815</td>\n",
       "      <td>2.441301e-11</td>\n",
       "    </tr>\n",
       "    <tr>\n",
       "      <th>2010-05-15</th>\n",
       "      <td>0.002136</td>\n",
       "      <td>1.239039e-11</td>\n",
       "    </tr>\n",
       "    <tr>\n",
       "      <th>2010-06-15</th>\n",
       "      <td>0.004404</td>\n",
       "      <td>3.170837e-11</td>\n",
       "    </tr>\n",
       "    <tr>\n",
       "      <th>2010-07-15</th>\n",
       "      <td>0.002919</td>\n",
       "      <td>1.745229e-11</td>\n",
       "    </tr>\n",
       "    <tr>\n",
       "      <th>2010-08-15</th>\n",
       "      <td>0.004150</td>\n",
       "      <td>2.264605e-11</td>\n",
       "    </tr>\n",
       "    <tr>\n",
       "      <th>2010-09-15</th>\n",
       "      <td>NaN</td>\n",
       "      <td>1.474363e-11</td>\n",
       "    </tr>\n",
       "    <tr>\n",
       "      <th>2010-10-15</th>\n",
       "      <td>NaN</td>\n",
       "      <td>2.707664e-11</td>\n",
       "    </tr>\n",
       "    <tr>\n",
       "      <th>2010-11-15</th>\n",
       "      <td>0.001329</td>\n",
       "      <td>1.241212e-11</td>\n",
       "    </tr>\n",
       "    <tr>\n",
       "      <th>2010-12-15</th>\n",
       "      <td>0.001029</td>\n",
       "      <td>1.188433e-11</td>\n",
       "    </tr>\n",
       "  </tbody>\n",
       "</table>\n",
       "</div>"
      ],
      "text/plain": [
       "                         wetso4                               \n",
       "data_source GAWTADsubsetAasEtAl OsloCTM3v1.01-met2010_AP3-CTRL\n",
       "time                                                          \n",
       "2010-01-15                  NaN                   1.101474e-11\n",
       "2010-02-15             0.001201                   1.617417e-11\n",
       "2010-03-15             0.002394                   3.028526e-11\n",
       "2010-04-15             0.001815                   2.441301e-11\n",
       "2010-05-15             0.002136                   1.239039e-11\n",
       "2010-06-15             0.004404                   3.170837e-11\n",
       "2010-07-15             0.002919                   1.745229e-11\n",
       "2010-08-15             0.004150                   2.264605e-11\n",
       "2010-09-15                  NaN                   1.474363e-11\n",
       "2010-10-15                  NaN                   2.707664e-11\n",
       "2010-11-15             0.001329                   1.241212e-11\n",
       "2010-12-15             0.001029                   1.188433e-11"
      ]
     },
     "execution_count": 186,
     "metadata": {},
     "output_type": "execute_result"
    }
   ],
   "source": [
    "cropped"
   ]
  },
  {
   "cell_type": "code",
   "execution_count": 178,
   "metadata": {},
   "outputs": [],
   "source": [
    "closer = cropped.unstack(0)"
   ]
  },
  {
   "cell_type": "code",
   "execution_count": null,
   "metadata": {},
   "outputs": [],
   "source": []
  },
  {
   "cell_type": "code",
   "execution_count": 174,
   "metadata": {},
   "outputs": [
    {
     "ename": "KeyError",
     "evalue": "'OsloCTM3v1.01-met2010_AP3-CTRL'",
     "output_type": "error",
     "traceback": [
      "\u001b[0;31m---------------------------------------------------------------------------\u001b[0m",
      "\u001b[0;31mKeyError\u001b[0m                                  Traceback (most recent call last)",
      "\u001b[0;32m~/anaconda3/lib/python3.7/site-packages/pandas/core/indexes/base.py\u001b[0m in \u001b[0;36mget_loc\u001b[0;34m(self, key, method, tolerance)\u001b[0m\n\u001b[1;32m   2656\u001b[0m             \u001b[0;32mtry\u001b[0m\u001b[0;34m:\u001b[0m\u001b[0;34m\u001b[0m\u001b[0;34m\u001b[0m\u001b[0m\n\u001b[0;32m-> 2657\u001b[0;31m                 \u001b[0;32mreturn\u001b[0m \u001b[0mself\u001b[0m\u001b[0;34m.\u001b[0m\u001b[0m_engine\u001b[0m\u001b[0;34m.\u001b[0m\u001b[0mget_loc\u001b[0m\u001b[0;34m(\u001b[0m\u001b[0mkey\u001b[0m\u001b[0;34m)\u001b[0m\u001b[0;34m\u001b[0m\u001b[0;34m\u001b[0m\u001b[0m\n\u001b[0m\u001b[1;32m   2658\u001b[0m             \u001b[0;32mexcept\u001b[0m \u001b[0mKeyError\u001b[0m\u001b[0;34m:\u001b[0m\u001b[0;34m\u001b[0m\u001b[0;34m\u001b[0m\u001b[0m\n",
      "\u001b[0;32mpandas/_libs/index.pyx\u001b[0m in \u001b[0;36mpandas._libs.index.IndexEngine.get_loc\u001b[0;34m()\u001b[0m\n",
      "\u001b[0;32mpandas/_libs/index.pyx\u001b[0m in \u001b[0;36mpandas._libs.index.IndexEngine.get_loc\u001b[0;34m()\u001b[0m\n",
      "\u001b[0;32mpandas/_libs/hashtable_class_helper.pxi\u001b[0m in \u001b[0;36mpandas._libs.hashtable.PyObjectHashTable.get_item\u001b[0;34m()\u001b[0m\n",
      "\u001b[0;32mpandas/_libs/hashtable_class_helper.pxi\u001b[0m in \u001b[0;36mpandas._libs.hashtable.PyObjectHashTable.get_item\u001b[0;34m()\u001b[0m\n",
      "\u001b[0;31mKeyError\u001b[0m: 'OsloCTM3v1.01-met2010_AP3-CTRL'",
      "\nDuring handling of the above exception, another exception occurred:\n",
      "\u001b[0;31mKeyError\u001b[0m                                  Traceback (most recent call last)",
      "\u001b[0;32m<ipython-input-174-944ed731d360>\u001b[0m in \u001b[0;36m<module>\u001b[0;34m\u001b[0m\n\u001b[0;32m----> 1\u001b[0;31m \u001b[0mcloser\u001b[0m\u001b[0;34m[\u001b[0m\u001b[0;34m'bias'\u001b[0m\u001b[0;34m]\u001b[0m \u001b[0;34m=\u001b[0m \u001b[0mcloser\u001b[0m\u001b[0;34m[\u001b[0m\u001b[0;34m'OsloCTM3v1.01-met2010_AP3-CTRL'\u001b[0m\u001b[0;34m]\u001b[0m \u001b[0;34m-\u001b[0m  \u001b[0mcloser\u001b[0m\u001b[0;34m[\u001b[0m\u001b[0;34m'GAWTADsubsetAasEtAl'\u001b[0m\u001b[0;34m]\u001b[0m\u001b[0;34m\u001b[0m\u001b[0;34m\u001b[0m\u001b[0m\n\u001b[0m",
      "\u001b[0;32m~/anaconda3/lib/python3.7/site-packages/pandas/core/frame.py\u001b[0m in \u001b[0;36m__getitem__\u001b[0;34m(self, key)\u001b[0m\n\u001b[1;32m   2924\u001b[0m         \u001b[0;32mif\u001b[0m \u001b[0mis_single_key\u001b[0m\u001b[0;34m:\u001b[0m\u001b[0;34m\u001b[0m\u001b[0;34m\u001b[0m\u001b[0m\n\u001b[1;32m   2925\u001b[0m             \u001b[0;32mif\u001b[0m \u001b[0mself\u001b[0m\u001b[0;34m.\u001b[0m\u001b[0mcolumns\u001b[0m\u001b[0;34m.\u001b[0m\u001b[0mnlevels\u001b[0m \u001b[0;34m>\u001b[0m \u001b[0;36m1\u001b[0m\u001b[0;34m:\u001b[0m\u001b[0;34m\u001b[0m\u001b[0;34m\u001b[0m\u001b[0m\n\u001b[0;32m-> 2926\u001b[0;31m                 \u001b[0;32mreturn\u001b[0m \u001b[0mself\u001b[0m\u001b[0;34m.\u001b[0m\u001b[0m_getitem_multilevel\u001b[0m\u001b[0;34m(\u001b[0m\u001b[0mkey\u001b[0m\u001b[0;34m)\u001b[0m\u001b[0;34m\u001b[0m\u001b[0;34m\u001b[0m\u001b[0m\n\u001b[0m\u001b[1;32m   2927\u001b[0m             \u001b[0mindexer\u001b[0m \u001b[0;34m=\u001b[0m \u001b[0mself\u001b[0m\u001b[0;34m.\u001b[0m\u001b[0mcolumns\u001b[0m\u001b[0;34m.\u001b[0m\u001b[0mget_loc\u001b[0m\u001b[0;34m(\u001b[0m\u001b[0mkey\u001b[0m\u001b[0;34m)\u001b[0m\u001b[0;34m\u001b[0m\u001b[0;34m\u001b[0m\u001b[0m\n\u001b[1;32m   2928\u001b[0m             \u001b[0;32mif\u001b[0m \u001b[0mis_integer\u001b[0m\u001b[0;34m(\u001b[0m\u001b[0mindexer\u001b[0m\u001b[0;34m)\u001b[0m\u001b[0;34m:\u001b[0m\u001b[0;34m\u001b[0m\u001b[0;34m\u001b[0m\u001b[0m\n",
      "\u001b[0;32m~/anaconda3/lib/python3.7/site-packages/pandas/core/frame.py\u001b[0m in \u001b[0;36m_getitem_multilevel\u001b[0;34m(self, key)\u001b[0m\n\u001b[1;32m   2970\u001b[0m \u001b[0;34m\u001b[0m\u001b[0m\n\u001b[1;32m   2971\u001b[0m     \u001b[0;32mdef\u001b[0m \u001b[0m_getitem_multilevel\u001b[0m\u001b[0;34m(\u001b[0m\u001b[0mself\u001b[0m\u001b[0;34m,\u001b[0m \u001b[0mkey\u001b[0m\u001b[0;34m)\u001b[0m\u001b[0;34m:\u001b[0m\u001b[0;34m\u001b[0m\u001b[0;34m\u001b[0m\u001b[0m\n\u001b[0;32m-> 2972\u001b[0;31m         \u001b[0mloc\u001b[0m \u001b[0;34m=\u001b[0m \u001b[0mself\u001b[0m\u001b[0;34m.\u001b[0m\u001b[0mcolumns\u001b[0m\u001b[0;34m.\u001b[0m\u001b[0mget_loc\u001b[0m\u001b[0;34m(\u001b[0m\u001b[0mkey\u001b[0m\u001b[0;34m)\u001b[0m\u001b[0;34m\u001b[0m\u001b[0;34m\u001b[0m\u001b[0m\n\u001b[0m\u001b[1;32m   2973\u001b[0m         \u001b[0;32mif\u001b[0m \u001b[0misinstance\u001b[0m\u001b[0;34m(\u001b[0m\u001b[0mloc\u001b[0m\u001b[0;34m,\u001b[0m \u001b[0;34m(\u001b[0m\u001b[0mslice\u001b[0m\u001b[0;34m,\u001b[0m \u001b[0mSeries\u001b[0m\u001b[0;34m,\u001b[0m \u001b[0mnp\u001b[0m\u001b[0;34m.\u001b[0m\u001b[0mndarray\u001b[0m\u001b[0;34m,\u001b[0m \u001b[0mIndex\u001b[0m\u001b[0;34m)\u001b[0m\u001b[0;34m)\u001b[0m\u001b[0;34m:\u001b[0m\u001b[0;34m\u001b[0m\u001b[0;34m\u001b[0m\u001b[0m\n\u001b[1;32m   2974\u001b[0m             \u001b[0mnew_columns\u001b[0m \u001b[0;34m=\u001b[0m \u001b[0mself\u001b[0m\u001b[0;34m.\u001b[0m\u001b[0mcolumns\u001b[0m\u001b[0;34m[\u001b[0m\u001b[0mloc\u001b[0m\u001b[0;34m]\u001b[0m\u001b[0;34m\u001b[0m\u001b[0;34m\u001b[0m\u001b[0m\n",
      "\u001b[0;32m~/anaconda3/lib/python3.7/site-packages/pandas/core/indexes/multi.py\u001b[0m in \u001b[0;36mget_loc\u001b[0;34m(self, key, method)\u001b[0m\n\u001b[1;32m   2395\u001b[0m \u001b[0;34m\u001b[0m\u001b[0m\n\u001b[1;32m   2396\u001b[0m         \u001b[0;32mif\u001b[0m \u001b[0;32mnot\u001b[0m \u001b[0misinstance\u001b[0m\u001b[0;34m(\u001b[0m\u001b[0mkey\u001b[0m\u001b[0;34m,\u001b[0m \u001b[0mtuple\u001b[0m\u001b[0;34m)\u001b[0m\u001b[0;34m:\u001b[0m\u001b[0;34m\u001b[0m\u001b[0;34m\u001b[0m\u001b[0m\n\u001b[0;32m-> 2397\u001b[0;31m             \u001b[0mloc\u001b[0m \u001b[0;34m=\u001b[0m \u001b[0mself\u001b[0m\u001b[0;34m.\u001b[0m\u001b[0m_get_level_indexer\u001b[0m\u001b[0;34m(\u001b[0m\u001b[0mkey\u001b[0m\u001b[0;34m,\u001b[0m \u001b[0mlevel\u001b[0m\u001b[0;34m=\u001b[0m\u001b[0;36m0\u001b[0m\u001b[0;34m)\u001b[0m\u001b[0;34m\u001b[0m\u001b[0;34m\u001b[0m\u001b[0m\n\u001b[0m\u001b[1;32m   2398\u001b[0m             \u001b[0;32mreturn\u001b[0m \u001b[0m_maybe_to_slice\u001b[0m\u001b[0;34m(\u001b[0m\u001b[0mloc\u001b[0m\u001b[0;34m)\u001b[0m\u001b[0;34m\u001b[0m\u001b[0;34m\u001b[0m\u001b[0m\n\u001b[1;32m   2399\u001b[0m \u001b[0;34m\u001b[0m\u001b[0m\n",
      "\u001b[0;32m~/anaconda3/lib/python3.7/site-packages/pandas/core/indexes/multi.py\u001b[0m in \u001b[0;36m_get_level_indexer\u001b[0;34m(self, key, level, indexer)\u001b[0m\n\u001b[1;32m   2650\u001b[0m         \u001b[0;32melse\u001b[0m\u001b[0;34m:\u001b[0m\u001b[0;34m\u001b[0m\u001b[0;34m\u001b[0m\u001b[0m\n\u001b[1;32m   2651\u001b[0m \u001b[0;34m\u001b[0m\u001b[0m\n\u001b[0;32m-> 2652\u001b[0;31m             \u001b[0mcode\u001b[0m \u001b[0;34m=\u001b[0m \u001b[0mlevel_index\u001b[0m\u001b[0;34m.\u001b[0m\u001b[0mget_loc\u001b[0m\u001b[0;34m(\u001b[0m\u001b[0mkey\u001b[0m\u001b[0;34m)\u001b[0m\u001b[0;34m\u001b[0m\u001b[0;34m\u001b[0m\u001b[0m\n\u001b[0m\u001b[1;32m   2653\u001b[0m \u001b[0;34m\u001b[0m\u001b[0m\n\u001b[1;32m   2654\u001b[0m             \u001b[0;32mif\u001b[0m \u001b[0mlevel\u001b[0m \u001b[0;34m>\u001b[0m \u001b[0;36m0\u001b[0m \u001b[0;32mor\u001b[0m \u001b[0mself\u001b[0m\u001b[0;34m.\u001b[0m\u001b[0mlexsort_depth\u001b[0m \u001b[0;34m==\u001b[0m \u001b[0;36m0\u001b[0m\u001b[0;34m:\u001b[0m\u001b[0;34m\u001b[0m\u001b[0;34m\u001b[0m\u001b[0m\n",
      "\u001b[0;32m~/anaconda3/lib/python3.7/site-packages/pandas/core/indexes/base.py\u001b[0m in \u001b[0;36mget_loc\u001b[0;34m(self, key, method, tolerance)\u001b[0m\n\u001b[1;32m   2657\u001b[0m                 \u001b[0;32mreturn\u001b[0m \u001b[0mself\u001b[0m\u001b[0;34m.\u001b[0m\u001b[0m_engine\u001b[0m\u001b[0;34m.\u001b[0m\u001b[0mget_loc\u001b[0m\u001b[0;34m(\u001b[0m\u001b[0mkey\u001b[0m\u001b[0;34m)\u001b[0m\u001b[0;34m\u001b[0m\u001b[0;34m\u001b[0m\u001b[0m\n\u001b[1;32m   2658\u001b[0m             \u001b[0;32mexcept\u001b[0m \u001b[0mKeyError\u001b[0m\u001b[0;34m:\u001b[0m\u001b[0;34m\u001b[0m\u001b[0;34m\u001b[0m\u001b[0m\n\u001b[0;32m-> 2659\u001b[0;31m                 \u001b[0;32mreturn\u001b[0m \u001b[0mself\u001b[0m\u001b[0;34m.\u001b[0m\u001b[0m_engine\u001b[0m\u001b[0;34m.\u001b[0m\u001b[0mget_loc\u001b[0m\u001b[0;34m(\u001b[0m\u001b[0mself\u001b[0m\u001b[0;34m.\u001b[0m\u001b[0m_maybe_cast_indexer\u001b[0m\u001b[0;34m(\u001b[0m\u001b[0mkey\u001b[0m\u001b[0;34m)\u001b[0m\u001b[0;34m)\u001b[0m\u001b[0;34m\u001b[0m\u001b[0;34m\u001b[0m\u001b[0m\n\u001b[0m\u001b[1;32m   2660\u001b[0m         \u001b[0mindexer\u001b[0m \u001b[0;34m=\u001b[0m \u001b[0mself\u001b[0m\u001b[0;34m.\u001b[0m\u001b[0mget_indexer\u001b[0m\u001b[0;34m(\u001b[0m\u001b[0;34m[\u001b[0m\u001b[0mkey\u001b[0m\u001b[0;34m]\u001b[0m\u001b[0;34m,\u001b[0m \u001b[0mmethod\u001b[0m\u001b[0;34m=\u001b[0m\u001b[0mmethod\u001b[0m\u001b[0;34m,\u001b[0m \u001b[0mtolerance\u001b[0m\u001b[0;34m=\u001b[0m\u001b[0mtolerance\u001b[0m\u001b[0;34m)\u001b[0m\u001b[0;34m\u001b[0m\u001b[0;34m\u001b[0m\u001b[0m\n\u001b[1;32m   2661\u001b[0m         \u001b[0;32mif\u001b[0m \u001b[0mindexer\u001b[0m\u001b[0;34m.\u001b[0m\u001b[0mndim\u001b[0m \u001b[0;34m>\u001b[0m \u001b[0;36m1\u001b[0m \u001b[0;32mor\u001b[0m \u001b[0mindexer\u001b[0m\u001b[0;34m.\u001b[0m\u001b[0msize\u001b[0m \u001b[0;34m>\u001b[0m \u001b[0;36m1\u001b[0m\u001b[0;34m:\u001b[0m\u001b[0;34m\u001b[0m\u001b[0;34m\u001b[0m\u001b[0m\n",
      "\u001b[0;32mpandas/_libs/index.pyx\u001b[0m in \u001b[0;36mpandas._libs.index.IndexEngine.get_loc\u001b[0;34m()\u001b[0m\n",
      "\u001b[0;32mpandas/_libs/index.pyx\u001b[0m in \u001b[0;36mpandas._libs.index.IndexEngine.get_loc\u001b[0;34m()\u001b[0m\n",
      "\u001b[0;32mpandas/_libs/hashtable_class_helper.pxi\u001b[0m in \u001b[0;36mpandas._libs.hashtable.PyObjectHashTable.get_item\u001b[0;34m()\u001b[0m\n",
      "\u001b[0;32mpandas/_libs/hashtable_class_helper.pxi\u001b[0m in \u001b[0;36mpandas._libs.hashtable.PyObjectHashTable.get_item\u001b[0;34m()\u001b[0m\n",
      "\u001b[0;31mKeyError\u001b[0m: 'OsloCTM3v1.01-met2010_AP3-CTRL'"
     ]
    }
   ],
   "source": [
    "closer['bias'] = closer['OsloCTM3v1.01-met2010_AP3-CTRL'] -  closer['GAWTADsubsetAasEtAl']"
   ]
  },
  {
   "cell_type": "code",
   "execution_count": 173,
   "metadata": {},
   "outputs": [
    {
     "data": {
      "text/html": [
       "<div>\n",
       "<style scoped>\n",
       "    .dataframe tbody tr th:only-of-type {\n",
       "        vertical-align: middle;\n",
       "    }\n",
       "\n",
       "    .dataframe tbody tr th {\n",
       "        vertical-align: top;\n",
       "    }\n",
       "\n",
       "    .dataframe thead tr th {\n",
       "        text-align: left;\n",
       "    }\n",
       "\n",
       "    .dataframe thead tr:last-of-type th {\n",
       "        text-align: right;\n",
       "    }\n",
       "</style>\n",
       "<table border=\"1\" class=\"dataframe\">\n",
       "  <thead>\n",
       "    <tr>\n",
       "      <th></th>\n",
       "      <th colspan=\"2\" halign=\"left\">wetso4</th>\n",
       "    </tr>\n",
       "    <tr>\n",
       "      <th>data_source</th>\n",
       "      <th>GAWTADsubsetAasEtAl</th>\n",
       "      <th>OsloCTM3v1.01-met2010_AP3-CTRL</th>\n",
       "    </tr>\n",
       "    <tr>\n",
       "      <th>time</th>\n",
       "      <th></th>\n",
       "      <th></th>\n",
       "    </tr>\n",
       "  </thead>\n",
       "  <tbody>\n",
       "    <tr>\n",
       "      <th>2010-01-15</th>\n",
       "      <td>NaN</td>\n",
       "      <td>1.101474e-11</td>\n",
       "    </tr>\n",
       "    <tr>\n",
       "      <th>2010-02-15</th>\n",
       "      <td>0.001201</td>\n",
       "      <td>1.617417e-11</td>\n",
       "    </tr>\n",
       "    <tr>\n",
       "      <th>2010-03-15</th>\n",
       "      <td>0.002394</td>\n",
       "      <td>3.028526e-11</td>\n",
       "    </tr>\n",
       "    <tr>\n",
       "      <th>2010-04-15</th>\n",
       "      <td>0.001815</td>\n",
       "      <td>2.441301e-11</td>\n",
       "    </tr>\n",
       "    <tr>\n",
       "      <th>2010-05-15</th>\n",
       "      <td>0.002136</td>\n",
       "      <td>1.239039e-11</td>\n",
       "    </tr>\n",
       "    <tr>\n",
       "      <th>2010-06-15</th>\n",
       "      <td>0.004404</td>\n",
       "      <td>3.170837e-11</td>\n",
       "    </tr>\n",
       "    <tr>\n",
       "      <th>2010-07-15</th>\n",
       "      <td>0.002919</td>\n",
       "      <td>1.745229e-11</td>\n",
       "    </tr>\n",
       "    <tr>\n",
       "      <th>2010-08-15</th>\n",
       "      <td>0.004150</td>\n",
       "      <td>2.264605e-11</td>\n",
       "    </tr>\n",
       "    <tr>\n",
       "      <th>2010-09-15</th>\n",
       "      <td>NaN</td>\n",
       "      <td>1.474363e-11</td>\n",
       "    </tr>\n",
       "    <tr>\n",
       "      <th>2010-10-15</th>\n",
       "      <td>NaN</td>\n",
       "      <td>2.707664e-11</td>\n",
       "    </tr>\n",
       "    <tr>\n",
       "      <th>2010-11-15</th>\n",
       "      <td>0.001329</td>\n",
       "      <td>1.241212e-11</td>\n",
       "    </tr>\n",
       "    <tr>\n",
       "      <th>2010-12-15</th>\n",
       "      <td>0.001029</td>\n",
       "      <td>1.188433e-11</td>\n",
       "    </tr>\n",
       "  </tbody>\n",
       "</table>\n",
       "</div>"
      ],
      "text/plain": [
       "                         wetso4                               \n",
       "data_source GAWTADsubsetAasEtAl OsloCTM3v1.01-met2010_AP3-CTRL\n",
       "time                                                          \n",
       "2010-01-15                  NaN                   1.101474e-11\n",
       "2010-02-15             0.001201                   1.617417e-11\n",
       "2010-03-15             0.002394                   3.028526e-11\n",
       "2010-04-15             0.001815                   2.441301e-11\n",
       "2010-05-15             0.002136                   1.239039e-11\n",
       "2010-06-15             0.004404                   3.170837e-11\n",
       "2010-07-15             0.002919                   1.745229e-11\n",
       "2010-08-15             0.004150                   2.264605e-11\n",
       "2010-09-15                  NaN                   1.474363e-11\n",
       "2010-10-15                  NaN                   2.707664e-11\n",
       "2010-11-15             0.001329                   1.241212e-11\n",
       "2010-12-15             0.001029                   1.188433e-11"
      ]
     },
     "execution_count": 173,
     "metadata": {},
     "output_type": "execute_result"
    }
   ],
   "source": [
    "closer"
   ]
  },
  {
   "cell_type": "code",
   "execution_count": 169,
   "metadata": {},
   "outputs": [
    {
     "data": {
      "text/plain": [
       "DatetimeIndex(['2010-01-15', '2010-02-15', '2010-03-15', '2010-04-15',\n",
       "               '2010-05-15', '2010-06-15', '2010-07-15', '2010-08-15',\n",
       "               '2010-09-15', '2010-10-15', '2010-11-15', '2010-12-15'],\n",
       "              dtype='datetime64[ns]', name='time', freq=None)"
      ]
     },
     "execution_count": 169,
     "metadata": {},
     "output_type": "execute_result"
    }
   ],
   "source": [
    "closer.index"
   ]
  },
  {
   "cell_type": "code",
   "execution_count": 159,
   "metadata": {},
   "outputs": [],
   "source": [
    "closer.index = [time.month for time in closer.index]"
   ]
  },
  {
   "cell_type": "code",
   "execution_count": 160,
   "metadata": {},
   "outputs": [
    {
     "data": {
      "text/html": [
       "<div>\n",
       "<style scoped>\n",
       "    .dataframe tbody tr th:only-of-type {\n",
       "        vertical-align: middle;\n",
       "    }\n",
       "\n",
       "    .dataframe tbody tr th {\n",
       "        vertical-align: top;\n",
       "    }\n",
       "\n",
       "    .dataframe thead th {\n",
       "        text-align: right;\n",
       "    }\n",
       "</style>\n",
       "<table border=\"1\" class=\"dataframe\">\n",
       "  <thead>\n",
       "    <tr style=\"text-align: right;\">\n",
       "      <th></th>\n",
       "      <th>obs</th>\n",
       "      <th>OsloCTM</th>\n",
       "      <th>bias</th>\n",
       "    </tr>\n",
       "  </thead>\n",
       "  <tbody>\n",
       "    <tr>\n",
       "      <th>1</th>\n",
       "      <td>NaN</td>\n",
       "      <td>1.101474e-11</td>\n",
       "      <td>NaN</td>\n",
       "    </tr>\n",
       "    <tr>\n",
       "      <th>2</th>\n",
       "      <td>0.001201</td>\n",
       "      <td>1.617417e-11</td>\n",
       "      <td>-0.001201</td>\n",
       "    </tr>\n",
       "    <tr>\n",
       "      <th>3</th>\n",
       "      <td>0.002394</td>\n",
       "      <td>3.028526e-11</td>\n",
       "      <td>-0.002394</td>\n",
       "    </tr>\n",
       "    <tr>\n",
       "      <th>4</th>\n",
       "      <td>0.001815</td>\n",
       "      <td>2.441301e-11</td>\n",
       "      <td>-0.001815</td>\n",
       "    </tr>\n",
       "    <tr>\n",
       "      <th>5</th>\n",
       "      <td>0.002136</td>\n",
       "      <td>1.239039e-11</td>\n",
       "      <td>-0.002136</td>\n",
       "    </tr>\n",
       "    <tr>\n",
       "      <th>6</th>\n",
       "      <td>0.004404</td>\n",
       "      <td>3.170837e-11</td>\n",
       "      <td>-0.004404</td>\n",
       "    </tr>\n",
       "    <tr>\n",
       "      <th>7</th>\n",
       "      <td>0.002919</td>\n",
       "      <td>1.745229e-11</td>\n",
       "      <td>-0.002919</td>\n",
       "    </tr>\n",
       "    <tr>\n",
       "      <th>8</th>\n",
       "      <td>0.004150</td>\n",
       "      <td>2.264605e-11</td>\n",
       "      <td>-0.004150</td>\n",
       "    </tr>\n",
       "    <tr>\n",
       "      <th>9</th>\n",
       "      <td>NaN</td>\n",
       "      <td>1.474363e-11</td>\n",
       "      <td>NaN</td>\n",
       "    </tr>\n",
       "    <tr>\n",
       "      <th>10</th>\n",
       "      <td>NaN</td>\n",
       "      <td>2.707664e-11</td>\n",
       "      <td>NaN</td>\n",
       "    </tr>\n",
       "    <tr>\n",
       "      <th>11</th>\n",
       "      <td>0.001329</td>\n",
       "      <td>1.241212e-11</td>\n",
       "      <td>-0.001329</td>\n",
       "    </tr>\n",
       "    <tr>\n",
       "      <th>12</th>\n",
       "      <td>0.001029</td>\n",
       "      <td>1.188433e-11</td>\n",
       "      <td>-0.001029</td>\n",
       "    </tr>\n",
       "  </tbody>\n",
       "</table>\n",
       "</div>"
      ],
      "text/plain": [
       "         obs       OsloCTM      bias\n",
       "1        NaN  1.101474e-11       NaN\n",
       "2   0.001201  1.617417e-11 -0.001201\n",
       "3   0.002394  3.028526e-11 -0.002394\n",
       "4   0.001815  2.441301e-11 -0.001815\n",
       "5   0.002136  1.239039e-11 -0.002136\n",
       "6   0.004404  3.170837e-11 -0.004404\n",
       "7   0.002919  1.745229e-11 -0.002919\n",
       "8   0.004150  2.264605e-11 -0.004150\n",
       "9        NaN  1.474363e-11       NaN\n",
       "10       NaN  2.707664e-11       NaN\n",
       "11  0.001329  1.241212e-11 -0.001329\n",
       "12  0.001029  1.188433e-11 -0.001029"
      ]
     },
     "execution_count": 160,
     "metadata": {},
     "output_type": "execute_result"
    }
   ],
   "source": [
    "closer"
   ]
  },
  {
   "cell_type": "code",
   "execution_count": 161,
   "metadata": {},
   "outputs": [
    {
     "ename": "NameError",
     "evalue": "name 'numbers' is not defined",
     "output_type": "error",
     "traceback": [
      "\u001b[0;31m---------------------------------------------------------------------------\u001b[0m",
      "\u001b[0;31mNameError\u001b[0m                                 Traceback (most recent call last)",
      "\u001b[0;32m<ipython-input-161-4537af569b72>\u001b[0m in \u001b[0;36m<module>\u001b[0;34m\u001b[0m\n\u001b[0;32m----> 1\u001b[0;31m \u001b[0mpd\u001b[0m\u001b[0;34m.\u001b[0m\u001b[0mMultiIndex\u001b[0m\u001b[0;34m.\u001b[0m\u001b[0mfrom_product\u001b[0m\u001b[0;34m(\u001b[0m\u001b[0;34m[\u001b[0m\u001b[0mnumbers\u001b[0m\u001b[0;34m,\u001b[0m \u001b[0mcolors\u001b[0m\u001b[0;34m]\u001b[0m\u001b[0;34m,\u001b[0m \u001b[0mnames\u001b[0m\u001b[0;34m=\u001b[0m\u001b[0;34m[\u001b[0m\u001b[0;34m'obs'\u001b[0m\u001b[0;34m,\u001b[0m \u001b[0;34m'bias'\u001b[0m\u001b[0;34m]\u001b[0m\u001b[0;34m)\u001b[0m\u001b[0;34m\u001b[0m\u001b[0;34m\u001b[0m\u001b[0m\n\u001b[0m",
      "\u001b[0;31mNameError\u001b[0m: name 'numbers' is not defined"
     ]
    }
   ],
   "source": []
  },
  {
   "cell_type": "code",
   "execution_count": 95,
   "metadata": {},
   "outputs": [],
   "source": [
    "unstacked_datasource = .unstack(0)"
   ]
  },
  {
   "cell_type": "code",
   "execution_count": 151,
   "metadata": {},
   "outputs": [
    {
     "ename": "AttributeError",
     "evalue": "So far, heatmaps can only be created for single column tabular data (e.g. Bias or RMSE) with a partly unstacked MultiIndex",
     "output_type": "error",
     "traceback": [
      "\u001b[0;31m---------------------------------------------------------------------------\u001b[0m",
      "\u001b[0;31mAttributeError\u001b[0m                            Traceback (most recent call last)",
      "\u001b[0;32m<ipython-input-151-184363b051ae>\u001b[0m in \u001b[0;36m<module>\u001b[0;34m\u001b[0m\n\u001b[1;32m      3\u001b[0m                            \u001b[0mnormalise_rows\u001b[0m\u001b[0;34m=\u001b[0m\u001b[0;36m0\u001b[0m\u001b[0;34m,\u001b[0m \u001b[0;31m# see next cell for an example\u001b[0m\u001b[0;34m\u001b[0m\u001b[0;34m\u001b[0m\u001b[0m\n\u001b[1;32m      4\u001b[0m                            \u001b[0mtable_name\u001b[0m\u001b[0;34m=\u001b[0m\u001b[0;34m\"Bias\"\u001b[0m\u001b[0;34m,\u001b[0m\u001b[0;34m\u001b[0m\u001b[0;34m\u001b[0m\u001b[0m\n\u001b[0;32m----> 5\u001b[0;31m                            figsize=(20, 16))\n\u001b[0m",
      "\u001b[0;32m~/Desktop/pyaerocom/pyaerocom/plot/heatmaps.py\u001b[0m in \u001b[0;36mdf_to_heatmap\u001b[0;34m(df, cmap, center, low, high, vmin, vmax, color_rowwise, normalise_rows, normalise_rows_how, normalise_rows_col, annot, table_name, num_digits, ax, figsize, cbar, **kwargs)\u001b[0m\n\u001b[1;32m     70\u001b[0m \u001b[0;34m\u001b[0m\u001b[0m\n\u001b[1;32m     71\u001b[0m     \u001b[0;32mif\u001b[0m \u001b[0;32mnot\u001b[0m \u001b[0misinstance\u001b[0m\u001b[0;34m(\u001b[0m\u001b[0mdf\u001b[0m\u001b[0;34m.\u001b[0m\u001b[0mcolumns\u001b[0m\u001b[0;34m,\u001b[0m \u001b[0mpd\u001b[0m\u001b[0;34m.\u001b[0m\u001b[0mMultiIndex\u001b[0m\u001b[0;34m)\u001b[0m\u001b[0;34m:\u001b[0m\u001b[0;34m\u001b[0m\u001b[0;34m\u001b[0m\u001b[0m\n\u001b[0;32m---> 72\u001b[0;31m         raise AttributeError(\"So far, heatmaps can only be created for \"\n\u001b[0m\u001b[1;32m     73\u001b[0m                              \u001b[0;34m\"single column tabular data (e.g. Bias or \"\u001b[0m\u001b[0;34m\u001b[0m\u001b[0;34m\u001b[0m\u001b[0m\n\u001b[1;32m     74\u001b[0m                              \"RMSE) with a partly unstacked MultiIndex\")\n",
      "\u001b[0;31mAttributeError\u001b[0m: So far, heatmaps can only be created for single column tabular data (e.g. Bias or RMSE) with a partly unstacked MultiIndex"
     ]
    }
   ],
   "source": [
    "df_to_heatmap(closer,\n",
    "              center=0, # table value that is mapped to the center of the colormap\n",
    "              color_rowwise=1, #apply color mapping rowwise\n",
    "              normalise_rows=0, # see next cell for an example\n",
    "              table_name=\"Bias\",\n",
    "              figsize=(20, 16))"
   ]
  },
  {
   "cell_type": "code",
   "execution_count": null,
   "metadata": {},
   "outputs": [],
   "source": []
  },
  {
   "cell_type": "code",
   "execution_count": 59,
   "metadata": {},
   "outputs": [],
   "source": [
    "data = data_coloc.data.sel(data_source = 'GAWTADsubsetAasEtAl', station_name = 'Abington (CT15)')\n",
    "df_obs = data.to_dataframe()\n",
    "\n",
    "data = data_coloc.data.sel(data_source = 'OsloCTM3v1.01-met2010_AP3-CTRL', station_name = 'Abington (CT15)')\n",
    "df_model = data.to_dataframe()"
   ]
  },
  {
   "cell_type": "code",
   "execution_count": 57,
   "metadata": {},
   "outputs": [],
   "source": [
    "# bias =  is the difference .. "
   ]
  },
  {
   "cell_type": "code",
   "execution_count": 63,
   "metadata": {},
   "outputs": [],
   "source": [
    "bias = df_obs['wetso4'] - df_model['wetso4']"
   ]
  },
  {
   "cell_type": "code",
   "execution_count": 69,
   "metadata": {},
   "outputs": [],
   "source": [
    "hh = pd.DataFrame({'bias': bias})"
   ]
  },
  {
   "cell_type": "code",
   "execution_count": 68,
   "metadata": {},
   "outputs": [
    {
     "data": {
      "text/html": [
       "<div>\n",
       "<style scoped>\n",
       "    .dataframe tbody tr th:only-of-type {\n",
       "        vertical-align: middle;\n",
       "    }\n",
       "\n",
       "    .dataframe tbody tr th {\n",
       "        vertical-align: top;\n",
       "    }\n",
       "\n",
       "    .dataframe thead th {\n",
       "        text-align: right;\n",
       "    }\n",
       "</style>\n",
       "<table border=\"1\" class=\"dataframe\">\n",
       "  <thead>\n",
       "    <tr style=\"text-align: right;\">\n",
       "      <th></th>\n",
       "      <th>bias</th>\n",
       "    </tr>\n",
       "    <tr>\n",
       "      <th>time</th>\n",
       "      <th></th>\n",
       "    </tr>\n",
       "  </thead>\n",
       "  <tbody>\n",
       "    <tr>\n",
       "      <th>2010-01-15</th>\n",
       "      <td>NaN</td>\n",
       "    </tr>\n",
       "    <tr>\n",
       "      <th>2010-02-15</th>\n",
       "      <td>0.001201</td>\n",
       "    </tr>\n",
       "    <tr>\n",
       "      <th>2010-03-15</th>\n",
       "      <td>0.002394</td>\n",
       "    </tr>\n",
       "    <tr>\n",
       "      <th>2010-04-15</th>\n",
       "      <td>0.001815</td>\n",
       "    </tr>\n",
       "    <tr>\n",
       "      <th>2010-05-15</th>\n",
       "      <td>0.002136</td>\n",
       "    </tr>\n",
       "    <tr>\n",
       "      <th>2010-06-15</th>\n",
       "      <td>0.004404</td>\n",
       "    </tr>\n",
       "    <tr>\n",
       "      <th>2010-07-15</th>\n",
       "      <td>0.002919</td>\n",
       "    </tr>\n",
       "    <tr>\n",
       "      <th>2010-08-15</th>\n",
       "      <td>0.004150</td>\n",
       "    </tr>\n",
       "    <tr>\n",
       "      <th>2010-09-15</th>\n",
       "      <td>NaN</td>\n",
       "    </tr>\n",
       "    <tr>\n",
       "      <th>2010-10-15</th>\n",
       "      <td>NaN</td>\n",
       "    </tr>\n",
       "    <tr>\n",
       "      <th>2010-11-15</th>\n",
       "      <td>0.001329</td>\n",
       "    </tr>\n",
       "    <tr>\n",
       "      <th>2010-12-15</th>\n",
       "      <td>0.001029</td>\n",
       "    </tr>\n",
       "  </tbody>\n",
       "</table>\n",
       "</div>"
      ],
      "text/plain": [
       "                bias\n",
       "time                \n",
       "2010-01-15       NaN\n",
       "2010-02-15  0.001201\n",
       "2010-03-15  0.002394\n",
       "2010-04-15  0.001815\n",
       "2010-05-15  0.002136\n",
       "2010-06-15  0.004404\n",
       "2010-07-15  0.002919\n",
       "2010-08-15  0.004150\n",
       "2010-09-15       NaN\n",
       "2010-10-15       NaN\n",
       "2010-11-15  0.001329\n",
       "2010-12-15  0.001029"
      ]
     },
     "execution_count": 68,
     "metadata": {},
     "output_type": "execute_result"
    }
   ],
   "source": [
    "hh"
   ]
  },
  {
   "cell_type": "code",
   "execution_count": null,
   "metadata": {},
   "outputs": [],
   "source": []
  },
  {
   "cell_type": "code",
   "execution_count": null,
   "metadata": {},
   "outputs": [],
   "source": []
  },
  {
   "cell_type": "code",
   "execution_count": 71,
   "metadata": {},
   "outputs": [
    {
     "ename": "AttributeError",
     "evalue": "So far, heatmaps can only be created for single column tabular data (e.g. Bias or RMSE) with a partly unstacked MultiIndex",
     "output_type": "error",
     "traceback": [
      "\u001b[0;31m---------------------------------------------------------------------------\u001b[0m",
      "\u001b[0;31mAttributeError\u001b[0m                            Traceback (most recent call last)",
      "\u001b[0;32m<ipython-input-71-99aa1843cff5>\u001b[0m in \u001b[0;36m<module>\u001b[0;34m\u001b[0m\n\u001b[0;32m----> 1\u001b[0;31m \u001b[0mdf_to_heatmap\u001b[0m\u001b[0;34m(\u001b[0m\u001b[0mhh\u001b[0m\u001b[0;34m)\u001b[0m\u001b[0;34m\u001b[0m\u001b[0;34m\u001b[0m\u001b[0m\n\u001b[0m",
      "\u001b[0;32m~/Desktop/pyaerocom/pyaerocom/plot/heatmaps.py\u001b[0m in \u001b[0;36mdf_to_heatmap\u001b[0;34m(df, cmap, center, low, high, vmin, vmax, color_rowwise, normalise_rows, normalise_rows_how, normalise_rows_col, annot, table_name, num_digits, ax, figsize, cbar, **kwargs)\u001b[0m\n\u001b[1;32m     70\u001b[0m \u001b[0;34m\u001b[0m\u001b[0m\n\u001b[1;32m     71\u001b[0m     \u001b[0;32mif\u001b[0m \u001b[0;32mnot\u001b[0m \u001b[0misinstance\u001b[0m\u001b[0;34m(\u001b[0m\u001b[0mdf\u001b[0m\u001b[0;34m.\u001b[0m\u001b[0mcolumns\u001b[0m\u001b[0;34m,\u001b[0m \u001b[0mpd\u001b[0m\u001b[0;34m.\u001b[0m\u001b[0mMultiIndex\u001b[0m\u001b[0;34m)\u001b[0m\u001b[0;34m:\u001b[0m\u001b[0;34m\u001b[0m\u001b[0;34m\u001b[0m\u001b[0m\n\u001b[0;32m---> 72\u001b[0;31m         raise AttributeError(\"So far, heatmaps can only be created for \"\n\u001b[0m\u001b[1;32m     73\u001b[0m                              \u001b[0;34m\"single column tabular data (e.g. Bias or \"\u001b[0m\u001b[0;34m\u001b[0m\u001b[0;34m\u001b[0m\u001b[0m\n\u001b[1;32m     74\u001b[0m                              \"RMSE) with a partly unstacked MultiIndex\")\n",
      "\u001b[0;31mAttributeError\u001b[0m: So far, heatmaps can only be created for single column tabular data (e.g. Bias or RMSE) with a partly unstacked MultiIndex"
     ]
    }
   ],
   "source": [
    "df_to_heatmap(hh)"
   ]
  },
  {
   "cell_type": "code",
   "execution_count": 26,
   "metadata": {},
   "outputs": [],
   "source": [
    "all_stations = data.station_name.values"
   ]
  },
  {
   "cell_type": "code",
   "execution_count": null,
   "metadata": {},
   "outputs": [],
   "source": []
  },
  {
   "cell_type": "code",
   "execution_count": 35,
   "metadata": {},
   "outputs": [],
   "source": [
    "df = data_coloc.data.to_dataframe()"
   ]
  },
  {
   "cell_type": "code",
   "execution_count": 36,
   "metadata": {
    "scrolled": false
   },
   "outputs": [
    {
     "data": {
      "text/html": [
       "<div>\n",
       "<style scoped>\n",
       "    .dataframe tbody tr th:only-of-type {\n",
       "        vertical-align: middle;\n",
       "    }\n",
       "\n",
       "    .dataframe tbody tr th {\n",
       "        vertical-align: top;\n",
       "    }\n",
       "\n",
       "    .dataframe thead th {\n",
       "        text-align: right;\n",
       "    }\n",
       "</style>\n",
       "<table border=\"1\" class=\"dataframe\">\n",
       "  <thead>\n",
       "    <tr style=\"text-align: right;\">\n",
       "      <th></th>\n",
       "      <th></th>\n",
       "      <th></th>\n",
       "      <th>var_name</th>\n",
       "      <th>var_units</th>\n",
       "      <th>ts_type_src</th>\n",
       "      <th>latitude</th>\n",
       "      <th>longitude</th>\n",
       "      <th>altitude</th>\n",
       "      <th>wetso4</th>\n",
       "    </tr>\n",
       "    <tr>\n",
       "      <th>data_source</th>\n",
       "      <th>time</th>\n",
       "      <th>station_name</th>\n",
       "      <th></th>\n",
       "      <th></th>\n",
       "      <th></th>\n",
       "      <th></th>\n",
       "      <th></th>\n",
       "      <th></th>\n",
       "      <th></th>\n",
       "    </tr>\n",
       "  </thead>\n",
       "  <tbody>\n",
       "    <tr>\n",
       "      <th rowspan=\"30\" valign=\"top\">GAWTADsubsetAasEtAl</th>\n",
       "      <th rowspan=\"30\" valign=\"top\">2010-01-15</th>\n",
       "      <th>Abington (CT15)</th>\n",
       "      <td>wetso4</td>\n",
       "      <td>kg m-2 s-1</td>\n",
       "      <td>monthly</td>\n",
       "      <td>41.840000</td>\n",
       "      <td>-72.010100</td>\n",
       "      <td>NaN</td>\n",
       "      <td>NaN</td>\n",
       "    </tr>\n",
       "    <tr>\n",
       "      <th>Acadia National Park-McFarland Hill (ME98)</th>\n",
       "      <td>wetso4</td>\n",
       "      <td>kg m-2 s-1</td>\n",
       "      <td>monthly</td>\n",
       "      <td>44.377200</td>\n",
       "      <td>-68.260800</td>\n",
       "      <td>NaN</td>\n",
       "      <td>8.948091e-04</td>\n",
       "    </tr>\n",
       "    <tr>\n",
       "      <th>Agronomy Center for Research and Extension (IN41)</th>\n",
       "      <td>wetso4</td>\n",
       "      <td>kg m-2 s-1</td>\n",
       "      <td>monthly</td>\n",
       "      <td>40.474900</td>\n",
       "      <td>-86.992400</td>\n",
       "      <td>NaN</td>\n",
       "      <td>7.829580e-04</td>\n",
       "    </tr>\n",
       "    <tr>\n",
       "      <th>Akwesasne Mohawk-Fort Covington (NY22)</th>\n",
       "      <td>wetso4</td>\n",
       "      <td>kg m-2 s-1</td>\n",
       "      <td>monthly</td>\n",
       "      <td>44.922600</td>\n",
       "      <td>-74.480600</td>\n",
       "      <td>NaN</td>\n",
       "      <td>1.084956e-03</td>\n",
       "    </tr>\n",
       "    <tr>\n",
       "      <th>Alamosa (CO00)</th>\n",
       "      <td>wetso4</td>\n",
       "      <td>kg m-2 s-1</td>\n",
       "      <td>monthly</td>\n",
       "      <td>37.442100</td>\n",
       "      <td>-105.868000</td>\n",
       "      <td>NaN</td>\n",
       "      <td>2.237023e-05</td>\n",
       "    </tr>\n",
       "    <tr>\n",
       "      <th>Algoma</th>\n",
       "      <td>wetso4</td>\n",
       "      <td>kg m-2 s-1</td>\n",
       "      <td>monthly</td>\n",
       "      <td>47.033670</td>\n",
       "      <td>-84.378970</td>\n",
       "      <td>NaN</td>\n",
       "      <td>9.954752e-04</td>\n",
       "    </tr>\n",
       "    <tr>\n",
       "      <th>Alhambra (IL46)</th>\n",
       "      <td>wetso4</td>\n",
       "      <td>kg m-2 s-1</td>\n",
       "      <td>monthly</td>\n",
       "      <td>38.868900</td>\n",
       "      <td>-89.621900</td>\n",
       "      <td>NaN</td>\n",
       "      <td>1.565916e-03</td>\n",
       "    </tr>\n",
       "    <tr>\n",
       "      <th>Allahabad</th>\n",
       "      <td>wetso4</td>\n",
       "      <td>kg m-2 s-1</td>\n",
       "      <td>monthly</td>\n",
       "      <td>25.450000</td>\n",
       "      <td>81.730000</td>\n",
       "      <td>NaN</td>\n",
       "      <td>6.263664e-05</td>\n",
       "    </tr>\n",
       "    <tr>\n",
       "      <th>Ann Arbor (MI52)</th>\n",
       "      <td>wetso4</td>\n",
       "      <td>kg m-2 s-1</td>\n",
       "      <td>monthly</td>\n",
       "      <td>42.416400</td>\n",
       "      <td>-83.901900</td>\n",
       "      <td>NaN</td>\n",
       "      <td>4.697748e-04</td>\n",
       "    </tr>\n",
       "    <tr>\n",
       "      <th>Arendtsville (PA00)</th>\n",
       "      <td>wetso4</td>\n",
       "      <td>kg m-2 s-1</td>\n",
       "      <td>monthly</td>\n",
       "      <td>39.923100</td>\n",
       "      <td>-77.307800</td>\n",
       "      <td>NaN</td>\n",
       "      <td>2.360059e-03</td>\n",
       "    </tr>\n",
       "    <tr>\n",
       "      <th>Ashland Wildlife Area (MO03)</th>\n",
       "      <td>wetso4</td>\n",
       "      <td>kg m-2 s-1</td>\n",
       "      <td>monthly</td>\n",
       "      <td>38.754000</td>\n",
       "      <td>-92.199400</td>\n",
       "      <td>NaN</td>\n",
       "      <td>1.543546e-03</td>\n",
       "    </tr>\n",
       "    <tr>\n",
       "      <th>Aspvreten</th>\n",
       "      <td>wetso4</td>\n",
       "      <td>kg m-2 s-1</td>\n",
       "      <td>monthly</td>\n",
       "      <td>58.800000</td>\n",
       "      <td>17.383300</td>\n",
       "      <td>NaN</td>\n",
       "      <td>NaN</td>\n",
       "    </tr>\n",
       "    <tr>\n",
       "      <th>Assateague Island National Seashore-Woodcock (MD18)</th>\n",
       "      <td>wetso4</td>\n",
       "      <td>kg m-2 s-1</td>\n",
       "      <td>monthly</td>\n",
       "      <td>38.251000</td>\n",
       "      <td>-75.159300</td>\n",
       "      <td>NaN</td>\n",
       "      <td>6.822920e-04</td>\n",
       "    </tr>\n",
       "    <tr>\n",
       "      <th>Attwater Prairie Chicken National Wildlife Refuge (TX10)</th>\n",
       "      <td>wetso4</td>\n",
       "      <td>kg m-2 s-1</td>\n",
       "      <td>monthly</td>\n",
       "      <td>29.661400</td>\n",
       "      <td>-96.259400</td>\n",
       "      <td>NaN</td>\n",
       "      <td>2.975240e-03</td>\n",
       "    </tr>\n",
       "    <tr>\n",
       "      <th>Aurora Research Farm (NY08)</th>\n",
       "      <td>wetso4</td>\n",
       "      <td>kg m-2 s-1</td>\n",
       "      <td>monthly</td>\n",
       "      <td>42.733900</td>\n",
       "      <td>-76.659700</td>\n",
       "      <td>NaN</td>\n",
       "      <td>5.928111e-04</td>\n",
       "    </tr>\n",
       "    <tr>\n",
       "      <th>BANIZOUMBOU</th>\n",
       "      <td>wetso4</td>\n",
       "      <td>kg m-2 s-1</td>\n",
       "      <td>monthly</td>\n",
       "      <td>13.517000</td>\n",
       "      <td>2.630000</td>\n",
       "      <td>NaN</td>\n",
       "      <td>NaN</td>\n",
       "    </tr>\n",
       "    <tr>\n",
       "      <th>Babcock State Park (WV04)</th>\n",
       "      <td>wetso4</td>\n",
       "      <td>kg m-2 s-1</td>\n",
       "      <td>monthly</td>\n",
       "      <td>37.979600</td>\n",
       "      <td>-80.952500</td>\n",
       "      <td>NaN</td>\n",
       "      <td>NaN</td>\n",
       "    </tr>\n",
       "    <tr>\n",
       "      <th>Bandelier National Monument (NM07)</th>\n",
       "      <td>wetso4</td>\n",
       "      <td>kg m-2 s-1</td>\n",
       "      <td>monthly</td>\n",
       "      <td>35.778800</td>\n",
       "      <td>-106.266000</td>\n",
       "      <td>NaN</td>\n",
       "      <td>1.901469e-04</td>\n",
       "    </tr>\n",
       "    <tr>\n",
       "      <th>Barcarrota</th>\n",
       "      <td>wetso4</td>\n",
       "      <td>kg m-2 s-1</td>\n",
       "      <td>monthly</td>\n",
       "      <td>38.475800</td>\n",
       "      <td>-6.922800</td>\n",
       "      <td>NaN</td>\n",
       "      <td>4.474046e-04</td>\n",
       "    </tr>\n",
       "    <tr>\n",
       "      <th>Bay D'Espoir</th>\n",
       "      <td>wetso4</td>\n",
       "      <td>kg m-2 s-1</td>\n",
       "      <td>monthly</td>\n",
       "      <td>47.991670</td>\n",
       "      <td>-55.814170</td>\n",
       "      <td>NaN</td>\n",
       "      <td>4.585897e-04</td>\n",
       "    </tr>\n",
       "    <tr>\n",
       "      <th>Beaufort (NC06)</th>\n",
       "      <td>wetso4</td>\n",
       "      <td>kg m-2 s-1</td>\n",
       "      <td>monthly</td>\n",
       "      <td>34.884600</td>\n",
       "      <td>-76.620700</td>\n",
       "      <td>NaN</td>\n",
       "      <td>2.214653e-03</td>\n",
       "    </tr>\n",
       "    <tr>\n",
       "      <th>Beeville (TX03)</th>\n",
       "      <td>wetso4</td>\n",
       "      <td>kg m-2 s-1</td>\n",
       "      <td>monthly</td>\n",
       "      <td>28.466700</td>\n",
       "      <td>-97.706900</td>\n",
       "      <td>NaN</td>\n",
       "      <td>1.677767e-03</td>\n",
       "    </tr>\n",
       "    <tr>\n",
       "      <th>Bellville (GA20)</th>\n",
       "      <td>wetso4</td>\n",
       "      <td>kg m-2 s-1</td>\n",
       "      <td>monthly</td>\n",
       "      <td>32.084900</td>\n",
       "      <td>-81.936700</td>\n",
       "      <td>NaN</td>\n",
       "      <td>2.673242e-03</td>\n",
       "    </tr>\n",
       "    <tr>\n",
       "      <th>Bennett Bridge (NY52)</th>\n",
       "      <td>wetso4</td>\n",
       "      <td>kg m-2 s-1</td>\n",
       "      <td>monthly</td>\n",
       "      <td>43.528200</td>\n",
       "      <td>-75.949200</td>\n",
       "      <td>NaN</td>\n",
       "      <td>1.756063e-03</td>\n",
       "    </tr>\n",
       "    <tr>\n",
       "      <th>Bennington (VT01)</th>\n",
       "      <td>wetso4</td>\n",
       "      <td>kg m-2 s-1</td>\n",
       "      <td>monthly</td>\n",
       "      <td>42.876100</td>\n",
       "      <td>-73.163300</td>\n",
       "      <td>NaN</td>\n",
       "      <td>NaN</td>\n",
       "    </tr>\n",
       "    <tr>\n",
       "      <th>Big Bend National Park - K-Bar (TX04)</th>\n",
       "      <td>wetso4</td>\n",
       "      <td>kg m-2 s-1</td>\n",
       "      <td>monthly</td>\n",
       "      <td>29.302500</td>\n",
       "      <td>-103.178100</td>\n",
       "      <td>NaN</td>\n",
       "      <td>4.250343e-04</td>\n",
       "    </tr>\n",
       "    <tr>\n",
       "      <th>Big Springs Fish Hatchery (IA08)</th>\n",
       "      <td>wetso4</td>\n",
       "      <td>kg m-2 s-1</td>\n",
       "      <td>monthly</td>\n",
       "      <td>42.909700</td>\n",
       "      <td>-91.470000</td>\n",
       "      <td>NaN</td>\n",
       "      <td>1.006660e-03</td>\n",
       "    </tr>\n",
       "    <tr>\n",
       "      <th>Birkenes</th>\n",
       "      <td>wetso4</td>\n",
       "      <td>kg m-2 s-1</td>\n",
       "      <td>monthly</td>\n",
       "      <td>58.383333</td>\n",
       "      <td>8.250000</td>\n",
       "      <td>NaN</td>\n",
       "      <td>3.579237e-03</td>\n",
       "    </tr>\n",
       "    <tr>\n",
       "      <th>Biscuit Brook (NY68)</th>\n",
       "      <td>wetso4</td>\n",
       "      <td>kg m-2 s-1</td>\n",
       "      <td>monthly</td>\n",
       "      <td>41.993600</td>\n",
       "      <td>-74.503100</td>\n",
       "      <td>NaN</td>\n",
       "      <td>1.319843e-03</td>\n",
       "    </tr>\n",
       "    <tr>\n",
       "      <th>Black Belt Research &amp; Extension Center (AL10)</th>\n",
       "      <td>wetso4</td>\n",
       "      <td>kg m-2 s-1</td>\n",
       "      <td>monthly</td>\n",
       "      <td>32.458300</td>\n",
       "      <td>-87.242200</td>\n",
       "      <td>NaN</td>\n",
       "      <td>NaN</td>\n",
       "    </tr>\n",
       "    <tr>\n",
       "      <th>...</th>\n",
       "      <th>...</th>\n",
       "      <th>...</th>\n",
       "      <td>...</td>\n",
       "      <td>...</td>\n",
       "      <td>...</td>\n",
       "      <td>...</td>\n",
       "      <td>...</td>\n",
       "      <td>...</td>\n",
       "      <td>...</td>\n",
       "    </tr>\n",
       "    <tr>\n",
       "      <th rowspan=\"30\" valign=\"top\">OsloCTM3v1.01-met2010_AP3-CTRL</th>\n",
       "      <th rowspan=\"30\" valign=\"top\">2010-12-15</th>\n",
       "      <th>Unionville (MI51)</th>\n",
       "      <td>wetso4</td>\n",
       "      <td>kg m-2 s-1</td>\n",
       "      <td>monthly</td>\n",
       "      <td>43.613500</td>\n",
       "      <td>-83.359900</td>\n",
       "      <td>NaN</td>\n",
       "      <td>1.403630e-11</td>\n",
       "    </tr>\n",
       "    <tr>\n",
       "      <th>University Forest (MO05)</th>\n",
       "      <td>wetso4</td>\n",
       "      <td>kg m-2 s-1</td>\n",
       "      <td>monthly</td>\n",
       "      <td>36.910800</td>\n",
       "      <td>-90.318700</td>\n",
       "      <td>NaN</td>\n",
       "      <td>1.866342e-11</td>\n",
       "    </tr>\n",
       "    <tr>\n",
       "      <th>Valentia Observatory</th>\n",
       "      <td>wetso4</td>\n",
       "      <td>kg m-2 s-1</td>\n",
       "      <td>monthly</td>\n",
       "      <td>51.939722</td>\n",
       "      <td>-10.244444</td>\n",
       "      <td>NaN</td>\n",
       "      <td>6.343204e-12</td>\n",
       "    </tr>\n",
       "    <tr>\n",
       "      <th>Verna Well Field (FL41)</th>\n",
       "      <td>wetso4</td>\n",
       "      <td>kg m-2 s-1</td>\n",
       "      <td>monthly</td>\n",
       "      <td>27.380100</td>\n",
       "      <td>-82.283100</td>\n",
       "      <td>NaN</td>\n",
       "      <td>6.652489e-12</td>\n",
       "    </tr>\n",
       "    <tr>\n",
       "      <th>Vilsandi</th>\n",
       "      <td>wetso4</td>\n",
       "      <td>kg m-2 s-1</td>\n",
       "      <td>monthly</td>\n",
       "      <td>58.383300</td>\n",
       "      <td>21.816700</td>\n",
       "      <td>NaN</td>\n",
       "      <td>2.903131e-11</td>\n",
       "    </tr>\n",
       "    <tr>\n",
       "      <th>Virolahti II</th>\n",
       "      <td>wetso4</td>\n",
       "      <td>kg m-2 s-1</td>\n",
       "      <td>monthly</td>\n",
       "      <td>60.526667</td>\n",
       "      <td>27.686111</td>\n",
       "      <td>NaN</td>\n",
       "      <td>2.677476e-11</td>\n",
       "    </tr>\n",
       "    <tr>\n",
       "      <th>Visakhapatnam</th>\n",
       "      <td>wetso4</td>\n",
       "      <td>kg m-2 s-1</td>\n",
       "      <td>monthly</td>\n",
       "      <td>17.680000</td>\n",
       "      <td>83.300000</td>\n",
       "      <td>NaN</td>\n",
       "      <td>2.691665e-11</td>\n",
       "    </tr>\n",
       "    <tr>\n",
       "      <th>Voyageurs National Park-Sullivan Bay (MN32)</th>\n",
       "      <td>wetso4</td>\n",
       "      <td>kg m-2 s-1</td>\n",
       "      <td>monthly</td>\n",
       "      <td>48.413200</td>\n",
       "      <td>-92.830500</td>\n",
       "      <td>NaN</td>\n",
       "      <td>6.214053e-12</td>\n",
       "    </tr>\n",
       "    <tr>\n",
       "      <th>Víznar</th>\n",
       "      <td>wetso4</td>\n",
       "      <td>kg m-2 s-1</td>\n",
       "      <td>monthly</td>\n",
       "      <td>37.233300</td>\n",
       "      <td>-3.533300</td>\n",
       "      <td>NaN</td>\n",
       "      <td>8.854337e-12</td>\n",
       "    </tr>\n",
       "    <tr>\n",
       "      <th>Waldhof</th>\n",
       "      <td>wetso4</td>\n",
       "      <td>kg m-2 s-1</td>\n",
       "      <td>monthly</td>\n",
       "      <td>52.802222</td>\n",
       "      <td>10.759444</td>\n",
       "      <td>NaN</td>\n",
       "      <td>1.249970e-11</td>\n",
       "    </tr>\n",
       "    <tr>\n",
       "      <th>Walker Branch Watershed (TN00)</th>\n",
       "      <td>wetso4</td>\n",
       "      <td>kg m-2 s-1</td>\n",
       "      <td>monthly</td>\n",
       "      <td>35.961400</td>\n",
       "      <td>-84.287200</td>\n",
       "      <td>NaN</td>\n",
       "      <td>1.190025e-11</td>\n",
       "    </tr>\n",
       "    <tr>\n",
       "      <th>Warren 2WSW (AR02)</th>\n",
       "      <td>wetso4</td>\n",
       "      <td>kg m-2 s-1</td>\n",
       "      <td>monthly</td>\n",
       "      <td>33.605000</td>\n",
       "      <td>-92.097200</td>\n",
       "      <td>NaN</td>\n",
       "      <td>1.223351e-11</td>\n",
       "    </tr>\n",
       "    <tr>\n",
       "      <th>Warsaw Caves</th>\n",
       "      <td>wetso4</td>\n",
       "      <td>kg m-2 s-1</td>\n",
       "      <td>monthly</td>\n",
       "      <td>44.463890</td>\n",
       "      <td>-78.130560</td>\n",
       "      <td>NaN</td>\n",
       "      <td>1.036424e-11</td>\n",
       "    </tr>\n",
       "    <tr>\n",
       "      <th>Wellston (MI53)</th>\n",
       "      <td>wetso4</td>\n",
       "      <td>kg m-2 s-1</td>\n",
       "      <td>monthly</td>\n",
       "      <td>44.224200</td>\n",
       "      <td>-85.818600</td>\n",
       "      <td>NaN</td>\n",
       "      <td>1.052473e-11</td>\n",
       "    </tr>\n",
       "    <tr>\n",
       "      <th>West Point (NY99)</th>\n",
       "      <td>wetso4</td>\n",
       "      <td>kg m-2 s-1</td>\n",
       "      <td>monthly</td>\n",
       "      <td>41.351100</td>\n",
       "      <td>-74.048400</td>\n",
       "      <td>NaN</td>\n",
       "      <td>1.047061e-11</td>\n",
       "    </tr>\n",
       "    <tr>\n",
       "      <th>Westerland</th>\n",
       "      <td>wetso4</td>\n",
       "      <td>kg m-2 s-1</td>\n",
       "      <td>monthly</td>\n",
       "      <td>54.925556</td>\n",
       "      <td>8.309722</td>\n",
       "      <td>NaN</td>\n",
       "      <td>6.999983e-12</td>\n",
       "    </tr>\n",
       "    <tr>\n",
       "      <th>Whiteface Mountain (NY98)</th>\n",
       "      <td>wetso4</td>\n",
       "      <td>kg m-2 s-1</td>\n",
       "      <td>monthly</td>\n",
       "      <td>44.393300</td>\n",
       "      <td>-73.859400</td>\n",
       "      <td>NaN</td>\n",
       "      <td>1.136428e-11</td>\n",
       "    </tr>\n",
       "    <tr>\n",
       "      <th>Wildcat Mountain (WI98)</th>\n",
       "      <td>wetso4</td>\n",
       "      <td>kg m-2 s-1</td>\n",
       "      <td>monthly</td>\n",
       "      <td>43.702300</td>\n",
       "      <td>-90.568500</td>\n",
       "      <td>NaN</td>\n",
       "      <td>1.247231e-11</td>\n",
       "    </tr>\n",
       "    <tr>\n",
       "      <th>Wolf Creek Pass (CO91)</th>\n",
       "      <td>wetso4</td>\n",
       "      <td>kg m-2 s-1</td>\n",
       "      <td>monthly</td>\n",
       "      <td>37.468600</td>\n",
       "      <td>-106.787000</td>\n",
       "      <td>NaN</td>\n",
       "      <td>4.325677e-12</td>\n",
       "    </tr>\n",
       "    <tr>\n",
       "      <th>Wolf Ridge (MN99)</th>\n",
       "      <td>wetso4</td>\n",
       "      <td>kg m-2 s-1</td>\n",
       "      <td>monthly</td>\n",
       "      <td>47.384100</td>\n",
       "      <td>-91.206700</td>\n",
       "      <td>NaN</td>\n",
       "      <td>6.214053e-12</td>\n",
       "    </tr>\n",
       "    <tr>\n",
       "      <th>Woodworth (ND11)</th>\n",
       "      <td>wetso4</td>\n",
       "      <td>kg m-2 s-1</td>\n",
       "      <td>monthly</td>\n",
       "      <td>47.124700</td>\n",
       "      <td>-99.238100</td>\n",
       "      <td>NaN</td>\n",
       "      <td>8.493011e-12</td>\n",
       "    </tr>\n",
       "    <tr>\n",
       "      <th>Wooster (OH71)</th>\n",
       "      <td>wetso4</td>\n",
       "      <td>kg m-2 s-1</td>\n",
       "      <td>monthly</td>\n",
       "      <td>40.781300</td>\n",
       "      <td>-81.919700</td>\n",
       "      <td>NaN</td>\n",
       "      <td>1.259899e-11</td>\n",
       "    </tr>\n",
       "    <tr>\n",
       "      <th>Wye (MD13)</th>\n",
       "      <td>wetso4</td>\n",
       "      <td>kg m-2 s-1</td>\n",
       "      <td>monthly</td>\n",
       "      <td>38.913100</td>\n",
       "      <td>-76.152500</td>\n",
       "      <td>NaN</td>\n",
       "      <td>7.873668e-12</td>\n",
       "    </tr>\n",
       "    <tr>\n",
       "      <th>Yarner Wood</th>\n",
       "      <td>wetso4</td>\n",
       "      <td>kg m-2 s-1</td>\n",
       "      <td>monthly</td>\n",
       "      <td>50.596389</td>\n",
       "      <td>-3.713056</td>\n",
       "      <td>NaN</td>\n",
       "      <td>9.123861e-12</td>\n",
       "    </tr>\n",
       "    <tr>\n",
       "      <th>Yellowstone National Park-Tower Falls (WY08)</th>\n",
       "      <td>wetso4</td>\n",
       "      <td>kg m-2 s-1</td>\n",
       "      <td>monthly</td>\n",
       "      <td>44.916600</td>\n",
       "      <td>-110.420300</td>\n",
       "      <td>NaN</td>\n",
       "      <td>4.476215e-12</td>\n",
       "    </tr>\n",
       "    <tr>\n",
       "      <th>Yosemite National Park-Hodgdon Meadow (CA99)</th>\n",
       "      <td>wetso4</td>\n",
       "      <td>kg m-2 s-1</td>\n",
       "      <td>monthly</td>\n",
       "      <td>37.796100</td>\n",
       "      <td>-119.858100</td>\n",
       "      <td>NaN</td>\n",
       "      <td>6.670919e-12</td>\n",
       "    </tr>\n",
       "    <tr>\n",
       "      <th>Young Woman's Creek (PA18)</th>\n",
       "      <td>wetso4</td>\n",
       "      <td>kg m-2 s-1</td>\n",
       "      <td>monthly</td>\n",
       "      <td>41.414200</td>\n",
       "      <td>-77.679900</td>\n",
       "      <td>NaN</td>\n",
       "      <td>1.121979e-11</td>\n",
       "    </tr>\n",
       "    <tr>\n",
       "      <th>Zarra</th>\n",
       "      <td>wetso4</td>\n",
       "      <td>kg m-2 s-1</td>\n",
       "      <td>monthly</td>\n",
       "      <td>39.086100</td>\n",
       "      <td>-1.101900</td>\n",
       "      <td>NaN</td>\n",
       "      <td>4.335006e-12</td>\n",
       "    </tr>\n",
       "    <tr>\n",
       "      <th>Zavizan</th>\n",
       "      <td>wetso4</td>\n",
       "      <td>kg m-2 s-1</td>\n",
       "      <td>monthly</td>\n",
       "      <td>44.816667</td>\n",
       "      <td>14.983333</td>\n",
       "      <td>NaN</td>\n",
       "      <td>2.521044e-11</td>\n",
       "    </tr>\n",
       "    <tr>\n",
       "      <th>Ähtäri</th>\n",
       "      <td>wetso4</td>\n",
       "      <td>kg m-2 s-1</td>\n",
       "      <td>monthly</td>\n",
       "      <td>62.533333</td>\n",
       "      <td>24.221667</td>\n",
       "      <td>NaN</td>\n",
       "      <td>1.032021e-11</td>\n",
       "    </tr>\n",
       "  </tbody>\n",
       "</table>\n",
       "<p>7584 rows × 7 columns</p>\n",
       "</div>"
      ],
      "text/plain": [
       "                                                                                             var_name  \\\n",
       "data_source                    time       station_name                                                  \n",
       "GAWTADsubsetAasEtAl            2010-01-15 Abington (CT15)                                      wetso4   \n",
       "                                          Acadia National Park-McFarland Hill (ME98)           wetso4   \n",
       "                                          Agronomy Center for Research and Extension (IN41)    wetso4   \n",
       "                                          Akwesasne Mohawk-Fort Covington (NY22)               wetso4   \n",
       "                                          Alamosa (CO00)                                       wetso4   \n",
       "                                          Algoma                                               wetso4   \n",
       "                                          Alhambra (IL46)                                      wetso4   \n",
       "                                          Allahabad                                            wetso4   \n",
       "                                          Ann Arbor (MI52)                                     wetso4   \n",
       "                                          Arendtsville (PA00)                                  wetso4   \n",
       "                                          Ashland Wildlife Area (MO03)                         wetso4   \n",
       "                                          Aspvreten                                            wetso4   \n",
       "                                          Assateague Island National Seashore-Woodcock (M...   wetso4   \n",
       "                                          Attwater Prairie Chicken National Wildlife Refu...   wetso4   \n",
       "                                          Aurora Research Farm (NY08)                          wetso4   \n",
       "                                          BANIZOUMBOU                                          wetso4   \n",
       "                                          Babcock State Park (WV04)                            wetso4   \n",
       "                                          Bandelier National Monument (NM07)                   wetso4   \n",
       "                                          Barcarrota                                           wetso4   \n",
       "                                          Bay D'Espoir                                         wetso4   \n",
       "                                          Beaufort (NC06)                                      wetso4   \n",
       "                                          Beeville (TX03)                                      wetso4   \n",
       "                                          Bellville (GA20)                                     wetso4   \n",
       "                                          Bennett Bridge (NY52)                                wetso4   \n",
       "                                          Bennington (VT01)                                    wetso4   \n",
       "                                          Big Bend National Park - K-Bar (TX04)                wetso4   \n",
       "                                          Big Springs Fish Hatchery (IA08)                     wetso4   \n",
       "                                          Birkenes                                             wetso4   \n",
       "                                          Biscuit Brook (NY68)                                 wetso4   \n",
       "                                          Black Belt Research & Extension Center (AL10)        wetso4   \n",
       "...                                                                                               ...   \n",
       "OsloCTM3v1.01-met2010_AP3-CTRL 2010-12-15 Unionville (MI51)                                    wetso4   \n",
       "                                          University Forest (MO05)                             wetso4   \n",
       "                                          Valentia Observatory                                 wetso4   \n",
       "                                          Verna Well Field (FL41)                              wetso4   \n",
       "                                          Vilsandi                                             wetso4   \n",
       "                                          Virolahti II                                         wetso4   \n",
       "                                          Visakhapatnam                                        wetso4   \n",
       "                                          Voyageurs National Park-Sullivan Bay (MN32)          wetso4   \n",
       "                                          Víznar                                               wetso4   \n",
       "                                          Waldhof                                              wetso4   \n",
       "                                          Walker Branch Watershed (TN00)                       wetso4   \n",
       "                                          Warren 2WSW (AR02)                                   wetso4   \n",
       "                                          Warsaw Caves                                         wetso4   \n",
       "                                          Wellston (MI53)                                      wetso4   \n",
       "                                          West Point (NY99)                                    wetso4   \n",
       "                                          Westerland                                           wetso4   \n",
       "                                          Whiteface Mountain (NY98)                            wetso4   \n",
       "                                          Wildcat Mountain (WI98)                              wetso4   \n",
       "                                          Wolf Creek Pass (CO91)                               wetso4   \n",
       "                                          Wolf Ridge (MN99)                                    wetso4   \n",
       "                                          Woodworth (ND11)                                     wetso4   \n",
       "                                          Wooster (OH71)                                       wetso4   \n",
       "                                          Wye (MD13)                                           wetso4   \n",
       "                                          Yarner Wood                                          wetso4   \n",
       "                                          Yellowstone National Park-Tower Falls (WY08)         wetso4   \n",
       "                                          Yosemite National Park-Hodgdon Meadow (CA99)         wetso4   \n",
       "                                          Young Woman's Creek (PA18)                           wetso4   \n",
       "                                          Zarra                                                wetso4   \n",
       "                                          Zavizan                                              wetso4   \n",
       "                                          Ähtäri                                               wetso4   \n",
       "\n",
       "                                                                                               var_units  \\\n",
       "data_source                    time       station_name                                                     \n",
       "GAWTADsubsetAasEtAl            2010-01-15 Abington (CT15)                                     kg m-2 s-1   \n",
       "                                          Acadia National Park-McFarland Hill (ME98)          kg m-2 s-1   \n",
       "                                          Agronomy Center for Research and Extension (IN41)   kg m-2 s-1   \n",
       "                                          Akwesasne Mohawk-Fort Covington (NY22)              kg m-2 s-1   \n",
       "                                          Alamosa (CO00)                                      kg m-2 s-1   \n",
       "                                          Algoma                                              kg m-2 s-1   \n",
       "                                          Alhambra (IL46)                                     kg m-2 s-1   \n",
       "                                          Allahabad                                           kg m-2 s-1   \n",
       "                                          Ann Arbor (MI52)                                    kg m-2 s-1   \n",
       "                                          Arendtsville (PA00)                                 kg m-2 s-1   \n",
       "                                          Ashland Wildlife Area (MO03)                        kg m-2 s-1   \n",
       "                                          Aspvreten                                           kg m-2 s-1   \n",
       "                                          Assateague Island National Seashore-Woodcock (M...  kg m-2 s-1   \n",
       "                                          Attwater Prairie Chicken National Wildlife Refu...  kg m-2 s-1   \n",
       "                                          Aurora Research Farm (NY08)                         kg m-2 s-1   \n",
       "                                          BANIZOUMBOU                                         kg m-2 s-1   \n",
       "                                          Babcock State Park (WV04)                           kg m-2 s-1   \n",
       "                                          Bandelier National Monument (NM07)                  kg m-2 s-1   \n",
       "                                          Barcarrota                                          kg m-2 s-1   \n",
       "                                          Bay D'Espoir                                        kg m-2 s-1   \n",
       "                                          Beaufort (NC06)                                     kg m-2 s-1   \n",
       "                                          Beeville (TX03)                                     kg m-2 s-1   \n",
       "                                          Bellville (GA20)                                    kg m-2 s-1   \n",
       "                                          Bennett Bridge (NY52)                               kg m-2 s-1   \n",
       "                                          Bennington (VT01)                                   kg m-2 s-1   \n",
       "                                          Big Bend National Park - K-Bar (TX04)               kg m-2 s-1   \n",
       "                                          Big Springs Fish Hatchery (IA08)                    kg m-2 s-1   \n",
       "                                          Birkenes                                            kg m-2 s-1   \n",
       "                                          Biscuit Brook (NY68)                                kg m-2 s-1   \n",
       "                                          Black Belt Research & Extension Center (AL10)       kg m-2 s-1   \n",
       "...                                                                                                  ...   \n",
       "OsloCTM3v1.01-met2010_AP3-CTRL 2010-12-15 Unionville (MI51)                                   kg m-2 s-1   \n",
       "                                          University Forest (MO05)                            kg m-2 s-1   \n",
       "                                          Valentia Observatory                                kg m-2 s-1   \n",
       "                                          Verna Well Field (FL41)                             kg m-2 s-1   \n",
       "                                          Vilsandi                                            kg m-2 s-1   \n",
       "                                          Virolahti II                                        kg m-2 s-1   \n",
       "                                          Visakhapatnam                                       kg m-2 s-1   \n",
       "                                          Voyageurs National Park-Sullivan Bay (MN32)         kg m-2 s-1   \n",
       "                                          Víznar                                              kg m-2 s-1   \n",
       "                                          Waldhof                                             kg m-2 s-1   \n",
       "                                          Walker Branch Watershed (TN00)                      kg m-2 s-1   \n",
       "                                          Warren 2WSW (AR02)                                  kg m-2 s-1   \n",
       "                                          Warsaw Caves                                        kg m-2 s-1   \n",
       "                                          Wellston (MI53)                                     kg m-2 s-1   \n",
       "                                          West Point (NY99)                                   kg m-2 s-1   \n",
       "                                          Westerland                                          kg m-2 s-1   \n",
       "                                          Whiteface Mountain (NY98)                           kg m-2 s-1   \n",
       "                                          Wildcat Mountain (WI98)                             kg m-2 s-1   \n",
       "                                          Wolf Creek Pass (CO91)                              kg m-2 s-1   \n",
       "                                          Wolf Ridge (MN99)                                   kg m-2 s-1   \n",
       "                                          Woodworth (ND11)                                    kg m-2 s-1   \n",
       "                                          Wooster (OH71)                                      kg m-2 s-1   \n",
       "                                          Wye (MD13)                                          kg m-2 s-1   \n",
       "                                          Yarner Wood                                         kg m-2 s-1   \n",
       "                                          Yellowstone National Park-Tower Falls (WY08)        kg m-2 s-1   \n",
       "                                          Yosemite National Park-Hodgdon Meadow (CA99)        kg m-2 s-1   \n",
       "                                          Young Woman's Creek (PA18)                          kg m-2 s-1   \n",
       "                                          Zarra                                               kg m-2 s-1   \n",
       "                                          Zavizan                                             kg m-2 s-1   \n",
       "                                          Ähtäri                                              kg m-2 s-1   \n",
       "\n",
       "                                                                                             ts_type_src  \\\n",
       "data_source                    time       station_name                                                     \n",
       "GAWTADsubsetAasEtAl            2010-01-15 Abington (CT15)                                        monthly   \n",
       "                                          Acadia National Park-McFarland Hill (ME98)             monthly   \n",
       "                                          Agronomy Center for Research and Extension (IN41)      monthly   \n",
       "                                          Akwesasne Mohawk-Fort Covington (NY22)                 monthly   \n",
       "                                          Alamosa (CO00)                                         monthly   \n",
       "                                          Algoma                                                 monthly   \n",
       "                                          Alhambra (IL46)                                        monthly   \n",
       "                                          Allahabad                                              monthly   \n",
       "                                          Ann Arbor (MI52)                                       monthly   \n",
       "                                          Arendtsville (PA00)                                    monthly   \n",
       "                                          Ashland Wildlife Area (MO03)                           monthly   \n",
       "                                          Aspvreten                                              monthly   \n",
       "                                          Assateague Island National Seashore-Woodcock (M...     monthly   \n",
       "                                          Attwater Prairie Chicken National Wildlife Refu...     monthly   \n",
       "                                          Aurora Research Farm (NY08)                            monthly   \n",
       "                                          BANIZOUMBOU                                            monthly   \n",
       "                                          Babcock State Park (WV04)                              monthly   \n",
       "                                          Bandelier National Monument (NM07)                     monthly   \n",
       "                                          Barcarrota                                             monthly   \n",
       "                                          Bay D'Espoir                                           monthly   \n",
       "                                          Beaufort (NC06)                                        monthly   \n",
       "                                          Beeville (TX03)                                        monthly   \n",
       "                                          Bellville (GA20)                                       monthly   \n",
       "                                          Bennett Bridge (NY52)                                  monthly   \n",
       "                                          Bennington (VT01)                                      monthly   \n",
       "                                          Big Bend National Park - K-Bar (TX04)                  monthly   \n",
       "                                          Big Springs Fish Hatchery (IA08)                       monthly   \n",
       "                                          Birkenes                                               monthly   \n",
       "                                          Biscuit Brook (NY68)                                   monthly   \n",
       "                                          Black Belt Research & Extension Center (AL10)          monthly   \n",
       "...                                                                                                  ...   \n",
       "OsloCTM3v1.01-met2010_AP3-CTRL 2010-12-15 Unionville (MI51)                                      monthly   \n",
       "                                          University Forest (MO05)                               monthly   \n",
       "                                          Valentia Observatory                                   monthly   \n",
       "                                          Verna Well Field (FL41)                                monthly   \n",
       "                                          Vilsandi                                               monthly   \n",
       "                                          Virolahti II                                           monthly   \n",
       "                                          Visakhapatnam                                          monthly   \n",
       "                                          Voyageurs National Park-Sullivan Bay (MN32)            monthly   \n",
       "                                          Víznar                                                 monthly   \n",
       "                                          Waldhof                                                monthly   \n",
       "                                          Walker Branch Watershed (TN00)                         monthly   \n",
       "                                          Warren 2WSW (AR02)                                     monthly   \n",
       "                                          Warsaw Caves                                           monthly   \n",
       "                                          Wellston (MI53)                                        monthly   \n",
       "                                          West Point (NY99)                                      monthly   \n",
       "                                          Westerland                                             monthly   \n",
       "                                          Whiteface Mountain (NY98)                              monthly   \n",
       "                                          Wildcat Mountain (WI98)                                monthly   \n",
       "                                          Wolf Creek Pass (CO91)                                 monthly   \n",
       "                                          Wolf Ridge (MN99)                                      monthly   \n",
       "                                          Woodworth (ND11)                                       monthly   \n",
       "                                          Wooster (OH71)                                         monthly   \n",
       "                                          Wye (MD13)                                             monthly   \n",
       "                                          Yarner Wood                                            monthly   \n",
       "                                          Yellowstone National Park-Tower Falls (WY08)           monthly   \n",
       "                                          Yosemite National Park-Hodgdon Meadow (CA99)           monthly   \n",
       "                                          Young Woman's Creek (PA18)                             monthly   \n",
       "                                          Zarra                                                  monthly   \n",
       "                                          Zavizan                                                monthly   \n",
       "                                          Ähtäri                                                 monthly   \n",
       "\n",
       "                                                                                               latitude  \\\n",
       "data_source                    time       station_name                                                    \n",
       "GAWTADsubsetAasEtAl            2010-01-15 Abington (CT15)                                     41.840000   \n",
       "                                          Acadia National Park-McFarland Hill (ME98)          44.377200   \n",
       "                                          Agronomy Center for Research and Extension (IN41)   40.474900   \n",
       "                                          Akwesasne Mohawk-Fort Covington (NY22)              44.922600   \n",
       "                                          Alamosa (CO00)                                      37.442100   \n",
       "                                          Algoma                                              47.033670   \n",
       "                                          Alhambra (IL46)                                     38.868900   \n",
       "                                          Allahabad                                           25.450000   \n",
       "                                          Ann Arbor (MI52)                                    42.416400   \n",
       "                                          Arendtsville (PA00)                                 39.923100   \n",
       "                                          Ashland Wildlife Area (MO03)                        38.754000   \n",
       "                                          Aspvreten                                           58.800000   \n",
       "                                          Assateague Island National Seashore-Woodcock (M...  38.251000   \n",
       "                                          Attwater Prairie Chicken National Wildlife Refu...  29.661400   \n",
       "                                          Aurora Research Farm (NY08)                         42.733900   \n",
       "                                          BANIZOUMBOU                                         13.517000   \n",
       "                                          Babcock State Park (WV04)                           37.979600   \n",
       "                                          Bandelier National Monument (NM07)                  35.778800   \n",
       "                                          Barcarrota                                          38.475800   \n",
       "                                          Bay D'Espoir                                        47.991670   \n",
       "                                          Beaufort (NC06)                                     34.884600   \n",
       "                                          Beeville (TX03)                                     28.466700   \n",
       "                                          Bellville (GA20)                                    32.084900   \n",
       "                                          Bennett Bridge (NY52)                               43.528200   \n",
       "                                          Bennington (VT01)                                   42.876100   \n",
       "                                          Big Bend National Park - K-Bar (TX04)               29.302500   \n",
       "                                          Big Springs Fish Hatchery (IA08)                    42.909700   \n",
       "                                          Birkenes                                            58.383333   \n",
       "                                          Biscuit Brook (NY68)                                41.993600   \n",
       "                                          Black Belt Research & Extension Center (AL10)       32.458300   \n",
       "...                                                                                                 ...   \n",
       "OsloCTM3v1.01-met2010_AP3-CTRL 2010-12-15 Unionville (MI51)                                   43.613500   \n",
       "                                          University Forest (MO05)                            36.910800   \n",
       "                                          Valentia Observatory                                51.939722   \n",
       "                                          Verna Well Field (FL41)                             27.380100   \n",
       "                                          Vilsandi                                            58.383300   \n",
       "                                          Virolahti II                                        60.526667   \n",
       "                                          Visakhapatnam                                       17.680000   \n",
       "                                          Voyageurs National Park-Sullivan Bay (MN32)         48.413200   \n",
       "                                          Víznar                                              37.233300   \n",
       "                                          Waldhof                                             52.802222   \n",
       "                                          Walker Branch Watershed (TN00)                      35.961400   \n",
       "                                          Warren 2WSW (AR02)                                  33.605000   \n",
       "                                          Warsaw Caves                                        44.463890   \n",
       "                                          Wellston (MI53)                                     44.224200   \n",
       "                                          West Point (NY99)                                   41.351100   \n",
       "                                          Westerland                                          54.925556   \n",
       "                                          Whiteface Mountain (NY98)                           44.393300   \n",
       "                                          Wildcat Mountain (WI98)                             43.702300   \n",
       "                                          Wolf Creek Pass (CO91)                              37.468600   \n",
       "                                          Wolf Ridge (MN99)                                   47.384100   \n",
       "                                          Woodworth (ND11)                                    47.124700   \n",
       "                                          Wooster (OH71)                                      40.781300   \n",
       "                                          Wye (MD13)                                          38.913100   \n",
       "                                          Yarner Wood                                         50.596389   \n",
       "                                          Yellowstone National Park-Tower Falls (WY08)        44.916600   \n",
       "                                          Yosemite National Park-Hodgdon Meadow (CA99)        37.796100   \n",
       "                                          Young Woman's Creek (PA18)                          41.414200   \n",
       "                                          Zarra                                               39.086100   \n",
       "                                          Zavizan                                             44.816667   \n",
       "                                          Ähtäri                                              62.533333   \n",
       "\n",
       "                                                                                               longitude  \\\n",
       "data_source                    time       station_name                                                     \n",
       "GAWTADsubsetAasEtAl            2010-01-15 Abington (CT15)                                     -72.010100   \n",
       "                                          Acadia National Park-McFarland Hill (ME98)          -68.260800   \n",
       "                                          Agronomy Center for Research and Extension (IN41)   -86.992400   \n",
       "                                          Akwesasne Mohawk-Fort Covington (NY22)              -74.480600   \n",
       "                                          Alamosa (CO00)                                     -105.868000   \n",
       "                                          Algoma                                              -84.378970   \n",
       "                                          Alhambra (IL46)                                     -89.621900   \n",
       "                                          Allahabad                                            81.730000   \n",
       "                                          Ann Arbor (MI52)                                    -83.901900   \n",
       "                                          Arendtsville (PA00)                                 -77.307800   \n",
       "                                          Ashland Wildlife Area (MO03)                        -92.199400   \n",
       "                                          Aspvreten                                            17.383300   \n",
       "                                          Assateague Island National Seashore-Woodcock (M...  -75.159300   \n",
       "                                          Attwater Prairie Chicken National Wildlife Refu...  -96.259400   \n",
       "                                          Aurora Research Farm (NY08)                         -76.659700   \n",
       "                                          BANIZOUMBOU                                           2.630000   \n",
       "                                          Babcock State Park (WV04)                           -80.952500   \n",
       "                                          Bandelier National Monument (NM07)                 -106.266000   \n",
       "                                          Barcarrota                                           -6.922800   \n",
       "                                          Bay D'Espoir                                        -55.814170   \n",
       "                                          Beaufort (NC06)                                     -76.620700   \n",
       "                                          Beeville (TX03)                                     -97.706900   \n",
       "                                          Bellville (GA20)                                    -81.936700   \n",
       "                                          Bennett Bridge (NY52)                               -75.949200   \n",
       "                                          Bennington (VT01)                                   -73.163300   \n",
       "                                          Big Bend National Park - K-Bar (TX04)              -103.178100   \n",
       "                                          Big Springs Fish Hatchery (IA08)                    -91.470000   \n",
       "                                          Birkenes                                              8.250000   \n",
       "                                          Biscuit Brook (NY68)                                -74.503100   \n",
       "                                          Black Belt Research & Extension Center (AL10)       -87.242200   \n",
       "...                                                                                                  ...   \n",
       "OsloCTM3v1.01-met2010_AP3-CTRL 2010-12-15 Unionville (MI51)                                   -83.359900   \n",
       "                                          University Forest (MO05)                            -90.318700   \n",
       "                                          Valentia Observatory                                -10.244444   \n",
       "                                          Verna Well Field (FL41)                             -82.283100   \n",
       "                                          Vilsandi                                             21.816700   \n",
       "                                          Virolahti II                                         27.686111   \n",
       "                                          Visakhapatnam                                        83.300000   \n",
       "                                          Voyageurs National Park-Sullivan Bay (MN32)         -92.830500   \n",
       "                                          Víznar                                               -3.533300   \n",
       "                                          Waldhof                                              10.759444   \n",
       "                                          Walker Branch Watershed (TN00)                      -84.287200   \n",
       "                                          Warren 2WSW (AR02)                                  -92.097200   \n",
       "                                          Warsaw Caves                                        -78.130560   \n",
       "                                          Wellston (MI53)                                     -85.818600   \n",
       "                                          West Point (NY99)                                   -74.048400   \n",
       "                                          Westerland                                            8.309722   \n",
       "                                          Whiteface Mountain (NY98)                           -73.859400   \n",
       "                                          Wildcat Mountain (WI98)                             -90.568500   \n",
       "                                          Wolf Creek Pass (CO91)                             -106.787000   \n",
       "                                          Wolf Ridge (MN99)                                   -91.206700   \n",
       "                                          Woodworth (ND11)                                    -99.238100   \n",
       "                                          Wooster (OH71)                                      -81.919700   \n",
       "                                          Wye (MD13)                                          -76.152500   \n",
       "                                          Yarner Wood                                          -3.713056   \n",
       "                                          Yellowstone National Park-Tower Falls (WY08)       -110.420300   \n",
       "                                          Yosemite National Park-Hodgdon Meadow (CA99)       -119.858100   \n",
       "                                          Young Woman's Creek (PA18)                          -77.679900   \n",
       "                                          Zarra                                                -1.101900   \n",
       "                                          Zavizan                                              14.983333   \n",
       "                                          Ähtäri                                               24.221667   \n",
       "\n",
       "                                                                                              altitude  \\\n",
       "data_source                    time       station_name                                                   \n",
       "GAWTADsubsetAasEtAl            2010-01-15 Abington (CT15)                                          NaN   \n",
       "                                          Acadia National Park-McFarland Hill (ME98)               NaN   \n",
       "                                          Agronomy Center for Research and Extension (IN41)        NaN   \n",
       "                                          Akwesasne Mohawk-Fort Covington (NY22)                   NaN   \n",
       "                                          Alamosa (CO00)                                           NaN   \n",
       "                                          Algoma                                                   NaN   \n",
       "                                          Alhambra (IL46)                                          NaN   \n",
       "                                          Allahabad                                                NaN   \n",
       "                                          Ann Arbor (MI52)                                         NaN   \n",
       "                                          Arendtsville (PA00)                                      NaN   \n",
       "                                          Ashland Wildlife Area (MO03)                             NaN   \n",
       "                                          Aspvreten                                                NaN   \n",
       "                                          Assateague Island National Seashore-Woodcock (M...       NaN   \n",
       "                                          Attwater Prairie Chicken National Wildlife Refu...       NaN   \n",
       "                                          Aurora Research Farm (NY08)                              NaN   \n",
       "                                          BANIZOUMBOU                                              NaN   \n",
       "                                          Babcock State Park (WV04)                                NaN   \n",
       "                                          Bandelier National Monument (NM07)                       NaN   \n",
       "                                          Barcarrota                                               NaN   \n",
       "                                          Bay D'Espoir                                             NaN   \n",
       "                                          Beaufort (NC06)                                          NaN   \n",
       "                                          Beeville (TX03)                                          NaN   \n",
       "                                          Bellville (GA20)                                         NaN   \n",
       "                                          Bennett Bridge (NY52)                                    NaN   \n",
       "                                          Bennington (VT01)                                        NaN   \n",
       "                                          Big Bend National Park - K-Bar (TX04)                    NaN   \n",
       "                                          Big Springs Fish Hatchery (IA08)                         NaN   \n",
       "                                          Birkenes                                                 NaN   \n",
       "                                          Biscuit Brook (NY68)                                     NaN   \n",
       "                                          Black Belt Research & Extension Center (AL10)            NaN   \n",
       "...                                                                                                ...   \n",
       "OsloCTM3v1.01-met2010_AP3-CTRL 2010-12-15 Unionville (MI51)                                        NaN   \n",
       "                                          University Forest (MO05)                                 NaN   \n",
       "                                          Valentia Observatory                                     NaN   \n",
       "                                          Verna Well Field (FL41)                                  NaN   \n",
       "                                          Vilsandi                                                 NaN   \n",
       "                                          Virolahti II                                             NaN   \n",
       "                                          Visakhapatnam                                            NaN   \n",
       "                                          Voyageurs National Park-Sullivan Bay (MN32)              NaN   \n",
       "                                          Víznar                                                   NaN   \n",
       "                                          Waldhof                                                  NaN   \n",
       "                                          Walker Branch Watershed (TN00)                           NaN   \n",
       "                                          Warren 2WSW (AR02)                                       NaN   \n",
       "                                          Warsaw Caves                                             NaN   \n",
       "                                          Wellston (MI53)                                          NaN   \n",
       "                                          West Point (NY99)                                        NaN   \n",
       "                                          Westerland                                               NaN   \n",
       "                                          Whiteface Mountain (NY98)                                NaN   \n",
       "                                          Wildcat Mountain (WI98)                                  NaN   \n",
       "                                          Wolf Creek Pass (CO91)                                   NaN   \n",
       "                                          Wolf Ridge (MN99)                                        NaN   \n",
       "                                          Woodworth (ND11)                                         NaN   \n",
       "                                          Wooster (OH71)                                           NaN   \n",
       "                                          Wye (MD13)                                               NaN   \n",
       "                                          Yarner Wood                                              NaN   \n",
       "                                          Yellowstone National Park-Tower Falls (WY08)             NaN   \n",
       "                                          Yosemite National Park-Hodgdon Meadow (CA99)             NaN   \n",
       "                                          Young Woman's Creek (PA18)                               NaN   \n",
       "                                          Zarra                                                    NaN   \n",
       "                                          Zavizan                                                  NaN   \n",
       "                                          Ähtäri                                                   NaN   \n",
       "\n",
       "                                                                                                    wetso4  \n",
       "data_source                    time       station_name                                                      \n",
       "GAWTADsubsetAasEtAl            2010-01-15 Abington (CT15)                                              NaN  \n",
       "                                          Acadia National Park-McFarland Hill (ME98)          8.948091e-04  \n",
       "                                          Agronomy Center for Research and Extension (IN41)   7.829580e-04  \n",
       "                                          Akwesasne Mohawk-Fort Covington (NY22)              1.084956e-03  \n",
       "                                          Alamosa (CO00)                                      2.237023e-05  \n",
       "                                          Algoma                                              9.954752e-04  \n",
       "                                          Alhambra (IL46)                                     1.565916e-03  \n",
       "                                          Allahabad                                           6.263664e-05  \n",
       "                                          Ann Arbor (MI52)                                    4.697748e-04  \n",
       "                                          Arendtsville (PA00)                                 2.360059e-03  \n",
       "                                          Ashland Wildlife Area (MO03)                        1.543546e-03  \n",
       "                                          Aspvreten                                                    NaN  \n",
       "                                          Assateague Island National Seashore-Woodcock (M...  6.822920e-04  \n",
       "                                          Attwater Prairie Chicken National Wildlife Refu...  2.975240e-03  \n",
       "                                          Aurora Research Farm (NY08)                         5.928111e-04  \n",
       "                                          BANIZOUMBOU                                                  NaN  \n",
       "                                          Babcock State Park (WV04)                                    NaN  \n",
       "                                          Bandelier National Monument (NM07)                  1.901469e-04  \n",
       "                                          Barcarrota                                          4.474046e-04  \n",
       "                                          Bay D'Espoir                                        4.585897e-04  \n",
       "                                          Beaufort (NC06)                                     2.214653e-03  \n",
       "                                          Beeville (TX03)                                     1.677767e-03  \n",
       "                                          Bellville (GA20)                                    2.673242e-03  \n",
       "                                          Bennett Bridge (NY52)                               1.756063e-03  \n",
       "                                          Bennington (VT01)                                            NaN  \n",
       "                                          Big Bend National Park - K-Bar (TX04)               4.250343e-04  \n",
       "                                          Big Springs Fish Hatchery (IA08)                    1.006660e-03  \n",
       "                                          Birkenes                                            3.579237e-03  \n",
       "                                          Biscuit Brook (NY68)                                1.319843e-03  \n",
       "                                          Black Belt Research & Extension Center (AL10)                NaN  \n",
       "...                                                                                                    ...  \n",
       "OsloCTM3v1.01-met2010_AP3-CTRL 2010-12-15 Unionville (MI51)                                   1.403630e-11  \n",
       "                                          University Forest (MO05)                            1.866342e-11  \n",
       "                                          Valentia Observatory                                6.343204e-12  \n",
       "                                          Verna Well Field (FL41)                             6.652489e-12  \n",
       "                                          Vilsandi                                            2.903131e-11  \n",
       "                                          Virolahti II                                        2.677476e-11  \n",
       "                                          Visakhapatnam                                       2.691665e-11  \n",
       "                                          Voyageurs National Park-Sullivan Bay (MN32)         6.214053e-12  \n",
       "                                          Víznar                                              8.854337e-12  \n",
       "                                          Waldhof                                             1.249970e-11  \n",
       "                                          Walker Branch Watershed (TN00)                      1.190025e-11  \n",
       "                                          Warren 2WSW (AR02)                                  1.223351e-11  \n",
       "                                          Warsaw Caves                                        1.036424e-11  \n",
       "                                          Wellston (MI53)                                     1.052473e-11  \n",
       "                                          West Point (NY99)                                   1.047061e-11  \n",
       "                                          Westerland                                          6.999983e-12  \n",
       "                                          Whiteface Mountain (NY98)                           1.136428e-11  \n",
       "                                          Wildcat Mountain (WI98)                             1.247231e-11  \n",
       "                                          Wolf Creek Pass (CO91)                              4.325677e-12  \n",
       "                                          Wolf Ridge (MN99)                                   6.214053e-12  \n",
       "                                          Woodworth (ND11)                                    8.493011e-12  \n",
       "                                          Wooster (OH71)                                      1.259899e-11  \n",
       "                                          Wye (MD13)                                          7.873668e-12  \n",
       "                                          Yarner Wood                                         9.123861e-12  \n",
       "                                          Yellowstone National Park-Tower Falls (WY08)        4.476215e-12  \n",
       "                                          Yosemite National Park-Hodgdon Meadow (CA99)        6.670919e-12  \n",
       "                                          Young Woman's Creek (PA18)                          1.121979e-11  \n",
       "                                          Zarra                                               4.335006e-12  \n",
       "                                          Zavizan                                             2.521044e-11  \n",
       "                                          Ähtäri                                              1.032021e-11  \n",
       "\n",
       "[7584 rows x 7 columns]"
      ]
     },
     "execution_count": 36,
     "metadata": {},
     "output_type": "execute_result"
    }
   ],
   "source": [
    "df"
   ]
  },
  {
   "cell_type": "code",
   "execution_count": 27,
   "metadata": {},
   "outputs": [],
   "source": [
    "import pandas as pd"
   ]
  },
  {
   "cell_type": "code",
   "execution_count": null,
   "metadata": {},
   "outputs": [],
   "source": [
    "for s in all_stations[:2]:\n",
    "    "
   ]
  },
  {
   "cell_type": "markdown",
   "metadata": {},
   "source": [
    "# Reading original files. "
   ]
  },
  {
   "cell_type": "code",
   "execution_count": 10,
   "metadata": {},
   "outputs": [],
   "source": [
    "files = ['/lustre/storeA/project/aerocom/aerocom1//AEROCOM_OBSDATA/PYAEROCOM/GAWTADSulphurSubset/data/monthly_so2.csv', \n",
    "         '/lustre/storeA/project/aerocom/aerocom1//AEROCOM_OBSDATA/PYAEROCOM/GAWTADSulphurSubset/data/monthly_so4_aero.csv', \n",
    "         '/lustre/storeA/project/aerocom/aerocom1//AEROCOM_OBSDATA/PYAEROCOM/GAWTADSulphurSubset/data/monthly_so4_precip.csv']"
   ]
  },
  {
   "cell_type": "code",
   "execution_count": 11,
   "metadata": {
    "scrolled": true
   },
   "outputs": [],
   "source": [
    "df = pd.read_csv(files[-1], sep=\",\", low_memory=False)\n",
    "subset = df[df.station_name == 'Algoma']\n",
    "vals = subset['deposition_kgS/ha'].astype(float).values\n",
    "\n",
    "DATA_ID = 'GAWTADsubsetAasEtAl'\n",
    "reader = ReadUngridded(DATA_ID)\n",
    "ungridded = reader.read(datasets_to_read = 'GAWTADsubsetAasEtAl', vars_to_retrieve = 'wetso4')\n",
    "\n",
    "station = ungridded.to_station_data('Algoma', 'wetso4')\n",
    "conv = unitconv_sfc_conc_bck(station.wetso4.values, 2)"
   ]
  },
  {
   "cell_type": "code",
   "execution_count": 12,
   "metadata": {},
   "outputs": [
    {
     "name": "stderr",
     "output_type": "stream",
     "text": [
      "/home/hannas/anaconda3/lib/python3.7/site-packages/ipykernel_launcher.py:8: SettingWithCopyWarning: \n",
      "A value is trying to be set on a copy of a slice from a DataFrame.\n",
      "Try using .loc[row_indexer,col_indexer] = value instead\n",
      "\n",
      "See the caveats in the documentation: http://pandas.pydata.org/pandas-docs/stable/indexing.html#indexing-view-versus-copy\n",
      "  \n"
     ]
    }
   ],
   "source": [
    "df = pd.read_csv(files[-1], sep=\",\", low_memory=False)\n",
    "subset = df[df.station_name == 'Algoma']\n",
    "vals = subset['deposition_kgS/ha'].astype(float).values\n",
    "# Converting month and year. \n",
    "tconv = lambda yr, m : np.datetime64('{:04d}-{:02d}-{:02d}'.format(yr, m, 1), 's')\n",
    "dates_alt = [tconv(yr, m) for yr, m in\n",
    "             zip(subset.year.values, subset.month.values)]\n",
    "subset['dtime'] = np.array(dates_alt)\n",
    "\n",
    "from scipy.constants import Avogadro\n",
    "\n",
    "mmSO4 = 0.001*32.065 + 0.001*15.999*4 # kg/mol\n",
    "mm_s = 32.065*0.001 # kg/mol\n",
    "\n",
    "nr_molecules = vals*Avogadro/mm_s  #[1]\n",
    "mass_SO4 = nr_molecules*mmSO4/Avogadro # mass in kg\n",
    "\n",
    "days_in_month = subset['dtime'].dt.daysinmonth\n",
    "monthly_to_sec = days_in_month*24*60*60\n",
    "\n",
    "mass_pr_square_m_pr_sek = (mass_SO4/(10000*monthly_to_sec)).values"
   ]
  },
  {
   "cell_type": "code",
   "execution_count": 17,
   "metadata": {},
   "outputs": [],
   "source": [
    "# mass_pr_square_m_pr_sekneed to update the package"
   ]
  },
  {
   "cell_type": "code",
   "execution_count": null,
   "metadata": {},
   "outputs": [],
   "source": []
  },
  {
   "cell_type": "code",
   "execution_count": null,
   "metadata": {},
   "outputs": [],
   "source": []
  },
  {
   "cell_type": "code",
   "execution_count": null,
   "metadata": {},
   "outputs": [],
   "source": []
  },
  {
   "cell_type": "code",
   "execution_count": null,
   "metadata": {},
   "outputs": [],
   "source": []
  },
  {
   "cell_type": "markdown",
   "metadata": {},
   "source": [
    "## Plotting stations maps"
   ]
  },
  {
   "cell_type": "code",
   "execution_count": 14,
   "metadata": {
    "scrolled": true
   },
   "outputs": [
    {
     "ename": "NameError",
     "evalue": "name 'merged_meta_sev' is not defined",
     "output_type": "error",
     "traceback": [
      "\u001b[0;31m---------------------------------------------------------------------------\u001b[0m",
      "\u001b[0;31mNameError\u001b[0m                                 Traceback (most recent call last)",
      "\u001b[0;32m<ipython-input-14-59df66266e17>\u001b[0m in \u001b[0;36m<module>\u001b[0;34m\u001b[0m\n\u001b[0;32m----> 1\u001b[0;31m \u001b[0max\u001b[0m \u001b[0;34m=\u001b[0m \u001b[0mmerged_meta_sev\u001b[0m\u001b[0;34m.\u001b[0m\u001b[0mplot_station_coordinates\u001b[0m\u001b[0;34m(\u001b[0m\u001b[0mmarkersize\u001b[0m\u001b[0;34m=\u001b[0m\u001b[0;36m12\u001b[0m\u001b[0;34m,\u001b[0m \u001b[0mcolor\u001b[0m\u001b[0;34m=\u001b[0m\u001b[0;34m'lime'\u001b[0m\u001b[0;34m,\u001b[0m \u001b[0mlabel\u001b[0m \u001b[0;34m=\u001b[0m \u001b[0;34m\" sconcso2, sconcso4\"\u001b[0m\u001b[0;34m)\u001b[0m\u001b[0;34m\u001b[0m\u001b[0;34m\u001b[0m\u001b[0m\n\u001b[0m\u001b[1;32m      2\u001b[0m \u001b[0mdata\u001b[0m\u001b[0;34m.\u001b[0m\u001b[0mplot_station_coordinates\u001b[0m\u001b[0;34m(\u001b[0m\u001b[0mmarkersize\u001b[0m\u001b[0;34m=\u001b[0m\u001b[0;36m3\u001b[0m\u001b[0;34m,\u001b[0m \u001b[0mcolor\u001b[0m\u001b[0;34m=\u001b[0m\u001b[0;34m'red'\u001b[0m\u001b[0;34m,\u001b[0m \u001b[0max\u001b[0m \u001b[0;34m=\u001b[0m \u001b[0max\u001b[0m\u001b[0;34m,\u001b[0m  \u001b[0mlabel\u001b[0m \u001b[0;34m=\u001b[0m \u001b[0;34m\"sconcso4\"\u001b[0m\u001b[0;34m)\u001b[0m\u001b[0;34m\u001b[0m\u001b[0;34m\u001b[0m\u001b[0m\n",
      "\u001b[0;31mNameError\u001b[0m: name 'merged_meta_sev' is not defined"
     ]
    }
   ],
   "source": [
    "ax = merged_meta_sev.plot_station_coordinates(markersize=12, color='lime', label = \" sconcso2, sconcso4\")\n",
    "data.plot_station_coordinates(markersize=3, color='red', ax = ax,  label = \"sconcso4\")"
   ]
  },
  {
   "cell_type": "markdown",
   "metadata": {},
   "source": [
    "## Plotting using a dataset which contain one variable"
   ]
  },
  {
   "cell_type": "code",
   "execution_count": null,
   "metadata": {},
   "outputs": [],
   "source": [
    "algoma = data.to_station_data('Algoma', 'sconcso2')\n",
    "abington = data.to_station_data('Abington', 'sconcso2')\n",
    "alhambra = data.to_station_data('Alhambra', 'sconcso2')"
   ]
  },
  {
   "cell_type": "code",
   "execution_count": null,
   "metadata": {},
   "outputs": [],
   "source": [
    "algoma.get_meta()"
   ]
  },
  {
   "cell_type": "code",
   "execution_count": null,
   "metadata": {},
   "outputs": [],
   "source": [
    "algoma.country # None"
   ]
  },
  {
   "cell_type": "code",
   "execution_count": null,
   "metadata": {},
   "outputs": [],
   "source": [
    "algoma.station_coords"
   ]
  },
  {
   "cell_type": "code",
   "execution_count": null,
   "metadata": {},
   "outputs": [],
   "source": [
    "def cast_coords_to_string(station):\n",
    "    \"\"\" Help function for creating labels, usefull when plotting several stations.  \"\"\"\n",
    "    return \"({}, {}, {})\".format(station.latitude, station.longitude, station.altitude)"
   ]
  },
  {
   "cell_type": "code",
   "execution_count": null,
   "metadata": {},
   "outputs": [],
   "source": [
    "ax = algoma.plot_timeseries('sconcso2', label = algoma.station_name + \", \" + cast_coords_to_string(algoma))\n",
    "abington.plot_timeseries('sconcso2', ax = ax, label = abington.station_name) \n",
    "alhambra.plot_timeseries('sconcso2', ax = ax, label = alhambra.station_name) \n",
    "ax.set_title(\"Plotting Several Stations In One Figure\")"
   ]
  },
  {
   "cell_type": "markdown",
   "metadata": {},
   "source": [
    "# Plotting using a dataset which contain several variable"
   ]
  },
  {
   "cell_type": "code",
   "execution_count": null,
   "metadata": {},
   "outputs": [],
   "source": [
    "merged_meta_sev.to_station_data('[Algoma]', ['sconcso2', 'sconcso4'])"
   ]
  },
  {
   "cell_type": "code",
   "execution_count": null,
   "metadata": {},
   "outputs": [],
   "source": []
  },
  {
   "cell_type": "code",
   "execution_count": null,
   "metadata": {},
   "outputs": [],
   "source": []
  },
  {
   "cell_type": "code",
   "execution_count": null,
   "metadata": {},
   "outputs": [],
   "source": []
  },
  {
   "cell_type": "code",
   "execution_count": null,
   "metadata": {},
   "outputs": [],
   "source": []
  },
  {
   "cell_type": "markdown",
   "metadata": {},
   "source": [
    "## How to find common stations with another data set "
   ]
  },
  {
   "cell_type": "markdown",
   "metadata": {
    "scrolled": true
   },
   "source": [
    "After reading one variable, shoudn't the dataset data only contain one variable. This works in the python script."
   ]
  },
  {
   "cell_type": "code",
   "execution_count": null,
   "metadata": {},
   "outputs": [],
   "source": [
    "data.contains_vars"
   ]
  },
  {
   "cell_type": "code",
   "execution_count": null,
   "metadata": {},
   "outputs": [],
   "source": [
    "data2.contains_vars"
   ]
  },
  {
   "cell_type": "markdown",
   "metadata": {},
   "source": [
    "## Plotting all available stations for the two variables \"sconsso2\" and \"sconsso4\""
   ]
  },
  {
   "cell_type": "code",
   "execution_count": null,
   "metadata": {},
   "outputs": [],
   "source": [
    "ax = data.plot_station_coordinates(markersize=12, color='lime', label = \"all variables\")\n",
    "data2.plot_station_coordinates(markersize=5, color='red', ax = ax,  label = \"sconcso4\")"
   ]
  },
  {
   "cell_type": "code",
   "execution_count": null,
   "metadata": {},
   "outputs": [],
   "source": [
    "merged = data.merge_common_meta(ignore_keys = [\"station_name\", 'instrument_name', 'ts_type', 'filename'])"
   ]
  },
  {
   "cell_type": "code",
   "execution_count": null,
   "metadata": {},
   "outputs": [],
   "source": [
    "len(merged.unique_station_names), len(data.unique_station_names)"
   ]
  },
  {
   "cell_type": "markdown",
   "metadata": {},
   "source": [
    "### Displaying the ten first stationnames. "
   ]
  },
  {
   "cell_type": "code",
   "execution_count": null,
   "metadata": {
    "scrolled": true
   },
   "outputs": [],
   "source": [
    "data.station_name[:10]"
   ]
  },
  {
   "cell_type": "code",
   "execution_count": null,
   "metadata": {},
   "outputs": [],
   "source": [
    "algoma = data.to_station_data('Algoma', 'sconcso2')\n",
    "abington = data.to_station_data('Abington', 'sconcso2')\n",
    "alhambra = data.to_station_data('Alhambra', 'sconcso2')"
   ]
  },
  {
   "cell_type": "code",
   "execution_count": null,
   "metadata": {},
   "outputs": [],
   "source": [
    "algoma.get_meta()"
   ]
  },
  {
   "cell_type": "markdown",
   "metadata": {},
   "source": [
    "# Why does this need a imput variable when algoma only contain one?"
   ]
  },
  {
   "cell_type": "code",
   "execution_count": null,
   "metadata": {},
   "outputs": [],
   "source": [
    "ax = algoma.plot_timeseries('sconcso2', label = \"algoma\")\n",
    "abington.plot_timeseries('sconcso2', ax = ax, label = \"abingtion\") \n",
    "alhambra.plot_timeseries('sconcso2', ax = ax, label = \"alhambra\") \n",
    "ax.set_title(\"Plotting Several Stations In One Figure\")"
   ]
  },
  {
   "cell_type": "code",
   "execution_count": null,
   "metadata": {},
   "outputs": [],
   "source": [
    "algoma.station_coords"
   ]
  },
  {
   "cell_type": "code",
   "execution_count": null,
   "metadata": {},
   "outputs": [],
   "source": [
    "help(data.get_variable_data)"
   ]
  },
  {
   "cell_type": "code",
   "execution_count": null,
   "metadata": {
    "scrolled": false
   },
   "outputs": [],
   "source": [
    "hmm = data.get_variable_data(\"sconcso4\")"
   ]
  },
  {
   "cell_type": "markdown",
   "metadata": {},
   "source": [
    "# Below here is old code."
   ]
  },
  {
   "cell_type": "code",
   "execution_count": null,
   "metadata": {},
   "outputs": [],
   "source": []
  },
  {
   "cell_type": "code",
   "execution_count": null,
   "metadata": {},
   "outputs": [],
   "source": []
  },
  {
   "cell_type": "code",
   "execution_count": null,
   "metadata": {},
   "outputs": [],
   "source": []
  },
  {
   "cell_type": "code",
   "execution_count": null,
   "metadata": {},
   "outputs": [],
   "source": []
  },
  {
   "cell_type": "code",
   "execution_count": null,
   "metadata": {
    "scrolled": false
   },
   "outputs": [],
   "source": [
    "hmm = data.get_variable_data(\"sconcso2\")"
   ]
  },
  {
   "cell_type": "markdown",
   "metadata": {},
   "source": [
    "# Find the number of common stations that have both variables"
   ]
  },
  {
   "cell_type": "code",
   "execution_count": null,
   "metadata": {},
   "outputs": [],
   "source": [
    "len(data.find_common_stations(data2))"
   ]
  },
  {
   "cell_type": "markdown",
   "metadata": {},
   "source": [
    "# Plotting a regional map over stations"
   ]
  },
  {
   "cell_type": "code",
   "execution_count": null,
   "metadata": {},
   "outputs": [],
   "source": [
    "data.plot_station_coordinates(markersize=12, color='lime')"
   ]
  },
  {
   "cell_type": "code",
   "execution_count": null,
   "metadata": {},
   "outputs": [],
   "source": [
    "help(data.plot_station_coordinates)"
   ]
  },
  {
   "cell_type": "code",
   "execution_count": null,
   "metadata": {},
   "outputs": [],
   "source": [
    "data.contains_vars"
   ]
  },
  {
   "cell_type": "markdown",
   "metadata": {},
   "source": [
    "# Cool function to implement plot_station_coordinates based on stationnames and of they are all in one region it filters outs by itselves."
   ]
  },
  {
   "cell_type": "markdown",
   "metadata": {},
   "source": [
    "### How do I remove this print???"
   ]
  },
  {
   "cell_type": "code",
   "execution_count": null,
   "metadata": {
    "scrolled": false
   },
   "outputs": [],
   "source": [
    "ax = data.plot_station_coordinates(var_name=\"sconcso2\", \n",
    "                                   filter_name=\"EUROPE-noMOUNTAINS\",\n",
    "                                   color='r', marker='o', markersize=8)"
   ]
  },
  {
   "cell_type": "code",
   "execution_count": null,
   "metadata": {},
   "outputs": [],
   "source": []
  },
  {
   "cell_type": "markdown",
   "metadata": {},
   "source": [
    "# How to retrieve the units from the variable??"
   ]
  },
  {
   "cell_type": "code",
   "execution_count": null,
   "metadata": {},
   "outputs": [],
   "source": []
  },
  {
   "cell_type": "code",
   "execution_count": null,
   "metadata": {},
   "outputs": [],
   "source": [
    "algoma"
   ]
  },
  {
   "cell_type": "code",
   "execution_count": null,
   "metadata": {},
   "outputs": [],
   "source": [
    "reader = ReadSulphurAasEtAl(DATA_ID)\n",
    "ungridded = reader.read()"
   ]
  },
  {
   "cell_type": "code",
   "execution_count": null,
   "metadata": {},
   "outputs": [],
   "source": [
    "ungridded"
   ]
  },
  {
   "cell_type": "code",
   "execution_count": null,
   "metadata": {},
   "outputs": [],
   "source": [
    "ungridded.unique_station_names[:10]"
   ]
  },
  {
   "cell_type": "markdown",
   "metadata": {},
   "source": [
    "Is it possible to locate based on coordinates"
   ]
  },
  {
   "cell_type": "code",
   "execution_count": null,
   "metadata": {},
   "outputs": [],
   "source": [
    "import numpy as np"
   ]
  },
  {
   "cell_type": "markdown",
   "metadata": {},
   "source": [
    "#### This is a bit pequliar "
   ]
  },
  {
   "cell_type": "code",
   "execution_count": null,
   "metadata": {},
   "outputs": [],
   "source": [
    "len(np.unique(ungridded.latitude)), len(ungridded.unique_station_names)"
   ]
  },
  {
   "cell_type": "code",
   "execution_count": null,
   "metadata": {},
   "outputs": [],
   "source": [
    "help(ungridded.merge_common_meta)"
   ]
  },
  {
   "cell_type": "code",
   "execution_count": null,
   "metadata": {},
   "outputs": [],
   "source": [
    "equal = ungridded.merge_common_meta(ignore_keys = \"instruments\")"
   ]
  },
  {
   "cell_type": "code",
   "execution_count": null,
   "metadata": {},
   "outputs": [],
   "source": [
    "equal"
   ]
  },
  {
   "cell_type": "code",
   "execution_count": null,
   "metadata": {},
   "outputs": [],
   "source": [
    "algoma.get_meta()"
   ]
  },
  {
   "cell_type": "code",
   "execution_count": null,
   "metadata": {},
   "outputs": [],
   "source": [
    "algoma2 = ungridded[\"Abington (CT15)\"]"
   ]
  },
  {
   "cell_type": "code",
   "execution_count": null,
   "metadata": {},
   "outputs": [],
   "source": [
    "# That one variable can not be stored in the same place."
   ]
  },
  {
   "cell_type": "code",
   "execution_count": null,
   "metadata": {},
   "outputs": [],
   "source": []
  },
  {
   "cell_type": "code",
   "execution_count": null,
   "metadata": {},
   "outputs": [],
   "source": [
    "from pyaerocom.io.readgridded import ReadGridded\n",
    "gridded_reader = ReadGridded(data_id = \"EMEP_rv4.1.1.T2.1_ctl\")\n",
    "data = gridded_reader.read_var(var_name = 'wetso4', ts_type=\"daily\")"
   ]
  },
  {
   "cell_type": "code",
   "execution_count": null,
   "metadata": {},
   "outputs": [],
   "source": []
  },
  {
   "cell_type": "markdown",
   "metadata": {},
   "source": [
    "# Hanna tests."
   ]
  },
  {
   "cell_type": "code",
   "execution_count": null,
   "metadata": {},
   "outputs": [],
   "source": [
    "def _true_std():\n",
    "    # Mesuring this: Absolute annual trend (STD) μgS/m3 year\n",
    "    regions_std = {'N-America': {\"sconcso4\": {'1990–2000': 0.025,\n",
    "                                              '1990–2015': 0.024,\n",
    "                                              '2000-2010': 0.029,\n",
    "                                              '2000–2015': 0.029},\n",
    "\n",
    "                                 \"wetso4\": {'1980-1990': 0.18,\n",
    "                                            '1990–2000': 0.13,\n",
    "                                            '1990–2015': 0.10,\n",
    "                                            '2000–2010': 0.13,\n",
    "                                            '2000–2015': 0.13\n",
    "                                            },\n",
    "\n",
    "                                 'sconcso2': {'1990–2000': 0.115,\n",
    "                                              '1990–2015': 0.109,\n",
    "                                              '2000–2010': 0.113,\n",
    "                                              '2000–2015': 0.123\n",
    "                                              }},\n",
    "\n",
    "                   'Europe': {'sconcso4': {'1980–1990': 0.094,\n",
    "                                           '1990–2000': 0.052,\n",
    "                                           '1990–2015': 0.015,\n",
    "                                           '2000–2010': 0.041,\n",
    "                                           '2000–2015': 0.028},\n",
    "                              'wetso4': {'1980–1990': 0.36,\n",
    "                                         '1990–2000': 0.29,\n",
    "                                         '1990–2015': 0.12,\n",
    "                                         '2000–2010': 0.13,\n",
    "                                         '2000–2015': 0.10\n",
    "\n",
    "                                         },\n",
    "                              'sconcso2': {'1980–1990': 0.168,\n",
    "                                           '1990–2000': 0.275,\n",
    "                                           '1990–2015': 0.085,\n",
    "                                           '2000–2010': 0.054,\n",
    "                                           '2000–2015': 0.036\n",
    "                                           },\n",
    "                              },\n",
    "                   'India': {'sconcso4': {'1980–1990': 3.10,\n",
    "                                          '1990–2000': 2.11,\n",
    "                                          '1990–2015': 0.69,\n",
    "                                          '2000–2015': 2.03},\n",
    "                             'wetso4': {'1980–1990': 0.18,\n",
    "                                        '1990–2000': 0.37,\n",
    "                                        '2000–2010': 0.37,\n",
    "                                        },\n",
    "                             },\n",
    "\n",
    "                   'East-Asia': {'sconcso4': {'2000–2010': 0.034,\n",
    "                                              '2000–2015': 0.037},\n",
    "                                 'wetso4': {'1990–2000': 0.32,\n",
    "                                            '1990–2015': 0.05,\n",
    "                                            '2000-2010': 0.37,\n",
    "                                            '2000-2015': 0.24\n",
    "                                            },\n",
    "                                 'sconcso2': {'2000–2010': 0.119,\n",
    "                                              '2000–2015': 0.186}},\n",
    "\n",
    "                   'Africa': {'wetso4': {'2000-2010': 0},\n",
    "\n",
    "                              'sconcso2': {'2000–2010': 0.121,\n",
    "                                           '2000–2015': 0.068\n",
    "                                           }}\n",
    "                   }\n",
    "    return regions_std\n",
    "\n",
    "\n",
    "def create_region(region):\n",
    "    \"\"\"\n",
    "    Function to create regions\n",
    "\n",
    "    :param region:\n",
    "    :return:\n",
    "    \"\"\"\n",
    "    regions = {\n",
    "        # 'US': {'minLat': 22.5, 'maxLat': 71.0, 'minLon': -167, 'maxLon': -59.6},\n",
    "        'N-America': {'minLat': 15.0, 'maxLat': 72.0, 'minLon': -170.0, 'maxLon': -50.0},\n",
    "        'S-America': {'minLat': -55.0, 'maxLat': 14.0, 'minLon': -85.0, 'maxLon': -33.0},\n",
    "        'Europe': {'minLat': 34.2, 'maxLat': 67.2, 'minLon': -28.7, 'maxLon': 69.1},\n",
    "        'East-Asia': {'minLat': -12.62, 'maxLat': 59.9, 'minLon': 97.0, 'maxLon': 161.19},\n",
    "        'Africa': {'minLat': -41.03, 'maxLat': 33.08, 'minLon': -18.45, 'maxLon': 58.54},\n",
    "        'India': {'minLat': 3.06, 'maxLat': 36.0, 'minLon': 65.92, 'maxLon': 96.0},\n",
    "        'East-US': {'minLat': 30, 'maxLat': 45, 'minLon': -95, 'maxLon': -75},\n",
    "        'Central-Europe': {'minLat': 40, 'maxLat': 55, 'minLon': -5, 'maxLon': 40},\n",
    "        'Most-East-Asia': {'minLat': 25, 'maxLat': 45, 'minLon': 100, 'maxLon': 130},\n",
    "        'World': {'minLat': -90, 'maxLat': 90, 'minLon': -180, 'maxLon': 180},\n",
    "        '': {'minLat': 0, 'maxLat': 0, 'minLon': 0, 'maxLon': 0, 'zf': 0},\n",
    "    }\n",
    "    return regions[region]['minLon'], regions[region]['maxLon'], regions[region]['minLat'], regions[region]['maxLat']\n",
    "\n",
    "\n",
    "def crop_data_to_region(ungridded, region = \"N-America\"):\n",
    "    \"\"\" Function which crops the data into correct regions.\"\"\"\n",
    "    valid_names = ['N-America', 'S-America', 'Europe', 'East-Asia', 'Africa', 'India', 'East-US', 'Central-Europe', 'Most-East-Asia']\n",
    "    if region in valid_names:\n",
    "        minLon, maxLon, minLat, maxLat = create_region(region = region)\n",
    "        return ungridded.filter_by_meta(latitude=(minLat, maxLat), longitude=(minLon, maxLon))\n",
    "    else:\n",
    "        raise ValueError(\"{} is not a valid region. \"\n",
    "                         \"Try 'N-America', 'S-America', 'Europe', 'East-Asia', 'Africa', 'India', 'East-US', \"\n",
    "                         \"'Central-Europe', 'Most-East-Asia' \".format(region))\n",
    "\n",
    "def filter_by_time(data_cropped_by_region, start, stop):\n",
    "\n",
    "    #station_list = data_dict.stats\n",
    "    print(data_dict.keys())\n",
    "    return data_dict\n"
   ]
  },
  {
   "cell_type": "code",
   "execution_count": null,
   "metadata": {},
   "outputs": [],
   "source": [
    "import numpy as np"
   ]
  },
  {
   "cell_type": "code",
   "execution_count": null,
   "metadata": {
    "scrolled": false
   },
   "outputs": [],
   "source": [
    "reader = ReadSulphurAasEtAl('GAWTADsubsetAasEtAl')\n",
    "data = reader.read()  # read all variables\n",
    "assert len(data.station_name) == 629\n",
    "#assert 'n/a' in data.data_revision not woriking\n",
    "assert data.shape == (1008552, 12)\n",
    "\n",
    "# TODO work on filtering\n",
    "data_so2 = reader.read(vars_to_retrieve=\"sconcso2\")\n",
    "data_so2 = crop_data_to_region(data_so2 , \"Europe\")\n",
    "start = 1980\n",
    "stop = 1990\n",
    "station_data_list = data_so2.to_station_data_all(var_name = \"sconcso2\", start = start, stop = stop, ts_type= \"monthly\")\n",
    "#filter_by_time(data_so2 , 1980, 1990)\n",
    "empty = np.array([ ])\n",
    "list = station_data_list['stats']\n",
    "print(list)\n",
    "for elem in list:\n",
    "    print(elem)"
   ]
  },
  {
   "cell_type": "code",
   "execution_count": null,
   "metadata": {},
   "outputs": [],
   "source": [
    "temp = np.array([])"
   ]
  },
  {
   "cell_type": "code",
   "execution_count": null,
   "metadata": {},
   "outputs": [],
   "source": [
    "for elem in list:\n",
    "    temp = np.concatenate((temp, elem['sconcso2'].values))"
   ]
  },
  {
   "cell_type": "code",
   "execution_count": null,
   "metadata": {},
   "outputs": [],
   "source": [
    "np.std(temp)"
   ]
  },
  {
   "cell_type": "markdown",
   "metadata": {},
   "source": [
    "## STD for 1980 to 1990 so2 in Europe is wrong???"
   ]
  },
  {
   "cell_type": "code",
   "execution_count": null,
   "metadata": {},
   "outputs": [],
   "source": []
  },
  {
   "cell_type": "code",
   "execution_count": null,
   "metadata": {},
   "outputs": [],
   "source": []
  },
  {
   "cell_type": "code",
   "execution_count": null,
   "metadata": {},
   "outputs": [],
   "source": [
    "np.concatenate(list[0]['sconcso2'].values, list[1]['sconcso2'].values)"
   ]
  },
  {
   "cell_type": "code",
   "execution_count": null,
   "metadata": {},
   "outputs": [],
   "source": [
    "np.std(temp)"
   ]
  },
  {
   "cell_type": "code",
   "execution_count": null,
   "metadata": {},
   "outputs": [],
   "source": []
  },
  {
   "cell_type": "code",
   "execution_count": null,
   "metadata": {},
   "outputs": [],
   "source": []
  },
  {
   "cell_type": "code",
   "execution_count": null,
   "metadata": {},
   "outputs": [],
   "source": []
  },
  {
   "cell_type": "code",
   "execution_count": null,
   "metadata": {},
   "outputs": [],
   "source": []
  },
  {
   "cell_type": "code",
   "execution_count": null,
   "metadata": {},
   "outputs": [],
   "source": []
  },
  {
   "cell_type": "code",
   "execution_count": null,
   "metadata": {},
   "outputs": [],
   "source": []
  },
  {
   "cell_type": "code",
   "execution_count": null,
   "metadata": {},
   "outputs": [],
   "source": []
  }
 ],
 "metadata": {
  "kernelspec": {
   "display_name": "Python 3",
   "language": "python",
   "name": "python3"
  },
  "language_info": {
   "codemirror_mode": {
    "name": "ipython",
    "version": 3
   },
   "file_extension": ".py",
   "mimetype": "text/x-python",
   "name": "python",
   "nbconvert_exporter": "python",
   "pygments_lexer": "ipython3",
   "version": "3.7.4"
  }
 },
 "nbformat": 4,
 "nbformat_minor": 2
}
