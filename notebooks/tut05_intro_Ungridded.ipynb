{
 "cells": [
  {
   "cell_type": "markdown",
   "metadata": {},
   "source": [
    "### Reading of ungridded data - ReadUngridded data class\n",
    "\n",
    "Ungridded data in pyaerocom can be any data that is not stored in a gridded standard format such as NetCDF or that would not make sense to be imported / represented in a gridded format. \n",
    "\n",
    "One example is the [AERONET](https://aeronet.gsfc.nasa.gov/) database, which provides aerosol optical properties (such as the Aerosol optical depth) which are measured at individual stations around the globe. The sampled parameters and provided variables can vary from station to station, and of course do the sample times. \n",
    "\n",
    "Ungridded data in pyaerocom is organised *per observation network* and the basic idea is, to read data from a whole network (or even more than one) at once, and have it represented in one object. \n",
    "\n",
    "Sticking to the "
   ]
  },
  {
   "cell_type": "code",
   "execution_count": 1,
   "metadata": {},
   "outputs": [],
   "source": []
  },
  {
   "cell_type": "code",
   "execution_count": 1,
   "metadata": {},
   "outputs": [],
   "source": []
  }
 ],
 "metadata": {
  "kernelspec": {
   "display_name": "Python 3",
   "language": "python",
   "name": "python3"
  },
  "language_info": {
   "codemirror_mode": {
    "name": "ipython",
    "version": 3
   },
   "file_extension": ".py",
   "mimetype": "text/x-python",
   "name": "python",
   "nbconvert_exporter": "python",
   "pygments_lexer": "ipython3",
   "version": "3.6.6"
  }
 },
 "nbformat": 4,
 "nbformat_minor": 2
}
