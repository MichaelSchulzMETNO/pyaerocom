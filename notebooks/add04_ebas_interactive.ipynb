{
 "cells": [
  {
   "cell_type": "markdown",
   "metadata": {},
   "source": [
    "### Interactive analysis of EBAS scattering and absorption coefficients\n",
    "\n",
    "This notebook may be used to investigate scattering and absorption coefficients from the EBAS network in an interactive manner."
   ]
  },
  {
   "cell_type": "code",
   "execution_count": 1,
   "metadata": {},
   "outputs": [
    {
     "name": "stderr",
     "output_type": "stream",
     "text": [
      "Init data paths for lustre\n"
     ]
    },
    {
     "name": "stdout",
     "output_type": "stream",
     "text": [
      "0.017978429794311523 s\n"
     ]
    }
   ],
   "source": [
    "import pyaerocom as pya\n",
    "from ipywidgets import interactive, fixed"
   ]
  },
  {
   "cell_type": "code",
   "execution_count": 2,
   "metadata": {},
   "outputs": [
    {
     "name": "stdout",
     "output_type": "stream",
     "text": [
      "\n",
      "Dataset name: EBASMC\n",
      "Data directory: /lustre/storeA/project/aerocom/aerocom1/AEROCOM_OBSDATA/EBASMultiColumn/data\n",
      "Supported variables: ['DEFAULT', 'scatc550aer', 'scatc550dryaer', 'scatc550lt1aer', 'bscatc550aer', 'absc550aer', 'absc550lt1aer', 'bscatc550dryaer', 'absc550dryaer', 'scatcrh', 'sconcso4', 'sconcso2', 'sconcpm10', 'sconcpm25', 'sconcso4t', 'sconcso4c', 'sconcbc', 'sconcss', 'sconcpom', 'sconcnh3', 'sconcno3', 'sconcnh4', 'sconchno3', 'sconctno3', 'sconcno2', 'sconcpm10rh50', 'sconceqbc', 'sconcoa', 'vmro3', 'vmrco', 'vmro3max', 'vmro32m', 'concprcpso4', 'concprcpso4t', 'concprcpso4c', 'concprcpno3', 'concprcpso4scavenging', 'concprcpnh4', 'wetso4', 'wetconcso4', 'wetso4t', 'wetso4c', 'wetoxn', 'wetrdn', 'wetnh4', 'precip', 'wetconcph', 'wetno3', 'scavratioso4', 'test']\n",
      "Last revision: 20181001\n"
     ]
    }
   ],
   "source": [
    "reader = pya.io.ReadUngridded(pya.const.EBAS_MULTICOLUMN_NAME)\n",
    "print(reader)"
   ]
  },
  {
   "cell_type": "code",
   "execution_count": null,
   "metadata": {},
   "outputs": [
    {
     "name": "stderr",
     "output_type": "stream",
     "text": [
      "Received additional reading constraints, ignoring caching\n",
      "No Cache match found for EBASMC. Reading from files (this may take a while)\n"
     ]
    },
    {
     "name": "stdout",
     "output_type": "stream",
     "text": [
      "Reading file 0 of 1877 (ReadEbas)\n",
      "Reading file 187 of 1877 (ReadEbas)\n",
      "Reading file 374 of 1877 (ReadEbas)\n",
      "Reading file 561 of 1877 (ReadEbas)\n",
      "Reading file 748 of 1877 (ReadEbas)\n",
      "Reading file 935 of 1877 (ReadEbas)\n",
      "Reading file 1122 of 1877 (ReadEbas)\n",
      "Reading file 1309 of 1877 (ReadEbas)\n",
      "Reading file 1496 of 1877 (ReadEbas)\n"
     ]
    }
   ],
   "source": [
    "data = reader.read(vars_to_retrieve=['absc550aer', 'scatc550aer'], datalevel=None)"
   ]
  },
  {
   "cell_type": "code",
   "execution_count": null,
   "metadata": {},
   "outputs": [],
   "source": [
    "ax = data.plot_station_coordinates(var_name='absc550aer', markersize=60)\n",
    "ax = data.plot_station_coordinates(var_name='scatc550aer', markersize=30, color='lime', ax=ax)"
   ]
  },
  {
   "cell_type": "code",
   "execution_count": null,
   "metadata": {},
   "outputs": [],
   "source": [
    "data.station_name\n",
    "data"
   ]
  },
  {
   "cell_type": "code",
   "execution_count": null,
   "metadata": {},
   "outputs": [],
   "source": [
    "interactive(data.plot_station_timeseries, station=data.station_name, var_name=data.contains_vars,\n",
    "           start=fixed(None), stop=fixed(None), ts_type=pya.const.GRID_IO.TS_TYPES, vmin=range(-1, 1), vmax=range(0, 1000),\n",
    "           ax=fixed(None))"
   ]
  }
 ],
 "metadata": {
  "kernelspec": {
   "display_name": "Python 3",
   "language": "python",
   "name": "python3"
  },
  "language_info": {
   "codemirror_mode": {
    "name": "ipython",
    "version": 3
   },
   "file_extension": ".py",
   "mimetype": "text/x-python",
   "name": "python",
   "nbconvert_exporter": "python",
   "pygments_lexer": "ipython3",
   "version": "3.6.6"
  }
 },
 "nbformat": 4,
 "nbformat_minor": 2
}
