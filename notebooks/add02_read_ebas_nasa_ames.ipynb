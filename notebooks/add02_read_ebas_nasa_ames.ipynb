{
 "cells": [
  {
   "cell_type": "markdown",
   "metadata": {},
   "source": [
    "### Tutorial showing how to read EBAS NASA Ames files\n",
    "\n",
    "**Note**: this notebook is currently under development\n",
    "\n",
    "Please see [here](https://ebas-submit.nilu.no/Submit-Data/Getting-started) for information related to the EBAS NASA Ames file format.\n",
    "\n",
    "**Further links**:\n",
    " - [Pyaerocom website](http://aerocom.met.no/pyaerocom/)\n",
    " - [Pyaerocom installation instructions](http://aerocom.met.no/pyaerocom/readme.html#installation)\n",
    " - [Getting started](http://aerocom.met.no/pyaerocom/notebooks.html#getting-started)"
   ]
  },
  {
   "cell_type": "code",
   "execution_count": 1,
   "metadata": {},
   "outputs": [
    {
     "name": "stdout",
     "output_type": "stream",
     "text": [
      "Pyaerocom EbasNasaAmesFile\n",
      "--------------------------\n",
      "\n",
      "   num_head_lines: 60\n",
      "   num_head_fmt: 1001\n",
      "   data_originator: Flentje, Harald\n",
      "   sponsor_organisation: DE09L, Deutscher Wetterdienst, DWD, Met. Obs., Hohenspeissenberg, , 82283, Hohenspeissenberg, Germany\n",
      "   submitter: Flentje, Harald\n",
      "   project_association: EUSAAR GAW-WDCA\n",
      "   vol_num: 1\n",
      "   vol_totnum: 1\n",
      "   ref_date: 2008 01 01 2016 07 08\n",
      "   revision_date: nan\n",
      "   freq: 0.041667\n",
      "   descr_time_unit: days from file reference point\n",
      "   num_cols_dependent: 11\n",
      "   mul_factors (list, 11 items)\n",
      "   [1.0\n",
      "    1.0\n",
      "    ...\n",
      "    1.0\n",
      "    1.0]\n",
      "\n",
      "   vals_invalid (list, 11 items)\n",
      "   [999.999999\n",
      "    999.999\n",
      "    ...\n",
      "    9999.9\n",
      "    9.999999999]\n",
      "\n",
      "   descr_first_col: end_time of measurement, days from the file reference point\n",
      "\n",
      "   Column variable definitions\n",
      "   -------------------------------\n",
      "   EbasColDef: name=starttime, unit=days, is_var=False, is_flag=False, flag_id=, \n",
      "   EbasColDef: name=endtime, unit=days, is_var=False, is_flag=False, flag_id=, \n",
      "   EbasColDef: name=aerosol_light_backscattering_coefficient, unit=1/Mm, is_var=True, is_flag=False, flag_id=numflag, wavelength=450.0 nm, \n",
      "   EbasColDef: name=aerosol_light_backscattering_coefficient, unit=1/Mm, is_var=True, is_flag=False, flag_id=numflag, wavelength=550.0 nm, \n",
      "   EbasColDef: name=aerosol_light_backscattering_coefficient, unit=1/Mm, is_var=True, is_flag=False, flag_id=numflag, wavelength=700.0 nm, \n",
      "   EbasColDef: name=aerosol_light_scattering_coefficient, unit=1/Mm, is_var=True, is_flag=False, flag_id=numflag, wavelength=450.0 nm, \n",
      "   EbasColDef: name=aerosol_light_scattering_coefficient, unit=1/Mm, is_var=True, is_flag=False, flag_id=numflag, wavelength=550.0 nm, \n",
      "   EbasColDef: name=aerosol_light_scattering_coefficient, unit=1/Mm, is_var=True, is_flag=False, flag_id=numflag, wavelength=700.0 nm, \n",
      "   EbasColDef: name=pressure, unit=hPa, is_var=True, is_flag=False, flag_id=numflag, location=instrument internal, \n",
      "   EbasColDef: name=relative_humidity, unit=%, is_var=True, is_flag=False, flag_id=numflag, location=instrument internal, \n",
      "   EbasColDef: name=temperature, unit=K, is_var=True, is_flag=False, flag_id=numflag, location=instrument internal, \n",
      "   EbasColDef: name=numflag, unit=no unit, is_var=False, is_flag=True, flag_id=, \n",
      "\n",
      "   EBAS meta data\n",
      "   ------------------\n",
      "   verbose: False\n",
      "   data_definition: EBAS_1.1\n",
      "   set_type_code: TU\n",
      "   timezone: UTC\n",
      "   file_name: DE0043G.20080101000000.20160708144500.nephelometer..aerosol.1y.1h.DE09L_tsi_neph_3563.DE09L_nephelometer.lev2.nas\n",
      "   file_creation: 20180101031050\n",
      "   startdate: 20080101000000\n",
      "   revision_date: 20160708144500\n",
      "   statistics: arithmetic mean\n",
      "   data_level: 2\n",
      "   period_code: 1y\n",
      "   resolution_code: 1h\n",
      "   station_code: DE0043G\n",
      "   platform_code: DE0043S\n",
      "   station_name: Hohenpeissenberg\n",
      "   station_wdca-id: GAWADE__HPB\n",
      "   station_gaw-id: HPB\n",
      "   station_gaw-name: Hohenpeissenberg\n",
      "   station_land_use: Grassland\n",
      "   station_setting: Mountain\n",
      "   station_gaw_type: G\n",
      "   station_wmo_region: 6\n",
      "   station_latitude: 47.8014984131\n",
      "   station_longitude: 11.0096197128\n",
      "   station_altitude: 985.0 m\n",
      "   regime: IMG\n",
      "   component: \n",
      "   unit: 1/Mm\n",
      "   matrix: aerosol\n",
      "   laboratory_code: DE09L\n",
      "   instrument_type: nephelometer\n",
      "   instrument_name: tsi_neph_3563\n",
      "   method_ref: DE09L_nephelometer\n",
      "   originator: Flentje, Harald, Harald.Flentje@dwd.de, , , , , , , ,\n",
      "   submitter: Flentje, Harald, Harald.Flentje@dwd.de, , , , , , , ,\n",
      "\n",
      "   Data\n",
      "   --------\n",
      "[[0.00000000e+00 4.16670000e-02            nan ...            nan\n",
      "             nan 3.94999000e-01]\n",
      " [4.16670000e-02 8.33330000e-02            nan ...            nan\n",
      "             nan 3.94999000e-01]\n",
      " [8.33330000e-02 1.25000000e-01            nan ...            nan\n",
      "             nan 3.94999000e-01]\n",
      " ...\n",
      " [3.65875000e+02 3.65916667e+02 4.75900000e+00 ... 8.50000000e+00\n",
      "  2.99900000e+02 2.47000000e-01]\n",
      " [3.65916667e+02 3.65958310e+02 5.16200000e+00 ... 8.70000000e+00\n",
      "  2.99900000e+02 2.47000000e-01]\n",
      " [3.65958333e+02 3.66000000e+02 5.31800000e+00 ... 9.30000000e+00\n",
      "  2.99700000e+02 0.00000000e+00]]\n",
      "Colnum: 12\n",
      "Timestamps: 8784\n"
     ]
    }
   ],
   "source": [
    "import os \n",
    "from pyaerocom.io import EbasNasaAmesFile\n",
    "\n",
    "ebasdir = \"/lustre/storeA/project/aerocom/aerocom1/AEROCOM_OBSDATA/EBASMultiColumn/data/data/\"\n",
    "filename = \"DE0043G.20080101000000.20160708144500.nephelometer..aerosol.1y.1h.DE09L_tsi_neph_3563.DE09L_nephelometer.lev2.nas\"\n",
    "\n",
    "mc = EbasNasaAmesFile(file=ebasdir+filename,\n",
    "                      only_head=False,          #set True if you only want to import header\n",
    "                      replace_invalid_nan=True, #replace invalid values with NaNs\n",
    "                      convert_timestamps=True,  #compute datetime64 timestamps from numerical values\n",
    "                      decode_flags=True,        #decode all flags (e.g. 0.111222333 -> 111 222 333)\n",
    "                      verbose=False)\n",
    "print(mc)"
   ]
  },
  {
   "cell_type": "markdown",
   "metadata": {},
   "source": [
    "#### Column information"
   ]
  },
  {
   "cell_type": "code",
   "execution_count": 2,
   "metadata": {},
   "outputs": [
    {
     "name": "stdout",
     "output_type": "stream",
     "text": [
      "Column 0\n",
      "Pyaerocom EbasColDef\n",
      "--------------------\n",
      "name: starttime\n",
      "unit: days\n",
      "is_var: False\n",
      "is_flag: False\n",
      "flag_id: \n",
      "\n",
      "Column 1\n",
      "Pyaerocom EbasColDef\n",
      "--------------------\n",
      "name: endtime\n",
      "unit: days\n",
      "is_var: False\n",
      "is_flag: False\n",
      "flag_id: \n",
      "\n",
      "Column 2\n",
      "Pyaerocom EbasColDef\n",
      "--------------------\n",
      "name: aerosol_light_backscattering_coefficient\n",
      "unit: 1/Mm\n",
      "is_var: True\n",
      "is_flag: False\n",
      "flag_id: numflag\n",
      "wavelength: 450.0 nm\n",
      "\n",
      "Column 3\n",
      "Pyaerocom EbasColDef\n",
      "--------------------\n",
      "name: aerosol_light_backscattering_coefficient\n",
      "unit: 1/Mm\n",
      "is_var: True\n",
      "is_flag: False\n",
      "flag_id: numflag\n",
      "wavelength: 550.0 nm\n",
      "\n",
      "Column 4\n",
      "Pyaerocom EbasColDef\n",
      "--------------------\n",
      "name: aerosol_light_backscattering_coefficient\n",
      "unit: 1/Mm\n",
      "is_var: True\n",
      "is_flag: False\n",
      "flag_id: numflag\n",
      "wavelength: 700.0 nm\n",
      "\n",
      "Column 5\n",
      "Pyaerocom EbasColDef\n",
      "--------------------\n",
      "name: aerosol_light_scattering_coefficient\n",
      "unit: 1/Mm\n",
      "is_var: True\n",
      "is_flag: False\n",
      "flag_id: numflag\n",
      "wavelength: 450.0 nm\n",
      "\n",
      "Column 6\n",
      "Pyaerocom EbasColDef\n",
      "--------------------\n",
      "name: aerosol_light_scattering_coefficient\n",
      "unit: 1/Mm\n",
      "is_var: True\n",
      "is_flag: False\n",
      "flag_id: numflag\n",
      "wavelength: 550.0 nm\n",
      "\n",
      "Column 7\n",
      "Pyaerocom EbasColDef\n",
      "--------------------\n",
      "name: aerosol_light_scattering_coefficient\n",
      "unit: 1/Mm\n",
      "is_var: True\n",
      "is_flag: False\n",
      "flag_id: numflag\n",
      "wavelength: 700.0 nm\n",
      "\n",
      "Column 8\n",
      "Pyaerocom EbasColDef\n",
      "--------------------\n",
      "name: pressure\n",
      "unit: hPa\n",
      "is_var: True\n",
      "is_flag: False\n",
      "flag_id: numflag\n",
      "location: instrument internal\n",
      "\n",
      "Column 9\n",
      "Pyaerocom EbasColDef\n",
      "--------------------\n",
      "name: relative_humidity\n",
      "unit: %\n",
      "is_var: True\n",
      "is_flag: False\n",
      "flag_id: numflag\n",
      "location: instrument internal\n",
      "\n",
      "Column 10\n",
      "Pyaerocom EbasColDef\n",
      "--------------------\n",
      "name: temperature\n",
      "unit: K\n",
      "is_var: True\n",
      "is_flag: False\n",
      "flag_id: numflag\n",
      "location: instrument internal\n",
      "\n",
      "Column 11\n",
      "Pyaerocom EbasColDef\n",
      "--------------------\n",
      "name: numflag\n",
      "unit: no unit\n",
      "is_var: False\n",
      "is_flag: True\n",
      "flag_id: \n",
      "\n"
     ]
    }
   ],
   "source": [
    "mc.print_col_info()"
   ]
  },
  {
   "cell_type": "markdown",
   "metadata": {},
   "source": [
    "You can see that all variable columns were assigned the same flag column, since there is only one. This would be different if there were multiple flag columns (e.g. one for each variable).\n",
    "\n",
    "#### Access flag information\n",
    "\n",
    "You can access the flags for each column using the ``flags`` attribute of the file."
   ]
  },
  {
   "cell_type": "code",
   "execution_count": 3,
   "metadata": {},
   "outputs": [
    {
     "data": {
      "text/plain": [
       "OrderedDict([('numflag',\n",
       "              <pyaerocom.io.ebas_nasa_ames.EbasFlagCol at 0x7fd542191390>)])"
      ]
     },
     "execution_count": 3,
     "metadata": {},
     "output_type": "execute_result"
    }
   ],
   "source": [
    "mc.flags"
   ]
  },
  {
   "cell_type": "code",
   "execution_count": 4,
   "metadata": {},
   "outputs": [],
   "source": [
    "flagcol = mc.flags[\"numflag\"]"
   ]
  },
  {
   "cell_type": "markdown",
   "metadata": {},
   "source": [
    "The raw flags can be accessed via:"
   ]
  },
  {
   "cell_type": "code",
   "execution_count": 5,
   "metadata": {},
   "outputs": [
    {
     "data": {
      "text/plain": [
       "array([0.394999, 0.394999, 0.394999, ..., 0.247   , 0.247   , 0.      ])"
      ]
     },
     "execution_count": 5,
     "metadata": {},
     "output_type": "execute_result"
    }
   ],
   "source": [
    "flagcol.raw_data"
   ]
  },
  {
   "cell_type": "markdown",
   "metadata": {},
   "source": [
    "And the processed flags are in stored in a (Nx3) numpy array where N is the total number of timestamps."
   ]
  },
  {
   "cell_type": "code",
   "execution_count": 6,
   "metadata": {},
   "outputs": [
    {
     "data": {
      "text/plain": [
       "array([[394, 999,   0],\n",
       "       [394, 999,   0],\n",
       "       [394, 999,   0],\n",
       "       ...,\n",
       "       [247,   0,   0],\n",
       "       [247,   0,   0],\n",
       "       [  0,   0,   0]])"
      ]
     },
     "execution_count": 6,
     "metadata": {},
     "output_type": "execute_result"
    }
   ],
   "source": [
    "flagcol.flags"
   ]
  },
  {
   "cell_type": "markdown",
   "metadata": {},
   "source": [
    "For instance, access the flags of the 5 timestamp:"
   ]
  },
  {
   "cell_type": "code",
   "execution_count": 7,
   "metadata": {},
   "outputs": [
    {
     "data": {
      "text/plain": [
       "array([394, 999,   0])"
      ]
     },
     "execution_count": 7,
     "metadata": {},
     "output_type": "execute_result"
    }
   ],
   "source": [
    "flagcol.flags[4]"
   ]
  },
  {
   "cell_type": "markdown",
   "metadata": {},
   "source": [
    "#### Convert object to pandas Dataframe\n",
    "\n",
    "The conversion does currently exclude all flag columns"
   ]
  },
  {
   "cell_type": "code",
   "execution_count": 8,
   "metadata": {},
   "outputs": [
    {
     "data": {
      "text/html": [
       "<div>\n",
       "<style scoped>\n",
       "    .dataframe tbody tr th:only-of-type {\n",
       "        vertical-align: middle;\n",
       "    }\n",
       "\n",
       "    .dataframe tbody tr th {\n",
       "        vertical-align: top;\n",
       "    }\n",
       "\n",
       "    .dataframe thead th {\n",
       "        text-align: right;\n",
       "    }\n",
       "</style>\n",
       "<table border=\"1\" class=\"dataframe\">\n",
       "  <thead>\n",
       "    <tr style=\"text-align: right;\">\n",
       "      <th></th>\n",
       "      <th>aerosol_light_backscattering_coefficient</th>\n",
       "      <th>aerosol_light_backscattering_coefficient</th>\n",
       "      <th>aerosol_light_backscattering_coefficient</th>\n",
       "      <th>aerosol_light_scattering_coefficient</th>\n",
       "      <th>aerosol_light_scattering_coefficient</th>\n",
       "      <th>aerosol_light_scattering_coefficient</th>\n",
       "      <th>pressure</th>\n",
       "      <th>relative_humidity</th>\n",
       "      <th>temperature</th>\n",
       "    </tr>\n",
       "  </thead>\n",
       "  <tbody>\n",
       "    <tr>\n",
       "      <th>2008-01-01 00:30:00</th>\n",
       "      <td>NaN</td>\n",
       "      <td>NaN</td>\n",
       "      <td>NaN</td>\n",
       "      <td>NaN</td>\n",
       "      <td>NaN</td>\n",
       "      <td>NaN</td>\n",
       "      <td>NaN</td>\n",
       "      <td>NaN</td>\n",
       "      <td>NaN</td>\n",
       "    </tr>\n",
       "    <tr>\n",
       "      <th>2008-01-01 01:29:59</th>\n",
       "      <td>NaN</td>\n",
       "      <td>NaN</td>\n",
       "      <td>NaN</td>\n",
       "      <td>NaN</td>\n",
       "      <td>NaN</td>\n",
       "      <td>NaN</td>\n",
       "      <td>NaN</td>\n",
       "      <td>NaN</td>\n",
       "      <td>NaN</td>\n",
       "    </tr>\n",
       "    <tr>\n",
       "      <th>2008-01-01 02:29:59</th>\n",
       "      <td>NaN</td>\n",
       "      <td>NaN</td>\n",
       "      <td>NaN</td>\n",
       "      <td>NaN</td>\n",
       "      <td>NaN</td>\n",
       "      <td>NaN</td>\n",
       "      <td>NaN</td>\n",
       "      <td>NaN</td>\n",
       "      <td>NaN</td>\n",
       "    </tr>\n",
       "    <tr>\n",
       "      <th>2008-01-01 03:30:00</th>\n",
       "      <td>NaN</td>\n",
       "      <td>NaN</td>\n",
       "      <td>NaN</td>\n",
       "      <td>NaN</td>\n",
       "      <td>NaN</td>\n",
       "      <td>NaN</td>\n",
       "      <td>NaN</td>\n",
       "      <td>NaN</td>\n",
       "      <td>NaN</td>\n",
       "    </tr>\n",
       "    <tr>\n",
       "      <th>2008-01-01 04:29:59</th>\n",
       "      <td>NaN</td>\n",
       "      <td>NaN</td>\n",
       "      <td>NaN</td>\n",
       "      <td>NaN</td>\n",
       "      <td>NaN</td>\n",
       "      <td>NaN</td>\n",
       "      <td>NaN</td>\n",
       "      <td>NaN</td>\n",
       "      <td>NaN</td>\n",
       "    </tr>\n",
       "  </tbody>\n",
       "</table>\n",
       "</div>"
      ],
      "text/plain": [
       "                     aerosol_light_backscattering_coefficient  \\\n",
       "2008-01-01 00:30:00                                       NaN   \n",
       "2008-01-01 01:29:59                                       NaN   \n",
       "2008-01-01 02:29:59                                       NaN   \n",
       "2008-01-01 03:30:00                                       NaN   \n",
       "2008-01-01 04:29:59                                       NaN   \n",
       "\n",
       "                     aerosol_light_backscattering_coefficient  \\\n",
       "2008-01-01 00:30:00                                       NaN   \n",
       "2008-01-01 01:29:59                                       NaN   \n",
       "2008-01-01 02:29:59                                       NaN   \n",
       "2008-01-01 03:30:00                                       NaN   \n",
       "2008-01-01 04:29:59                                       NaN   \n",
       "\n",
       "                     aerosol_light_backscattering_coefficient  \\\n",
       "2008-01-01 00:30:00                                       NaN   \n",
       "2008-01-01 01:29:59                                       NaN   \n",
       "2008-01-01 02:29:59                                       NaN   \n",
       "2008-01-01 03:30:00                                       NaN   \n",
       "2008-01-01 04:29:59                                       NaN   \n",
       "\n",
       "                     aerosol_light_scattering_coefficient  \\\n",
       "2008-01-01 00:30:00                                   NaN   \n",
       "2008-01-01 01:29:59                                   NaN   \n",
       "2008-01-01 02:29:59                                   NaN   \n",
       "2008-01-01 03:30:00                                   NaN   \n",
       "2008-01-01 04:29:59                                   NaN   \n",
       "\n",
       "                     aerosol_light_scattering_coefficient  \\\n",
       "2008-01-01 00:30:00                                   NaN   \n",
       "2008-01-01 01:29:59                                   NaN   \n",
       "2008-01-01 02:29:59                                   NaN   \n",
       "2008-01-01 03:30:00                                   NaN   \n",
       "2008-01-01 04:29:59                                   NaN   \n",
       "\n",
       "                     aerosol_light_scattering_coefficient  pressure  \\\n",
       "2008-01-01 00:30:00                                   NaN       NaN   \n",
       "2008-01-01 01:29:59                                   NaN       NaN   \n",
       "2008-01-01 02:29:59                                   NaN       NaN   \n",
       "2008-01-01 03:30:00                                   NaN       NaN   \n",
       "2008-01-01 04:29:59                                   NaN       NaN   \n",
       "\n",
       "                     relative_humidity  temperature  \n",
       "2008-01-01 00:30:00                NaN          NaN  \n",
       "2008-01-01 01:29:59                NaN          NaN  \n",
       "2008-01-01 02:29:59                NaN          NaN  \n",
       "2008-01-01 03:30:00                NaN          NaN  \n",
       "2008-01-01 04:29:59                NaN          NaN  "
      ]
     },
     "execution_count": 8,
     "metadata": {},
     "output_type": "execute_result"
    }
   ],
   "source": [
    "df = mc.to_dataframe()\n",
    "df.head()"
   ]
  }
 ],
 "metadata": {
  "kernelspec": {
   "display_name": "Python 3",
   "language": "python",
   "name": "python3"
  },
  "language_info": {
   "codemirror_mode": {
    "name": "ipython",
    "version": 3
   },
   "file_extension": ".py",
   "mimetype": "text/x-python",
   "name": "python",
   "nbconvert_exporter": "python",
   "pygments_lexer": "ipython3",
   "version": "3.6.6"
  }
 },
 "nbformat": 4,
 "nbformat_minor": 2
}
