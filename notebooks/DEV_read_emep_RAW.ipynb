{
 "cells": [
  {
   "cell_type": "code",
   "execution_count": 18,
   "metadata": {},
   "outputs": [],
   "source": [
    "import pyaerocom\n",
    "import os\n",
    "import xarray\n",
    "import iris\n",
    "\n",
    "base_dir = \"/lustre/storeB/project/fou/kl/emep/ModelRuns/2016_REPORTING/Trend_runs/3245.trends\"\n",
    "\n",
    "if not os.path.isdir(base_dir):\n",
    "    raise IOError(\"Path not found...\")"
   ]
  },
  {
   "cell_type": "code",
   "execution_count": 23,
   "metadata": {},
   "outputs": [
    {
     "name": "stdout",
     "output_type": "stream",
     "text": [
      "/lustre/storeB/project/fou/kl/emep/ModelRuns/2016_REPORTING/Trend_runs/3245.trends/2012_Trend/2012_Trend_day.nc\n",
      "/lustre/storeB/project/fou/kl/emep/ModelRuns/2016_REPORTING/Trend_runs/3245.trends/2011_Trend/2011_Trend_day.nc\n",
      "/lustre/storeB/project/fou/kl/emep/ModelRuns/2016_REPORTING/Trend_runs/3245.trends/2006_Trend/2006_Trend_day.nc\n",
      "/lustre/storeB/project/fou/kl/emep/ModelRuns/2016_REPORTING/Trend_runs/3245.trends/2010_Trend/2010_Trend_day.nc\n",
      "/lustre/storeB/project/fou/kl/emep/ModelRuns/2016_REPORTING/Trend_runs/3245.trends/2008_Trend/2008_Trend_day.nc\n",
      "/lustre/storeB/project/fou/kl/emep/ModelRuns/2016_REPORTING/Trend_runs/3245.trends/2009_Trend/2009_Trend_day.nc\n",
      "/lustre/storeB/project/fou/kl/emep/ModelRuns/2016_REPORTING/Trend_runs/3245.trends/2003_Trend/2003_Trend_day.nc\n",
      "/lustre/storeB/project/fou/kl/emep/ModelRuns/2016_REPORTING/Trend_runs/3245.trends/2007_Trend/2007_Trend_day.nc\n",
      "/lustre/storeB/project/fou/kl/emep/ModelRuns/2016_REPORTING/Trend_runs/3245.trends/2002_Trend/2002_Trend_day.nc\n",
      "/lustre/storeB/project/fou/kl/emep/ModelRuns/2016_REPORTING/Trend_runs/3245.trends/2004_Trend/2004_Trend_day.nc\n",
      "/lustre/storeB/project/fou/kl/emep/ModelRuns/2016_REPORTING/Trend_runs/3245.trends/2005_Trend/2005_Trend_day.nc\n",
      "/lustre/storeB/project/fou/kl/emep/ModelRuns/2016_REPORTING/Trend_runs/3245.trends/2013_Trend/2013_Trend_day.nc\n",
      "/lustre/storeB/project/fou/kl/emep/ModelRuns/2016_REPORTING/Trend_runs/3245.trends/2001_Trend/2001_Trend_day.nc\n",
      "/lustre/storeB/project/fou/kl/emep/ModelRuns/2016_REPORTING/Trend_runs/3245.trends/2000_Trend/2000_Trend_day.nc\n"
     ]
    }
   ],
   "source": [
    "ftype = \".nc\"\n",
    "opt_str_mask = \"day\"\n",
    "\n",
    "paths = []\n",
    "for root, dirs, files in os.walk(base_dir):\n",
    "    for file in files:\n",
    "        if file.endswith(ftype) and opt_str_mask in file:\n",
    "            paths.append(os.path.join(root, file))\n",
    "                \n",
    "for path in paths:\n",
    "    print(path)"
   ]
  },
  {
   "cell_type": "code",
   "execution_count": 49,
   "metadata": {},
   "outputs": [
    {
     "name": "stdout",
     "output_type": "stream",
     "text": [
      "1.83 s ± 15.3 ms per loop (mean ± std. dev. of 7 runs, 1 loop each)\n"
     ]
    }
   ],
   "source": [
    "%%timeit\n",
    "cubes = iris.load(paths[0])"
   ]
  },
  {
   "cell_type": "code",
   "execution_count": 48,
   "metadata": {},
   "outputs": [
    {
     "name": "stdout",
     "output_type": "stream",
     "text": [
      "202 ms ± 18.3 ms per loop (mean ± std. dev. of 7 runs, 1 loop each)\n"
     ]
    }
   ],
   "source": [
    "%%timeit\n",
    "arr = xarray.open_dataset(paths[0])"
   ]
  },
  {
   "cell_type": "code",
   "execution_count": 50,
   "metadata": {},
   "outputs": [
    {
     "name": "stdout",
     "output_type": "stream",
     "text": [
      "FstO3_IAM_CR\n",
      "SURF_ug_PM_POM_F_FFUEL\n",
      "SURF_ug_DUST_NAT_C\n",
      "Psurf_d\n",
      "SURF_ug_FFIRE_REMPPM25\n",
      "SURF_ug_DUST_SAH_C\n",
      "SURF_ug_PPM25\n",
      "SURF_ppb_PAN\n",
      "DDEP_RDN_m2Grid\n",
      "LAI_TC\n",
      "Emis_mgm2_voc\n",
      "SURF_ug_DUST_ROAD_C\n",
      "DDEP_SOX_m2Grid\n",
      "SURF_ug_NH4_F\n",
      "SURF_ug_PPM_C\n",
      "SURF_ug_TNO3\n",
      "Emis_mgm2_pm25\n",
      "SURF_ug_DUST_SAH_F\n",
      "SURF_ug_PM25X\n",
      "Emis_mgm2_nox\n",
      "SURF_ug_SEASALT_F\n",
      "WDEP_RDN\n",
      "Emis_mgm2_DMS\n",
      "LAI_BF\n",
      "SURF_ug_PM25_rh50\n",
      "WDEP_SO2\n",
      "SURF_ug_DUST_ROAD_F\n",
      "SURF_ug_PM_OMCOARSE\n",
      "Emis_mgm2_BioNatC5H8\n",
      "SURF_ppb_NO3\n",
      "LAI_IAM_DF\n",
      "Emis_mgm2_BioNatNO\n",
      "SURF_MAXO3\n",
      "SURF_ppb_RN222\n",
      "SURF_ug_PM_NONVOLPCM\n",
      "SURF_ug_ECFINE\n",
      "WDEP_PREC\n",
      "XNCOL_CO\n",
      "Emis_mgm2_BioNatAPINENE\n",
      "SURF_ugN_NOX\n",
      "AOD_550nm\n",
      "LAI_IAM_CR\n",
      "SURF_ug_PM_PMFINE\n",
      "SURF_ug_FFIRE_OM\n",
      "SURF_ug_NO\n",
      "USTAR_IAM_DF\n",
      "PSURF\n",
      "SURF_ug_PM10_rh50\n",
      "SURF_ppb_SO2\n",
      "WDEP_SOX\n",
      "SURF_ug_ASH\n",
      "USTAR_IAM_CR\n",
      "VG_O3_Grid\n",
      "CanopyO3_GR\n",
      "WDEP_HNO3\n",
      "SURF_ppb_OXN\n",
      "SURF_ppb_MPAN\n",
      "LAI_GR\n",
      "i_EMEP\n",
      "SURF_ug_PM_OM25\n",
      "SURF_ug_HNO3\n",
      "SURF_ug_NO3_F\n",
      "DDEP_STO_O3_m2Grid\n",
      "CanopyO3_BF\n",
      "SURF_ppb_HCHO\n",
      "SURF_ug_POM_F_FFUEL\n",
      "SURF_ugN_RDN\n",
      "XNCOL_OH\n",
      "SURF_ppb_O3\n",
      "XNCOL_CH4\n",
      "FstO3_GR\n",
      "SURF_ugC_PM_OMCOARSE\n",
      "LAI_DF\n",
      "FstO3_BF\n",
      "SURF_ug_PMCO\n",
      "SURF_ug_PM_BSOA\n",
      "SURF_ug_BSOA\n",
      "SURF_ug_SEASALT_C\n",
      "SURF_ug_O3\n",
      "SURF_ppb_N2O5\n",
      "SURF_ug_DUST_WB_C\n",
      "SURF_ug_SS\n",
      "SURF_ug_DUST_WB_F\n",
      "SURF_ug_PM25X_rh50\n",
      "XNCOL_NO2\n",
      "SURF_PM25water\n",
      "COLUMN_CH4_k20\n",
      "CanopyO3_IAM_DF\n",
      "SURF_ug_PM_ASOA\n",
      "SURF_ug_PMFINE\n",
      "DDEP_O3_m2Grid\n",
      "SURF_ug_DUST\n",
      "SURF_ug_PM10\n",
      "SURF_ugC_PM_OM25\n",
      "SURF_molec_ISRO2\n",
      "USTAR_BF\n",
      "WDEP_OXN\n",
      "SURF_ppb_HNO3\n",
      "SURF_ug_PM25\n",
      "EXT_550nm\n",
      "Emis_mgm2_co\n",
      "CanopyO3_TC\n",
      "SURF_ug_SO4\n",
      "CanopyO3_DF\n",
      "DDEP_OXN_m2Grid\n",
      "Emis_mgm2_nh3\n",
      "SURF_ppb_C5H8\n",
      "USTAR_TC\n",
      "SURF_ppb_CO\n",
      "FstO3_IAM_DF\n",
      "T2m\n",
      "SURF_ug_SIA\n",
      "SURF_ppbC_VOC\n",
      "SURF_ug_NH3\n",
      "SURF_ppb_NO\n",
      "FstO3_TC\n",
      "SURF_molec_OH\n",
      "j_EMEP\n",
      "SURF_ugN_OXN\n",
      "SURF_ug_ECCOARSE\n",
      "CanopyO3_IAM_CR\n",
      "Emis_mgm2_sox\n",
      "COLUMN_NO2_k20\n",
      "FstO3_DF\n",
      "USTAR_GR\n",
      "USTAR_DF\n",
      "SURF_ug_NO2\n",
      "SURF_ug_DUST_NAT_F\n",
      "COLUMN_CO_k20\n",
      "D3_Zmid\n",
      "SURF_ppb_NH3\n",
      "Emis_mgm2_pmco\n",
      "SURF_ug_NO3_C\n",
      "SURF_ug_PPM25_FIRE\n",
      "SURF_ug_SO2\n",
      "SURF_ug_FFIRE_BC\n",
      "SURF_ppb_NO2\n"
     ]
    }
   ],
   "source": [
    "for cube in cubes:\n",
    "    print(cube.var_name)"
   ]
  },
  {
   "cell_type": "code",
   "execution_count": 60,
   "metadata": {},
   "outputs": [
    {
     "data": {
      "text/plain": [
       "<xarray.Variable (time: 366, j: 159, i: 132)>\n",
       "[7681608 values with dtype=float32]\n",
       "Attributes:\n",
       "    long_name:           AOD_550nm\n",
       "    grid_mapping:        Polar_Stereographic\n",
       "    units:               \n",
       "    class:               AOD:GROUP\n",
       "    current_date_first:  [2012    1    2    6]\n",
       "    numberofrecords:     366\n",
       "    current_date_last:   [2013    1    1    0]"
      ]
     },
     "execution_count": 60,
     "metadata": {},
     "output_type": "execute_result"
    }
   ],
   "source": [
    "arr.variables[\"AOD_550nm\"]"
   ]
  },
  {
   "cell_type": "code",
   "execution_count": 80,
   "metadata": {},
   "outputs": [
    {
     "name": "stdout",
     "output_type": "stream",
     "text": [
      "AOD_550nm / (1)                     (time: 366; -- : 159; -- : 132)\n",
      "     Dimension coordinates:\n",
      "          time                           x         -         -\n",
      "     Auxiliary coordinates:\n",
      "          latitude                       -         x         x\n",
      "          longitude                      -         x         x\n",
      "     Attributes:\n",
      "          Conventions: CF-1.6\n",
      "          author_of_run: Unimod group\n",
      "          class: AOD:GROUP\n",
      "          created_date: 20160630\n",
      "          created_hour: 152416.485\n",
      "          current_date_first: [2012    1    2    6]\n",
      "          current_date_last: [2013    1    1    0]\n",
      "          lastmodified_date: 20160630\n",
      "          lastmodified_hour: 190220.461\n",
      "          model: EMEP_MSC-W\n",
      "          numberofrecords: 366\n",
      "          period_type: daily\n",
      "          projection: Stereographic\n",
      "          projection_params: 90.0 -32.0 0.933013\n",
      "          run_label: 3245_EmChem09soa_svnexporte_2012_Trend_2012_Trend2012\n",
      "          vert_coord: atmosphere_hybrid_sigma_pressure_coordinate\n"
     ]
    }
   ],
   "source": [
    "import iris.plot as iplt\n",
    "import iris.quickplot as qplt\n",
    "import matplotlib.pyplot as plt\n",
    "\n",
    "cube = [c for c in cubes if c.var_name==\"AOD_550nm\"][0]\n",
    "print(cube)"
   ]
  },
  {
   "cell_type": "code",
   "execution_count": 82,
   "metadata": {},
   "outputs": [
    {
     "data": {
      "text/plain": [
       "'Stereographic'"
      ]
     },
     "execution_count": 82,
     "metadata": {},
     "output_type": "execute_result"
    }
   ],
   "source": [
    "cube.attributes[\"projection\"]"
   ]
  }
 ],
 "metadata": {
  "kernelspec": {
   "display_name": "Python 3",
   "language": "python",
   "name": "python3"
  },
  "language_info": {
   "codemirror_mode": {
    "name": "ipython",
    "version": 3
   },
   "file_extension": ".py",
   "mimetype": "text/x-python",
   "name": "python",
   "nbconvert_exporter": "python",
   "pygments_lexer": "ipython3",
   "version": "3.6.4"
  }
 },
 "nbformat": 4,
 "nbformat_minor": 2
}
